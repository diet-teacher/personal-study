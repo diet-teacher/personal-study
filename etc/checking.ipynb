{
 "cells": [
  {
   "cell_type": "code",
   "execution_count": 2,
   "id": "12f78062",
   "metadata": {},
   "outputs": [
    {
     "name": "stdout",
     "output_type": "stream",
     "text": [
      "f1's type = <class 'float'>\n",
      "f2's type = <class 'float'>\n"
     ]
    }
   ],
   "source": [
    "f1 = 10.\n",
    "f2 = 444444444444444444444444.4444444444444444444444444444444\n",
    "print(\"f1's type =\", type(f1))\n",
    "print(\"f2's type =\", type(f2))"
   ]
  },
  {
   "cell_type": "code",
   "execution_count": null,
   "id": "7a444c64",
   "metadata": {},
   "outputs": [],
   "source": []
  }
 ],
 "metadata": {
  "kernelspec": {
   "display_name": "Python 3 (ipykernel)",
   "language": "python",
   "name": "python3"
  },
  "language_info": {
   "codemirror_mode": {
    "name": "ipython",
    "version": 3
   },
   "file_extension": ".py",
   "mimetype": "text/x-python",
   "name": "python",
   "nbconvert_exporter": "python",
   "pygments_lexer": "ipython3",
   "version": "3.11.3"
  }
 },
 "nbformat": 4,
 "nbformat_minor": 5
}
