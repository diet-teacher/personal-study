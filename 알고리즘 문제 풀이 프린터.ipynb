{
 "cells": [
  {
   "cell_type": "markdown",
   "id": "53124f6a",
   "metadata": {},
   "source": [
    "문제 설명\n",
    "\n",
    "일반적인 프린터는 인쇄 요청이 들어온 순서대로 인쇄합니다. 그렇기 때문에 중요한 문서가 나중에 인쇄될 수 있습니다. 이런 문제를 보완하기 위해 중요도가 높은 문서를 먼저 인쇄하는 프린터를 개발했습니다. 이 새롭게 개발한 프린터는 아래와 같은 방식으로 인쇄 작업을 수행합니다.\n",
    "\n",
    "1. 인쇄 대기목록의 가장 앞에 있는 문서(J)를 대기목록에서 꺼냅니다.\n",
    "2. 나머지 인쇄 대기목록에서 J보다 중요도가 높은 문서가 한 개라도 존재하면 J를 대기목록의 가장 마지막에 넣습니다.\n",
    "3. 그렇지 않으면 J를 인쇄합니다.\n",
    "\n",
    "예를 들어, 4개의 문서(A, B, C, D)가 순서대로 인쇄 대기목록에 있고 중요도가 2 1 3 2 라면 C D A B 순으로 인쇄하게 됩니다.\n",
    "내가 인쇄를 요청한 문서가 몇 번째로 인쇄되는지 알고 싶습니다. 위의 예에서 C는 1번째로, A는 3번째로 인쇄됩니다.\n",
    "현재 대기목록에 있는 문서의 중요도가 순서대로 담긴 배열 priorities와 내가 인쇄를 요청한 문서가 현재 대기목록의 어떤 위치에 있는지를 알려주는 location이 매개변수로 주어질 때, 내가 인쇄를 요청한 문서가 몇 번째로 인쇄되는지 return 하도록 solution 함수를 작성해주세요."
   ]
  },
  {
   "cell_type": "code",
   "execution_count": null,
   "id": "c3d30fbe",
   "metadata": {},
   "outputs": [],
   "source": [
    "# "
   ]
  },
  {
   "cell_type": "code",
   "execution_count": 7,
   "id": "91dd4553",
   "metadata": {},
   "outputs": [
    {
     "name": "stdout",
     "output_type": "stream",
     "text": [
      "2\n",
      "2\n",
      "2\n",
      "2\n",
      "1\n",
      "1\n",
      "1\n",
      "1\n",
      "3\n",
      "3\n",
      "3\n",
      "3\n",
      "2\n",
      "2\n",
      "2\n",
      "2\n"
     ]
    }
   ],
   "source": [
    "priorities = [2,1,3,2]\n",
    "\n",
    "for i in range(len(priorities)):\n",
    "    for j in priorities:\n",
    "        print(priorities[i])\n",
    "#         if j <= priorities[i]:\n",
    "            "
   ]
  },
  {
   "cell_type": "code",
   "execution_count": null,
   "id": "64aa898e",
   "metadata": {},
   "outputs": [],
   "source": [
    "priorities = [1,1,9,1,1,1]"
   ]
  },
  {
   "cell_type": "code",
   "execution_count": null,
   "id": "da497c6c",
   "metadata": {},
   "outputs": [],
   "source": [
    "priorities = [2,1,3,2]\n",
    "\n",
    "for i in range(len(priorities)):\n",
    "    priorities1 = priorities\n",
    "    while True:\n",
    "        if priorities[i] < pri\n",
    "#         if j <= priorities[i]:"
   ]
  },
  {
   "cell_type": "code",
   "execution_count": 2,
   "id": "90757f51",
   "metadata": {},
   "outputs": [
    {
     "name": "stdout",
     "output_type": "stream",
     "text": [
      "[2, 2, 1, 3]\n"
     ]
    }
   ],
   "source": [
    "priorities = [2,1,3,2]\n",
    "\n",
    "while True:\n",
    "    priorities1 = priorities\n",
    "    for i in range(len(priorities)):\n",
    "        for j in priorities:\n",
    "            if priorities[i] < priorities1[j]:\n",
    "                il = priorities.pop(0)\n",
    "                priorities.append(il)\n",
    "                break\n",
    "    if priorities == priorities1:\n",
    "        break\n",
    "print(priorities)"
   ]
  },
  {
   "cell_type": "code",
   "execution_count": null,
   "id": "e788282f",
   "metadata": {},
   "outputs": [],
   "source": []
  }
 ],
 "metadata": {
  "kernelspec": {
   "display_name": "Python 3 (ipykernel)",
   "language": "python",
   "name": "python3"
  },
  "language_info": {
   "codemirror_mode": {
    "name": "ipython",
    "version": 3
   },
   "file_extension": ".py",
   "mimetype": "text/x-python",
   "name": "python",
   "nbconvert_exporter": "python",
   "pygments_lexer": "ipython3",
   "version": "3.9.12"
  }
 },
 "nbformat": 4,
 "nbformat_minor": 5
}
