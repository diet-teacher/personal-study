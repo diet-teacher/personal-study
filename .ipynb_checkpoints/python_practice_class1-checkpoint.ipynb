{
 "cells": [
  {
   "cell_type": "code",
   "execution_count": 1,
   "id": "0e2a0756",
   "metadata": {},
   "outputs": [],
   "source": [
    "class Bicycle():\n",
    "    pass"
   ]
  },
  {
   "cell_type": "code",
   "execution_count": 2,
   "id": "29d8b4c5",
   "metadata": {},
   "outputs": [
    {
     "data": {
      "text/plain": [
       "<__main__.Bicycle at 0x7fe00aee25b0>"
      ]
     },
     "execution_count": 2,
     "metadata": {},
     "output_type": "execute_result"
    }
   ],
   "source": [
    "my_bicycle = Bicycle()\n",
    "my_bicycle"
   ]
  },
  {
   "cell_type": "code",
   "execution_count": 3,
   "id": "cdc83a9e",
   "metadata": {},
   "outputs": [
    {
     "name": "stdout",
     "output_type": "stream",
     "text": [
      "바퀴 크기 : 32\n",
      "색 : red\n"
     ]
    }
   ],
   "source": [
    "my_bicycle.wheel_size = 32\n",
    "my_bicycle.color = 'red'\n",
    "print('바퀴 크기 :', my_bicycle.wheel_size)\n",
    "print('색 :', my_bicycle.color)"
   ]
  },
  {
   "cell_type": "code",
   "execution_count": 26,
   "id": "59a42738",
   "metadata": {},
   "outputs": [],
   "source": [
    "class Bicycle():\n",
    "    \n",
    "    def move(self, speed):\n",
    "        print('자전거 : 시속 {0}킬로미터로 전진'.format(speed))\n",
    "        \n",
    "    def turn(self, direction):\n",
    "        print('자전거 : turn {0}'.format(direction))\n",
    "    \n",
    "    def stop(self):\n",
    "        print('자전거({0},{1}): 정지'.format(self.wheel_size, self.color))"
   ]
  },
  {
   "cell_type": "code",
   "execution_count": 27,
   "id": "bebe988f",
   "metadata": {},
   "outputs": [
    {
     "name": "stdout",
     "output_type": "stream",
     "text": [
      "자전거 : 시속 30킬로미터로 전진\n",
      "자전거 : turn right\n",
      "자전거(32,red): 정지\n"
     ]
    },
    {
     "data": {
      "text/plain": [
       "<bound method Bicycle.stop of <__main__.Bicycle object at 0x7fe00add3460>>"
      ]
     },
     "execution_count": 27,
     "metadata": {},
     "output_type": "execute_result"
    }
   ],
   "source": [
    "my_bicycle = Bicycle() #Bicycle 클래스의 인스턴트인 my_bicycle 객체 생성\n",
    "\n",
    "my_bicycle.wheel_size = 32 #객체의 속성 설정\n",
    "my_bicycle.color = 'red'\n",
    "my_bicycle.type = 'MTB'\n",
    "\n",
    "my_bicycle.move(30) #객체의 메서드 호출\n",
    "my_bicycle.turn('right')\n",
    "my_bicycle.stop()\n",
    "my_bicycle.stop"
   ]
  },
  {
   "cell_type": "code",
   "execution_count": 28,
   "id": "362909ec",
   "metadata": {},
   "outputs": [
    {
     "name": "stdout",
     "output_type": "stream",
     "text": [
      "자전거 : 시속 30킬로미터로 전진\n",
      "자전거 : turn right\n",
      "자전거(32,red): 정지\n"
     ]
    }
   ],
   "source": [
    "bicycle1 = Bicycle()\n",
    "my_bicycle.move(30) #객체의 메서드 호출\n",
    "my_bicycle.turn('right')\n",
    "my_bicycle.stop()"
   ]
  },
  {
   "cell_type": "code",
   "execution_count": 29,
   "id": "4ffcb3f2",
   "metadata": {},
   "outputs": [],
   "source": [
    "# __init__()을 구현하면 객체를 생성함과 동시에 속성값을 설정 가능\n",
    "# 객체의 속성 예시 : my_bicycle.wheel_size = 32 ,my_bicycle.color = 'red'\n",
    "\n",
    "\n",
    "class Bicycle_with_init():\n",
    "    \n",
    "    def __init__(self, wheel_size, color):\n",
    "        self.wheel_size = wheel_size\n",
    "        self.color = color\n",
    "    \n",
    "    def move(self, speed):\n",
    "        print('자전거 : 시속 {0}킬로미터로 전진'.format(speed))\n",
    "        \n",
    "    def turn(self, direction):\n",
    "        print('자전거 : turn {0}'.format(direction))\n",
    "    \n",
    "    def stop(self):\n",
    "        print('자전거({0},{1}): 정지'.format(self.wheel_size, self.color))"
   ]
  },
  {
   "cell_type": "code",
   "execution_count": 30,
   "id": "4bdc3a08",
   "metadata": {},
   "outputs": [
    {
     "name": "stdout",
     "output_type": "stream",
     "text": [
      "자전거 : 시속 30킬로미터로 전진\n",
      "자전거 : turn right\n",
      "자전거(32,red): 정지\n"
     ]
    }
   ],
   "source": [
    "bicycle1 = Bicycle_with_init(32, 'red')\n",
    "my_bicycle.move(30)\n",
    "my_bicycle.turn('right')\n",
    "my_bicycle.stop()"
   ]
  },
  {
   "cell_type": "code",
   "execution_count": null,
   "id": "5b592d65",
   "metadata": {},
   "outputs": [],
   "source": []
  }
 ],
 "metadata": {
  "kernelspec": {
   "display_name": "Python 3 (ipykernel)",
   "language": "python",
   "name": "python3"
  },
  "language_info": {
   "codemirror_mode": {
    "name": "ipython",
    "version": 3
   },
   "file_extension": ".py",
   "mimetype": "text/x-python",
   "name": "python",
   "nbconvert_exporter": "python",
   "pygments_lexer": "ipython3",
   "version": "3.9.13"
  }
 },
 "nbformat": 4,
 "nbformat_minor": 5
}
