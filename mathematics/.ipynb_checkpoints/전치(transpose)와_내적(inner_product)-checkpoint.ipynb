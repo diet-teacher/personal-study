{
 "cells": [
  {
   "cell_type": "code",
   "execution_count": 7,
   "id": "93b14c80",
   "metadata": {},
   "outputs": [],
   "source": [
    "import numpy as np\n",
    "import matplotlib.pyplot as plt"
   ]
  },
  {
   "cell_type": "markdown",
   "id": "f1567a9e",
   "metadata": {},
   "source": [
    "# 전치(transpose)"
   ]
  },
  {
   "cell_type": "raw",
   "id": "667083f9",
   "metadata": {},
   "source": [
    "행렬 각각의 a의 i행(row) j열(column)의 값을 a j열 i행으로 변환 시켜준다.\n",
    "\n",
    "행렬(matrix)\n",
    "[[a11, a12, a13],\n",
    " [a21, a22. a23],\n",
    " [a31, a32, a33]]\n",
    "    이 있을 때 전치(transpose)를 하게되면\n",
    "    \n",
    "행렬(matrix)\n",
    "[[a11, a21, a31],\n",
    " [a12, a22. a32],\n",
    " [a13, a23, a33]]\n",
    " \n",
    " 으로 바뀜"
   ]
  },
  {
   "cell_type": "code",
   "execution_count": 40,
   "id": "72d14b00",
   "metadata": {},
   "outputs": [
    {
     "name": "stdout",
     "output_type": "stream",
     "text": [
      "array : \n",
      " [[1 2 3]\n",
      " [4 5 6]\n",
      " [7 8 9]] \n",
      "\n",
      "transposed : \n",
      " [[1 4 7]\n",
      " [2 5 8]\n",
      " [3 6 9]]\n"
     ]
    }
   ],
   "source": [
    "array1 = np.array([[1,2,3],[4,5,6], [7,8,9]])\n",
    "print('array : \\n',array1,'\\n')\n",
    "transposed1 = np.transpose(array1)\n",
    "print('transposed : \\n', transposed1)"
   ]
  },
  {
   "cell_type": "raw",
   "id": "98df5fef",
   "metadata": {},
   "source": [
    "행렬 A와 X가 있을 때\n",
    "(A*X)T가 (B)T라면 # T는 transpose\n",
    "(X)T*(A)T = (B)T이다."
   ]
  },
  {
   "cell_type": "code",
   "execution_count": 41,
   "id": "1396fc63",
   "metadata": {},
   "outputs": [
    {
     "name": "stdout",
     "output_type": "stream",
     "text": [
      "array1 * array2 = B: \n",
      " [[ 28]\n",
      " [ 64]\n",
      " [100]] \n",
      "\n",
      "(array1 * array2)T : \n",
      " [[ 28  64 100]] \n",
      "\n",
      "(array2)T * (array1)T : \n",
      " [[ 28  64 100]] \n",
      "\n"
     ]
    }
   ],
   "source": [
    "array2 = np.array([[2],[4],[6]])\n",
    "transposed2 = np.transpose(array2)\n",
    "print('array1 * array2 = B: \\n',np.dot(array1, array2), '\\n')\n",
    "\n",
    "print('(array1 * array2)T : \\n', np.transpose(np.dot(array1, array2)),'\\n')\n",
    "\n",
    "print('(array2)T * (array1)T : \\n', np.dot(transposed2,transposed1), '\\n')"
   ]
  },
  {
   "cell_type": "code",
   "execution_count": 42,
   "id": "1a1e5924",
   "metadata": {},
   "outputs": [
    {
     "name": "stdout",
     "output_type": "stream",
     "text": [
      "array1 * array3 : \n",
      " [[ 28  34]\n",
      " [ 64  79]\n",
      " [100 124]] \n",
      "\n",
      "(array1 * array3)T : \n",
      " [[ 28  64 100]\n",
      " [ 34  79 124]] \n",
      "\n",
      "(array3)T * (array1)T : \n",
      " [[ 28  64 100]\n",
      " [ 34  79 124]] \n",
      "\n"
     ]
    }
   ],
   "source": [
    "array3 = np.array([[2,3],[4,5],[6,7]])\n",
    "transposed3 = np.transpose(array3)\n",
    "print('array1 * array3 : \\n',np.dot(array1, array3), '\\n')\n",
    "\n",
    "print('(array1 * array3)T : \\n', np.transpose(np.dot(array1, array3)),'\\n')\n",
    "\n",
    "print('(array3)T * (array1)T : \\n', np.dot(transposed3,transposed1), '\\n')"
   ]
  },
  {
   "cell_type": "markdown",
   "id": "939a3ba7",
   "metadata": {},
   "source": [
    "# 내적(inner product)"
   ]
  },
  {
   "cell_type": "raw",
   "id": "e679a9fb",
   "metadata": {},
   "source": [
    "l1_norm = |a|+|b| = (|a|^1+|b|^1)^(1/1)\n",
    "\n",
    "l2_norm = root(a^2+b^2) = (|a|^2+|b|^2)^(1/2) # 피타고라스 정리의 빗변 길이와 같음"
   ]
  },
  {
   "cell_type": "raw",
   "id": "5774d9f0",
   "metadata": {},
   "source": [
    "내적의 정의 : [[a1],   [[b1],     \n",
    "            [a2]] *  [b2]]  =  a1*b1+a2*b2 = (A)T*B   # T는 transpose\n",
    "            \n",
    "벡터공간 V에서 임의의 두 벡터 a, b에 대해 하나의 스칼라량을 대응시키는 연산. 스칼라곱 이라고도 한다."
   ]
  },
  {
   "cell_type": "code",
   "execution_count": 4,
   "id": "1790e957",
   "metadata": {},
   "outputs": [
    {
     "name": "stdout",
     "output_type": "stream",
     "text": [
      "내적(inner product) = [[32]]\n"
     ]
    }
   ],
   "source": [
    "A = np.array([[1],\n",
    "              [2],\n",
    "              [3]])\n",
    "\n",
    "B = np.array([[4],\n",
    "              [5],\n",
    "              [6]])\n",
    "\n",
    "inner_product = np.dot(np.transpose(A), B)\n",
    "\n",
    "print('내적(inner product) =', inner_product)"
   ]
  },
  {
   "cell_type": "raw",
   "id": "aedcb3d8",
   "metadata": {},
   "source": [
    "내적의 정의 : [[a1],   [[b1],     \n",
    "            [a2],  * [b2],  =  a1*b1+a2*b2+a3*b3 = ||A||*||B||*cos𝛉(theta = 두 백터의 사잇값)\n",
    "            [a3]]    [b3]]\n",
    "백터의 크기는 ||로 감싸서 나타냄\n",
    "ex) 위 셀에서 백터 A와 B의 크기는 각각 ||A||와 ||B||로 나타냄\n",
    "\n",
    "보통 ||A||와 ||B||로 나타내는 경우 보통 l2_norm이라고 생각하면 됨."
   ]
  },
  {
   "cell_type": "code",
   "execution_count": 72,
   "id": "64620ad9",
   "metadata": {},
   "outputs": [
    {
     "name": "stderr",
     "output_type": "stream",
     "text": [
      "No artists with labels found to put in legend.  Note that artists whose label start with an underscore are ignored when legend() is called with no argument.\n"
     ]
    },
    {
     "data": {
      "image/png": "[encoded data removed]",
      "text/plain": [
       "<Figure size 640x480 with 1 Axes>"
      ]
     },
     "metadata": {},
     "output_type": "display_data"
    }
   ],
   "source": [
    "a = [0,0]\n",
    "b = [0,4*np.sin(np.pi/3)]\n",
    "c = [0,2]\n",
    "\n",
    "plt.plot(c, a,\n",
    "        color='skyblue',\n",
    "        marker='o', markerfacecolor='blue',\n",
    "        markersize=6)\n",
    "plt.plot(c, b,\n",
    "        color='orange',\n",
    "        marker='o', markerfacecolor='red',\n",
    "        markersize=6)\n",
    "plt.yticks(np.arange(0, 5, 1))\n",
    "plt.xticks(np.arange(0, 5, 1))\n",
    "plt.ylim(-0.2, 4.5)\n",
    "plt.xlim(-0.2, 3)\n",
    "plt.legend()\n",
    "plt.show()"
   ]
  },
  {
   "cell_type": "code",
   "execution_count": 102,
   "id": "4398db9f",
   "metadata": {},
   "outputs": [
    {
     "name": "stdout",
     "output_type": "stream",
     "text": [
      "||a||•||b|| = (A)T*B = [[4.]] \n",
      "\n",
      "||a||•||b|| = ||A||*||B||*cos𝛉 = [4.]\n"
     ]
    }
   ],
   "source": [
    "# (A)T*B == ||A||*||B||*cos𝛉\n",
    "\n",
    "'''내적의 정의 : [[a1],   [[b1],     \n",
    "               [a2]] *  [b2]]  =  a1*b1+a2*b2 = (A)T*B'''\n",
    "\n",
    "a = np.array([[2],\n",
    "             [4*np.sin(np.pi/3)]])\n",
    "\n",
    "b = np.array([[2],\n",
    "             [0]])\n",
    "\n",
    "print('||a||•||b|| = (A)T*B =', np.dot(np.transpose(a),b),'\\n')\n",
    "\n",
    "'''내적의 정의 : [[a1],   [[b1],     \n",
    "            [a2],  * [b2],  =  a1*b1+a2*b2+a3*b3 = ||A||*||B||*cos𝛉(theta = 두 백터의 사잇값)'''\n",
    "\n",
    "\n",
    "\n",
    "print('||a||•||b|| = ||A||*||B||*cos𝛉 =', np.sqrt((a[0]**2+a[1]**2))*np.sqrt((b[0]**2+b[1]**2))*np.cos(np.pi/3)) "
   ]
  }
 ],
 "metadata": {
  "kernelspec": {
   "display_name": "Python 3 (ipykernel)",
   "language": "python",
   "name": "python3"
  },
  "language_info": {
   "codemirror_mode": {
    "name": "ipython",
    "version": 3
   },
   "file_extension": ".py",
   "mimetype": "text/x-python",
   "name": "python",
   "nbconvert_exporter": "python",
   "pygments_lexer": "ipython3",
   "version": "3.9.13"
  }
 },
 "nbformat": 4,
 "nbformat_minor": 5
}
