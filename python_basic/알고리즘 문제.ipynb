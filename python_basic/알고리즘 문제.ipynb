{
 "cells": [
  {
   "cell_type": "code",
   "execution_count": 12,
   "id": "472bc244",
   "metadata": {},
   "outputs": [
    {
     "name": "stdout",
     "output_type": "stream",
     "text": [
      "게임 횟수3\n",
      "사탕의 갯수3 3 3\n",
      "2\n"
     ]
    }
   ],
   "source": [
    "import random\n",
    "\n",
    "t = int(input('게임 횟수'))\n",
    "n = input('사탕의 갯수').split()\n",
    "ni = list(map(int, n))\n",
    "goo = 0\n",
    "frd = 0\n",
    "for i in range(t):\n",
    "    count = 0\n",
    "\n",
    "    while ni[i] > 0:\n",
    "        tc = [1,3]\n",
    "        take = random.randint(0,1)\n",
    "        ni[i] -= tc[take]\n",
    "        count += 1\n",
    "    if count % 2 == 1:\n",
    "        goo += 1\n",
    "    elif count % 2 == 0:\n",
    "        frd += 1\n",
    "    \n",
    "if goo > frd:\n",
    "    print(goo)\n",
    "elif frd > goo:\n",
    "    print(frd)\n",
    "elif goo == frd:\n",
    "    print('tie')"
   ]
  },
  {
   "cell_type": "code",
   "execution_count": null,
   "id": "8f78d6e4",
   "metadata": {},
   "outputs": [],
   "source": [
    "print(type(int(user_input2[1])))\n",
    "print(int(user_input2[1]))"
   ]
  },
  {
   "cell_type": "code",
   "execution_count": 109,
   "id": "2be9c040",
   "metadata": {},
   "outputs": [
    {
     "name": "stdout",
     "output_type": "stream",
     "text": [
      "게임 횟수4\n",
      "사탕의 갯수5 6 7 8\n",
      "<class 'int'>\n",
      "<class 'int'>\n",
      "<class 'int'>\n",
      "<class 'int'>\n"
     ]
    }
   ],
   "source": [
    "# -*- coding: utf-8 -*-\n",
    "# UTF-8 encoding when using korean\n",
    "import random\n",
    "\n",
    "user_input1 = int(input('게임 횟수'))\n",
    "user_input2 = input('사탕의 갯수').split()\n",
    "\n",
    "tc = [1,3]\n",
    "take = random.randint(0,1)\n",
    "goo = 0\n",
    "frd = 0\n",
    "count = 0\n",
    "for i in range(user_input1):\n",
    "    print(type(int(user_input2[i])))9"
   ]
  },
  {
   "cell_type": "code",
   "execution_count": 63,
   "id": "9c0a3848",
   "metadata": {},
   "outputs": [],
   "source": [
    "import random"
   ]
  },
  {
   "cell_type": "code",
   "execution_count": 87,
   "id": "1bee499e",
   "metadata": {},
   "outputs": [
    {
     "name": "stdout",
     "output_type": "stream",
     "text": [
      "3\n"
     ]
    }
   ],
   "source": [
    "lst = [1, 3]\n",
    "\n",
    "take = random.randint(0,1)\n",
    "print(lst[take])"
   ]
  },
  {
   "cell_type": "code",
   "execution_count": 132,
   "id": "8f82aca5",
   "metadata": {},
   "outputs": [
    {
     "name": "stdout",
     "output_type": "stream",
     "text": [
      "8\n",
      "6\n",
      "4\n",
      "2\n",
      "0\n"
     ]
    }
   ],
   "source": [
    "a=5\n",
    "b=10\n",
    "for i in range(a):\n",
    "    if  b > 0:\n",
    "        b -= 2\n",
    "    \n",
    "    print(b)"
   ]
  },
  {
   "cell_type": "code",
   "execution_count": null,
   "id": "53f819d9",
   "metadata": {},
   "outputs": [],
   "source": []
  },
  {
   "cell_type": "code",
   "execution_count": null,
   "id": "5d2677c1",
   "metadata": {},
   "outputs": [],
   "source": []
  },
  {
   "cell_type": "code",
   "execution_count": 27,
   "id": "3ce3e422",
   "metadata": {},
   "outputs": [
    {
     "name": "stdout",
     "output_type": "stream",
     "text": [
      "무릎 크기3\n",
      "상처 부위2 2 2\n"
     ]
    },
    {
     "ename": "TypeError",
     "evalue": "list indices must be integers or slices, not list",
     "output_type": "error",
     "traceback": [
      "\u001b[0;31m---------------------------------------------------------------------------\u001b[0m",
      "\u001b[0;31mTypeError\u001b[0m                                 Traceback (most recent call last)",
      "\u001b[0;32m/var/folders/fl/lytw3yqx5913yh2tcxgw3d740000gn/T/ipykernel_2451/1413793022.py\u001b[0m in \u001b[0;36m<module>\u001b[0;34m\u001b[0m\n\u001b[1;32m      8\u001b[0m     \u001b[0mlst\u001b[0m\u001b[0;34m.\u001b[0m\u001b[0mappend\u001b[0m\u001b[0;34m(\u001b[0m\u001b[0mni\u001b[0m\u001b[0;34m)\u001b[0m\u001b[0;34m\u001b[0m\u001b[0;34m\u001b[0m\u001b[0m\n\u001b[1;32m      9\u001b[0m     \u001b[0;32mfor\u001b[0m \u001b[0mj\u001b[0m \u001b[0;32min\u001b[0m \u001b[0mlst\u001b[0m\u001b[0;34m:\u001b[0m\u001b[0;34m\u001b[0m\u001b[0;34m\u001b[0m\u001b[0m\n\u001b[0;32m---> 10\u001b[0;31m         \u001b[0mprint\u001b[0m\u001b[0;34m(\u001b[0m\u001b[0mlst\u001b[0m\u001b[0;34m[\u001b[0m\u001b[0mj\u001b[0m\u001b[0;34m]\u001b[0m\u001b[0;34m)\u001b[0m\u001b[0;34m\u001b[0m\u001b[0;34m\u001b[0m\u001b[0m\n\u001b[0m\u001b[1;32m     11\u001b[0m \u001b[0;34m\u001b[0m\u001b[0m\n\u001b[1;32m     12\u001b[0m \u001b[0mprint\u001b[0m\u001b[0;34m(\u001b[0m\u001b[0mlst\u001b[0m\u001b[0;34m)\u001b[0m\u001b[0;34m\u001b[0m\u001b[0;34m\u001b[0m\u001b[0m\n",
      "\u001b[0;31mTypeError\u001b[0m: list indices must be integers or slices, not list"
     ]
    }
   ],
   "source": [
    "t = int(input('무릎 크기'))\n",
    "lst = []\n",
    "\n",
    "for i in range(t):\n",
    "    n = input('상처 부위').split()\n",
    "    ni = list(map(int, n))\n",
    "#     if ni[i] == 1:\n",
    "    lst.append(ni)\n",
    "    for j in lst:\n",
    "        print(lst[j])\n",
    "\n",
    "print(lst)"
   ]
  },
  {
   "cell_type": "code",
   "execution_count": 20,
   "id": "adc5befa",
   "metadata": {},
   "outputs": [
    {
     "name": "stdout",
     "output_type": "stream",
     "text": [
      "게임 횟수4\n",
      "사탕의 갯수4\n",
      "사탕의 갯수4 4\n",
      "사탕의 갯수4 4 4\n",
      "사탕의 갯수4 4 4 4\n",
      "3\n"
     ]
    }
   ],
   "source": []
  },
  {
   "cell_type": "code",
   "execution_count": 15,
   "id": "c88c4059",
   "metadata": {},
   "outputs": [
    {
     "name": "stdout",
     "output_type": "stream",
     "text": [
      "단어 갯수, 단어 위치7 4\n",
      "단어lst.append(ni)\n",
      "단어applc\n",
      "단어applf\n",
      "단어applg\n",
      "단어applz\n",
      "단어appleq\n",
      "단어applo\n",
      "['applg']\n",
      "[['lst.append(ni)'], ['applc'], ['applf'], ['applg'], ['applz'], ['appleq'], ['applo']]\n"
     ]
    }
   ],
   "source": [
    "n = input('단어 갯수, 단어 위치').split()\n",
    "ni = list(map(int, n))\n",
    "lst = []\n",
    "for i in range(ni[0]):\n",
    "    w = input('단어').split()\n",
    "    lst.append(w)\n",
    "\n",
    "print(lst[ni[1]-1])"
   ]
  },
  {
   "cell_type": "code",
   "execution_count": 37,
   "id": "13aee933",
   "metadata": {},
   "outputs": [
    {
     "name": "stdout",
     "output_type": "stream",
     "text": [
      "['ab', 'ac', 'ad', 'ad', 'b', 'bb', 'bbb', 'c', 'd']\n",
      "['aa']\n"
     ]
    }
   ],
   "source": [
    "lst = ['ad','aa','ad','ac','b','bb','bbb', 'ab', 'c', 'd']\n",
    "lst1 = []\n",
    "lst.sort()\n",
    "lst1.append(lst.pop(0))\n",
    "print(lst)\n",
    "print(lst1)"
   ]
  },
  {
   "cell_type": "code",
   "execution_count": null,
   "id": "091407c9",
   "metadata": {},
   "outputs": [],
   "source": [
    "n = input('단어 갯수, 단어 위치').split()\n",
    "ni = list(map(int, n))\n",
    "lst = []\n",
    "lst1 = []\n",
    "ls = []\n",
    "for i in range(ni[0]):\n",
    "    w = input('단어').split()\n",
    "    lst.append(w)\n",
    "for j in w:\n",
    "    if len(w[j]) lst1.append(w.pop(0))\n",
    "    \n",
    "    \n",
    "for j in \n",
    "print(lst[ni[1]-1])"
   ]
  },
  {
   "cell_type": "code",
   "execution_count": 20,
   "id": "b511db2d",
   "metadata": {},
   "outputs": [
    {
     "name": "stdout",
     "output_type": "stream",
     "text": [
      "['applc', 'apple', 'applf', 'applg', 'applo', 'applq', 'applz']\n"
     ]
    }
   ],
   "source": [
    "lst = ['apple', 'applc', 'applf', 'applg', 'applz', 'applq', 'applo']\n",
    "lst.sort()\n",
    "print(lst)"
   ]
  },
  {
   "cell_type": "code",
   "execution_count": 28,
   "id": "b0ae5a15",
   "metadata": {},
   "outputs": [
    {
     "data": {
      "text/plain": [
       "0"
      ]
     },
     "execution_count": 28,
     "metadata": {},
     "output_type": "execute_result"
    }
   ],
   "source": []
  },
  {
   "cell_type": "code",
   "execution_count": null,
   "id": "3bb60222",
   "metadata": {},
   "outputs": [],
   "source": []
  }
 ],
 "metadata": {
  "kernelspec": {
   "display_name": "Python 3 (ipykernel)",
   "language": "python",
   "name": "python3"
  },
  "language_info": {
   "codemirror_mode": {
    "name": "ipython",
    "version": 3
   },
   "file_extension": ".py",
   "mimetype": "text/x-python",
   "name": "python",
   "nbconvert_exporter": "python",
   "pygments_lexer": "ipython3",
   "version": "3.9.13"
  }
 },
 "nbformat": 4,
 "nbformat_minor": 5
}
