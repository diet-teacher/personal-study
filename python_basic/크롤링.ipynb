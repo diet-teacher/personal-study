{
 "cells": [
  {
   "cell_type": "code",
   "execution_count": 1,
   "id": "0eae73f2",
   "metadata": {},
   "outputs": [],
   "source": [
    "import bs4"
   ]
  },
  {
   "cell_type": "code",
   "execution_count": 2,
   "id": "2332f4da",
   "metadata": {},
   "outputs": [
    {
     "name": "stdout",
     "output_type": "stream",
     "text": [
      "Collecting bs4\n",
      "  Downloading bs4-0.0.1.tar.gz (1.1 kB)\n",
      "Requirement already satisfied: beautifulsoup4 in /opt/anaconda3/lib/python3.9/site-packages (from bs4) (4.11.1)\n",
      "Requirement already satisfied: soupsieve>1.2 in /opt/anaconda3/lib/python3.9/site-packages (from beautifulsoup4->bs4) (2.3.1)\n",
      "Building wheels for collected packages: bs4\n",
      "  Building wheel for bs4 (setup.py) ... \u001b[?25ldone\n",
      "\u001b[?25h  Created wheel for bs4: filename=bs4-0.0.1-py3-none-any.whl size=1272 sha256=714a6c2c2621f76864c4eca3ef4484dac464a6e92e2ba61fdffb9f3a3d5ecc2f\n",
      "  Stored in directory: /Users/iseung-won/Library/Caches/pip/wheels/73/2b/cb/099980278a0c9a3e57ff1a89875ec07bfa0b6fcbebb9a8cad3\n",
      "Successfully built bs4\n",
      "Installing collected packages: bs4\n",
      "Successfully installed bs4-0.0.1\n"
     ]
    }
   ],
   "source": [
    "!pip install bs4"
   ]
  },
  {
   "cell_type": "code",
   "execution_count": 2,
   "id": "9a621a2a",
   "metadata": {},
   "outputs": [],
   "source": [
    "from bs4 import BeautifulSoup\n",
    "\n",
    "ex1=\"\"\"\n",
    "<html lang=\"ko\">\n",
    "    <head>\n",
    "        <meta charset=\"utf-8\">\n",
    "        <title>2022엔코아13</title>\n",
    "    </head>\n",
    "    <body>\n",
    "        <h1>나의 좌우명</h1>\n",
    "        <p>할 수 있다...</p>\n",
    "        <h3>긴급세일!!</h3>\n",
    "        <p>오늘만 애플 아이폰을 <span style=\"color:red\">1만원</span>에 팔아요!</p>\n",
    "        <hr>\n",
    "        <strong>강조하기 strong태그<em>기울이기 em태그</em></strong>\n",
    "        <hr>\n",
    "        <h3>운을 불러오는 습관</h3>\n",
    "        <p>아래 습관을 매일 행하라</p>\n",
    "          </body>\n",
    "        </html>\n",
    "\"\"\"\n"
   ]
  },
  {
   "cell_type": "code",
   "execution_count": 11,
   "id": "fc98f081",
   "metadata": {},
   "outputs": [
    {
     "name": "stdout",
     "output_type": "stream",
     "text": [
      "a\ta\n"
     ]
    }
   ],
   "source": [
    "print('a\\ta')"
   ]
  },
  {
   "cell_type": "code",
   "execution_count": 14,
   "id": "d2097c6e",
   "metadata": {},
   "outputs": [
    {
     "ename": "NameError",
     "evalue": "name 'BeautifulSoup__version__' is not defined",
     "output_type": "error",
     "traceback": [
      "\u001b[0;31m---------------------------------------------------------------------------\u001b[0m",
      "\u001b[0;31mNameError\u001b[0m                                 Traceback (most recent call last)",
      "Input \u001b[0;32mIn [14]\u001b[0m, in \u001b[0;36m<cell line: 1>\u001b[0;34m()\u001b[0m\n\u001b[0;32m----> 1\u001b[0m \u001b[43mBeautifulSoup__version__\u001b[49m\n",
      "\u001b[0;31mNameError\u001b[0m: name 'BeautifulSoup__version__' is not defined"
     ]
    }
   ],
   "source": []
  },
  {
   "cell_type": "code",
   "execution_count": 4,
   "id": "78729402",
   "metadata": {},
   "outputs": [],
   "source": [
    "s = BeautifulSoup(ex1, 'html')"
   ]
  },
  {
   "cell_type": "code",
   "execution_count": 28,
   "id": "fa3cd218",
   "metadata": {},
   "outputs": [
    {
     "data": {
      "text/plain": [
       "<title>2022엔코아13</title>"
      ]
     },
     "execution_count": 28,
     "metadata": {},
     "output_type": "execute_result"
    }
   ],
   "source": [
    "s.find('title')"
   ]
  },
  {
   "cell_type": "code",
   "execution_count": 29,
   "id": "911f2ebc",
   "metadata": {},
   "outputs": [
    {
     "data": {
      "text/plain": [
       "<p>할 수 있다...</p>"
      ]
     },
     "execution_count": 29,
     "metadata": {},
     "output_type": "execute_result"
    }
   ],
   "source": [
    "s.find('p')"
   ]
  },
  {
   "cell_type": "code",
   "execution_count": 25,
   "id": "1a1fa789",
   "metadata": {},
   "outputs": [],
   "source": [
    "s.find('q')"
   ]
  },
  {
   "cell_type": "code",
   "execution_count": 5,
   "id": "87b76f14",
   "metadata": {},
   "outputs": [
    {
     "name": "stdout",
     "output_type": "stream",
     "text": [
      "<p>할 수 있다...</p>\n",
      "<p>할 수 있다...</p>\n"
     ]
    }
   ],
   "source": [
    "for i in BeautifulSoup(ex1, 'html'):\n",
    "    print(s.find('p'))"
   ]
  },
  {
   "cell_type": "code",
   "execution_count": 7,
   "id": "a7e2f5d5",
   "metadata": {},
   "outputs": [],
   "source": [
    "from bs4 import BeautifulSoup\n",
    "ex2='''\n",
    "<html lang=\"ko\">\n",
    "    <head>\n",
    "        <meta charset=\"utf-8\">\n",
    "        <title>2022엔코아13</title>\n",
    "    </head>\n",
    "    <body>\n",
    "        <p align='center'> text1</p>\n",
    "        <p align='right'> text2</p>\n",
    "        <p align='left'> text3</p>\n",
    "        <img src=\"./HTML예제.좌우명.png\">\n",
    "    </body>\n",
    "</html>\n",
    "'''"
   ]
  },
  {
   "cell_type": "code",
   "execution_count": 8,
   "id": "e407adf7",
   "metadata": {},
   "outputs": [],
   "source": [
    "s = BeautifulSoup(ex2, 'html')"
   ]
  },
  {
   "cell_type": "code",
   "execution_count": 9,
   "id": "0be996f4",
   "metadata": {},
   "outputs": [
    {
     "data": {
      "text/plain": [
       "<p align=\"center\"> text1</p>"
      ]
     },
     "execution_count": 9,
     "metadata": {},
     "output_type": "execute_result"
    }
   ],
   "source": [
    "s.find('p')"
   ]
  },
  {
   "cell_type": "code",
   "execution_count": 38,
   "id": "5e432b82",
   "metadata": {},
   "outputs": [
    {
     "data": {
      "text/plain": [
       "<p align=\"right\"> text2</p>"
      ]
     },
     "execution_count": 38,
     "metadata": {},
     "output_type": "execute_result"
    }
   ],
   "source": [
    "s.find('p', align='right')"
   ]
  },
  {
   "cell_type": "code",
   "execution_count": 39,
   "id": "80e9b075",
   "metadata": {},
   "outputs": [
    {
     "data": {
      "text/plain": [
       "<p align=\"left\"> text3</p>"
      ]
     },
     "execution_count": 39,
     "metadata": {},
     "output_type": "execute_result"
    }
   ],
   "source": [
    "s.find('p', align='left')"
   ]
  },
  {
   "cell_type": "code",
   "execution_count": 10,
   "id": "68f8ba0c",
   "metadata": {},
   "outputs": [],
   "source": [
    "ex2='''\n",
    "<html lang=\"ko\">\n",
    "    <head>\n",
    "        <meta charset=\"utf-8\">\n",
    "        <title>2022엔코아13</title>\n",
    "    </head>\n",
    "    <body>\n",
    "        <p align='center'> text1</p>\n",
    "        <p align='right'> text2</p>\n",
    "        <p align='left'> text3</p>\n",
    "        <img src=\"./HTML예제.좌우명.png\">\n",
    "    </body>\n",
    "</html>\n",
    "'''"
   ]
  },
  {
   "cell_type": "code",
   "execution_count": 11,
   "id": "fba91eb8",
   "metadata": {},
   "outputs": [],
   "source": [
    "s = BeautifulSoup(ex2, 'html')"
   ]
  },
  {
   "cell_type": "code",
   "execution_count": 45,
   "id": "d93ba5de",
   "metadata": {},
   "outputs": [
    {
     "data": {
      "text/plain": [
       "<p align=\"center\"> text1</p>"
      ]
     },
     "execution_count": 45,
     "metadata": {},
     "output_type": "execute_result"
    }
   ],
   "source": [
    "s.find('p')"
   ]
  },
  {
   "cell_type": "code",
   "execution_count": 42,
   "id": "b6e542e6",
   "metadata": {},
   "outputs": [
    {
     "data": {
      "text/plain": [
       "<p align=\"right\"> text2</p>"
      ]
     },
     "execution_count": 42,
     "metadata": {},
     "output_type": "execute_result"
    }
   ],
   "source": [
    "s.find('p', align='right')"
   ]
  },
  {
   "cell_type": "code",
   "execution_count": 43,
   "id": "773ad9ef",
   "metadata": {},
   "outputs": [
    {
     "data": {
      "text/plain": [
       "<p align=\"left\"> text3</p>"
      ]
     },
     "execution_count": 43,
     "metadata": {},
     "output_type": "execute_result"
    }
   ],
   "source": [
    "s.find('p', align='left')"
   ]
  },
  {
   "cell_type": "code",
   "execution_count": 46,
   "id": "fdd07e71",
   "metadata": {},
   "outputs": [],
   "source": [
    "ex3='''\n",
    "<html lang=\"ko\">\n",
    "    <head>\n",
    "        <meta charset=\"utf-8\">\n",
    "        <title>2022엔코아13</title>\n",
    "    </head>\n",
    "    <body>\n",
    "        <p align='center'> text1</p>\n",
    "        <p align='center'> text2</p>\n",
    "        <p align='center'> text3</p>\n",
    "        <img src=\"./HTML예제.좌우명.png\">\n",
    "    </body>\n",
    "</html>\n",
    "'''"
   ]
  },
  {
   "cell_type": "code",
   "execution_count": 47,
   "id": "94bd7689",
   "metadata": {},
   "outputs": [],
   "source": [
    "s = BeautifulSoup(ex3, 'html')"
   ]
  },
  {
   "cell_type": "code",
   "execution_count": 48,
   "id": "e65caee7",
   "metadata": {},
   "outputs": [
    {
     "data": {
      "text/plain": [
       "<p align=\"center\"> text1</p>"
      ]
     },
     "execution_count": 48,
     "metadata": {},
     "output_type": "execute_result"
    }
   ],
   "source": [
    "s.find('p')"
   ]
  },
  {
   "cell_type": "code",
   "execution_count": 49,
   "id": "ccb7a85d",
   "metadata": {},
   "outputs": [
    {
     "data": {
      "text/plain": [
       "<p align=\"center\"> text1</p>"
      ]
     },
     "execution_count": 49,
     "metadata": {},
     "output_type": "execute_result"
    }
   ],
   "source": [
    "s.find('p', align='center')"
   ]
  },
  {
   "cell_type": "code",
   "execution_count": 54,
   "id": "fdaf1874",
   "metadata": {
    "scrolled": true
   },
   "outputs": [
    {
     "data": {
      "text/plain": [
       "[<p align=\"center\"> text1</p>,\n",
       " <p align=\"center\"> text2</p>,\n",
       " <p align=\"center\"> text3</p>]"
      ]
     },
     "execution_count": 54,
     "metadata": {},
     "output_type": "execute_result"
    }
   ],
   "source": [
    "s.find_all('p')"
   ]
  },
  {
   "cell_type": "code",
   "execution_count": 52,
   "id": "26f7d338",
   "metadata": {},
   "outputs": [
    {
     "data": {
      "text/plain": [
       "bs4.element.Tag"
      ]
     },
     "execution_count": 52,
     "metadata": {},
     "output_type": "execute_result"
    }
   ],
   "source": [
    "type(s.find('p'))"
   ]
  },
  {
   "cell_type": "code",
   "execution_count": 53,
   "id": "f0657570",
   "metadata": {},
   "outputs": [
    {
     "data": {
      "text/plain": [
       "bs4.element.ResultSet"
      ]
     },
     "execution_count": 53,
     "metadata": {},
     "output_type": "execute_result"
    }
   ],
   "source": [
    "type(s.find_all('p'))"
   ]
  },
  {
   "cell_type": "code",
   "execution_count": 56,
   "id": "f8b8c349",
   "metadata": {},
   "outputs": [
    {
     "data": {
      "text/plain": [
       "[<p align=\"center\"> text1</p>,\n",
       " <p align=\"center\"> text2</p>,\n",
       " <p align=\"center\"> text3</p>,\n",
       " <img src=\"./HTML예제.좌우명.png\"/>]"
      ]
     },
     "execution_count": 56,
     "metadata": {},
     "output_type": "execute_result"
    }
   ],
   "source": [
    "s.find_all(['img', 'p'])"
   ]
  },
  {
   "cell_type": "code",
   "execution_count": 57,
   "id": "c007d5a6",
   "metadata": {},
   "outputs": [
    {
     "data": {
      "text/plain": [
       "<p align=\"center\"> text1</p>"
      ]
     },
     "execution_count": 57,
     "metadata": {},
     "output_type": "execute_result"
    }
   ],
   "source": [
    "s.find(['img', 'p'])"
   ]
  },
  {
   "cell_type": "code",
   "execution_count": 58,
   "id": "d1e44300",
   "metadata": {},
   "outputs": [
    {
     "data": {
      "text/plain": [
       "<img src=\"./HTML예제.좌우명.png\"/>"
      ]
     },
     "execution_count": 58,
     "metadata": {},
     "output_type": "execute_result"
    }
   ],
   "source": [
    "s.find('img')"
   ]
  },
  {
   "cell_type": "code",
   "execution_count": 61,
   "id": "9fc73de7",
   "metadata": {},
   "outputs": [],
   "source": [
    "txt = s.find('p')"
   ]
  },
  {
   "cell_type": "code",
   "execution_count": 62,
   "id": "40efe2f9",
   "metadata": {},
   "outputs": [
    {
     "data": {
      "text/plain": [
       "<p align=\"center\"> text1</p>"
      ]
     },
     "execution_count": 62,
     "metadata": {},
     "output_type": "execute_result"
    }
   ],
   "source": [
    "txt"
   ]
  },
  {
   "cell_type": "code",
   "execution_count": 63,
   "id": "79d7cf2b",
   "metadata": {},
   "outputs": [
    {
     "data": {
      "text/plain": [
       "' text1'"
      ]
     },
     "execution_count": 63,
     "metadata": {},
     "output_type": "execute_result"
    }
   ],
   "source": [
    "txt.string"
   ]
  },
  {
   "cell_type": "code",
   "execution_count": 64,
   "id": "c0dc29b1",
   "metadata": {},
   "outputs": [
    {
     "data": {
      "text/plain": [
       "' text1'"
      ]
     },
     "execution_count": 64,
     "metadata": {},
     "output_type": "execute_result"
    }
   ],
   "source": [
    "txt.get_text()"
   ]
  },
  {
   "cell_type": "code",
   "execution_count": 65,
   "id": "ffed67c8",
   "metadata": {},
   "outputs": [],
   "source": [
    "txt_all = s.find_all('p')"
   ]
  },
  {
   "cell_type": "code",
   "execution_count": 67,
   "id": "8fbdf390",
   "metadata": {},
   "outputs": [
    {
     "ename": "AttributeError",
     "evalue": "ResultSet object has no attribute 'string'. You're probably treating a list of elements like a single element. Did you call find_all() when you meant to call find()?",
     "output_type": "error",
     "traceback": [
      "\u001b[0;31m---------------------------------------------------------------------------\u001b[0m",
      "\u001b[0;31mAttributeError\u001b[0m                            Traceback (most recent call last)",
      "Input \u001b[0;32mIn [67]\u001b[0m, in \u001b[0;36m<cell line: 1>\u001b[0;34m()\u001b[0m\n\u001b[0;32m----> 1\u001b[0m \u001b[43mtxt_all\u001b[49m\u001b[38;5;241;43m.\u001b[39;49m\u001b[43mstring\u001b[49m\n",
      "File \u001b[0;32m/opt/anaconda3/lib/python3.9/site-packages/bs4/element.py:2289\u001b[0m, in \u001b[0;36mResultSet.__getattr__\u001b[0;34m(self, key)\u001b[0m\n\u001b[1;32m   2287\u001b[0m \u001b[38;5;28;01mdef\u001b[39;00m \u001b[38;5;21m__getattr__\u001b[39m(\u001b[38;5;28mself\u001b[39m, key):\n\u001b[1;32m   2288\u001b[0m     \u001b[38;5;124;03m\"\"\"Raise a helpful exception to explain a common code fix.\"\"\"\u001b[39;00m\n\u001b[0;32m-> 2289\u001b[0m     \u001b[38;5;28;01mraise\u001b[39;00m \u001b[38;5;167;01mAttributeError\u001b[39;00m(\n\u001b[1;32m   2290\u001b[0m         \u001b[38;5;124m\"\u001b[39m\u001b[38;5;124mResultSet object has no attribute \u001b[39m\u001b[38;5;124m'\u001b[39m\u001b[38;5;132;01m%s\u001b[39;00m\u001b[38;5;124m'\u001b[39m\u001b[38;5;124m. You\u001b[39m\u001b[38;5;124m'\u001b[39m\u001b[38;5;124mre probably treating a list of elements like a single element. Did you call find_all() when you meant to call find()?\u001b[39m\u001b[38;5;124m\"\u001b[39m \u001b[38;5;241m%\u001b[39m key\n\u001b[1;32m   2291\u001b[0m     )\n",
      "\u001b[0;31mAttributeError\u001b[0m: ResultSet object has no attribute 'string'. You're probably treating a list of elements like a single element. Did you call find_all() when you meant to call find()?"
     ]
    }
   ],
   "source": [
    "txt_all.string"
   ]
  },
  {
   "cell_type": "code",
   "execution_count": 68,
   "id": "28e60d00",
   "metadata": {},
   "outputs": [
    {
     "ename": "AttributeError",
     "evalue": "ResultSet object has no attribute 'string'. You're probably treating a list of elements like a single element. Did you call find_all() when you meant to call find()?",
     "output_type": "error",
     "traceback": [
      "\u001b[0;31m---------------------------------------------------------------------------\u001b[0m",
      "\u001b[0;31mAttributeError\u001b[0m                            Traceback (most recent call last)",
      "Input \u001b[0;32mIn [68]\u001b[0m, in \u001b[0;36m<cell line: 1>\u001b[0;34m()\u001b[0m\n\u001b[0;32m----> 1\u001b[0m \u001b[43mtxt_all\u001b[49m\u001b[38;5;241;43m.\u001b[39;49m\u001b[43mstring\u001b[49m\u001b[38;5;241m.\u001b[39mget_text()\n",
      "File \u001b[0;32m/opt/anaconda3/lib/python3.9/site-packages/bs4/element.py:2289\u001b[0m, in \u001b[0;36mResultSet.__getattr__\u001b[0;34m(self, key)\u001b[0m\n\u001b[1;32m   2287\u001b[0m \u001b[38;5;28;01mdef\u001b[39;00m \u001b[38;5;21m__getattr__\u001b[39m(\u001b[38;5;28mself\u001b[39m, key):\n\u001b[1;32m   2288\u001b[0m     \u001b[38;5;124;03m\"\"\"Raise a helpful exception to explain a common code fix.\"\"\"\u001b[39;00m\n\u001b[0;32m-> 2289\u001b[0m     \u001b[38;5;28;01mraise\u001b[39;00m \u001b[38;5;167;01mAttributeError\u001b[39;00m(\n\u001b[1;32m   2290\u001b[0m         \u001b[38;5;124m\"\u001b[39m\u001b[38;5;124mResultSet object has no attribute \u001b[39m\u001b[38;5;124m'\u001b[39m\u001b[38;5;132;01m%s\u001b[39;00m\u001b[38;5;124m'\u001b[39m\u001b[38;5;124m. You\u001b[39m\u001b[38;5;124m'\u001b[39m\u001b[38;5;124mre probably treating a list of elements like a single element. Did you call find_all() when you meant to call find()?\u001b[39m\u001b[38;5;124m\"\u001b[39m \u001b[38;5;241m%\u001b[39m key\n\u001b[1;32m   2291\u001b[0m     )\n",
      "\u001b[0;31mAttributeError\u001b[0m: ResultSet object has no attribute 'string'. You're probably treating a list of elements like a single element. Did you call find_all() when you meant to call find()?"
     ]
    }
   ],
   "source": [
    "txt_all.string.get_text()"
   ]
  },
  {
   "cell_type": "code",
   "execution_count": 69,
   "id": "dfc8fb20",
   "metadata": {},
   "outputs": [
    {
     "data": {
      "text/plain": [
       "bs4.element.Tag"
      ]
     },
     "execution_count": 69,
     "metadata": {},
     "output_type": "execute_result"
    }
   ],
   "source": [
    "type(txt_all[0])"
   ]
  },
  {
   "cell_type": "code",
   "execution_count": 70,
   "id": "6b2737cc",
   "metadata": {},
   "outputs": [
    {
     "name": "stdout",
     "output_type": "stream",
     "text": [
      "<p align=\"center\"> text1</p>\n",
      "<p align=\"center\"> text2</p>\n",
      "<p align=\"center\"> text3</p>\n"
     ]
    }
   ],
   "source": [
    "for i in txt_all:\n",
    "    print(i)"
   ]
  },
  {
   "cell_type": "code",
   "execution_count": 71,
   "id": "93128618",
   "metadata": {},
   "outputs": [
    {
     "name": "stdout",
     "output_type": "stream",
     "text": [
      " text1\n",
      " text2\n",
      " text3\n"
     ]
    }
   ],
   "source": [
    "for i in txt_all:\n",
    "    print(i.string)"
   ]
  },
  {
   "cell_type": "code",
   "execution_count": 84,
   "id": "cbeb769e",
   "metadata": {},
   "outputs": [],
   "source": [
    "ex4 = '''<html>\n",
    "    <head>\n",
    "        <h1> 사야할 과일\n",
    "    </head>\n",
    "    <body>\n",
    "        <h1> 시장가서 사야할 과일 목록\n",
    "            <div>\n",
    "                <p id='fruits1' class='name1' title='바나나'> 바나나\n",
    "                <span class='price'> 3000원 </span>\n",
    "                <span class='count'> 10개 </span>\n",
    "                <span class='store'> 바나나가게 </span>\n",
    "                <a href='https://www.banana.com'> banana.com </a>\n",
    "                </p>\n",
    "            </div>\n",
    "            <div>\n",
    "                <p id='fruits2' class='name2' title='체리'> 체리\n",
    "                <span class='price'> 100원 </span>\n",
    "                <span class='count'> 50개 </span>\n",
    "                <span class='store'> 체리가게 </span>\n",
    "                <a href='https://www.cherry.com'> cherry.com </a>\n",
    "                </p>\n",
    "            </div>\n",
    "            <div>\n",
    "                <p id='fruits3' class='name3' title='오렌지'> 오렌지\n",
    "                <span class='price'> 500원 </span>\n",
    "                <span class='count'> 20개 </span>\n",
    "                <span class='store'> 오렌지가게 </span>\n",
    "                <a href='https://www.orange.com'> orange.com </a>\n",
    "                </p>\n",
    "            </div>\n",
    "    </body>\n",
    "</html>\n",
    "'''"
   ]
  },
  {
   "cell_type": "code",
   "execution_count": 85,
   "id": "d04d8a22",
   "metadata": {},
   "outputs": [],
   "source": [
    "soup = BeautifulSoup(ex4, 'html')"
   ]
  },
  {
   "cell_type": "code",
   "execution_count": 86,
   "id": "5e3c1093",
   "metadata": {},
   "outputs": [
    {
     "data": {
      "text/plain": [
       "<html>\n",
       "<head>\n",
       "</head><body><h1> 사야할 과일\n",
       "    \n",
       "    \n",
       "        <h1> 시장가서 사야할 과일 목록\n",
       "            <div>\n",
       "<p class=\"name1\" id=\"fruits1\" title=\"바나나\"> 바나나\n",
       "                <span class=\"price\"> 3000원 </span>\n",
       "<span class=\"count\"> 10개 </span>\n",
       "<span class=\"store\"> 바나나가게 </span>\n",
       "<a href=\"https://www.banana.com\"> banana.com </a>\n",
       "</p>\n",
       "</div>\n",
       "<div>\n",
       "<p class=\"name2\" id=\"fruits2\" title=\"체리\"> 체리\n",
       "                <span class=\"price\"> 100원 </span>\n",
       "<span class=\"count\"> 50개 </span>\n",
       "<span class=\"store\"> 체리가게 </span>\n",
       "<a href=\"https://www.cherry.com\"> cherry.com </a>\n",
       "</p>\n",
       "</div>\n",
       "<div>\n",
       "<p class=\"name3\" id=\"fruits3\" title=\"오렌지\"> 오렌지\n",
       "                <span class=\"price\"> 500원 </span>\n",
       "<span class=\"count\"> 20개 </span>\n",
       "<span class=\"store\"> 오렌지가게 </span>\n",
       "<a href=\"https://www.orange.com\"> orange.com </a>\n",
       "</p>\n",
       "</div>\n",
       "</h1></h1></body></html>"
      ]
     },
     "execution_count": 86,
     "metadata": {},
     "output_type": "execute_result"
    }
   ],
   "source": [
    "soup"
   ]
  },
  {
   "cell_type": "code",
   "execution_count": 90,
   "id": "df90e64e",
   "metadata": {},
   "outputs": [
    {
     "data": {
      "text/plain": [
       "<p class=\"name1\" id=\"fruits1\" title=\"바나나\"> 바나나\n",
       "                <span class=\"price\"> 3000원 </span>\n",
       "<span class=\"count\"> 10개 </span>\n",
       "<span class=\"store\"> 바나나가게 </span>\n",
       "<a href=\"https://www.banana.com\"> banana.com </a>\n",
       "</p>"
      ]
     },
     "execution_count": 90,
     "metadata": {},
     "output_type": "execute_result"
    }
   ],
   "source": [
    "soup.find('p')"
   ]
  },
  {
   "cell_type": "code",
   "execution_count": 91,
   "id": "e4b8d5ad",
   "metadata": {},
   "outputs": [
    {
     "data": {
      "text/plain": [
       "[<p class=\"name1\" id=\"fruits1\" title=\"바나나\"> 바나나\n",
       "                 <span class=\"price\"> 3000원 </span>\n",
       " <span class=\"count\"> 10개 </span>\n",
       " <span class=\"store\"> 바나나가게 </span>\n",
       " <a href=\"https://www.banana.com\"> banana.com </a>\n",
       " </p>,\n",
       " <p class=\"name2\" id=\"fruits2\" title=\"체리\"> 체리\n",
       "                 <span class=\"price\"> 100원 </span>\n",
       " <span class=\"count\"> 50개 </span>\n",
       " <span class=\"store\"> 체리가게 </span>\n",
       " <a href=\"https://www.cherry.com\"> cherry.com </a>\n",
       " </p>,\n",
       " <p class=\"name3\" id=\"fruits3\" title=\"오렌지\"> 오렌지\n",
       "                 <span class=\"price\"> 500원 </span>\n",
       " <span class=\"count\"> 20개 </span>\n",
       " <span class=\"store\"> 오렌지가게 </span>\n",
       " <a href=\"https://www.orange.com\"> orange.com </a>\n",
       " </p>]"
      ]
     },
     "execution_count": 91,
     "metadata": {},
     "output_type": "execute_result"
    }
   ],
   "source": [
    "soup.find_all('p')"
   ]
  },
  {
   "cell_type": "code",
   "execution_count": 92,
   "id": "57cd8b0d",
   "metadata": {},
   "outputs": [
    {
     "data": {
      "text/plain": [
       "[<p class=\"name1\" id=\"fruits1\" title=\"바나나\"> 바나나\n",
       "                 <span class=\"price\"> 3000원 </span>\n",
       " <span class=\"count\"> 10개 </span>\n",
       " <span class=\"store\"> 바나나가게 </span>\n",
       " <a href=\"https://www.banana.com\"> banana.com </a>\n",
       " </p>,\n",
       " <p class=\"name2\" id=\"fruits2\" title=\"체리\"> 체리\n",
       "                 <span class=\"price\"> 100원 </span>\n",
       " <span class=\"count\"> 50개 </span>\n",
       " <span class=\"store\"> 체리가게 </span>\n",
       " <a href=\"https://www.cherry.com\"> cherry.com </a>\n",
       " </p>,\n",
       " <p class=\"name3\" id=\"fruits3\" title=\"오렌지\"> 오렌지\n",
       "                 <span class=\"price\"> 500원 </span>\n",
       " <span class=\"count\"> 20개 </span>\n",
       " <span class=\"store\"> 오렌지가게 </span>\n",
       " <a href=\"https://www.orange.com\"> orange.com </a>\n",
       " </p>]"
      ]
     },
     "execution_count": 92,
     "metadata": {},
     "output_type": "execute_result"
    }
   ],
   "source": [
    "soup.select('p')"
   ]
  },
  {
   "cell_type": "code",
   "execution_count": 103,
   "id": "5ce948a2",
   "metadata": {},
   "outputs": [
    {
     "data": {
      "text/plain": [
       "[<p class=\"name1\" id=\"fruits1\" title=\"바나나\"> 바나나\n",
       "                 <span class=\"price\"> 3000원 </span>\n",
       " <span class=\"count\"> 10개 </span>\n",
       " <span class=\"store\"> 바나나가게 </span>\n",
       " <a href=\"https://www.banana.com\"> banana.com </a>\n",
       " </p>]"
      ]
     },
     "execution_count": 103,
     "metadata": {},
     "output_type": "execute_result"
    }
   ],
   "source": [
    "soup.select('.name1')"
   ]
  },
  {
   "cell_type": "code",
   "execution_count": 110,
   "id": "2dce308f",
   "metadata": {},
   "outputs": [
    {
     "data": {
      "text/plain": [
       "[<span class=\"price\"> 3000원 </span>,\n",
       " <span class=\"count\"> 10개 </span>,\n",
       " <span class=\"store\"> 바나나가게 </span>,\n",
       " <span class=\"price\"> 100원 </span>,\n",
       " <span class=\"count\"> 50개 </span>,\n",
       " <span class=\"store\"> 체리가게 </span>,\n",
       " <span class=\"price\"> 500원 </span>,\n",
       " <span class=\"count\"> 20개 </span>,\n",
       " <span class=\"store\"> 오렌지가게 </span>]"
      ]
     },
     "execution_count": 110,
     "metadata": {},
     "output_type": "execute_result"
    }
   ],
   "source": [
    "soup.select('div > p > span')"
   ]
  },
  {
   "cell_type": "code",
   "execution_count": 111,
   "id": "4a049b72",
   "metadata": {},
   "outputs": [
    {
     "data": {
      "text/plain": [
       "[<a href=\"https://www.banana.com\"> banana.com </a>,\n",
       " <a href=\"https://www.cherry.com\"> cherry.com </a>,\n",
       " <a href=\"https://www.orange.com\"> orange.com </a>]"
      ]
     },
     "execution_count": 111,
     "metadata": {},
     "output_type": "execute_result"
    }
   ],
   "source": [
    "soup.select('div > p > a')"
   ]
  },
  {
   "cell_type": "code",
   "execution_count": 112,
   "id": "7b097afe",
   "metadata": {},
   "outputs": [
    {
     "data": {
      "text/plain": [
       "[<span class=\"price\"> 3000원 </span>,\n",
       " <span class=\"count\"> 10개 </span>,\n",
       " <span class=\"store\"> 바나나가게 </span>,\n",
       " <span class=\"price\"> 100원 </span>,\n",
       " <span class=\"count\"> 50개 </span>,\n",
       " <span class=\"store\"> 체리가게 </span>,\n",
       " <span class=\"price\"> 500원 </span>,\n",
       " <span class=\"count\"> 20개 </span>,\n",
       " <span class=\"store\"> 오렌지가게 </span>]"
      ]
     },
     "execution_count": 112,
     "metadata": {},
     "output_type": "execute_result"
    }
   ],
   "source": [
    "soup.select('span')"
   ]
  },
  {
   "cell_type": "code",
   "execution_count": 114,
   "id": "ed5d53a8",
   "metadata": {},
   "outputs": [
    {
     "data": {
      "text/plain": [
       "[<span class=\"store\"> 바나나가게 </span>]"
      ]
     },
     "execution_count": 114,
     "metadata": {},
     "output_type": "execute_result"
    }
   ],
   "source": [
    "soup.select('p.name1 > span.store')"
   ]
  },
  {
   "cell_type": "code",
   "execution_count": 117,
   "id": "74b33152",
   "metadata": {},
   "outputs": [
    {
     "data": {
      "text/plain": [
       "[<p class=\"name1\" id=\"fruits1\" title=\"바나나\"> 바나나\n",
       "                 <span class=\"price\"> 3000원 </span>\n",
       " <span class=\"count\"> 10개 </span>\n",
       " <span class=\"store\"> 바나나가게 </span>\n",
       " <a href=\"https://www.banana.com\"> banana.com </a>\n",
       " </p>]"
      ]
     },
     "execution_count": 117,
     "metadata": {},
     "output_type": "execute_result"
    }
   ],
   "source": [
    "soup.select('#fruits1')"
   ]
  },
  {
   "cell_type": "code",
   "execution_count": 118,
   "id": "e67e233f",
   "metadata": {},
   "outputs": [
    {
     "data": {
      "text/plain": [
       "[<span class=\"store\"> 바나나가게 </span>]"
      ]
     },
     "execution_count": 118,
     "metadata": {},
     "output_type": "execute_result"
    }
   ],
   "source": [
    "soup.select('#fruits1 > span.store')"
   ]
  },
  {
   "cell_type": "code",
   "execution_count": 120,
   "id": "df8457e3",
   "metadata": {},
   "outputs": [
    {
     "data": {
      "text/plain": [
       "[<a href=\"https://www.banana.com\"> banana.com </a>,\n",
       " <a href=\"https://www.cherry.com\"> cherry.com </a>,\n",
       " <a href=\"https://www.orange.com\"> orange.com </a>]"
      ]
     },
     "execution_count": 120,
     "metadata": {},
     "output_type": "execute_result"
    }
   ],
   "source": [
    "soup.select('a')"
   ]
  },
  {
   "cell_type": "code",
   "execution_count": 121,
   "id": "7b0156c8",
   "metadata": {},
   "outputs": [
    {
     "data": {
      "text/plain": [
       "[<a href=\"https://www.banana.com\"> banana.com </a>,\n",
       " <a href=\"https://www.cherry.com\"> cherry.com </a>,\n",
       " <a href=\"https://www.orange.com\"> orange.com </a>]"
      ]
     },
     "execution_count": 121,
     "metadata": {},
     "output_type": "execute_result"
    }
   ],
   "source": [
    "soup.select('a[href]')"
   ]
  },
  {
   "cell_type": "code",
   "execution_count": 122,
   "id": "702bdbc6",
   "metadata": {},
   "outputs": [
    {
     "data": {
      "text/plain": [
       "<a href=\"https://www.banana.com\"> banana.com </a>"
      ]
     },
     "execution_count": 122,
     "metadata": {},
     "output_type": "execute_result"
    }
   ],
   "source": [
    "soup.select('a[href]')[0]"
   ]
  },
  {
   "cell_type": "code",
   "execution_count": 123,
   "id": "a1415346",
   "metadata": {},
   "outputs": [
    {
     "name": "stdout",
     "output_type": "stream",
     "text": [
      "Collecting selenium==4.2.0\n",
      "  Downloading selenium-4.2.0-py3-none-any.whl (983 kB)\n",
      "\u001b[K     |████████████████████████████████| 983 kB 11.3 MB/s eta 0:00:01\n",
      "\u001b[?25hCollecting trio-websocket~=0.9\n",
      "  Downloading trio_websocket-0.9.2-py3-none-any.whl (16 kB)\n",
      "Requirement already satisfied: urllib3[secure,socks]~=1.26 in /opt/anaconda3/lib/python3.9/site-packages (from selenium==4.2.0) (1.26.9)\n",
      "Collecting trio~=0.17\n",
      "  Downloading trio-0.21.0-py3-none-any.whl (358 kB)\n",
      "\u001b[K     |████████████████████████████████| 358 kB 122.6 MB/s eta 0:00:01\n",
      "\u001b[?25hRequirement already satisfied: attrs>=19.2.0 in /opt/anaconda3/lib/python3.9/site-packages (from trio~=0.17->selenium==4.2.0) (21.4.0)\n",
      "Requirement already satisfied: idna in /opt/anaconda3/lib/python3.9/site-packages (from trio~=0.17->selenium==4.2.0) (3.3)\n",
      "Requirement already satisfied: sortedcontainers in /opt/anaconda3/lib/python3.9/site-packages (from trio~=0.17->selenium==4.2.0) (2.4.0)\n",
      "Requirement already satisfied: sniffio in /opt/anaconda3/lib/python3.9/site-packages (from trio~=0.17->selenium==4.2.0) (1.2.0)\n",
      "Collecting outcome\n",
      "  Downloading outcome-1.2.0-py2.py3-none-any.whl (9.7 kB)\n",
      "Collecting async-generator>=1.9\n",
      "  Downloading async_generator-1.10-py3-none-any.whl (18 kB)\n",
      "Collecting wsproto>=0.14\n",
      "  Downloading wsproto-1.2.0-py3-none-any.whl (24 kB)\n",
      "Requirement already satisfied: pyOpenSSL>=0.14 in /opt/anaconda3/lib/python3.9/site-packages (from urllib3[secure,socks]~=1.26->selenium==4.2.0) (21.0.0)\n",
      "Requirement already satisfied: cryptography>=1.3.4 in /opt/anaconda3/lib/python3.9/site-packages (from urllib3[secure,socks]~=1.26->selenium==4.2.0) (3.4.8)\n",
      "Requirement already satisfied: certifi in /opt/anaconda3/lib/python3.9/site-packages (from urllib3[secure,socks]~=1.26->selenium==4.2.0) (2021.10.8)\n",
      "Requirement already satisfied: PySocks!=1.5.7,<2.0,>=1.5.6 in /opt/anaconda3/lib/python3.9/site-packages (from urllib3[secure,socks]~=1.26->selenium==4.2.0) (1.7.1)\n",
      "Requirement already satisfied: cffi>=1.12 in /opt/anaconda3/lib/python3.9/site-packages (from cryptography>=1.3.4->urllib3[secure,socks]~=1.26->selenium==4.2.0) (1.15.0)\n",
      "Requirement already satisfied: pycparser in /opt/anaconda3/lib/python3.9/site-packages (from cffi>=1.12->cryptography>=1.3.4->urllib3[secure,socks]~=1.26->selenium==4.2.0) (2.21)\n",
      "Requirement already satisfied: six>=1.5.2 in /opt/anaconda3/lib/python3.9/site-packages (from pyOpenSSL>=0.14->urllib3[secure,socks]~=1.26->selenium==4.2.0) (1.16.0)\n",
      "Collecting h11<1,>=0.9.0\n",
      "  Downloading h11-0.13.0-py3-none-any.whl (58 kB)\n",
      "\u001b[K     |████████████████████████████████| 58 kB 43.4 MB/s  eta 0:00:01\n",
      "\u001b[?25hInstalling collected packages: outcome, h11, async-generator, wsproto, trio, trio-websocket, selenium\n",
      "Successfully installed async-generator-1.10 h11-0.13.0 outcome-1.2.0 selenium-4.2.0 trio-0.21.0 trio-websocket-0.9.2 wsproto-1.2.0\n"
     ]
    }
   ],
   "source": [
    "!pip install selenium==4.2.0"
   ]
  },
  {
   "cell_type": "code",
   "execution_count": 1,
   "id": "e19c1418",
   "metadata": {},
   "outputs": [],
   "source": [
    "from bs4 import BeautifulSoup\n",
    "from selenium import webdriver\n",
    "import time"
   ]
  },
  {
   "cell_type": "code",
   "execution_count": null,
   "id": "e8b8df7a",
   "metadata": {},
   "outputs": [],
   "source": [
    "query_txt = input('크롤링할 키워드?')"
   ]
  },
  {
   "cell_type": "code",
   "execution_count": null,
   "id": "ee14e927",
   "metadata": {},
   "outputs": [],
   "source": [
    "path = \"/Users/iseung-won/Downloads/chromedriver\"\n",
    "driver = webdriver.Chrome(path)"
   ]
  },
  {
   "cell_type": "code",
   "execution_count": null,
   "id": "e2af8960",
   "metadata": {},
   "outputs": [],
   "source": [
    "driver.get(\"https://korean.visitkorea.or.kr/main/main.do#home\")\n",
    "time.sleep(2)"
   ]
  },
  {
   "cell_type": "code",
   "execution_count": null,
   "id": "863d2e13",
   "metadata": {},
   "outputs": [],
   "source": [
    "driver.find_element_by_id(\"\").click()\n",
    "element"
   ]
  },
  {
   "cell_type": "code",
   "execution_count": 12,
   "id": "fd3b0bfe",
   "metadata": {},
   "outputs": [],
   "source": [
    "from bs4 import BeautifulSoup\n",
    "from selenium import webdriver\n",
    "import time\n",
    "\n",
    "driver = webdriver.Safari()\n",
    "\n",
    "driver.get(\"https://korean.visitkorea.or.kr/main/main.html\")\n",
    "time.sleep(3)"
   ]
  },
  {
   "cell_type": "code",
   "execution_count": 59,
   "id": "f21503b7",
   "metadata": {},
   "outputs": [
    {
     "name": "stderr",
     "output_type": "stream",
     "text": [
      "/var/folders/fl/lytw3yqx5913yh2tcxgw3d740000gn/T/ipykernel_1080/326259819.py:1: DeprecationWarning: find_element_by_* commands are deprecated. Please use find_element() instead\n",
      "  driver.find_element_by_id(\"btnMenu\").click()\n"
     ]
    },
    {
     "name": "stdout",
     "output_type": "stream",
     "text": [
      "완료\n"
     ]
    }
   ],
   "source": [
    "driver.find_element_by_id(\"btnMenu\").click()\n",
    "time.sleep(2)\n",
    "print('완료')"
   ]
  },
  {
   "cell_type": "code",
   "execution_count": 121,
   "id": "341b9efd",
   "metadata": {},
   "outputs": [
    {
     "name": "stderr",
     "output_type": "stream",
     "text": [
      "/var/folders/fl/lytw3yqx5913yh2tcxgw3d740000gn/T/ipykernel_1080/1748043001.py:1: DeprecationWarning: find_element_by_link_text is deprecated. Please use find_element(by=By.LINK_TEXT, value=link_text) instead\n",
      "  driver.find_element_by_link_text(\"특집관\").click()\n"
     ]
    },
    {
     "ename": "ElementNotInteractableException",
     "evalue": "Message: \n",
     "output_type": "error",
     "traceback": [
      "\u001b[0;31m---------------------------------------------------------------------------\u001b[0m",
      "\u001b[0;31mElementNotInteractableException\u001b[0m           Traceback (most recent call last)",
      "Input \u001b[0;32mIn [121]\u001b[0m, in \u001b[0;36m<cell line: 1>\u001b[0;34m()\u001b[0m\n\u001b[0;32m----> 1\u001b[0m \u001b[43mdriver\u001b[49m\u001b[38;5;241;43m.\u001b[39;49m\u001b[43mfind_element_by_link_text\u001b[49m\u001b[43m(\u001b[49m\u001b[38;5;124;43m\"\u001b[39;49m\u001b[38;5;124;43m특집관\u001b[39;49m\u001b[38;5;124;43m\"\u001b[39;49m\u001b[43m)\u001b[49m\u001b[38;5;241;43m.\u001b[39;49m\u001b[43mclick\u001b[49m\u001b[43m(\u001b[49m\u001b[43m)\u001b[49m\n\u001b[1;32m      2\u001b[0m time\u001b[38;5;241m.\u001b[39msleep(\u001b[38;5;241m2\u001b[39m)\n\u001b[1;32m      3\u001b[0m \u001b[38;5;28mprint\u001b[39m(\u001b[38;5;124m'\u001b[39m\u001b[38;5;124m완료\u001b[39m\u001b[38;5;124m'\u001b[39m)\n",
      "File \u001b[0;32m/opt/anaconda3/lib/python3.9/site-packages/selenium/webdriver/remote/webelement.py:89\u001b[0m, in \u001b[0;36mWebElement.click\u001b[0;34m(self)\u001b[0m\n\u001b[1;32m     87\u001b[0m \u001b[38;5;28;01mdef\u001b[39;00m \u001b[38;5;21mclick\u001b[39m(\u001b[38;5;28mself\u001b[39m) \u001b[38;5;241m-\u001b[39m\u001b[38;5;241m>\u001b[39m \u001b[38;5;28;01mNone\u001b[39;00m:\n\u001b[1;32m     88\u001b[0m     \u001b[38;5;124;03m\"\"\"Clicks the element.\"\"\"\u001b[39;00m\n\u001b[0;32m---> 89\u001b[0m     \u001b[38;5;28;43mself\u001b[39;49m\u001b[38;5;241;43m.\u001b[39;49m\u001b[43m_execute\u001b[49m\u001b[43m(\u001b[49m\u001b[43mCommand\u001b[49m\u001b[38;5;241;43m.\u001b[39;49m\u001b[43mCLICK_ELEMENT\u001b[49m\u001b[43m)\u001b[49m\n",
      "File \u001b[0;32m/opt/anaconda3/lib/python3.9/site-packages/selenium/webdriver/remote/webelement.py:773\u001b[0m, in \u001b[0;36mWebElement._execute\u001b[0;34m(self, command, params)\u001b[0m\n\u001b[1;32m    771\u001b[0m     params \u001b[38;5;241m=\u001b[39m {}\n\u001b[1;32m    772\u001b[0m params[\u001b[38;5;124m'\u001b[39m\u001b[38;5;124mid\u001b[39m\u001b[38;5;124m'\u001b[39m] \u001b[38;5;241m=\u001b[39m \u001b[38;5;28mself\u001b[39m\u001b[38;5;241m.\u001b[39m_id\n\u001b[0;32m--> 773\u001b[0m \u001b[38;5;28;01mreturn\u001b[39;00m \u001b[38;5;28;43mself\u001b[39;49m\u001b[38;5;241;43m.\u001b[39;49m\u001b[43m_parent\u001b[49m\u001b[38;5;241;43m.\u001b[39;49m\u001b[43mexecute\u001b[49m\u001b[43m(\u001b[49m\u001b[43mcommand\u001b[49m\u001b[43m,\u001b[49m\u001b[43m \u001b[49m\u001b[43mparams\u001b[49m\u001b[43m)\u001b[49m\n",
      "File \u001b[0;32m/opt/anaconda3/lib/python3.9/site-packages/selenium/webdriver/remote/webdriver.py:430\u001b[0m, in \u001b[0;36mWebDriver.execute\u001b[0;34m(self, driver_command, params)\u001b[0m\n\u001b[1;32m    428\u001b[0m response \u001b[38;5;241m=\u001b[39m \u001b[38;5;28mself\u001b[39m\u001b[38;5;241m.\u001b[39mcommand_executor\u001b[38;5;241m.\u001b[39mexecute(driver_command, params)\n\u001b[1;32m    429\u001b[0m \u001b[38;5;28;01mif\u001b[39;00m response:\n\u001b[0;32m--> 430\u001b[0m     \u001b[38;5;28;43mself\u001b[39;49m\u001b[38;5;241;43m.\u001b[39;49m\u001b[43merror_handler\u001b[49m\u001b[38;5;241;43m.\u001b[39;49m\u001b[43mcheck_response\u001b[49m\u001b[43m(\u001b[49m\u001b[43mresponse\u001b[49m\u001b[43m)\u001b[49m\n\u001b[1;32m    431\u001b[0m     response[\u001b[38;5;124m'\u001b[39m\u001b[38;5;124mvalue\u001b[39m\u001b[38;5;124m'\u001b[39m] \u001b[38;5;241m=\u001b[39m \u001b[38;5;28mself\u001b[39m\u001b[38;5;241m.\u001b[39m_unwrap_value(\n\u001b[1;32m    432\u001b[0m         response\u001b[38;5;241m.\u001b[39mget(\u001b[38;5;124m'\u001b[39m\u001b[38;5;124mvalue\u001b[39m\u001b[38;5;124m'\u001b[39m, \u001b[38;5;28;01mNone\u001b[39;00m))\n\u001b[1;32m    433\u001b[0m     \u001b[38;5;28;01mreturn\u001b[39;00m response\n",
      "File \u001b[0;32m/opt/anaconda3/lib/python3.9/site-packages/selenium/webdriver/remote/errorhandler.py:247\u001b[0m, in \u001b[0;36mErrorHandler.check_response\u001b[0;34m(self, response)\u001b[0m\n\u001b[1;32m    245\u001b[0m         alert_text \u001b[38;5;241m=\u001b[39m value[\u001b[38;5;124m'\u001b[39m\u001b[38;5;124malert\u001b[39m\u001b[38;5;124m'\u001b[39m]\u001b[38;5;241m.\u001b[39mget(\u001b[38;5;124m'\u001b[39m\u001b[38;5;124mtext\u001b[39m\u001b[38;5;124m'\u001b[39m)\n\u001b[1;32m    246\u001b[0m     \u001b[38;5;28;01mraise\u001b[39;00m exception_class(message, screen, stacktrace, alert_text)  \u001b[38;5;66;03m# type: ignore[call-arg]  # mypy is not smart enough here\u001b[39;00m\n\u001b[0;32m--> 247\u001b[0m \u001b[38;5;28;01mraise\u001b[39;00m exception_class(message, screen, stacktrace)\n",
      "\u001b[0;31mElementNotInteractableException\u001b[0m: Message: \n"
     ]
    }
   ],
   "source": [
    "driver.find_element_by_link_text(\"특집관\").click()\n",
    "time.sleep(2)\n",
    "print('완료')"
   ]
  },
  {
   "cell_type": "code",
   "execution_count": 67,
   "id": "4363ca3a",
   "metadata": {},
   "outputs": [
    {
     "name": "stderr",
     "output_type": "stream",
     "text": [
      "/var/folders/fl/lytw3yqx5913yh2tcxgw3d740000gn/T/ipykernel_1080/4029061033.py:1: DeprecationWarning: find_element_by_xpath is deprecated. Please use find_element(by=By.XPATH, value=xpath) instead\n",
      "  driver.find_element_by_xpath(\"/html/body/header/div/div/div/div/span/button\").click()\n"
     ]
    },
    {
     "name": "stdout",
     "output_type": "stream",
     "text": [
      "완료\n"
     ]
    }
   ],
   "source": [
    "driver.find_element_by_xpath(\"/html/body/header/div/div/div/div/span/button\").click()\n",
    "time.sleep(2)\n",
    "print('완료')"
   ]
  },
  {
   "cell_type": "code",
   "execution_count": 139,
   "id": "5c0cf4f2",
   "metadata": {},
   "outputs": [
    {
     "name": "stderr",
     "output_type": "stream",
     "text": [
      "/var/folders/fl/lytw3yqx5913yh2tcxgw3d740000gn/T/ipykernel_1080/3425952016.py:1: DeprecationWarning: find_element_by_xpath is deprecated. Please use find_element(by=By.XPATH, value=xpath) instead\n",
      "  driver.find_element_by_xpath(\"//div/span/button\").click()\n"
     ]
    },
    {
     "name": "stdout",
     "output_type": "stream",
     "text": [
      "완료\n"
     ]
    }
   ],
   "source": [
    "driver.find_element_by_xpath(\"//div/span/button\").click()\n",
    "time.sleep(2)\n",
    "print('완료')"
   ]
  },
  {
   "cell_type": "code",
   "execution_count": 137,
   "id": "00852149",
   "metadata": {},
   "outputs": [
    {
     "name": "stderr",
     "output_type": "stream",
     "text": [
      "/var/folders/fl/lytw3yqx5913yh2tcxgw3d740000gn/T/ipykernel_1080/430145097.py:1: DeprecationWarning: find_element_by_xpath is deprecated. Please use find_element(by=By.XPATH, value=xpath) instead\n",
      "  driver.find_element_by_xpath(\"//span/button[@id='btnMenu'][@type='button']\").click()\n"
     ]
    },
    {
     "ename": "WebDriverException",
     "evalue": "Message: \n",
     "output_type": "error",
     "traceback": [
      "\u001b[0;31m---------------------------------------------------------------------------\u001b[0m",
      "\u001b[0;31mWebDriverException\u001b[0m                        Traceback (most recent call last)",
      "Input \u001b[0;32mIn [137]\u001b[0m, in \u001b[0;36m<cell line: 1>\u001b[0;34m()\u001b[0m\n\u001b[0;32m----> 1\u001b[0m \u001b[43mdriver\u001b[49m\u001b[38;5;241;43m.\u001b[39;49m\u001b[43mfind_element_by_xpath\u001b[49m\u001b[43m(\u001b[49m\u001b[38;5;124;43m\"\u001b[39;49m\u001b[38;5;124;43m//span/button[@id=\u001b[39;49m\u001b[38;5;124;43m'\u001b[39;49m\u001b[38;5;124;43mbtnMenu\u001b[39;49m\u001b[38;5;124;43m'\u001b[39;49m\u001b[38;5;124;43m][@type=\u001b[39;49m\u001b[38;5;124;43m'\u001b[39;49m\u001b[38;5;124;43mbutton\u001b[39;49m\u001b[38;5;124;43m'\u001b[39;49m\u001b[38;5;124;43m]\u001b[39;49m\u001b[38;5;124;43m\"\u001b[39;49m\u001b[43m)\u001b[49m\u001b[38;5;241;43m.\u001b[39;49m\u001b[43mclick\u001b[49m\u001b[43m(\u001b[49m\u001b[43m)\u001b[49m\n\u001b[1;32m      2\u001b[0m time\u001b[38;5;241m.\u001b[39msleep(\u001b[38;5;241m2\u001b[39m)\n\u001b[1;32m      3\u001b[0m \u001b[38;5;28mprint\u001b[39m(\u001b[38;5;124m'\u001b[39m\u001b[38;5;124m완료\u001b[39m\u001b[38;5;124m'\u001b[39m)\n",
      "File \u001b[0;32m/opt/anaconda3/lib/python3.9/site-packages/selenium/webdriver/remote/webelement.py:89\u001b[0m, in \u001b[0;36mWebElement.click\u001b[0;34m(self)\u001b[0m\n\u001b[1;32m     87\u001b[0m \u001b[38;5;28;01mdef\u001b[39;00m \u001b[38;5;21mclick\u001b[39m(\u001b[38;5;28mself\u001b[39m) \u001b[38;5;241m-\u001b[39m\u001b[38;5;241m>\u001b[39m \u001b[38;5;28;01mNone\u001b[39;00m:\n\u001b[1;32m     88\u001b[0m     \u001b[38;5;124;03m\"\"\"Clicks the element.\"\"\"\u001b[39;00m\n\u001b[0;32m---> 89\u001b[0m     \u001b[38;5;28;43mself\u001b[39;49m\u001b[38;5;241;43m.\u001b[39;49m\u001b[43m_execute\u001b[49m\u001b[43m(\u001b[49m\u001b[43mCommand\u001b[49m\u001b[38;5;241;43m.\u001b[39;49m\u001b[43mCLICK_ELEMENT\u001b[49m\u001b[43m)\u001b[49m\n",
      "File \u001b[0;32m/opt/anaconda3/lib/python3.9/site-packages/selenium/webdriver/remote/webelement.py:773\u001b[0m, in \u001b[0;36mWebElement._execute\u001b[0;34m(self, command, params)\u001b[0m\n\u001b[1;32m    771\u001b[0m     params \u001b[38;5;241m=\u001b[39m {}\n\u001b[1;32m    772\u001b[0m params[\u001b[38;5;124m'\u001b[39m\u001b[38;5;124mid\u001b[39m\u001b[38;5;124m'\u001b[39m] \u001b[38;5;241m=\u001b[39m \u001b[38;5;28mself\u001b[39m\u001b[38;5;241m.\u001b[39m_id\n\u001b[0;32m--> 773\u001b[0m \u001b[38;5;28;01mreturn\u001b[39;00m \u001b[38;5;28;43mself\u001b[39;49m\u001b[38;5;241;43m.\u001b[39;49m\u001b[43m_parent\u001b[49m\u001b[38;5;241;43m.\u001b[39;49m\u001b[43mexecute\u001b[49m\u001b[43m(\u001b[49m\u001b[43mcommand\u001b[49m\u001b[43m,\u001b[49m\u001b[43m \u001b[49m\u001b[43mparams\u001b[49m\u001b[43m)\u001b[49m\n",
      "File \u001b[0;32m/opt/anaconda3/lib/python3.9/site-packages/selenium/webdriver/remote/webdriver.py:430\u001b[0m, in \u001b[0;36mWebDriver.execute\u001b[0;34m(self, driver_command, params)\u001b[0m\n\u001b[1;32m    428\u001b[0m response \u001b[38;5;241m=\u001b[39m \u001b[38;5;28mself\u001b[39m\u001b[38;5;241m.\u001b[39mcommand_executor\u001b[38;5;241m.\u001b[39mexecute(driver_command, params)\n\u001b[1;32m    429\u001b[0m \u001b[38;5;28;01mif\u001b[39;00m response:\n\u001b[0;32m--> 430\u001b[0m     \u001b[38;5;28;43mself\u001b[39;49m\u001b[38;5;241;43m.\u001b[39;49m\u001b[43merror_handler\u001b[49m\u001b[38;5;241;43m.\u001b[39;49m\u001b[43mcheck_response\u001b[49m\u001b[43m(\u001b[49m\u001b[43mresponse\u001b[49m\u001b[43m)\u001b[49m\n\u001b[1;32m    431\u001b[0m     response[\u001b[38;5;124m'\u001b[39m\u001b[38;5;124mvalue\u001b[39m\u001b[38;5;124m'\u001b[39m] \u001b[38;5;241m=\u001b[39m \u001b[38;5;28mself\u001b[39m\u001b[38;5;241m.\u001b[39m_unwrap_value(\n\u001b[1;32m    432\u001b[0m         response\u001b[38;5;241m.\u001b[39mget(\u001b[38;5;124m'\u001b[39m\u001b[38;5;124mvalue\u001b[39m\u001b[38;5;124m'\u001b[39m, \u001b[38;5;28;01mNone\u001b[39;00m))\n\u001b[1;32m    433\u001b[0m     \u001b[38;5;28;01mreturn\u001b[39;00m response\n",
      "File \u001b[0;32m/opt/anaconda3/lib/python3.9/site-packages/selenium/webdriver/remote/errorhandler.py:247\u001b[0m, in \u001b[0;36mErrorHandler.check_response\u001b[0;34m(self, response)\u001b[0m\n\u001b[1;32m    245\u001b[0m         alert_text \u001b[38;5;241m=\u001b[39m value[\u001b[38;5;124m'\u001b[39m\u001b[38;5;124malert\u001b[39m\u001b[38;5;124m'\u001b[39m]\u001b[38;5;241m.\u001b[39mget(\u001b[38;5;124m'\u001b[39m\u001b[38;5;124mtext\u001b[39m\u001b[38;5;124m'\u001b[39m)\n\u001b[1;32m    246\u001b[0m     \u001b[38;5;28;01mraise\u001b[39;00m exception_class(message, screen, stacktrace, alert_text)  \u001b[38;5;66;03m# type: ignore[call-arg]  # mypy is not smart enough here\u001b[39;00m\n\u001b[0;32m--> 247\u001b[0m \u001b[38;5;28;01mraise\u001b[39;00m exception_class(message, screen, stacktrace)\n",
      "\u001b[0;31mWebDriverException\u001b[0m: Message: \n"
     ]
    }
   ],
   "source": [
    "driver.find_element_by_xpath(\"//span/button[@id='btnMenu'][@type='button']\").click()\n",
    "time.sleep(2)\n",
    "print('완료')"
   ]
  },
  {
   "cell_type": "code",
   "execution_count": 84,
   "id": "fd43342e",
   "metadata": {},
   "outputs": [
    {
     "name": "stderr",
     "output_type": "stream",
     "text": [
      "/var/folders/fl/lytw3yqx5913yh2tcxgw3d740000gn/T/ipykernel_1080/88650109.py:1: DeprecationWarning: find_element_by_link_text is deprecated. Please use find_element(by=By.LINK_TEXT, value=link_text) instead\n",
      "  driver.find_element_by_link_text('여행지도').click()\n"
     ]
    },
    {
     "name": "stdout",
     "output_type": "stream",
     "text": [
      "완료\n"
     ]
    }
   ],
   "source": [
    "driver.find_element_by_link_text('여행지도').click()\n",
    "time.sleep(2)\n",
    "print('완료')"
   ]
  },
  {
   "cell_type": "code",
   "execution_count": 135,
   "id": "5aa1b9a8",
   "metadata": {},
   "outputs": [
    {
     "name": "stderr",
     "output_type": "stream",
     "text": [
      "/var/folders/fl/lytw3yqx5913yh2tcxgw3d740000gn/T/ipykernel_1080/1052602134.py:1: DeprecationWarning: find_element_by_class_name is deprecated. Please use find_element(by=By.CLASS_NAME, value=name) instead\n",
      "  driver.find_element_by_class_name('menu_btn').click()\n"
     ]
    },
    {
     "name": "stdout",
     "output_type": "stream",
     "text": [
      "완료\n"
     ]
    }
   ],
   "source": [
    "driver.find_element_by_class_name('menu_btn').click()\n",
    "time.sleep(2)\n",
    "print('완료')"
   ]
  },
  {
   "cell_type": "code",
   "execution_count": 113,
   "id": "057e2763",
   "metadata": {},
   "outputs": [
    {
     "name": "stderr",
     "output_type": "stream",
     "text": [
      "/var/folders/fl/lytw3yqx5913yh2tcxgw3d740000gn/T/ipykernel_1080/4206181068.py:1: DeprecationWarning: find_element_by_xpath is deprecated. Please use find_element(by=By.XPATH, value=xpath) instead\n",
      "  driver.find_element_by_xpath(\"/html/body/header/div/div/div/ul/li[@id='gnb_other']\").click()\n"
     ]
    },
    {
     "ename": "ElementNotInteractableException",
     "evalue": "Message: \n",
     "output_type": "error",
     "traceback": [
      "\u001b[0;31m---------------------------------------------------------------------------\u001b[0m",
      "\u001b[0;31mElementNotInteractableException\u001b[0m           Traceback (most recent call last)",
      "Input \u001b[0;32mIn [113]\u001b[0m, in \u001b[0;36m<cell line: 1>\u001b[0;34m()\u001b[0m\n\u001b[0;32m----> 1\u001b[0m \u001b[43mdriver\u001b[49m\u001b[38;5;241;43m.\u001b[39;49m\u001b[43mfind_element_by_xpath\u001b[49m\u001b[43m(\u001b[49m\u001b[38;5;124;43m\"\u001b[39;49m\u001b[38;5;124;43m/html/body/header/div/div/div/ul/li[@id=\u001b[39;49m\u001b[38;5;124;43m'\u001b[39;49m\u001b[38;5;124;43mgnb_other\u001b[39;49m\u001b[38;5;124;43m'\u001b[39;49m\u001b[38;5;124;43m]\u001b[39;49m\u001b[38;5;124;43m\"\u001b[39;49m\u001b[43m)\u001b[49m\u001b[38;5;241;43m.\u001b[39;49m\u001b[43mclick\u001b[49m\u001b[43m(\u001b[49m\u001b[43m)\u001b[49m\n\u001b[1;32m      2\u001b[0m time\u001b[38;5;241m.\u001b[39msleep(\u001b[38;5;241m2\u001b[39m)\n\u001b[1;32m      3\u001b[0m \u001b[38;5;28mprint\u001b[39m(\u001b[38;5;124m'\u001b[39m\u001b[38;5;124m완료\u001b[39m\u001b[38;5;124m'\u001b[39m)\n",
      "File \u001b[0;32m/opt/anaconda3/lib/python3.9/site-packages/selenium/webdriver/remote/webelement.py:89\u001b[0m, in \u001b[0;36mWebElement.click\u001b[0;34m(self)\u001b[0m\n\u001b[1;32m     87\u001b[0m \u001b[38;5;28;01mdef\u001b[39;00m \u001b[38;5;21mclick\u001b[39m(\u001b[38;5;28mself\u001b[39m) \u001b[38;5;241m-\u001b[39m\u001b[38;5;241m>\u001b[39m \u001b[38;5;28;01mNone\u001b[39;00m:\n\u001b[1;32m     88\u001b[0m     \u001b[38;5;124;03m\"\"\"Clicks the element.\"\"\"\u001b[39;00m\n\u001b[0;32m---> 89\u001b[0m     \u001b[38;5;28;43mself\u001b[39;49m\u001b[38;5;241;43m.\u001b[39;49m\u001b[43m_execute\u001b[49m\u001b[43m(\u001b[49m\u001b[43mCommand\u001b[49m\u001b[38;5;241;43m.\u001b[39;49m\u001b[43mCLICK_ELEMENT\u001b[49m\u001b[43m)\u001b[49m\n",
      "File \u001b[0;32m/opt/anaconda3/lib/python3.9/site-packages/selenium/webdriver/remote/webelement.py:773\u001b[0m, in \u001b[0;36mWebElement._execute\u001b[0;34m(self, command, params)\u001b[0m\n\u001b[1;32m    771\u001b[0m     params \u001b[38;5;241m=\u001b[39m {}\n\u001b[1;32m    772\u001b[0m params[\u001b[38;5;124m'\u001b[39m\u001b[38;5;124mid\u001b[39m\u001b[38;5;124m'\u001b[39m] \u001b[38;5;241m=\u001b[39m \u001b[38;5;28mself\u001b[39m\u001b[38;5;241m.\u001b[39m_id\n\u001b[0;32m--> 773\u001b[0m \u001b[38;5;28;01mreturn\u001b[39;00m \u001b[38;5;28;43mself\u001b[39;49m\u001b[38;5;241;43m.\u001b[39;49m\u001b[43m_parent\u001b[49m\u001b[38;5;241;43m.\u001b[39;49m\u001b[43mexecute\u001b[49m\u001b[43m(\u001b[49m\u001b[43mcommand\u001b[49m\u001b[43m,\u001b[49m\u001b[43m \u001b[49m\u001b[43mparams\u001b[49m\u001b[43m)\u001b[49m\n",
      "File \u001b[0;32m/opt/anaconda3/lib/python3.9/site-packages/selenium/webdriver/remote/webdriver.py:430\u001b[0m, in \u001b[0;36mWebDriver.execute\u001b[0;34m(self, driver_command, params)\u001b[0m\n\u001b[1;32m    428\u001b[0m response \u001b[38;5;241m=\u001b[39m \u001b[38;5;28mself\u001b[39m\u001b[38;5;241m.\u001b[39mcommand_executor\u001b[38;5;241m.\u001b[39mexecute(driver_command, params)\n\u001b[1;32m    429\u001b[0m \u001b[38;5;28;01mif\u001b[39;00m response:\n\u001b[0;32m--> 430\u001b[0m     \u001b[38;5;28;43mself\u001b[39;49m\u001b[38;5;241;43m.\u001b[39;49m\u001b[43merror_handler\u001b[49m\u001b[38;5;241;43m.\u001b[39;49m\u001b[43mcheck_response\u001b[49m\u001b[43m(\u001b[49m\u001b[43mresponse\u001b[49m\u001b[43m)\u001b[49m\n\u001b[1;32m    431\u001b[0m     response[\u001b[38;5;124m'\u001b[39m\u001b[38;5;124mvalue\u001b[39m\u001b[38;5;124m'\u001b[39m] \u001b[38;5;241m=\u001b[39m \u001b[38;5;28mself\u001b[39m\u001b[38;5;241m.\u001b[39m_unwrap_value(\n\u001b[1;32m    432\u001b[0m         response\u001b[38;5;241m.\u001b[39mget(\u001b[38;5;124m'\u001b[39m\u001b[38;5;124mvalue\u001b[39m\u001b[38;5;124m'\u001b[39m, \u001b[38;5;28;01mNone\u001b[39;00m))\n\u001b[1;32m    433\u001b[0m     \u001b[38;5;28;01mreturn\u001b[39;00m response\n",
      "File \u001b[0;32m/opt/anaconda3/lib/python3.9/site-packages/selenium/webdriver/remote/errorhandler.py:247\u001b[0m, in \u001b[0;36mErrorHandler.check_response\u001b[0;34m(self, response)\u001b[0m\n\u001b[1;32m    245\u001b[0m         alert_text \u001b[38;5;241m=\u001b[39m value[\u001b[38;5;124m'\u001b[39m\u001b[38;5;124malert\u001b[39m\u001b[38;5;124m'\u001b[39m]\u001b[38;5;241m.\u001b[39mget(\u001b[38;5;124m'\u001b[39m\u001b[38;5;124mtext\u001b[39m\u001b[38;5;124m'\u001b[39m)\n\u001b[1;32m    246\u001b[0m     \u001b[38;5;28;01mraise\u001b[39;00m exception_class(message, screen, stacktrace, alert_text)  \u001b[38;5;66;03m# type: ignore[call-arg]  # mypy is not smart enough here\u001b[39;00m\n\u001b[0;32m--> 247\u001b[0m \u001b[38;5;28;01mraise\u001b[39;00m exception_class(message, screen, stacktrace)\n",
      "\u001b[0;31mElementNotInteractableException\u001b[0m: Message: \n"
     ]
    }
   ],
   "source": [
    "driver.find_element_by_xpath(\"/html/body/header/div/div/div/ul/li[@id='gnb_other']\").click()\n",
    "time.sleep(2)\n",
    "print('완료')"
   ]
  },
  {
   "cell_type": "code",
   "execution_count": 133,
   "id": "16eca008",
   "metadata": {},
   "outputs": [
    {
     "name": "stderr",
     "output_type": "stream",
     "text": [
      "/var/folders/fl/lytw3yqx5913yh2tcxgw3d740000gn/T/ipykernel_1080/3019097820.py:1: DeprecationWarning: find_element_by_xpath is deprecated. Please use find_element(by=By.XPATH, value=xpath) instead\n",
      "  driver.find_element_by_xpath('//div/ul/li/a').click()\n"
     ]
    },
    {
     "ename": "ElementNotInteractableException",
     "evalue": "Message: \n",
     "output_type": "error",
     "traceback": [
      "\u001b[0;31m---------------------------------------------------------------------------\u001b[0m",
      "\u001b[0;31mElementNotInteractableException\u001b[0m           Traceback (most recent call last)",
      "Input \u001b[0;32mIn [133]\u001b[0m, in \u001b[0;36m<cell line: 1>\u001b[0;34m()\u001b[0m\n\u001b[0;32m----> 1\u001b[0m \u001b[43mdriver\u001b[49m\u001b[38;5;241;43m.\u001b[39;49m\u001b[43mfind_element_by_xpath\u001b[49m\u001b[43m(\u001b[49m\u001b[38;5;124;43m'\u001b[39;49m\u001b[38;5;124;43m//div/ul/li/a\u001b[39;49m\u001b[38;5;124;43m'\u001b[39;49m\u001b[43m)\u001b[49m\u001b[38;5;241;43m.\u001b[39;49m\u001b[43mclick\u001b[49m\u001b[43m(\u001b[49m\u001b[43m)\u001b[49m\n\u001b[1;32m      2\u001b[0m time\u001b[38;5;241m.\u001b[39msleep(\u001b[38;5;241m2\u001b[39m)\n\u001b[1;32m      3\u001b[0m \u001b[38;5;28mprint\u001b[39m(\u001b[38;5;124m'\u001b[39m\u001b[38;5;124m완료\u001b[39m\u001b[38;5;124m'\u001b[39m)\n",
      "File \u001b[0;32m/opt/anaconda3/lib/python3.9/site-packages/selenium/webdriver/remote/webelement.py:89\u001b[0m, in \u001b[0;36mWebElement.click\u001b[0;34m(self)\u001b[0m\n\u001b[1;32m     87\u001b[0m \u001b[38;5;28;01mdef\u001b[39;00m \u001b[38;5;21mclick\u001b[39m(\u001b[38;5;28mself\u001b[39m) \u001b[38;5;241m-\u001b[39m\u001b[38;5;241m>\u001b[39m \u001b[38;5;28;01mNone\u001b[39;00m:\n\u001b[1;32m     88\u001b[0m     \u001b[38;5;124;03m\"\"\"Clicks the element.\"\"\"\u001b[39;00m\n\u001b[0;32m---> 89\u001b[0m     \u001b[38;5;28;43mself\u001b[39;49m\u001b[38;5;241;43m.\u001b[39;49m\u001b[43m_execute\u001b[49m\u001b[43m(\u001b[49m\u001b[43mCommand\u001b[49m\u001b[38;5;241;43m.\u001b[39;49m\u001b[43mCLICK_ELEMENT\u001b[49m\u001b[43m)\u001b[49m\n",
      "File \u001b[0;32m/opt/anaconda3/lib/python3.9/site-packages/selenium/webdriver/remote/webelement.py:773\u001b[0m, in \u001b[0;36mWebElement._execute\u001b[0;34m(self, command, params)\u001b[0m\n\u001b[1;32m    771\u001b[0m     params \u001b[38;5;241m=\u001b[39m {}\n\u001b[1;32m    772\u001b[0m params[\u001b[38;5;124m'\u001b[39m\u001b[38;5;124mid\u001b[39m\u001b[38;5;124m'\u001b[39m] \u001b[38;5;241m=\u001b[39m \u001b[38;5;28mself\u001b[39m\u001b[38;5;241m.\u001b[39m_id\n\u001b[0;32m--> 773\u001b[0m \u001b[38;5;28;01mreturn\u001b[39;00m \u001b[38;5;28;43mself\u001b[39;49m\u001b[38;5;241;43m.\u001b[39;49m\u001b[43m_parent\u001b[49m\u001b[38;5;241;43m.\u001b[39;49m\u001b[43mexecute\u001b[49m\u001b[43m(\u001b[49m\u001b[43mcommand\u001b[49m\u001b[43m,\u001b[49m\u001b[43m \u001b[49m\u001b[43mparams\u001b[49m\u001b[43m)\u001b[49m\n",
      "File \u001b[0;32m/opt/anaconda3/lib/python3.9/site-packages/selenium/webdriver/remote/webdriver.py:430\u001b[0m, in \u001b[0;36mWebDriver.execute\u001b[0;34m(self, driver_command, params)\u001b[0m\n\u001b[1;32m    428\u001b[0m response \u001b[38;5;241m=\u001b[39m \u001b[38;5;28mself\u001b[39m\u001b[38;5;241m.\u001b[39mcommand_executor\u001b[38;5;241m.\u001b[39mexecute(driver_command, params)\n\u001b[1;32m    429\u001b[0m \u001b[38;5;28;01mif\u001b[39;00m response:\n\u001b[0;32m--> 430\u001b[0m     \u001b[38;5;28;43mself\u001b[39;49m\u001b[38;5;241;43m.\u001b[39;49m\u001b[43merror_handler\u001b[49m\u001b[38;5;241;43m.\u001b[39;49m\u001b[43mcheck_response\u001b[49m\u001b[43m(\u001b[49m\u001b[43mresponse\u001b[49m\u001b[43m)\u001b[49m\n\u001b[1;32m    431\u001b[0m     response[\u001b[38;5;124m'\u001b[39m\u001b[38;5;124mvalue\u001b[39m\u001b[38;5;124m'\u001b[39m] \u001b[38;5;241m=\u001b[39m \u001b[38;5;28mself\u001b[39m\u001b[38;5;241m.\u001b[39m_unwrap_value(\n\u001b[1;32m    432\u001b[0m         response\u001b[38;5;241m.\u001b[39mget(\u001b[38;5;124m'\u001b[39m\u001b[38;5;124mvalue\u001b[39m\u001b[38;5;124m'\u001b[39m, \u001b[38;5;28;01mNone\u001b[39;00m))\n\u001b[1;32m    433\u001b[0m     \u001b[38;5;28;01mreturn\u001b[39;00m response\n",
      "File \u001b[0;32m/opt/anaconda3/lib/python3.9/site-packages/selenium/webdriver/remote/errorhandler.py:247\u001b[0m, in \u001b[0;36mErrorHandler.check_response\u001b[0;34m(self, response)\u001b[0m\n\u001b[1;32m    245\u001b[0m         alert_text \u001b[38;5;241m=\u001b[39m value[\u001b[38;5;124m'\u001b[39m\u001b[38;5;124malert\u001b[39m\u001b[38;5;124m'\u001b[39m]\u001b[38;5;241m.\u001b[39mget(\u001b[38;5;124m'\u001b[39m\u001b[38;5;124mtext\u001b[39m\u001b[38;5;124m'\u001b[39m)\n\u001b[1;32m    246\u001b[0m     \u001b[38;5;28;01mraise\u001b[39;00m exception_class(message, screen, stacktrace, alert_text)  \u001b[38;5;66;03m# type: ignore[call-arg]  # mypy is not smart enough here\u001b[39;00m\n\u001b[0;32m--> 247\u001b[0m \u001b[38;5;28;01mraise\u001b[39;00m exception_class(message, screen, stacktrace)\n",
      "\u001b[0;31mElementNotInteractableException\u001b[0m: Message: \n"
     ]
    }
   ],
   "source": [
    "driver.find_element_by_xpath('//div/ul/li/a').click()\n",
    "time.sleep(2)\n",
    "print('완료')"
   ]
  },
  {
   "cell_type": "code",
   "execution_count": 129,
   "id": "cc2fef1b",
   "metadata": {},
   "outputs": [
    {
     "name": "stderr",
     "output_type": "stream",
     "text": [
      "/var/folders/fl/lytw3yqx5913yh2tcxgw3d740000gn/T/ipykernel_1080/3693733919.py:10: DeprecationWarning: find_element_by_xpath is deprecated. Please use find_element(by=By.XPATH, value=xpath) instead\n",
      "  driver.find_element_by_xpath('//div/ul/li/a').click()\n"
     ]
    },
    {
     "ename": "ElementNotInteractableException",
     "evalue": "Message: \n",
     "output_type": "error",
     "traceback": [
      "\u001b[0;31m---------------------------------------------------------------------------\u001b[0m",
      "\u001b[0;31mElementNotInteractableException\u001b[0m           Traceback (most recent call last)",
      "Input \u001b[0;32mIn [129]\u001b[0m, in \u001b[0;36m<cell line: 10>\u001b[0;34m()\u001b[0m\n\u001b[1;32m      7\u001b[0m driver\u001b[38;5;241m.\u001b[39mget(\u001b[38;5;124m\"\u001b[39m\u001b[38;5;124mhttps://korean.visitkorea.or.kr/main/main.html\u001b[39m\u001b[38;5;124m\"\u001b[39m)\n\u001b[1;32m      8\u001b[0m time\u001b[38;5;241m.\u001b[39msleep(\u001b[38;5;241m3\u001b[39m)\n\u001b[0;32m---> 10\u001b[0m \u001b[43mdriver\u001b[49m\u001b[38;5;241;43m.\u001b[39;49m\u001b[43mfind_element_by_xpath\u001b[49m\u001b[43m(\u001b[49m\u001b[38;5;124;43m'\u001b[39;49m\u001b[38;5;124;43m//div/ul/li/a\u001b[39;49m\u001b[38;5;124;43m'\u001b[39;49m\u001b[43m)\u001b[49m\u001b[38;5;241;43m.\u001b[39;49m\u001b[43mclick\u001b[49m\u001b[43m(\u001b[49m\u001b[43m)\u001b[49m\n",
      "File \u001b[0;32m/opt/anaconda3/lib/python3.9/site-packages/selenium/webdriver/remote/webelement.py:89\u001b[0m, in \u001b[0;36mWebElement.click\u001b[0;34m(self)\u001b[0m\n\u001b[1;32m     87\u001b[0m \u001b[38;5;28;01mdef\u001b[39;00m \u001b[38;5;21mclick\u001b[39m(\u001b[38;5;28mself\u001b[39m) \u001b[38;5;241m-\u001b[39m\u001b[38;5;241m>\u001b[39m \u001b[38;5;28;01mNone\u001b[39;00m:\n\u001b[1;32m     88\u001b[0m     \u001b[38;5;124;03m\"\"\"Clicks the element.\"\"\"\u001b[39;00m\n\u001b[0;32m---> 89\u001b[0m     \u001b[38;5;28;43mself\u001b[39;49m\u001b[38;5;241;43m.\u001b[39;49m\u001b[43m_execute\u001b[49m\u001b[43m(\u001b[49m\u001b[43mCommand\u001b[49m\u001b[38;5;241;43m.\u001b[39;49m\u001b[43mCLICK_ELEMENT\u001b[49m\u001b[43m)\u001b[49m\n",
      "File \u001b[0;32m/opt/anaconda3/lib/python3.9/site-packages/selenium/webdriver/remote/webelement.py:773\u001b[0m, in \u001b[0;36mWebElement._execute\u001b[0;34m(self, command, params)\u001b[0m\n\u001b[1;32m    771\u001b[0m     params \u001b[38;5;241m=\u001b[39m {}\n\u001b[1;32m    772\u001b[0m params[\u001b[38;5;124m'\u001b[39m\u001b[38;5;124mid\u001b[39m\u001b[38;5;124m'\u001b[39m] \u001b[38;5;241m=\u001b[39m \u001b[38;5;28mself\u001b[39m\u001b[38;5;241m.\u001b[39m_id\n\u001b[0;32m--> 773\u001b[0m \u001b[38;5;28;01mreturn\u001b[39;00m \u001b[38;5;28;43mself\u001b[39;49m\u001b[38;5;241;43m.\u001b[39;49m\u001b[43m_parent\u001b[49m\u001b[38;5;241;43m.\u001b[39;49m\u001b[43mexecute\u001b[49m\u001b[43m(\u001b[49m\u001b[43mcommand\u001b[49m\u001b[43m,\u001b[49m\u001b[43m \u001b[49m\u001b[43mparams\u001b[49m\u001b[43m)\u001b[49m\n",
      "File \u001b[0;32m/opt/anaconda3/lib/python3.9/site-packages/selenium/webdriver/remote/webdriver.py:430\u001b[0m, in \u001b[0;36mWebDriver.execute\u001b[0;34m(self, driver_command, params)\u001b[0m\n\u001b[1;32m    428\u001b[0m response \u001b[38;5;241m=\u001b[39m \u001b[38;5;28mself\u001b[39m\u001b[38;5;241m.\u001b[39mcommand_executor\u001b[38;5;241m.\u001b[39mexecute(driver_command, params)\n\u001b[1;32m    429\u001b[0m \u001b[38;5;28;01mif\u001b[39;00m response:\n\u001b[0;32m--> 430\u001b[0m     \u001b[38;5;28;43mself\u001b[39;49m\u001b[38;5;241;43m.\u001b[39;49m\u001b[43merror_handler\u001b[49m\u001b[38;5;241;43m.\u001b[39;49m\u001b[43mcheck_response\u001b[49m\u001b[43m(\u001b[49m\u001b[43mresponse\u001b[49m\u001b[43m)\u001b[49m\n\u001b[1;32m    431\u001b[0m     response[\u001b[38;5;124m'\u001b[39m\u001b[38;5;124mvalue\u001b[39m\u001b[38;5;124m'\u001b[39m] \u001b[38;5;241m=\u001b[39m \u001b[38;5;28mself\u001b[39m\u001b[38;5;241m.\u001b[39m_unwrap_value(\n\u001b[1;32m    432\u001b[0m         response\u001b[38;5;241m.\u001b[39mget(\u001b[38;5;124m'\u001b[39m\u001b[38;5;124mvalue\u001b[39m\u001b[38;5;124m'\u001b[39m, \u001b[38;5;28;01mNone\u001b[39;00m))\n\u001b[1;32m    433\u001b[0m     \u001b[38;5;28;01mreturn\u001b[39;00m response\n",
      "File \u001b[0;32m/opt/anaconda3/lib/python3.9/site-packages/selenium/webdriver/remote/errorhandler.py:247\u001b[0m, in \u001b[0;36mErrorHandler.check_response\u001b[0;34m(self, response)\u001b[0m\n\u001b[1;32m    245\u001b[0m         alert_text \u001b[38;5;241m=\u001b[39m value[\u001b[38;5;124m'\u001b[39m\u001b[38;5;124malert\u001b[39m\u001b[38;5;124m'\u001b[39m]\u001b[38;5;241m.\u001b[39mget(\u001b[38;5;124m'\u001b[39m\u001b[38;5;124mtext\u001b[39m\u001b[38;5;124m'\u001b[39m)\n\u001b[1;32m    246\u001b[0m     \u001b[38;5;28;01mraise\u001b[39;00m exception_class(message, screen, stacktrace, alert_text)  \u001b[38;5;66;03m# type: ignore[call-arg]  # mypy is not smart enough here\u001b[39;00m\n\u001b[0;32m--> 247\u001b[0m \u001b[38;5;28;01mraise\u001b[39;00m exception_class(message, screen, stacktrace)\n",
      "\u001b[0;31mElementNotInteractableException\u001b[0m: Message: \n"
     ]
    }
   ],
   "source": [
    "from bs4 import BeautifulSoup\n",
    "from selenium import webdriver\n",
    "import time\n",
    "\n",
    "driver = webdriver.Safari()\n",
    "\n",
    "driver.get(\"https://korean.visitkorea.or.kr/main/main.html\")\n",
    "time.sleep(3)\n",
    "\n",
    "driver.find_element_by_xpath('//div/ul/li/a').click()"
   ]
  },
  {
   "cell_type": "code",
   "execution_count": 148,
   "id": "8fe18778",
   "metadata": {},
   "outputs": [
    {
     "name": "stderr",
     "output_type": "stream",
     "text": [
      "/var/folders/fl/lytw3yqx5913yh2tcxgw3d740000gn/T/ipykernel_1080/3425952016.py:1: DeprecationWarning: find_element_by_xpath is deprecated. Please use find_element(by=By.XPATH, value=xpath) instead\n",
      "  driver.find_element_by_xpath(\"//div/span/button\").click()\n"
     ]
    },
    {
     "name": "stdout",
     "output_type": "stream",
     "text": [
      "완료\n"
     ]
    }
   ],
   "source": [
    "driver.find_element_by_xpath(\"//div/span/button\").click()\n",
    "time.sleep(2)\n",
    "print('완료')"
   ]
  },
  {
   "cell_type": "code",
   "execution_count": 140,
   "id": "39ad4166",
   "metadata": {},
   "outputs": [
    {
     "name": "stderr",
     "output_type": "stream",
     "text": [
      "/var/folders/fl/lytw3yqx5913yh2tcxgw3d740000gn/T/ipykernel_1080/3019097820.py:1: DeprecationWarning: find_element_by_xpath is deprecated. Please use find_element(by=By.XPATH, value=xpath) instead\n",
      "  driver.find_element_by_xpath('//div/ul/li/a').click()\n"
     ]
    },
    {
     "name": "stdout",
     "output_type": "stream",
     "text": [
      "완료\n"
     ]
    }
   ],
   "source": [
    "driver.find_element_by_xpath('//div/ul/li/a').click()\n",
    "time.sleep(2)\n",
    "print('완료')"
   ]
  },
  {
   "cell_type": "code",
   "execution_count": 146,
   "id": "87168d4c",
   "metadata": {},
   "outputs": [
    {
     "name": "stderr",
     "output_type": "stream",
     "text": [
      "/var/folders/fl/lytw3yqx5913yh2tcxgw3d740000gn/T/ipykernel_1080/560256836.py:1: DeprecationWarning: find_element_by_xpath is deprecated. Please use find_element(by=By.XPATH, value=xpath) instead\n",
      "  driver.find_element_by_xpath('//div/ul/li[@class=\"icon6\"]').click()\n"
     ]
    },
    {
     "name": "stdout",
     "output_type": "stream",
     "text": [
      "완료\n"
     ]
    }
   ],
   "source": [
    "driver.find_element_by_xpath('//div/ul/li[@class=\"icon6\"]').click()\n",
    "time.sleep(2)\n",
    "print('완료')"
   ]
  },
  {
   "cell_type": "code",
   "execution_count": 151,
   "id": "38de24da",
   "metadata": {},
   "outputs": [
    {
     "name": "stderr",
     "output_type": "stream",
     "text": [
      "/var/folders/fl/lytw3yqx5913yh2tcxgw3d740000gn/T/ipykernel_1080/2990206831.py:1: DeprecationWarning: find_element_by_xpath is deprecated. Please use find_element(by=By.XPATH, value=xpath) instead\n",
      "  driver.find_element_by_xpath(\"//div/span/button\").click()\n",
      "/var/folders/fl/lytw3yqx5913yh2tcxgw3d740000gn/T/ipykernel_1080/2990206831.py:4: DeprecationWarning: find_element_by_xpath is deprecated. Please use find_element(by=By.XPATH, value=xpath) instead\n",
      "  driver.find_element_by_xpath('//div/ul/li/a[@href=\"/mylocation/mylocation.do\"]').click()\n"
     ]
    },
    {
     "name": "stdout",
     "output_type": "stream",
     "text": [
      "완료\n"
     ]
    }
   ],
   "source": [
    "driver.find_element_by_xpath(\"//div/span/button\").click()\n",
    "time.sleep(2)\n",
    "\n",
    "driver.find_element_by_xpath('//div/ul/li/a[@href=\"/mylocation/mylocation.do\"]').click()\n",
    "time.sleep(2)\n",
    "print('완료')"
   ]
  },
  {
   "cell_type": "code",
   "execution_count": 11,
   "id": "55d268ca",
   "metadata": {},
   "outputs": [
    {
     "name": "stderr",
     "output_type": "stream",
     "text": [
      "/var/folders/fl/lytw3yqx5913yh2tcxgw3d740000gn/T/ipykernel_2152/1985450561.py:1: DeprecationWarning: find_element_by_xpath is deprecated. Please use find_element(by=By.XPATH, value=xpath) instead\n",
      "  driver.find_element_by_xpath('//ul/li[@id=\"gnb_other\"]').click()\n"
     ]
    },
    {
     "name": "stdout",
     "output_type": "stream",
     "text": [
      "완료\n"
     ]
    }
   ],
   "source": [
    "driver.find_element_by_xpath('//ul/li[@id=\"gnb_other\"]').click()\n",
    "time.sleep(2)\n",
    "print('완료')"
   ]
  },
  {
   "cell_type": "code",
   "execution_count": 18,
   "id": "928cb299",
   "metadata": {},
   "outputs": [
    {
     "name": "stdout",
     "output_type": "stream",
     "text": [
      "완료\n"
     ]
    },
    {
     "name": "stderr",
     "output_type": "stream",
     "text": [
      "/var/folders/fl/lytw3yqx5913yh2tcxgw3d740000gn/T/ipykernel_2152/4155039846.py:2: DeprecationWarning: find_element_by_xpath is deprecated. Please use find_element(by=By.XPATH, value=xpath) instead\n",
      "  element = driver.find_element_by_xpath('//div/span/input[@id=\"inp_search\"]')\n"
     ]
    }
   ],
   "source": [
    "query_txt = '봄여행'\n",
    "element = driver.find_element_by_xpath('//div/span/input[@id=\"inp_search\"]')\n",
    "element.send_keys(query_txt)\n",
    "print('완료')"
   ]
  },
  {
   "cell_type": "code",
   "execution_count": 15,
   "id": "e41784ae",
   "metadata": {},
   "outputs": [
    {
     "name": "stderr",
     "output_type": "stream",
     "text": [
      "/var/folders/fl/lytw3yqx5913yh2tcxgw3d740000gn/T/ipykernel_2152/2690416444.py:1: DeprecationWarning: find_element_by_xpath is deprecated. Please use find_element(by=By.XPATH, value=xpath) instead\n",
      "  driver.find_element_by_xpath('//div/span').text('봄여행')\n"
     ]
    },
    {
     "ename": "TypeError",
     "evalue": "'str' object is not callable",
     "output_type": "error",
     "traceback": [
      "\u001b[0;31m---------------------------------------------------------------------------\u001b[0m",
      "\u001b[0;31mTypeError\u001b[0m                                 Traceback (most recent call last)",
      "Input \u001b[0;32mIn [15]\u001b[0m, in \u001b[0;36m<cell line: 1>\u001b[0;34m()\u001b[0m\n\u001b[0;32m----> 1\u001b[0m \u001b[43mdriver\u001b[49m\u001b[38;5;241;43m.\u001b[39;49m\u001b[43mfind_element_by_xpath\u001b[49m\u001b[43m(\u001b[49m\u001b[38;5;124;43m'\u001b[39;49m\u001b[38;5;124;43m//div/span\u001b[39;49m\u001b[38;5;124;43m'\u001b[39;49m\u001b[43m)\u001b[49m\u001b[38;5;241;43m.\u001b[39;49m\u001b[43mtext\u001b[49m\u001b[43m(\u001b[49m\u001b[38;5;124;43m'\u001b[39;49m\u001b[38;5;124;43m봄여행\u001b[39;49m\u001b[38;5;124;43m'\u001b[39;49m\u001b[43m)\u001b[49m\n\u001b[1;32m      2\u001b[0m time\u001b[38;5;241m.\u001b[39msleep(\u001b[38;5;241m2\u001b[39m)\n",
      "\u001b[0;31mTypeError\u001b[0m: 'str' object is not callable"
     ]
    }
   ],
   "source": [
    "enter = webdriver.Keys.RETURN\n",
    "element.send_keys(enter)"
   ]
  },
  {
   "cell_type": "code",
   "execution_count": null,
   "id": "7d83698b",
   "metadata": {},
   "outputs": [],
   "source": [
    "driver.find_element_by_link_text(\"검색\").click()\n",
    "time.sleep(2)"
   ]
  },
  {
   "cell_type": "code",
   "execution_count": 6,
   "id": "d0de4ee4",
   "metadata": {},
   "outputs": [
    {
     "name": "stdout",
     "output_type": "stream",
     "text": [
      "크롤링 할 키워드는?가을여행\n"
     ]
    },
    {
     "name": "stderr",
     "output_type": "stream",
     "text": [
      "/var/folders/fl/lytw3yqx5913yh2tcxgw3d740000gn/T/ipykernel_2997/1304416167.py:12: DeprecationWarning: find_element_by_xpath is deprecated. Please use find_element(by=By.XPATH, value=xpath) instead\n",
      "  ele = driver.find_element_by_xpath('//fieldset/div/input[@class=\"input_text\"]')\n"
     ]
    },
    {
     "name": "stdout",
     "output_type": "stream",
     "text": [
      "완료\n"
     ]
    },
    {
     "name": "stderr",
     "output_type": "stream",
     "text": [
      "/var/folders/fl/lytw3yqx5913yh2tcxgw3d740000gn/T/ipykernel_2997/1304416167.py:16: DeprecationWarning: find_element_by_class_name is deprecated. Please use find_element(by=By.CLASS_NAME, value=name) instead\n",
      "  driver.find_element_by_class_name('ico_search_submit').click()\n"
     ]
    }
   ],
   "source": [
    "query_txt1 = input('크롤링 할 키워드는?')\n",
    "from bs4 import BeautifulSoup\n",
    "from selenium import webdriver\n",
    "import time\n",
    "\n",
    "driver = webdriver.Safari()\n",
    "\n",
    "driver.get(\"https://www.naver.com\")\n",
    "time.sleep(3)\n",
    "\n",
    "\n",
    "ele = driver.find_element_by_xpath('//fieldset/div/input[@class=\"input_text\"]')\n",
    "ele.send_keys(query_txt1)\n",
    "print('완료')\n",
    "time.sleep(2)\n",
    "driver.find_element_by_class_name('ico_search_submit').click()"
   ]
  },
  {
   "cell_type": "code",
   "execution_count": 5,
   "id": "0d921aad",
   "metadata": {},
   "outputs": [
    {
     "name": "stdout",
     "output_type": "stream",
     "text": [
      "크롤링 할 키워드는?스타크레프트\n",
      "완료\n"
     ]
    },
    {
     "name": "stderr",
     "output_type": "stream",
     "text": [
      "/var/folders/fl/lytw3yqx5913yh2tcxgw3d740000gn/T/ipykernel_2505/3508683094.py:11: DeprecationWarning: find_element_by_xpath is deprecated. Please use find_element(by=By.XPATH, value=xpath) instead\n",
      "  ele = driver.find_element_by_xpath('//div/input[@class=\"gLFyf gsfi\"]')\n"
     ]
    }
   ],
   "source": [
    "from bs4 import BeautifulSoup\n",
    "from selenium import webdriver\n",
    "import time\n",
    "query_txt1 = input('크롤링 할 키워드는?')\n",
    "driver = webdriver.Safari()\n",
    "\n",
    "driver.get(\"https://www.google.co.kr/?client=safari&channel=iphone_bm\")\n",
    "time.sleep(3)\n",
    "\n",
    "\n",
    "ele = driver.find_element_by_xpath('//div/input[@class=\"gLFyf gsfi\"]')\n",
    "ele.send_keys(query_txt1)\n",
    "print('완료')\n",
    "enter = webdriver.Keys.RETURN\n",
    "ele.send_keys(enter)"
   ]
  },
  {
   "cell_type": "code",
   "execution_count": 7,
   "id": "2ad2eec5",
   "metadata": {},
   "outputs": [
    {
     "name": "stdout",
     "output_type": "stream",
     "text": [
      "크롤링 할 키워드는?프로토스 빌드\n"
     ]
    },
    {
     "name": "stderr",
     "output_type": "stream",
     "text": [
      "/var/folders/fl/lytw3yqx5913yh2tcxgw3d740000gn/T/ipykernel_2505/10287193.py:11: DeprecationWarning: find_element_by_xpath is deprecated. Please use find_element(by=By.XPATH, value=xpath) instead\n",
      "  ele = driver.find_element_by_xpath('//div/div/input[@id=\"q\"]')\n"
     ]
    },
    {
     "name": "stdout",
     "output_type": "stream",
     "text": [
      "완료\n"
     ]
    }
   ],
   "source": [
    "from bs4 import BeautifulSoup\n",
    "from selenium import webdriver\n",
    "import time\n",
    "query_txt1 = input('크롤링 할 키워드는?')\n",
    "driver = webdriver.Safari()\n",
    "\n",
    "driver.get(\"https://www.daum.net\")\n",
    "time.sleep(3)\n",
    "\n",
    "\n",
    "ele = driver.find_element_by_xpath('//div/div/input[@id=\"q\"]')\n",
    "ele.send_keys(query_txt1)\n",
    "print('완료')\n",
    "time.sleep(2)\n",
    "enter = webdriver.Keys.RETURN\n",
    "ele.send_keys(enter)"
   ]
  },
  {
   "cell_type": "code",
   "execution_count": 11,
   "id": "32a22992",
   "metadata": {},
   "outputs": [
    {
     "name": "stdout",
     "output_type": "stream",
     "text": [
      "크롤링 할 키워드는?가을여행\n"
     ]
    },
    {
     "name": "stderr",
     "output_type": "stream",
     "text": [
      "/var/folders/fl/lytw3yqx5913yh2tcxgw3d740000gn/T/ipykernel_2505/1590866477.py:11: DeprecationWarning: find_element_by_xpath is deprecated. Please use find_element(by=By.XPATH, value=xpath) instead\n",
      "  ele = driver.find_element_by_xpath('//div/div/input[@id=\"q\"]')\n"
     ]
    },
    {
     "name": "stdout",
     "output_type": "stream",
     "text": [
      "완료\n"
     ]
    }
   ],
   "source": [
    "from bs4 import BeautifulSoup\n",
    "from selenium import webdriver\n",
    "import time\n",
    "query_txt1 = input('크롤링 할 키워드는?')\n",
    "driver = webdriver.Safari()\n",
    "\n",
    "driver.get(\"https://www.daum.net\")\n",
    "time.sleep(3)\n",
    "\n",
    "\n",
    "ele = driver.find_element_by_xpath('//div/div/input[@id=\"q\"]')\n",
    "ele.send_keys(query_txt1)\n",
    "print('완료')\n",
    "time.sleep(2)\n",
    "enter = webdriver.Keys.ENTER\n",
    "ele.send_keys(enter)"
   ]
  },
  {
   "cell_type": "code",
   "execution_count": 41,
   "id": "1ebc79be",
   "metadata": {},
   "outputs": [
    {
     "name": "stdout",
     "output_type": "stream",
     "text": [
      "크롤링 할 키워드는?봄 여행\n"
     ]
    },
    {
     "name": "stderr",
     "output_type": "stream",
     "text": [
      "/var/folders/fl/lytw3yqx5913yh2tcxgw3d740000gn/T/ipykernel_2505/1471719874.py:12: DeprecationWarning: find_element_by_xpath is deprecated. Please use find_element(by=By.XPATH, value=xpath) instead\n",
      "  ele = driver.find_element_by_xpath('//div/span/input[@id=\"inp_search\"]')\n"
     ]
    },
    {
     "name": "stdout",
     "output_type": "stream",
     "text": [
      "완료\n"
     ]
    }
   ],
   "source": [
    "query_txt1 = input('크롤링 할 키워드는?')\n",
    "from bs4 import BeautifulSoup\n",
    "from selenium import webdriver\n",
    "import time\n",
    "\n",
    "driver = webdriver.Safari()\n",
    "\n",
    "driver.get(\"https://korean.visitkorea.or.kr/main/main.do#home\")\n",
    "time.sleep(3)\n",
    "\n",
    "\n",
    "ele = driver.find_element_by_xpath('//div/span/input[@id=\"inp_search\"]')\n",
    "ele.send_keys(query_txt1)\n",
    "print('완료')\n",
    "time.sleep(2)\n",
    "enter = webdriver.Keys.ENTER\n",
    "ele.send_keys(enter)\n",
    "\n",
    "time.sleep(3)\n",
    "full_html = driver.page_source\n",
    "\n",
    "soup = BeautifulSoup(full_html, 'html.parser')\n",
    "contents = soup.find('ul', class_='list_thumType type1')\n",
    "for i in contents:\n",
    "    print(i.text.strip())"
   ]
  },
  {
   "cell_type": "code",
   "execution_count": 29,
   "id": "15b44634",
   "metadata": {},
   "outputs": [
    {
     "data": {
      "text/plain": [
       "'<html lang=\"ko\"><head><script type=\"text/javascript\" async=\"\" src=\"https://1330chat.visitkorea.or.kr/ttalk/js/ttalkDev.js\" charset=\"UTF-8\"></script>\\n<meta charset=\"UTF-8\">\\n   <meta http-equiv=\"X-UA-Compatible\" content=\"IE=edge\">\\n   <meta name=\"viewport\" content=\"width=device-width,initial-scale=1.0,minimum-scale=1.0,maximum-scale=1.0,user-scalable=no\">\\n   <title>봄 여행  추천 여행정보 :대한민국 구석구석</title>\\n   <meta name=\"keywords\" content=\"[충주 여행 코스] 봄에 꼭 충주를 가야 하는 이유, 충주 가볼 만한 곳,[충남 봄 여행] 낭만 찾아 떠나는 여행, 천안·아산 봄나들이,[구례 봄 여행] 달달하게 봄을 즐길 수 있는 구례 봄꽃 명소 4,[거제] 봄을 따라 걷는 여행, 거제도,국내 당일치기 여행, 진천 봄나들이 추천 명소,봄바람 따라 살랑살랑 통영 1박2일 여행코스,우리 아이와 봄나들이 갈 시간⏰ <br>서울 근교 여행지 4,아이와 봄 드라이브 떠나자! 안성 여행지 4,국내 봄 여행지, <br>군위 비대면 봄나들이 코스,아침부터 밤까지, 봄 냄새 가득한 \\'사천\\' 여행\">\\n   <meta property=\"og:type\" content=\"website\">\\n   <meta property=\"og:title\" content=\"봄 여행 추천 여행정보 :대한민국 구석구석\">\\n   <meta property=\"og:description\" content=\"봄 여행  추천 여행정보 :대한민국 구석구석\">\\n   <meta property=\"og:image\" content=\"https://cdn.visitkorea.or.kr/resources/images/etc/OG_main.png\">\\n   <meta property=\"og:url\" content=\"https://korean.visitkorea.or.kr/search/search_list.do?keyword=봄 여행 \">\\n   <link rel=\"canonical\" href=\"https://korean.visitkorea.or.kr/search/search_list.do?keyword=%EB%B4%84%20%EC%97%AC%ED%96%89\"><!-- 2019-07-26  url 추가 -->\\n   <link rel=\"shortcut icon\" type=\"image/x-icon\" href=\"/resources/images/favicon03.ico\"><!-- 0904 파비콘 추가 -->\\n   <link rel=\"stylesheet\" type=\"text/css\" href=\"https://cdn.visitkorea.or.kr/resources/css/swiper.min.css\">\\n   <link rel=\"stylesheet\" type=\"text/css\" href=\"https://cdn.visitkorea.or.kr/resources/css/common.css?v=20201027596ccf3d-bff3-44ef-8376-9cf564bfd475\">\\n   <link rel=\"stylesheet\" type=\"text/css\" href=\"https://cdn.visitkorea.or.kr/resources/css/content.css?v=20201027596ccf3d-bff3-44ef-8376-9cf564bfd475\">\\n   <script src=\"https://connect.facebook.net/signals/config/2686987211544937?v=2.9.79&amp;r=stable\" async=\"\"></script><script async=\"\" src=\"https://connect.facebook.net/en_US/fbevents.js\"></script><script type=\"text/javascript\" async=\"\" src=\"https://www.google-analytics.com/analytics.js\"></script><script async=\"\" src=\"https://www.googletagmanager.com/gtm.js?id=GTM-PJVBVKB\"></script><script type=\"text/javascript\" async=\"\" src=\"https://www.googletagmanager.com/gtag/js?id=G-4XLNR00KRE&amp;l=dataLayer&amp;cx=c\"></script><script async=\"\" src=\"https://www.google-analytics.com/analytics.js\"></script><script src=\"https://cdn.visitkorea.or.kr/resources/js/jquery-1.11.2.min.js\"></script>\\n   <script src=\"https://cdn.visitkorea.or.kr/resources/js/swiper.min.js\"></script>\\n   <script src=\"https://cdn.visitkorea.or.kr/resources/js/common.js?v=20201027596ccf3d-bff3-44ef-8376-9cf564bfd475\"></script>\\n   <script src=\"https://cdn.visitkorea.or.kr/resources/js/listcommon.js?v=596ccf3d-bff3-44ef-8376-9cf564bfd475\"></script>\\n   <script src=\"https://cdn.visitkorea.or.kr/resources/js/tagchoiceview.js?v=596ccf3d-bff3-44ef-8376-9cf564bfd475\"></script>\\n   <script src=\"https://cdn.visitkorea.or.kr/resources/js/global.js?v=20201027596ccf3d-bff3-44ef-8376-9cf564bfd475\"></script>\\n   <script src=\"https://cdn.visitkorea.or.kr/resources/js/contentSub.js?v=20201027596ccf3d-bff3-44ef-8376-9cf564bfd475\"></script>\\n   <script src=\"https://cdn.visitkorea.or.kr/resources/js/paging.js\"></script>\\n   <script src=\"https://cdn.visitkorea.or.kr/resources/js/travelcastdata.js\"></script>\\n   <script src=\"https://developers.kakao.com/sdk/js/kakao.min.js\"></script>\\n   <script type=\"text/javascript\" src=\"https://dapi.kakao.com/v2/maps/sdk.js?appkey=44732c3ca5b90a4f1f49c6b38df023d1&amp;libraries=services,clusterer,drawing\"></script><script charset=\"UTF-8\" src=\"https://t1.daumcdn.net/mapjsapi/js/main/4.4.7/kakao.js\"></script><script charset=\"UTF-8\" src=\"https://t1.daumcdn.net/mapjsapi/js/libs/services/1.0.2/services.js\"></script><script charset=\"UTF-8\" src=\"https://t1.daumcdn.net/mapjsapi/js/libs/clusterer/1.0.9/clusterer.js\"></script><script charset=\"UTF-8\" src=\"https://t1.daumcdn.net/mapjsapi/js/libs/drawing/1.2.6/drawing.js\"></script>\\n   <script src=\"https://cdn.visitkorea.or.kr/resources/js/curation/safecaster.js?v=1663045461759\"></script>\\n\\n\\n\\n<script src=\"https://www.googleoptimize.com/optimize.js?id=OPT-5JVS3BG\"></script>\\n<script src=\"https://cdn.visitkorea.or.kr/resources/js/cdp/web/sphereAnalytics.min.js?v=8c55fe58-6e31-43a4-af9c-84d222aadb4f\"></script>\\n\\n<script type=\"text/javascript\">\\n   SphereAnalytics.setLogLevel(\"info\");\\n   let sphereAs_options  = new Object();\\n   sphereAs_options.webMsg = true; \\n\\n   SphereAnalytics.init(\\n          \\'qsJfZhE2Ft85SvZnBo2KSL\\', sphereAs_options\\n   );\\n</script>\\n\\n<script type=\"text/javascript\">\\n\\nvar otd_nm = \"\";\\nif( appYn == \\'N\\') {\\n\\t(function(i,s,o,g,r,a,m){i[\\'GoogleAnalyticsObject\\']=r;i[r]=i[r]||function(){\\n\\t\\t(i[r].q=i[r].q||[]).push(arguments)},i[r].l=1*new Date();a=s.createElement(o),\\n\\t\\tm=s.getElementsByTagName(o)[0];a.async=1;a.src=g;m.parentNode.insertBefore(a,m)\\n\\t\\t})(window,document,\\'script\\',\\'https://www.google-analytics.com/analytics.js\\',\\'ga\\');\\n\\n\\t\\tga(\\'create\\', \\'UA-92880258-1\\', \\'auto\\');\\n\\t\\tga(\\'require\\', \\'displayfeatures\\');\\n\\n        otd_nm = \"\";\\n        ga(\\'set\\', \\'dimension5\\', otd_nm);\\n} else {\\n\\t(function(i,s,o,g,r,a,m){i[\\'GoogleAnalyticsObject\\']=r;i[r]=i[r]||function(){\\n\\t\\t(i[r].q=i[r].q||[]).push(arguments)},i[r].l=1*new Date();a=s.createElement(o),\\n\\t\\tm=s.getElementsByTagName(o)[0];a.async=1;a.src=g;m.parentNode.insertBefore(a,m)\\n\\t\\t})(window,document,\\'script\\',\\'https://www.google-analytics.com/analytics.js\\',\\'ga\\');\\n\\n\\t\\tga(\\'create\\', \\'UA-92878657-1\\', \\'auto\\');\\n\\t\\tga(\\'require\\', \\'displayfeatures\\');\\n\\t\\tga(\\'send\\', \\'pageview\\');\\n        otd_nm = \"\";\\n        ga(\\'set\\', \\'dimension5\\', otd_nm);\\n}\\nvar custInfo = {\\n\\t\\tuuid : null, //SNS_ID\\n\\t\\tloginYn : \\'N\\', //로그인여부\\n\\t\\tfirstYn : \\'N\\', //최초로그인여부\\n\\t\\tgender : \\'null\\', //성별\\n\\t\\tgrade : \\'null\\', //여행구독레벨\\n\\t\\tbirthYr : 0, //생년월일\\n\\t\\trsdeNm : \\'null\\', //거주지명\\n\\t\\tfavoriteCnt : null, //즐겨찾기수\\n\\t\\tcommentCnt : null, //댓글수\\n\\t\\tjoinYmd : null, //가입일\\n\\t    channel : null, //SNS채널구분\\n\\t    device : appYn == \\'Y\\' ? device : mobileYn == \\'Y\\' ? \\'mobileweb\\' : \\'pcweb\\' //device 구분\\n}\\n</script>\\n\\n<!-- Global site tag (gtag.js) - Google Analytics -->\\n<script async=\"\" src=\"https://www.googletagmanager.com/gtag/js?id=G-4XLNR00KRE\"></script>\\n<script type=\"text/javascript\" charset=\"UTF-8\">\\n  window.dataLayer = window.dataLayer || [{\\n// \\t \\'dimension6\\': gaCookie == null || gaCookie == \\'\\' ? null : gaCookie, \\n\\t \\'dimension7\\': custInfo.uuid, \\n\\t \\'dimension8\\': custInfo.joinYmd, \\n\\t \\'dimension9\\': custInfo.loginYn, \\n\\t \\'dimension10\\': custInfo.channel, \\n\\t \\'dimension11\\': custInfo.device, \\n\\n\\n\\n// \\t \\'dimension15\\': location.href.indexOf(\\'search/search_list\\') > -1 ? \\'Y\\' : null, \\n  }];\\n  function gtag(){dataLayer.push(arguments);}\\n  gtag(\\'js\\', new Date());\\n\\n    gtag(\\'config\\', \\'G-4XLNR00KRE\\', {\\n    \\t\\n     otd_nm : \"\"\\n    });\\n\\n\\n</script>\\n\\n<!-- Google Tag Manager -->\\n<script>\\n\\n if(getParameter(\\'cotId\\') == \\'50fbcf94-4917-489a-9c74-1b0255e2effd\\'\\n         || getParameter(\\'cotId\\') == \\'7cf76837-65e6-47f0-a99a-e114c4cdcecf\\'\\n         || getParameter(\\'cotId\\') == \\'e34bd25c-5a92-43e1-9cd2-5b65974d777d\\'\\n         || getParameter(\\'cotId\\') == \\'35b0b18a-5eb2-4bec-a0f4-2f4d91681a42\\') {\\n } else if (appYn == null || appYn != \\'Y\\') {\\n\\t(function(w,d,s,l,i){w[l]=w[l]||[];w[l].push({\\'gtm.start\\':\\n\\tnew Date().getTime(),event:\\'gtm.js\\'});var f=d.getElementsByTagName(s)[0],\\n\\tj=d.createElement(s),dl=l!=\\'dataLayer\\'?\\'&l=\\'+l:\\'\\';j.async=true;j.src=\\n\\t\\'https://www.googletagmanager.com/gtm.js?id=\\'+i+dl;f.parentNode.insertBefore(j,f);\\n\\t})(window,document,\\'script\\',\\'dataLayer\\',\\'GTM-PJVBVKB\\');\\n }\\n</script>\\n<!-- End Google Tag Manager -->\\n\\n\\n\\n\\n\\n\\n\\n\\n<!-- Facebook Pixel Code -->\\n<!--\\n<script>\\n\\n if(getParameter(\\'cotId\\') == \\'50fbcf94-4917-489a-9c74-1b0255e2effd\\'\\n         || getParameter(\\'cotId\\') == \\'7cf76837-65e6-47f0-a99a-e114c4cdcecf\\'\\n         || getParameter(\\'cotId\\') == \\'e34bd25c-5a92-43e1-9cd2-5b65974d777d\\'\\n         || getParameter(\\'cotId\\') == \\'35b0b18a-5eb2-4bec-a0f4-2f4d91681a42\\') {\\n } else{\\n  !function(f,b,e,v,n,t,s)\\n  {if(f.fbq)return;n=f.fbq=function(){n.callMethod?\\n          n.callMethod.apply(n,arguments):n.queue.push(arguments)};\\n   if(!f._fbq)f._fbq=n;n.push=n;n.loaded=!0;n.version=\\'2.0\\';\\n   n.queue=[];t=b.createElement(e);t.async=!0;\\n   t.src=v;s=b.getElementsByTagName(e)[0];\\n   s.parentNode.insertBefore(t,s)}(window, document,\\'script\\',\\n          \\'https://connect.facebook.net/en_US/fbevents.js\\');\\n  fbq(\\'init\\', \\'2686987211544937\\');\\n  fbq(\\'track\\', \\'PageView\\');\\n }\\n\\n\\n</script>\\n-->\\n<!-- End Facebook Pixel Code -->\\n\\n<!-- Facebook Pixel Code Start 2021-02-16-->\\n<!--\\n<script>\\n if(getParameter(\\'cotId\\') == \\'50fbcf94-4917-489a-9c74-1b0255e2effd\\'\\n         || getParameter(\\'cotId\\') == \\'7cf76837-65e6-47f0-a99a-e114c4cdcecf\\'\\n         || getParameter(\\'cotId\\') == \\'e34bd25c-5a92-43e1-9cd2-5b65974d777d\\'\\n         || getParameter(\\'cotId\\') == \\'35b0b18a-5eb2-4bec-a0f4-2f4d91681a42\\') {\\n } else{\\n  !function(f,b,e,v,n,t,s)\\n  {if(f.fbq)return;n=f.fbq=function(){n.callMethod?\\n  n.callMethod.apply(n,arguments):n.queue.push(arguments)};\\n  if(!f._fbq)f._fbq=n;n.push=n;n.loaded=!0;n.version=\\'2.0\\';\\n  n.queue=[];t=b.createElement(e);t.async=!0;\\n  t.src=v;s=b.getElementsByTagName(e)[0];\\n  s.parentNode.insertBefore(t,s)}(window, document,\\'script\\',\\n  \\'https://connect.facebook.net/en_US/fbevents.js\\');\\n  fbq(\\'init\\', \\'748419839116592\\');\\n  fbq(\\'track\\', \\'PageView\\');\\n }\\n</script>\\n-->\\n<!-- End Facebook Pixel Code -->\\n<meta name=\"referrer\" content=\"unsafe-url\">\\n\\n<!-- End Facebook Pixel Code -->\\n<link rel=\"stylesheet\" type=\"text/css\" href=\"https://1330chat.visitkorea.or.kr/ttalk/css/ttalk-import.css\"></head>\\n<body>\\n<!-- Google Tag Manager (noscript) -->\\n<noscript>&lt;iframe src=\"https://www.googletagmanager.com/ns.html?id=GTM-PJVBVKB\"\\nheight=\"0\" width=\"0\" style=\"display:none;visibility:hidden\"&gt;&lt;/iframe&gt;</noscript>\\n<!-- End Google Tag Manager (noscript) -->\\n\\n<!-- Facebook Pixel Code -->\\n\\n\\n\\n<!-- End Facebook Pixel Code -->\\n\\n<!-- Facebook Pixel Code Start 2021-02-16-->\\n\\n\\n\\n<!-- End Facebook Pixel Code -->\\n\\n<script type=\"text/javascript\">\\n//Kakao.init(\\'7a11644ef91a3bf00391c557a463d167\\');   //rest 키\\nKakao.init(\\'44732c3ca5b90a4f1f49c6b38df023d1\\');   //javascript키\\n</script>\\n\\n   <!-- skip -->\\n   <div id=\"skipToContent\">\\n      <a href=\"#contents\">본문 바로가기</a>\\n      <!--<a href=\"#btnMenu\">주메뉴 바로가기</a>-->\\n   </div>\\n   <!-- // skip -->\\n\\n   <!-- header -->\\n   <header id=\"common_header\" class=\"main_gnb sub\">\\n\\n\\n\\n\\n\\n\\n\\n\\n\\n<div id=\"gnbMain\">\\n\\t<div class=\"top_menu\">\\n\\t\\t<div class=\"inner\">\\n\\t\\t\\t<!-- 전체 메뉴 -->\\n\\t\\t\\t<div class=\"all_menu\">\\n\\t\\t\\t\\t<span class=\"back_btn\"><button type=\"button\" onclick=\"history.back();\">뒤로가기</button></span>\\n\\t\\t\\t\\t<!-- 스크롤 시 사라짐-->\\n\\t\\t\\t\\t<span class=\"menu_btn\"><button type=\"button\" id=\"btnMenu\">메뉴</button></span>\\n\\t\\t\\t\\t<div class=\"menu\">\\n\\t\\t\\t\\t\\t<ul>\\n\\t\\t\\t\\t\\t\\t<li class=\"icon1\"><a href=\"/main/main.do#other\">특집관</a></li>\\n\\t\\t\\t\\t\\t\\t<li class=\"icon2 on\">\\n<!-- \\t\\t\\t\\t\\t\\t\\t<a href=\"/main/main.do\">홈</a> -->\\n\\t\\t\\t\\t\\t\\t\\t<a href=\"javascript:;\">홈</a>\\n\\t\\t\\t\\t\\t\\t\\t<ul class=\"smenu active\">\\n\\t\\t\\t\\t\\t\\t\\t\\t<li><a href=\"/main/ms_main.do\">인기</a></li>\\n\\t\\t\\t\\t\\t\\t\\t\\t<li><a href=\"/main/cs_main.do\">코스</a></li>\\n\\t\\t\\t\\t\\t\\t\\t\\t<li><a href=\"/other/otherService.do?otdid=4e706603-293b-11eb-b8bd-020027310001\">축제</a></li>\\n\\t\\t\\t\\t\\t\\t\\t\\t<li><a href=\"/main/event_main.do\">이벤트</a></li>\\n\\t\\t\\t\\t\\t\\t\\t\\t<li><a href=\"/main/main.do#area\">지역</a></li>\\n\\t\\t\\t\\t\\t\\t\\t</ul>\\n\\t\\t\\t\\t\\t\\t</li>\\n\\t\\t\\t\\t\\t\\t<li class=\"icon6\"><a href=\"/tgpr/tgpr_main.do\">여행상품 홍보관</a></li>\\n                        <li class=\"icon4\"><a href=\"/mylocation/mylocation.do\">여행지도</a></li>\\n\\t\\t\\t\\t\\t</ul>\\n\\t\\t\\t\\t\\t<!-- 로그인 영역 -->\\n\\t\\t\\t\\t\\t<div class=\"login\" id=\"commonLoginView\">\\n\\t\\t\\t\\t\\t\\t<button class=\"close\">닫기</button>\\n\\t\\t\\t\\t\\t\\t<span class=\"m_logo\">대한민국 구석구석</span>\\n\\t\\t\\t\\t\\t\\t<div class=\"in\" style=\"\">\\n\\t\\t\\t\\t\\t\\t\\t<div class=\"profile\">\\n\\t\\t\\t\\t\\t\\t\\t\\t<div class=\"photo\"></div>\\n\\t\\t\\t\\t\\t\\t\\t</div>\\n\\t\\t\\t\\t\\t\\t\\t<button type=\"button\" onclick=\"showLogin(1);\"><span><strong>로그인</strong> 하세요</span></button>\\n\\t\\t\\t\\t\\t\\t</div>\\n\\t\\t\\t\\t\\t\\t<div class=\"out\" style=\"display:none;\">\\n\\t\\t\\t\\t\\t\\t\\t<a href=\"/mypage/mypage_main.do\" class=\"profile\">\\n\\t\\t\\t\\t\\t\\t\\t</a>\\n\\t\\t\\t\\t\\t\\t\\t<button type=\"button\" onclick=\"showLogin(1);\"><span>로그아웃</span></button>\\n\\t\\t\\t\\t\\t\\t</div>\\n\\t\\t\\t\\t\\t</div>\\n\\t\\t\\t\\t\\t<div class=\"login\" id=\"partnersLoginView\" style=\"display: none;\">\\n\\t\\t\\t\\t\\t\\t<button class=\"close\">닫기</button>\\n\\t\\t\\t\\t\\t\\t<span class=\"m_logo\">대한민국 구석구석</span>\\n\\t\\t\\t\\t\\t\\t<div class=\"in\" style=\"\">\\n\\t\\t\\t\\t\\t\\t\\t<div class=\"profile\">\\n\\t\\t\\t\\t\\t\\t\\t\\t<div class=\"photo\"></div>\\n\\t\\t\\t\\t\\t\\t\\t</div>\\n\\t\\t\\t\\t\\t\\t\\t<div class=\"wrap\">\\n\\t\\t\\t\\t\\t\\t\\t\\t<span><button type=\"button\" onclick=\"location.href=\\'/partners/partners_login.do\\';\"><span><strong>파트너스</strong> 로그인</span></button></span>\\n\\t\\t\\t\\t\\t\\t\\t\\t<span><button type=\"button\" onclick=\"location.href=\\'/partners/partners_member_type.do\\';\"><span><strong>파트너스</strong> 회원신청</span></button></span>\\n\\t\\t\\t\\t\\t\\t\\t</div>\\n\\t\\t\\t\\t\\t\\t</div>\\n\\t\\t\\t\\t\\t\\t<div class=\"out\" style=\"display:none;\">\\n\\t\\t\\t\\t\\t\\t</div>\\n\\t\\t\\t\\t\\t</div>\\n\\t\\t\\t\\t\\t<!-- //로그인 영역 -->\\n\\t\\t\\t\\t\\t<div class=\"btn_setup\" id=\"app_setup\" style=\"display:none\">\\n\\t\\t\\t\\t\\t\\t<a href=\"/common/mo_setup.do\">설정</a>\\n\\t\\t\\t\\t\\t</div>\\n\\t\\t\\t\\t</div>\\n\\t\\t\\t</div>\\n\\t\\t\\t<!-- //전체 메뉴 -->\\n\\t\\t\\t<!-- logo -->\\n\\t\\t\\t<h1><a href=\"/main/main.do\">\\n\\t\\t\\t\\t<img src=\"https://cdn.visitkorea.or.kr/resources/images/common/logo_spring.png\" alt=\"대한민국구석구석\" class=\"logoSpring\" style=\"display: none;\">\\n\\t\\t\\t\\t<img src=\"https://cdn.visitkorea.or.kr/resources/images/common/logo_summer.png\" alt=\"대한민국구석구석\" class=\"logoSummer\" style=\"display: none;\">\\n\\t\\t\\t\\t<img src=\"https://cdn.visitkorea.or.kr/resources/images/common/logo_autumn.png\" alt=\"대한민국구석구석\" class=\"logoAutumn\" style=\"\">\\n\\t\\t\\t\\t<img src=\"https://cdn.visitkorea.or.kr/resources/images/common/logo_winter.png\" alt=\"대한민국구석구석\" class=\"logoWinter\" style=\"display: none;\">\\n\\t\\t\\t</a></h1>\\n\\t\\t\\t<!-- //logo -->\\n\\t\\t\\t<!-- 검색 -->\\n\\t\\t\\t<div class=\"search\" id=\"placeHolder\"><span>\\t\\t<!-- 크롬 아이디 자동완성 기능 방지용 -->\\t<input type=\"text\" style=\"display:none\">\\t\\t<input type=\"password\" style=\"display:none\">\\t\\t<!-- //크롬 아이디 자동완성 기능 방지용 -->\\t\\t\\t<input type=\"text\" placeholder=\"어디로, 어떤 여행을 떠날 예정인가요?\" title=\"검색\" id=\"inp_search\" onkeyup=\"completechk();\" onkeydown=\"wordsListDelete();\" autocomplete=\"off\">\\t\\t<a href=\"javascript:btnGnbSearch();\" class=\"btn_search\">검색</a></span>\\n\\n\\n\\n\\n\\n\\n\\n\\n\\t\\t\\t\\t<div class=\"area_keyword\" style=\"display:none;\">\\n\\t\\t\\t\\t\\t<h2>어제의 인기 검색어</h2>\\n\\t\\t\\t\\t\\t<ul id=\"p_search_hd1\">\\n\\t\\t\\t\\t\\t</ul>\\n\\t\\t\\t\\t\\t<ul id=\"p_search_hd2\">\\n\\t\\t\\t\\t\\t</ul>\\n\\t\\t\\t\\t\\t<div class=\"close\"><button type=\"button\">닫기</button></div>\\n\\t\\t\\t\\t</div>\\n\\t\\t\\t\\t<div class=\"words_list\" style=\"display:none;\">\\n\\t\\t\\t\\t\\t<ul>\\n\\t\\t\\t\\t\\t</ul>\\n\\t\\t\\t\\t\\t<div class=\"close\"><button type=\"button\" onclick=\"wordsListHide();\">닫기</button></div>\\n\\t\\t\\t\\t</div>\\n\\t\\t\\t</div>\\n\\t\\t\\t<!-- //검색 -->\\n\\n\\t\\t\\t<a class=\"map_go\" href=\"/mylocation/mylocation.do\">여행지도</a>\\n\\t\\t</div>\\n\\t</div>\\n</div>\\n\\n<div class=\"main_quick\" id=\"chattingbanner\" style=\"display : none;\">\\n\\t<div class=\"inr\">\\n\\t\\t<a href=\"javascript:;\" id=\"consultingBtn\" class=\"btn_go\">상담하기</a>\\n\\t\\t<button type=\"button\" id=\"mainQuickClose\">닫기</button>\\n\\t\\t<!-- 레이어 -->\\n\\t\\t<div class=\"layer-talk-menu\">\\n\\t\\t\\t<h1>실시간 문자채팅 관광안내</h1>\\n\\t\\t\\t<button class=\"close\">닫기</button>\\n\\t\\t\\t<div class=\"group-talk-menu is-ttalk\">\\t\\t\\t\\n\\t\\t\\t\\t<a class=\"tooltip1\" href=\"javascript:void(0);\" onclick=\"openTtalk2();\" title=\"새창열림\">\\n\\t\\t\\t\\t\\t<img id=\"ttalk_quick\" style=\"height: 65px;\" src=\"https://cdn.visitkorea.or.kr/resources/images/main/ttalk.png\" alt=\"관광공사 웹쳇으로 상담하시려면 버튼을 클릭하세요.\">\\n\\t\\t\\t\\t</a>\\n\\t\\t\\t\\t<p>바로 채팅창 열기<span>(바로실행 / 다운로드 불필요)</span></p>\\n\\t\\t\\t</div>\\n\\t\\t\\t<div class=\"group-talk-menu is-ttalk\">\\n\\t\\t\\t\\t<a class=\"tooltip1\" href=\"javascript:void(0);\" onclick=\"openKakao();\" title=\"새창열림\">\\n\\t\\t\\t\\t\\t<img id=\"ktalk_quick\" style=\"height: 65px;\" src=\"https://cdn.visitkorea.or.kr/resources/images/main/kakao.png\" alt=\"카카오톡으로 상담하시려면 버튼을 클릭하세요.\">\\n\\t\\t\\t\\t</a>\\n\\t\\t\\t\\t<p>카카오톡 메신저앱 열기<span>(해당앱이 설치되어 있어야 함)</span></p>\\n\\t\\t\\t</div>\\n\\t\\t\\t<!-- Your Chat Plugin code -->\\n\\t\\t\\t<div class=\"fb-customerchat\" attribution=\"setup_tool\" page_id=\"102691528386100\"></div>\\n\\t\\t\\t<button class=\"close\">닫기</button>\\n\\t\\t</div>\\n\\t\\t<!-- //레이어 -->\\n\\t</div>\\n</div>\\n\\n<script type=\"text/javascript\">\\n\\tvar snsId = \\'null\\';\\n\\n\\t$(function(){\\n\\t\\t//showSetup();\\n\\t});\\n</script>\\n<script src=\"https://cdn.visitkorea.or.kr/resources/js/header.js?v=20201027b9137d42-d41c-4715-9f9e-cbc103e8cada\"></script></header>\\n   <!-- //header -->\\n\\n   <!-- contents -->\\n   <div id=\"contents\">\\n      <div class=\"wrap_contView clfix search\">\\n         <div class=\"box_leftType1\">\\n\\n            <div class=\"box_search\">\\n               <ul class=\"search_menu\">\\n                  <li class=\"on\" id=\"tabView0\"><a href=\"javascript:tab_view(\\'0\\');\" title=\"선택됨\">전체</a></li>\\n                  <li id=\"tabView1\"><a href=\"javascript:tab_view(\\'1\\');\">여행정보</a></li>\\n                  <li id=\"tabView2\"><a href=\"javascript:tab_view(\\'2\\');\">여행기사</a></li>\\n                  <li id=\"tabView3\"><a href=\"javascript:tab_view(\\'3\\');\">축제</a></li>\\n                  <li id=\"tabView5\"><a href=\"javascript:tab_view(\\'5\\');\">이벤트</a></li>\\n               </ul>\\n            </div>\\n\\n            <div class=\"total_check type1\" style=\"height: 49px;\">\\n<!--                <strong>총<span id=\"searchCnt\"></span>건</strong> -->\\n\\n               <span class=\"list_type\">\\n                  <button type=\"button\" onclick=\"changeListType(\\'list\\');\" class=\"list on\" title=\"선택됨\">리스트 형</button>\\n                  <button type=\"button\" onclick=\"changeListType(\\'img\\');\" class=\"img\">이미지 형</button>\\n                  <button type=\"button\" onclick=\"changeListType(&quot;img&quot;);\" id=\"moListType\" class=\"mo_type\">리스트 형</button>\\n               </span>\\n\\n               <div class=\"btn_txt2 type1\" id=\"sort\">\\n                  <span id=\"sorting_options\">\\n\\t                  <button type=\"button\" onclick=\"changeSort(\\'1\\');\" id=\"1\" class=\"on\" title=\"선택됨\">관련도순</button>\\n\\t                  <button type=\"button\" onclick=\"changeSort(\\'2\\');\" id=\"2\">최신순</button>\\n\\t                  <button type=\"button\" onclick=\"changeSort(\\'3\\');\" id=\"3\">인기순</button>\\n\\t                  <button type=\"button\" onclick=\"optionView();\" class=\"option\"><span>옵션</span></button>\\n                  </span>\\n                  <span id=\"event_status_filters\" style=\"display: none;\">\\n\\t                  <button type=\"button\" onclick=\"changeEvtSort(\\'전체\\');\" id=\"전체\" class=\"on\" title=\"선택됨\">전체</button>\\n\\t                  <button type=\"button\" onclick=\"changeEvtSort(\\'진행중\\');\" id=\"진행중\">진행중</button>\\n\\t                  <button type=\"button\" onclick=\"changeEvtSort(\\'종료\\');\" id=\"종료\">종료</button>\\n\\t                  <button type=\"button\" onclick=\"changeEvtSort(\\'당첨자발표\\');\" id=\"당첨자발표\">당첨자발표</button>\\n\\t                  <button type=\"button\" onclick=\"optionView();\" class=\"option\"><span>옵션</span></button>\\n                  </span>\\n               </div>\\n            </div>\\n\\n            <div class=\"option_form\" style=\"display: none;\">\\n               <div class=\"search\"><input type=\"text\" title=\"키워드 검색\" name=\"\" id=\"searchAdd\" onkeyup=\"javascript:if(event.keyCode == 13) getContentList();\" autocomplete=\"off\"><button type=\"button\" onclick=\"getContentList();\">검색</button></div>\\n               <div class=\"mo_close\">\\n               \\t<button type=\"button\" onclick=\"javascript:optionView();\">닫기</button>\\n               </div>\\n               <div class=\"area_tagList\">\\n               \\t<div class=\"inr\">\\n               \\t\\t<strong class=\"stit\">지역</strong>\\n\\t\\t\\t\\t\\t<ul class=\"tag_list area_list js_one\" id=\"arealist\"><!-- [D] 클래스 js_one 추가시 버튼 한 개 선택 Script 적용 -->\\n\\t\\t\\t\\t\\t\\t<li id=\"All\"><button type=\"button\" class=\"btn_all_active\"><span>#전체</span></button></li>\\n\\t\\t\\t\\t\\t\\t<li id=\"1\"><button type=\"button\" class=\"btn\"><span>#서울</span></button></li>\\n\\t\\t\\t\\t\\t\\t<li id=\"6\"><button type=\"button\" class=\"btn\"><span>#부산</span></button></li>\\n\\t\\t\\t\\t\\t\\t<li id=\"4\"><button type=\"button\" class=\"btn\"><span>#대구</span></button></li>\\n\\t\\t\\t\\t\\t\\t<li id=\"2\"><button type=\"button\" class=\"btn\"><span>#인천</span></button></li>\\n\\t\\t\\t\\t\\t\\t<li id=\"5\"><button type=\"button\" class=\"btn\"><span>#광주</span></button></li>\\n\\t\\t\\t\\t\\t\\t<li id=\"3\"><button type=\"button\" class=\"btn\"><span>#대전</span></button></li>\\n\\t\\t\\t\\t\\t\\t<li id=\"7\"><button type=\"button\" class=\"btn\"><span>#울산</span></button></li>\\n\\t\\t\\t\\t\\t\\t<li id=\"8\"><button type=\"button\" class=\"btn\"><span>#세종</span></button></li>\\n\\t\\t\\t\\t\\t\\t<li id=\"31\"><button type=\"button\" class=\"btn\"><span>#경기</span></button></li>\\n\\t\\t\\t\\t\\t\\t<li id=\"32\"><button type=\"button\" class=\"btn\"><span>#강원</span></button></li>\\n\\t\\t\\t\\t\\t\\t<li id=\"33\"><button type=\"button\" class=\"btn\"><span>#충북</span></button></li>\\n\\t\\t\\t\\t\\t\\t<li id=\"34\"><button type=\"button\" class=\"btn\"><span>#충남</span></button></li>\\n\\t\\t\\t\\t\\t\\t<li id=\"35\"><button type=\"button\" class=\"btn\"><span>#경북</span></button></li>\\n\\t\\t\\t\\t\\t\\t<li id=\"36\"><button type=\"button\" class=\"btn\"><span>#경남</span></button></li>\\n\\t\\t\\t\\t\\t\\t<li id=\"37\"><button type=\"button\" class=\"btn\"><span>#전북</span></button></li>\\n\\t\\t\\t\\t\\t\\t<li id=\"38\"><button type=\"button\" class=\"btn\"><span>#전남</span></button></li>\\n\\t\\t\\t\\t\\t\\t<li id=\"39\"><button type=\"button\" class=\"btn\"><span>#제주</span></button></li>\\n\\t\\t\\t\\t\\t</ul>\\n\\t\\t\\t\\t\\t<ul class=\"tag_list area_view_list js_multi\" id=\"sigungulist\">\\n\\t\\t\\t\\t\\t</ul>\\n               \\t\\t<strong class=\"stit\">브랜드 검색<button type=\"button\" onclick=\"javascript:togleBrandOptionOverflow($(this).parent());\">더보기</button></strong><!-- strong에 on 추가 시 펼쳐짐 -->\\n\\t\\t\\t\\t\\t<ul class=\"tag_list brand_list js_multi brand\" id=\"taglist\"><!-- [D] 클래스 js_multi 추가시 버튼 다중 선택 Script 적용 -->\\n\\t\\t\\t\\t\\t\\t<li id=\"All\"><button type=\"button\" class=\"btn_all_active active\" title=\"선택됨\"><span>#전체</span></button></li>\\n\\t\\t\\t\\t\\t<li id=\"*64e29192-8939-11e8-8165-020027310001\" otdid=\"64e29192-8939-11e8-8165-020027310001\" maintype=\"4\" tagtype=\"brand\"><button type=\"button\" class=\"btn\"><span>#한국관광의별</span></button></li><li id=\"*ac9026ca-3ff6-49c9-81cf-10f027b044e9\" otdid=\"ac9026ca-3ff6-49c9-81cf-10f027b044e9\" maintype=\"4\" tagtype=\"brand\"><button type=\"button\" class=\"btn\"><span>#생생 VR 영상</span></button></li><li id=\"*27a4afa8-57a6-11ea-b70a-020027310001\" otdid=\"27a4afa8-57a6-11ea-b70a-020027310001\" maintype=\"4\" tagtype=\"brand\"><button type=\"button\" class=\"btn\"><span>#휴가문화개선</span></button></li><li id=\"*114b23a6-84c4-11e8-8165-020027310001\" otdid=\"114b23a6-84c4-11e8-8165-020027310001\" maintype=\"4\" tagtype=\"brand\"><button type=\"button\" class=\"btn\"><span>#산업관광</span></button></li><li id=\"*daf2add9-b198-49cf-adbb-a14957da3a3c\" otdid=\"daf2add9-b198-49cf-adbb-a14957da3a3c\" maintype=\"4\" tagtype=\"brand\"><button type=\"button\" class=\"btn\"><span>#지역명사문화여행</span></button></li><li id=\"*81f62fd1-8939-11e8-8165-020027310001\" otdid=\"81f62fd1-8939-11e8-8165-020027310001\" maintype=\"4\" tagtype=\"brand\"><button type=\"button\" class=\"btn\"><span>#시티투어</span></button></li><li id=\"*54ddd9f5-fbf0-4b1c-b90b-27f5ec2168a3\" otdid=\"54ddd9f5-fbf0-4b1c-b90b-27f5ec2168a3\" maintype=\"4\" tagtype=\"brand\"><button type=\"button\" class=\"btn\"><span>#관광두레</span></button></li><li id=\"*4e706603-293b-11eb-b8bd-020027310001\" otdid=\"4e706603-293b-11eb-b8bd-020027310001\" maintype=\"4\" tagtype=\"brand\"><button type=\"button\" class=\"btn\"><span>#문화관광축제</span></button></li><li id=\"*b55ffe10-84c3-11e8-8165-020027310001\" otdid=\"b55ffe10-84c3-11e8-8165-020027310001\" maintype=\"4\" tagtype=\"brand\"><button type=\"button\" class=\"btn\"><span>#\\'열린 관광\\' 모두의 여행</span></button></li><li id=\"*7c118d89-d51e-11ea-b8bd-020027310001\" otdid=\"7c118d89-d51e-11ea-b8bd-020027310001\" maintype=\"4\" tagtype=\"brand\"><button type=\"button\" class=\"btn\"><span>#전통한옥</span></button></li><li id=\"*27f7a2ca-84c4-11e8-8165-020027310001\" otdid=\"27f7a2ca-84c4-11e8-8165-020027310001\" maintype=\"4\" tagtype=\"brand\"><button type=\"button\" class=\"btn\"><span>#생태녹색관광</span></button></li><li id=\"*e6900ef3-cfaf-46df-beb4-5df186afb37d\" otdid=\"e6900ef3-cfaf-46df-beb4-5df186afb37d\" maintype=\"4\" tagtype=\"brand\"><button type=\"button\" class=\"btn\"><span>#생활관광</span></button></li><li id=\"*287776d6-8939-11e8-8165-020027310001\" otdid=\"287776d6-8939-11e8-8165-020027310001\" maintype=\"4\" tagtype=\"brand\"><button type=\"button\" class=\"btn\"><span>#추천! 웰니스 관광지</span></button></li><li id=\"*bb37b399-0c7b-4d5f-b0f8-adc47237c627\" otdid=\"bb37b399-0c7b-4d5f-b0f8-adc47237c627\" maintype=\"4\" tagtype=\"brand\"><button type=\"button\" class=\"btn\"><span>#안심여행 캠페인</span></button></li><li id=\"*7ff670df-84fa-11e8-8165-020027310001\" otdid=\"7ff670df-84fa-11e8-8165-020027310001\" maintype=\"4\" tagtype=\"brand\"><button type=\"button\" class=\"btn\"><span>#추천! 가볼만한곳</span></button></li><li id=\"*9e37bef2-f8e2-46c8-9b87-e060e2a4b2c8\" otdid=\"9e37bef2-f8e2-46c8-9b87-e060e2a4b2c8\" maintype=\"4\" tagtype=\"brand\"><button type=\"button\" class=\"btn\"><span>#DMZ 평화관광</span></button></li><li id=\"*456a84d1-84c4-11e8-8165-020027310001\" otdid=\"456a84d1-84c4-11e8-8165-020027310001\" maintype=\"4\" tagtype=\"brand\"><button type=\"button\" class=\"btn\"><span>#한국관광품질인증</span></button></li><li id=\"*622bcd99-84fa-11e8-8165-020027310001\" otdid=\"622bcd99-84fa-11e8-8165-020027310001\" maintype=\"4\" tagtype=\"brand\"><button type=\"button\" class=\"btn\"><span>#한국관광100선</span></button></li><li id=\"*638f5f2a-d1e2-4ade-a5d4-acd2b2d4b434\" otdid=\"638f5f2a-d1e2-4ade-a5d4-acd2b2d4b434\" maintype=\"4\" tagtype=\"brand\"><button type=\"button\" class=\"btn\"><span>#비대면 안심관광지</span></button></li></ul>\\n               \\t</div>\\n               \\t<div class=\"btn_area\">\\n               \\t\\t<a href=\"javascript:optionView();\" class=\"btn01\">확인</a>\\n               \\t\\t<a href=\"javascript:resetSearchDetailOptions();\" class=\"btn02\">초기화</a>\\n               \\t</div>\\n               </div>\\n            </div>\\n            <h3 class=\"blind\" id=\"blindsearchtype\">전체 - 관련도순</h3>\\n            <div class=\"search_result search_body\" id=\"noneBody\" style=\"display: none;\">\\n               <p><strong></strong> 에 대한 검색결과가 없습니다.<br>다른 검색어를 입력하시거나 철자와 띄어쓰기를 확인해 보세요. </p>\\n               <div class=\"banner\">\\n                  <a class=\"banner0\" href=\"https://korean.visitkorea.or.kr/detail/event_detail.do?cotid=d80c2c04-6e0c-4b9f-be9c-f08be21a120a\"><span><img src=\"https://cdn.visitkorea.or.kr/img/call?cmd=VIEW&amp;id=92425982-5493-4c9c-bb21-4d572ccf64a9\" alt=\"\\'당신의 최애 맛집은?\\' 최애 맛집 제보 이벤트\"></span></a>\\n                  <a class=\"banner1\" href=\"https://korean.visitkorea.or.kr/trss/applyintro.do?utm_source=main_showcase\"><span><img src=\"https://cdn.visitkorea.or.kr/img/call?cmd=VIEW&amp;id=959affcc-254d-4161-accb-559b39336b26\" alt=\"핫플 정기 배송! 가볼래-터 구독하고 여행 선물 받자!\"></span></a>\\n               </div>\\n            </div>\\n            <div class=\"proper_search_result\" style=\"display: none;\">\\n            \\t<strong>수정된 <em>‘<span id=\"suggested_keyword\"></span>’</em>으로 검색한 결과입니다.</strong>\\n            \\t<a><em>‘<span id=\"wrong_keyword\"></span>’</em>검색결과 보기</a>\\n            </div>\\n            <div class=\"proper_name\" style=\"display:none;\">\\n               <div class=\"img_map\" id=\"properUl\">\\n                  <ul>\\n                     <li id=\"properThumb\">\\n                        <a href=\"javascript:;\" class=\"img\">\\n                           <em class=\"forecast_icon\">여행예보</em>\\n                           <span><strong>내 위치에서</strong></span>\\n                        </a>\\n                     </li>\\n                     <li>\\n                        <a class=\"map\" id=\"map\" href=\"javascript:;\">\\n\\t\\t\\t\\t\\t\\t\\t<button type=\"button\" id=\"mapOpen\">지도 펼치기</button>\\n\\t\\t\\t\\t\\t\\t</a>\\n\\n                     </li>\\n                  </ul>\\n               </div>\\n               <div class=\"cont\">\\n                  <div class=\"properTitle\">\\n                  </div>\\n                  <div class=\"properBtn\">\\n                  \\t<ul class=\"btn\">\\n                  \\t</ul>\\n                  </div>\\n                  <div class=\"detail\">\\n                  \\t<div>\\n                  \\t\\t<em>주소</em>\\n                  \\t\\t<span id=\"properAddrInfo\"></span>\\n                  \\t</div>\\n                  \\t<div id=\"detailInfo\">\\n                  \\t\\t<em>문의 및 안내</em>\\n                  \\t\\t<span id=\"properAddInfo\"></span>\\n                  \\t</div>\\n                  </div>\\n                  <div class=\"progress_wrap\" id=\"safetyRate\" style=\"display : none;\">\\n                  \\t<div class=\"index\">\\n                  \\t\\t<button type=\"button\" class=\"stit\">안전여행지수</button>\\n                  \\t\\t<div class=\"index_layer\">\\n                  \\t\\t\\tSK텔레콤 SafeCaster에서 제공하는 여행지 혼잡도 <br>데이터를 기반으로, 관광지의 혼잡도를 표시하는 <br>지수입니다.\\n                  \\t\\t</div>\\n                  \\t\\t<div class=\"progress_box\">\\n                  \\t\\t\\t<div class=\"progress\" data-percent=\"0\"><!-- 양호:good, 보통:average, 주의:care, 경계:vigilance, -->\\n                  \\t\\t\\t\\t<span></span>\\n                  \\t\\t\\t\\t<em></em>\\n                  \\t\\t\\t</div>\\n                  \\t\\t\\t<div class=\"layer\">\\n                  \\t\\t\\t\\t<div>\\n                  \\t\\t\\t\\t\\t<strong id=\"progress_desc\"></strong>\\n                  \\t\\t\\t\\t\\t<ul>\\n                  \\t\\t\\t\\t\\t\\t<li>* 안전여행지수는 참고용입니다. </li>\\n                  \\t\\t\\t\\t\\t\\t<li>* 관광지 방문시에는 정부의 방역 준수사항을  따라 주세요.</li>\\n                  \\t\\t\\t\\t\\t</ul>\\n                  \\t\\t\\t\\t</div>\\n                  \\t\\t\\t</div>\\n                  \\t\\t</div>\\n                  \\t\\t<span class=\"materials_offer\">자료제공:safecaster</span>\\n                  \\t</div>\\n                  </div>\\n                  <div class=\"tag\">\\n                  </div>\\n               </div>\\n            </div>\\n\\n            <!-- 브랜드 모아보기(고유명사). -->\\n            <div class=\"brand_search\" id=\"brand_p_noun\" style=\"display: none;\">\\n            </div>\\n\\n            <!-- 리스트형 -->\\n            <div class=\"search_body\" id=\"listBody\" style=\"display: block;\">\\n               <h2 class=\"blind\">리스트형</h2>\\n               <ul class=\"list_thumType type1\"><li><div class=\"photo\"><a href=\"javascript:goSearchDetail(\\'e708bca1-a047-4b1f-9b35-0884ca9a446e\\');\">      <img src=\"https://cdn.visitkorea.or.kr/img/call?cmd=VIEW&amp;id=cef59e5b-c4b0-482a-a97b-c64cd94d32c8\" alt=\"[충주 여행 코스] 봄에 꼭 충주를 가야 하는 이유, 충주 가볼 만한 곳\">   </a></div>   <div class=\"area_txt\">      <div class=\"tit\">         <a href=\"javascript:goSearchDetail(\\'e708bca1-a047-4b1f-9b35-0884ca9a446e\\');\"><em></em>[충주 <!--HS--><em>여행</em><!--HE--> 코스] <!--HS--><em>봄</em><!--HE-->에 꼭 충주를 가야 하는 이유, 충주 가볼 만한 곳</a>      </div>      <div class=\"service\">      <p>충청북도 충주시</p>         <ul class=\"brandingIcon\" id=\"branding_e708bca1-a047-4b1f-9b35-0884ca9a446e\">         </ul>      </div>      <p class=\"tag_type\"><span>#<em></em>충주<em>여행</em></span><span>#<em></em>충주가볼만한곳</span><span>#<em></em><em>봄</em><em>여행</em></span><span>#<em></em><em>봄</em><em>여행</em>지</span><span>#<em></em>충주댐</span><span>#<em></em>활옥동굴</span><span>#<em></em>중앙탑사적공원</span><span>#<em></em>게으른악어</span>   </p></div><button type=\"button\" title=\"열기\" class=\"btn_view\" onclick=\"viewClick(&quot;e708bca1-a047-4b1f-9b35-0884ca9a446e&quot;)\">더보기</button><div class=\"pop_subMenu\">   <ul>      <li class=\"btn_far\"><a href=\"javascript:\" onclick=\"setFavoContent(&quot;e708bca1-a047-4b1f-9b35-0884ca9a446e&quot;)\">즐겨찾기</a></li>      <li class=\"btn_share\" id=\"e708bca1-a047-4b1f-9b35-0884ca9a446e\"><a href=\"javascript:\" onclick=\"getShareInfo(&quot;%5B%EC%B6%A9%EC%A3%BC%20%3C!HS%3E%EC%97%AC%ED%96%89%3C!HE%3E%20%EC%BD%94%EC%8A%A4%5D%20%3C!HS%3E%EB%B4%84%3C!HE%3E%EC%97%90%20%EA%BC%AD%20%EC%B6%A9%EC%A3%BC%EB%A5%BC%20%EA%B0%80%EC%95%BC%20%ED%95%98%EB%8A%94%20%EC%9D%B4%EC%9C%A0%2C%20%EC%B6%A9%EC%A3%BC%20%EA%B0%80%EB%B3%BC%20%EB%A7%8C%ED%95%9C%20%EA%B3%B3&quot;,&quot;cef59e5b-c4b0-482a-a97b-c64cd94d32c8&quot;,&quot;e708bca1-a047-4b1f-9b35-0884ca9a446e&quot;,&quot;304&quot;);\">공유하기</a></li>   </ul></div></li><li><div class=\"photo\"><a href=\"javascript:goSearchDetail(\\'3bb47ec6-39bc-4bb1-91ff-6b4446589fdd\\');\">      <img src=\"https://cdn.visitkorea.or.kr/img/call?cmd=VIEW&amp;id=6591221e-8799-4691-bf85-dd41d0e6cb91\" alt=\"[충남 봄 여행] 낭만 찾아 떠나는 여행, <br>천안·아산 봄나들이\">   </a></div>   <div class=\"area_txt\">      <div class=\"tit\">         <a href=\"javascript:goSearchDetail(\\'3bb47ec6-39bc-4bb1-91ff-6b4446589fdd\\');\"><em></em>[충남 <!--HS--><em>봄</em><!--HE--> <!--HS--><em>여행</em><!--HE-->] 낭만 찾아 떠나는 <!--HS-->여행<!--HE-->, <br>천안·아산 <!--HS-->봄<!--HE-->나들이</a>      </div>      <div class=\"service\">      <p>충청남도 </p>         <ul class=\"brandingIcon\" id=\"branding_3bb47ec6-39bc-4bb1-91ff-6b4446589fdd\">         </ul>      </div>      <p class=\"tag_type\"><span>#<em></em>충남<em>여행</em></span><span>#<em></em>충남가볼만한곳</span><span>#<em></em>천안<em>여행</em></span><span>#<em></em>천안가볼만한곳</span><span>#<em></em>아산<em>여행</em></span><span>#<em></em>아산가볼만한곳</span><span>#<em></em><em>봄</em>나들이</span><span>#<em></em><em>봄</em>나들이<em>여행</em></span><span>#<em></em><em>봄</em><em>여행</em></span><span>#<em></em><em>봄</em><em>여행</em>지</span><span>#<em></em>국내<em>봄</em><em>여행</em>지추천</span><span>#<em></em>벚꽃명소</span><span>#<em></em>천호지</span><span>#<em></em>단대호수</span><span>#<em></em>각원사</span><span>#<em></em>현충사</span><span>#<em></em>아산현충사</span><span>#<em></em>당림미술관</span><span>#<em></em>세계꽃식물원</span>   </p></div><button type=\"button\" title=\"열기\" class=\"btn_view\" onclick=\"viewClick(&quot;3bb47ec6-39bc-4bb1-91ff-6b4446589fdd&quot;)\">더보기</button><div class=\"pop_subMenu\">   <ul>      <li class=\"btn_far\"><a href=\"javascript:\" onclick=\"setFavoContent(&quot;3bb47ec6-39bc-4bb1-91ff-6b4446589fdd&quot;)\">즐겨찾기</a></li>      <li class=\"btn_share\" id=\"3bb47ec6-39bc-4bb1-91ff-6b4446589fdd\"><a href=\"javascript:\" onclick=\"getShareInfo(&quot;%5B%EC%B6%A9%EB%82%A8%20%3C!HS%3E%EB%B4%84%3C!HE%3E%20%3C!HS%3E%EC%97%AC%ED%96%89%3C!HE%3E%5D%20%EB%82%AD%EB%A7%8C%20%EC%B0%BE%EC%95%84%20%EB%96%A0%EB%82%98%EB%8A%94%20%3C!HS%3E%EC%97%AC%ED%96%89%3C!HE%3E%2C%20%3Cbr%3E%EC%B2%9C%EC%95%88%C2%B7%EC%95%84%EC%82%B0%20%3C!HS%3E%EB%B4%84%3C!HE%3E%EB%82%98%EB%93%A4%EC%9D%B4&quot;,&quot;6591221e-8799-4691-bf85-dd41d0e6cb91&quot;,&quot;3bb47ec6-39bc-4bb1-91ff-6b4446589fdd&quot;,&quot;304&quot;);\">공유하기</a></li>   </ul></div></li><li><div class=\"photo\"><a href=\"javascript:goSearchDetail(\\'ea3355b6-2c81-4cca-ae83-dd069820d368\\');\">      <img src=\"https://cdn.visitkorea.or.kr/img/call?cmd=VIEW&amp;id=4f058fab-3a26-433e-87b1-63c9148fe47f\" alt=\"[구례 봄 여행] 달달하게 봄을 즐길 수 있는 구례 봄꽃 명소 4\">   </a></div>   <div class=\"area_txt\">      <div class=\"tit\">         <a href=\"javascript:goSearchDetail(\\'ea3355b6-2c81-4cca-ae83-dd069820d368\\');\"><em></em>[구례 <!--HS--><em>봄</em><!--HE--> <!--HS--><em>여행</em><!--HE-->] 달달하게 <!--HS-->봄<!--HE-->을 즐길 수 있는 구례 <!--HS-->봄<!--HE-->꽃 명소 4</a>      </div>      <div class=\"service\">      <p>전라남도 구례군</p>         <ul class=\"brandingIcon\" id=\"branding_ea3355b6-2c81-4cca-ae83-dd069820d368\">         </ul>      </div>      <p class=\"tag_type\"><span>#<em></em>구례<em>여행</em></span><span>#<em></em>구례가볼만한곳</span><span>#<em></em><em>봄</em>꽃명소</span><span>#<em></em><em>봄</em>꽃</span><span>#<em></em><em>봄</em>꽃<em>여행</em></span><span>#<em></em><em>봄</em><em>여행</em></span><span>#<em></em>산수유마을</span><span>#<em></em>구례산수유마을</span><span>#<em></em>화엄사</span><span>#<em></em>섬진강</span><span>#<em></em>섬진강벚꽃길</span><span>#<em></em>쌍산재</span>   </p></div><button type=\"button\" title=\"열기\" class=\"btn_view\" onclick=\"viewClick(&quot;ea3355b6-2c81-4cca-ae83-dd069820d368&quot;)\">더보기</button><div class=\"pop_subMenu\">   <ul>      <li class=\"btn_far\"><a href=\"javascript:\" onclick=\"setFavoContent(&quot;ea3355b6-2c81-4cca-ae83-dd069820d368&quot;)\">즐겨찾기</a></li>      <li class=\"btn_share\" id=\"ea3355b6-2c81-4cca-ae83-dd069820d368\"><a href=\"javascript:\" onclick=\"getShareInfo(&quot;%5B%EA%B5%AC%EB%A1%80%20%3C!HS%3E%EB%B4%84%3C!HE%3E%20%3C!HS%3E%EC%97%AC%ED%96%89%3C!HE%3E%5D%20%EB%8B%AC%EB%8B%AC%ED%95%98%EA%B2%8C%20%3C!HS%3E%EB%B4%84%3C!HE%3E%EC%9D%84%20%EC%A6%90%EA%B8%B8%20%EC%88%98%20%EC%9E%88%EB%8A%94%20%EA%B5%AC%EB%A1%80%20%3C!HS%3E%EB%B4%84%3C!HE%3E%EA%BD%83%20%EB%AA%85%EC%86%8C%204&quot;,&quot;4f058fab-3a26-433e-87b1-63c9148fe47f&quot;,&quot;ea3355b6-2c81-4cca-ae83-dd069820d368&quot;,&quot;304&quot;);\">공유하기</a></li>   </ul></div></li><li><div class=\"photo\"><a href=\"javascript:goSearchDetail(\\'18174205-81ee-4309-ae25-2fc166d90e20\\');\">      <img src=\"https://cdn.visitkorea.or.kr/img/call?cmd=VIEW&amp;id=45924426-8448-4210-a5c5-ee203cc0aea6\" alt=\"[거제] 봄을 따라 걷는 여행, 거제도\">   </a></div>   <div class=\"area_txt\">      <div class=\"tit\">         <a href=\"javascript:goSearchDetail(\\'18174205-81ee-4309-ae25-2fc166d90e20\\');\"><em></em>[거제] <!--HS--><em>봄</em><!--HE-->을 따라 걷는 <!--HS--><em>여행</em><!--HE-->, 거제도</a>      </div>      <div class=\"service\">      <p>경상남도 거제시</p>         <ul class=\"brandingIcon\" id=\"branding_18174205-81ee-4309-ae25-2fc166d90e20\">         </ul>      </div>      <p class=\"tag_type\"><span>#<em></em>거제</span><span>#<em></em>경남거제</span><span>#<em></em>거제도관광지</span><span>#<em></em>거제도<em>여행</em></span><span>#<em></em>거제섬<em>여행</em></span><span>#<em></em>거제도</span><span>#<em></em>거제도전망좋은곳</span><span>#<em></em>거제도<em>여행</em>코스</span><span>#<em></em>소낭구펜션</span><span>#<em></em><em>봄</em><em>여행</em></span><span>#<em></em>한국관광품질인증</span><span>#<em></em><em>봄</em><em>여행</em>지</span><span>#<em></em>남해<em>여행</em></span><span>#<em></em>거제도펜션</span><span>#<em></em>거제도숙소</span><span>#<em></em>한옥</span><span>#<em></em>한옥펜션</span><span>#<em></em>바비큐</span><span>#<em></em>야외바비큐</span><span>#<em></em>해금강</span><span>#<em></em>외도보타니아</span><span>#<em></em>거제가볼만한곳</span><span>#<em></em>맹종죽순체험길</span><span>#<em></em>바람의언덕</span><span>#<em></em>산책로</span><span>#<em></em>바람의언덕길</span><span>#<em></em>오션뷰</span><span>#<em></em>취사</span><span>#<em></em>거제투어</span>   </p></div><button type=\"button\" title=\"열기\" class=\"btn_view\" onclick=\"viewClick(&quot;18174205-81ee-4309-ae25-2fc166d90e20&quot;)\">더보기</button><div class=\"pop_subMenu\">   <ul>      <li class=\"btn_far\"><a href=\"javascript:\" onclick=\"setFavoContent(&quot;18174205-81ee-4309-ae25-2fc166d90e20&quot;)\">즐겨찾기</a></li>      <li class=\"btn_share\" id=\"18174205-81ee-4309-ae25-2fc166d90e20\"><a href=\"javascript:\" onclick=\"getShareInfo(&quot;%5B%EA%B1%B0%EC%A0%9C%5D%20%3C!HS%3E%EB%B4%84%3C!HE%3E%EC%9D%84%20%EB%94%B0%EB%9D%BC%20%EA%B1%B7%EB%8A%94%20%3C!HS%3E%EC%97%AC%ED%96%89%3C!HE%3E%2C%20%EA%B1%B0%EC%A0%9C%EB%8F%84&quot;,&quot;45924426-8448-4210-a5c5-ee203cc0aea6&quot;,&quot;18174205-81ee-4309-ae25-2fc166d90e20&quot;,&quot;304&quot;);\">공유하기</a></li>   </ul></div></li><li class=\"banner_area\">   <div class=\"pc\">      <a class=\"banner0\" href=\"https://korean.visitkorea.or.kr/detail/event_detail.do?cotid=d80c2c04-6e0c-4b9f-be9c-f08be21a120a\"><span><img src=\"https://cdn.visitkorea.or.kr/img/call?cmd=VIEW&amp;id=92425982-5493-4c9c-bb21-4d572ccf64a9\" alt=\"\\'당신의 최애 맛집은?\\' 최애 맛집 제보 이벤트\"></span></a>      <a class=\"banner1\" href=\"https://korean.visitkorea.or.kr/trss/applyintro.do?utm_source=main_showcase\"><span><img src=\"https://cdn.visitkorea.or.kr/img/call?cmd=VIEW&amp;id=959affcc-254d-4161-accb-559b39336b26\" alt=\"핫플 정기 배송! 가볼래-터 구독하고 여행 선물 받자!\"></span></a>   </div></li><li><div class=\"photo\"><a href=\"javascript:goSearchDetail(\\'da03d388-37b6-47c6-b6a7-a41d35e7d905\\');\">      <img src=\"https://cdn.visitkorea.or.kr/img/call?cmd=VIEW&amp;id=266a02c2-477a-4ecc-92a7-6d18b589996f\" alt=\"국내 당일치기 여행, 진천 봄나들이 추천 명소\">   </a></div>   <div class=\"area_txt\">      <div class=\"tit\">         <a href=\"javascript:goSearchDetail(\\'da03d388-37b6-47c6-b6a7-a41d35e7d905\\');\"><em></em>국내 당일치기 <!--HS--><em>여행</em><!--HE-->, 진천 <!--HS--><em>봄</em><!--HE-->나들이 추천 명소</a>      </div>      <div class=\"service\">      <p>충청북도 진천군</p>         <ul class=\"brandingIcon\" id=\"branding_da03d388-37b6-47c6-b6a7-a41d35e7d905\">         </ul>      </div>      <p class=\"tag_type\"><span>#<em></em>진천<em>여행</em></span><span>#<em></em>진천가볼만한곳</span><span>#<em></em>한반도지형전망공원</span><span>#<em></em>한반도지형</span><span>#<em></em>농다리</span><span>#<em></em>진천농다리</span><span>#<em></em>미르숲</span><span>#<em></em>농암정</span><span>#<em></em>길상사</span><span>#<em></em><em>봄</em><em>여행</em>지</span><span>#<em></em><em>봄</em><em>여행</em>지추천</span>   </p></div><button type=\"button\" title=\"열기\" class=\"btn_view\" onclick=\"viewClick(&quot;da03d388-37b6-47c6-b6a7-a41d35e7d905&quot;)\">더보기</button><div class=\"pop_subMenu\">   <ul>      <li class=\"btn_far\"><a href=\"javascript:\" onclick=\"setFavoContent(&quot;da03d388-37b6-47c6-b6a7-a41d35e7d905&quot;)\">즐겨찾기</a></li>      <li class=\"btn_share\" id=\"da03d388-37b6-47c6-b6a7-a41d35e7d905\"><a href=\"javascript:\" onclick=\"getShareInfo(&quot;%EA%B5%AD%EB%82%B4%20%EB%8B%B9%EC%9D%BC%EC%B9%98%EA%B8%B0%20%3C!HS%3E%EC%97%AC%ED%96%89%3C!HE%3E%2C%20%EC%A7%84%EC%B2%9C%20%3C!HS%3E%EB%B4%84%3C!HE%3E%EB%82%98%EB%93%A4%EC%9D%B4%20%EC%B6%94%EC%B2%9C%20%EB%AA%85%EC%86%8C&quot;,&quot;266a02c2-477a-4ecc-92a7-6d18b589996f&quot;,&quot;da03d388-37b6-47c6-b6a7-a41d35e7d905&quot;,&quot;304&quot;);\">공유하기</a></li>   </ul></div></li><li><div class=\"photo\"><a href=\"javascript:goSearchDetail(\\'98dddf4d-2fd7-4db8-adc2-3a45fcfd88b7\\');\">      <img src=\"https://cdn.visitkorea.or.kr/img/call?cmd=VIEW&amp;id=877a53fb-c4f5-47ec-9715-4cd628751d6d\" alt=\"봄바람 따라 살랑살랑 통영 1박2일 여행코스\">   </a></div>   <div class=\"area_txt\">      <div class=\"tit\">         <a href=\"javascript:goSearchDetail(\\'98dddf4d-2fd7-4db8-adc2-3a45fcfd88b7\\');\"><em></em><!--HS--><em>봄</em><!--HE-->바람 따라 살랑살랑 통영 1박2일 <!--HS--><em>여행</em><!--HE-->코스</a>      </div>      <div class=\"service\">      <p>경상남도 통영시</p>         <ul class=\"brandingIcon\" id=\"branding_98dddf4d-2fd7-4db8-adc2-3a45fcfd88b7\">         </ul>      </div>      <p class=\"tag_type\"><span>#<em></em>통영</span><span>#<em></em>통영1박2일코스</span><span>#<em></em>통영가볼만한곳</span><span>#<em></em>장사도해상공원</span><span>#<em></em>박경리기념관</span><span>#<em></em>미래사</span><span>#<em></em>서피랑</span><span>#<em></em><em>봄</em><em>여행</em></span><span>#<em></em><em>봄</em><em>여행</em>지</span><span>#<em></em><em>봄</em><em>여행</em>지추천</span><span>#<em></em>취향따라_떠나는_특별한_보통날</span><span>#<em></em><em>봄</em><em>여행</em>주간</span><span>#<em></em>미리<em>봄</em>_<em>여행</em>지</span>   </p></div><button type=\"button\" title=\"열기\" class=\"btn_view\" onclick=\"viewClick(&quot;98dddf4d-2fd7-4db8-adc2-3a45fcfd88b7&quot;)\">더보기</button><div class=\"pop_subMenu\">   <ul>      <li class=\"btn_far\"><a href=\"javascript:\" onclick=\"setFavoContent(&quot;98dddf4d-2fd7-4db8-adc2-3a45fcfd88b7&quot;)\">즐겨찾기</a></li>      <li class=\"btn_share\" id=\"98dddf4d-2fd7-4db8-adc2-3a45fcfd88b7\"><a href=\"javascript:\" onclick=\"getShareInfo(&quot;%3C!HS%3E%EB%B4%84%3C!HE%3E%EB%B0%94%EB%9E%8C%20%EB%94%B0%EB%9D%BC%20%EC%82%B4%EB%9E%91%EC%82%B4%EB%9E%91%20%ED%86%B5%EC%98%81%201%EB%B0%952%EC%9D%BC%20%3C!HS%3E%EC%97%AC%ED%96%89%3C!HE%3E%EC%BD%94%EC%8A%A4&quot;,&quot;877a53fb-c4f5-47ec-9715-4cd628751d6d&quot;,&quot;98dddf4d-2fd7-4db8-adc2-3a45fcfd88b7&quot;,&quot;304&quot;);\">공유하기</a></li>   </ul></div></li><li><div class=\"photo\"><a href=\"javascript:goSearchDetail(\\'526908dc-0a8f-4682-9192-9a0380f24391\\');\">      <img src=\"https://cdn.visitkorea.or.kr/img/call?cmd=VIEW&amp;id=e2e5ee20-2f4a-4f5b-ba8f-3ad8e9980a5d\" alt=\"우리 아이와 봄나들이 갈 시간⏰ <br>서울 근교 여행지 4\">   </a></div>   <div class=\"area_txt\">      <div class=\"tit\">         <a href=\"javascript:goSearchDetail(\\'526908dc-0a8f-4682-9192-9a0380f24391\\');\"><em></em>우리 아이와 <!--HS--><em>봄</em><!--HE-->나들이 갈 시간⏰ <br>서울 근교 <!--HS--><em>여행</em><!--HE-->지 4</a>      </div>      <div class=\"service\">      <p>전국 </p>         <ul class=\"brandingIcon\" id=\"branding_526908dc-0a8f-4682-9192-9a0380f24391\">         </ul>      </div>      <p class=\"tag_type\"><span>#<em></em>화성<em>여행</em></span><span>#<em></em>화성가볼만한곳</span><span>#<em></em>트로피컬베이</span><span>#<em></em>파주<em>여행</em></span><span>#<em></em>파주가볼만한곳</span><span>#<em></em>애플샤인농원</span><span>#<em></em>인천<em>여행</em></span><span>#<em></em>인천가볼만한곳</span><span>#<em></em>송도해돋이공원</span><span>#<em></em>해돋이공원</span><span>#<em></em>서울<em>여행</em></span><span>#<em></em>서울가볼만한곳</span><span>#<em></em>선유도공원</span><span>#<em></em><em>봄</em>나들이</span><span>#<em></em><em>봄</em>나들이<em>여행</em></span><span>#<em></em>아이와함께</span><span>#<em></em>세시간전</span><span>#<em></em><em>봄</em><em>여행</em></span><span>#<em></em>당일치기<em>여행</em></span>   </p></div><button type=\"button\" title=\"열기\" class=\"btn_view\" onclick=\"viewClick(&quot;526908dc-0a8f-4682-9192-9a0380f24391&quot;)\">더보기</button><div class=\"pop_subMenu\">   <ul>      <li class=\"btn_far\"><a href=\"javascript:\" onclick=\"setFavoContent(&quot;526908dc-0a8f-4682-9192-9a0380f24391&quot;)\">즐겨찾기</a></li>      <li class=\"btn_share\" id=\"526908dc-0a8f-4682-9192-9a0380f24391\"><a href=\"javascript:\" onclick=\"getShareInfo(&quot;%EC%9A%B0%EB%A6%AC%20%EC%95%84%EC%9D%B4%EC%99%80%20%3C!HS%3E%EB%B4%84%3C!HE%3E%EB%82%98%EB%93%A4%EC%9D%B4%20%EA%B0%88%20%EC%8B%9C%EA%B0%84%E2%8F%B0%20%3Cbr%3E%EC%84%9C%EC%9A%B8%20%EA%B7%BC%EA%B5%90%20%3C!HS%3E%EC%97%AC%ED%96%89%3C!HE%3E%EC%A7%80%204&quot;,&quot;e2e5ee20-2f4a-4f5b-ba8f-3ad8e9980a5d&quot;,&quot;526908dc-0a8f-4682-9192-9a0380f24391&quot;,&quot;304&quot;);\">공유하기</a></li>   </ul></div></li><li><div class=\"photo\"><a href=\"javascript:goSearchDetail(\\'24a61392-c659-4230-b96f-1121fc3a25ad\\');\">      <img src=\"https://cdn.visitkorea.or.kr/img/call?cmd=VIEW&amp;id=3c005958-332e-4af7-91ac-f9a63fae88cb\" alt=\"아이와 봄 드라이브 떠나자! 안성 여행지 4\">   </a></div>   <div class=\"area_txt\">      <div class=\"tit\">         <a href=\"javascript:goSearchDetail(\\'24a61392-c659-4230-b96f-1121fc3a25ad\\');\"><em></em>아이와 <!--HS--><em>봄</em><!--HE--> 드라이브 떠나자! 안성 <!--HS--><em>여행</em><!--HE-->지 4</a>      </div>      <div class=\"service\">      <p>경기도 안성시</p>         <ul class=\"brandingIcon\" id=\"branding_24a61392-c659-4230-b96f-1121fc3a25ad\">         </ul>      </div>      <p class=\"tag_type\"><span>#<em></em>안성<em>여행</em></span><span>#<em></em>안성가볼만한곳</span><span>#<em></em>드라이브<em>여행</em></span><span>#<em></em><em>봄</em><em>여행</em></span><span>#<em></em><em>봄</em><em>여행</em>지</span><span>#<em></em>안성팜랜드</span><span>#<em></em>소나무카페</span><span>#<em></em>풍사니랑</span><span>#<em></em>아메리카나</span><span>#<em></em>아이와함께</span><span>#<em></em>세시간전</span>   </p></div><button type=\"button\" title=\"열기\" class=\"btn_view\" onclick=\"viewClick(&quot;24a61392-c659-4230-b96f-1121fc3a25ad&quot;)\">더보기</button><div class=\"pop_subMenu\">   <ul>      <li class=\"btn_far\"><a href=\"javascript:\" onclick=\"setFavoContent(&quot;24a61392-c659-4230-b96f-1121fc3a25ad&quot;)\">즐겨찾기</a></li>      <li class=\"btn_share\" id=\"24a61392-c659-4230-b96f-1121fc3a25ad\"><a href=\"javascript:\" onclick=\"getShareInfo(&quot;%EC%95%84%EC%9D%B4%EC%99%80%20%3C!HS%3E%EB%B4%84%3C!HE%3E%20%EB%93%9C%EB%9D%BC%EC%9D%B4%EB%B8%8C%20%EB%96%A0%EB%82%98%EC%9E%90!%20%EC%95%88%EC%84%B1%20%3C!HS%3E%EC%97%AC%ED%96%89%3C!HE%3E%EC%A7%80%204&quot;,&quot;3c005958-332e-4af7-91ac-f9a63fae88cb&quot;,&quot;24a61392-c659-4230-b96f-1121fc3a25ad&quot;,&quot;304&quot;);\">공유하기</a></li>   </ul></div></li><li><div class=\"photo\"><a href=\"javascript:goSearchDetail(\\'d7008509-e8e9-48b7-9510-596c3c24cfea\\');\">      <img src=\"https://cdn.visitkorea.or.kr/img/call?cmd=VIEW&amp;id=df95cb6c-c1be-45b9-a643-9b01a49dacb2\" alt=\"국내 봄 여행지, <br>군위 비대면 봄나들이 코스\">   </a></div>   <div class=\"area_txt\">      <div class=\"tit\">         <a href=\"javascript:goSearchDetail(\\'d7008509-e8e9-48b7-9510-596c3c24cfea\\');\"><em></em>국내 <!--HS--><em>봄</em><!--HE--> <!--HS--><em>여행</em><!--HE-->지, <br>군위 비대면 <!--HS-->봄<!--HE-->나들이 코스</a>      </div>      <div class=\"service\">      <p>경상북도 군위군</p>         <ul class=\"brandingIcon\" id=\"branding_d7008509-e8e9-48b7-9510-596c3c24cfea\">         </ul>      </div>      <p class=\"tag_type\"><span>#<em></em>군위<em>여행</em></span><span>#<em></em>군위가볼만한곳</span><span>#<em></em>삼존석굴</span><span>#<em></em>군위삼존석굴</span><span>#<em></em>한밤마을</span><span>#<em></em>화본역</span><span>#<em></em>혜원의집</span><span>#<em></em>영화촬영지</span><span>#<em></em>화산산성</span><span>#<em></em>\\u200b화산산성전망대</span><span>#<em></em>리틀포레스트</span>   </p></div><button type=\"button\" title=\"열기\" class=\"btn_view\" onclick=\"viewClick(&quot;d7008509-e8e9-48b7-9510-596c3c24cfea&quot;)\">더보기</button><div class=\"pop_subMenu\">   <ul>      <li class=\"btn_far\"><a href=\"javascript:\" onclick=\"setFavoContent(&quot;d7008509-e8e9-48b7-9510-596c3c24cfea&quot;)\">즐겨찾기</a></li>      <li class=\"btn_share\" id=\"d7008509-e8e9-48b7-9510-596c3c24cfea\"><a href=\"javascript:\" onclick=\"getShareInfo(&quot;%EA%B5%AD%EB%82%B4%20%3C!HS%3E%EB%B4%84%3C!HE%3E%20%3C!HS%3E%EC%97%AC%ED%96%89%3C!HE%3E%EC%A7%80%2C%20%3Cbr%3E%EA%B5%B0%EC%9C%84%20%EB%B9%84%EB%8C%80%EB%A9%B4%20%3C!HS%3E%EB%B4%84%3C!HE%3E%EB%82%98%EB%93%A4%EC%9D%B4%20%EC%BD%94%EC%8A%A4&quot;,&quot;df95cb6c-c1be-45b9-a643-9b01a49dacb2&quot;,&quot;d7008509-e8e9-48b7-9510-596c3c24cfea&quot;,&quot;304&quot;);\">공유하기</a></li>   </ul></div></li><li><div class=\"photo\"><a href=\"javascript:goSearchDetail(\\'1211a414-7157-485f-b92f-72d902227263\\');\">      <img src=\"https://cdn.visitkorea.or.kr/img/call?cmd=VIEW&amp;id=e69ed84c-1294-433e-abcd-33e384b15e6e\" alt=\"아침부터 밤까지, 봄 냄새 가득한 \\'사천\\' 여행\">   </a></div>   <div class=\"area_txt\">      <div class=\"tit\">         <a href=\"javascript:goSearchDetail(\\'1211a414-7157-485f-b92f-72d902227263\\');\"><em></em>아침부터 밤까지, <!--HS--><em>봄</em><!--HE--> 냄새 가득한 \\'사천\\' <!--HS--><em>여행</em><!--HE--></a>      </div>      <div class=\"service\">      <p>경상남도 사천시</p>         <ul class=\"brandingIcon\" id=\"branding_1211a414-7157-485f-b92f-72d902227263\">         </ul>      </div>      <p class=\"tag_type\"><span>#<em></em>사천<em>여행</em></span><span>#<em></em>사천<em>여행</em>코스</span><span>#<em></em>사천가볼만한곳</span><span>#<em></em><em>봄</em><em>여행</em></span><span>#<em></em>수양공원</span><span>#<em></em>사천읍성</span><span>#<em></em>포담</span><span>#<em></em>실안해안도로</span><span>#<em></em>삼천포대교</span>   </p></div><button type=\"button\" title=\"열기\" class=\"btn_view\" onclick=\"viewClick(&quot;1211a414-7157-485f-b92f-72d902227263&quot;)\">더보기</button><div class=\"pop_subMenu\">   <ul>      <li class=\"btn_far\"><a href=\"javascript:\" onclick=\"setFavoContent(&quot;1211a414-7157-485f-b92f-72d902227263&quot;)\">즐겨찾기</a></li>      <li class=\"btn_share\" id=\"1211a414-7157-485f-b92f-72d902227263\"><a href=\"javascript:\" onclick=\"getShareInfo(&quot;%EC%95%84%EC%B9%A8%EB%B6%80%ED%84%B0%20%EB%B0%A4%EA%B9%8C%EC%A7%80%2C%20%3C!HS%3E%EB%B4%84%3C!HE%3E%20%EB%83%84%EC%83%88%20%EA%B0%80%EB%93%9D%ED%95%9C%20%26%2339%3B%EC%82%AC%EC%B2%9C%26%2339%3B%20%3C!HS%3E%EC%97%AC%ED%96%89%3C!HE%3E&quot;,&quot;e69ed84c-1294-433e-abcd-33e384b15e6e&quot;,&quot;1211a414-7157-485f-b92f-72d902227263&quot;,&quot;304&quot;);\">공유하기</a></li>   </ul></div></li></ul>\\n               <!-- paging -->\\n               <div class=\"page_box\" id=\"page_box\" style=\"display: block;\"><a class=\"on\" title=\"선택됨\" href=\"javascript:\" id=\"1\">1</a> <a href=\"javascript:\" id=\"2\">2</a>  <a href=\"javascript:\" id=\"3\">3</a>  <a href=\"javascript:\" id=\"4\">4</a>  <a href=\"javascript:\" id=\"5\">5</a>  <a href=\"javascript:\" class=\"btn_next ico\" id=\"6\">다음</a><a class=\"btn_last ico\" href=\"javascript:\" id=\"139\">끝</a></div>\\n            </div>\\n\\n            <!-- 앨범형 -->\\n            <div class=\"search_body\" id=\"albumBody\" style=\"display: none;\">\\n               <h2 class=\"blind\">앨범형</h2>\\n               <div class=\"imgtype_list\">\\n                  <ul class=\"list_thumType\">\\n                  </ul>\\n                  <!-- paging -->\\n               </div>\\n               <div class=\"page_box\" id=\"page_box\" style=\"display: block;\"><a class=\"on\" title=\"선택됨\" href=\"javascript:\" id=\"1\">1</a> <a href=\"javascript:\" id=\"2\">2</a>  <a href=\"javascript:\" id=\"3\">3</a>  <a href=\"javascript:\" id=\"4\">4</a>  <a href=\"javascript:\" id=\"5\">5</a>  <a href=\"javascript:\" class=\"btn_next ico\" id=\"6\">다음</a><a class=\"btn_last ico\" href=\"javascript:\" id=\"139\">끝</a></div>\\n            </div>\\n\\n            <!-- 이미지/동영상 -->\\n            <div class=\"search_body\" id=\"imgBody\" style=\"display: none;\">\\n               <h2 class=\"blind\">이미지형</h2>\\n               <div class=\"box_imgMv\">\\n                  <ul class=\"list_thumType3 clfix\">\\n                  </ul>\\n               </div>\\n\\n               <!-- paging -->\\n               <div class=\"page_box\" id=\"page_box\" style=\"display: block;\"><a class=\"on\" title=\"선택됨\" href=\"javascript:\" id=\"1\">1</a> <a href=\"javascript:\" id=\"2\">2</a>  <a href=\"javascript:\" id=\"3\">3</a>  <a href=\"javascript:\" id=\"4\">4</a>  <a href=\"javascript:\" id=\"5\">5</a>  <a href=\"javascript:\" class=\"btn_next ico\" id=\"6\">다음</a><a class=\"btn_last ico\" href=\"javascript:\" id=\"139\">끝</a></div>\\n            </div>\\n\\n         </div>\\n\\n         <div class=\"right_menu\">\\n            <div class=\"box_rightType2\">\\n               <div class=\"right_wrap02\">\\n                  <div class=\"box_rightType3\">\\n                     <!-- 추천 검색어 -->\\n                     <!-- <div class=\"area_sWordList\">\\n                        <h3>추천 검색어</h3>\\n                        <ul id=\"tab1\">\\n                        </ul>\\n                     </div> -->\\n                     <!-- // 추천 검색어 -->\\n\\n                     <!-- 어제의 인기 검색어 -->\\n                     <div class=\"area_sWordList\" id=\"sWord2\">\\n                        <h3>어제의 인기 검색어</h3>\\n                        <ul id=\"p_search\"><li><a href=\"javascript:\"><span class=\"num_best\">1</span><em>가을 여행</em></a></li><li><a href=\"javascript:\"><span class=\"num_best\">2</span><em>서울</em></a></li><li><a href=\"javascript:\"><span class=\"num_best\">3</span><em>부산</em></a></li><li><a href=\"javascript:\"><span>4</span><em>경기도</em></a></li><li><a href=\"javascript:\"><span>5</span><em>강원도</em></a></li><li><a href=\"javascript:\"><span>6</span><em>제주</em></a></li><li><a href=\"javascript:\"><span>7</span><em>속초</em></a></li><li><a href=\"javascript:\"><span>8</span><em>전주</em></a></li><li><a href=\"javascript:\"><span>9</span><em>제주도</em></a></li><li><a href=\"javascript:\"><span>10</span><em>경주</em></a></li></ul>\\n                     </div>\\n                     <!-- //어제의 인기 검색어 -->\\n                  </div>\\n\\n                  <div class=\"box_rightType4\"><!-- 0502 추가 -->\\n                     <a href=\"javascript:goJikimiNew();\"><img src=\"https://cdn.visitkorea.or.kr/resources/images/sub/bg_r_banner01.jpg\" alt=\"찾으시는 정보가  없으신가요?신규관광정보에  대한 사용자들의 제보를 기다리고 있습니다.신규관광정보 신청 바로가기\"></a>\\n                  </div>\\n               </div>\\n            </div>\\n         </div>\\n      </div>\\n   </div>\\n   <!-- //contents -->\\n\\n   <!-- 공지사항 , 유관기관, footer-->\\n   <div id=\"footer\">\\n\\n\\n\\n\\n\\n\\n\\n\\n\\n<footer>\\n\\t<div class=\"partnersFot\" style=\"display: none;\">\\n\\t\\t<div>\\n\\t\\t\\t<a href=\"/partners/partners_privacy.do\">Partners 개인정보처리방침</a>\\n\\t\\t\\t<a href=\"/partners/partners_term.do\">Partners 이용약관</a>\\n\\t\\t</div>\\n\\t</div>\\n\\t<!-- 공지사항-->\\n\\t<div class=\"area_notice\">\\n\\t\\t<div>\\n\\t\\t\\t<!-- 1122 수정 -->\\n\\t\\t\\t<!-- a href=\"javascript:\" class=\"btn_topMove\">위로이동</a-->\\n\\t\\t\\t<div id=\"stamp\" class=\"stampQuick scroll\" style=\"display: none;\"><!-- off 추가시 비활성화 -->\\n\\t\\t\\t\\t<div class=\"inner\">\\n\\t\\t\\t\\t\\t<button type=\"button\" id=\"stampOk\" onclick=\"\" class=\"btn_topMove2\">발도장</button>\\n\\t\\t\\t\\t\\t<button type=\"button\" class=\"close\" onclick=\"closeStamp();\">닫기</button>\\n\\t\\t\\t\\t</div>\\n\\t\\t\\t</div>\\n\\t\\t\\t<div class=\"btn_topWrap main\"><!-- 1210 main 클래스 추가 -->\\n\\t\\t\\t\\t<div class=\"inner\">\\n                          <a href=\"javascript:;\" class=\"floatingShare\" style=\"display: none;\">sns 공유</a>\\n\\t\\t\\t\\t\\t<a href=\"javascript:;\" class=\"btn_topMove2\">위로이동</a>\\n\\t\\t\\t\\t</div>\\n\\t\\t\\t</div>\\n\\t\\t\\t<!-- // 1122 수정 -->\\n\\t\\t\\t<!-- 0801 추가 -->\\n\\t\\t\\t<!-- Swiper Slider -->\\n\\t\\t\\t<div class=\"notice_slider\">\\n\\t\\t\\t\\t<div class=\"swiper-container swiper-container-initialized swiper-container-vertical\">\\n\\t\\t\\t\\t\\t<ul class=\"swiper-wrapper\" id=\"mainnewslist\" style=\"transition-duration: 300ms; transform: translate3d(0px, -325px, 0px);\"><li class=\"swiper-slide swiper-slide-duplicate\" data-swiper-slide-index=\"9\" style=\"height: 65px;\">\\t<a href=\"javascript:\" onclick=\"goNews(&quot;257ae81c-71c7-4740-a6e2-3bcdf8a18dcd&quot;);\" tabindex=\"-1\">[소식][한국관광공사] 반려동물 동반 캠핑, 해남 오시아노에서 제대로 해보자</a></li><li class=\"swiper-slide\" data-swiper-slide-index=\"0\" style=\"height: 65px;\">\\t<a href=\"javascript:\" onclick=\"goNews(&quot;ea4cedc3-8d23-489e-96ba-66b5fbc929c1&quot;);\" tabindex=\"-1\">[소식][한국관광공사] 올 추석엔 ‘대한민국 구석구석’과 함께 국내여행 즐겨봐요!</a></li><li class=\"swiper-slide\" data-swiper-slide-index=\"1\" style=\"height: 65px;\">\\t<a href=\"javascript:\" onclick=\"goNews(&quot;a9dc1a49-d3e6-4fc7-8d6f-dc1782f485be&quot;);\" tabindex=\"-1\">[소식][한국관광공사] 서비스 중단된 유튜브 채널 복구 및 재발 방지 긴급 대책 수립</a></li><li class=\"swiper-slide\" data-swiper-slide-index=\"2\" style=\"height: 65px;\">\\t<a href=\"javascript:\" onclick=\"goNews(&quot;0de0df83-ad8a-44ac-91eb-6f9ef705ebba&quot;);\" tabindex=\"-1\">[소식][강원] 신중년 로컬여행 호스트 양성과정</a></li><li class=\"swiper-slide swiper-slide-prev\" data-swiper-slide-index=\"3\" style=\"height: 65px;\">\\t<a href=\"javascript:\" onclick=\"goNews(&quot;3111eaba-81a1-4626-bec1-c7085783c447&quot;);\" tabindex=\"0\">[소식][한국관광공사 X 리얼월드] 디지털 관광 콘텐츠 챌린지 개최!</a></li><li class=\"swiper-slide swiper-slide-active\" data-swiper-slide-index=\"4\" style=\"height: 65px;\">\\t<a href=\"javascript:\" onclick=\"goNews(&quot;5898d1ec-9244-46a8-857d-ab708ab2eccd&quot;);\" tabindex=\"-1\">[소식][한국관광공사] 코로나로 끊겼던 한국-대만 관광교류 ‘재가동’</a></li><li class=\"swiper-slide swiper-slide-next\" data-swiper-slide-index=\"5\" style=\"height: 65px;\">\\t<a href=\"javascript:\" onclick=\"goNews(&quot;b9338913-f3d0-4d6e-b4ce-40131946db33&quot;);\" tabindex=\"-1\">[소식][한국관광공사] “지역관광 활성화 우리가 이끕니다”</a></li><li class=\"swiper-slide\" data-swiper-slide-index=\"6\" style=\"height: 65px;\">\\t<a href=\"javascript:\" onclick=\"goNews(&quot;d7be8f6b-9907-4597-8517-d7ae393fea8a&quot;);\" tabindex=\"-1\">[소식][한국관광공사] 국내 관광벤처기업의 해외시장 진출 본격 탄력</a></li><li class=\"swiper-slide\" data-swiper-slide-index=\"7\" style=\"height: 65px;\">\\t<a href=\"javascript:\" onclick=\"goNews(&quot;f1f6642e-f9ed-4fe2-b275-028aa07053ea&quot;);\" tabindex=\"-1\">[소식][한국관광공사] 댕댕아, 올가을에는 크루즈 타자</a></li><li class=\"swiper-slide\" data-swiper-slide-index=\"8\" style=\"height: 65px;\">\\t<a href=\"javascript:\" onclick=\"goNews(&quot;a742cb48-dcb0-4240-8cd4-472c775a45d1&quot;);\" tabindex=\"-1\">[소식][한국관광공사] 주한 유학생, 부여에서 인문학으로 놀다</a></li><li class=\"swiper-slide\" data-swiper-slide-index=\"9\" style=\"height: 65px;\">\\t<a href=\"javascript:\" onclick=\"goNews(&quot;257ae81c-71c7-4740-a6e2-3bcdf8a18dcd&quot;);\" tabindex=\"-1\">[소식][한국관광공사] 반려동물 동반 캠핑, 해남 오시아노에서 제대로 해보자</a></li><li class=\"swiper-slide swiper-slide-duplicate\" data-swiper-slide-index=\"0\" style=\"height: 65px;\">\\t<a href=\"javascript:\" onclick=\"goNews(&quot;ea4cedc3-8d23-489e-96ba-66b5fbc929c1&quot;);\" tabindex=\"-1\">[소식][한국관광공사] 올 추석엔 ‘대한민국 구석구석’과 함께 국내여행 즐겨봐요!</a></li></ul>\\n\\t\\t\\t\\t<span class=\"swiper-notification\" aria-live=\"assertive\" aria-atomic=\"true\"></span></div>\\n\\t\\t\\t\\t<div class=\"paging\">\\n\\t\\t\\t\\t\\t<button type=\"button\" class=\"btn_autoPlay\">재생</button>\\n\\t\\t\\t\\t\\t<button type=\"button\" class=\"btn_autoStop\">멈춤</button>\\n\\t\\t\\t\\t</div>\\n\\t\\t\\t\\t<button type=\"button\" class=\"swiper-button-prev\" tabindex=\"0\" role=\"button\" aria-label=\"Previous slide\">이전</button>\\n\\t\\t\\t\\t<button type=\"button\" class=\"swiper-button-next\" tabindex=\"0\" role=\"button\" aria-label=\"Next slide\">다음</button>\\n\\t\\t\\t\\t<!-- 1019 더보기버튼 추가 -->\\n<!-- \\t\\t\\t\\t\\t<a href=\"javascript:goNews(\\'1\\');\" class=\"ns_more_link\"><span class=\"blind\">더 보기</span></a> -->\\n\\t\\t\\t\\t<a href=\"javascript:goEvent(\\'2\\');\" class=\"ns_more_link\"><span class=\"blind\">더 보기</span></a>\\n\\t\\t\\t\\t<!-- // 1019 더보기버튼 추가 -->\\n\\t\\t\\t</div>\\n\\t\\t\\t<!-- // Swiper Slider -->\\n\\t\\t\\t<!-- // 0802 추가 -->\\n\\n\\t\\t\\t<!-- Footer 02-23 추가 -->\\n\\t\\t\\t<div class=\"sel_area\">\\n                <div class=\"sel_member\">\\n                    <select title=\"관광정보 선택\" id=\"relation2\">\\n                        <option value=\"\">관광정보</option>\\n                        <option value=\"https://korean.visitkorea.or.kr/notice/guide_book.do\" title=\"새창\">가이드북</option>\\n\\t\\t\\t\\t\\t\\t<option value=\"http://www.benikea.com\" title=\"새창\">베니키아</option>\\n\\t\\t\\t\\t\\t\\t<option value=\"https://www.gocamping.or.kr/account/sso/broker.do\" title=\"새창\">고캠핑</option>\\n\\t\\t\\t\\t\\t\\t<option value=\"https://www.durunubi.kr\" title=\"새창\">두루누비</option>\\n\\t\\t\\t\\t\\t\\t<option value=\"http://kto.visitkorea.or.kr/kor/customer/complaints/intro.kto\" title=\"새창\">관광불편신고센터</option>\\n\\t\\t\\t\\t\\t\\t<option value=\"http://www.wififree.kr\" title=\"새창\">공공 와이파이</option>\\n\\t\\t\\t\\t\\t\\t<option value=\"http://www.welchon.com\" title=\"새창\">농촌여행 웰촌</option>\\n\\t\\t\\t\\t\\t\\t<option value=\"https://www.templestay.com/\" title=\"새창\">템플스테이</option>\\n\\t\\t\\t\\t\\t\\t<option value=\"https://www.cha.go.kr/eventInfo/index.do\" title=\"새창\">문화유산 유유자적</option>\\n\\t\\t\\t\\t\\t\\t<option value=\"http://safestay.visitkorea.or.kr\" title=\"새창\">세이프스테이</option>\\n\\t\\t\\t\\t\\t\\t<option value=\"https://blog.naver.com/ktourtop10\" title=\"새창\">테마여행 10선</option>\\n\\t\\t\\t\\t\\t\\t<option value=\"https://tourdure.mcst.go.kr\" title=\"새창\">관광두레</option>\\n\\n\\t\\t\\t\\t\\t\\t<option value=\"photogallery\" title=\"새창\">관광사진 갤러리</option>\\n\\t\\t\\t\\t\\t\\t<option value=\"https://kshoppass.com/m/\" title=\"새창\">스마트 쇼핑패스</option>\\n\\t\\t\\t\\t\\t\\t<option value=\"https://api.visitkorea.or.kr/main.do\" title=\"새창\">TourAPI3.0</option>\\n\\t\\t\\t\\t\\t\\t<option value=\"datalab\" title=\"새창\">데이터랩</option>\\n                    </select>\\n                    <a href=\"javascript:goRelation2()\" class=\"link_view\" title=\"선택관광정보로_새 창 열림\">이동</a>\\n                </div>\\n                <div class=\"sel_member\">\\n                    <select name=\"relation\" id=\"relation\" title=\"유관기관 선택\">\\n\\t\\t\\t\\t\\t\\t<option value=\"\">유관기관</option>\\n\\t\\t\\t\\t\\t\\t<option value=\"http://www.0404.go.kr\" title=\"새창\">외교통상부 해외 안전여행</option>\\n\\t\\t\\t\\t\\t\\t<option value=\"https://www.youtube.com/watch?v=muB4_LNZ2Rk\" title=\"새창\">대한민국의 아름다운영토 독도</option>\\n\\t\\t\\t\\t\\t\\t<option value=\"http://www.museumonroad.org\" title=\"새창\">박물관 길위의 인문학</option>\\n\\t\\t\\t\\t\\t\\t<option value=\"http://www.namdokorea.com\" title=\"새창\">전남 관광지 순환버스 남도한바퀴</option>\\n\\t\\t\\t\\t\\t\\t<option value=\"http://k-mice.visitkorea.or.kr\" title=\"새창\">국가mice 포털</option>\\n\\t\\t\\t\\t\\t\\t<option value=\"http://www.mmca.go.kr\" title=\"새창\">국립현대미술관</option>\\n\\t\\t\\t\\t\\t\\t<option value=\"http://www.ggtour.or.kr\" title=\"새창\">경기관광공사</option>\\n\\t\\t\\t\\t\\t\\t<option value=\"http://www.ijto.or.kr\" title=\"새창\">제주관광공사</option>\\n\\t\\t\\t\\t\\t\\t<option value=\"http://bto.or.kr\" title=\"새창\">부산관광공사</option>\\n\\t\\t\\t\\t\\t\\t<option value=\"http://www.travelicn.or.kr\" title=\"새창\">인천관광공사</option>\\n\\t\\t\\t\\t\\t\\t<option value=\"http://www.seoulwelcome.com\" title=\"새창\">서울관광재단</option>\\n\\t\\t\\t\\t\\t\\t<option value=\"http://www.korail.go.kr\" title=\"새창\">한국철도공사</option>\\n\\t\\t\\t\\t\\t\\t<option value=\"http://www.museum.go.kr\" title=\"새창\">국립중앙박물관</option>\\n\\t\\t\\t\\t\\t\\t<option value=\"http://www.mcst.go.kr\" title=\"새창\">문화체육관광부</option>\\n\\t\\t\\t\\t\\t\\t<option value=\"http://www.fowi.or.kr\" title=\"새창\">한국산림복지진흥원</option>\\n\\t\\t\\t\\t\\t\\t<option value=\"http://www.dmz.go.kr\" title=\"새창\">디엠지기(DMZIGI)</option>\\n\\t\\t\\t\\t\\t\\t<option value=\"http://www.vkc.or.kr\" title=\"새창\">한국방문위원회</option>\\n\\t\\t\\t\\t\\t\\t<option value=\"http://www.culture.go.kr/wday\" title=\"새창\">문화가 있는 날</option>\\n\\t\\t\\t\\t\\t\\t<option value=\"https://inmun360.culture.go.kr\" title=\"새창\">인문 360˚</option>\\n\\t\\t\\t\\t\\t\\t<option value=\"https://www.ex.co.kr\" title=\"새창\">한국도로공사</option>\\n\\t\\t\\t\\t\\t</select>\\n\\t\\t\\t\\t\\t<a href=\"javascript:goRelation();\" class=\"link_view\" title=\"선택 유관기관으로_새 창 열림\">이동</a>\\n                </div>\\n            </div>\\n            <!-- -->\\n\\t\\t</div>\\n\\t</div>\\n\\t<!-- //공지사항 -->\\n\\t<div class=\"box_footer\">\\n\\t\\t<!-- SNS -->\\n\\t\\t<div class=\"footer_sns_list\">\\n\\t\\t\\t<strong class=\"tit\">대한민국 구석구석을 SNS에서 만나보세요! </strong><!-- 1002 추가 -->\\n\\t\\t\\t<ul>\\n\\t\\t\\t\\t<li>\\n\\t\\t\\t\\t\\t<a href=\"http://blog.naver.com/korea_diary/\" target=\"_blank\" title=\"새창\">\\n\\t\\t\\t\\t\\t\\t<span class=\"ico ico_blog\"></span>\\n\\t\\t\\t\\t\\t\\t<em class=\"sns_name\">블로그</em>\\n\\t\\t\\t\\t\\t</a>\\n\\t\\t\\t\\t</li>\\n\\t\\t\\t\\t<li>\\n\\t\\t\\t\\t\\t<a href=\"http://post.naver.com/korea_diary\" target=\"_blank\" title=\"새창\">\\n\\t\\t\\t\\t\\t\\t<span class=\"ico ico_post\"></span>\\n\\t\\t\\t\\t\\t\\t<em class=\"sns_name\">포스트</em>\\n\\t\\t\\t\\t\\t</a>\\n\\t\\t\\t\\t</li>\\n\\t\\t\\t\\t<li>\\n\\t\\t\\t\\t\\t<a href=\"https://www.facebook.com/9suk9suklive\" target=\"_blank\" title=\"새창\">\\n\\t\\t\\t\\t\\t\\t<span class=\"ico ico_facebook\"></span>\\n\\t\\t\\t\\t\\t\\t<em class=\"sns_name\">페이스북</em>\\n\\t\\t\\t\\t\\t</a>\\n\\t\\t\\t\\t</li>\\n\\t\\t\\t\\t<li>\\n\\t\\t\\t\\t\\t<a href=\"https://twitter.com/kor_visitkorea\" target=\"_blank\" title=\"새창\">\\n\\t\\t\\t\\t\\t\\t<span class=\"ico ico_twitter\"></span>\\n\\t\\t\\t\\t\\t\\t<em class=\"sns_name\">트위터</em>\\n\\t\\t\\t\\t\\t</a>\\n\\t\\t\\t\\t</li>\\n\\t\\t\\t\\t<li>\\n\\t\\t\\t\\t\\t<a href=\"https://story.kakao.com/#ch/visitkorea/\" target=\"_blank\" title=\"새창\">\\n\\t\\t\\t\\t\\t\\t<span class=\"ico ico_kakaostory\"></span>\\n\\t\\t\\t\\t\\t\\t<em class=\"sns_name\">카카오<br>스토리</em>\\n\\t\\t\\t\\t\\t</a>\\n\\t\\t\\t\\t</li>\\n\\n\\n\\n\\n\\n\\n\\t\\t\\t\\t<li>\\n\\t\\t\\t\\t\\t<a href=\"https://www.instagram.com/kto9suk9suk/\" target=\"_blank\" title=\"새창\">\\n\\t\\t\\t\\t\\t\\t<span class=\"ico ico_instagram\"></span>\\n\\t\\t\\t\\t\\t\\t<em class=\"sns_name\">인스타<br>그램</em>\\n\\t\\t\\t\\t\\t</a>\\n\\t\\t\\t\\t</li>\\n\\t\\t\\t\\t<li>\\n\\t\\t\\t\\t\\t<a href=\"http://www.odii.kr/renewal3/common/webguide/ko/index_ko.html\" target=\"_blank\" title=\"새창\">\\n\\t\\t\\t\\t\\t\\t<span class=\"ico ico_odii\"></span>\\n\\t\\t\\t\\t\\t\\t<em class=\"sns_name\">오디</em>\\n\\t\\t\\t\\t\\t</a>\\n\\t\\t\\t\\t</li>\\n\\t\\t\\t</ul>\\n\\t\\t</div>\\n\\t\\t<!-- SNS -->\\n\\t\\t<!-- // 0608 추가 -->\\n\\t\\t<div class=\"footer_data\">\\n\\t\\t\\t<div class=\"footer_banner pc_block m_none\">\\n                <span><a href=\"javascript:goPartners();\"><img src=\"https://cdn.visitkorea.or.kr/resources/images/common/fot_link_banner2.gif\" alt=\"대한민국구석구석 Partners\"></a></span>\\n\\t\\t\\t\\t<span><a href=\"javascript:goJikimiList();\"><img src=\"https://cdn.visitkorea.or.kr/resources/images/common/fot_link_banner3.gif\" alt=\"관광정보 - 수정/신규 요청\"></a></span>\\n\\t\\t\\t</div>\\n\\t\\t\\t<div class=\"footer_banner pc_block m_none\">\\n                <span><a href=\"/wallpaper/main.do\"><img src=\"https://cdn.visitkorea.or.kr/resources/images/common/fot_link_banner6.gif\" alt=\"대한민국구석구석 WALLPAPE\"></a></span>\\n                <span><a href=\"javascript:goGuideBook();\"><img src=\"https://cdn.visitkorea.or.kr/resources/images/common/fot_link_banner4.gif\" alt=\"여행 가이드북\"></a></span>\\n            </div>\\n\\t\\t\\t<div class=\"footer_banner pc_block m_none\">\\n\\t\\t\\t\\t<span><a href=\"javascript:golivetalk();\"><img src=\"https://cdn.visitkorea.or.kr/resources/images/common/fot_link_banner7.gif\" class=\"pc\" alt=\"전화/실시간 문자채팅 상담 1330 관광안내\"></a></span>\\n\\t\\t\\t</div>\\n\\t\\t\\t<!--\\n          <div class=\"footer_banner\">\\n              <span class=\"last\">\\n                  <a href=\"/main/travel_9_main.do\">\\n                      <img src=\"https://cdn.visitkorea.or.kr/resources/images/common/fot_link_banner5.gif\" class=\"pc\" alt=\"대한민국구석구석 여행 9단\">\\n                      <img src=\"https://cdn.visitkorea.or.kr/resources/images/common/fot_link_mbanner5.gif\" class=\"mo\" alt=\"대한민국구석구석 여행 9단\">\\n                  </a>\\n              </span>\\n\\n                <span class=\"last\">\\n                   <a href=\"/wallpaper/main.do\">\\n                       <img src=\"https://cdn.visitkorea.or.kr/resources/images/common/fot_link_banner6.gif\" class=\"pc\" alt=\"대한민국구석구석 WALLPAPER\">\\n                       <img src=\"https://cdn.visitkorea.or.kr/resources/images/common/fot_link_mbanner6.gif\" class=\"mo\" alt=\"대한민국구석구석 WALLPAPER\">\\n                   </a>\\n                </span>\\n            </div> -->\\n\\t\\t\\t<div class=\"footer-swiper m_block pc_none\">\\n\\t\\t\\t\\t<div class=\"swiper-wrapper\">\\n\\t\\t\\t\\t\\t<div class=\"footer_banner swiper-slide\">\\n                                 <span><a href=\"javascript:goPartners();\"><img src=\"https://cdn.visitkorea.or.kr/resources/images/common/fot_link_banner2.gif\" alt=\"대한민국구석구석 Partners\"></a></span>\\n\\t\\t\\t\\t\\t\\t<span><a href=\"javascript:goJikimiList();\"><img src=\"https://cdn.visitkorea.or.kr/resources/images/common/fot_link_banner3.gif\" alt=\"관광정보 - 수정/신규 요청\"></a></span>\\n\\t\\t\\t\\t\\t\\t<span class=\"last\"><a href=\"javascript:golivetalk();\"><img src=\"https://cdn.visitkorea.or.kr/resources/images/common/fot_link_mbanner7.gif\" alt=\"전화/실시간 문자채팅 상담 1330 관광안내\"></a></span>\\n\\t\\t\\t\\t\\t</div>\\n<!-- \\t\\t\\t\\t\\t<div class=\"footer_banner swiper-slide\">\\n                                <span><a href=\"/wallpaper/main.do\"><img src=\"https://cdn.visitkorea.or.kr/resources/images/common/fot_link_banner6.gif\"\\n\\t\\t\\t\\t\\t\\t\\t\\t\\t\\t\\t\\t\\t   alt=\"대한민국구석구석 WALLPAPER\"></a></span>\\n\\t\\t\\t\\t\\t\\t<span><a href=\"javascript:goGuideBook();\"><img src=\"https://cdn.visitkorea.or.kr/resources/images/common/fot_link_banner4.gif\"\\n\\t\\t\\t\\t\\t\\t\\t\\t\\t\\t\\t   alt=\"여행 가이드북\"></a></span>\\n\\t\\t\\t\\t\\t\\t<span class=\"last\"><a href=\"javascript:golivetalk();\"><img\\n\\t\\t\\t\\t\\t\\t\\t\\tsrc=\"https://cdn.visitkorea.or.kr/resources/images/common/fot_link_mbanner7.gif\"\\n\\t\\t\\t\\t\\t\\t\\t\\talt=\"전화/실시간 문자채팅 상담 1330 관광안내\"></a></span>\\n\\t\\t\\t\\t\\t</div> -->\\n\\t\\t\\t\\t</div>\\n\\t\\t\\t\\t<div class=\"swiper-pagination\"></div>\\n\\t\\t\\t</div>\\n\\t\\t\\t<!-- 레이어 -->\\n\\t\\t\\t<div class=\"layer-talk-menu\">\\n\\t\\t\\t\\t<h1>실시간 문자채팅 관광안내</h1>\\n\\t\\t\\t\\t<button class=\"close\">닫기</button>\\n\\t\\t\\t\\t<div class=\"group-talk-menu is-ttalk\">\\n\\t\\t\\t\\t\\t<a class=\"tooltip1\" href=\"javascript:void(0);\" onclick=\"openTtalk2();\" title=\"새창열림\">\\n\\t\\t\\t\\t\\t\\t<img id=\"ttalk_quick\" style=\"height: 65px;\" src=\"https://cdn.visitkorea.or.kr/resources/images/main/ttalk.png\" title=\"관광공사 웹쳇으로 상담하시려면 버튼을 클릭하세요.\">\\n\\t\\t\\t\\t\\t</a>\\n\\t\\t\\t\\t\\t<p>바로 채팅창 열기<span>(바로실행 / 다운로드 불필요)</span></p>\\n\\t\\t\\t\\t</div>\\n\\t\\t\\t\\t<div class=\"group-talk-menu is-ttalk\">\\n\\t\\t\\t\\t\\t<a class=\"tooltip1\" href=\"javascript:void(0);\" onclick=\"openKakao();\" title=\"새창열림\">\\n\\t\\t\\t\\t\\t\\t<img id=\"ktalk_quick\" style=\"height: 65px;\" src=\"https://cdn.visitkorea.or.kr/resources/images/main/kakao.png\" title=\"카카오톡으로 상담하시려면 버튼을 클릭하세요.\">\\n\\t\\t\\t\\t\\t</a>\\n\\t\\t\\t\\t\\t<p>카카오톡 메신저앱 열기<span>(해당앱이 설치되어 있어야 함)</span></p>\\n\\t\\t\\t\\t</div>\\n\\t\\t\\t\\t<!-- Your Chat Plugin code -->\\n\\t\\t\\t\\t<div class=\"fb-customerchat\" attribution=\"setup_tool\" page_id=\"102691528386100\"></div>\\n\\n\\t\\t\\t</div>\\n\\t\\t\\t<!-- //레이어 -->\\n\\t\\t\\t<!-- // 1224 수정 -->\\n\\t\\t\\t<!-- 1002  수정 -->\\n\\t\\t\\t<ul class=\"btm_menu\">\\n\\t\\t\\t  <li><a href=\"javascript:\" onclick=\"goTerm(1);\" class=\"personal_info\">개인정보처리방침</a></li>\\n\\t\\t\\t  <li><a href=\"javascript:\" onclick=\"goTerm(2);\">이용약관</a></li><!-- 0703 추가 -->\\n\\t\\t\\t  <li><a href=\"javascript:\" onclick=\"goTerm(3);\">위치기반서비스 이용약관</a></li><!-- 0717 추가 -->\\n\\t\\t\\t  <li><a href=\"http://kto.visitkorea.or.kr/kor/helpDesk/copyrightGuide.kto\" target=\"_blank\" title=\"새창\">저작권정책</a></li>\\n\\t\\t\\t  <li><a href=\"http://kto.visitkorea.or.kr/kor/customer/charter/charter.kto\" target=\"_blank\" title=\"새창\">고객서비스헌장</a></li>\\n\\t\\t\\t  <li><a href=\"http://kto.visitkorea.or.kr/kor/helpDesk/policy/emailRejection.kto\" target=\"_blank\" title=\"새창\">전자우편무단수집거부</a></li>\\n\\t\\t\\t  <li><a href=\"javascript:\" onclick=\"goQA();\" title=\"페이지이동\">Q&amp;A</a></li>\\n\\t\\t\\t  <li><a href=\"http://kto.visitkorea.or.kr/kor/kto/map/head.kto\" target=\"_blank\" title=\"새창\">찾아오시는 길</a></li>\\n\\t\\t\\t</ul>\\n\\t\\t\\t<!-- // 1002  수정 -->\\n\\t\\t\\t<ul class=\"ft_address\">\\n\\t\\t\\t\\t<li><span>우)26464</span><span>강원도 원주시 세계로 10</span>TEL : 033-738-3000</li>\\n\\t\\t\\t\\t<li>사업자등록번호 : 202-81-50707</li>\\n\\t\\t\\t\\t<li>통신판매업신고 : 제2009-서울중구-1234호</li>\\n\\t\\t\\t</ul>\\n\\t\\t</div>\\n\\n\\t\\t\\t<!-- 0608 추가 -->\\n\\t\\t<div class=\"footer_pcLogo\"><!-- pc -->\\n\\t\\t\\t<span class=\"btn_footLogo\"><img src=\"https://cdn.visitkorea.or.kr/resources/images/common/logo_foot.png\" alt=\"한국관광공사\"></span>\\n\\t\\t\\t<ul class=\"logo_list\">\\n\\t\\t\\t\\t<li><a href=\"http://api.visitkorea.or.kr/\" target=\"_blank\" title=\"새창\"><img src=\"https://cdn.visitkorea.or.kr/resources/images/common/logo_foot_api.png\" alt=\"TourAPI 3.0\"></a></li>\\n\\t\\t\\n\\t\\t\\t\\t<li><a href=\"http://www.wa.or.kr/board/list.asp?BoardID=0006\" target=\"_blank\" title=\"새창\"><img src=\"https://cdn.visitkorea.or.kr/resources/images/common/logo_foot_wa.png\" alt=\"과학기술정보통신부 웹 접근성 품질인증 마크\"></a></li>\\n\\t\\t\\t\\t<li><a href=\"http://kto.visitkorea.or.kr/kor.kto\" target=\"_blank\" title=\"새창\"><img src=\"https://cdn.visitkorea.or.kr/resources/images/common/logo_foot_gg.png\" alt=\"한국관광공사\"></a></li>\\n\\t\\t\\t\\t<li><a href=\"http://www.mcst.go.kr/\" target=\"_blank\" title=\"새창\"><img src=\"https://cdn.visitkorea.or.kr/resources/images/common/logo_foot_mg.png\" alt=\"문화체육관광부\"></a></li>\\n\\t\\t\\t</ul>\\n\\t\\t</div>\\n\\n\\t\\t<div class=\"footer_mLogo\"><!-- mobile -->\\n\\t\\t\\t<ul class=\"logo_list\">\\n\\t\\t\\t\\t<li><a href=\"http://api.visitkorea.or.kr/\" target=\"_blank\" title=\"새창\"><img src=\"https://cdn.visitkorea.or.kr/resources/images/common/logo_mfoot_api.png\" alt=\"TourAPI 3.0\"></a></li>\\n\\n\\t\\t\\n\\t\\t\\t\\t<li><a href=\"http://www.wa.or.kr/board/list.asp?BoardID=0006\" target=\"_blank\" title=\"새창\"><img src=\"https://cdn.visitkorea.or.kr/resources/images/common/logo_mfoot_wa.png\" alt=\"과학기술정보통신부 웹 접근성 품질인증 마크\"></a></li>\\n\\t\\t\\t</ul>\\n\\t\\t\\t<ul class=\"logo_list2\">\\n\\t\\t\\t\\t<li><a href=\"http://kto.visitkorea.or.kr/kor.kto\" target=\"_blank\" title=\"새창\"><img src=\"https://cdn.visitkorea.or.kr/resources/images/common/logo_mfoot_gg.png\" alt=\"한국관광공사\"></a></li>\\n\\t\\t\\t\\t<li><a href=\"http://www.mcst.go.kr/\" target=\"_blank\" title=\"새창\"><img src=\"https://cdn.visitkorea.or.kr/resources/images/common/logo_mfoot_mg.png\" alt=\"문화체육관광부\"></a></li>\\n\\t\\t\\t</ul>\\n\\t\\t\\t<div class=\"logo_btm\">\\n\\t\\t\\t\\t<span class=\"btn_footLogo\" target=\"_blank\" title=\"새창\"><img src=\"https://cdn.visitkorea.or.kr/resources/images/common/logo_foot.png\" alt=\"한국관광공사\"></span>\\n\\t\\t\\t\\t<!-- 0604 수정 -->\\n\\t\\t\\t\\t<button type=\"button\" class=\"btn_footClose\">\\n\\t\\t\\t\\t\\t<span class=\"btn_o\">열기</span>\\n\\t\\t\\t\\t\\t<span class=\"btn_x\">닫기</span>\\n\\t\\t\\t\\t</button>\\n\\t\\t\\t\\t<!-- // 0604 수정 -->\\n\\t\\t\\t</div>\\n\\t\\t</div>\\n\\t</div>\\n</footer>\\n<!-- //footer -->\\n\\n<div id=\"detailPop\" class=\"wrap_layerpop\">\\n\\t<div class=\"layerpop\">\\n\\t\\t<button class=\"btn_close3\" onclick=\"layerPopup.layerHide(\\'detailPop\\');\">닫기</button>\\n\\t\\t<div class=\"db_detail\">\\n\\n\\t\\t\\t<div class=\"topWrap\">\\n\\t\\t\\t\\t<!-- Swiper -->\\n\\t\\t\\t\\t<div class=\"swiper-container gallery-top\">\\n\\t\\t\\t\\t\\t<div class=\"swiper-wrapper\" id=\"galleryTop\">\\n\\t\\t\\t\\t\\t</div>\\n\\t\\t\\t\\t\\t<!-- Add Arrows -->\\n\\t\\t\\t\\t\\t<div class=\"swiper-button-next swiper-button-white\"></div>\\n\\t\\t\\t\\t\\t<div class=\"swiper-button-prev swiper-button-white\"></div>\\n\\t\\t\\t\\t\\t<!-- Add Pagination -->\\n\\t\\t\\t\\t\\t<div class=\"swiper-pagination\"></div>\\n\\t\\t\\t\\t</div>\\n\\t\\t\\t</div>\\n\\n\\t\\t\\t<div class=\"thumbsWrap\">\\n\\t\\t\\t\\t<div class=\"swiper-container gallery-thumbs\">\\n\\t\\t\\t\\t\\t<div class=\"swiper-wrapper\" id=\"galleryThumbs\">\\n\\t\\t\\t\\t\\t</div>\\n\\t\\t\\t\\t</div>\\n\\t\\t\\t</div>\\n\\t\\t</div>\\n\\t</div>\\n</div>\\n\\n<!-- 코스선택 팝업 -->\\n<div id=\"cosChoice\" class=\"wrap_layerpop\"><!-- 0807 id 추가 -->\\n\\t<div class=\"layerpop\"><!-- 0807 class 삭제 -->\\n\\t\\t<div class=\"tit\">\\n\\t\\t\\t<h2>코스 선택</h2>\\n\\t\\t\\t<button type=\"button\" class=\"btn_close3\" onclick=\"layerPopup.layerHide(\\'cosChoice\\');\">닫기</button><!-- 0807 script onclick 추가 -->\\n\\t\\t</div>\\n\\t\\t<div class=\"box_cont\">\\n\\t\\t\\t<div class=\"list_choice\">\\n\\t\\t\\t\\t<ul>\\n\\t\\t\\t\\t</ul>\\n\\t\\t\\t</div>\\n\\t\\t\\t<!-- 0603 추가 -->\\n\\t\\t\\t<div class=\"btn_center mt10\">\\n\\t\\t\\t\\t<a href=\"javascript:goCosMakeFromList();\" class=\"btn_ok\">코스추가</a>\\n\\t\\t\\t</div>\\n\\t\\t\\t<!-- //0603 추가 -->\\n\\t\\t</div>\\n\\t</div>\\n</div>\\n<!-- //코스선택 팝업 -->\\n\\n<!-- 코스만들기 팝업 -->\\n<div id=\"cosMake\" class=\"wrap_layerpop\">\\n\\t<div class=\"layerpop\">\\n\\t\\t<div class=\"tit\">\\n\\t\\t\\t<h2>코스만들기</h2>\\n\\t\\t\\t<button type=\"button\" class=\"btn_close3\" onclick=\"layerPopup.layerHide(\\'cosMake\\');\">닫기</button><!-- 0807 script onclick 추가 -->\\n\\t\\t</div>\\n\\t\\t<div class=\"box_cont\">\\n\\t\\t\\t<input type=\"text\" id=\"cosname\" name=\"cosname\" class=\"inp_cos\" maxlength=\"30\" placeholder=\"코스명을 입력해 주세요.\" title=\"코스명\">\\n\\t\\t\\t<div class=\"btn_center\">\\n\\t\\t\\t\\t<a href=\"javascript:goCosMakeSave();\" class=\"btn_ok\">확인</a>\\n\\t\\t\\t</div>\\n\\t\\t</div>\\n\\t</div>\\n</div>\\n<!-- //코스만들기 팝업 -->\\n\\n<!-- 0523 코스만들기 팝업 -->\\n<div id=\"courseBuild\" class=\"wrap_layerpop\">\\n\\t<div class=\"layerpop\">\\n\\t\\t<div class=\"tit\">\\n\\t\\t\\t<h2>코스만들기</h2>\\n\\t\\t\\t<button type=\"button\" class=\"btn_close3\" onclick=\"layerPopup.layerHide(\\'courseBuild\\');\">닫기</button>\\n\\t\\t</div>\\n\\t\\t<div class=\"box_cont\">\\n\\t\\t\\t<input type=\"text\" id=\"cosname2\" name=\"cosname2\" class=\"inp_cos\" placeholder=\"코스명을 입력해 주세요.\" title=\"코스명\">\\n\\t\\t\\t<div class=\"btn_center\">\\n\\t\\t\\t\\t<a href=\"javascript:goCosMakeAndcosSave();\" class=\"btn_ok\">확인</a>\\n\\t\\t\\t</div>\\n\\t\\t</div>\\n\\t</div>\\n</div>\\n<!-- // 0523 코스만들기 팝업 -->\\n\\n<!-- 0523 코스생성완료 팝업 -->\\n<div id=\"courseBuildFinish\" class=\"wrap_layerpop\">\\n\\t<div class=\"layerpop\">\\n\\t\\t<div class=\"tit\">\\n\\t\\t\\t<h2>알림</h2>\\n\\t\\t\\t<button type=\"button\" class=\"btn_close3\" onclick=\"layerPopup.layerHide(\\'courseBuildFinish\\');\">닫기</button>\\n\\t\\t</div>\\n\\t\\t<div class=\"box_cont\">\\n\\t\\t\\t<p>코스생성 및 코스 담기가 완료되었습니다.</p>\\n\\t\\t\\t<div class=\"btn_center\">\\n\\t\\t\\t\\t<a href=\"/mypage/mypage_main.do\" class=\"btn_cancel\">마이페이지 이동</a>\\n\\t\\t\\t\\t<a href=\"javascript:layerPopup.layerHide(\\'courseBuildFinish\\');\" class=\"btn_ok\">확인</a>\\n\\t\\t\\t</div>\\n\\t\\t</div>\\n\\t</div>\\n</div>\\n<!-- // 0523 코스생성완료 팝업 -->\\n\\n<!-- 공유하기 팝업 -->\\n<div id=\"popShare\" class=\"wrap_layerpop\" tabindex=\"0\">\\n\\t<div class=\"layerpop\">\\n\\t\\t<div class=\"tit\">\\n\\t\\t\\t<h2>공유하기</h2>\\n\\t\\t\\t<button type=\"button\" class=\"btn_close3\" onclick=\"layerPopup.layerHide(\\'popShare\\');\">닫기</button><!-- 0807 script onclick 추가 -->\\n\\t\\t</div>\\n\\t\\t<div class=\"box_cont\">\\n\\t\\t\\t<div class=\"share\">\\n\\t\\t\\t\\t<ul class=\"list_sns clfix\">\\n\\t\\t\\t\\t\\t<li class=\"facebook\"><a href=\"javascript:goShare(\\'facebook\\');\" title=\"새창 열림\">페이스북</a></li>\\n\\t\\t\\t\\t\\t<li class=\"twitter\"><a href=\"javascript:goShare(\\'twitter\\');\" title=\"새창 열림\">트위터</a></li>\\n\\t\\t\\t\\t\\t<li class=\"kakaostory\"><a href=\"javascript:goShare(\\'kakaostory\\');\" title=\"새창 열림\">카카오스토리</a></li>\\n\\t\\t\\t\\t\\t<li id=\"kakao-link-btn\" class=\"kakao\"><a href=\"javascript:goShare(\\'kakaotalk\\');\" title=\"새창 열림\">카카오톡</a></li>\\n\\t\\t\\t\\t\\t<li class=\"band\"><a href=\"javascript:goShare(\\'band\\');\" title=\"새창 열림\">밴드</a></li>\\n\\t\\t\\t\\t</ul>\\n\\t\\t\\t\\t<div class=\"inp_url clfix\">\\n\\t\\t\\t\\t\\t<input type=\"text\" value=\"\" id=\"foo\" title=\"현재url정보\"><button type=\"button\" onclick=\"btnClipBoard();\">URL복사</button>\\n\\t\\t\\t\\t</div>\\n\\t\\t\\t</div>\\n\\t\\t</div>\\n\\t</div>\\n</div>\\n<!-- //공유하기 팝업 -->\\n\\n<!-- 공유하기 팝업 -->\\n<div id=\"popShare01\" class=\"wrap_layerpop\" tabindex=\"0\"><!-- 0807 id 추가 -->\\n\\t<div class=\"layerpop\"><!-- 0807 class 삭제 -->\\n\\t\\t<div class=\"tit\">\\n\\t\\t\\t<h2>공유하기</h2>\\n\\t\\t\\t<button type=\"button\" class=\"btn_close3\" onclick=\"layerPopup.layerHide(\\'popShare01\\');\">닫기</button><!-- 0807 script onclick 추가 -->\\n\\t\\t</div>\\n\\t\\t<div class=\"box_cont\">\\n\\t\\t\\t<div class=\"share\">\\n\\t\\t\\t\\t<ul class=\"list_sns type4\">\\n\\t\\t\\t\\t\\t<li class=\"facebook\"><a href=\"javascript:goShare(\\'facebook\\');\" title=\"새창 열림\">페이스북</a></li>\\n\\t\\t\\t\\t\\t<li class=\"twitter\"><a href=\"javascript:goShare(\\'twitter\\');\" title=\"새창 열림\">트위터</a></li>\\n\\t\\t\\t\\t\\t<li class=\"kakaostory\"><a href=\"javascript:goShare(\\'kakaostory\\');\" title=\"새창 열림\">카카오스토리</a></li>\\n\\t\\t\\t\\t\\t<li class=\"band\"><a href=\"javascript:goShare(\\'band\\');\" title=\"새창 열림\">밴드</a></li>\\n\\t\\t\\t\\t</ul>\\n\\t\\t\\t\\t<div class=\"inp_url\">\\n\\t\\t\\t\\t\\t<input type=\"text\" value=\"\" id=\"foo2\" title=\"URL\"><button type=\"button\" onclick=\"btnClipBoard2();\">URL복사</button><!-- 1224 title 추가 -->\\n\\t\\t\\t\\t</div>\\n\\t\\t\\t</div>\\n\\t\\t</div>\\n\\t</div>\\n</div>\\n<!-- // 공유하기 팝업 -->\\n\\n<!-- 공통 팝업 -->\\n<div id=\"cosConfirm\" class=\"wrap_layerpop\">\\n\\t<div class=\"layerpop pop\">\\n\\t\\t<div class=\"tit\">\\n\\t\\t\\t<h2>알림</h2>\\n\\t\\t\\t<button type=\"button\" class=\"btn_close3\" onclick=\"layerPopup.layerHide(\\'cosConfirm\\');\">닫기</button><!-- 0807 script onclick 추가 -->\\n\\t\\t</div>\\n\\t\\t<div class=\"box_cont\">\\n\\t\\t\\t<div class=\"txt_def\">등록된 코스가 없습니다.<br>My코스로 이동하여 코스<br>만들기를 진행하시겠습니까 ?</div>\\n\\t\\t\\t<div class=\"btn_center\">\\n\\t\\t\\t\\t<a href=\"javascript:\" onclick=\"layerPopup.layerHide(\\'cosConfirm\\'); return false;\" class=\"btn_cancel\">취소</a>\\n\\t\\t\\t\\t<a href=\"/mypage/mypage_list_cos.do\" class=\"btn_ok\">확인</a>\\n\\t\\t\\t</div>\\n\\t\\t</div>\\n\\t</div>\\n</div>\\n<!-- //공통 팝업 -->\\n\\n<!-- 네비게이션 팝업 -->\\n<div id=\"popNavi\" class=\"wrap_layerpop\" style=\"z-index :1000;\">\\n\\t<div class=\"layerpop\">\\n\\t\\t<div class=\"tit\">\\n\\t\\t\\t<h2>내비게이션</h2>\\n\\t\\t\\t<button type=\"button\" class=\"btn_close3\" onclick=\"layerPopup.layerHide(\\'popNavi\\');\">닫기</button><!-- 0807 script onclick 추가 -->\\n\\t\\t</div>\\n\\t\\t<div class=\"box_cont\">\\n\\t\\t\\t<ul class=\"list_navi clfix\">\\n\\t\\t\\t\\t<li class=\"navi_kakao\"><a href=\"javascript:nevi(\\'kakaomap\\');\">카카오내비</a></li>\\n\\t\\t\\t\\t<li class=\"navi_tmap\"><a href=\"javascript:nevi(\\'tmap\\');\">T map</a></li>\\n\\t\\t\\t</ul>\\n\\t\\t</div>\\n\\t</div>\\n</div>\\n<!-- 네비게이션 팝업 -->\\n\\n<!-- 팝업 -->\\n<!-- 굿 콘텐츠 서비스 -->\\n<div id=\"popGoodct\" class=\"wrap_layerpop\">\\n\\t<div class=\"layerpop\"><!-- 클래스 pop_good_ct 추가시 굿 콘텐츠 서비스 레이어팝업 적용 -->\\n\\t\\t<div class=\"tit\">\\n\\t\\t\\t<h2>굿 콘텐츠 서비스</h2>\\n\\t\\t\\t<button type=\"button\" class=\"btn_close3\" onclick=\"layerPopup.layerHide(\\'popGoodct\\');\">닫기</button><!-- 0807 script onclick 추가 -->\\n\\t\\t</div>\\n\\t\\t<div class=\"box_cont\">\\n\\t\\t\\t<!-- 1210 수정 -->\\n\\t\\t\\t<img src=\"https://cdn.visitkorea.or.kr/resources/images/temp/img_pop_goobct.png\" alt=\"굿콘텐츠서비스인증서\">\\n\\t\\t\\t<div class=\"blind\">\\n\\t\\t\\t\\t<strong>굿콘텐츠서비스인증서</strong>\\n\\t\\t\\t\\t<ul>\\n\\t\\t\\t\\t\\t<li>인증번호:2018-11-0034</li>\\n\\t\\t\\t\\t\\t<li>홈페이지:korean.visitkorea.or.kr</li>\\n\\t\\t\\t\\t\\t<li>서비스명:대한민국구석구석</li>\\n\\t\\t\\t\\t\\t<li>기업/기관명:한국관광공사</li>\\n\\t\\t\\t\\t\\t<li>대표자:안영배</li>\\n\\t\\t\\t\\t\\t<li>유효기간:2018년11월16일 ~ 2020년11년15일</li>\\n\\t\\t\\t\\t</ul>\\n\\t\\t\\t\\t<p>\\n\\t\\t\\t\\t\\t위 기관은 콘텐츠산업진흥법 제 22조 규정에 의하여 우수한 콘텐츠 서비스를 고객에게 제공함으로써 콘텐츠 산업의 국가경쟁력 향상에 기여하였기에 콘텐츠 제공서비스 품질인증기관 운영 규칙 제 25조\\n\\t\\t\\t\\t\\t제 1항의 규정에 따라 콘텐츠제공서비스 품질인증 사업자로 인증합니다.\\n\\t\\t\\t\\t</p>\\n\\t\\t\\t\\t<p>2018년 11월 16일</p>\\n\\t\\t\\t\\t<p>한국데이터진흥원장</p>\\n\\t\\t\\t</div>\\n\\t\\t\\t<!-- //1210 수정 -->\\n\\t\\t</div>\\n\\t</div>\\n</div>\\n<!-- // 굿 콘텐츠 서비스 -->\\n<!-- // 팝업 -->\\n\\n<!-- 파트너스 공통 -->\\n<!-- 공통 팝업 -->\\n<div id=\"cosConfirm1\" class=\"wrap_layerpop\">\\n\\t<div class=\"layerpop pop\">\\n\\t\\t<div class=\"tit\">\\n\\t\\t\\t<h2>알림</h2>\\n\\t\\t\\t<!-- button type=\"button\" class=\"btn_close3\" onclick=\"goMain();\">닫기</button--><!-- 0807 script onclick 추가 -->\\n\\t\\t</div>\\n\\t\\t<div class=\"box_cont\">\\n\\t\\t\\t<div class=\"txt_def\">파트너스 로그인이 필요합니다.<br>SNS 계정 로그아웃을 진행하시겠습니까 ?\\n\\t\\t\\t</div>\\n\\t\\t\\t<div class=\"btn_center\">\\n\\t\\t\\t\\t<a href=\"javascript:pLogout(\\'Y\\');\" class=\"btn_ok\">로그아웃</a>\\n\\t\\t\\t\\t<a href=\"javascript:\" onclick=\"layerPopup.layerHide(\\'cosConfirm1\\');\" class=\"btn_cancel\">취소</a>\\n\\t\\t\\t</div>\\n\\t\\t</div>\\n\\t</div>\\n</div>\\n<!-- //공통 팝업 -->\\n\\n<!-- 저작권 보증 및 제공 동의 팝업 -->\\n<div id=\"cosConfirm2\" class=\"wrap_layerpop\">\\n\\t<div class=\"layerpop\">\\n\\t\\t<div class=\"tit\">\\n\\t\\t\\t<h2>알림</h2>\\n\\t\\t\\t<button type=\"button\" class=\"btn_close3\" onclick=\"layerPopup.layerHide(\\'cosConfirm2\\');\">닫기</button>\\n\\t\\t</div>\\n\\t\\t<div class=\"box_cont\">\\n\\t\\t\\t<div class=\"txt_def\">\\n\\t\\t\\t\\t<div class=\"copyrightLayer\">\\n\\t\\t\\t\\t\\t<strong>※ 저작권 보증 및 제공 동의</strong>\\n\\n\\t\\t\\t\\t\\t<p>지역관광지(업소) 홍보를 목적으로 귀하(기관)에서 우리 공사에 제공하는 자료(사진,원고 등)에 대한\\n\\t\\t\\t\\t\\t저작권 및 소유권을 귀하(기관)가 보유하고 있음을 보증하여야 합니다.</p>\\n\\n\\t\\t\\t\\t\\t<p>만일, 귀하(기관)가 제공한 자료가 제3자의 권리를 침해하거나 제3자에게 손해가 발생하는 등 자료와\\n\\t\\t\\t\\t\\t관련하여 법적 분쟁이 발생했을 경우, 모든 책임은 귀하(기관)에 있으며 귀하(기관)의 비용과 노력으로\\n\\t\\t\\t\\t\\t분쟁을 해결해야 하며 함을 알려 드립니다.</p>\\n\\n\\t\\t\\t\\t\\t<p>귀하(기관)에서 우리 공사에 제공하는 자료(사진, 원고, 영상 등)는 지역관광지(업소) 홍보 목적으로\\n\\t\\t\\t\\t\\t타기관(공공기관, 포탈사이트 등)에 제공 될 수 있으며, 민원 제기 등의 사유로 귀하(기관)의 정보를\\n\\t\\t\\t\\t\\t더 이상 제공하기에 어렵다고 판단되는 경우, 사전 동의 없이 삭제 처리할 수 있음을 알려 드립니다.</p>\\n\\t\\t\\t\\t</div>\\n\\t\\t\\t</div>\\n\\t\\t\\t<div class=\"btn_center\">\\n\\t\\t\\t\\t<a href=\"javascript:layerPopup.layerHide(\\'cosConfirm2\\');\" class=\"btn_ok\">확인</a>\\n\\t\\t\\t</div>\\n\\t\\t</div>\\n\\t</div>\\n</div>\\n<!-- //저작권 보증 및 제공 동의 팝업 -->\\n\\n<!-- 공통 팝업 -->\\n<div id=\"cosConfirm4\" class=\"wrap_layerpop\">\\n\\t<div class=\"layerpop pop\">\\n\\t\\t<div class=\"tit\">\\n\\t\\t\\t<h2>알림</h2>\\n\\t\\t\\t<!-- button type=\"button\" class=\"btn_close3\" onclick=\"goMain();\">닫기</button--><!-- 0807 script onclick 추가 -->\\n\\t\\t</div>\\n\\t\\t<div class=\"box_cont\">\\n\\t\\t\\t<div class=\"txt_def\">일반사용자 메뉴입니다. <br>파트너스 계정 로그아웃 후, SNS 로그인을 진행하시겠습니까?\\n\\t\\t\\t</div>\\n\\t\\t\\t<div class=\"btn_center\" id=\"snspage\">\\n\\t\\t\\t\\t<a href=\"javascript:\" onclick=\"showLogin(1);\" class=\"btn_cancel\">로그아웃진행</a>\\n\\t\\t\\t\\t<a href=\"javascript:layerPopup.layerHide(\\'cosConfirm4\\');\" class=\"btn_ok\">취소</a>\\n\\t\\t\\t</div>\\n\\t\\t</div>\\n\\t</div>\\n</div>\\n<!-- //공통 팝업 -->\\n\\n<!-- 공통 팝업 -->\\n<div id=\"pNoticepop\" class=\"wrap_layerpop\">\\n\\t<div class=\"layerpop pop\">\\n\\t\\t<div class=\"tit\">\\n\\t\\t\\t<h2>알림</h2>\\n\\t\\t\\t<!-- button type=\"button\" class=\"btn_close3\" onclick=\"goMain();\">닫기</button--><!-- 0807 script onclick 추가 -->\\n\\t\\t</div>\\n\\t\\t<div class=\"box_cont\">\\n\\t\\t\\t<div class=\"txt_def\">로그인 후 서비스를  이용하실 수 있습니다.</div>\\n\\t\\t\\t<div class=\"btn_center\">\\n\\t\\t\\t\\t<a href=\"partners_login.do\" class=\"btn_ok\">파트너스 로그인</a>\\n\\t\\t\\t\\t<a href=\"javascript:\" onclick=\"layerPopup.layerHide(\\'pNoticepop\\');\" class=\"btn_cancel\">취소</a>\\n\\t\\t\\t</div>\\n\\t\\t</div>\\n\\t</div>\\n</div>\\n<!-- //공통 팝업 -->\\n\\n<!-- 로그인 선택 -->\\n<div id=\"popMemberLogin\" class=\"wrap_layerpop\">\\n\\t<div class=\"layerpop\">\\n\\t\\t<div class=\"tit\">\\n\\t\\t\\t<h2>대한민국 구석구석</h2>\\n\\t\\t\\t<button type=\"button\" class=\"btn_close3\" onclick=\"layerPopup.layerHide(\\'popMemberLogin\\');\">닫기</button>\\n\\t\\t</div>\\n\\t\\t<div class=\"box_cont\">\\n\\t\\t\\t<div class=\"popQuarter\">\\n\\t\\t\\t\\t<h3>대한민국구석구석<br><strong id=\"Jikimitit\">관광정보 수정신청</strong></h3> <!-- 1007 수정 -->\\n\\t\\t\\t\\t<ul>\\n\\t\\t\\t\\t\\t<li>\\n\\t\\t\\t\\t\\t\\t<a href=\"javascript:goJikimiCheck(1);\" class=\"mem\">\\n\\t\\t\\t\\t\\t\\t\\t<img src=\"https://cdn.visitkorea.or.kr/resources/images/common/img_poplogin01.gif\" class=\"pc\" alt=\"일반회원 - 일반 SNS 사용자입니다.\">\\n\\t\\t\\t\\t\\t\\t\\t<img src=\"https://cdn.visitkorea.or.kr/resources/images/common/img_mpoplogin01.gif\" class=\"mo\" alt=\"일반회원 - 일반 SNS 사용자입니다.\">\\n\\t\\t\\t\\t\\t\\t</a>\\n\\t\\t\\t\\t\\t</li>\\n\\t\\t\\t\\t\\t<li>\\n\\t\\t\\t\\t\\t\\t<a href=\"javascript:goJikimiCheck(2);\" class=\"pmem\">\\n\\t\\t\\t\\t\\t\\t\\t<img src=\"https://cdn.visitkorea.or.kr/resources/images/common/img_poplogin02.gif\" class=\"pc\" alt=\"파트너스 회원 - 관광지/숙박/음식점 관계자 또는 지자체 담당자입니다.\">\\n\\t\\t\\t\\t\\t\\t\\t<img src=\"https://cdn.visitkorea.or.kr/resources/images/common/img_mpoplogin02.gif\" class=\"mo\" alt=\"파트너스 회원 - 관광지/숙박/음식점 관계자 또는 지자체 담당자입니다.\">\\n\\t\\t\\t\\t\\t\\t</a>\\n\\t\\t\\t\\t\\t</li>\\n\\t\\t\\t\\t</ul>\\n\\t\\t\\t</div>\\n\\t\\t</div>\\n\\t</div>\\n</div>\\n\\n<!-- 파트너스 메뉴 클릭시 -->\\n<div id=\"loginConfirm\" class=\"wrap_layerpop\"><!-- 0807 id 추가 -->\\n\\t<div class=\"layerpop\"><!-- 0807 class 삭제 -->\\n\\t\\t<div class=\"tit\">\\n\\t\\t\\t<h2>알림</h2>\\n\\t\\t\\t<button type=\"button\" class=\"btn_close3\" onclick=\"layerPopup.layerHide(\\'loginConfirm\\');\">닫기</button><!-- 0807 script onclick 추가 -->\\n\\t\\t</div>\\n\\t\\t<div class=\"box_cont\">\\n\\t\\t\\t<div class=\"txt_def\">파트너스 메뉴입니다.<br>\\n\\t\\t\\t\\t\\tSNS 계정 로그아웃 후, 파트너스 로그인을 진행하시겠습니까?\\n\\t\\t\\t</div>\\n\\t\\t\\t<div class=\"btn_center\">\\n\\t\\t\\t\\t<a href=\"javascript:showLogin(1);\" class=\"btn_cancel\">로그아웃 진행</a>\\n\\t\\t\\t\\t<a href=\"javascript:\" onclick=\"layerPopup.layerHide(\\'loginConfirm\\');\" class=\"btn_ok\">취소</a>\\n\\t\\t\\t</div>\\n\\t\\t</div>\\n\\t</div>\\n</div>\\n<!-- //파트너스 메뉴 클릭시 -->\\n\\n<!-- 수정요청가이드 -->\\n<div id=\"popCosUserGuide1\" class=\"wrap_layerpop\">\\n\\t<div class=\"layerpop\">\\n\\t\\t<div class=\"tit\">\\n\\t\\t\\t<h2>수정요청 가이드</h2>\\n\\t\\t\\t<button type=\"button\" class=\"btn_close3\" onclick=\"layerPopup.layerHide(\\'popCosUserGuide1\\');\">닫기</button>\\n\\t\\t</div>\\n\\t\\t<div class=\"box_cont\">\\n\\t\\t\\t<h3 class=\"tit_cug\">관광정보 수정요청</h3>\\n\\t\\t\\t<div class=\"popScr\">\\n\\t\\t\\t\\t<div class=\"cug_slider_wrap type1 swiper-container\">\\n\\t\\t\\t\\t\\t<ul class=\"swiper-wrapper\">\\n\\t\\t\\t\\t\\t\\t<li class=\"swiper-slide\">\\n\\t\\t\\t\\t\\t\\t\\t<img src=\"https://cdn.visitkorea.or.kr/resources/images/sub/img_new_guide01.gif\" class=\"pcView\" alt=\"1. 수정하고자 하는 관광정보를 검색해주세요!\">\\n\\t\\t\\t\\t\\t\\t\\t<img src=\"https://cdn.visitkorea.or.kr/resources/images/sub/img_new_mguide01.gif\" class=\"moView\" alt=\"1. 수정하고자 하는 관광정보를 검색해주세요!\">\\n\\t\\t\\t\\t\\t\\t\\t<p>1. 수정하고자 하는 관광정보를 검색해주세요!</p>\\n\\t\\t\\t\\t\\t\\t</li>\\n\\t\\t\\t\\t\\t\\t<li class=\"swiper-slide\">\\n\\t\\t\\t\\t\\t\\t\\t<img src=\"https://cdn.visitkorea.or.kr/resources/images/sub/img_new_guide02.gif\" class=\"pcView\" alt=\"2. 검색결과를 확인하고 수정할 정보가 있다면 \\'정보수정\\' 버튼을 눌러 수정 요청을 진행해주세요!\">\\n\\t\\t\\t\\t\\t\\t\\t<img src=\"https://cdn.visitkorea.or.kr/resources/images/sub/img_new_mguide02.gif\" class=\"moView\" alt=\"2. 검색결과를 확인하고 수정할 정보가 있다면 \\'정보수정\\' 버튼을 눌러 수정 요청을 진행해주세요!\">\\n\\t\\t\\t\\t\\t\\t\\t<p>2. 검색결과를 확인하고 수정할 정보가 있다면<br>\\n\\t\\t\\t\\t\\t\\t\\t\\t[정보 수정] 버튼을 눌러 수정 요청을 진행해주세요!</p>\\n\\t\\t\\t\\t\\t\\t</li>\\n\\t\\t\\t\\t\\t\\t<li class=\"swiper-slide\">\\n\\t\\t\\t\\t\\t\\t\\t<img src=\"https://cdn.visitkorea.or.kr/resources/images/sub/img_new_guide03.gif\" class=\"pcView\" alt=\"3. 수정할 정보가 있다면 각 항목에 맞춰 입력해주세요!\">\\n\\t\\t\\t\\t\\t\\t\\t<img src=\"https://cdn.visitkorea.or.kr/resources/images/sub/img_new_mguide03.gif\" class=\"moView\" alt=\"3. 수정할 정보가 있다면 각 항목에 맞춰 입력해주세요!\">\\n\\t\\t\\t\\t\\t\\t\\t<p>3. 수정할 정보가 있다면 각 항목에 맞춰 입력해주세요!\\n\\t\\t\\t\\t\\t\\t\\t\\t<span class=\"tip\">Tip. [노출중인 정보보기]를 누르면 현재 서비스 되고 있는 정보를 확인할 수 있어요!</span>\\n\\t\\t\\t\\t\\t\\t\\t</p>\\n\\t\\t\\t\\t\\t\\t</li>\\n\\t\\t\\t\\t\\t\\t<li class=\"swiper-slide\">\\n\\t\\t\\t\\t\\t\\t\\t<img src=\"https://cdn.visitkorea.or.kr/resources/images/sub/img_new_guide04.gif\" class=\"pcView\" alt=\"4. 수정요청이 완료되면 리스트에서 확인 가능합니다.\">\\n\\t\\t\\t\\t\\t\\t\\t<img src=\"https://cdn.visitkorea.or.kr/resources/images/sub/img_new_mguide04.gif\" class=\"moView\" alt=\"4. 수정요청이 완료되면 리스트에서 확인 가능합니다.\">\\n\\t\\t\\t\\t\\t\\t\\t<p>4. 수정요청이 완료되면 리스트에서 확인 가능합니다.\\n\\t\\t\\t\\t\\t\\t\\t\\t<span class=\"tip\">※ 수정요청 건에 대해서는 진행단계를 확인해주세요!</span>\\n\\t\\t\\t\\t\\t\\t\\t</p>\\n\\t\\t\\t\\t\\t\\t</li>\\n\\t\\t\\t\\t\\t</ul>\\n\\t\\t\\t\\t\\t<button type=\"button\" class=\"swiper-button-prev\">이전</button>\\n\\t\\t\\t\\t\\t<button type=\"button\" class=\"swiper-button-next\">다음</button>\\n\\t\\t\\t\\t\\t<!-- Add Pagination -->\\n\\t\\t\\t\\t\\t<div class=\"swiper-pagination\"></div>\\n\\t\\t\\t\\t</div>\\n\\t\\t\\t</div>\\n\\t\\t\\t<div class=\"btn_center\">\\n\\t\\t\\t\\t<a href=\"javascript:layerPopup.layerHide(\\'popCosUserGuide1\\');\" class=\"btn_ok\">확인</a>\\n\\t\\t\\t</div>\\n\\t\\t</div>\\n\\t</div>\\n</div>\\n<!-- // 수정요청가이드 -->\\n\\n<!-- 비밀번호 변경 -->\\n<div id=\"ptpwChange\" class=\"wrap_layerpop ptPop\">\\n\\t<div class=\"layerpop\">\\n\\t\\t<div class=\"tit\">\\n\\t\\t\\t<h2>비밀번호 변경</h2>\\n\\t\\t\\t<button type=\"button\" class=\"btn_close3\" onclick=\"layerPopup.layerHide(\\'ptpwChange\\');\">닫기</button>\\n\\t\\t</div>\\n\\t\\t<div class=\"box_cont\">\\n\\t\\t\\t<div class=\"ptpwChange\">\\n\\t\\t\\t\\t<h3>비밀번호 변경</h3>\\n\\t\\t\\t\\t<p>\\n\\t\\t\\t\\t\\t개인정보보호 및 보안정책으로 인하여 비밀번호의 유효기간을 180일로 제한합니다.<br>\\n\\t\\t\\t\\t\\t비밀번호 변경 이후 180일이 지나 비밀번호 변경 후에 서비스 이용이 가능합니다.\\n\\t\\t\\t\\t</p>\\n\\t\\t\\t\\t<div class=\"ptWriteForm scroll\">\\n\\t\\t\\t\\t\\t<table>\\n\\t\\t\\t\\t\\t\\t<caption>비밀번호 변경 작성 폼</caption>\\n\\t\\t\\t\\t\\t\\t<tbody>\\n\\t\\t\\t\\t\\t\\t\\t<tr>\\n\\t\\t\\t\\t\\t\\t\\t\\t<th scope=\"col\"><label for=\"ptChange1\">아이디</label></th>\\n\\t\\t\\t\\t\\t\\t\\t</tr>\\n\\t\\t\\t\\t\\t\\t\\t<tr>\\n\\t\\t\\t\\t\\t\\t\\t\\t<td><input type=\"text\" id=\"ptChange1\" value=\"wonju_tour\" disabled=\"disabled\"></td>\\n\\t\\t\\t\\t\\t\\t\\t</tr>\\n\\t\\t\\t\\t\\t\\t\\t<tr>\\n\\t\\t\\t\\t\\t\\t\\t\\t<th scope=\"col\"><label for=\"companyForm2\">기존 비밀번호</label></th>\\n\\t\\t\\t\\t\\t\\t\\t</tr>\\n\\t\\t\\t\\t\\t\\t\\t<tr>\\n\\t\\t\\t\\t\\t\\t\\t\\t<td>\\n\\t\\t\\t\\t\\t\\t\\t\\t\\t<input type=\"password\" id=\"companyForm2\">\\n\\t\\t\\t\\t\\t\\t\\t\\t\\t<p class=\"caution\" id=\"beforePwCaution\">기존 비밀번호가 일치하지 않습니다.</p>\\n\\t\\t\\t\\t\\t\\t\\t\\t</td>\\n\\t\\t\\t\\t\\t\\t\\t</tr>\\n\\t\\t\\t\\t\\t\\t\\t<tr>\\n\\t\\t\\t\\t\\t\\t\\t\\t<th scope=\"col\"><label for=\"companyForm3\">새 비밀번호</label></th>\\n\\t\\t\\t\\t\\t\\t\\t</tr>\\n\\t\\t\\t\\t\\t\\t\\t<tr>\\n\\t\\t\\t\\t\\t\\t\\t\\t<td><input type=\"password\" id=\"companyForm3\"></td>\\n\\t\\t\\t\\t\\t\\t\\t</tr>\\n\\t\\t\\t\\t\\t\\t\\t<tr>\\n\\t\\t\\t\\t\\t\\t\\t\\t<th scope=\"col\"><label for=\"companyForm4\">새 비밀번호 확인</label></th>\\n\\t\\t\\t\\t\\t\\t\\t</tr>\\n\\t\\t\\t\\t\\t\\t\\t<tr>\\n\\t\\t\\t\\t\\t\\t\\t\\t<td>\\n\\t\\t\\t\\t\\t\\t\\t\\t\\t<input type=\"password\" id=\"companyForm4\">\\n\\t\\t\\t\\t\\t\\t\\t\\t\\t<p class=\"caution\" id=\"afterPwCaution\">새 비밀번호와 비밀번호 확인이 일치하지 않습니다.</p>\\n\\t\\t\\t\\t\\t\\t\\t\\t</td>\\n\\t\\t\\t\\t\\t\\t\\t</tr>\\n\\t\\t\\t\\t\\t\\t</tbody>\\n\\t\\t\\t\\t\\t</table>\\n\\t\\t\\t\\t\\t<ul class=\"info\">\\n\\t\\t\\t\\t\\t\\t<li>※ 비밀번호는 영문, 숫자, 특수문자(!,@,#,$,%,^,&amp;,+,=) 3종류를 조합하여 최소 8자리 이상으로 구성</li>\\n\\t\\t\\t\\t\\t\\t<li>※ 비밀번호는 180일이 지난 이후 다시 변경 하여야 합니다.</li>\\n\\t\\t\\t\\t\\t</ul>\\n\\t\\t\\t\\t</div>\\n\\t\\t\\t</div>\\n\\t\\t\\t<div class=\"btn_center\">\\n\\t\\t\\t\\t<a href=\"javascript:;\" class=\"btn_ok\" id=\"pwChangeBtn\">비밀번호 변경</a>\\n\\t\\t\\t</div>\\n\\t\\t</div>\\n\\t</div>\\n</div>\\n<!-- //비밀번호 변경 -->\\n<!-- //파트너스 공통 -->\\n\\n<!-- 쿠폰형 팝업 -->\\n<div id=\"popCoupon\" class=\"wrap_layerpop couponPop\">\\n\\t<div class=\"layerpop\">\\n\\t\\t<div class=\"tit\">\\n\\t\\t\\t<h2></h2>\\n\\t\\t\\t<button type=\"button\" class=\"btn_close3\" onclick=\"layerPopup.layerHide(\\'popCoupon\\');\">닫기</button>\\n\\t\\t</div>\\n\\t\\t<div class=\"couponTop\">\\n\\t\\t\\t<em></em>\\n\\t\\t\\t<strong></strong>\\n\\t\\t\\t<span></span>\\n\\t\\t</div>\\n\\t\\t<div class=\"info\">\\n\\t\\t\\t<span class=\"stit\" id=\"cDate\"></span>\\n\\t\\t\\t<span class=\"stit\" id=\"rDate\"></span>\\n\\t\\t\\t<span class=\"stit\">상세정보</span>\\n\\t\\t\\t<div class=\"infoScr\">\\n\\t\\t\\t</div>\\n\\t\\t\\t<p class=\"txt1\">※ 변동 사항이 생길 수 있으므로, 사전에 확인 후 방문 바랍니다. 세부 사항은 해당 시설(여행지)에 문의 바랍니다</p>\\n\\t\\t</div>\\n\\t\\t<div class=\"endTxt\"><span>사용 완료된<br>쿠폰입니다.</span></div>\\n\\t\\t<div class=\"btn_center\">\\n\\t\\t\\t<a href=\"javascript:;\" class=\"btn01\">정보 담기</a>\\n\\t\\t\\t<a href=\"javascript:;\" class=\"btn02\">정보 인쇄하기</a>\\n\\t\\t\\t<a href=\"javascript:;\" class=\"btn03\">사용완료 처리하기</a>\\n\\t\\t</div>\\n\\t</div>\\n</div>\\n\\n<!-- 로그인 팝업 -->\\n<div id=\"login\" class=\"wrap_layerpop\">\\n\\t<div class=\"layerpop\">\\n\\t\\t<div class=\"tit\">\\n\\t\\t\\t<h2>소셜 로그인</h2>\\n\\t\\t\\t<button type=\"button\" class=\"btn_close3\" onclick=\"loginClose();\">닫기</button><!-- 0807 script onclick 추가 -->\\n\\t\\t</div>\\n\\t\\t<div class=\"box_cont\">\\n\\t\\t\\t<div class=\"login\">\\n\\t\\t\\t\\t<ul class=\"list_sns clfix\">\\n\\t\\t\\t\\t\\t<li class=\"naver\"><a href=\"javascript:;\" onclick=\"goLogin(\\'naver\\');\" title=\"새창 열림\">네이버</a></li>\\n\\t\\t\\t\\t\\t<li class=\"kakao\"><a href=\"javascript:;\" onclick=\"goLogin(\\'kakao\\');\" title=\"새창 열림\">카카오톡</a></li>\\n\\t\\t\\t\\t\\t<li class=\"facebook\"><a href=\"javascript:;\" onclick=\"goLogin(\\'facebook\\');\" title=\"새창 열림\">페이스북</a></li>\\n\\t\\t\\t\\t\\t<li class=\"twitter\"><a href=\"javascript:;\" onclick=\"goLogin(\\'twitter\\');\" title=\"새창 열림\">트위터</a></li>\\n\\t\\t\\t\\t\\t<li class=\"google\"><a href=\"javascript:;\" onclick=\"goLogin(\\'google\\');\" title=\"새창 열림\">구글</a></li>\\n\\t\\t\\t\\t\\t<li class=\"apple\"><a href=\"javascript:;\" onclick=\"goLogin(\\'apple\\');\" title=\"새창 열림\">애플</a></li>\\n\\t\\t\\t\\t</ul>\\n\\t\\t\\t\\t<div id=\"loginChk\"></div>\\n\\t\\t\\t\\t<div class=\"auto_login\"><input type=\"checkbox\" id=\"autoLogin\" name=\"\" checked=\"checked\"><label for=\"autoLogin\">자동 로그인</label></div>\\n\\t\\t\\t</div>\\n\\t\\t</div>\\n\\t</div>\\n</div>\\n<!-- //로그인 팝업 -->\\n\\n<!-- 품질인증 예약 팝업 -->\\n<div id=\"reservationPop\" class=\"wrap_layerpop\">\\n\\t<div class=\"layerpop\">\\n\\t\\t<div class=\"tit\">\\n\\t\\t\\t<h2>예약하기</h2>\\n\\t\\t\\t<button type=\"button\" class=\"btn_close3\" onclick=\"layerPopup.layerHide(\\'pNoticepop\\');\">닫기</button>\\n\\t\\t</div>\\n\\t\\t<div class=\"box_cont\">\\n\\t\\t\\t<div class=\"reserve_list\">\\n\\t\\t\\t\\t<ul class=\"top\">\\n\\t\\t\\t\\t</ul>\\n\\t\\t\\t\\t<ul class=\"btm\">\\n\\t\\t\\t\\t</ul>\\n\\t\\t\\t</div>\\n\\t\\t</div>\\n\\t</div>\\n</div>\\n<!-- // 품질인증 예약 팝업 -->\\n<!-- 로그인 팝업 -->\\n<div id=\"socialLogin\" class=\"wrap_layerpop\">\\n\\t<div class=\"layerpop\">\\n\\t\\t<div class=\"tit\">\\n\\t\\t\\t<h2>대한민국구석구석 통합 로그인</h2>\\n\\t\\t\\t<button type=\"button\" class=\"btn_close3\" onclick=\"layerPopup.layerHide(\\'socialLogin\\');\">닫기</button>\\n\\t\\t</div>\\n\\t\\t<div class=\"box_cont\">\\n\\t\\t\\t<span class=\"img\">TOUR ONEPASS</span>\\n\\t\\t\\t<p>투어원패스는 한국관광공사 통합로그인 서비스로<br>\\n\\t\\t\\t\\tSNS인증을 통해 간편하게 이용할 수 있으며, <br>\\n\\t\\t\\t\\t한 번의 로그인으로 한국관광공사에서 운영하는<br>\\n\\t\\t\\t\\t다양한 서비스를 이용하실 수 있습니다.\\n\\t\\t\\t</p>\\n\\t\\t\\t<a href=\"javascript:SSOLogin();\" title=\"새창열림\" class=\"logo\">투어원패스 로그인</a>\\n\\t\\t\\t<div id=\"loginChk\"></div>\\n\\t\\t\\t<div class=\"auto_login\"><input type=\"checkbox\" id=\"autoLogin2\" name=\"\" checked=\"checked\"><label for=\"autoLogin2\">자동 로그인</label></div>\\n\\t\\t</div>\\n\\t</div>\\n</div>\\n<!-- //로그인 팝업 -->\\n<div id=\"mainAgreement\" class=\"wrap_layerpop\">\\n\\t<div class=\"layerpop\">\\n\\t\\t<div class=\"tit\">\\n\\t\\t\\t<h2>개인정보 수집 및 이용 동의</h2>\\n\\t\\t\\t<button type=\"button\" class=\"btn_close3\" onclick=\"logout();\">닫기</button>\\n\\t\\t</div>\\n\\t\\t<div class=\"box_cont\">\\n\\t\\t\\t<div class=\"top_cont\">\\n\\t\\t\\t\\t<strong>대한민국구석구석</strong>\\n\\t\\t\\t\\t<p>대한민국구석구석은 한국관광공사가 운영하는 국내 여행 정보 서비스로, 이용자 여러분들에게 <br>\\n\\t\\t\\t\\t\\t대한민국 구석구석의 아름다운 국내여행지를 소개해드리고자 노력하고 있습니다.</p>\\n\\t\\t\\t</div>\\n\\t\\t\\t<div class=\"clause_wrap\">\\n\\t\\t\\t\\t<strong class=\"tit\">\\n\\t\\t\\t\\t\\t<input type=\"checkbox\" id=\"check01\">\\n\\t\\t\\t\\t\\t<label for=\"check01\">서비스 이용약관 동의 <em>(필수)</em></label>\\n\\t\\t\\t\\t</strong>\\n\\t\\t\\t\\t<div class=\"clause\" tabindex=\"0\">\\n\\t\\t\\t\\t\\t<strong>이용약관</strong>\\n\\t\\t\\t\\t\\t<span class=\"stit\">제1장 총칙</span>\\n\\t\\t\\t\\t\\t<span class=\"sstit\">제1조(목적)</span>\\n\\t\\t\\t\\t\\t<p>본 약관은 한국관광공사(이하 \"공사\")가 제공하는 대한민국구석구석 서비스(이하 \"서비스\")의 이용과 관련하여 공사와 이용자의 권리, 의무 및 책임사항 그리고 기타 필요한 사항을 규정하는 것을 목적으로 합니다.</p>\\n\\t\\t\\t\\t\\t<span class=\"sstit\">제2조(약관의 효력 및 변경)</span>\\n\\t\\t\\t\\t\\t<p>약관의 내용은 서비스 화면에 게시하고 이용자가 동의함으로써 효력이 발생합니다. 공사는 합리적인 사유가 발생될 경우에는 이 약관을 변경할 수 있으며, 약관이 변경되는 경우에는 최소한 7일전에 공지합니다. 또한 새로운 서비스가 개설될 경우, 별도의 명시된 설명이 없는 한 이 약관에 따라 제공됩니다.</p>\\n\\t\\t\\t\\t\\t<ul>\\n\\t\\t\\t\\t\\t\\t<li>① 본 약관은 공사가 서비스 화면을 통해 게시하고 이용자가 이에 동의함으로써 효력을 발생합니다.</li>\\n\\t\\t\\t\\t\\t\\t<li>② 공사는 \"약관의 규제 등에 관한 법률\", \"전기통신사업법령\", \"정보통신망 이용촉진 및 정보보호 등에 관한 법률\", \"개인정보보호법\" 등 관련 법령을 위반하지 않는 범위에서 이 약관의 내용을 수정하거나 변경할 수 있습니다.</li>\\n\\t\\t\\t\\t\\t\\t<li>③ 공사가 약관을 개정할 경우에는 기존약관과 개정약관 및 개정약관의 적용일자와 개정사유를 명시하여 현행약관과 함께 그 적용일자 7일 전부터 적용일 이후 상당한 기간 동안, 개정 내용이 회원에게 불리한 경우에는 그 적용일자 30일 전부터 적용일 이후 상당한 기간 동안 각각 이를 서비스 홈페이지에 고지합니다.</li>\\n\\t\\t\\t\\t\\t\\t<li>④ 공사가 전항에 따라 회원에게 고지하면서 고지일로부터 개정약관 시행일 7일 후까지 거부의사를 표시하지 아니하면 승인한 것으로 본다는 뜻을 명확하게 고지하였음에도 의사표시가 없는 경우에는 변경된 약관을 승인한 것으로 봅니다. 회원이 개정약관에 동의하지 않을 경우 회원은 제6조 제1항의 규정에 따라 이용계약을 해지할 수 있습니다.</li>\\n\\t\\t\\t\\t\\t</ul>\\n\\t\\t\\t\\t\\t<span class=\"sstit\">제3조(용어의 정의)</span>\\n\\t\\t\\t\\t\\t<p>이 약관에서 사용하는 용어의 정의는 다음과 같습니다.</p>\\n\\t\\t\\t\\t\\t<ul>\\n\\t\\t\\t\\t\\t\\t<li>① 이용자: 공사가 제공하는 서비스를 받는 소셜로그인 회원 및 비회원</li>\\n\\t\\t\\t\\t\\t\\t<li>② 회원: 다른 서비스에서 가입한 정보를 바탕으로 대한민국구석구석 서비스 內 소셜로그인 인증을 받은 개인이나 법인 또는 법인에 준하는 단체</li>\\n\\t\\t\\t\\t\\t\\t<li>③ 비회원: 소셜로그인 인증을 통하여 회원인증하지 않고, 공사가 제공하는 서비스를 이용하는 자</li>\\n\\t\\t\\t\\t\\t\\t<li>④ 해지: 공사 또는 회원이 서비스 개통 후 이용계약을 해약하는 것</li>\\n\\t\\t\\t\\t\\t\\t<li>⑤ 소셜로그인 인증 : 포털‧사회관계망서비스(SNS) 가입자가 해당 ID로 다른 웹사이트나 애플리케이션에 접속하는 기능</li>\\n\\t\\t\\t\\t\\t\\t<li>⑥ 통합 소셜로그인(투어원패스) :&nbsp; 소셜로그인 인증을 통해 로그인 실행 및 연계된 공사 서비스를 추가 로그인 없이 이용할 수 있는 기능</li>\\n\\t\\t\\t\\t\\t</ul>\\n\\t\\t\\t\\t\\t<span class=\"stit\">제2장 회원의 가입 및 관리</span>\\n\\t\\t\\t\\t\\t<span class=\"sstit\">제4조(회원가입)</span>\\n\\t\\t\\t\\t\\t<p>이용자는 회원가입을 신청하려면 공사에서 제공하는 통합 소셜로그인 서비스를 통해\\n\\t\\t\\t\\t\\t\\t소셜로그인 인증을 받음으로써 회원가입이 이루어지며, 이 경우 이용약관 및 개인정보처리방침 내용에 동의한 것으로 간주합니다.\\n\\t\\t\\t\\t\\t</p>\\n\\t\\t\\t\\t\\t<span class=\"sstit\">제5조(회원정보의 변경)</span>\\n\\t\\t\\t\\t\\t<p>회원은 회원정보(패스워드, 닉네임, 프로필사진 등)의 수정을 원할 경우 로그인한 소셜서비스에서 제공하는 회원정보수정 메뉴를 통해 수정해야 하며, 변경하지 않은 정보로 인해 발생되는 문제의 책임은 회원에게 있습니다.</p>\\n\\t\\t\\t\\t\\t<span class=\"sstit\">제6조(회원 탈퇴 및 자격상실, 서비스 이용제한 등)</span>\\n\\t\\t\\t\\t\\t<ul>\\n\\t\\t\\t\\t\\t\\t<li>\\n\\t\\t\\t\\t\\t\\t\\t① 회원은 탈퇴를 희망할 경우 탈퇴를 요청할 수 있으며, 탈퇴 방법은 대한민국 구석구석 사이트에서 요청하거나, 통합 소셜로그인 서비스 사이트(투어원패스 사이트)에서 요청하는 방법이 있습니다. 탈퇴 요청을 받으면 공사는 관련법 등이 정하는 바에 따라 이를 처리합니다. 회원이 자발적으로 계약을 해지할 경우, 공사는 관련법 및 개인정보취급방침에 따라 인증정보를 삭제합니다. 회원이 다음 각 호의 사유에 해당하는 경우, 공사는 회원자격을 제한 및 정지시킬 수 있습니다.\\n\\t\\t\\t\\t\\t\\t\\t<ul>\\n\\t\\t\\t\\t\\t\\t\\t\\t<li>가. 가입 신청 시에 허위 내용을 등록한 경우</li>\\n\\t\\t\\t\\t\\t\\t\\t\\t<li>나. 다른 사람의 서비스 이용을 방해하거나 타인의 명예를 훼손하거나 그 정보를 도용하는 등 전자 거래 및 정보통신서비스 이용질서를 위협하는 경우</li>\\n\\t\\t\\t\\t\\t\\t\\t\\t<li>다. 제공되는 정보를 변경하는 등 공사의 운영을 방해한 경우</li>\\n\\t\\t\\t\\t\\t\\t\\t\\t<li>라. 법령과 본 약관이 금지하거나 미풍양속에 저해하는 행위를 하는 경우</li>\\n\\t\\t\\t\\t\\t\\t\\t</ul>\\n\\t\\t\\t\\t\\t\\t</li>\\n\\t\\t\\t\\t\\t\\t<li>② 공사는 회원자격 및 서비스 이용을 제한, 정지 시킨 후, 그 사유가 시정되지 아니하는 경우 회원자격을 상실시킬 수 있습니다.</li>\\n\\t\\t\\t\\t\\t</ul>\\n\\t\\t\\t\\t\\t<span class=\"stit\">제3장 서비스 이용</span>\\n\\t\\t\\t\\t\\t<span class=\"sstit\">제7조(서비스의 구분)</span>\\n\\t\\t\\t\\t\\t<p>공사가 이용자에게 제공하는 서비스는 기본서비스와 부가서비스 등으로 구분 하며, 서비스의 종류와 내용 등은 공사가 공지나 서비스 이용안내에서 별도로 정하는 바에 의합니다.</p>\\n\\t\\t\\t\\t\\t<span class=\"sstit\">제8조(서비스의 이용시간)</span>\\n\\t\\t\\t\\t\\t<ul>\\n\\t\\t\\t\\t\\t\\t<li>① 서비스는 연중무휴 1일 24시간 제공함을 원칙으로 하며, 공사가 업무상, 운영상, 기술상의 이유로 서비스의 전부 또는 일부가 일시 중지될 수 있으며, 이 경우 내용을 사전에 공지합니다.</li>\\n\\t\\t\\t\\t\\t\\t<li>② 공사는 서비스 별로 이용 가능한 시간을 별도로 정할 수 있으며 이 경우 그 내용을 사전에 공지합니다.</li>\\n\\t\\t\\t\\t\\t</ul>\\n\\t\\t\\t\\t\\t<span class=\"sstit\">제9조(서비스 변경)</span>\\n\\t\\t\\t\\t\\t<p>공사는 상당한 이유가 있는 경우에 업무상, 운영상, 기술상의 필요에 따라 제공하고 있는 전부 또는 일부 서비스를 변경 및 중단 할 수 있으며, 이 경우 그 내용을 사전에 공지합니다.</p>\\n\\t\\t\\t\\t\\t<span class=\"stit\">제4장 의무 및 책임</span>\\n\\t\\t\\t\\t\\t<span class=\"sstit\">제10조(공사의 의무)</span>\\n\\t\\t\\t\\t\\t<ul>\\n\\t\\t\\t\\t\\t\\t<li>① 공사는 관련법과 이 약관에서 금지하거나 미풍양속에 반하는 행위를 하지 않으며, 계속적이고 안정적으로 서비스를 제공하기 위하여 최선을 다하여 노력합니다.</li>\\n\\t\\t\\t\\t\\t\\t<li>② 공사는 서비스와 관련한 회원의 불만사항이 접수되는 경우 이를 즉시 처리하여야 하며, 즉시 처리가 곤란한 경우 그 사유와 처리 일정을 해당 회원에게 통지하여야 합니다.</li>\\n\\t\\t\\t\\t\\t\\t<li>③ 공사는 서비스의 제공과 관련하여 알게 된 회원의 개인정보를 본인의 승낙 없이 제3자에게 누설, 배포하지 않고, 이를 보호하기 위하여 노력합니다. 회원의 개인정보보호 및 사용에 대해서는 관련법 및 개인정보취급방침에 따릅니다.</li>\\n\\t\\t\\t\\t\\t</ul>\\n\\t\\t\\t\\t\\t<span class=\"sstit\">제11조(회원의 의무)</span>\\n\\t\\t\\t\\t\\t<p>회원은 다음 행위를 하여서는 안 됩니다.</p>\\n\\t\\t\\t\\t\\t<ul>\\n\\t\\t\\t\\t\\t\\t<li>① 신청 또는 변경 시 허위내용의 등록</li>\\n\\t\\t\\t\\t\\t\\t<li>② 타인의 정보도용</li>\\n\\t\\t\\t\\t\\t\\t<li>③ 공사가 게시한 정보의 변경</li>\\n\\t\\t\\t\\t\\t\\t<li>④ 공사가 정한 정보 이외의 정보(컴퓨터 프로그램 등) 등의 송신 또는 게시</li>\\n\\t\\t\\t\\t\\t\\t<li>⑤ 공사와 기타 제3자의 저작권 등 지적재산권에 대한 침해</li>\\n\\t\\t\\t\\t\\t\\t<li>⑥ 공사 및 기타 제3자의 명예를 손상시키거나 업무를 방해하는 행위</li>\\n\\t\\t\\t\\t\\t\\t<li>⑦ 외설 또는 폭력적인 메시지, 화상, 음성, 기타 미풍양속에 반하는 정보를 서비스에 공개 또는 게시하는 행위</li>\\n\\t\\t\\t\\t\\t\\t<li>⑧ 공사의 동의 없이 영리를 목적으로 서비스를 사용하는 행위</li>\\n\\t\\t\\t\\t\\t\\t<li>⑨ 기타 불법적이거나 부당한 행위</li>\\n\\t\\t\\t\\t\\t</ul>\\n\\t\\t\\t\\t\\t<span class=\"sstit\">제12조(양도 금지)</span>\\n\\t\\t\\t\\t\\t<p>회원은 서비스의 이용권한, 기타 이용 계약상 지위를 타인에게 양도, 증여할 수 없으며, 이를 담보로 제공할 수 없습니다.</p>\\n\\t\\t\\t\\t\\t<span class=\"sstit\">제13조(게시물에 대한 권리 및 책임)</span>\\n\\t\\t\\t\\t\\t<ul>\\n\\t\\t\\t\\t\\t\\t<li>① 게시물에 대한 저작권을 포함한 모든 권리 및 책임은 이를 게시한 회원에게 있으며, 공사는 서비스 내에 게재할 권리를 갖습니다.</li>\\n\\t\\t\\t\\t\\t\\t<li>\\n\\t\\t\\t\\t\\t\\t\\t② 공사는 회원이 서비스에 게시, 게재하거나 서비스를 통해 전송, 수신한 내용물 및 그 결과에 대하여 책임지지 않으며, 아래사항에 해당하는 경우 게시물을 임의로 삭제할 수 있습니다.\\n\\t\\t\\t\\t\\t\\t\\t<ul>\\n\\t\\t\\t\\t\\t\\t\\t\\t<li>가. 타인을 비방하거나, 프라이버시를 침해하거나, 명예를 손상시키는 내용인 경우</li>\\n\\t\\t\\t\\t\\t\\t\\t\\t<li>나. 공공질서 및 미풍양속에 위반되는 내용인 경우</li>\\n\\t\\t\\t\\t\\t\\t\\t\\t<li>다. 서비스의 안정적인 운영에 지장을 주거나 줄 우려가 있는 경우</li>\\n\\t\\t\\t\\t\\t\\t\\t\\t<li>라. 범죄행위에 관련된다고 판단되는 내용인 경우</li>\\n\\t\\t\\t\\t\\t\\t\\t\\t<li>마. 공사의 지적재산권, 타인의 지적재산권 등 기타 권리를 침해하는 내용인 경우</li>\\n\\t\\t\\t\\t\\t\\t\\t\\t<li>바. 특정제품의 선전 등 기타 상용목적으로 게시되는 내용인 경우</li>\\n\\t\\t\\t\\t\\t\\t\\t\\t<li>사. 입력된 정보를 무단 개조하는 경우</li>\\n\\t\\t\\t\\t\\t\\t\\t\\t<li>아. 타 회원의 회원 ID, 비밀번호를 도용하는 경우</li>\\n\\t\\t\\t\\t\\t\\t\\t\\t<li>자. 게시판의 목적에 맞지 않는 사이버 시위 및 도배 목적의 내용인 경우</li>\\n\\t\\t\\t\\t\\t\\t\\t\\t<li>차. 기타 관계법령에 위반된다고 판단되는 경우</li>\\n\\t\\t\\t\\t\\t\\t\\t</ul>\\n\\t\\t\\t\\t\\t\\t</li>\\n\\t\\t\\t\\t\\t</ul>\\n\\t\\t\\t\\t\\t<span class=\"sstit\">제14조(책임제한)</span>\\n\\t\\t\\t\\t\\t<ul>\\n\\t\\t\\t\\t\\t\\t<li>① 공사는 천재지변 또는 이에 준하는 불가항력으로 인하여 서비스를 제공할 수 없는 경우에는 서비스 제공에 관한 책임을 지지 않습니다.</li>\\n\\t\\t\\t\\t\\t\\t<li>② 공사는 회원의 귀책사유로 인한 서비스 이용의 장애에 대하여는 책임을 지지 않습니다.</li>\\n\\t\\t\\t\\t\\t\\t<li>③ 공사는 회원이 서비스와 관련하여 게재한 정보, 자료, 사실의 신뢰도, 정확성 등의 내용에 관하여는 책임을 지지 않습니다.</li>\\n\\t\\t\\t\\t\\t\\t<li>④ 공사는 회원 간 또는 회원과 제3자 상호간에 서비스를 매개로 하여 거래 등을 한 경우에는 책임을 지지 않습니다.</li>\\n\\t\\t\\t\\t\\t</ul>\\n\\t\\t\\t\\t\\t<span class=\"sstit\">제15조(분쟁의 해결)</span>\\n\\t\\t\\t\\t\\t<p>본 약관은 대한민국법령에 의하여 규정되고 이행되며, 서비스 이용과 관련하여 공사와 회원간에 발생한 분쟁에 대해서는 민사소송법상의 주소지를 관할하는 법원을 합의관할로 합니다.</p>\\n\\t\\t\\t\\t\\t<span class=\"sstit\">제16조(규정의 준용)</span>\\n\\t\\t\\t\\t\\t<p>본 약관에 명시되지 않은 사항에 대해서는 관련법령에 의하고, 법에 명시되지 않은 부분에 대하여는 관습에 의합니다.</p>\\n\\t\\t\\t\\t\\t<span class=\"sstit\">■ 부칙</span>\\n\\t\\t\\t\\t\\t<p>본 약관은 2018년 9월 4일부터 적용됩니다.</p>\\n\\t\\t\\t\\t\\t<p>본 약관은 2018년 9월 23일부터 적용됩니다.</p>\\n\\n\\t\\t\\t\\t</div>\\n\\t\\t\\t</div>\\n\\t\\t\\t<div class=\"clause_wrap\">\\n\\t\\t\\t\\t<strong class=\"tit\">\\n\\t\\t\\t\\t\\t<input type=\"checkbox\" id=\"check02\">\\n\\t\\t\\t\\t\\t<label for=\"check02\">개인정보 수집 및 이용 동의 <em>(필수)</em></label>\\n\\t\\t\\t\\t</strong>\\n\\t\\t\\t\\t<div class=\"clause\" tabindex=\"0\">\\n\\t\\t\\t\\t\\t<p>&lt;한국관광공사&gt;대한민국구석구석 홈페이지 및 모바일 서비스(이하 \"대한민국구석구석 서비스\")가 취급하는 개인정보는 개인정보보호법에 따라 이용자의 개인정보 보호 및 권익을 보호하고 개인정보와 관련한 이용자의 고충을 원활하게 처리할 수 있도록 다음과 같은 처리방침을 두고 있습니다.</p>\\n\\t\\t\\t\\t\\t<p class=\"type1\">대한민국구석구석 서비스는 개인정보처리방침을 개정하는 경우 웹사이트 공지사항(또는 개별공지)을 통하여 공지할 것입니다.</p>\\n\\t\\t\\t\\t\\t<p class=\"type1\">○ 본 방침은 2021년 09월 23일부터 시행됩니다.</p>\\n\\t\\t\\t\\t\\t<span class=\"sstit\">제1조 (개인정보의 처리 목적)</span>\\n\\t\\t\\t\\t\\t<p>대한민국구석구석 서비스는 개인정보를 다음의 목적을 위해 처리합니다. 처리한 개인정보는 다음의 목적이외의 용도로는 사용되지 않으며 이용 목적이 변경될 시에는 사전 동의를 구할 예정입니다.</p>\\n\\t\\t\\t\\t\\t<ul class=\"type1\">\\n\\t\\t\\t\\t\\t\\t<li>\\n\\t\\t\\t\\t\\t\\t\\t가. 회원가입 및 관리<br>\\n\\t\\t\\t\\t\\t\\t\\t회원 가입의사 확인, 회원제 서비스 제공에 따른 본인 식별 인증, 회원자격 유지 관리, 서비스 부정이용 방지, 각종 고지 통지 등을 목적으로 개인정보를 처리합니다.\\n\\t\\t\\t\\t\\t\\t</li>\\n\\t\\t\\t\\t\\t\\t<li>\\n\\t\\t\\t\\t\\t\\t\\t나. 민원사무 처리<br>\\n\\t\\t\\t\\t\\t\\t\\t민원인의 신원 확인, 민원사항 확인, 사실조사를 위한 연락 통지, 처리결과 통보 등을 목적으로 개인정보를 처리합니다.\\n\\t\\t\\t\\t\\t\\t</li>\\n\\t\\t\\t\\t\\t\\t<li>\\n\\t\\t\\t\\t\\t\\t\\t다. 재화 또는 서비스 제공<br>\\n\\t\\t\\t\\t\\t\\t\\t서비스 제공, 콘텐츠 제공, 맞춤 서비스 제공, 요금결제 정산 등을 목적으로 개인정보를 처리합니다.\\n\\t\\t\\t\\t\\t\\t</li>\\n\\t\\t\\t\\t\\t\\t<li>\\n\\t\\t\\t\\t\\t\\t\\t라. 마케팅 및 광고에의 활용<br>\\n\\t\\t\\t\\t\\t\\t\\t신규 서비스 개발 및 맞춤 서비스 제공, 이벤트 및 광고성 정보 제공 및 참여기회 제공, 인구통계학적 특성에 따른 서비스 제공 및 광고 게재, 학술연구 또는 시장조사, 서비스의 유효성 확인, 접속빈도 파악 또는 회원의 서비스 이용에 대한 통계 등을 목적으로 개인정보를 처리합니다.\\n\\t\\t\\t\\t\\t\\t</li>\\n\\t\\t\\t\\t\\t</ul>\\n\\t\\t\\t\\t\\t<span class=\"sstit\">제2조 (처리하는 개인정보의 항목)</span>\\n\\t\\t\\t\\t\\t<p>대한민국구석구석 서비스는 다음의 개인정보 항목을 처리하고 있습니다.</p>\\n\\t\\t\\t\\t\\t<ul class=\"type1\">\\n\\t\\t\\t\\t\\t\\t<li>가. 회원 서비스 이용을 위한 소설로그인 인증 절차가 있으며, 이에 따른 이용자의 아이디와 비밀번호 등 민감한 개인정보는 보유하지 않으며 한국관광공사에서 제공하는 통합 소셜 로그인 서비스 사이트(투어원패스)에서 제공하는 개인정보취급방침을 따르고 있습니다. </li>\\n\\t\\t\\t\\t\\t\\t<li>나. 한국관광공사에서 제공하는 통합 소셜 로그인 서비스(투어원패스)를 이용하더라도 기존 대한민국구석구석의 활동정보는 변동사항 없이 유지 됩니다.<br>\\n\\t\\t\\t\\t\\t\\t\\t(로그인 정보, 관광정보지킴이, 댓글, 공유하기, 코스 생성등)</li>\\n\\t\\t\\t\\t\\t\\t<li>다. 서비스 개선목적을 위한 이용자의 \"브라우저 종류\", \"OS\", \"방문일시\", \"IP\"항목을 자동 수집합니다.</li>\\n\\t\\t\\t\\t\\t\\t<li>라. 개인정보 자동수집 장치(cookie)의 설치, 운영 및 그 거부에 관한 사항</li>\\n\\t\\t\\t\\t\\t</ul>\\n\\t\\t\\t\\t\\t<ul class=\"type1\">\\n\\t\\t\\t\\t\\t\\t<li>1. 공사는 고객님의 정보를 저장하고 수시로 찾아내는 \\'쿠키(cookie)\\'를 운용합니다. 쿠키는 웹사이트가 고객님의 컴퓨터 브라우저 및 휴대폰(인터넷익스플로러 등)으로 전송하는 소량의 정보로서 고객님이 웹사이트에 본인 인증을 통해 접속하면 고객님의 브라우저에 있는 쿠키의 내용을 읽고,고객님의 추가정보를 고객님의 컴퓨터에서 찾아 서비스를 제공하게 됩니다.\\n\\t\\t\\t\\t\\t\\t\\t이러한 쿠키 정보는 고객님께 유용하고 보다 편리한 맞춤 서비스를 제공하는데 사용되게 됩니다.</li>\\n\\t\\t\\t\\t\\t\\t<li>2. 그러나 쿠키 정보는 고객님의 컴퓨터를 식별할 수는 있지만 고객 개개인을 식별하지는 않습니다. 고객님은 쿠키에 대한 사용여부를 선택할 수 있습니다. 웹 브라우저의 옵션 설정을 통해 모든 쿠키를 허용할 수도 있고,  쿠키가 저장될 때마다 확인을 거치거나 모든 쿠키의 저장을 거부할 수도 있습니다.<br>\\n\\t\\t\\t\\t\\t\\t\\t단, 쿠키의 저장을 거부할 경우에는 서비스 제공에 필요한 일부 서비스는 이용할 수 없습니다.</li>\\n\\t\\t\\t\\t\\t</ul>\\n\\t\\t\\t\\t\\t<span class=\"sstit\">제3조 (개인정보의 처리 및 보유 기간)</span>\\n\\t\\t\\t\\t\\t<p>이용자의 개인정보는 회원 탈퇴시 지체 없이 파기합니다.</p>\\n\\t\\t\\t\\t\\t<span class=\"sstit\">제4조 (단말기 접근에 대한 권한동의 및 범위)</span>\\n\\t\\t\\t\\t\\t<p>대한민국구석구석 서비스는 이용자가 어플리케이션을 통해 서비스를 제공받고자 했을 경우, 이용에 필요한 권한 동의여부를 제공하며, ‘동의’버튼을 클릭하면 해당 권한 접근에 대해 허용한 것으로 간주합니다.</p>\\n\\t\\t\\t\\t\\t<ul class=\"type1\">\\n\\t\\t\\t\\t\\t\\t<li>\\n\\t\\t\\t\\t\\t\\t\\t가. 단말기에 대한 정의<br>\\n\\t\\t\\t\\t\\t\\t\\t대한민국구석구석 어플리케이션 서비스를 설치 및 사용할 수 있는 스마트폰 및 태블릿PC 등을 말합니다.\\n\\t\\t\\t\\t\\t\\t</li>\\n\\t\\t\\t\\t\\t\\t<li>\\n\\t\\t\\t\\t\\t\\t\\t나. 단말기 접근 권한 안내를\\n\\t\\t\\t\\t\\t\\t\\t<p>단말기 접근 권한 안내에 대한 권한명, 사용이유로 구분되는 정보 테이블</p>\\n\\t\\t\\t\\t\\t\\t\\t<div class=\"board\">\\n\\t\\t\\t\\t\\t\\t\\t\\t<table>\\n\\t\\t\\t\\t\\t\\t\\t\\t\\t<caption>단말기 접근 권한 안내에 대한 권한명, 사용이유로 구분되는 정보 테이블</caption>\\n\\t\\t\\t\\t\\t\\t\\t\\t\\t<colgroup>\\n\\t\\t\\t\\t\\t\\t\\t\\t\\t\\t<col style=\"width:50%;\">\\n\\t\\t\\t\\t\\t\\t\\t\\t\\t\\t<col>\\n\\t\\t\\t\\t\\t\\t\\t\\t\\t</colgroup>\\n\\t\\t\\t\\t\\t\\t\\t\\t\\t<thead>\\n\\t\\t\\t\\t\\t\\t\\t\\t\\t<tr>\\n\\t\\t\\t\\t\\t\\t\\t\\t\\t\\t<th scope=\"col\">권한명</th>\\n\\t\\t\\t\\t\\t\\t\\t\\t\\t\\t<th scope=\"col\">사용이유</th>\\n\\t\\t\\t\\t\\t\\t\\t\\t\\t</tr>\\n\\t\\t\\t\\t\\t\\t\\t\\t\\t</thead>\\n\\t\\t\\t\\t\\t\\t\\t\\t\\t<tbody>\\n\\t\\t\\t\\t\\t\\t\\t\\t\\t<tr>\\n\\t\\t\\t\\t\\t\\t\\t\\t\\t\\t<td>Internet</td>\\n\\t\\t\\t\\t\\t\\t\\t\\t\\t\\t<td>인터넷 연결</td>\\n\\t\\t\\t\\t\\t\\t\\t\\t\\t</tr>\\n\\t\\t\\t\\t\\t\\t\\t\\t\\t<tr>\\n\\t\\t\\t\\t\\t\\t\\t\\t\\t\\t<td>Access_Fine_Location</td>\\n\\t\\t\\t\\t\\t\\t\\t\\t\\t\\t<td>사용자의 위치확인</td>\\n\\t\\t\\t\\t\\t\\t\\t\\t\\t</tr>\\n\\t\\t\\t\\t\\t\\t\\t\\t\\t<tr>\\n\\t\\t\\t\\t\\t\\t\\t\\t\\t\\t<td>Access_Coarse_Location</td>\\n\\t\\t\\t\\t\\t\\t\\t\\t\\t\\t<td>사용자의 위치확인</td>\\n\\t\\t\\t\\t\\t\\t\\t\\t\\t</tr>\\n\\t\\t\\t\\t\\t\\t\\t\\t\\t<tr>\\n\\t\\t\\t\\t\\t\\t\\t\\t\\t\\t<td>WRITE_EXTERNAL_STORAGE</td>\\n\\t\\t\\t\\t\\t\\t\\t\\t\\t\\t<td>사진업로드 및 임시파일 저장</td>\\n\\t\\t\\t\\t\\t\\t\\t\\t\\t</tr>\\n\\t\\t\\t\\t\\t\\t\\t\\t\\t<tr>\\n\\t\\t\\t\\t\\t\\t\\t\\t\\t\\t<td>READ_EXTERNAL_STORAGE</td>\\n\\t\\t\\t\\t\\t\\t\\t\\t\\t\\t<td>사진업로드 및 임시파일 저장</td>\\n\\t\\t\\t\\t\\t\\t\\t\\t\\t</tr>\\n\\t\\t\\t\\t\\t\\t\\t\\t\\t<tr>\\n\\t\\t\\t\\t\\t\\t\\t\\t\\t\\t<td>ACCESS_NETWORK_STATE</td>\\n\\t\\t\\t\\t\\t\\t\\t\\t\\t\\t<td>와이파이를 통한 네트워크 연결</td>\\n\\t\\t\\t\\t\\t\\t\\t\\t\\t</tr>\\n\\t\\t\\t\\t\\t\\t\\t\\t\\t<tr>\\n\\t\\t\\t\\t\\t\\t\\t\\t\\t\\t<td>CD2_MESSAGE</td>\\n\\t\\t\\t\\t\\t\\t\\t\\t\\t\\t<td>푸시메시지</td>\\n\\t\\t\\t\\t\\t\\t\\t\\t\\t</tr>\\n\\t\\t\\t\\t\\t\\t\\t\\t\\t<tr>\\n\\t\\t\\t\\t\\t\\t\\t\\t\\t\\t<td>RECEIVE</td>\\n\\t\\t\\t\\t\\t\\t\\t\\t\\t\\t<td>푸시메시지</td>\\n\\t\\t\\t\\t\\t\\t\\t\\t\\t</tr>\\n\\t\\t\\t\\t\\t\\t\\t\\t\\t<tr>\\n\\t\\t\\t\\t\\t\\t\\t\\t\\t\\t<td>WAKE_LOCK</td>\\n\\t\\t\\t\\t\\t\\t\\t\\t\\t\\t<td>푸시메시지</td>\\n\\t\\t\\t\\t\\t\\t\\t\\t\\t</tr>\\n\\t\\t\\t\\t\\t\\t\\t\\t\\t</tbody>\\n\\t\\t\\t\\t\\t\\t\\t\\t</table>\\n\\t\\t\\t\\t\\t\\t\\t</div>\\n\\t\\t\\t\\t\\t\\t</li>\\n\\t\\t\\t\\t\\t</ul>\\n\\t\\t\\t\\t\\t<span class=\"sstit\">제5조 (개인정보의 제3자 제공)</span>\\n\\t\\t\\t\\t\\t<p>대한민국구석구석 서비스는 원칙적으로 이용자의 개인정보를 제1조 (개인정보의 처리 목적)에서 명시한 범위 내에서 처리하며, 이용자의 사전 동의 없이는 본래의 범위를 초과하여 처리하거나 제3자에게 제공하지 않습니다.</p>\\n\\t\\t\\t\\t\\t<span class=\"sstit\">제6조 (개인정보처리 위탁)</span>\\n\\t\\t\\t\\t\\t<ul>\\n\\t\\t\\t\\t\\t\\t<li>\\n\\t\\t\\t\\t\\t\\t\\t① 대한민국구석구석 서비스는 원활한 개인정보 업무처리를 위하여 다음과 같이 개인정보 처리업무를 위탁하고 있습니다.\\n\\t\\t\\t\\t\\t\\t\\t<p>개인정보 처리업무 위탁 정보 테이블</p>\\n\\t\\t\\t\\t\\t\\t\\t<div class=\"board type1\">\\n\\t\\t\\t\\t\\t\\t\\t\\t<table>\\n\\t\\t\\t\\t\\t\\t\\t\\t\\t<caption>개인정보 처리업무 위탁 정보 테이블</caption>\\n\\t\\t\\t\\t\\t\\t\\t\\t\\t<colgroup>\\n\\t\\t\\t\\t\\t\\t\\t\\t\\t\\t<col style=\"width:40%;\">\\n\\t\\t\\t\\t\\t\\t\\t\\t\\t\\t<col>\\n\\t\\t\\t\\t\\t\\t\\t\\t\\t</colgroup>\\n\\t\\t\\t\\t\\t\\t\\t\\t\\t<tbody>\\n\\t\\t\\t\\t\\t\\t\\t\\t\\t<tr>\\n\\t\\t\\t\\t\\t\\t\\t\\t\\t\\t<th scope=\"row\">위탁받는 자(수탁자)</th>\\n\\t\\t\\t\\t\\t\\t\\t\\t\\t\\t<td>(주)유니에스아이엔씨</td>\\n\\t\\t\\t\\t\\t\\t\\t\\t\\t</tr>\\n\\t\\t\\t\\t\\t\\t\\t\\t\\t<tr>\\n\\t\\t\\t\\t\\t\\t\\t\\t\\t\\t<th scope=\"row\">위탁부서 / 담당자</th>\\n\\t\\t\\t\\t\\t\\t\\t\\t\\t\\t<td>내디지털마케팅팀 / 정상현</td>\\n\\t\\t\\t\\t\\t\\t\\t\\t\\t</tr>\\n\\t\\t\\t\\t\\t\\t\\t\\t\\t<tr>\\n\\t\\t\\t\\t\\t\\t\\t\\t\\t\\t<th scope=\"row\">위탁하는 업무의 내용</th>\\n\\t\\t\\t\\t\\t\\t\\t\\t\\t\\t<td>\\n\\t\\t\\t\\t\\t\\t\\t\\t\\t\\t\\t<ul>\\n\\t\\t\\t\\t\\t\\t\\t\\t\\t\\t\\t\\t<li>대한민국구석구석 서비스 운영관리 및 회원정보 관리 보호를 위한 기술적 처리</li>\\n\\t\\t\\t\\t\\t\\t\\t\\t\\t\\t\\t\\t<li>온라인 민원사무 처리의 기술적 처리 지원</li>\\n\\t\\t\\t\\t\\t\\t\\t\\t\\t\\t\\t\\t<li>디지털 재화 및 정보 서비스 제공에 따른 기술적 처리</li>\\n\\t\\t\\t\\t\\t\\t\\t\\t\\t\\t\\t\\t<li>정보서비스 이용 촉진을 위한 온라인 이벤트 구현, 통계분석 등 기술적 처리 지원</li>\\n\\t\\t\\t\\t\\t\\t\\t\\t\\t\\t\\t\\t<li>이벤트 진행 및 경품 배송을 위해 개인 정보 위탁 또는 이벤트 경품배송 등의 서비스 제공</li>\\n\\t\\t\\t\\t\\t\\t\\t\\t\\t\\t\\t\\t<li>기타 개인정보 보호를 위한 기술적 조치 및 관리 지원</li>\\n\\t\\t\\t\\t\\t\\t\\t\\t\\t\\t\\t</ul>\\n\\t\\t\\t\\t\\t\\t\\t\\t\\t\\t</td>\\n\\t\\t\\t\\t\\t\\t\\t\\t\\t</tr>\\n\\t\\t\\t\\t\\t\\t\\t\\t\\t<tr>\\n\\t\\t\\t\\t\\t\\t\\t\\t\\t\\t<th scope=\"row\">위탁 기간</th>\\n\\t\\t\\t\\t\\t\\t\\t\\t\\t\\t<td>2020.1.1~2020.12.31</td>\\n\\t\\t\\t\\t\\t\\t\\t\\t\\t</tr>\\n\\t\\t\\t\\t\\t\\t\\t\\t\\t</tbody>\\n\\t\\t\\t\\t\\t\\t\\t\\t</table>\\n\\t\\t\\t\\t\\t\\t\\t</div>\\n\\t\\t\\t\\t\\t\\t</li>\\n\\t\\t\\t\\t\\t\\t<li>② 대한민국구석구석 서비스는 위탁계약 체결시 개인정보 보호법 제26조에 따라 위탁업무 수행목적 외 개인정보 처리금지, 기술적·관리적 보호조치, 재위탁 제한, 수탁자에 대한 관리·감독, 손해배상 등 책임에 관한 사항을 계약서 등 문서에 명시하고, 수탁자가 개인정보를 안전하게 처리하는지를 감독하고 있습니다.</li>\\n\\t\\t\\t\\t\\t\\t<li>③ 위탁업무의 내용이나 수탁자가 변경될 경우에는 지체 없이 본 개인정보처리방침을 통하여 공개하고 필요한 경우 사전 동의를 구하도록 하겠습니다.</li>\\n\\t\\t\\t\\t\\t</ul>\\n\\t\\t\\t\\t\\t<span class=\"sstit\">제7조 (정보주체의 권리, 의무 및 그 행사방법)</span>\\n\\t\\t\\t\\t\\t<ul>\\n\\t\\t\\t\\t\\t\\t<li>\\n\\t\\t\\t\\t\\t\\t\\t① 정보주체(만 14세 미만인 경우에는 법정대리인을 말함)는 언제든지 다음 각 호의 개인정보 보호 관련 권리를 행사할 수 있습니다.\\n\\t\\t\\t\\t\\t\\t\\t<ul>\\n\\t\\t\\t\\t\\t\\t\\t\\t<li>1. 개인정보 열람요구</li>\\n\\t\\t\\t\\t\\t\\t\\t\\t<li>2. 오류 등이 있을 경우 정정 요구</li>\\n\\t\\t\\t\\t\\t\\t\\t\\t<li>3. 삭제요구</li>\\n\\t\\t\\t\\t\\t\\t\\t\\t<li>4. 처리정지 요구</li>\\n\\t\\t\\t\\t\\t\\t\\t</ul>\\n\\t\\t\\t\\t\\t\\t</li>\\n\\t\\t\\t\\t\\t\\t<li>② 제1항에 따른 권리 행사는 개인정보보호법 시행규칙 별지 제8호 서식에 따라 작성 후 서면, 전자우편, 모사전송(FAX) 등을 통하여 하실 수 있으며, 이에 대해 지체 없이 조치하겠습니다.</li>\\n\\t\\t\\t\\t\\t\\t<li>③ 정보주체가 개인정보의 오류 등에 대한 정정 또는 삭제를 요구한 경우에는 정정 또는 삭제를 완료할 때까지 당해 개인정보를 이용하거나 제공하지 않습니다.</li>\\n\\t\\t\\t\\t\\t\\t<li>④ 제1항에 따른 권리 행사는 정보주체의 법정대리인이나 위임을 받은 자 등 대리인을 통하여 하실 수 있습니다. 이 경우 개인정보보호법 시행규칙 별지 제11호 서식에 따른 위임장을 제출하셔야 합니다.</li>\\n\\t\\t\\t\\t\\t\\t<li>⑤ 개인정보 열람 및 처리정지 요구는 개인정보보호법 제35조 제4항, 제37조 제2항에 의하여 정보주체의 권리가 제한 될 수 있습니다.</li>\\n\\t\\t\\t\\t\\t\\t<li>⑥ 개인정보의 정정 및 삭제 요구는 다른 법령에서 그 개인정보가 수집 대상으로 명시되어 있는 경우에는 그 삭제를 요구할 수 없습니다.</li>\\n\\t\\t\\t\\t\\t\\t<li>⑦ 정보주체 권리에 따른 열람의 요구, 정정·삭제의 요구, 처리정지의 요구 시 열람 등 요구를 한 자가 본인이거나 정당한 대리인인지를 확인합니다.</li>\\n\\t\\t\\t\\t\\t</ul>\\n\\t\\t\\t\\t\\t<p>* [개인정보보호법 시행규칙 별지 제8호] 개인정보(열람, 정정·삭제, 처리정지) 요구서개인정보 열람 요구서</p>\\n\\t\\t\\t\\t\\t<p>* [개인정보보호법 시행규칙 별지 제11호] 위임장위임장</p>\\n\\t\\t\\t\\t\\t<span class=\"sstit\">제8조 (개인정보의 파기)</span>\\n\\t\\t\\t\\t\\t<p>대한민국구석구석 서비스는 이벤트 경품발송 완료등 개인정보 처리목적이 달성된 경우에는 지체 없이 해당 개인정보를 파기합니다. 파기의 절차, 기한 및 방법은 다음과 같습니다.</p>\\n\\t\\t\\t\\t\\t<span class=\"sstit\">[파기절차]</span>\\n\\t\\t\\t\\t\\t<p>이용자가 입력한 정보는 목적 달성 후 별도의 DB에 옮겨져(종이의 경우 별도의 서류) 내부 방침 및 기타 관련 법령에 따라 일정기간 저장된 후 혹은 즉시 파기됩니다. 이 때, DB로 옮겨진 개인정보는 법률에 의한 경우가 아니고서는 다른 목적으로 이용되지 않습니다.</p>\\n\\t\\t\\t\\t\\t<span class=\"sstit\">[파기기한]</span>\\n\\t\\t\\t\\t\\t<p>이용자의 개인정보는 개인정보의 보유기간이 경과된 경우에는 보유기간의 종료일로부터 5일 이내에, 개인정보의 처리 목적 달성, 해당 서비스의 폐지, 사업의 종료 등 그 개인정보가 불필요하게 되었을 때에는 개인정보의 처리가 불필요한 것으로 인정되는 날로부터 5일 이내에 그 개인정보를 파기합니다.</p>\\n\\t\\t\\t\\t\\t<span class=\"sstit\">[파기방법]</span>\\n\\t\\t\\t\\t\\t<p>전자적 파일 형태의 정보는 기록을 재생할 수 없는 기술적 방법을 사용합니다.<br>\\n\\t\\t\\t\\t\\t\\t종이에 출력된 개인정보는 분쇄기로 분쇄하거나 소각을 통하여 파기합니다.\\n\\t\\t\\t\\t\\t</p>\\n\\t\\t\\t\\t\\t<span class=\"sstit\">제9조 (개인정보의 안전성 확보 조치)</span>\\n\\t\\t\\t\\t\\t<p>대한민국구석구석 서비스는 개인정보보호법 제29조에 따라 다음과 같이 안전성 확보에 필요한 기술적/관리적 및 물리적 조치를 하고 있습니다.</p>\\n\\t\\t\\t\\t\\t<span class=\"sstit\">[개인정보 취급 직원의 최소화 및 교육]</span>\\n\\t\\t\\t\\t\\t<p>개인정보를 취급하는 직원을 지정하고 담당자에 한정시켜 최소화 하여 개인정보를 관리하는 대책을 시행하고 있습니다. 개인정보 영향평가 실시 개인정보 취급 관련 안정성 확보와 관리체계 개선을 위해 개인정보보호법 시행령 제35조 및 부칙 제6조에 따라 개인정보 영향평가 실시의무를 준수합니다.<br>\\n\\t\\t\\t\\t\\t\\t내부관리계획의 수립 및 시행 개인정보의 안전한 처리를 위하여 내부관리계획을 수립하고 시행하고 있습니다.<br>\\n\\t\\t\\t\\t\\t\\t개인정보의 암호화 개인정보를 안전하게 저장 전송할 수 있는 암호화 기술의 적용 또는 이에 상응하는 조치를 통해 관리하고 있습니다.\\n\\t\\t\\t\\t\\t</p>\\n\\t\\t\\t\\t\\t<span class=\"sstit\">[해킹 등에 대비한 기술적 대책]</span>\\n\\t\\t\\t\\t\\t<p>대한민국구석구석 서비스는 해킹이나 컴퓨터 바이러스 등에 의한 개인정보 유출 및 훼손을 막기 위하여 보안프로그램을 설치하고 주기적인 갱신 점검을 하며 외부로부터 접근이 통제된 구역에 시스템을 설치하고 기술적/물리적으로 감시 및 차단하고 있습니다.</p>\\n\\t\\t\\t\\t\\t<span class=\"sstit\">[개인정보에 대한 접근 제한]</span>\\n\\t\\t\\t\\t\\t<p>개인정보를 처리하는 데이터베이스시스템에 대한 접근권한의 부여,변경,말소를 통하여 개인정보에 대한 접근통제를 위하여 필요한 조치를 하고 있으며 침입차단시스템을 이용하여 외부로부터의 무단 접근을 통제하고 있습니다.</p>\\n\\t\\t\\t\\t\\t<span class=\"sstit\">[접속기록의 보관 및 위변조 방지]</span>\\n\\t\\t\\t\\t\\t<p>개인정보처리시스템에 접속한 기록을 최소 6개월 이상 보관, 관리하고 있으며, 접속 기록이 위변조 및 도난, 분실되지 않도록 보안기능 사용하고 있습니다.</p>\\n\\t\\t\\t\\t\\t<span class=\"sstit\">[문서보안을 위한 잠금장치 사용]</span>\\n\\t\\t\\t\\t\\t<p>개인정보가 포함된 서류, 보조저장매체 등을 잠금장치가 있는 안전한 장소에 보관하고 있습니다.</p>\\n\\t\\t\\t\\t\\t<span class=\"sstit\">[비인가자에 대한 출입 통제]</span>\\n\\t\\t\\t\\t\\t<p>개인정보를 보관하고 있는 물리적 보관 장소를 별도로 두고 이에 대해 출입통제 절차를 수립, 운영하고 있습니다.</p>\\n\\t\\t\\t\\t\\t<span class=\"sstit\">제10조 (개인정보보호책임자)</span>\\n\\t\\t\\t\\t\\t<p>한국관광공사는 개인정보를 보호하고 개인정보와 관련한 불만을 처리하기 위하여 아래와 같이 개인정보 보호책임자 및 실무담당자를 지정하고 있습니다. (개인정보보호법 제31조 제1항에 따른 개인정보보호 책임자)</p>\\n\\t\\t\\t\\t\\t<span class=\"sstit\">[개인정보보호책임자]</span>\\n\\t\\t\\t\\t\\t<p>\\n\\t\\t\\t\\t\\t\\t성명 : 조희진<br>\\n\\t\\t\\t\\t\\t\\t소속/직책 : 디지털혁신실장\\n\\t\\t\\t\\t\\t</p>\\n\\t\\t\\t\\t\\t<span class=\"sstit\">[개인정보보호담당자]</span>\\n\\t\\t\\t\\t\\t<p>\\n\\t\\t\\t\\t\\t\\t부서명 : 디지털인프라팀<br>\\n\\t\\t\\t\\t\\t\\t담당자 : 서승연<br>\\n\\t\\t\\t\\t\\t\\t연락처 : 033-738-3527 / syseo29@knto.or.kr\\n\\t\\t\\t\\t\\t</p>\\n\\t\\t\\t\\t\\t<span class=\"sstit\">제11조 (개인정보 처리방침 변경)</span>\\n\\t\\t\\t\\t\\t<p>이 개인정보처리방침은 시행일로부터 적용되며, 법령 및 방침에 따른 변경내용의 추가, 삭제 및 정정이 있는 경우에는 변경사항의 시행 7일 전부터 공지사항을 통하여 고지할 것입니다.</p>\\n\\t\\t\\t\\t\\t<span class=\"sstit\">제12조 (권익침해 구제방법)</span>\\n\\t\\t\\t\\t\\t<p>개인정보주체는 개인정보침해로 인한 구제를 받기 위하여 개인정보분쟁조정위원회, 한국인터넷진흥원 개인정보침해신고센터 등에 분쟁해결이나 상담 등을 신청할 수 있습니다. 이 밖에 기타 개인정보침해의 신고 및 상담에 대하여는 아래의 기관에 문의하시기 바랍니다.</p>\\n\\t\\t\\t\\t\\t<span class=\"sstit\">[개인정보 침해신고센터 (한국인터넷진흥원 운영)]</span>\\n\\t\\t\\t\\t\\t<p>\\n\\t\\t\\t\\t\\t\\t소관업무 : 개인정보 침해사실 신고, 상담 신청<br>\\n\\t\\t\\t\\t\\t\\t홈페이지 : privacy.kisa.or.kr<br>\\n\\t\\t\\t\\t\\t\\t전화 : (국번없이) 118<br>\\n\\t\\t\\t\\t\\t\\t주소 : (138-950) 서울시 송파구 중대로 135 한국인터넷진흥원 개인정보침해신고센터<br>\\n\\t\\t\\t\\t\\t\\t개인정보 분쟁조정위원회 (한국인터넷진흥원 운영)<br>\\n\\t\\t\\t\\t\\t\\t소관업무 : 개인정보 분쟁조정신청, 집단분쟁조정 (민사적 해결)<br>\\n\\t\\t\\t\\t\\t\\t홈페이지 : privacy.kisa.or.kr<br>\\n\\t\\t\\t\\t\\t\\t전화 : (국번없이) 118<br>\\n\\t\\t\\t\\t\\t\\t주소 : (138-950) 서울시 송파구 중대로 135 한국인터넷진흥원 개인정보침해신고센터<br>\\n\\t\\t\\t\\t\\t\\t대검찰청 사이버범죄수사단 : 02-3480-3573 (www.spo.go.kr)<br>\\n\\t\\t\\t\\t\\t\\t경찰청 사이버범죄수사단 : 1566-0112 (www.netan.go.kr)\\n\\t\\t\\t\\t\\t</p>\\n\\t\\t\\t\\t\\t<span class=\"sstit\">제13조(개인정보의 열람청구를 접수 처리하는 부서)</span>\\n\\t\\t\\t\\t\\t<ul>\\n\\t\\t\\t\\t\\t\\t<li>\\n\\t\\t\\t\\t\\t\\t\\t① 정보주체는 개인정보 보호법 제35조에 따른 개인정보의 열람 청구를 아래의 부서에 할 수 있습니다.<br>\\n\\t\\t\\t\\t\\t\\t\\t국내디지털마케팅팀은 정보주체의 개인정보 열람청구가 신속하게 처리되도록 노력하겠습니다.<br>\\n\\t\\t\\t\\t\\t\\t\\t개인정보 열람청구 접수∙처리 부서 부서명 : 국내디지털마케팅팀<br>\\n\\t\\t\\t\\t\\t\\t\\t담당자 : 이국희<br>\\n\\t\\t\\t\\t\\t\\t\\t연락처 : &lt;전화 : 033-738-3856&gt;, &lt;이메일: kenwoood@knto.or.kr&gt;\\n\\t\\t\\t\\t\\t\\t</li>\\n\\t\\t\\t\\t\\t\\t<li>② 정보주체께서는 제1항의 열람청구 접수․처리부서 이외에, 행정안전부의 ‘개인정보보호 종합지원 포털’ 웹사이트(www.privacy.go.kr)를 통하여서도 개인정보 열람청구를 하실 수 있습니다.<br>\\n\\t\\t\\t\\t\\t\\t\\t행정안전부 개인정보보호 종합지원 포털 → 개인정보 민원 → 개인정보 열람등 요구 (본인확인을 위하여 아이핀(I-PIN)이 있어야 함)</li>\\n\\t\\t\\t\\t\\t</ul>\\n\\t\\t\\t\\t\\t<span class=\"sstit\">[이전 개인정보처리 방침 내용]</span>\\n\\t\\t\\t\\t\\t<p class=\"type1\">2018.11.01 ~ 2020.02.03 개인정보처리방침</p>\\n\\t\\t\\t\\t\\t<p class=\"type1\">2020.02.03 ~ 2020.02.27 개인정보처리방침</p>\\n\\t\\t\\t\\t\\t<p class=\"type1\">2020.02.27 ~ 2020.05.19 개인정보처리방침</p>\\n\\t\\t\\t\\t\\t<p class=\"type1\">2020.05.19 ~ 2020.08.26 개인정보처리방침</p>\\n\\t\\t\\t\\t\\t<p class=\"type1\">2020.08.26 ~ 2021.01.25 개인정보처리방침</p>\\n\\t\\t\\t\\t\\t<p class=\"type1\">2021.01.25 ~ 2021.05.02 개인정보처리방침</p>\\n\\t\\t\\t\\t\\t<p class=\"type1\">2021.05.02 ~ 2021.05.26. 개인정보처리방침</p>\\n\\t\\t\\t\\t\\t<p class=\"type1\">2021.05.26 ~ 2021.09.23. 개인정보처리방침</p>\\n\\t\\t\\t\\t</div>\\n\\t\\t\\t</div>\\n\\t\\t\\t<div class=\"btn_center\">\\n\\t\\t\\t\\t<a href=\"javascript:logout();\" class=\"btn_cancel\">취소</a>\\n\\t\\t\\t\\t<a href=\"javascript:privacyagreechk();\" class=\"btn_ok\">확인</a>\\n\\t\\t\\t</div>\\n\\t\\t</div>\\n\\t</div>\\n</div>\\n<div id=\"reportPop\" class=\"wrap_layerpop\">\\n\\t<div class=\"layerpop\">\\n\\t\\t<div class=\"tit\">\\n\\t\\t\\t<h2>신고</h2>\\n\\t\\t\\t<button type=\"button\" class=\"btn_close3\" onclick=\"layerPopup.layerHide(\\'reportPop\\');\">닫기</button>\\n\\t\\t</div>\\n\\t\\t<div class=\"box_cont\">\\n\\t\\t\\t<div class=\"report_cont\">\\n\\t\\t\\t\\t<ul>\\n\\t\\t\\t\\t\\t<li><input type=\"radio\" id=\"reportForm1\" name=\"reportForm\" value=\"욕설 또는 타인 비방\"><label for=\"reportForm1\">욕설 또는 타인 비방</label></li>\\n\\t\\t\\t\\t\\t<li><input type=\"radio\" id=\"reportForm2\" name=\"reportForm\" value=\"도용 또는 저작권 위배\"><label for=\"reportForm2\">스팸, 도용 또는 저작권 위배</label></li>\\n\\t\\t\\t\\t\\t<li><input type=\"radio\" id=\"reportForm3\" name=\"reportForm\" value=\"포르노 또는 음란물\"><label for=\"reportForm3\">포르노 또는 음란물</label></li>\\n\\t\\t\\t\\t\\t<li><input type=\"radio\" id=\"reportForm4\" name=\"reportForm\" value=\"아동 학대\"><label for=\"reportForm4\">아동 학대</label></li>\\n\\t\\t\\t\\t\\t<li><input type=\"radio\" id=\"reportForm5\" name=\"reportForm\" value=\"희롱, 괴롭힘 또는 노골적인 폭력\"><label for=\"reportForm5\">희롱, 괴롭힘 또는 노골적인 폭력</label></li>\\n\\t\\t\\t\\t\\t<li>\\n\\t\\t\\t\\t\\t\\t<input type=\"radio\" id=\"reportForm6\" name=\"reportForm\" value=\"기타\"><label for=\"reportForm6\">기타</label>\\n\\t\\t\\t\\t\\t\\t<span><input type=\"text\" name=\"\" title=\"기타 입력\" id=\"commentreportetc\" disabled=\"true\"></span>\\n\\t\\t\\t\\t\\t</li>\\n\\t\\t\\t\\t</ul>\\n\\t\\t\\t</div>\\n\\t\\t\\t<div class=\"btn_center\">\\n\\t\\t\\t\\t<a href=\"javascript:layerPopup.layerHide(\\'reportPop\\');\" class=\"btn01\">취소</a>\\n\\t\\t\\t\\t<a href=\"javascript:ReportCommentImage();\" class=\"btn02\">신고</a>\\n\\t\\t\\t</div>\\n\\t\\t</div>\\n\\t</div>\\n</div>\\n<!-- 댓글평가 팝업 -->\\n<div id=\"commentPop\" class=\"wrap_layerpop\">\\n\\t<div class=\"layerpop\">\\n\\t\\t<div class=\"tit\">\\n\\t\\t\\t<h2><span></span> 평가</h2>\\n\\t\\t\\t<button type=\"button\" class=\"btn_close3\" onclick=\"layerPopup.layerHide(\\'commentPop\\');\">닫기</button>\\n\\t\\t</div>\\n\\t\\t<div class=\"box_cont\">\\n\\t\\t\\t<div class=\"comment_estimate\">\\n\\t\\t\\t\\t<div class=\"estimate_txt\">\\n\\t\\t\\t\\t</div>\\n\\t\\t\\t\\t<ul>\\n\\t\\t\\t\\t\\t<li>\\n\\t\\t\\t\\t\\t\\t<input type=\"radio\" id=\"estimateForm1\" name=\"estimateForm\">\\n\\t\\t\\t\\t\\t\\t<label for=\"estimateForm1\" class=\"icon1\">좋아요!</label>\\n\\t\\t\\t\\t\\t</li>\\n\\t\\t\\t\\t\\t<li>\\n\\t\\t\\t\\t\\t\\t<input type=\"radio\" id=\"estimateForm2\" name=\"estimateForm\">\\n\\t\\t\\t\\t\\t\\t<label for=\"estimateForm2\" class=\"icon2\">그저 그래요</label>\\n\\t\\t\\t\\t\\t</li>\\n\\t\\t\\t\\t</ul>\\n\\t\\t\\t</div>\\n\\t\\t\\t<div class=\"btn_center\">\\n\\t\\t\\t\\t<a href=\"javascript:contentPaCheck();\">확인</a>\\n\\t\\t\\t</div>\\n\\t\\t</div>\\n\\t</div>\\n</div>\\n<!-- //댓글평가 팝업 -->\\n<!-- // 메인 개인정보 수집 및 이용동의 팝업 -->\\n<!-- 로딩 -->\\n<style>\\n\\t.loading.defaultloading{position:fixed;left:50%;top:50%;width:80px;height:80px;margin:-40px 0 0 -40px;}\\n\\t.loading.defaultloading:after{content:\\'\\';position:fixed;left:0;top:0;z-index:-1;width:100%;height:100%;background:rgba(0,0,0, 0.7)}\\n</style>\\n\\n<div class=\"loading defaultloading\" style=\"z-index: 100000; display: none;\">\\n\\t<!--?xml version=\"1.0\" standalone=\"no\"?-->\\n\\t<!-- Generator: SVG Circus (http://svgcircus.com) -->\\n\\t<!--\\n\\tstroke-width 겹침 정도\\n\\t -->\\n\\t\\n\\t<!--?xml version=\"1.0\" standalone=\"no\"?-->\\n\\t<!-- Generator: SVG Circus (http://svgcircus.com) -->\\n\\t\\n\\t<svg id=\"SVG-Circus-1f89b6bf-a102-15b5-7285-a87df821a9eb\" version=\"1.1\" xmlns=\"http://www.w3.org/2000/svg\" xmlns:xlink=\"http://www.w3.org/1999/xlink\" viewBox=\"0 0 100 100\" preserveAspectRatio=\"xMidYMid meet\"><circle id=\"actor_4\" cx=\"50\" cy=\"75\" r=\"10\" opacity=\"1\" fill=\"rgba(174,168,165,1)\" fill-opacity=\"1\" stroke=\"rgba(166,3,17,1)\" stroke-width=\"0\" stroke-opacity=\"1\" stroke-dasharray=\"\" transform=\"matrix(1,0,0,1,-23.132229280132258,-15.518440606556752)\"></circle><circle id=\"actor_3\" cx=\"50\" cy=\"75\" r=\"10\" opacity=\"1\" fill=\"rgba(220,68,5,1)\" fill-opacity=\"1\" stroke=\"rgba(166,3,17,1)\" stroke-width=\"0\" stroke-opacity=\"1\" stroke-dasharray=\"\" transform=\"matrix(1,0,0,1,2.0780320926694884,-49.913485958850394)\"></circle><circle id=\"actor_2\" cx=\"50\" cy=\"75\" r=\"10\" opacity=\"1\" fill=\"rgba(123,175,212,1)\" fill-opacity=\"1\" stroke=\"rgba(166,3,17,1)\" stroke-width=\"0\" stroke-opacity=\"1\" stroke-dasharray=\"\" transform=\"matrix(1,0,0,1,22.06384948712258,-13.244722640039472)\"></circle><circle id=\"actor_1\" cx=\"50\" cy=\"75\" r=\"10\" opacity=\"1\" fill=\"rgba(137,168,79,1)\" fill-opacity=\"1\" stroke=\"rgba(166,3,17,1)\" stroke-width=\"0\" stroke-opacity=\"1\" stroke-dasharray=\"\" transform=\"matrix(1,0,0,1,2.731213926258854,-0.14963842337481026)\"></circle>\\n\\t\\t<script type=\"text/ecmascript\">\\n\\t\\t\\t(function(){var actors={};actors.actor_1={node:document.getElementById(\"SVG-Circus-1f89b6bf-a102-15b5-7285-a87df821a9eb\").getElementById(\"actor_1\"),type:\"circle\",cx:50,cy:75,dx:20,dy:20,opacity:1};actors.actor_2={node:document.getElementById(\"SVG-Circus-1f89b6bf-a102-15b5-7285-a87df821a9eb\").getElementById(\"actor_2\"),type:\"circle\",cx:50,cy:75,dx:20,dy:20,opacity:1};actors.actor_3={node:document.getElementById(\"SVG-Circus-1f89b6bf-a102-15b5-7285-a87df821a9eb\").getElementById(\"actor_3\"),type:\"circle\",cx:50,cy:75,dx:20,dy:20,opacity:1};actors.actor_4={node:document.getElementById(\"SVG-Circus-1f89b6bf-a102-15b5-7285-a87df821a9eb\").getElementById(\"actor_4\"),type:\"circle\",cx:50,cy:75,dx:20,dy:20,opacity:1};var tricks={};tricks.trick_1=(function(_,t){t=(function(n){return.5&gt;n?2*n*n:-1+(4-2*n)*n})(t)%1,t=t*1%1,t=0&gt;t?1+t:t;var a=(_.node,-25*Math.cos(-90*Math.PI/180)),i=25*Math.sin(-90*Math.PI/180);a+=25*Math.cos((-90-360*t*1)*Math.PI/180),i-=25*Math.sin((-90-360*t*1)*Math.PI/180),_._tMatrix[4]+=a,_._tMatrix[5]+=i});var scenarios={};scenarios.scenario_1={actors: [\"actor_1\",\"actor_2\",\"actor_3\",\"actor_4\"],tricks: [{trick: \"trick_1\",start:0.00,end:1}],startAfter:0,duration:1500,actorDelay:300,repeat:0,repeatDelay:1000};var _reqAnimFrame=window.requestAnimationFrame||window.mozRequestAnimationFrame||window.webkitRequestAnimationFrame||window.oRequestAnimationFrame,fnTick=function(t){var r,a,i,e,n,o,s,c,m,f,d,k,w;for(c in actors)actors[c]._tMatrix=[1,0,0,1,0,0];for(s in scenarios)for(o=scenarios[s],m=t-o.startAfter,r=0,a=o.actors.length;a&gt;r;r++){if(i=actors[o.actors[r]],i&amp;&amp;i.node&amp;&amp;i._tMatrix)for(f=0,m&gt;=0&amp;&amp;(d=o.duration+o.repeatDelay,o.repeat&gt;0&amp;&amp;m&gt;d*o.repeat&amp;&amp;(f=1),f+=m%d/o.duration),e=0,n=o.tricks.length;n&gt;e;e++)k=o.tricks[e],w=(f-k.start)*(1/(k.end-k.start)),tricks[k.trick]&amp;&amp;tricks[k.trick](i,Math.max(0,Math.min(1,w)));m-=o.actorDelay}for(c in actors)i=actors[c],i&amp;&amp;i.node&amp;&amp;i._tMatrix&amp;&amp;i.node.setAttribute(\"transform\",\"matrix(\"+i._tMatrix.join()+\")\");_reqAnimFrame(fnTick)};_reqAnimFrame(fnTick);})()\\n\\t\\t</script>\\n\\t</svg>\\n</div>\\n<!-- //로딩 -->\\n\\n<div id=\"invisible_div\" style=\"display:none;\"></div>\\n\\n<input type=\"hidden\" id=\"shuturl\" name=\"shuturl\">\\n\\n<script src=\"//cdn.jsdelivr.net/npm/clipboard@1/dist/clipboard.min.js\"></script>\\n\\n<script type=\"text/javascript\">\\n// \\tgnbMain();\\n// \\tgnb();\\n\\tclickView();\\n\\t//inputFile();\\n\\ttabview();\\n\\timgBtnDb(); //이미지 슬라이드 비활성화 //0619 추가\\n\\tbFreeTab.init(); // tab 기능 2 // 0625 추가\\n\\tbFreeAcc(); // 아코디언 // 0625 추가\\n\\t//swiperNotice(); // 푸터 공지사항 슬라이더 // 0801 추\\n\\tlayerPopup.init(); /// 레이어팝업 // 0807 추가\\n\\tbtnMore.init(); // 더보기 버튼 // 0808 수정\\n\\twrapVisual();\\n\\t//detailHeight();\\n\\t//mainTagMore(); // 메인페이지 태그 리스트 더보기 // 0830 추가\\n\\t//mainAreaMore(); // 메인페이지 지역 리스트 더보기 // 0830 추가\\n\\t//subMainTagMore(); // 서브메인페이지 상단 태그 리스트 // 0830 추가\\n\\tareaLic(); // 1002 추가\\n\\ttagMultiChoice.init();\\n\\t//$(window).resize(function(){\\n\\t//\\tmainAreaMore();\\n\\t//});\\n\\ttopBtnScroll(); // 1119 추가\\n\\tchoiceTxt(); //20210105 추가\\n\\tsetTimeout(function () {\\n\\t\\tblindTextAdd.init(); // 1119 추가\\n\\t}, 500) ;\\n\\n\\n\\n\\n\\tvar shuturl = \\'\\';\\n\\tvar oriUrl = \\'\\';\\n\\tvar w = null;\\n\\tvar eventYn = \\'N\\';\\n\\n\\t$().ready(function() {\\n\\t\\t// 파트너스 페이지\\n\\t\\tif(location.pathname.indexOf(\"/partners/\") > -1 ) $(\\'.partnersFot\\').show();\\n\\n\\t\\tvar Fswiper = new Swiper(\".footer-swiper.swiper-container\", {\\n\\t\\t\\tloop: true,\\n\\t\\t\\tpagination: {\\n\\t\\t\\t\\tel: \".swiper-pagination\",\\n\\t\\t\\t\\trenderBullet: function (index, className) {\\n\\t\\t\\t\\t\\treturn \\'<button type=\"button\" class=\"\\' + className + \\'\"><span class=\"blind\">\\' + (index + 1) + \\'번째 슬라이드 보기</span></button>\\';\\n\\t\\t\\t\\t}\\n\\t\\t\\t},\\n\\t\\t});\\n\\t});\\n\\n\\tfunction openShare() {\\n\\n\\t\\tif (typeof FB == \\'undefined\\'){\\n\\t\\t\\t//<![CDATA[\\n\\t\\t\\twindow.fbAsyncInit = function() {\\n\\t\\t\\t\\tFB.init({\\n\\t\\t\\t\\t\\tappId\\t  : facebookappid,\\n\\t\\t\\t\\t\\txfbml\\t  : true,\\n\\t\\t\\t\\t\\tversion\\t: \\'v3.0\\'\\n\\t\\t\\t\\t});\\n\\t\\t\\t};\\n\\t\\t\\t(function(d, s, id) {\\n\\t\\t\\t\\tvar js, fjs = d.getElementsByTagName(s)[0];\\n\\t\\t\\t\\tif (d.getElementById(id)) return;\\n\\t\\t\\t\\tjs = d.createElement(s); js.id = id;\\n\\t\\t\\t\\tjs.src = \\'https://connect.facebook.net/ko_KR/sdk.js\\';\\n\\t\\t\\t\\tfjs.parentNode.insertBefore(js, fjs);\\n\\t\\t\\t}(document, \\'script\\', \\'facebook-jssdk\\'));\\n\\t\\t\\t//]]>\\n\\t\\t}\\n\\t\\tlet title = $(document).attr(\"title\");\\n\\t\\ttitle = title.replace(\\'>\\',\\'rpgt\\').replace(\\'|\\',\\'rpvevr\\');\\n\\t\\tgetShuturl( mainurl+\\'/sns/snsShare.jsp?cotid=\\'+sContentId+\\'&contenttype=\\'+sContentType+\\'&title=\\'+title.replace(/%/g,\\'%25\\')+\\'&img=\\'+sContentImg );\\n\\t}\\n\\n\\tvar userCourseYn = \\'N\\';\\n\\tfunction openShare2() {\\n\\n\\t\\tuserCourseYn = \\'Y\\';\\n\\t\\tgetShuturl( mainurl+\\'/detail/cs_detail_user.do?crsid=\\'+sContentId );\\n\\t}\\n\\n\\tfunction goShare(kind) {\\n\\t\\tif( kind == \\'facebook\\' ) {\\n\\t\\t\\tfacebook();\\n\\t\\t}else if( kind == \\'twitter\\') {\\n\\t\\t\\ttwitter();\\n\\t\\t}else if( kind == \\'kakaostory\\') {\\n\\t\\t\\tkakaostory();\\n\\t\\t}else if( kind == \\'kakaotalk\\') {\\n\\t\\t\\tif(getDevice() == \\'iOS\\'){\\n\\t\\t\\t\\tif(getBrowser() == \\'Opera\\' || getBrowser() == \\'OperaTouch\\' )\\n\\t\\t\\t\\t\\talert(\"카카오톡으로 공유하시려면 다른 브라우저를 사용해주세요.\");\\n\\t\\t\\t\\telse if(window.location.href.indexOf(\\'wallpaper\\') != -1)\\n\\t\\t\\t\\t\\tWkakaotalk();\\n\\t\\t\\t\\telse if(typeof Tkakaotalk == \\'function\\')\\n\\t\\t\\t\\t\\tTkakaotalk();\\n\\t\\t\\t\\telse\\n\\t\\t\\t\\t\\tkakaotalk();\\n\\t\\t\\t} else if(window.location.href.indexOf(\\'wallpaper\\') != -1)\\n\\t\\t\\t\\tWkakaotalk();\\n\\t\\t\\telse if(typeof Tkakaotalkm == \\'function\\')\\n\\t\\t\\t\\tTkakaotalk();\\n\\t\\t\\telse\\n\\t\\t\\t\\tkakaotalk();\\n\\t\\t}else if( kind == \\'kakaotalkm\\') {\\n\\t\\t\\tif(getDevice() == \\'iOS\\'){\\n\\t\\t\\t\\tif(getBrowser() == \\'Opera\\' || getBrowser() == \\'OperaTouch\\' )\\n\\t\\t\\t\\t\\talert(\"카카오톡으로 공유하시려면 다른 브라우저를 사용해주세요.\");\\n\\t\\t\\t\\telse if(window.location.href.indexOf(\\'wallpaper\\') != -1)\\n\\t\\t\\t\\t\\tWkakaotalkm();\\n\\t\\t\\t\\telse if(typeof Tkakaotalkm == \\'function\\')\\n\\t\\t\\t\\t\\tTkakaotalkm();\\n\\t\\t\\t\\telse\\n\\t\\t\\t\\t\\tkakaotalkm();\\n\\t\\t\\t} else if(window.location.href.indexOf(\\'wallpaper\\') != -1)\\n\\t\\t\\t\\tWkakaotalkm();\\n\\t\\t\\telse if(typeof Tkakaotalkm == \\'function\\')\\n\\t\\t\\t\\tTkakaotalkm();\\n\\t\\t\\telse\\n\\t\\t\\t\\tkakaotalkm();\\n\\t\\t}else if( kind == \\'band\\') {\\n\\t\\t\\tband();\\n\\t\\t}else if(kind == \\'naverblog\\'){\\n\\t\\t\\tnaverblog();\\n\\t\\t}\\n\\t\\tif( userCourseYn == \\'N\\' ) {\\n\\t\\t\\tshareHistory(kind, sContentId);\\n\\t\\t} else {\\n\\t\\t\\tshareHistoryUser(kind, sContentId);\\n\\t\\t}\\n\\t}\\n\\n\\tfunction band() {\\n\\n\\t\\tvar url   = shuturl;\\t//\\'/sns/snsShare.jsp?cotid=\\'+sContentId+\\'&contenttype=\\'+sContentType+\\'&img=\\'+sContentImg+\\'&title=\\'+sContentTitle;\\n\\t\\tvar title = $(document).attr(\"title\");\\n\\n\\t\\tvar _url   = encodeURIComponent(url);\\n\\t\\tvar _title = encodeURIComponent(title);\\n\\t\\tvar _br\\t= encodeURIComponent(\\'\\\\r\\\\n\\');\\n\\n\\t\\tvar gw_schemeUrl = \\'create/post\\';\\n\\t\\tvar ga_schemeUrl = \\'bandapp://create/post\\';\\n\\t\\tvar schemeUrl2 = \\'bandapp://create/post\\';\\n\\t\\tvar param = \\'?text=\\' + _title + _br + _url;\\n\\t\\tvar param2 = \\'?text=\\' + _title + _br + _url + \\'&route=\\' + mainurl;\\n\\t\\tvar a_store = \\'itms-apps://itunes.apple.com/app/id542613198\\';\\n\\t\\tvar g_store = \\'market://details?id=com.nhn.android.band\\';\\n\\t\\tvar a_proto = \\'bandapp://\\';\\n\\t\\tvar g_proto = \\'scheme=bandapp;package=com.nhn.android.band\\';\\n\\t\\tvar ga_proto = \\'package=com.nhn.android.band\\';\\n\\n\\t\\tvar url2 = \\'\\';\\n\\n\\t\\tif (navigator.userAgent.match(/android/i) ) \\t{\\n\\t\\t\\tvar chkband = false;\\n\\n\\t\\t\\tif( appYn == \"Y\" ) {\\n\\t\\t\\t\\tvar invisible_div = document.getElementById(\"invisible_div\");\\n\\t\\t\\t\\tinvisible_div.innerHTML = \"<iframe src=\" + ga_schemeUrl  + param + \" onload=\\'goMarket();\\'></iframe>\";\\n\\t\\t\\t}\\n\\n\\t\\t\\tif( appYn == \"Y\" ) {\\n\\t\\t\\t\\turl2 = \"intent:\" + ga_schemeUrl + param + \"#Intent;\" + g_proto + \";end;\";\\n\\t\\t\\t} else {\\n\\t\\t\\t\\turl2 = \"intent://\" + gw_schemeUrl + param+  \"#Intent;\" + g_proto + \";end;\";\\n\\t\\t\\t}\\n\\n\\t\\t\\tif( appYn == \"N\") {\\n\\t\\t\\t\\tvar startTime = new Date();\\n\\t\\t\\t  \\tsetTimeout(function () {\\n\\t\\t\\t  \\t\\tvar endTime = new Date();\\n\\t\\t\\t\\t\\tif(endTime - startTime < 4000) {\\n\\t\\t\\t\\t\\t\\twindow.location.href = g_store;\\n\\t\\t\\t\\t\\t}\\n\\t\\t\\t  \\t}, 2000) ;\\n\\t\\t\\t}\\n\\n\\t\\t\\tsetTimeout(function(){ window.location.href = url2; }, 100);\\n\\n\\t\\t} else if (navigator.userAgent.match(/(iphone)|(ipod)|(ipad)/i) || navigator.userAgent.match(/ios/i)) {\\n\\n\\t\\t\\turl2 = schemeUrl2+param2;\\n\\n\\t\\t\\tvar startTime = new Date();\\n\\t\\t  \\tsetTimeout(function () {\\n\\t\\t  \\t\\tvar endTime = new Date();\\n\\t\\t\\t\\tif(endTime - startTime < 4000) {\\n\\t\\t\\t\\t\\twindow.location.href = a_store;\\n\\n\\t\\t\\t\\t}\\n\\t\\t  \\t}, 2000) ;\\n\\n\\t\\t\\t//setTimeout(function(){ location.href = a_store; }, 500);\\n\\t\\t\\tif(getBrowser() == \\'Opera\\' || getBrowser() == \\'OperaTouch\\'){\\n\\t\\t\\t\\tsetTimeout(function(){ location.href = \\'http://band.us/plugin/share?body=\\' + _title + _br + _url + \\'&route=\\' + _url; }, 300);\\n\\t\\t\\t} else{\\n\\t\\t\\t\\tsetTimeout(function(){ location.href = url2; }, 300);\\n\\t\\t\\t}\\n\\t\\t} else {\\n\\t\\t\\tvar url = \\'http://band.us/plugin/share?body=\\' + _title + _br + _url + \\'&route=\\' + _url;\\n//\\t\\t\\twindow.open(url, \"share_band\", \"width=600, height=700, resizable=no\");\\n\\t\\t\\twindow.open(url, \"share_band\", \"width=600, height=700, resizable=no\");\\n\\t\\t}\\n\\t}\\n\\n\\tfunction goMarket() {\\n\\t\\twindow.location.href = \\'market://details?id=com.nhn.android.band\\';\\n\\t\\treturn true;\\n\\t}\\n\\n\\tfunction kakaotalk(){\\n\\n\\t\\tconsole.log(\"sContentImg......\");\\n\\t\\tconsole.log(sContentImg);\\n\\n\\t\\tvar kakaoshareimage = mainimgurl+sContentImg;\\n\\t\\tif(sContentImg.indexOf(\\'visitkorea\\') != -1)\\n\\t\\t\\tkakaoshareimage = sContentImg;\\n\\n\\t\\tvar kakaosharedesc =  \\'\\';\\n\\t\\tif((ShareDesc1 + ShareDesc2) != \\'\\')\\n\\t\\t\\tkakaosharedesc = ShareDesc1 +\\'\\\\n\\'+ ShareDesc2;\\n\\n\\n\\t\\t //<![CDATA[\\n\\t\\tKakao.Link.createDefaultButton({\\n\\t  \\t  container: \\'#kakao-link-btn\\',\\n\\t\\t  objectType: \\'feed\\',\\n\\t\\t  content: {\\n\\t\\t\\t\\ttitle: $(document).attr(\"title\"),\\n\\t\\t\\t\\tdescription: kakaosharedesc,\\n\\t\\t\\t\\timageUrl: kakaoshareimage,\\n\\t\\t\\t\\tlink: {\\n\\t\\t\\t\\t  mobileWebUrl: oriUrl,\\n\\t\\t\\t\\t  webUrl: oriUrl\\n\\t\\t\\t\\t}\\n\\t\\t  },\\n\\t\\t  buttons: [\\n\\t\\t\\t  {\\n\\t\\t\\t\\ttitle: \\'웹으로 보기\\',\\n\\t\\t\\t\\tlink: {\\n\\t\\t\\t\\t  mobileWebUrl: oriUrl,\\n\\t\\t\\t\\t  webUrl: oriUrl\\n\\t\\t\\t\\t}\\n\\t\\t\\t  }\\n\\t\\t\\t]\\n\\t\\t});\\n\\t\\t//]]>\\n\\n\\t\\t$(\\'#kakao-link-btn\\').trigger(\"click\");\\n\\t\\t\\tKakao.Link.cleanup();\\n\\t};\\n\\n\\t// 모바일\\n\\tfunction kakaotalkm(){\\n\\n\\t\\tvar kakaoshareimage = mainimgurl+sContentImg;\\n\\t\\tif(sContentImg.indexOf(\\'visitkorea\\') != -1)\\n\\t\\t\\tkakaoshareimage = sContentImg;\\n\\n\\t\\t//<![CDATA[\\n\\t\\tKakao.Link.createDefaultButton({\\n\\t  \\t  container: \\'#kakao-link-btn-m\\',\\n\\t\\t  objectType: \\'feed\\',\\n\\t\\t  content: {\\n\\t\\t\\t\\ttitle: $(document).attr(\"title\"),\\n\\t\\t\\t\\tdescription: ShareDesc1 +\\'\\\\n\\'+ ShareDesc2,\\n\\t\\t\\t\\timageUrl: kakaoshareimage,\\n\\t\\t\\t\\tlink: {\\n\\t\\t\\t\\t  mobileWebUrl: oriUrl,\\n\\t\\t\\t\\t  webUrl: oriUrl\\n\\t\\t\\t\\t}\\n\\t\\t  },\\n\\t\\t  buttons: [\\n\\t\\t\\t  {\\n\\t\\t\\t\\ttitle: \\'웹으로 보기\\',\\n\\t\\t\\t\\tlink: {\\n\\t\\t\\t\\t  mobileWebUrl: oriUrl,\\n\\t\\t\\t\\t  webUrl: oriUrl\\n\\t\\t\\t\\t}\\n\\t\\t\\t  }\\n\\t\\t\\t]\\n\\t\\t});\\n\\t\\t//]]>\\n\\n\\t\\t$(\\'#kakao-link-btn-m\\').trigger(\"click\");\\n\\t\\t\\tKakao.Link.cleanup();\\n\\t};\\n\\n\\tfunction facebook(){\\n\\n\\t\\tvar url = shuturl; //\\'/sns/snsShare.jsp?cotid=\\'+sContentId+\\'&contenttype=\\'+sContentType+\\'&img=\\'+sContentImg+\\'&title=\\'+sContentTitle;\\n\\n\\t\\tvar tit = $(document).attr(\"title\");\\n\\n\\t\\tif (eventYn == \\'Y\\' && getBrowserPopup()) {\\n\\t\\t\\tw.location.href = \\'https://www.facebook.com/sharer/sharer.php?u=\\' + encodeURIComponent(url);\\n\\t\\t} else if (device == \\'iOS\\') {\\n\\t\\t\\tif( appYn == \\'Y\\') {\\n\\t\\t\\t\\tlocation.href = \\'https://www.facebook.com/sharer/sharer.php?u=\\' + encodeURIComponent(url);\\n\\t\\t\\t} else {\\n\\t\\t\\t\\twindow.open(\\'https://www.facebook.com/sharer/sharer.php?u=\\' + encodeURIComponent(url),\\'_system\\');\\n\\t\\t\\t}\\n\\t\\t} else {\\n\\t\\t\\tFB.ui({\\n\\t\\t\\t\\tmethod: \\'feed\\',\\n\\t\\t\\t\\tlink: url,\\n\\t\\t\\t\\ttitle:tit,\\n\\t\\t\\t\\tdisplay:\\'popup\\'\\n\\t\\t\\t}, function(response){\\n\\t\\t\\t\\tif (typeof response != \\'undefined\\') {\\n\\t\\t\\t\\t}\\n\\t\\t\\t});\\n\\t\\t}\\n\\t\\t//https://www.facebook.com/dialog/feed?\\n\\t\\t//\\t  app_id=145634995501895\\n\\t\\t//\\t  &display=popup&amp;caption=An%20example%20caption\\n\\t\\t//\\t  &link=https%3A%2F%2Fdevelopers.facebook.com%2Fdocs%2F\\n\\t\\t//\\t  &redirect_uri=https://developers.facebook.com/tools/explorer\\n\\t};\\n\\n\\tfunction twitter() {\\n\\n\\t\\tvar msg = encodeURIComponent($(document).attr(\"title\"));\\n\\t\\tvar\\tlinkUrl = shuturl;\\t//\"/sns/snsShare.jsp?cotid=\"+sContentId+\"&contenttype=\"+sContentType+\"&img=\"+sContentImg+\"&title=\"+sContentTitle;\\n\\n\\t\\tvar url = encodeURIComponent(linkUrl);\\n\\t\\t//w=window.open(\"http://twitter.com/home?status=\"+msg+\" \"+url, \\'_system\\', \\'width=450,height=400\\');\\n\\n\\t\\tif (eventYn == \\'Y\\' && getBrowserPopup()) {\\n\\t\\t\\tw.location.href = \"https://twitter.com/intent/tweet?text=\"+msg+\"&url=\"+url;\\n\\t\\t} else {\\n\\t\\t\\tw=window.open(\"https://twitter.com/intent/tweet?text=\"+msg+\"&url=\"+url, \\'_system\\', \\'width=450,height=400\\');  //https://twitter.com/intent/tweet?text=TEXT&url=PAGE_URL\\n\\t\\t}\\n\\t}\\n\\n\\tfunction kakaostory(){\\n\\n\\t\\t//var\\tiframeUrl = \"/sns/snsShare.jsp?cotid=\"+sContentId+\"&contenttype=\"+sContentType+\"&img=\"+sContentImg+\"&title=\"+sContentTitle;\\n\\t\\tvar\\tlinkUrl = shuturl;\\t//mainurl+iframeUrl;\\n\\n\\t\\t//<![CDATA[\\n\\t\\t// 스토리 공유 버튼을 생성합니다.\\n\\t\\t  Kakao.Story.share({\\n\\t\\t\\turl: linkUrl,\\n\\t\\t\\ttext: $(document).attr(\"title\")\\n\\t\\t  });\\n\\t  //]]>\\n\\t};\\n\\n\\tfunction naverblog(){\\n\\t\\tvar\\tlinkUrl = shuturl;\\n\\t\\tvar url = encodeURIComponent(shuturl);\\n\\n\\t      var title = encodeURI($(document).attr(\"title\"));\\n\\t      var shareURL = \"https://share.naver.com/web/shareView.nhn?url=\" + url + \"&title=\" + title;\\n\\t      if (eventYn == \\'Y\\' && getBrowserPopup()) {\\n\\t\\t\\t\\tw.location.href = shareURL;\\n\\t\\t\\t} else {\\n\\t\\t\\t\\tw=window.open(shareURL, \\'_system\\', \\'width=450,height=400\\');\\n\\t\\t\\t}\\n\\t}\\n\\n\\tfunction getShareInfo(title, img, cotid, contenttype) {\\n\\t\\tbeforefocus = document.activeElement;\\n\\t\\tsContentTitle = decodeURIComponent(title);\\n\\t\\tsContentImg = img;\\n\\t\\tsContentId = cotid;\\n\\t\\tsContentType = contenttype;\\n\\n\\t\\topenShare();\\n\\t}\\n\\n\\tfunction getShareInfo2(title, img, cotid, contenttype) {\\n\\t\\tbeforefocus = document.activeElement;\\n\\t\\tsContentTitle = decodeURIComponent(title);\\n\\t\\tsContentImg = img;\\n\\t\\tsContentId = cotid;\\n\\t\\tsContentType = contenttype;\\n\\n\\t\\topenShare2();\\n\\t}\\n\\n\\t// 카카오링크 텍스트 템플릿\\n\\tfunction sendKakaoLinkText(sendText, btnTitle, linkUrlPc, linkUrlMo) {\\n\\t\\tKakao.Link.sendDefault({\\n\\t\\t\\tobjectType: \\'text\\',\\n\\t\\t\\ttext: sendText,\\n\\t\\t\\tbuttonTitle: btnTitle,\\n\\t\\t\\tlink: {\\n\\t\\t\\t\\tmobileWebUrl: linkUrlMo,\\n\\t\\t\\t\\twebUrl: linkUrlPc\\n\\t\\t\\t},\\n\\t\\t})\\n\\t}\\n\\n\\t// 카카오링크 피드 템플릿\\n\\tfunction sendKakaoLinkFeed(sendTitle, sendText, imgLink, btnTitle, linkUrlPc, linkUrlMo) {\\n\\t\\tKakao.Link.sendDefault({\\n\\t\\t\\tobjectType: \\'feed\\',\\n\\t\\t\\tcontent: {\\n\\t\\t\\t\\ttitle: sendTitle,\\n\\t\\t\\t\\tdescription: sendText,\\n\\t\\t\\t\\timageUrl: imgLink,\\n\\t\\t\\t\\tlink: {\\n\\t\\t\\t\\t\\tmobileWebUrl: linkUrlMo,\\n\\t\\t\\t\\t\\twebUrl: linkUrlPc\\n\\t\\t\\t\\t},\\n\\t\\t\\t},\\n\\t\\t\\tbuttons: [\\n\\t\\t\\t\\t{\\n\\t\\t\\t\\t\\ttitle: btnTitle,\\n\\t\\t\\t\\t\\tlink: {\\n\\t\\t\\t\\t\\t\\tmobileWebUrl: linkUrlMo,\\n\\t\\t\\t\\t\\t\\twebUrl: linkUrlPc\\n\\t\\t\\t\\t\\t},\\n\\t\\t\\t\\t},\\n\\t\\t\\t]\\n\\t\\t})\\n\\t}\\n\\n  \\tfunction getShuturl(rurl) {\\n\\n  \\t\\teventYn = \\'N\\';\\n  \\t\\toriUrl = rurl;\\n\\n\\t\\t$.ajax({\\n// \\t\\t\\turl: \\'https://cdn.visitkorea.or.kr/call\\',\\n\\t\\t\\turl: mainurl+\\'/call\\',\\n\\t\\t\\tdataType: \\'json\\',\\n\\t\\t\\ttype: \"POST\",\\n\\t\\t\\tdata : {\\n\\t\\t\\t\\tcmd : \\'GET_SHUTURL\\',\\n\\t\\t\\t\\tlongurl : rurl\\n\\t\\t\\t},\\n\\t \\t\\tsuccess: function(data) {\\n\\t \\t\\t\\tif (data.header.process == \\'success\\'){\\n\\t\\t \\t\\t\\tvar obj = JSON.parse(data.header.JsonString);\\n\\t\\t \\t\\t\\tshuturl = obj.result.url;\\n\\n\\t\\t\\t\\t\\t$(\\'#foo\\').val(shuturl);\\n\\t\\t\\t\\t\\tlayerPopup.layerShow(\\'popShare\\');\\n\\t \\t\\t\\t} else {\\n\\t \\t\\t\\t\\talert(\\'서비스 준비 중입니다.\\');\\n\\t \\t\\t\\t}\\n\\t\\t\\t},\\n\\t\\t\\terror: function(xhr, textStatus, errorThrown) {\\n \\t\\t\\t\\talert(\\'서비스 준비 중입니다.\\');\\n\\t\\t\\t}\\n\\t\\t});\\n\\t}\\n\\n\\tfunction getShuturlEvent(url,kind) {\\n\\n\\t\\tif ((kind == \\'twitter\\' || kind == \\'facebook\\')\\n\\t\\t\\t\\t&& getBrowserPopup()) {\\n\\n\\t\\t\\tif (w != null){\\n\\t\\t\\t\\tif (w.closed == false) {\\n\\t\\t\\t\\t\\tw.close();\\n\\t\\t\\t\\t\\tw = null;\\n\\t\\t\\t\\t} else {\\n\\t\\t\\t\\t\\tw = window.open(\"\", \\'_system\\', \\'width=450,height=400\\');\\n\\t\\t\\t\\t}\\n\\t\\t\\t}\\n\\n\\t\\t\\tif(w == null) w = window.open(\"\", \\'_system\\', \\'width=450,height=400\\');\\n\\t\\t}\\n\\n\\t\\teventYn = \\'Y\\';\\n\\n\\t\\toriUrl = url;\\n\\n\\t  \\t$.ajax({\\n// \\t\\t\\turl: \\'https://cdn.visitkorea.or.kr/call\\',\\n\\t\\t\\turl: mainurl+\\'/call\\',\\n\\t\\t\\tdataType: \\'json\\',\\n\\t\\t\\ttype: \"POST\",\\n\\t\\t\\tdata : {\\n\\t\\t\\t\\tcmd : \\'GET_SHUTURL\\',\\n\\t\\t\\t\\tlongurl : url\\n\\t\\t\\t},\\n\\t \\t\\tsuccess: function(data) {\\n\\n\\t \\t\\t\\tif (data.header.process == \\'success\\'){\\n\\t \\t\\t\\t\\tvar obj = JSON.parse(data.header.JsonString);\\n\\t\\t \\t\\t\\tshuturl = obj.result.url;\\n\\n\\t\\t\\t\\t\\t$(\\'#foo\\').val(shuturl);\\n\\t\\t\\t\\t\\tgoShare(kind);\\n\\t \\t\\t\\t} else {\\n\\t \\t\\t\\t\\talert(\\'서비스 준비 중입니다.\\');\\n\\t \\t\\t\\t}\\n\\t\\t\\t},\\n\\t\\t\\terror: function(xhr, textStatus, errorThrown) {\\n \\t\\t\\t\\talert(\\'서비스 준비 중입니다.\\');\\n\\t\\t\\t}\\n\\t\\t});\\n\\t}\\n\\n\\tfunction getShuturlTravelcast(url) {\\n\\n\\t \\tvar urls   = url;\\n\\n\\t  \\t$.ajax({\\n// \\t\\t\\turl: \\'https://cdn.visitkorea.or.kr/call\\',\\n\\t\\t\\turl: mainurl+\\'/call\\',\\n\\t\\t\\tdataType: \\'json\\',\\n\\t\\t\\ttype: \"POST\",\\n\\t\\t\\tdata : {\\n\\t\\t\\t\\tcmd : \\'GET_SHUTURL\\',\\n\\t\\t\\t\\tlongurl : urls\\n\\t\\t\\t},\\n\\t \\t\\tsuccess: function(data) {\\n\\n\\t \\t\\t\\tif (data.header.process == \\'success\\'){\\n\\t \\t\\t\\t\\tvar obj = JSON.parse(data.header.JsonString);\\n\\t\\t \\t\\t\\tshuturl = obj.result.url;\\n\\n\\t\\t\\t\\t\\t$(\\'#foo2\\').val(shuturl);\\n\\t \\t\\t\\t} else {\\n\\t \\t\\t\\t\\talert(\\'서비스 준비 중입니다.\\');\\n\\t \\t\\t\\t}\\n\\t\\t\\t},\\n\\t\\t\\terror: function(xhr, textStatus, errorThrown) {\\n \\t\\t\\t\\talert(\\'서비스 준비 중입니다.\\');\\n\\t\\t\\t}\\n\\t\\t});\\n\\t}\\n\\n\\tfunction btnClipBoard() {\\n\\n\\t\\tvar URL_link = $(\\'#foo\\').val();\\n\\n\\t\\t//$(\\'.pop_share\\').hide();\\n\\n\\t\\tfunction selectElementText(element) {\\n\\t\\t\\tif (document.selection) {\\n\\t\\t\\t\\tvar range = document.body.createTextRange();\\n\\t\\t\\t\\trange.moveToElementText(element);\\n\\t\\t\\t\\trange.select();\\n\\t\\t\\t\\tdocument.execCommand(\\'copy\\');\\n\\n\\t\\t\\t\\talert(\"주소가 복사 되었습니다.\");\\n\\n\\t\\t\\t} else if(window.getSelection){\\n\\t\\t\\t\\tvar brw = getBrowser();\\n\\t\\t\\t\\tif( brw == \"Chrome\") {\\n\\t\\t\\t\\t\\tvar copyText = document.getElementById(\"foo\");\\n\\t\\t\\t\\t\\tcopyText.select();\\n\\t\\t\\t\\t\\tdocument.execCommand(\\'copy\\');\\n\\n\\t\\t\\t\\t\\talert(\"주소가 복사 되었습니다.\");\\n\\t\\t\\t\\t} else {\\n\\t\\t\\t\\t\\tvar range = document.createRange();\\n\\t\\t\\t\\t\\trange.selectNode(element);\\n\\t\\t\\t\\t\\twindow.getSelection().removeAllRanges();\\n\\t\\t\\t\\t\\twindow.getSelection().addRange(range);\\n\\t\\t\\t\\t\\tdocument.execCommand(\\'copy\\');\\n\\n\\t\\t\\t\\t\\talert(\"주소가 복사 되었습니다.\");\\n\\t\\t\\t\\t}\\n\\t\\t\\t}\\n\\t\\t}\\n\\n\\t\\tvar element = document.createElement(\\'DIV\\');\\n\\t\\telement.textContent = URL_link;\\n\\t\\tdocument.body.appendChild(element);\\n\\t\\tselectElementText(element);\\n\\t\\telement.remove();\\n\\t}\\n\\n\\tfunction btnClipBoard2() {\\n\\n\\t\\tvar URL_link = $(\\'#foo2\\').val();\\n\\n\\t\\t//$(\\'.pop_share\\').hide();\\n\\n\\t\\tfunction selectElementText(element) {\\n\\t\\t\\tif (document.selection) {\\n\\t\\t\\t\\tvar range = document.body.createTextRange();\\n\\t\\t\\t\\trange.moveToElementText(element);\\n\\t\\t\\t\\trange.select();\\n\\t\\t\\t\\tdocument.execCommand(\\'copy\\');\\n\\n\\t\\t\\t\\talert(\"주소가 복사 되었습니다.\");\\n\\n\\t\\t\\t} else if(window.getSelection){\\n\\t\\t\\t\\tvar brw = getBrowser();\\n\\t\\t\\t\\tif( brw == \"Chrome\") {\\n\\t\\t\\t\\t\\tvar copyText = document.getElementById(\"foo2\");\\n\\t\\t\\t\\t\\tcopyText.select();\\n\\t\\t\\t\\t\\tdocument.execCommand(\\'copy\\');\\n\\n\\t\\t\\t\\t\\talert(\"주소가 복사 되었습니다.\");\\n\\t\\t\\t\\t} else {\\n\\t\\t\\t\\t\\tvar range = document.createRange();\\n\\t\\t\\t\\t\\trange.selectNode(element);\\n\\t\\t\\t\\t\\twindow.getSelection().removeAllRanges();\\n\\t\\t\\t\\t\\twindow.getSelection().addRange(range);\\n\\t\\t\\t\\t\\tdocument.execCommand(\\'copy\\');\\n\\n\\t\\t\\t\\t\\talert(\"주소가 복사 되었습니다.\");\\n\\t\\t\\t\\t}\\n\\n\\t\\t\\t}\\n\\t\\t}\\n\\n\\t\\tvar element = document.createElement(\\'DIV\\');\\n\\t\\telement.textContent = URL_link;\\n\\t\\tdocument.body.appendChild(element);\\n\\t\\tselectElementText(element);\\n\\t\\telement.remove();\\n\\t}\\n\\n\\tgetMainEventList();\\n\\n\\tfunction getMainEventList() {\\n\\n\\t\\t$.ajax({\\n\\t\\t\\turl: mainurl+\\'/call\\',\\n\\t\\t\\tdataType: \\'json\\',\\n\\t\\t\\ttype: \"POST\",\\n\\t\\t\\tdata: {\\n\\t\\t\\t\\tcmd : \\'MAIN_SHOW_EVENT_LIST_VIEW\\'\\n\\t\\t\\t},\\n\\t\\t\\tsuccess: function(data) {\\n\\t\\t\\t\\tgoMainEventListView(data);\\n\\t\\t\\t},\\n\\t\\t\\tcomplete: function() {\\n\\t\\t\\t},\\n\\t\\t\\terror: function(xhr, textStatus, errorThrown) {\\n\\t\\t\\t}\\n\\t\\t});\\n\\t}\\n\\n\\tfunction goMainEventListView(data) {\\n\\n\\t\\tvar strHtml = \"\";\\n\\n\\t\\tif( data.body.result != undefined ) {\\n\\t\\t\\t$.each(data.body.result, function (index, items) {\\n\\t\\t\\t\\tvar newsTitle = items.title;\\n\\t\\t\\t\\tvar str = \"<br>\";\\n \\t\\t\\t\\t//if(newsTitle.includes(str) == true){\\n \\t\\t\\t\\t//\\tnewsTitle = newsTitle.substring(0,newsTitle.indexOf(\"<br>\", 0));\\n\\t\\t\\t\\t//}\\n\\t\\t\\t\\tstrHtml += \\'<li class=\"swiper-slide\">\\';\\n\\t\\t\\t\\t//strHtml += \\'\\t<a href=\"javascript:\" onclick=\\\\\\'goEvent(\"\\'+items.nwsId+\\'\");\\\\\\'>[소식]\\'+eventTitle+\\'</a>\\';\\n\\t\\t\\t\\tstrHtml += \\'\\t<a href=\"javascript:\" onclick=\\\\\\'goNews(\"\\'+items.nwsId+\\'\");\\\\\\'>[소식]\\'+newsTitle+\\'</a>\\';\\n\\t\\t\\t\\tstrHtml += \\'</li>\\';\\n\\t\\t\\t});\\n\\n\\t\\t\\t$(\\'#mainnewslist\\').html(strHtml);\\n\\n\\t\\t\\tswiperNotice();\\n\\t\\t}\\n\\t}\\n\\n\\tfunction goNews(nwsId) {\\n\\n\\t\\t//메인 소식영역 클릭저장\\n\\t\\tgoMainLogSave( \\'1c65b5d9-9aa7-11e8-8165-020027310001\\' );\\n\\n\\t\\tlocation.href = \\'/notice/news_detail.do?nwsid=\\'+nwsId;\\n\\t}\\n\\n\\tfunction goEvent(cotid) {\\n\\n\\t\\thttps://korean.visitkorea.or.kr/notice/news_list.do\\n\\t\\t//메인 이벤트영역 클릭저장\\n\\t\\tgoMainLogSave( \\'1c65b5d9-9aa7-11e8-8165-020027310001\\' );\\n\\n\\n\\t\\tif( cotid == \\'1\\') {\\n\\t\\t\\tlocation.href = \\'/list/event_list.do?choiceTag=진행중이벤트&choiceTagId=\\';\\n\\t\\t} else if(cotid == \\'2\\'){\\n\\t\\t\\tlocation.href = \\'/notice/news_list.do\\';\\n\\t\\t} else {\\n\\t\\t\\tlocation.href = \\'/detail/event_detail.do?cotid=\\'+cotid;\\n\\t\\t}\\n\\t}\\n\\n\\tfunction goQA() {\\n\\t\\tif( loginYn == \\'Y\\' ) {\\n\\t\\t\\tlocation.href = \\'/mypage/mypage_list_qna.do\\'\\n\\t\\t} else {\\n\\t\\t\\tshowLogin(2);\\n\\t\\t}\\n\\t}\\n\\n\\t$(document).on(\"click\",\".footer_data .btm_menu li a\",function(){\\n\\t\\t//푸터 영역 클릭저장\\n\\t\\tgoMainLogSave( \\'25ea9bf1-9aa7-11e8-8165-020027310001\\' );\\n\\t});\\n\\n\\t$(document).on(\"click\",\".footer_sns_list ul li a\",function(){\\n\\t\\t//푸터 영역 클릭저장\\n\\t\\tgoMainLogSave( \\'25ea9bf1-9aa7-11e8-8165-020027310001\\' );\\n\\t});\\n\\n\\t$(document).on(\"click\",\".footer_pcLogo .logo_list li a\",function(){\\n\\t\\t//푸터 영역 클릭저장\\n\\t\\tgoMainLogSave( \\'25ea9bf1-9aa7-11e8-8165-020027310001\\' );\\n\\t});\\n\\n\\t$(document).on(\"click\",\".footer_mLogo ul li a\",function(){\\n\\t\\t//푸터 영역 클릭저장\\n\\t\\tgoMainLogSave( \\'25ea9bf1-9aa7-11e8-8165-020027310001\\' );\\n\\t});\\n\\n\\tfunction goTerm(kind) {\\n\\t\\tif( kind == 1 ) {\\n\\t\\t\\tlocation.href = mainurl+\\'/term/term03.do\\';\\n\\t\\t} else if( kind == 2 ) {\\n\\t\\t\\tlocation.href = mainurl+\\'/term/term02.do\\';\\n\\t\\t} else {\\n\\t\\t\\tlocation.href = mainurl+\\'/term/term01.do\\';\\n\\t\\t}\\n\\t}\\n\\n\\t//partners 클릭시\\n\\tfunction goPartners() {\\n\\t\\t//메인 관광가이드북 클릭수 저장\\n\\t\\tgoMainLogSave(\\'450ff5e6-d0ff-4fd8-9971-e07800906de5\\');\\n  \\t\\tlocation.href = \\'/partners/partners_main.do\\';\\n\\t}\\n\\n\\t//일반회원인지 파트너스 회원인지\\n\\tfunction goJikimiCheck(kind) {\\n\\n\\t\\tif( kind == 2 ) {\\n\\t\\t\\tif( loginYn == \\'N\\') {\\n\\t  \\t\\t\\tvar goTo = \\'\\';\\n\\t  \\t\\t\\tif (userImgYn == \\'Y\\'){\\n\\t\\t\\t\\t\\tgoTo = window.location.href;\\n\\t  \\t\\t\\t} else {\\n\\t\\t\\t\\t\\tif( jikimCheckKind == 0 ) {\\n\\t\\t\\t\\t\\t\\tgoTo = \\'/partners/partners_zikimi_new_reg.do\\';\\n\\t\\t  \\t\\t\\t} else { //수정버튼 클릭시\\n\\t\\t  \\t\\t\\t\\tgoTo = \\'/partners/partners_zikimi_reg.do?cotid=\\'+sContentId;\\n\\t\\t  \\t\\t\\t}\\n\\t  \\t\\t\\t}\\n\\t\\t\\t\\tgoTo = encodeURIComponent(goTo);\\n\\t\\t\\t\\tlocation.href = \\'/partners/partners_login.do?goTo=\\' + goTo;\\n\\t\\t\\t\\treturn;\\n\\t\\t\\t} else {\\n\\t\\t\\t\\tif( sloginType != \\'10\\' ) {\\n\\t\\t\\t\\t\\tlayerPopup.layerHide(\\'popMemberLogin\\');\\n\\t\\t\\t\\t\\tlayerPopup.layerShow(\\'loginConfirm\\');\\n\\t\\t\\t\\t\\treturn;\\n\\t\\t\\t\\t} else {\\n\\t\\t  \\t\\t\\tif (userImgYn == \\'Y\\'){\\n\\t\\t  \\t\\t\\t\\topenWindow(mainurl+\\'/partners/partners_zikimi_new_reg.do\\');\\n\\t\\t  \\t\\t\\t} else {\\n\\t\\t\\t  \\t\\t\\tif( jikimCheckKind == 0 ) {\\n\\t\\t\\t\\t\\t  \\t\\tlocation.href = \\'/partners/partners_zikimi_new_reg.do\\';\\n\\t\\t\\t  \\t\\t\\t} else { //수정버튼 클릭시\\n\\t\\t\\t  \\t\\t\\t\\tlocation.href = \\'/partners/partners_zikimi_reg.do?cotid=\\'+sContentId;\\n\\t\\t\\t  \\t\\t\\t}\\n\\t\\t  \\t\\t\\t}\\n\\t\\t\\t\\t}\\n\\t\\t\\t}\\n\\t\\t} else {\\n\\n\\t\\t\\tif( loginYn == \\'N\\') {\\n\\t\\t\\t\\tif (userImgYn == \\'N\\'){\\n\\t\\t\\t\\t\\tif( jikimCheckKind == 0 ) {\\n\\t\\t\\t\\t\\t\\tbeforeUrl = \\'/mypage/tourist_info_new.do\\';\\n\\t\\t  \\t\\t\\t} else { //수정버튼 클릭시\\n\\t\\t  \\t\\t\\t\\tbeforeUrl = \\'/mypage/tourist_info_reg.do?cotid=\\'+sContentId;\\n\\t\\t  \\t\\t\\t}\\n\\t\\t\\t\\t}\\n\\n\\t\\t\\t\\tlayerPopup.layerHide(\\'popMemberLogin\\');\\n\\t\\t\\t\\tshowLogin(1);\\n\\t\\t\\t} else {\\n\\t\\t\\t\\tif( sloginType == \\'10\\' ) {\\n\\t\\t\\t\\t\\tlayerPopup.layerHide(\\'popMemberLogin\\');\\n\\t\\t\\t\\t\\tlayerPopup.layerShow(\\'cosConfirm4\\');\\n\\t\\t\\t\\t\\treturn;\\n\\t\\t\\t\\t} else {\\n\\t\\t\\t\\t\\tif (userImgYn == \\'N\\'){\\n\\t\\t\\t\\t\\t\\tif( jikimCheckKind == 0 ) {\\n\\t\\t\\t\\t  \\t\\t\\tlocation.href = mainurl+\\'/mypage/tourist_info_list.do\\';\\n\\t\\t\\t\\t\\t\\t} else {\\t//수정버튼 클릭시\\n\\t\\t\\t\\t\\t\\t\\tlocation.href = \"/mypage/tourist_info_reg.do?cotid=\"+sContentId;\\n\\t\\t\\t\\t\\t\\t}\\n\\t\\t\\t\\t\\t}\\n\\t\\t\\t\\t}\\n\\t\\t\\t}\\n\\t\\t}\\n\\t}\\n\\n\\tfunction goJikimiList() {\\n \\t\\tuserImgYn = \\'N\\';\\n \\t\\tjikimCheckKind = 0;\\n\\t\\tlayerPopup.layerShow(\\'popMemberLogin\\');\\n\\n\\t\\t$(\"#Jikimitit\").text(\"관광정보 수정/신규 로그인\");\\n\\t}\\n\\n\\t//user콘텐츠 공유하기 저장.\\n\\tfunction shareHistoryUser(kind, shareCotid) {\\n\\t\\tvar sharekind;\\n\\n\\t\\tif( kind == \\'facebook\\' ) {\\n\\t\\t\\tsharekind = 0;\\n\\t\\t}else if( kind == \\'twitter\\') {\\n\\t\\t\\tsharekind = 1;\\n\\t\\t}else if( kind == \\'kakaostory\\') {\\n\\t\\t\\tsharekind = 2\\n\\t\\t}else if( kind == \\'kakaotalk\\') {\\n\\t\\t\\tsharekind = 3\\n\\t\\t}else if( kind == \\'band\\') {\\n\\t\\t\\tsharekind = 4\\n\\t\\t}\\n\\n\\t\\t$.ajax({\\n\\t\\t\\turl: mainurl+\\'/call\\',\\n\\t\\t\\tdataType: \\'json\\',\\n\\t\\t\\ttype: \"POST\",\\n\\t\\t\\tdata: {\\n\\t\\t\\t\\tcmd : \\'SHARE_HISTORY_USER_SAVE\\',\\n\\t\\t\\t\\tsharekind : sharekind+\\'\\',\\t\\t\\t\\t\\t//SNS 타입 : 000 :: FACEBOOK,\\t001 :: TWITTER,\\t002 :: KAKAOSTORY ,\\t003 :: KAKAOTALK, 004 :: BAND\\'\\n\\t\\t\\t\\tcotid : shareCotid\\n\\t\\t\\t},\\n\\t\\t\\tsuccess: function(data) {\\n\\t\\t\\t\\t$(\"#conShare\").text(Number($(\"#conShare\").text())+1);\\n\\t\\t\\t},\\n\\t\\t\\tcomplete: function() {\\n\\t\\t\\t},\\n\\t\\t\\terror: function(xhr, textStatus, errorThrown) {\\n\\t\\t\\t}\\n\\t\\t});\\n\\t}\\n\\n\\tfunction goCosMakeSave() {\\n\\t\\tif( $(\\'#cosname\\').val() == \\'\\' ) {\\n\\t\\t\\talert(\\'코스명을 입력해주세요.\\');\\n\\t\\t\\treturn;\\n\\t\\t} else {\\n\\t\\t\\tgoCourseCreate($(\\'#cosname\\').val());\\n\\t\\t}\\n\\t}\\n\\n\\tvar cosChoiceList = \\'N\\';\\n\\n\\tfunction goCosMake() {\\n\\t\\tif( loginYn == \\'Y\\' ) {\\n\\t\\t\\tlayerPopup.layerShow(\\'cosMake\\');\\n\\t\\t} else {\\n\\t\\t\\tshowLogin(2);\\n\\t\\t}\\n\\t}\\n\\n\\tfunction goCosMakeFromList() {\\n\\t\\tcosChoiceList = \\'Y\\';\\n\\t\\tif( loginYn == \\'Y\\' ) {\\n\\t\\t\\tlayerPopup.layerHide(\\'cosChoice\\');\\n\\t\\t\\tlayerPopup.layerShow(\\'cosMake\\');\\n\\t\\t} else {\\n\\t\\t\\tshowLogin(2);\\n\\t\\t}\\n\\t}\\n\\n\\tfunction goCosMakeAndcosSave() {\\n\\t\\tcosChoiceList = \\'S\\';\\n\\n\\t\\tif( $(\\'#cosname2\\').val() == \\'\\' ) {\\n\\t\\t\\talert(\\'코스명을 입력해주세요.\\');\\n\\t\\t\\treturn;\\n\\t\\t} else {\\n\\t\\t\\tgoCourseCreate($(\\'#cosname2\\').val());\\n\\t\\t}\\n\\n\\t}\\n\\n\\tfunction loginClose(){\\n\\t\\tlayerPopup.layerHide(\\'login\\');\\n\\t\\tbeforeUrl = \\'\\';\\n\\t\\tif(beforefocus != undefined){\\n\\t\\t\\tif($(beforefocus).closest(\\'.pop_subMenu\\').attr(\\'tabindex\\') == 0){\\n\\t\\t\\t\\t$(beforefocus).closest(\\'.pop_subMenu\\').siblings(\\'button\\').addClass(\\'on\\').attr(\\'title\\', \\'닫기\\');\\n\\t\\t\\t\\t$(\\'body\\').append(\\'<div class=\"dimmed2\"></div>\\');\\n\\t\\t\\t}\\n\\t\\t\\t$(beforefocus).focus();\\n\\t\\t}\\n\\t}\\n\\n\\t// 쿠폰형 팝업\\n\\tfunction openCoupon(cp_id, aci_id){\\n\\n\\t\\t$.ajax({\\n\\t\\t\\turl: mainurl+\\'/call\\',\\n\\t\\t\\tdataType: \\'json\\',\\n\\t\\t\\ttype: \"POST\",\\n\\t\\t\\tdata: {\\n\\t\\t\\t\\tcmd : \\'COUPON_DETAIL\\',\\n\\t\\t\\t\\tcpId : cp_id\\n\\t\\t\\t},\\n\\t\\t\\tsuccess: function(data) {\\n\\n\\t\\t\\t\\tvar coupon = data.body.coupon;\\n\\t\\t\\t\\tvar layer = $(\\'#popCoupon .layerpop\\');\\n\\t\\t\\t\\tvar cp_type = \\'\\';\\n\\t\\t\\t\\tvar notice = \\'\\';\\n\\t\\t\\t\\tvar cpHtml = \\'\\';\\n\\t\\t\\t\\tvar cpTitle = \\'\\';\\n\\n\\t\\t\\t\\tswitch (coupon.cpGb) {\\n\\t\\t\\t\\tcase \\'CP\\':\\n\\n\\t\\t\\t\\t\\tswitch (coupon.cpCategory) {\\n\\t\\t\\t\\t\\tcase 1: cpClass = \\'tour\\'; break;\\n\\t\\t\\t\\t\\tcase 2: cpClass = \\'stay\\'; break;\\n\\t\\t\\t\\t\\tcase 3: cpClass = \\'food\\'; break;\\n\\t\\t\\t\\t\\tcase 4: cpClass = \\'traffic\\'; break;\\n\\t\\t\\t\\t\\tcase 5: cpClass = \\'shopping\\'; break;\\n\\t\\t\\t\\t\\tcase 6: cpClass = \\'show\\'; break;\\n\\t\\t\\t\\t\\tcase 7: cpClass = \\'etc\\'; break;\\n\\t\\t\\t\\t\\tcase 8: cpClass = \\'public\\'; break;\\n\\t\\t\\t\\t\\t}\\n\\n\\t\\t\\t\\t\\tlayer.attr(\\'class\\', \\'layerpop \\'+cpClass);\\n\\t\\t\\t\\t\\tcpTitle += \\'<span>\\'+coupon.cpCategoryStr+\\'</span>\\';\\n\\t\\t\\t\\t\\tcp_type = \\'쿠폰\\';\\n\\t\\t\\t\\t\\tnotice = \\'마이페이지 > 여행주간 에서 확인\\';\\n\\t\\t\\t\\t\\tbreak;\\n\\t\\t\\t\\tcase \\'MS\\':\\n\\t\\t\\t\\t\\tlayer.attr(\\'class\\', \\'layerpop\\');\\n\\t\\t\\t\\t\\tcp_type = \\'여행\\'\\n\\t\\t\\t\\t\\tnotice = \\'마이페이지 > 즐겨찾기 > 쿠폰형 정보 에서 확인\\';\\n\\t\\t\\t\\t\\tbreak;\\n\\t\\t\\t\\tdefault:\\n\\t\\t\\t\\t\\treturn;\\n\\t\\t\\t\\t}\\n\\n\\t\\t\\t\\t$(\\'#popCoupon .layerpop .endTxt\\').hide();\\n\\n\\t\\t\\t\\tcpTitle += \\'대한민국 구석구석 \\'+cp_type+\\'정보\\';\\n\\n\\t\\t\\t\\tlayer.children(\\'.tit\\').children(\\'h2\\').html(cpTitle);\\n\\n\\t\\t\\t\\tvar cAreaname = getAreaName(coupon.areaCode);\\n\\t\\t\\t\\tvar cSigunguname = getSigunguName(coupon.areaCode, coupon.sigugunCode);\\n\\t\\t\\t\\tvar top = layer.children(\\'.couponTop\\');\\n\\t\\t\\t\\ttop.children(\\'em\\').html(cAreaname + \\' \\' + cSigunguname);\\n\\t\\t\\t\\ttop.children(\\'strong\\').html(coupon.cpTitle);\\n\\t\\t\\t\\ttop.children(\\'span\\').html(coupon.cpDesc);\\n\\n\\t\\t\\t\\tvar info = layer.children(\\'.info\\').children(\\'.infoScr\\');\\n\\t\\t\\t\\tif (coupon.cpStartDate != null && coupon.cpEndDate != null) {\\n\\t\\t\\t\\t\\tvar cDate = coupon.cpStartDate + \\' ~ \\' + coupon.cpEndDate;\\n\\t\\t\\t\\t\\t$(\\'#cDate\\').html(\\'할인기간 : \\'+cDate.replace(/-/g,\\'.\\'));\\n\\t\\t\\t\\t\\t$(\\'#cDate\\').show();\\n\\t\\t\\t\\t} else {\\n\\t\\t\\t\\t\\t$(\\'#cDate\\').hide();\\n\\t\\t\\t\\t}\\n\\t\\t\\t\\tif (coupon.cpRsvStartDate != null && coupon.cpRsvEndDate != null) {\\n\\t\\t\\t\\t\\tvar cDate = coupon.cpRsvStartDate + \\' ~ \\' + coupon.cpRsvEndDate;\\n\\t\\t\\t\\t\\t$(\\'#rDate\\').html(\\'예약기간 : \\'+cDate.replace(/-/g,\\'.\\'));\\n\\t\\t\\t\\t\\t$(\\'#rDate\\').show();\\n\\t\\t\\t\\t} else {\\n\\t\\t\\t\\t\\t$(\\'#rDate\\').hide();\\n\\t\\t\\t\\t}\\n\\t\\t\\t\\tinfo.children(\\'.imgBox\\').remove();\\n\\t\\t\\t\\tinfo.children(\\'.textBox\\').remove();\\n\\t\\t\\t\\tinfo.children(\\'.txt1\\').remove();\\n\\n\\t\\t\\t\\tif (coupon.cpImgId != null && coupon.cpImgId.length > 0) {\\n\\t\\t\\t\\t\\tcpHtml += \\'<div class=\"imgBox\">\\';\\n\\t\\t\\t\\t\\tcpHtml += \\'\\t<img src=\"\\'+mainimgurl+coupon.cpImgId+\\'&mode=custom&width=393\" alt=\"\\'+coupon.imgAlt+\\'\">\\';\\n\\t\\t\\t\\t\\tcpHtml += \\'</div>\\';\\n\\t\\t\\t\\t}\\n\\n\\t\\t\\t\\tif (coupon.cpContent != null && coupon.cpContent.length > 0) {\\n\\t\\t\\t\\t\\tcpHtml += \\'<div class=\"textBox\">\\'+coupon.cpContent+\\'</div>\\';\\n\\t\\t\\t\\t}\\n\\n\\t\\t\\t\\tinfo.append(cpHtml);\\n\\n\\t\\t\\t\\tvar btn01 = layer.children(\\'.btn_center\\').children(\\'.btn01\\');\\n\\t\\t\\t\\tvar btn02 = layer.children(\\'.btn_center\\').children(\\'.btn02\\');\\n\\t\\t\\t\\tvar btn03 = layer.children(\\'.btn_center\\').children(\\'.btn03\\');\\n\\n\\t\\t\\t\\tbtn01.html(cp_type+\\'정보 담기\\');\\n\\t\\t\\t\\tbtn02.html(cp_type+\\'정보 인쇄하기\\');\\n\\t\\t\\t\\tbtn03.hide();\\n\\n\\t\\t\\t\\tif (loginYn == \\'N\\') {\\n\\t\\t\\t\\t\\tif(btn01.hasClass(\\'dim\\')) btn01.removeClass(\\'dim\\');\\n\\t\\t\\t\\t\\tbtn01.attr(\\'href\\',\\'javascript:showLogin(2);\\');\\n\\t\\t\\t\\t\\tswitch (coupon.cpGb) {\\n\\t\\t\\t\\t\\tcase \\'CP\\':\\n\\t\\t\\t\\t\\t\\tbtn02.attr(\\'href\\',\\'javascript:showLogin(2);\\');\\n\\t\\t\\t\\t\\t\\tbreak;\\n\\t\\t\\t\\t\\tcase \\'MS\\':\\n\\t\\t\\t\\t\\t\\tbtn02.attr(\\'href\\', \\'javascript:printCoupon(\\\\\\'\\'+cp_id+\\'\\\\\\');\\');\\n\\t\\t\\t\\t\\t\\tbreak;\\n\\t\\t\\t\\t\\tdefault:\\n\\t\\t\\t\\t\\t\\treturn;\\n\\t\\t\\t\\t\\t}\\n\\t\\t\\t\\t} else {\\n\\t\\t\\t\\t\\tif(data.body.couponSaveChk < 1) {\\n\\t\\t\\t\\t\\t\\tif(btn01.hasClass(\\'dim\\')) btn01.removeClass(\\'dim\\');\\n\\t\\t\\t\\t\\t\\tbtn01.attr(\\'href\\',\\'javascript:saveCoupon(\\\\\\'\\'+cp_id+\\'\\\\\\', \\\\\\'\\'+aci_id+\\'\\\\\\', \\\\\\'\\'+coupon.cpUseFl+\\'\\\\\\', \\\\\\'\\'+cp_type+\\'\\\\\\');\\');\\n\\t\\t\\t\\t\\t\\tswitch (coupon.cpGb) {\\n\\t\\t\\t\\t\\t\\tcase \\'CP\\':\\n\\t\\t\\t\\t\\t\\t\\tbtn02.attr(\\'href\\',\\'javascript:alert(\"먼저 정보 담기 버튼을 클릭해주세요.\");\\');\\n\\t\\t\\t\\t\\t\\t\\tbreak;\\n\\t\\t\\t\\t\\t\\tcase \\'MS\\':\\n\\t\\t\\t\\t\\t\\t\\tbtn02.attr(\\'href\\', \\'javascript:printCoupon(\\\\\\'\\'+cp_id+\\'\\\\\\');\\');\\n\\t\\t\\t\\t\\t\\t\\tbreak;\\n\\t\\t\\t\\t\\t\\tdefault:\\n\\t\\t\\t\\t\\t\\t\\treturn;\\n\\t\\t\\t\\t\\t\\t}\\n\\t\\t\\t\\t\\t} else {\\n\\t\\t\\t\\t\\t\\tif(!btn01.hasClass(\\'dim\\')) btn01.addClass(\\'dim\\');\\n\\t\\t\\t\\t\\t\\tbtn01.attr(\\'href\\', \\'javascript:alert(\\\\\\'이미 담겨진 \\'+cp_type+\\'정보입니다.\\\\\\\\r\\\\\\\\n\\'+notice+\\'\\\\\\');\\');\\n\\t\\t\\t\\t\\t\\tbtn02.attr(\\'href\\', \\'javascript:printCoupon(\\\\\\'\\'+cp_id+\\'\\\\\\');\\');\\n\\n\\t\\t\\t\\t\\t\\tif (coupon.cpUseFl == \\'Y\\' && coupon.cpGb == \\'CP\\') {\\n\\t\\t\\t\\t\\t\\t\\tbtn03.show();\\n\\t\\t\\t\\t\\t\\t\\tbtn03.attr(\\'href\\', \\'javascript:useendCoupon(\\\\\\'\\'+cp_id+\\'\\\\\\');\\');\\n\\t\\t\\t\\t\\t\\t}\\n\\n\\t\\t\\t\\t\\t\\tif (data.body.cpUse > 0) {\\n\\t\\t\\t\\t\\t\\t\\tlayer.addClass(\\'end\\');\\n\\t\\t\\t\\t\\t\\t\\tlayer.children(\\'.endTxt\\').show();\\n\\t\\t\\t\\t\\t\\t}\\n\\t\\t\\t\\t\\t}\\n\\t\\t\\t\\t}\\n\\t\\t\\t},\\n\\t\\t\\tcomplete: function(data) {\\n\\t\\t\\t\\tsetTimeout(function () {\\n\\t\\t\\t\\t\\tlayerPopup.layerShow(\\'popCoupon\\');\\n\\t\\t\\t\\t}, 200) ;\\n\\t\\t\\t},\\n\\t\\t\\terror: function(xhr, textStatus, errorThrown) {\\n\\t\\t\\t}\\n\\t\\t});\\n\\t}\\n\\n\\tfunction saveCoupon(cp_id, aci_id, use_fl, cp_type) {\\n\\n\\t\\tvar cp_use = use_fl == \\'Y\\' ? 0 : -1;\\n\\n\\t\\t$.ajax({\\n\\t\\t\\turl: mainurl+\\'/call\\',\\n\\t\\t\\tdataType: \\'json\\',\\n\\t\\t\\ttype: \"POST\",\\n\\t\\t\\tdata: {\\n\\t\\t\\t\\tcmd : \\'COUPON_SAVE\\',\\n\\t\\t\\t\\tcpId : cp_id,\\n\\t\\t\\t\\taciId : aci_id,\\n\\t\\t\\t\\tcpUse : cp_use\\n\\t\\t\\t},\\n\\t\\t\\tsuccess: function(data) {\\n\\t\\t\\t\\tif (data.body.result > 0) {\\n\\n\\t\\t\\t\\t\\tvar btn01 = $(\\'#popCoupon .layerpop .btn_center .btn01\\');\\n\\t\\t\\t\\t\\tvar btn02 = $(\\'#popCoupon .layerpop .btn_center .btn02\\');\\n\\t\\t\\t\\t\\tvar btn03 = $(\\'#popCoupon .layerpop .btn_center .btn03\\');\\n\\n\\n\\t\\t\\t\\t\\tif(!btn01.hasClass(\\'dim\\')) btn01.addClass(\\'dim\\');\\n\\n\\t\\t\\t\\t\\tvar notice = \\'\\';\\n\\n\\t\\t\\t\\t\\tswitch (cp_type) {\\n\\t\\t\\t\\t\\tcase \\'쿠폰\\': notice = \\'마이페이지 > 여행주간 에서 확인\\'; break;\\n\\t\\t\\t\\t\\tcase \\'여행\\': notice = \\'마이페이지 > 즐겨찾기 > 쿠폰형 정보 에서 확인\\'; break;\\n\\t\\t\\t\\t\\tdefault: notice = \\'test\\';\\n\\t\\t\\t\\t\\t}\\n\\n\\t\\t\\t\\t\\tbtn01.attr(\\'href\\', \\'javascript:alert(\\\\\\'이미 담겨진 \\'+cp_type+\\'정보입니다.\\\\\\\\r\\\\\\\\n\\'+notice+\\'\\\\\\');\\');\\n\\t\\t\\t\\t\\tbtn02.attr(\\'href\\', \\'javascript:printCoupon(\\\\\\'\\'+cp_id+\\'\\\\\\');\\');\\n\\n\\t\\t\\t\\t\\tbtn03.hide();\\n\\t\\t\\t\\t\\tif (use_fl == \\'Y\\' && cp_type == \\'쿠폰\\') {\\n\\t\\t\\t\\t\\t\\tbtn03.attr(\\'href\\', \\'javascript:useendCoupon(\\\\\\'\\'+cp_id+\\'\\\\\\');\\');\\n\\t\\t\\t\\t\\t\\tbtn03.show();\\n\\t\\t\\t\\t\\t}\\n\\n\\t\\t\\t\\t\\talert(cp_type + \\'정보에 담기가 완료되었습니다.\\\\r\\\\n\\'+notice);\\n\\t\\t\\t\\t} else {\\n\\t\\t\\t\\t\\talert(\\'담기에 실패하였습니다.\\\\r\\\\n다시 시도해주세요.\\')\\n\\t\\t\\t\\t}\\n\\t\\t\\t},\\n\\t\\t\\tcomplete: function(data) {\\n\\t\\t\\t},\\n\\t\\t\\terror: function(xhr, textStatus, errorThrown) {\\n\\t\\t\\t}\\n\\t\\t});\\n\\t}\\n\\n\\tfunction goOtherMain(rotdid){\\n\\n\\t\\t//타부서배너 클릭저장\\n\\t\\tgoMainLogSave( \\'ace9d110-cd09-11e8-932f-02001c6b0001\\' );\\n\\n\\t\\tsetTimeout(function () {\\n\\t  \\t\\tswitch (rotdid) {\\n\\t\\t\\tcase \\'khub\\':\\n\\t\\t\\t\\tlocation.href = \"/other/hub_01.do\";\\n\\t\\t\\t\\tbreak;\\n\\t\\t\\tcase \\'photogallery\\':\\n\\t\\t\\t\\twindow.open(\"https://korean1.visitkorea.or.kr/kor/tt/pr_gallery/new_photo_gallery/main/main.jsp\", \\'_blank\\');\\n\\t\\t\\t\\tbreak;\\n\\t\\t\\tcase \\'datalab\\':\\n\\t\\t\\t\\twindow.open(\"https://datalab.visitkorea.or.kr/datalab/portal/main/getMainForm.do\", \\'_blank\\')\\n\\t\\t\\t\\tbreak;\\n\\t\\t\\tcase \\'customer\\':\\n\\t\\t\\t\\twindow.open(\"https://kto.visitkorea.or.kr/kor/customer.kto\", \\'_blank\\')\\n\\t\\t\\t\\tbreak;\\n\\t\\t\\tcase \\'114b23a6-84c4-11e8-8165-020027310001\\':\\n\\t  \\t\\t\\tlocation.href = \\'/other/other_list.do?otdid=\\'+rotdid;\\n\\t\\t\\t\\tbreak;\\n\\t\\t\\tdefault:\\n\\t\\t\\t\\tlocation.href = \\'/other/otherService.do?otdid=\\'+rotdid;\\t\\t\\t//\\'/other/other_list.do?otdid=\\'+moreid;\\n\\t\\t\\t\\tbreak;\\n\\t\\t\\t}\\n\\t\\t}, 200) ;\\n\\n\\t}\\n\\n\\tfunction printCoupon(cp_id) {\\n\\n\\t\\tif (mobileYn == \\'Y\\' || appYn == \\'Y\\') {\\n\\t\\t\\talert(\\'모바일에서는 지원하지 않는 기능입니다.\\');\\n\\t\\t\\treturn;\\n\\t\\t}\\n\\n\\t\\t$.ajax({\\n\\t\\t\\turl: mainurl+\\'/call\\',\\n\\t\\t\\tdataType: \\'json\\',\\n\\t\\t\\ttype: \"POST\",\\n\\t\\t\\tdata: {\\n\\t\\t\\t\\tcmd : \\'COUPON_PRINT\\',\\n\\t\\t\\t\\tcpId : cp_id\\n\\t\\t\\t},\\n\\t\\t\\tsuccess: function(data) {\\n\\t\\t\\t\\tconst objWin = window.open(\\'/common/coupon_detail_print.do?cpId=\\'+cp_id, \\'\\', \\'width=1024, height=1024, location=no, menubar=no, status=no, toolbar=no\\');\\n\\t\\t\\t\\tsetTimeout(function () {\\n\\t\\t\\t\\t\\tobjWin.print();\\n\\t\\t\\t\\t\\tobjWin.close();\\n\\t\\t\\t  \\t}, 1000) ;\\n\\t\\t\\t},\\n\\t\\t\\tcomplete: function() {\\n\\t\\t\\t},\\n\\t\\t\\terror: function(xhr, textStatus, errorThrown) {\\n\\t\\t\\t}\\n\\t\\t});\\n\\t}\\n\\n\\tfunction useendCoupon(cp_id, aci_id) {\\n\\n\\t\\tif(!confirm(\\'사용완료 처리하시겠습니까?\\')) {\\n\\t\\t\\treturn;\\n\\t\\t}\\n\\n\\t\\t$.ajax({\\n\\t\\t\\turl: mainurl+\\'/call\\',\\n\\t\\t\\tdataType: \\'json\\',\\n\\t\\t\\ttype: \"POST\",\\n\\t\\t\\tdata: {\\n\\t\\t\\t\\tcmd : \\'COUPON_USEEND\\',\\n\\t\\t\\t\\tcpId : cp_id\\n\\t\\t\\t},\\n\\t\\t\\tsuccess: function(data) {\\n\\n\\t\\t\\t\\tif (data.body.result > 0) {\\n\\t\\t\\t\\t\\t$(\\'#popCoupon .layerpop\\').addClass(\\'end\\');\\n\\t\\t\\t\\t\\t$(\\'#popCoupon .layerpop .endTxt\\').show();\\n\\t\\t\\t\\t} else {\\n\\t\\t\\t\\t\\talert(\\'사용완료 처리에 실패하였습니다.\\\\r\\\\n다시 시도해주세요.\\')\\n\\t\\t\\t\\t}\\n\\t\\t\\t},\\n\\t\\t\\tcomplete: function() {\\n\\t\\t\\t},\\n\\t\\t\\terror: function(xhr, textStatus, errorThrown) {\\n\\t\\t\\t}\\n\\t\\t});\\n\\t}\\n\\n\\t$(document).on(\"click\",\".coronaBanner button\", function(){\\n\\t\\tvar par = $(\\'.coronaBanner button\\').parent();\\n\\t\\tif(!par.hasClass(\\'none\\')){\\n\\t\\t\\tpar.addClass(\\'none\\');\\n\\t\\t}\\n\\t\\t$(\\'.coronaBanner + .header\\').css(\\'height\\',\\'154px\\');\\n\\t\\t$(\\'.coronaBanner + .header #gnb\\').css(\\'top\\',\\'60px\\');\\n\\t\\tif($(window).width() < 1024) {\\n\\t\\t\\t$(\\'.coronaBanner + .header\\').css(\\'height\\',\\'80px\\');\\n\\t\\t\\t$(\\'.coronaBanner + .header #gnb\\').css(\\'top\\',\\'15px\\');\\n\\t\\t}\\n\\t});\\n\\n\\tfunction goGuideBook() {\\n\\t\\t//메인 관광가이드북 클릭수 저장\\n\\t\\tgoMainLogSave(\\'b995cd28-8cb5-4a3c-9201-fd01a08aab4a\\');\\n\\n\\t  \\tsetTimeout(function () {\\n\\t\\t\\tlocation.href = \\'/notice/guide_book.do\\';\\n\\t  \\t}, 200) ;\\n\\t}\\n\\n\\tfunction goRelation() {\\n\\n\\t\\tvar objVal = $(\"#relation\").val();\\n\\t\\tif (objVal != \"\") {\\n\\n\\t\\t\\t//메인 유관부서외부 영역 클릭저장\\n\\t\\t\\tgoMainLogSave( \\'18d95e83-9aa7-11e8-8165-020027310001\\' );\\n\\n\\t\\t  \\tsetTimeout(function () {\\n\\t\\t\\t\\topenWindow(objVal);\\n\\t\\t  \\t}, 200) ;\\n\\t\\t}\\n \\t}\\n\\n\\tfunction goRelation2() {\\n\\t\\tif(location.href.indexOf(\\'korean.visitkorea\\') != -1){\\n\\t\\t\\tvar objVal = $(\"#relation2\").val();\\n\\t\\t\\tif (objVal != \"\") {\\n\\t\\t\\t\\t//메인 유관부서외부 영역 클릭저장\\n\\t\\t\\t\\tgoMainLogSave( \\'18d95e83-9aa7-11e8-8165-020027310001\\' );\\n\\t\\t\\t\\tsetTimeout(function () {\\n\\t\\t\\t\\t\\tif( objVal == \\'https://www.durunubi.kr\\' || objVal == \\'https://www.gocamping.or.kr/account/sso/broker.do\\' || objVal == \\'photogallery\\')\\n\\t\\t\\t\\t\\t\\tMoveTourOnepassPage(objVal);\\n\\t\\t\\t\\t\\telse if( objVal == \\'thisyear\\')\\n\\t\\t\\t\\t\\t\\tlayerPopup.layerShow(\\'popTc\\');\\n\\t\\t\\t\\t\\telse if(objVal == \\'khub\\')\\n\\t\\t\\t\\t\\t\\tgoOtherMain(\\'khub\\');\\n\\t\\t\\t\\t\\telse if(objVal == \\'datalab\\')\\n\\t\\t\\t\\t\\t\\tgoOtherMain(\\'datalab\\');\\n\\t\\t\\t\\t\\telse\\n\\t\\t\\t\\t\\t\\topenWindow(objVal);\\n\\t\\t\\t\\t}, 200) ;\\n\\t\\t\\t}\\n\\t\\t} else{\\n\\n\\n\\n\\t\\tvar objVal = $(\"#relation2\").val();\\n\\t\\tif (objVal != \"\") {\\n\\n\\t\\t\\t//메인 유관부서외부 영역 클릭저장\\n\\t\\t\\tgoMainLogSave( \\'18d95e83-9aa7-11e8-8165-020027310001\\' );\\n\\n\\t\\t  \\tsetTimeout(function () {\\n\\t\\t  \\t\\tif( objVal == \\'thisyear\\') {\\n\\t\\t  \\t\\t\\tlayerPopup.layerShow(\\'popTc\\');\\n\\t\\t  \\t\\t} else if(objVal == \\'khub\\'){\\n\\t\\t  \\t\\t\\tgoOtherMain(\\'khub\\');\\n\\t\\t  \\t\\t} else if(objVal == \\'photogallery\\'){\\n\\t\\t  \\t\\t\\tgoOtherMain(\\'photogallery\\');\\n\\t\\t  \\t\\t} else {\\n\\t\\t\\t\\t\\topenWindow(objVal);\\n\\t\\t  \\t\\t}\\n\\t\\t  \\t}, 200) ;\\n\\t\\t}\\n\\t\\t}\\n \\t}\\n\\n \\tfunction golivetalk(){\\n\\t\\tif($(\\'.footer_data .layer-talk-menu\\').hasClass(\\'on\\'))\\n\\t\\t\\t$(\\'.footer_data .layer-talk-menu\\').removeClass(\\'on\\');\\n\\t\\telse\\n\\t\\t\\t$(\\'.footer_data .layer-talk-menu\\').addClass(\\'on\\');\\n\\t}\\n\\n\\t$(document).on(\"click\",\".footer_data .layer-talk-menu button.close\",function(){\\n\\t\\t$(\\'.footer_data .layer-talk-menu\\').removeClass(\\'on\\');\\n\\t});\\n\\n\\tfunction MoveTourOnepassPage(link){\\n\\t\\t//타부서배너 클릭저장\\n\\t\\tif(link == \\'photogallery\\') {\\n\\t\\t\\tgoMainLogSave(\\'ace9d110-cd09-11e8-932f-02001c6b0001\\');\\n\\t\\t\\tlink = \"https://korean1.visitkorea.or.kr/kor/tt/pr_gallery/new_photo_gallery/include/header_ssot.jsp\";\\n\\t\\t}\\n\\t\\topenWindow(mainurl+\"/common/ssolink.do?url=\"+link);\\n\\t}\\n\\n\\tfunction closeStamp() {\\n\\t\\t$(\\'#stamp\\').hide();\\n\\t}\\n\\n\\t$(\\'#relation2\\').keyup(function(e) {\\n\\t\\tif (e.keyCode == 38) {\\n\\t\\t\\t// let index = $(\"#relation2 option\").index($(\"#relation2 option:selected\"));\\n\\t\\t\\t// $(\"#relation2 option:eq(\"+(index-1)+\")\").attr(\"selected\", \"selected\");\\n\\t\\t} else if (e.keyCode == 40){\\n\\t\\t\\t// let index = $(\"#relation2 option\").index($(\"#relation2 option:selected\"));\\n\\t\\t\\t// $(\"#relation2 option:eq(\"+(index+1)+\")\").attr(\"selected\", \"selected\");\\n\\t\\t}\\n\\t});\\n\\n\\t$(\\'#relation\\').keyup(function(e) {\\n\\t\\tif (e.keyCode == 38) {\\n\\t\\t\\t// let index = $(\"#relation option\").index($(\"#relation option:selected\"));\\n\\t\\t\\t// $(\"#relation option:eq(\"+(index-1)+\")\").attr(\"selected\", \"selected\");\\n\\t\\t} else if (e.keyCode == 40){\\n\\t\\t\\t// let index = $(\"#relation option\").index($(\"#relation option:selected\"));\\n\\t\\t\\t// $(\"#relation option:eq(\"+(index+1)+\")\").attr(\"selected\", \"selected\");\\n\\t\\t}\\n\\t});\\n\\n\\t$(\\'#reservationPop .btn_close3\\').click(function(){\\n\\t\\t$(\\'.wrap_layerpop\\').hide();\\n\\t});\\n\\n</script>\\n\\n<script>\\n\\tvar __unid = \\'YyAPT9vbfctCuxsv65@acgAADgE\\';\\n\\tvar __rsk = \\'null\\';\\n\\tvar __rskReferral = \\'null\\';\\n</script>\\n\\n<script src=\"https://cdn.visitkorea.or.kr/resources/js/elastic/save.js\"></script>\\n<!-- 스피어 태깅관련 -->\\n\\n<script src=\"https://cdn.visitkorea.or.kr/resources/js/spearjs/all.js?v=20220913b0703bb9-c621-4507-a981-51a1cbeb7898\"></script>\\n<script src=\"https://cdn.visitkorea.or.kr/resources/js/spearjs/all_callback.js?v=20220913b0703bb9-c621-4507-a981-51a1cbeb7898\"></script>\\n\\n</div>\\n   <!-- //공지사항 , 유관기관, footer-->\\n\\n   <script type=\"text/javascript\">\\n\\n      var collection = \\'\\';\\n      var contentType = \\'\\';\\n      var contentType2 = \\'\\';   // 미디어, 뉴스 탭\\n      var keyword = \\'\\';\\n      var recentSuggestedKeyword;\\n      var ignoreSuggestionKeyword;\\n      var tab = \\'\\';\\n      var sortIdx = \\'1\\';\\n      var listType;\\n      var sort = \\'RANK/DESC\\';\\n      var evtFilter = \\'전체\\';\\n\\n      // 페이징.\\n      var startcount = 10;\\n      var spage = 1;\\n      var scnt = 10;\\n      var totcnt = 0;\\n      var galleryThumbs;\\n      var galleryTop;\\n      var searchtype = \\'전체\\';\\n      var sorttype = \\'관련도순\\';\\n      var hpage = 1;\\n      var hkeyword;\\n      var htab;\\n      var optionViewKind = false;\\n\\n      // 상세옵션.\\n      var choiceTag = getParameter(\\'choiceTag\\');\\n      var choiceTagId = getParameter(\\'choiceTagId\\');\\n      var areacode = getParameter(\\'areacode\\');\\n      var sigungucode = getParameter(\\'sigungucode\\');\\n\\n      var contentSearchField = \\'TITLE/100,DISPLAY_TITLE/50,AREA_NAME/100,SIGUGUN_NAME/100,TAG_NAME/50,BODY/50,SUB_NAME/50\\';\\n\\n      if (typeof choiceTag == \\'undefined\\' || choiceTag == \\'\\')\\n    \\t  choiceTag = \\'전체\\';\\n      if (typeof choiceTagId == \\'undefined\\' || choiceTagId == \\'\\')\\n    \\t  choiceTagId = \\'All\\';\\n      if (typeof areacode == \\'undefined\\' || areacode == \\'\\')\\n    \\t  areacode = \\'All\\';\\n      if (typeof sigungucode == \\'undefined\\' || sigungucode == \\'\\')\\n    \\t  sigungucode = \\'All\\';\\n\\n      var stagName = choiceTag;\\n      var stagId = choiceTagId;\\n      var sareaCode = areacode;\\n      var ssigunguCode = sigungucode;\\n      var tagListViewYN = \\'N\\';\\n      var areaListViewYN = \\'N\\';\\n      var sigunguObj;\\n      var mainBrandingYn = \\'Y\\';\\n\\n      // 고유명사.\\n      var properYN;\\n      var properCotId;\\n      var properCotentsType;\\n      var properCat1;\\n      var properCat2;\\n      var properAreacode;\\n      var snsId;\\n      var addInfo;\\n      var firstGtmSetFlag = true;\\n\\n      var conLocationx;\\n  \\t  var conLocationy;\\n\\t  var mapCenterlocationx;\\n\\t  var mapCenterlocationy;\\n      var properImageUrl;\\n      var properTitle;\\n      var neviTitle;\\n\\t  var neviX;\\n  \\t  var neviY;\\n  \\t  var focusjoin = null;\\n  \\t  var contentnames = \\'\\';\\n\\n\\n      var cdnurl = \\'https://cdn.visitkorea.or.kr\\';\\n      var pageChk = \\'\\';\\n\\n      var AppFileName = null;\\n      var AppsaveName = null;\\n      var AppfullPath = null;\\n      var imguploadcheck = 0;\\n      var imageSrc = cdnurl +  \\'/resources/images/sub/ico_marker_pos.png\\', // 마커이미지의 주소입니다\\n      \\timageSize = null, imageOption = null;\\n      var geocoder = null;\\n      var mapStat = \\'Y\\';\\n      var focusjoin = null;\\n      var conSnsId = \\'\\';\\n      var conTitle = \\'\\';\\n      var conTelNo = \\'\\';\\n      var conInfoCenter = \\'\\';\\n      var conLocationx = \\'\\';\\n      var conLocationy = \\'\\';\\n      var conAreaCode = \\'\\';\\n      var conSigunguCode = \\'\\';\\n      var areaName = \\'\\';\\n      var sigunguName = \\'\\';\\n      var resizecheck = false;\\n      var mainPlayer;\\n\\n      var videoId =\\'\\';\\n      // 이미지\\n      var galleryTopHtml = \\'\\';\\n      var galleryThumbsHtml = \\'\\';\\n      var imgCnt = 0;\\n      var pImgCnt = 0;\\n      var uImgCnt = 0;\\n\\n      // ready\\n      function nextLogin(){\\n\\n         tab = getParameter(\\'tab\\');\\n         keyword = getParameter(\\'keyword\\').split(\\'#\\')[0];\\n          if(keyword.indexOf(\\'\\\\\"\\\\\"\\') != -1){\\n              keyword = keyword.replace(\\'\\\\\"\\\\\"\\',\\'\\')\\n          }\\n         collection = \"content\";\\n\\n         // 헤더 검색어 삭제 아이콘 보이기, 숨기기\\n         if( keyword == \\'\\' || keyword == undefined ) {\\n            keyword = \\'\\';\\n            $(\\'.btn_del\\').attr(\\'class\\',\\'btn_del\\');\\n         } else {\\n            $(\\'#inp_search\\').val(keyword);\\n            $(\\'.btn_del\\').attr(\\'class\\',\\'btn_del on\\');\\n         }\\n\\n         listType = getCookie(\\'searchListType\\');\\n         if(listType == null || listType == \\'undefined\\'){\\n            listType = \\'list\\';\\n         }\\n\\n         if (tagListViewYN == \\'N\\') {\\n        \\t getMainTag(\\'Festival\\',\\'brand\\');\\n         }\\n         if(areaListViewYN == \\'N\\') {\\n        \\t getSigungu();\\n         }\\n\\n         // 내 위치 정보 반환\\n         getLocation();\\n         //mbticheck();\\n      }\\n\\n        function saveUserSearchKeyword() {\\n            $.ajax({\\n                url: mainurl + \\'/call\\',\\n                type: \"POST\",\\n                dataType: \\'json\\',\\n                data: {\\n                    cmd : \\'INSERT_USER_SEARCH_KEYWORD\\',\\n                    ga: getCookie(\\'_ga\\'),\\n                    keyword: hkeyword,\\n                    searchType: \\'SEARCH\\'\\n                }\\n            });\\n        }\\n\\n      function showPosition(x, y) {\\n         locationx = x;\\n         locationy = y;\\n\\n         checkForHash();\\n      }\\n\\n      function showPositionNot(x, y) {\\n         locationx = x;\\n         locationy = y;\\n\\n         checkForHash();\\n      }\\n\\n      function checkForHash() {\\n\\n         if(window.location.hash) {\\n         //hash 가 있다면 ^ 를 구분자로 하나씩 string을 추출하여 각각 페이지정보를 가져옵니다.\\n            var str_hash = window.location.hash;\\n            str_hash = str_hash.replace(\"#\",\"\");\\n            arr_param=str_hash.split(\"^\");\\n\\n            hpage = arr_param[1];\\n            spage = arr_param[1];\\n            hkeyword = decodeURI(arr_param[2]);\\n            htab = arr_param[3];\\n            sortIdx = arr_param[4];\\n            evtFilter = decodeURI(arr_param[5]);\\n            $(\\'#searchAdd\\').val(decodeURI(arr_param[6]));\\n            sareaCode = arr_param[7];\\n            ssigunguCode = arr_param[8];\\n            stagId = arr_param[9];\\n            if (sareaCode != \\'All\\') {\\n            \\t$(\\'#arealist > #All button\\').removeClass(\"btn_all_active\").removeClass(\"active\");\\n\\n            \\tlet areaCdArray = sareaCode.split(\\',\\');\\n            \\tif (sareaCode.indexOf(\\',\\') == -1 && areaCdArray[0] != \\'\\') {\\n            \\t\\tareacode = areaCdArray[0];\\n            \\t\\tgetSigungu();\\n            \\t} else {\\n            \\t\\tareaCdArray.forEach(function(areaCd) {\\n            \\t\\t\\t$(\\'#arealist li[id=\"\\' + areaCd + \\'\"] button\\').addClass(\\'active\\');\\n            \\t\\t});\\n            \\t}\\n            }\\n            if (stagId != \\'All\\') {\\n            \\tsetTimeout(function() {\\n\\t            \\t$(\\'#taglist > #All button\\').removeClass(\"btn_all_active\").removeClass(\"active\");\\n\\t            \\tstagId.split(\\',\\').forEach(function(brandId) {\\n\\t            \\t\\t$(\\'#taglist li[id=\"\\' + brandId.replace(/#/gi, \\'\\') + \\'\"] button\\').addClass(\\'active\\');\\n\\t            \\t});\\n            \\t}, 75);\\n            }\\n            if (arr_param[10] == \\'block\\') {\\n                $(\\'.option_form\\').css(\\'display\\', arr_param[10]);\\n                $(\\'#sort .option\\').addClass(\\'on\\');\\n                optionViewKind = true;\\n            } else if (arr_param[10] == [\\'none\\']) {\\n                $(\\'.option_form\\').css(\\'display\\', arr_param[10]);\\n                $(\\'#sort .option\\').removeClass(\\'on\\');\\n                optionViewKind = false;\\n            }\\n         } else {\\n            hpage = 1;\\n            spage = 1;\\n            hkeyword = keyword;\\n            htab = tab;\\n            sortIdx = \\'1\\';\\n         }\\n\\n         if( hkeyword == \\'\\' || hkeyword == undefined ) {\\n            hkeyword = \\'\\';\\n            $(\\'.btn_del\\').attr(\\'class\\',\\'btn_del\\');\\n         } else {\\n            $(\\'#inp_search\\').val(hkeyword);\\n            $(\\'.btn_del\\').attr(\\'class\\',\\'btn_del on\\');\\n         }\\n\\n         $(\"#sort #sorting_options button\").each(function( index ) {\\n            $(this).removeClass(\"on\");\\n            if( $(this).attr(\\'id\\') == sortIdx ) {\\n               $(this).addClass(\"on\");\\n            }\\n         });\\n\\n         $(\\'#event_status_filters > button\\').removeClass(\"on\");\\n         $(\\'#event_status_filters > #\\' + evtFilter).addClass(\"on\");\\n\\n         ajaxLoadRecommandPop();      // 추천검색어\\n         ajaxLoadKeywordPop();      // 어제의 인기 검색어\\n\\n         saveUserSearchKeyword();\\n\\n         tab_view2(htab);\\n      }\\n\\n      // saerch_list.html 현재 문서 내 검색창의 검색어 유무 아이콘 처리\\n      function checkDeleteButton() {\\n\\n         keyword = $(\\'#inp_search\\').val();\\n\\n         if( keyword == \\'\\' || keyword == undefined ) {\\n            keyword = \\'\\';\\n            $(\\'.btn_del\\').attr(\\'class\\',\\'btn_del\\');\\n         } else {\\n            $(\\'.btn_del\\').attr(\\'class\\',\\'btn_del on\\');\\n         }\\n      }\\n\\n      // 검색버튼 클릭 함수\\n      function btnSearchClick() {\\n         keyword = $(\\'#inp_search\\').val();\\n         if(keyword !== \\'\\'){\\n            //$(\\'.btn_del\\').addClass(\\'btn_del on\\');\\n            $(\\'.btn_del\\').attr(\\'class\\',\\'btn_del on\\');\\n         }else{\\n            $(\\'.btn_del\\').attr(\\'class\\',\\'btn_del\\');\\n         }\\n\\n         hkeyword = keyword;\\n         spage = 1;\\n         hpage = 1;\\n         location.href = \\'/search/search_list.do?keyword=\\'+encodeURIComponent(hkeyword);\\n      }\\n\\n      // 검색어 삭제 함수\\n      function clearKeyword() {\\n         $(\\'#inp_search\\').val(\\'\\');\\n         $(\\'.btn_del\\').attr(\\'class\\',\\'btn_del\\');\\n      }\\n\\n      function tab_view(num) {\\n         hpage = 1;\\n         tab_view2(num);\\n      }\\n\\n      // 검색 분류 탭: 전체, 여행정보, 여행기사, 축제, 이미지/동영상\\n      function tab_view2(num) {\\n         //탭 이동 시 초기화\\n         spage = hpage;\\n         collection = \"\";\\n         contentType = \"\";\\n         contentType2 = \"\";\\n         tab = num;\\n         keyword = $(\\'#inp_search\\').val();      // 탭 이동 시 keyword 검색결과 반영\\n\\n         if(keyword !== \\'\\'){\\n            $(\\'.btn_del\\').attr(\\'class\\',\\'btn_del on\\');\\n         }else {\\n            $(\\'.btn_del\\').attr(\\'class\\',\\'btn_del\\');\\n         }\\n\\n         switch (num) {\\n         case \\'1\\':   // DB 콘텐츠\\n            collection = \"content\";\\n            contentType = \"course|attraction\";\\n            searchtype = \\'여행정보\\';\\n            $(\\'#sort\\').show();\\n            $(\\'#sorting_options\\').show();\\n            $(\\'#event_status_filters\\').hide();\\n            $(\\'.search_menu li\\').removeClass(\\'on\\');\\n            break;\\n\\n         case \\'2\\':   // 추천\\n            collection = \"content\";\\n            contentType = \"recommend\";\\n            searchtype = \\'여행기사\\';\\n            $(\\'#sort\\').show();\\n            $(\\'#sorting_options\\').show();\\n            $(\\'#event_status_filters\\').hide();\\n            $(\\'.search_menu li\\').removeClass(\\'on\\');\\n            break;\\n\\n         case \\'3\\':   // 축제\\n            collection = \"content\";\\n            contentType = \"festival\";\\n            searchtype = \\'축제\\';\\n            $(\\'#sort\\').show();\\n            $(\\'#sorting_options\\').show();\\n            $(\\'#event_status_filters\\').hide();\\n            $(\\'.search_menu li\\').removeClass(\\'on\\');\\n            break;\\n\\n         case \\'4\\':   // 이미지,동영상... 현재 사용하지 않음.\\n            collection = \"media\";\\n            contentType = \"\";\\n            startcount = 12;\\n            scnt = 12;\\n            searchtype = \\'이미지\\';\\n            $(\\'#sort #sorting_options button\\').removeClass(\\'on\\');\\n            $(\\'#sort #sorting_options #1\\').addClass(\\'on\\');\\n\\n            $(\\'#sort\\').hide();\\n            $(\\'.search_menu li\\').removeClass(\\'on\\');\\n            break;\\n\\n         case \\'5\\':   // 이벤트\\n            collection = \"content\";\\n            contentType = \"event\";\\n            searchtype = \\'이벤트\\';\\n            $(\\'#sort\\').show();\\n            $(\\'#sorting_options\\').hide();\\n            $(\\'#event_status_filters\\').show();\\n            $(\\'.search_menu li\\').removeClass(\\'on\\');\\n            break;\\n\\n         default:   // 전체\\n            num = 0;\\n            collection = \"content\";\\n            contentType = \"recommend|course|attraction|festival|event\";\\n            searchtype = \\'전체\\';\\n            $(\\'#sort\\').show();\\n            $(\\'#sorting_options\\').show();\\n            $(\\'#event_status_filters\\').hide();\\n            $(\\'.search_menu li\\').removeClass(\\'on\\');\\n         }\\n\\n         $(\\'#tabView\\'+num).attr(\\'class\\', \\'on\\');\\n\\n         changeListType(listType);\\n      }\\n\\n      // 리스트 타입 전환\\n      function changeListType(type) {\\n         listType = type;\\n\\n         if(mobileYn == \\'Y\\') {\\n            switch (listType) {\\n            case \\'list\\':\\n               $(\\'#moListType\\').addClass(\\'mo_img\\');\\n               $(\\'#moListType\\').html(\\'이미지 형\\');\\n               $(\\'#moListType\\').attr(\\'onclick\\', \\'changeListType(\"img\");\\');\\n               break;\\n            case \\'img\\':\\n               $(\\'#moListType\\').removeClass(\\'mo_img\\');\\n               $(\\'#moListType\\').html(\\'리스트 형\\');\\n               $(\\'#moListType\\').attr(\\'onclick\\', \\'changeListType(\"list\");\\');\\n               break;\\n            }\\n         } else {\\n            $(\\'.list_type button\\').removeClass(\\'on\\');\\n            $(\\'.list_type button\\').removeAttr(\\'title\\');\\n            $(\\'.list_type .\\'+type).addClass(\\'on\\');\\n            $(\\'.list_type .\\'+type).attr(\\'title\\',\\'선택됨\\');\\n            if (type == \\'list\\') {\\n            \\t$(\\'#moListType\\').attr(\\'onclick\\', \\'changeListType(\"img\");\\');\\n            } else if (type == \\'img\\') {\\n            \\t$(\\'#moListType\\').attr(\\'onclick\\', \\'changeListType(\"list\");\\');\\n            }\\n         }\\n\\n         spage = hpage;\\n\\n         setCookie(\\'searchListType\\', listType , 364);\\n\\n         getContentList();\\n      }\\n\\n      // 정렬 전환\\n      function changeSort(sort){\\n         $(\\'#sort > #sorting_options > button\\').removeClass(\\'on\\');\\n         $(\\'#sort > #sorting_options > #\\'+sort).addClass(\\'on\\');\\n         sortIdx = sort;\\n         spage = 1;\\n         hpage = 1;\\n\\n         switch (sort) {\\n         case \\'1\\': sorttype = \\'관련도순\\'; break;\\n         case \\'2\\': sorttype = \\'최신순\\'; break;\\n         case \\'3\\': sorttype = \\'인기순\\'; break;\\n         }\\n         getContentList();\\n      }\\n\\n      // 이벤트 필터 전환.\\n      function changeEvtSort(option) {\\n    \\t  evtFilter = option;\\n    \\t  getContentList();\\n      }\\n\\n      // 옵션 뷰\\n      function optionView(){\\n\\n         var optionBtn = $(\\'#sort .option\\');\\n\\n         if(optionViewKind) {\\n            $(\\'.option_form\\').hide();\\n            optionBtn.removeClass(\\'on\\');\\n         } else {\\n            $(\\'.option_form\\').show();\\n            optionBtn.addClass(\\'on\\');\\n         }\\n\\n         optionViewKind = !optionViewKind;\\n      }\\n\\n      function setGTMDimension(inflowType, dataAmount) {\\n    \\t  if (typeof dataLayer == \\'undefined\\' || dataLayer == null) {\\n    \\t  \\treturn;\\n    \\t  } else if (firstGtmSetFlag) {\\n    \\t\\tdataLayer.push({\\n    \\t\\t  \"dimension12\": \\'봄 여행\\',\\n    \\t\\t  \"dimension13\": null,\\n    \\t\\t  \"dimension14\": null,\\n    \\t\\t  \"dimension15\": dataAmount > 0 ? \\'Y\\' : \\'N\\',\\n    \\t\\t});\\n    \\t  \\tfirstGtmSetFlag = false;\\n    \\t  \\treturn;// Ajax 방식 사용이 아닌, 첫 페이지 로드 시에는 다른 세팅을 하지 않고 리턴함. (gaPage.jsp에서 처리.)\\n    \\t  }\\n\\n    \\t  let d12 = null;\\n    \\t  let d13 = null;\\n    \\t  let d14 = null;\\n\\n    \\t  if (inflowType == \\'popKeyword\\') {\\n    \\t\\t  d13 = hkeyword;\\n    \\t  } else if (inflowType == \\'recommKeyword\\') {\\n    \\t\\t  d14 = hkeyword;\\n    \\t  } else {\\n    \\t\\t  d12 = hkeyword;\\n    \\t  }\\n\\n    \\t  dataLayer.push({\\n    \\t\\t  \"dimension12\": d12,\\n    \\t\\t  \"dimension13\": d13,\\n    \\t\\t  \"dimension14\": d14,\\n    \\t\\t  \"dimension15\": dataAmount > 0 ? \\'Y\\' : \\'N\\',\\n    \\t  });\\n      }\\n\\n      // 콘텐츠 분야별 검색조건 함수(탭이동)\\n      function getContentList(inflowType) {\\n\\n         showLoding();\\n         $(\\'#blindsearchtype\\').text(searchtype + \\' - \\' + sorttype);\\n         var searchAdd = $(\\'#searchAdd\\').val();\\n        if(searchAdd.indexOf(\\'\\\\\"\\\\\"\\\\\"\\\\\"\\') != -1){\\n            searchAdd = searchAdd.replace(\\'\\\\\"\\\\\"\\\\\"\\\\\"\\',\\'\\')\\n        }\\n\\n         if(getresultChk2(hkeyword) == true){\\n             contentSearchField = \\'TITLE/50,DISPLAY_TITLE/50,AREA_NAME/100,SIGUGUN_NAME/100\\';\\n         }\\n\\n         if(collection == \\'media\\'){\\n            startcount = 10;\\n            scnt = 10;\\n            $(\\'.option\\').removeClass(\\'on\\');\\n            $(\\'.option_form\\').hide();\\n            $(\\'.list_type\\').hide();\\n            $(\\'.total_check\\').css(\\'height\\', \\'0px\\');\\n            searchAdd = \\'\\';\\n         } else {\\n            if(searchAdd != \\'\\') {\\n               searchAdd = \\' \\' + searchAdd;\\n               $(\\'.option\\').addClass(\\'on\\');\\n               $(\\'.option_form\\').show();\\n            }\\n\\n            if(listType == \\'img\\'){\\n               startcount = 20;\\n               scnt = 20;\\n            } else {\\n               startcount = 10;\\n               scnt = 10;\\n            }\\n            $(\\'.list_type\\').show();\\n            $(\\'.total_check\\').css(\\'height\\', \\'49px\\');\\n         }\\n\\n         $(\\'.search_body\\').hide();\\n         $(\\'.page_box\\').hide();\\n\\n         if(collection==\\'media\\'){\\n            contentType2 = collection;\\n         } else {\\n            contentType2 = \\'\\';\\n         }\\n\\n         switch (sortIdx) {\\n         case \\'1\\': sort = \\'RANK/DESC\\'; break;\\n         case \\'2\\': sort = \\'FINAL_MODIFIED_DATE/DESC\\'; break;\\n         case \\'3\\': sort = \\'VIEW_CNT/DESC\\'; break;\\n         default: sort = \\'RANK/DESC\\';\\n         }\\n\\n         var querykeyword = hkeyword + searchAdd\\n         if(querykeyword == \\'\\')\\n            querykeyword = \\' \\';\\n         else if (querykeyword == \\'\\\\\"\\\\\"\\') {\\n             querykeyword = \\' \\';\\n             hkeyword = \\' \\';\\n         }\\n         $(\\'.proper_name\\').hide();\\n\\n         // 브랜드 키워드(고유명사) 검색\\n         $.ajax({\\n        \\t url: mainurl + \"/call\",\\n        \\t dataType: \"json\",\\n        \\t type: \"POST\",\\n        \\t data: {\\n        \\t\\t cmd: \"GET_OTD_N_PROPER\",\\n        \\t\\t keyword: hkeyword,\\n        \\t },\\n        \\t success: function(data) {\\n        \\t\\t $(\"#brand_p_noun\").attr(\"style\", \"display: block;\")\\n        \\t\\t var otdNProp = data.body.result;\\n\\n        \\t\\t let brndNHtml = \\'\\';\\n        \\t\\t brndNHtml += \\'<div class=\"wrap\">\\';\\n        \\t\\t brndNHtml += \\'    <span class=\"img\">\\';\\n        \\t\\t brndNHtml += \\'        <a href=\"\\' + mainurl + otdNProp.MN_URL + \\'\" style=\"background: url(\\' + mainimgurl + otdNProp.N_PROPER_IMG_ID + \\') 50% 50% / cover no-repeat;\"></a>\\';\\n        \\t\\t brndNHtml += \\'    </span>\\';\\n        \\t\\t brndNHtml += \\'    <div class=\"cont\">\\';\\n        \\t\\t brndNHtml += \\'        <span class=\"route\"><a href=\"\\' + mainurl + \\'/main/main.do#other\">대한민국구석구석 &gt; 특집관</a></span>\\';\\n        \\t\\t brndNHtml += \\'        <strong><a href=\"\\' + mainurl + otdNProp.MN_URL + \\'\">\\' + otdNProp.MN_TITLE + \\'</a></strong>\\';\\n        \\t\\t brndNHtml += \\'        <p>\\' + otdNProp.MN_DESC + \\'</p>\\';\\n        \\t\\t brndNHtml += \\'    </div>\\';\\n        \\t\\t brndNHtml += \\'</div>\\';\\n        \\t\\t brndNHtml += \\'<div class=\"link\">\\';\\n        \\t\\t brndNHtml += \\'    <span><a href=\"\\' + mainurl + otdNProp.MN_URL + \\'\">바로가기</a></span>\\';\\n         \\t\\t brndNHtml += \\'    <span><a href=\"\\' + mainurl + \\'/other/other_list.do?otdid=\\' + otdNProp.OTD_ID + \\'\">브랜드 콘텐츠 모아보기</a></span>\\';\\n        \\t\\t brndNHtml += \\'</div>\\';\\n        \\t\\t brndNHtml += \\'\\';\\n\\n        \\t\\t $(\"#brand_p_noun\").html(brndNHtml);\\n        \\t },\\n        \\t complete: function() {\\n        \\t },\\n        \\t error: function() {\\n        \\t\\t $(\"#brand_p_noun\").attr(\"style\", \"display: none;\");\\n        \\t },\\n         });\\n\\n         //고유명사 검색\\n         $.ajax({\\n            url: mainurl+\\'/call\\',\\n            dataType: \\'json\\',\\n            type: \"POST\",\\n            data: {\\n               cmd : \\'GET_PROPER_NAME\\',\\n               keyword : hkeyword,\\n               locationx : locationx+\\'\\',\\n               locationy : locationy+\\'\\',\\n            },\\n            success: function(data) {\\n\\n                // 키워드 검색가중치 설정\\n                if(data.body.searchweight){\\n                    contentSearchField = data.body.searchweight.weight.replace(\\'SIGUNGU_NAME\\',\\'SIGUGUN_NAME\\');\\n                }\\n\\n            \\tif(data.body.result.length != 0 && data.body.result[0].dispYn == \\'Y\\' && data.body.result[0].contentStatus == 2){\\n                  $(\\'.proper_name\\').show();\\n                  properYN = \"Y\";\\n\\n\\n                  // 태그 부분 시작\\n                 \\tvar rTagName;\\n                 \\tvar rTagId;\\n                 \\tif( data.body.result[0].tagName != null ) {\\n                 \\t\\trTagName = data.body.result[0].tagName.split(\"|\");\\n                 \\t\\trTagId = data.body.result[0].tagId.split(\"|\");\\n                 \\t\\tvar tagHtml = \"\";\\n\\n                 \\t\\ttagHtml += \\'<ul id=\"tagUl\">\\';\\n                 \\t\\tfor (var i in rTagName) {\\n                 \\t\\t\\ttagHtml += \\'<li><a href=javascript:goTagList(\"\\'+sContentType+\\'\",\"\\'+rTagName[i]+\\'\",\"\\'+rTagId[i]+\\'\")>\\'+\\'#\\'+rTagName[i]+\\'</a></li>\\';\\n                 \\t\\t}\\n                 \\t\\ttagHtml += \\'</ul>\\';\\n\\n                 \\t\\t$(\\'.proper_name .tag\\').html(tagHtml);\\n\\n                 \\t}\\n                 \\tsub_TagList();\\n\\n                  \\t$(\\'#tagDisplayBtn\\').on(\"click\", function(){\\n                 \\t\\t$(\"#tagUl\").css(\"height\",\"\");\\n                 \\t\\t$(\\'#tagDisplayBtn\\').css(\\'display\\', \\'none\\');\\n                 \\t});\\n\\n\\n\\n                 // 컨텐츠 변수\\n                \\tconLocationx = data.body.result[0].mapX;\\n                \\tconLocationy = data.body.result[0].mapY;\\n                \\tmapCenterlocationx = conLocationy;\\n                \\tmapCenterlocationy = conLocationx;\\n                \\tmapCenterwgsy = data.body.result[0].wgsY;\\n                \\tmapCenterwgsx = data.body.result[0].wgsX;\\n                \\tproperCotId = data.body.result[0].cotId;\\n                \\tproperCotentsType = data.body.result[0].contentsType;\\n                \\tproperImgId = data.body.result[0].imgId;\\n                \\tproperImgUrl = data.body.result[0].imgUrl;\\n                \\tproperTitle = data.body.result[0].title;\\n                \\tproperDistance = data.body.result[0].distance;\\n                \\tproperCat1 = data.body.result[0].cat1;\\n                \\tproperCat2 = data.body.result[0].cat2;\\n                \\tproperAreacode = data.body.result[0].areacode;\\n\\n\\n\\n                    //고유명사 상세정보\\n                    var titleHtml = \"\";\\n\\n                    titleHtml += \\'<strong class=\"tit\"><a id=\"properTitle\" href=\"javascript:goSearchDetail(\\\\\\'\\'+properCotId+\\'\\\\\\');\"></a></strong>\\';\\n                    titleHtml += \\'<span class=\"btn_detail\">\\';\\n                    titleHtml += \\'\\t<a href=\"javascript:goSearchDetail(\\\\\\'\\'+properCotId+\\'\\\\\\');\">자세히보기</a>\\';\\n                    titleHtml += \\'</span>\\';\\n\\n                    $(\\'.properTitle\\').html(titleHtml);\\n\\n                    var title = data.body.result[0].keywd;\\n                    title = title.replace(\"\\\\\"\", \"\");\\n                    $(\"a[id=properTitle]\").text(title);\\n\\n                    var addrInfo = data.body.result[0].addrInfo;\\n                    if(addrInfo != undefined){\\n\\t                    addrInfo = addrInfo.replace(\"\\\\\"\", \"\");\\n\\t                    $(\"#properAddrInfo\").html(addrInfo);\\n                    }\\n\\n\\n                  //고유명사 사전 문의 및 안내 설정\\n\\t\\t\\t\\t\\tif(properCotentsType == 12) {\\n\\t                   \\tvar addInfo = data.body.result[0].tourlistSpotInfo;\\n\\t                    if(addInfo != undefined){\\n\\t\\t                    addInfo = addInfo.replace(\"\\\\\"\", \"\");\\n\\t\\t                    $(\"span[id=properAddInfo]\").html(addInfo);\\n\\t                    }\\n\\t\\t\\t\\t\\t\\t//관광지\\n\\n\\t\\t\\t\\t\\t} else if (properCotentsType == 14){\\n\\t                    var addInfo = data.body.result[0].culturalInfo;\\n\\t                    if(addInfo != undefined){\\n\\t\\t                    addInfo = addInfo.replace(\"\\\\\"\", \"\");\\n\\t\\t                    $(\"span[id=properAddInfo]\").html(addInfo);\\n\\t                    }\\n\\t\\t\\t\\t\\t\\t//문화시설\\n\\n\\n\\t\\t\\t\\t\\t} else if (properCotentsType == 28){\\n\\t                    var addInfo = data.body.result[0].leportsInfo;\\n\\t                    if(addInfo != undefined){\\n\\t\\t                    addInfo = addInfo.replace(\"\\\\\"\", \"\");\\n\\t                    \\t$(\"span[id=properAddInfo]\").html(addInfo);\\n\\t                    }\\n\\n\\t\\t\\t\\t\\t\\t//레포츠\\n\\n\\n\\t\\t\\t\\t\\t} else if (properCotentsType == 32){\\n\\t                    var addInfo = data.body.result[0].accInfo;\\n\\t                    if(addInfo != undefined){\\n\\t\\t                    addInfo = addInfo.replace(\"\\\\\"\", \"\");\\n\\t\\t                    $(\"span[id=properAddInfo]\").html(addInfo);\\n\\t                    }\\n\\t\\t\\t\\t\\t\\t//숙박\\n\\n\\n\\t\\t\\t\\t\\t} else if (properCotentsType == 38){\\n\\t                    var addInfo = data.body.result[0].shoppingInfo;\\n\\t                    if(addInfo != undefined){\\n\\t\\t                    addInfo = addInfo.replace(\"\\\\\"\", \"\");\\n\\t\\t                    $(\"span[id=properAddInfo]\").html(addInfo);\\n\\t                    }\\n\\t\\t\\t\\t\\t\\t//쇼핑\\n\\n\\n\\t\\t\\t\\t\\t} else if (properCotentsType == 39){\\n\\t                    var addInfo = data.body.result[0].eateryInfo;\\n\\t                    if(addInfo != undefined){\\n\\t\\t                    addInfo = addInfo.replace(\"\\\\\"\", \"\");\\n\\t\\t                    $(\"span[id=properAddInfo]\").html(addInfo);\\n\\t                    }\\n\\t\\t\\t\\t\\t\\t//음식점\\n\\n\\n\\t\\t\\t\\t\\t} else if (properCotentsType == 15){\\n\\t                    var addInfo = data.body.result[0].addInfo;\\n\\t                    if(addInfo != undefined){\\n\\t\\t                    addInfo = addInfo.replace(\"\\\\\"\", \"\");\\n\\t\\t                    $(\"span[id=properAddInfo]\").html(addInfo);\\n\\t                    }\\n\\t\\t\\t\\t\\t\\t//축제공연행사\\n\\n\\t\\t\\t\\t\\t}\\n\\n\\n                    //고유명사 지도\\n                \\tvar proHtml = \"\";\\n\\n                \\tproHtml += \\'<a href=\"javascript:goSearchDetail(\\\\\\'\\'+properCotId+\\'\\\\\\');\" class=\"img\" style=\"background-image: url(\\'+mainimgurl+properImgId+\\');\">\\';\\n                \\t// if(getresultChk1(properCotId) == \\'Y\\')\\n                \\t// \\tproHtml += \\'<em class=\"forecast_icon\">여행예보</em>\\';\\n               \\t\\t\\tproHtml += \\'   <span class=\"distance\"><strong>내 위치에서</strong>\\'+Math.round(properDistance*10)/10+\\' Km</span>\\';\\n                \\tproHtml += \\'   </a>\\';\\n\\n\\n                \\t$(\\'#properThumb\\').html(proHtml);\\n\\n                 \\tlistMap(mapCenterlocationx, mapCenterlocationy);\\n\\n\\n                \\t//고유명사 버튼\\n                 \\tvar btnHtml = \"\";\\n\\n                    btnHtml += \\'<li><span class=\"icon1\"><button type=\"button\" class=\"roadbutton\">길안내</button></span></li>\\';\\n                 \\tbtnHtml += \\'<li class=\"btn_far\"><span class=\"icon2\" id=\"favoIcon\"><button type=\"button\" onclick=\"setFavoProper(\\\\\\'\\'+properCotId+\\'\\\\\\');\" id=\"favoBtn\"><a href=\"javascript:;\" id=\"favo\">즐겨찾기</a></button></span></li>\\';\\n                    btnHtml += \\'<li class=\"btn_share\" id=\"\\'+properCotId+\\'\"><span class=\"icon3\"><button type=\"button\" onclick=\\\\\\'getShareInfo(\"\\'+ encodeURIComponent(quotReplace(properTitle))+ \\'\",\"\\'+ properImgId+ \\'\",\"\\'+ properCotId+ \\'\",\"\\'+properCotentsType+\\'\");\\\\\\'\">공유하기</button></span></li>\\';\\n                    btnHtml += \\'<li><span class=\"icon4\"><button type=\"button\" onclick=\\\\\\'myCourseList(\"C\",\"\\'+properCotentsType+\\'\",\"\\'+ properCotId+ \\'\",\"\")\\\\\\'>코스담기</button></span></li>\\';\\n\\n\\n                    $(\\'.properBtn .btn\\').html(btnHtml);\\n\\n\\n                    detailHtml = \"\";\\n\\n                    detailHtml += \\'<a href=\"javascript:goProperDetail(\\\\\\'\\'+properCotId+\\'\\\\\\',\\\\\\'\\'+ properCat1+\\'\\\\\\',\\\\\\'\\'+ properCat2+\\'\\\\\\',\\\\\\'\\'+ properAreacode+\\'\\\\\\');\">자세히보기</a>\\';\\n\\n\\n                    $(\\'#detailBtn\\').html(detailHtml);\\n\\n                    // 상세정보 영역 설정.\\n                    if (addInfo == \\'\\' || addInfo == null) {\\n                    \\t$(\\'#detailInfo\\').css(\"display\",\"none\");\\n                    }\\n\\n                    $(\"#safetyRate\").remove();\\n                    /* fetchSafetyRateByCotId(\\n                    properCotId\\n                    , function(percentage, safetyRate) {// 안전지수 가져오기 onSuccess 콜백.\\n                        $(\"#safetyRate .progress\").attr(\"data-percent\", percentage);\\n                        $(\"#safetyRate .progress\").addClass(safetyRate);\\n\\n                        switch (safetyRate) {\\n                        case \"good\":\\n                            $(\"#safetyRate .progress em\").text(\"양호\");\\n                            $(\"#progress_desc\").text(\"혼잡하지 않은 지역입니다. 생활 방역은 항상 지켜주세요.\");\\n                            break;\\n                        case \"average\":\\n                            $(\"#safetyRate .progress em\").text(\"보통\");\\n                            $(\"#progress_desc\").text(\"방문에 큰 문제가 없는 지역입니다. 사회적 거리두기는 늘 지켜주세요.\");\\n                            break;\\n                        case \"care\":\\n                            $(\"#safetyRate .progress em\").text(\"주의\");\\n                            $(\"#progress_desc\").text(\"조금 혼잡한 지역입니다. 방역에 주의해주세요.\");\\n                            break;\\n                        case \"vigilance\":\\n                            $(\"#safetyRate .progress em\").text(\"경계\");\\n                            $(\"#progress_desc\").text(\"매우 혼잡한 지역입니다. 방역에 각별히 주의해주세요.\");\\n                            break;\\n\\n                        default:\\n                            break;\\n                        }\\n\\n                        $(\\'.option_form .mo_close button\\').click(function(){\\n                            var prt = $(this).parent();\\n                            if(!prt.hasClass(\\'close\\')){\\n                                prt.addClass(\\'close\\');\\n                                $(this).text(\\'열기\\');\\n                            }else{\\n                                prt.removeClass(\\'close\\');\\n                                $(this).text(\\'닫기\\');\\n                            }\\n                        });\\n\\n                        (function(){\\n                            var doms = \\'\\';\\n                            var $m = $(\\'.progress\\');\\n                            var $data = $m.find(\\'span\\');\\n                            var data = $m.data(\\'percent\\');\\n                            var com = Math.round(data / 100 * 360);\\n                            var dur = 2000;\\n\\n                            var getVendorPrefix = function() {\\n                                var body = document.body || document.documentElement,\\n                                    style = body.style,\\n                                    transition = \"Transition\",\\n                                    vendor = [\"Moz\", \"Webkit\", \"ms\"],\\n                                    lastGage,\\n                                    i = 0;\\n                                while (i < vendor.length) {\\n                                    if (typeof style[vendor[i] + transition] === \"string\") {\\n                                        return vendor[i];\\n                                    }\\n                                    i++;\\n                                }\\n                                return false;\\n                            };\\n                            var prefix = getVendorPrefix();\\n                            var transform = prefix + \\'Transform\\';\\n\\n                            for(var i=0; i <= com; i++){\\n                            doms = \\'<div class=\"gage-bar\"></div>\\';\\n                            $m.append(doms);\\n                            $(\\'.gage-bar:last\\').css(transform, \\'rotate(\\' + i + \\'deg)\\');\\n                            }\\n\\n                            //$m.append(doms);\\n\\n                            $m.find(\\'div\\').each(function(index, item){\\n                            $(item).stop().delay(index * 5).fadeIn(50);\\n                            });\\n\\n                            for(var j=0; j <= data; j++){\\n                                (function(index){\\n                                var time = (360/100*index)*5;\\n                                    setTimeout(function(){\\n                                        $data.text( index + \\'%\\');\\n                                    }, time);\\n                                })(j);\\n                            }\\n                        })();\\n\\n                        var ww = $(window).width();\\n                        $(window).on(\\'resize\\', function () {\\n                            ww = $(window).width();\\n                        });\\n\\n                        $(\\'#safetyRate .index .stit\\').click(function() {\\n                            if (ww < 1024) {\\n                                var prt= $(\\'#safetyRate .index\\');\\n\\n                                if (prt.hasClass(\\'on\\')) {\\n                                    prt.removeClass(\\'on\\');\\n                                } else {\\n                                    prt.addClass(\\'on\\');\\n                                }\\n                            }\\n                        });\\n\\n                        $(\\'#safetyRate .index .stit\\').hover(function() {\\n                            if (ww >= 1024) {\\n                                $(\\'#safetyRate .index\\').addClass(\\'on\\');\\n                            }\\n                        }, function() {\\n                            if (ww >= 1024) {\\n                                $(\\'#safetyRate .index\\').removeClass(\\'on\\');\\n                            }\\n                        });\\n                    }\\n                    , function() {// 안전지수 가져오기 onFail 콜백.\\n                        $(\"#safetyRate\").remove();\\n                    }\\n                    );// fetchSafetyRateByCotId(a, b, c); 함수 종료.\\n                    */\\n                \\t// 길찾기\\n\\n                \\tif(mobileYn == \\'Y\\'){\\n                \\t\\t$(\\'.roadbutton\\').attr(\\'id\\', \\'mobileY\\');\\n                \\t\\tneviTitle = encodeURI(properTitle.replace(/\\\\//gi,\"_\").replace(/,/gi,\".\"));\\n                  \\t\\tneviX = mapCenterlocationy;\\n                  \\t\\tneviY = mapCenterlocationx;\\n\\n                  \\t\\t$(\\'#mobileY\\').attr(\\'onclick\\', \"showNevi();\");\\n\\n                \\t} else {\\n                \\t\\t$(\\'.roadbutton\\').attr(\\'id\\', \\'mobileN\\');\\n                \\t\\t$(\\'#mobileN\\').attr(\\'onclick\\', \"openWindow(\\'https://map.kakao.com/link/to/\"+properTitle+\",\"+mapCenterlocationx+\",\"+mapCenterlocationy+\"\\');\");\\n                \\t}\\n\\n\\n\\t\\t\\t\\t  \\t//지도 클릭-상세페이지 이동\\n\\t\\t\\t\\t  \\t$(\\'#map\\').find(\\'a\\').on(\\'click\\', function(e) {\\n\\n\\t\\t\\t\\t  \\t\\tif(mobileYn == \\'Y\\'){\\n\\t\\t\\t\\t  \\t\\t\\te.preventDefault();\\n\\t\\t\\t\\t  \\t\\t\\tgoProperDetail(properCotId,properCat1,properCat2,properAreacode);\\n\\n\\t                \\t} else {\\n\\t                \\t\\te.preventDefault();\\n\\t\\t\\t\\t\\t  \\t\\twindow.location.hash = \"#\" +$(document).scrollTop() +\\'^\\'+spage+\\'^\\'+encodeURI(hkeyword)+\\'^\\'+tab+\\'^\\'+sortIdx+\\'^\\'+evtFilter+\\'^\\'+encodeURI($(\\'#searchAdd\\').val())+\\'^\\'+sareaCode+\\'^\\'+ssigunguCode+\\'^\\'+stagId+\\'^\\'+$(\\'.option_form\\').css(\\'display\\');\\n\\t\\t\\t\\t\\t  \\t\\tlocation.href = \\'/detail/ms_detail.do?cotid=\\'+properCotId+\\'&big_category=\\'+properCat1+\\'&from=Y\\'+\\'&mid_category=\\'+properCat2+\\'&big_area=\\'+properAreacode+\\'#detailGo\\';\\n\\t                \\t}\\n\\n\\t\\t\\t\\t  \\t});\\n\\n                \\t//지도 펼치기\\n\\t\\t\\t\\t  \\t$(\\'#mapOpen\\').on(\\'click\\' ,function() {\\n\\t\\t\\t\\t  \\t\\topenWindow($(\\'#map\\').find(\\'a\\').attr(\\'href\\'))\\n\\t\\t\\t\\t  \\t});\\n\\n\\t\\t\\t\\t  \\t//고유명사 제목 클릭 이벤트\\n\\t\\t\\t\\t  \\t$(\\'#properTitle\\').on(\\'click\\', function() {\\n\\t\\t\\t\\t  \\t\\tgoSearchDetail(properCotId);\\n\\t\\t\\t\\t  \\t});\\n\\n\\t\\t\\t\\t  \\t//즐겨찾기 버튼 클릭 이벤트\\n/* \\t\\t\\t\\t   \\t$(\\'#favoBtn #favo\\').on(\\'click\\', function() {\\n\\t\\t\\t\\t  \\t\\tif(snsId != \"\") {\\n\\t\\t\\t\\t\\t  \\t\\t$(\\'#favoIcon\\').attr(\\'class\\',\\'icon2 on\\');\\n\\t\\t\\t\\t  \\t\\t}\\n\\n\\t\\t\\t\\t  \\t//\\tonclick=\\\\\\'setFavoContent(\"\\'   + properCotId + \\'\")\\\\\\'\\n\\t\\t\\t\\t\\t});   */\\n\\n\\t\\t\\t\\t\\t//카카오톡공유하기 desc 설정\\n\\t\\t\\t\\t\\tif(properCotentsType == 12) {\\n\\t\\t\\t\\t\\t\\t//관광지\\n\\t\\t\\t\\t\\t\\tif(addrInfo != null){\\n\\t\\t\\t\\t\\t\\t\\tShareDesc1 = \\'주소 : \\' + addrInfo;\\n\\t\\t\\t\\t\\t\\t}\\n\\t\\t\\t\\t\\t\\tif(data.body.result[0].tourlistSpotRestDate != null){\\n\\t\\t\\t\\t\\t\\t\\tif(data.body.result[0].tourlistSpotRestDate != \"\"){\\n\\n\\t\\t\\t\\t\\t\\t\\t\\tShareDesc2 = \\'쉬는날 : \\' + data.body.result[0].tourlistSpotRestDate;\\n\\t\\t\\t\\t\\t\\t\\t}\\n\\n\\t\\t\\t\\t\\t\\t}\\n\\n\\t\\t\\t\\t\\t} else if (properCotentsType == 14){\\n\\t\\t\\t\\t\\t\\t//문화시설\\n\\t\\t\\t\\t\\t\\tif(addrInfo != null){\\n\\n\\t\\t\\t\\t\\t\\t\\tShareDesc1 = \\'주소 : \\' + addrInfo;\\n\\t\\t\\t\\t\\t\\t}\\n\\t\\t\\t\\t\\t\\tif(data.body.result[0].culturalRestDate != null) {\\n\\t\\t\\t\\t\\t\\t\\tif(data.body.result[0].culturalRestDate != \"\"){\\n\\n\\t\\t\\t\\t\\t\\t\\t\\tShareDesc2 = \\'쉬는날 : \\' + data.body.result[0].culturalRestDate;\\n\\t\\t\\t\\t\\t\\t\\t}\\n\\n\\t\\t\\t\\t\\t\\t}\\n\\n\\t\\t\\t\\t\\t} else if (properCotentsType == 28){\\n\\t\\t\\t\\t\\t\\t//레포츠\\n\\t\\t\\t\\t\\t\\tif(addrInfo != null){\\n\\n\\t\\t\\t\\t\\t\\t\\tShareDesc1 = \\'주소 : \\' + addrInfo;\\n\\t\\t\\t\\t\\t\\t}\\n\\t\\t\\t\\t\\t\\tif(data.body.result[0].leportsUseTime != null) {\\n\\t\\t\\t\\t\\t\\t\\tif(data.body.result[0].leportsUseTime != \"\"){\\n\\n\\t\\t\\t\\t\\t\\t\\t\\tShareDesc2 = \\'이용시간 : \\' + data.body.result[0].leportsUseTime;\\n\\t\\t\\t\\t\\t\\t\\t}\\n\\n\\t\\t\\t\\t\\t\\t}\\n\\n\\t\\t\\t\\t\\t} else if (properCotentsType == 32){\\n\\t\\t\\t\\t\\t\\t//숙박\\n\\n\\t\\t\\t\\t\\t\\tif(addrInfo != null){\\n\\t\\t\\t\\t\\t\\t\\tShareDesc1 = \\'주소 : \\' + addrInfo;\\n\\n\\t\\t\\t\\t\\t\\t}\\n\\t\\t\\t\\t\\t\\tif(data.body.result[0].accContactInfo != null) {\\n\\t\\t\\t\\t\\t\\t\\tif(data.body.result[0].accContactInfo != \"\"){\\n\\n\\t\\t\\t\\t\\t\\t\\t\\tShareDesc2 = \\'연락처 : \\' + data.body.result[0].accContactInfo;\\n\\t\\t\\t\\t\\t\\t\\t}\\n\\n\\t\\t\\t\\t\\t\\t}\\n\\n\\t\\t\\t\\t\\t} else if (properCotentsType == 38){\\n\\t\\t\\t\\t\\t\\t//쇼핑\\n\\n\\t\\t\\t\\t\\t\\tif(addrInfo != null){\\n\\n\\t\\t\\t\\t\\t\\t\\tShareDesc1 = \\'주소 : \\' + addrInfo;\\n\\t\\t\\t\\t\\t\\t}\\n\\t\\t\\t\\t\\t\\tif(data.body.result[0].shoppingOpenTime != null) {\\n\\t\\t\\t\\t\\t\\t\\tif(data.body.result[0].shoppingOpenTime != \"\"){\\n\\n\\t\\t\\t\\t\\t\\t\\t\\tShareDesc2 = \\'영업시간 : \\' + data.body.result[0].shoppingOpenTime;\\n\\t\\t\\t\\t\\t\\t\\t}\\n\\n\\t\\t\\t\\t\\t\\t}\\n\\n\\t\\t\\t\\t\\t} else if (properCotentsType == 39){\\n\\t\\t\\t\\t\\t\\t//음식점\\n\\t\\t\\t\\t\\t\\tif(addrInfo != null){\\n\\n\\t\\t\\t\\t\\t\\t\\tShareDesc1 = \\'주소 : \\' + addrInfo;\\n\\t\\t\\t\\t\\t\\t}\\n\\t\\t\\t\\t\\t\\tif(data.body.result[0].eateryOpenTime != null) {\\n\\t\\t\\t\\t\\t\\t\\tif(data.body.result[0].eateryOpenTime != \"\"){\\n\\n\\t\\t\\t\\t\\t\\t\\t\\tShareDesc2 = \\'영업시간 : \\' + data.body.result[0].eateryOpenTime;\\n\\t\\t\\t\\t\\t\\t\\t}\\n\\n\\t\\t\\t\\t\\t\\t}\\n\\n\\t\\t\\t\\t\\t} else if (properCotentsType == 15){\\n\\t\\t\\t\\t\\t\\t//축제공연행사\\n\\t\\t\\t\\t\\t\\tif(addrInfo != null){\\n\\n\\t\\t\\t\\t\\t\\t\\tShareDesc1 = \\'주소 : \\' + addrInfo;\\n\\t\\t\\t\\t\\t\\t}\\n\\t\\t\\t\\t\\t\\tif(data.body.result[0].festivalPlayTime != null) {\\n\\t\\t\\t\\t\\t\\t\\tif(data.body.result[0].festivalPlayTime != \"\"){\\n\\n\\t\\t\\t\\t\\t\\t\\t\\tShareDesc2 = \\'행사시간 : \\' + data.body.result[0].festivalPlayTime;\\n\\t\\t\\t\\t\\t\\t\\t}\\n\\n\\t\\t\\t\\t\\t\\t}\\n\\n\\t\\t\\t\\t\\t}\\n\\n\\t\\t\\t\\t  \\tgetSnsFavorites(properCotId);\\n\\n                 }\\n\\n            },\\n            complete: function() {\\n            \\t/* 검색 API로 전달할 파라미터 설정. */\\n            \\tlet areaCodeArray = null;\\n            \\tlet sigunguCodeArray = null;\\n            \\tlet otdIdArray = null;\\n            \\tlet contentSatusArray = null;\\n            \\tif (sareaCode != null && sareaCode != \\'All\\') {\\n            \\t\\tareaCodeArray = sareaCode.split(\\',\\');\\n            \\t\\tif (ssigunguCode != null && ssigunguCode != \\'All\\') {\\n            \\t\\t\\tsigunguCodeArray = ssigunguCode.split(\\',\\');\\n            \\t\\t}\\n            \\t}\\n            \\tif (stagId != null && stagId != \\'All\\') {\\n            \\t\\totdIdArray = stagId.split(\\',\\');\\n            \\t\\tfor (let i=0; i<otdIdArray.length; i++) {\\n            \\t\\t\\totdIdArray[i] = otdIdArray[i].replace(/\\\\*/gi, \\'\\').replace(/#/gi, \\'\\');\\n            \\t\\t}\\n            \\t}\\n            \\tif (contentType == \\'event\\') {\\n            \\t\\tif (evtFilter == \\'전체\\') {\\n            \\t\\t\\tcontentSatusArray = null;\\n            \\t\\t} else if (evtFilter == \\'진행중\\') {\\n            \\t\\t\\tcontentSatusArray = [\\'4\\'];\\n            \\t\\t} else if (evtFilter == \\'종료\\') {\\n            \\t\\t\\tcontentSatusArray = [\\'5\\'];\\n            \\t\\t} else if (evtFilter == \\'당첨자발표\\') {\\n            \\t\\t\\tcontentSatusArray = [\\'6\\'];\\n            \\t\\t}\\n            \\t} else if (searchtype == \\'전체\\') {\\n            \\t\\tcontentSatusArray = [\\'2\\', \\'4\\'];\\n            \\t} else {\\n            \\t\\tcontentSatusArray = null;\\n            \\t}\\n            \\t/* 검색 API로 전달할 파라미터 설정. */\\n\\n            \\t$.ajax({\\n                    url : domainIfno+\\'/search_json.jsp\\',\\n                    dataType : \\'text\\',\\n                    type : \"POST\",\\n                    traditional : true,\\n                    data : {\\n                       query : querykeyword,\\n                       collection : collection,\\n                       contentTypeNameValue: contentType,\\n                       startCount : (hpage-1)*startcount,\\n                       contentSearchField : contentSearchField,   // 필드별 점수 가중치\\n                       areaCode: areaCodeArray,\\n                       sigugunCode: sigunguCodeArray,\\n                       otdId: otdIdArray,\\n                       contentStatus: contentSatusArray,\\n//                        rankOption : \\'rpkmo\\',                                                                              // rpkmo(필드,단어,키워드,가중치,키워드위치)\\n//                        rankOption : \\'rweight=0.3;pweight=0.2;fweight=0.1;mweight=0.1;oweight=0.1;dweight=0.2\\',            // rpkmo(필드,단어,키워드,가중치,키워드위치)\\n                       sort : contentType != \\'event\\' ? sort : \\'FINAL_MODIFIED_DATE/DESC\\', // 이벤트 탭의 경우, 정렬 선택을 할 수 없으므로 정렬 옵션을 무조건 최신 순으로 변경.\\n                       totalContentCount : 10,            // 전체인 경우 보여줄 콘텐츠 수\\n                       totalMediaCount : 10,            // 전체인 경우 보여줄 미디어 수\\n                       totalNewsCount : 10,            // 전체인 경우 보여줄 뉴스 수\\n                       listCount : startcount,\\n                    },\\n                    success : function(data) {\\n                       // text 형식으로 받아 json 객체로 변환\\n                       //var data = data.replace(/(<([^>]+)>)/ig, \"\");\\n\\n                       var data = eval(\"(\"+replaceAll(data,\\'\\\\n\\',\\'\\')+\")\");\\n                       let dataAmount;\\n                       /* 오탈자 단어 수정 및 검색처리 로직 Start. */\\n                       if (\\n                    \\t\\t   $(\\'#searchAdd\\').val() == \\'\\' &&\\n                    \\t\\t   typeof data.SuggestedQuery != \\'undefined\\' &&\\n                    \\t\\t   data.SuggestedQuery != null &&\\n                    \\t\\t   data.SuggestedQuery != \\'\\' &&\\n                    \\t\\t   querykeyword != ignoreSuggestionKeyword &&\\n                    \\t\\t   data.SuggestedQuery != querykeyword\\n                    \\t\\t   ) {\\n\\n                    \\t   $(\".proper_search_result\").show();\\n\\n                    \\t   $(\"#wrong_keyword\").text(hkeyword);\\n                    \\t   $(\"#wrong_keyword\").parent().parent().attr(\"href\", \"javascript:getContentListByIgnoreSuggestion(\\'\" + querykeyword + \"\\');\");\\n\\n                    \\t   $(\"#suggested_keyword\").text(data.SuggestedQuery);\\n                    \\t   $(\"#inp_search\").val(data.SuggestedQuery);\\n\\n                    \\t   hkeyword = data.SuggestedQuery;\\n                    \\t   getContentList();\\n                    \\t   recentSuggestedKeyword = data.SuggestedQuery;\\n                    \\t   return;\\n                       } else if (recentSuggestedKeyword == querykeyword) {\\n                    \\t   $(\".proper_search_result\").show();\\n                       } else {\\n                    \\t   $(\".proper_search_result\").hide();\\n                       }\\n                       /* 오탈자 단어 수정 및 검색처리 로직 End. */\\n\\n                       if(collection == \\'media\\'){\\n                       \\t\\tdataAmount = data.Data[1].TotalCount;\\n\\t\\t\\t\\t\\t\\t\\tsetGTMDimension(inflowType, dataAmount);\\n                          \\tshowMediaResultDataView(data);      // 이미지/동영상\\n                       }else{\\n                       \\t\\tdataAmount = data.Data[0].TotalCount;\\n\\t\\t\\t\\t\\t\\t\\tsetGTMDimension(inflowType, dataAmount);\\n                          if(listType == \\'img\\'){\\n                             showSearchedResultImgView(data);    // 콘텐츠\\n                          } else {\\n                             showSearchedResultDataView(data);    // 콘텐츠\\n                          }\\n                       }\\n\\n                    },\\n                    complete : function(result){\\n                       var resultData = eval(\"(\"+replaceAll(result.responseText,\\'\\\\n\\',\\'\\')+\")\");\\n\\n                       if(resultData.TotalCount != 0){\\n                          Paging(spage, totcnt, scnt, pagingSize);\\n                          $(\\'.page_box\\').show();\\n                       }\\n\\n                       hideLoding();\\n                    },\\n                    error : function(xhr, textStatus, errorThrown) {\\n                    }\\n                 });\\n            },\\n            error: function(xhr, textStatus, errorThrown) {\\n            }\\n         });\\n      }\\n\\n\\n       function replaceAll(str, searchStr, replaceStr) {\\n            return str.split(searchStr).join(replaceStr);\\n         }\\n\\n\\n    \\t// 태그 클릭 이벤트\\n       function goTagList(ctype, tagname, rtagid ) {\\n       \\tvar agent = navigator.userAgent.toLowerCase();\\n       \\tif (agent.indexOf(\\'trident\\') != -1) {\\n       \\t\\ttagname = encodeURIComponent(tagname);\\n       \\t}\\n\\n       \\tgoTagLogSave(rtagid);\\n\\n         \\tsetTimeout(function () {\\n       \\t\\tif( ctype == \\'15\\' ) {\\n       \\t\\t\\tlocation.href = \\'/list/fes_list.do?choiceTag=\\'+tagname+\\'&choiceTagId=\\'+rtagid;\\n       \\t\\t} else if( ctype == \\'25\\' ) {\\n       \\t\\t\\tlocation.href = \\'/list/cs_list.do?choiceTag=\\'+tagname+\\'&choiceTagId=\\'+rtagid;\\n       \\t\\t} else {\\n       \\t\\t\\tlocation.href = \\'/list/ms_list.do?choiceTag=\\'+tagname+\\'&choiceTagId=\\'+rtagid;\\n       \\t\\t}\\n         \\t}, 200) ;\\n       }\\n\\n\\n      // 전체 리스트 데이터\\n      function showSearchedResultDataView(data) {\\n\\n         var strHtml = \"\";\\n\\n         var totalCountAll = data.TotalCount;\\n         var totalCount = data.Data[0].TotalCount;\\n\\n         totcnt = data.Data[0].TotalCount;\\n         $(\\'#searchCnt\\').html(numberWithCommas(totalCount));\\n\\n\\n         var contentTypeGroup = data.CONTENT_TYPE_NAME_GROUP;\\n\\n         if (data.Data[0].TotalCount == 0) {\\n            $(\\'#noneBody strong\\').html(\\'“\\'+hkeyword+\\'”\\');\\n            $(\\'#noneBody\\').show();\\n            setBanner();\\n         } else {\\n        \\t /* #listBody ul 내부 html foreach  시작... */\\n\\t            $.each(data.Data[0].Result, function(index, items) {\\n\\n\\t            \\tvar listCotId = items.COT_ID;\\n                   if (contentnames != \\'\\')\\n                      contentnames +=  \\',\\'\\n                   contentnames += items.TITLE;\\n\\n                   /* 고유명사 여부(properYN) == \"Y\" if문 시작... */\\n\\t            \\tif(properYN == \"Y\"){\\n\\t            \\t\\tif(listCotId != properCotId){\\n\\t\\t\\t\\t               if(spage == 1) {\\n\\t\\t\\t\\t                  if(mobileYn == \\'Y\\'){\\n\\t\\t\\t\\t                     switch (index) {\\n\\t\\t\\t\\t                     case 3:\\n\\t\\t\\t\\t                        strHtml += \\'<li class=\"banner_area\">\\';\\n\\t\\t\\t\\t                        strHtml += \\'   <div class=\"mo\"><a class=\"banner0\" href=\"javascript:;\"></a></div>\\';\\n\\t\\t\\t\\t                        strHtml += \\'</li>\\';\\n\\t\\t\\t\\t                        break;\\n\\n\\t\\t\\t\\t                     case 6:\\n\\t\\t\\t\\t                        strHtml += \\'<li class=\"banner_area\">\\';\\n\\t\\t\\t\\t                        strHtml += \\'   <div class=\"mo\"><a class=\"banner1\" href=\"javascript:;\"></a></div>\\';\\n\\t\\t\\t\\t                        strHtml += \\'</li>\\';\\n\\t\\t\\t\\t                        break;\\n\\t\\t\\t\\t                     }\\n\\t\\t\\t\\t                  } else {\\n\\t\\t\\t\\t                     if(index == 4) {\\n\\t\\t\\t\\t                        strHtml += \\'<li class=\"banner_area\">\\';\\n\\t\\t\\t\\t                        strHtml += \\'   <div class=\"pc\">\\';\\n\\t\\t\\t\\t                        strHtml += \\'      <a class=\"banner0\" href=\"javascript:;\"></a>\\';\\n\\t\\t\\t\\t                        strHtml += \\'      <a class=\"banner1\" href=\"javascript:;\"></a>\\';\\n\\t\\t\\t\\t                        strHtml += \\'   </div>\\';\\n\\t\\t\\t\\t                        strHtml += \\'</li>\\';\\n\\t\\t\\t\\t                     }\\n\\t\\t\\t\\t                  }\\n\\t\\t\\t\\t               }\\n\\n\\t\\t\\t\\t               var distanceCL = getDistanceFromLatLonInKm(Number(locationx),Number(locationy),Number(items.WGSY), Number(items.WGSX));\\n\\t\\t\\t\\t               distanceCL = setDist(distanceCL);\\n\\n\\t\\t\\t\\t               if( distanceCL > 10000 || distanceCL == \\'d\\' ) {\\n\\t\\t\\t\\t                  distanceCL = \\'\\';\\n\\t\\t\\t\\t               } else {\\n\\t\\t\\t\\t                  distanceCL = \\'<strong>내 위치에서</strong>\\'+distanceCL+\\' Km\\';\\n\\t\\t\\t\\t               }\\n\\n\\t\\t\\t\\t               var contTypeNum = items.CONTENT_TYPE_ID;\\n\\t\\t\\t\\t               var contenttype;\\n\\n\\t\\t\\t\\t               if(contTypeNum == \\'1\\' || contTypeNum == \\'25\\'){\\n\\t\\t\\t\\t                  contenttype = \\'25\\';   // course, 1\\n\\t\\t\\t\\t                  distanceCL = \\'\\';\\n\\t\\t\\t\\t               }else if(contTypeNum == \\'2\\' || contTypeNum == \\'4\\' || contTypeNum == \\'6\\' || contTypeNum == \\'12\\' || contTypeNum == \\'14\\' || contTypeNum == \\'28\\' || contTypeNum == \\'38\\' || contTypeNum == \\'32\\' || contTypeNum == \\'39\\'){\\n\\t\\t\\t\\t                  contenttype = \\'12\\';   // attraction, 2\\n\\t\\t\\t\\t               }else if(contTypeNum == \\'3\\' || contTypeNum == \\'15\\'){\\n\\t\\t\\t\\t                  contenttype = \\'15\\';   // festival, 3\\n\\t\\t\\t\\t               }else if(contTypeNum == \\'0\\' || contTypeNum == \\'304\\' || contTypeNum.length == 5 || contTypeNum == \\'\\'){\\n\\t\\t\\t\\t                  contenttype = \\'304\\';   // recommend, 0\\n\\t\\t\\t\\t                  distanceCL = \\'\\';\\n\\t\\t\\t\\t               } else if (contTypeNum == \\'9\\' || contTypeNum == \\'30000\\') {\\n\\t\\t\\t\\t                  contenttype = \\'30000\\';// event, 9\\n\\t\\t\\t\\t               }else{\\n\\t\\t\\t\\t                  contenttype = \\'00\\';\\n\\t\\t\\t\\t                  distanceCL = \\'\\';\\n\\t\\t\\t\\t               }\\n\\n\\n\\t\\t\\t\\t               var querykeyword  = hkeyword +\" \"+ $(\\'#searchAdd\\').val();\\n\\t\\t\\t\\t               var keywordarray = querykeyword.split(\" \");\\n\\n\\n\\n\\n\\t\\t\\t\\t               var view_title = items.TITLE;\\n\\t\\t\\t\\t               var evt_period_array = contenttype == \\'30000\\' ? items.SUB_NAME.split(\\'|\\') : [\\'\\', \\'\\', \\'\\'];\\n\\t\\t\\t\\t               for (var i in keywordarray) {\\n\\t\\t\\t\\t                  view_title = view_title.replace(keywordarray[i],\\'<em>\\' + keywordarray[i] + \\'</em>\\');\\n\\t\\t\\t\\t               }\\n\\n\\t\\t\\t\\t               strHtml += \\'<li>\\';\\n\\t\\t\\t\\t               strHtml += \\'<div class=\"photo\">\\';\\n\\t\\t\\t\\t               strHtml += \\'<a href=\"javascript:goSearchDetail(\\\\\\'\\'+items.COT_ID+\\'\\\\\\');\">\\';\\n\\t\\t\\t\\t               if( contenttype == \\'12\\' || contenttype == \\'15\\' ) {\\n\\t\\t\\t\\t                  strHtml += \\'   <span class=\"distance\"><span>\\'+distanceCL+\\'</span></span>\\';\\n\\t\\t\\t\\t               }\\n\\t\\t\\t\\t               strHtml += \\'      <img src=\"\\'+mainimgurl+items.IMAGE_URL+\\'\" alt=\"\\'+items.TITLE.replace(/<!HE>/gi,\\'\\').replace(/<!HS>/gi,\\'\\')+\\'\">\\';\\n\\t\\t\\t\\t               strHtml += \\'   </a></div>\\';\\n\\t\\t\\t\\t               strHtml += \\'   <div class=\"area_txt\\' + (contenttype == \\'30000\\' ? \\' evt\\' : \\'\\') + \\'\">\\';\\n\\t\\t\\t\\t               if (contenttype == \\'30000\\') {\\n\\t\\t\\t\\t                   if (items.CONTENT_STATUS == \\'4\\')\\n\\t\\t\\t\\t                       strHtml += \\'<em class=\"ongoing\">진행중</em>\\';\\n\\t\\t\\t\\t                   else if (items.CONTENT_STATUS == \\'5\\')\\n\\t\\t\\t\\t                       strHtml += \\'<em class=\"end\">종료</em>\\';\\n\\t\\t\\t\\t                   else if (items.CONTENT_STATUS == \\'6\\')\\n\\t\\t\\t\\t                       strHtml += \\'<em class=\"publish\">당첨자발표</em>\\';\\n\\t\\t\\t\\t               }\\n\\t\\t\\t\\t               strHtml += \\'      <div class=\"tit\">\\';\\n\\t\\t\\t\\t               strHtml += \\'         <a href=\"javascript:goSearchDetail(\\\\\\'\\'+items.COT_ID+\\'\\\\\\');\">\\'+view_title+\\'</a>\\';\\n\\t\\t\\t\\t               strHtml += \\'      </div>\\';\\n\\t\\t\\t\\t               if (contenttype == \\'30000\\') {\\n\\t\\t\\t\\t                   strHtml += \\'    <p>\\' + evt_period_array[0].replace(\\' 00:00:00\\', \\'\\') + \\' ~ \\' + evt_period_array[1].replace(\\' 00:00:00\\', \\'\\') + \\'</p>\\';\\n\\t\\t\\t\\t               } else {\\n\\t\\t\\t\\t                   strHtml += \\'      <div class=\"service\">\\';\\n\\t\\t\\t\\t                   if( items.AREA_NAME == items.SIGUGUN_NAME ) {\\n\\t\\t\\t\\t                      strHtml += \\'      <p>\\'+items.AREA_NAME+\\'</p>\\';\\n\\t\\t\\t\\t                   } else {\\n\\t\\t\\t\\t                      strHtml += \\'      <p>\\'+items.AREA_NAME+\\' \\'+items.SIGUGUN_NAME+\\'</p>\\';\\n\\t\\t\\t\\t                   }\\n\\t\\t\\t\\t                   strHtml += \\'         <ul class=\"brandingIcon\" id=\"branding_\\'+items.COT_ID+\\'\">\\';\\n\\t\\t\\t\\t                   strHtml += \\'         </ul>\\';\\n\\t\\t\\t\\t                   strHtml += \\'      </div>\\';\\n\\t\\t\\t\\t               }\\n\\n\\t\\t\\t\\t               if (items.TAG_NAME != \\'\\') {\\n\\t\\t\\t\\t                  strHtml += \\'      <p class=\"tag_type\">\\';\\n\\t\\t\\t\\t                  var tagname;\\n\\t\\t\\t\\t                  tagname = items.TAG_NAME.split(\"|\");\\n\\t\\t\\t\\t                  for ( var i in tagname) {\\n\\n\\t\\t\\t\\t                     var view_tag = tagname[i];\\n\\t\\t\\t\\t                     for (var i in keywordarray) {\\n\\t\\t\\t\\t                        view_tag = view_tag.replace(keywordarray[i],\\'<em>\\' + keywordarray[i] + \\'</em>\\');\\n\\t\\t\\t\\t                     }\\n\\n\\t\\t\\t\\t                     strHtml += \\'<span>\\' + \\'#\\'+view_tag+\\'</span>\\';\\n\\t\\t\\t\\t                  }\\n\\t\\t\\t\\t                  strHtml += \\'   </p>\\';\\n\\t\\t\\t\\t               }\\n\\t\\t\\t\\t               strHtml += \\'</div>\\';\\n\\n\\t\\t\\t\\t               if(contenttype != \\'30000\\' && items.SUB_NAME != \\'\\'){\\n\\t\\t\\t\\t                  strHtml += \\'   <p class=\"ar_tag\">\\';\\n\\t\\t\\t\\t                  var coursList;\\n\\t\\t\\t\\t                  courseList = items.SUB_NAME.split(\"|\");\\n\\t\\t\\t\\t                  for ( var i in courseList) {\\n\\t\\t\\t\\t                     strHtml += \\'   <span>\\'+courseList[i]+\\'</span>\\';\\n\\t\\t\\t\\t                  }\\n\\t\\t\\t\\t                  strHtml += \\'   </p>\\';\\n\\t\\t\\t\\t               }\\n\\t\\t\\t\\t               strHtml += \\'<button type=\"button\" title=\"열기\" class=\"btn_view\" onclick=\\\\\\'viewClick(\"\\'+items.COT_ID+\\'\")\\\\\\'>더보기</button>\\';\\n\\t\\t\\t\\t               strHtml += \\'<div class=\"pop_subMenu\">\\';\\n\\t\\t\\t\\t               strHtml += \\'   <ul>\\'\\n\\t\\t\\t\\t               strHtml += \\'      <li class=\"btn_far\"><a href=\"javascript:\" onclick=\\\\\\'setFavoContent(\"\\'   + items.DOCID + \\'\")\\\\\\'>즐겨찾기</a></li>\\';\\n\\t\\t\\t\\t               strHtml += \\'      <li class=\"btn_share\" id=\"\\'+items.DOCID+\\'\"><a href=\"javascript:\" onclick=\\\\\\'getShareInfo(\"\\'+ encodeURIComponent(quotReplace(items.TITLE))+ \\'\",\"\\'+ items.IMAGE_URL+ \\'\",\"\\'+ items.DOCID+ \\'\",\"\\'+contenttype+\\'\");\\\\\\'>공유하기</a></li>\\';\\n\\t\\t\\t\\t               if(  contenttype != \\'304\\' && contenttype != \\'00\\' ) {\\n\\t\\t\\t\\t                  if( (contenttype == \\'25\\' && items.SUB_NAME == \\'\\') || contenttype == \\'30000\\' ) {\\n\\t\\t\\t\\t                  } else {\\n\\t\\t\\t\\t                     strHtml += \\'      <li class=\"btn_cart\" id=\"\\'+items.DOCID+\\'\" onclick=\\\\\\'myCourseList(\"C\",\"\\'+contenttype+\\'\",\"\\'+ items.DOCID+ \\'\",\"\")\\\\\\'><a href=\"javascript:\" onclick=\\\\\\'myCourseList(\"C\",\"\\'+contenttype+\\'\",\"\\'+ items.DOCID+ \\'\",\"\")\\\\\\'>코스에 담기</a></li>\\';\\n\\t\\t\\t\\t                  }\\n\\t\\t\\t\\t               }\\n\\n\\t\\t\\t\\t               strHtml += \\'   </ul>\\';\\n\\t\\t\\t\\t               strHtml += \\'</div>\\';\\n\\t\\t\\t\\t               strHtml += \\'</li>\\';\\n\\n\\t            \\t\\t}\\n\\n\\t            \\t\\t/* 고유명사 여부(properYN) == \"Y\" if문 끝... */\\n\\t            \\t\\t/* 고유명사 여부(properYN) == \"Y\" else문 시작... */\\n\\t            \\t} else {\\n\\n\\t            \\t\\tif(spage == 1) {\\n\\t\\t\\t                  if(mobileYn == \\'Y\\'){\\n\\t\\t\\t                     switch (index) {\\n\\t\\t\\t                     case 3:\\n\\t\\t\\t                        strHtml += \\'<li class=\"banner_area\">\\';\\n\\t\\t\\t                        strHtml += \\'   <div class=\"mo\"><a class=\"banner0\" href=\"javascript:;\"></a></div>\\';\\n\\t\\t\\t                        strHtml += \\'</li>\\';\\n\\t\\t\\t                        break;\\n\\n\\t\\t\\t                     case 6:\\n\\t\\t\\t                        strHtml += \\'<li class=\"banner_area\">\\';\\n\\t\\t\\t                        strHtml += \\'   <div class=\"mo\"><a class=\"banner1\" href=\"javascript:;\"></a></div>\\';\\n\\t\\t\\t                        strHtml += \\'</li>\\';\\n\\t\\t\\t                        break;\\n\\t\\t\\t                     }\\n\\t\\t\\t                  } else {\\n\\t\\t\\t                     if(index == 4) {\\n\\t\\t\\t                        strHtml += \\'<li class=\"banner_area\">\\';\\n\\t\\t\\t                        strHtml += \\'   <div class=\"pc\">\\';\\n\\t\\t\\t                        strHtml += \\'      <a class=\"banner0\" href=\"javascript:;\"></a>\\';\\n\\t\\t\\t                        strHtml += \\'      <a class=\"banner1\" href=\"javascript:;\"></a>\\';\\n\\t\\t\\t                        strHtml += \\'   </div>\\';\\n\\t\\t\\t                        strHtml += \\'</li>\\';\\n\\t\\t\\t                     }\\n\\t\\t\\t                  }\\n\\t\\t\\t               }\\n\\n\\t\\t\\t               var distanceCL = getDistanceFromLatLonInKm(Number(locationx),Number(locationy),Number(items.WGSY), Number(items.WGSX));\\n\\t\\t\\t               distanceCL = setDist(distanceCL);\\n\\n\\t\\t\\t               if( distanceCL > 10000 || distanceCL == \\'d\\' ) {\\n\\t\\t\\t                  distanceCL = \\'\\';\\n\\t\\t\\t               } else {\\n\\t\\t\\t                  distanceCL = \\'<strong>내 위치에서</strong>\\'+distanceCL+\\' Km\\';\\n\\t\\t\\t               }\\n\\n\\t\\t\\t               var contTypeNum = items.CONTENT_TYPE_ID;\\n\\t\\t\\t               var contenttype;\\n\\n\\t\\t\\t               if(contTypeNum == \\'1\\' || contTypeNum == \\'25\\'){\\n\\t\\t\\t                  contenttype = \\'25\\';   // course, 1\\n\\t\\t\\t                  distanceCL = \\'\\';\\n\\t\\t\\t               }else if(contTypeNum == \\'2\\' || contTypeNum == \\'4\\' || contTypeNum == \\'6\\' || contTypeNum == \\'12\\' || contTypeNum == \\'14\\' || contTypeNum == \\'28\\' || contTypeNum == \\'38\\' || contTypeNum == \\'32\\' || contTypeNum == \\'39\\'){\\n\\t\\t\\t                  contenttype = \\'12\\';   // attraction, 2\\n\\t\\t\\t               }else if(contTypeNum == \\'3\\' || contTypeNum == \\'15\\'){\\n\\t\\t\\t                  contenttype = \\'15\\';   // festival, 3\\n\\t\\t\\t               }else if(contTypeNum == \\'0\\' || contTypeNum == \\'304\\' || contTypeNum.length == 5 || contTypeNum == \\'\\'){\\n\\t\\t\\t                  contenttype = \\'304\\';   // recommend, 0\\n\\t\\t\\t                  distanceCL = \\'\\';\\n\\t\\t\\t               } else if (contTypeNum == \\'9\\' || contTypeNum == \\'30000\\') {\\n\\t\\t\\t            \\t   contenttype = \\'30000\\';// event, 9\\n\\t\\t\\t               }else{\\n\\t\\t\\t                  contenttype = \\'00\\';\\n\\t\\t\\t                  distanceCL = \\'\\';\\n\\t\\t\\t               }\\n\\n\\n\\t\\t\\t               var querykeyword  = hkeyword +\" \"+ $(\\'#searchAdd\\').val();\\n\\t\\t\\t               var keywordarray = querykeyword.split(\" \");\\n\\t\\t\\t               var view_title = items.TITLE;\\n\\t\\t\\t               var evt_period_array = (contenttype == \\'30000\\' && typeof items.SUB_NAME != \\'undefined\\' && items.SUB_NAME != null) ? items.SUB_NAME.split(\\'|\\') : [\\'\\', \\'\\', \\'\\'];\\n\\t\\t\\t               for (var i in keywordarray) {\\n\\t\\t\\t            \\t  if(keywordarray[i] != \"/\") {\\n\\t\\t\\t                  \\tview_title = view_title.replace(keywordarray[i],\\'<em>\\' + keywordarray[i] + \\'</em>\\');\\n\\t\\t\\t            \\t  }\\n\\t\\t\\t               }\\n\\n\\t\\t\\t               strHtml += \\'<li>\\';\\n\\t\\t\\t               strHtml += \\'<div class=\"photo\">\\';\\n\\t\\t\\t               strHtml += \\'<a href=\"javascript:goSearchDetail(\\\\\\'\\'+items.COT_ID+\\'\\\\\\');\">\\';\\n\\t\\t\\t               if( contenttype == \\'12\\' || contenttype == \\'15\\' ) {\\n\\t\\t\\t                  strHtml += \\'   <span class=\"distance\"><span>\\'+distanceCL+\\'</span></span>\\';\\n\\t\\t\\t               }\\n\\t\\t\\t               strHtml += \\'      <img src=\"\\'+mainimgurl+items.IMAGE_URL+\\'\" alt=\"\\'+items.TITLE.replace(/<!HE>/gi,\\'\\').replace(/<!HS>/gi,\\'\\')+\\'\">\\';\\n\\t\\t\\t               strHtml += \\'   </a></div>\\';\\n\\t\\t\\t               strHtml += \\'   <div class=\"area_txt\\' + (contenttype == \\'30000\\' ? \\' evt\\' : \\'\\') + \\'\">\\';\\n\\t\\t\\t               if (contenttype == \\'30000\\') {\\n\\t\\t\\t                   if (items.CONTENT_STATUS == \\'4\\')\\n\\t\\t\\t                       strHtml += \\'<em class=\"ongoing\">진행중</em>\\';\\n\\t\\t\\t                   else if (items.CONTENT_STATUS == \\'5\\')\\n\\t\\t\\t                       strHtml += \\'<em class=\"end\">종료</em>\\';\\n\\t\\t\\t                   else if (items.CONTENT_STATUS == \\'6\\')\\n\\t\\t\\t                       strHtml += \\'<em class=\"publish\">당첨자발표</em>\\';\\n\\t\\t\\t               }\\n\\t\\t\\t               strHtml += \\'      <div class=\"tit\">\\';\\n\\t\\t\\t               strHtml += \\'         <a href=\"javascript:goSearchDetail(\\\\\\'\\'+items.COT_ID+\\'\\\\\\');\">\\'+view_title+\\'</a>\\';\\n\\t\\t\\t               strHtml += \\'      </div>\\';\\n\\t\\t\\t               if (contenttype == \\'30000\\') {\\n\\t\\t\\t                   strHtml += \\'    <p>\\' + evt_period_array[0].replace(\\' 00:00:00\\', \\'\\') + \\' ~ \\' + evt_period_array[1].replace(\\' 00:00:00\\', \\'\\') + \\'</p>\\';\\n\\t\\t\\t               } else {\\n\\t\\t\\t                   strHtml += \\'      <div class=\"service\">\\';\\n\\t\\t\\t                   if( items.AREA_NAME == items.SIGUGUN_NAME ) {\\n\\t\\t\\t                      strHtml += \\'      <p>\\'+items.AREA_NAME+\\'</p>\\';\\n\\t\\t\\t                   } else {\\n\\t\\t\\t                      strHtml += \\'      <p>\\'+items.AREA_NAME+\\' \\'+items.SIGUGUN_NAME+\\'</p>\\';\\n\\t\\t\\t                   }\\n\\t\\t\\t                   strHtml += \\'         <ul class=\"brandingIcon\" id=\"branding_\\'+items.COT_ID+\\'\">\\';\\n\\t\\t\\t                   strHtml += \\'         </ul>\\';\\n\\t\\t\\t                   strHtml += \\'      </div>\\';\\n\\t\\t\\t               }\\n\\n\\t\\t\\t               if (items.TAG_NAME != \\'\\') {\\n\\t\\t\\t                  strHtml += \\'      <p class=\"tag_type\">\\';\\n\\t\\t\\t                  var tagname;\\n\\t\\t\\t                  tagname = items.TAG_NAME.split(\"|\");\\n\\t\\t\\t                  for ( var i in tagname) {\\n\\n\\t\\t\\t                     var view_tag = tagname[i];\\n\\t\\t\\t                     for (var i in keywordarray) {\\n\\t\\t\\t                    \\t if(keywordarray[i] != \"/\") {\\n\\t\\t\\t                        \\tview_tag = view_tag.replace(keywordarray[i],\\'<em>\\' + keywordarray[i] + \\'</em>\\');\\n\\t\\t\\t                    \\t }\\n\\t\\t\\t                     }\\n\\n\\t\\t\\t                     strHtml += \\'<span>\\' + \\'#\\'+view_tag+\\'</span>\\';\\n\\t\\t\\t                  }\\n\\t\\t\\t                  strHtml += \\'   </p>\\';\\n\\t\\t\\t               }\\n\\t\\t\\t               strHtml += \\'</div>\\';\\n\\n\\t\\t\\t               if(contenttype != \\'30000\\' && items.SUB_NAME != \\'\\'){\\n\\t\\t\\t                  strHtml += \\'   <p class=\"ar_tag\">\\';\\n\\t\\t\\t                  var coursList;\\n\\t\\t\\t                  courseList = items.SUB_NAME.split(\"|\");\\n\\t\\t\\t                  for ( var i in courseList) {\\n\\t\\t\\t                     strHtml += \\'   <span>\\'+courseList[i]+\\'</span>\\';\\n\\t\\t\\t                  }\\n\\t\\t\\t                  strHtml += \\'   </p>\\';\\n\\t\\t\\t               }\\n\\t\\t\\t               strHtml += \\'<button type=\"button\" title=\"열기\" class=\"btn_view\" onclick=\\\\\\'viewClick(\"\\'+items.COT_ID+\\'\")\\\\\\'>더보기</button>\\';\\n\\t\\t\\t               strHtml += \\'<div class=\"pop_subMenu\">\\';\\n\\t\\t\\t               strHtml += \\'   <ul>\\'\\n\\t\\t\\t               strHtml += \\'      <li class=\"btn_far\"><a href=\"javascript:\" onclick=\\\\\\'setFavoContent(\"\\'   + items.DOCID + \\'\")\\\\\\'>즐겨찾기</a></li>\\';\\n\\t\\t\\t               strHtml += \\'      <li class=\"btn_share\" id=\"\\'+items.DOCID+\\'\"><a href=\"javascript:\" onclick=\\\\\\'getShareInfo(\"\\'+ encodeURIComponent(quotReplace(items.TITLE))+ \\'\",\"\\'+ items.IMAGE_URL+ \\'\",\"\\'+ items.DOCID+ \\'\",\"\\'+contenttype+\\'\");\\\\\\'>공유하기</a></li>\\';\\n\\t\\t\\t               if(  contenttype != \\'304\\' && contenttype != \\'00\\' ) {\\n\\t\\t\\t                  if( (contenttype == \\'25\\' && items.SUB_NAME == \\'\\') || contenttype == \\'30000\\' ) {\\n\\t\\t\\t                  } else {\\n\\t\\t\\t                     strHtml += \\'      <li class=\"btn_cart\" id=\"\\'+items.DOCID+\\'\"><a href=\"javascript:\" onclick=\\\\\\'myCourseList(\"C\",\"\\'+contenttype+\\'\",\"\\'+ items.DOCID+ \\'\",\"\")\\\\\\'>코스에 담기</a></li>\\';\\n\\t\\t\\t                  }\\n\\t\\t\\t               }\\n\\n\\t\\t\\t               strHtml += \\'   </ul>\\';\\n\\t\\t\\t               strHtml += \\'</div>\\';\\n\\t\\t\\t               strHtml += \\'</li>\\';\\n\\t            \\t}\\n\\t            \\t/* 고유명사 여부(properYN) == \"Y\" else문 시작... */\\n\\n\\t            });\\n\\t            /* #listBody ul 내부 html foreach  끝... */\\n\\t            $(\\'#listBody ul\\').html(strHtml);\\n                setMetaTag(\\'1\\',contentnames);\\n                setMetaTag(\\'2\\',hkeyword +\" \"+ $(\\'#searchAdd\\').val());\\n\\t            setBrandingIcon();\\n\\n\\t            $(\\'#listBody ul li .photo a\\').each(function(index2, items2) {\\n\\t               $(this).children(\\'img\\').error(function() {\\n\\t                  $(this).attr(\\'src\\', cdnurl +  \\'/resources/images/common/no_img_01.png\\');\\n\\t               });\\n\\t            });\\n\\n\\t            $(\\'#listBody\\').show();\\n         }\\n\\n         window.scrollTo(0,0);\\n      }\\n\\n      // 전체 리스트 이미지 리스트\\n      function showSearchedResultImgView(data) {\\n\\n         var strHtml = \"\";\\n\\n         var totalCountAll = data.TotalCount;\\n         var totalCount = data.Data[0].TotalCount;\\n\\n         totcnt = data.Data[0].TotalCount;\\n         $(\\'#searchCnt\\').html(numberWithCommas(totalCount));\\n\\n         var contentTypeGroup = data.CONTENT_TYPE_NAME_GROUP;\\n\\n         if (data.Data[0].TotalCount == 0) {\\n            $(\\'#noneBody strong\\').html(\\'“\\'+hkeyword+\\'”\\');\\n            $(\\'#noneBody\\').show();\\n            setBanner();\\n         } else {\\n             if(data.Data[0].Result) {\\n                 $.each(data.Data[0].Result, function (index, items) {\\n                     if (contentnames != \\'\\')\\n                         contentnames += \\',\\'\\n                     contentnames += items.TITLE;\\n\\n                     if (spage == 1) {\\n                         if (mobileYn == \\'Y\\') {\\n                             switch (index) {\\n                                 case 6:\\n                                     strHtml += \\'<li class=\"banner_area\">\\';\\n                                     strHtml += \\'   <div class=\"mo\"><a class=\"banner0\" href=\"javascript:;\"></a></div>\\';\\n                                     strHtml += \\'</li>\\';\\n                                     break;\\n\\n                                 case 12:\\n                                     strHtml += \\'<li class=\"banner_area\">\\';\\n                                     strHtml += \\'   <div class=\"mo\"><a class=\"banner1\" href=\"javascript:;\"></a></div>\\';\\n                                     strHtml += \\'</li>\\';\\n                                     break;\\n                             }\\n                         } else {\\n                             if (index == 6) {\\n                                 strHtml += \\'<li class=\"banner_area\">\\';\\n                                 strHtml += \\'   <div class=\"pc\">\\';\\n                                 strHtml += \\'      <a class=\"banner0\" href=\"javascript:;\"></a>\\';\\n                                 strHtml += \\'      <a class=\"banner1\" href=\"javascript:;\"></a>\\';\\n                                 strHtml += \\'   </div>\\';\\n                                 strHtml += \\'</li>\\';\\n                             }\\n                         }\\n                     }\\n\\n                     var distanceCL = getDistanceFromLatLonInKm(Number(locationx), Number(locationy), Number(items.WGSY), Number(items.WGSX));\\n                     distanceCL = setDist(distanceCL);\\n\\n                     if (distanceCL > 10000 || distanceCL == \\'d\\') {\\n                         distanceCL = \\'\\';\\n                     } else {\\n                         distanceCL = \\'<strong>내 위치에서</strong>\\' + distanceCL + \\' Km\\';\\n                     }\\n\\n                     var contTypeNum = items.CONTENT_TYPE_ID;\\n                     var contenttype;\\n\\n                     if (contTypeNum == \\'1\\' || contTypeNum == \\'25\\') {\\n                         contenttype = \\'25\\';   // course, 1\\n                         distanceCL = \\'\\';\\n                     } else if (contTypeNum == \\'2\\' || contTypeNum == \\'4\\' || contTypeNum == \\'6\\' || contTypeNum == \\'12\\' || contTypeNum == \\'14\\' || contTypeNum == \\'28\\' || contTypeNum == \\'38\\' || contTypeNum == \\'32\\' || contTypeNum == \\'39\\') {\\n                         contenttype = \\'12\\';   // attraction, 2\\n                     } else if (contTypeNum == \\'3\\' || contTypeNum == \\'15\\') {\\n                         contenttype = \\'15\\';   // festival, 3\\n                     } else if (contTypeNum == \\'0\\' || contTypeNum == \\'304\\' || contTypeNum.length == 5 || contTypeNum == \\'\\') {\\n                         contenttype = \\'304\\';   // recommend, 0\\n                         distanceCL = \\'\\';\\n                     } else if (contTypeNum == \\'9\\' || contTypeNum == \\'30000\\') {\\n                         contenttype = \\'30000\\';// event, 9\\n                     } else {\\n                         contenttype = \\'00\\';\\n                         distanceCL = \\'\\';\\n                     }\\n\\n\\n                     var querykeyword = hkeyword + \" \" + $(\\'#searchAdd\\').val();\\n                     var keywordarray = querykeyword.split(\" \");\\n                     var view_title = items.TITLE;\\n                     var evt_period_array = contenttype == \\'30000\\' ? items.SUB_NAME.split(\\'|\\') : [\\'\\', \\'\\', \\'\\'];\\n                     for (var i in keywordarray) {\\n                         view_title = view_title.replace(keywordarray[i], \\'<em>\\' + keywordarray[i] + \\'</em>\\');\\n                     }\\n\\n                     strHtml += \\'<li>\\';\\n                     strHtml += \\'   <div class=\"wrap\">\\';\\n                     strHtml += \\'      <a href=\"javascript:goSearchDetail(\\\\\\'\\' + items.COT_ID + \\'\\\\\\');\" class=\"img\" style=\"background-image: url(\\' + mainimgurl + items.IMAGE_URL + \\');\">\\';\\n                     if (contenttype == \\'12\\' || contenttype == \\'15\\') {\\n                         strHtml += \\'      <span class=\"distance\"><span>\\' + distanceCL + \\'</span></span>\\';\\n                     }\\n                     strHtml += items.TITLE\\n                     strHtml += \\'      </a>\\';\\n                     strHtml += \\'      <div class=\"txt_cont\">\\';\\n                     strHtml += \\'         <a class=\"tit\" href=\"javascript:goSearchDetail(\\\\\\'\\' + items.COT_ID + \\'\\\\\\');\">\\' + view_title + \\'</a>\\';\\n                     strHtml += \\'         <div class=\"service\">\\';\\n                     if (contenttype == \\'30000\\') {\\n                         strHtml += \\'    <p class=\"evtPeriod\">\\' + evt_period_array[0].replace(\\' 00:00:00\\', \\'\\') + \\' ~ \\' + evt_period_array[1].replace(\\' 00:00:00\\', \\'\\') + \\'</p>\\';\\n                     } else if (items.AREA_NAME == items.SIGUGUN_NAME) {\\n                         strHtml += \\'         <span class=\"area\">\\' + items.AREA_NAME + \\'</span>\\';\\n                     } else {\\n                         strHtml += \\'         <span class=\"area\">\\' + items.AREA_NAME + \\' \\' + items.SIGUGUN_NAME + \\'</span>\\';\\n                     }\\n                     if (contenttype != \\'30000\\') {\\n                         strHtml += \\'            <div class=\"brandingIcon\">\\';\\n                         strHtml += \\'               <ul id=\"branding_\\' + items.COT_ID + \\'\">\\';\\n                         strHtml += \\'               </ul>\\';\\n                         strHtml += \\'            </div>\\';\\n                     }\\n                     strHtml += \\'         </div>\\';\\n                     if (items.TAG_NAME != \\'\\') {\\n                         strHtml += \\'      <p class=\"tag\">\\';\\n                         var tagname;\\n                         tagname = items.TAG_NAME.split(\"|\");\\n                         for (var i in tagname) {\\n                             var view_tag = tagname[i];\\n                             for (var i in keywordarray) {\\n                                 view_tag = view_tag.replace(keywordarray[i], \\'<em>\\' + keywordarray[i] + \\'</em>\\');\\n                             }\\n                             strHtml += \\'      <span>\\' + \\'#\\' + view_tag + \\'</span>\\';\\n                         }\\n                         strHtml += \\'      </p>\\';\\n                     }\\n                     strHtml += \\'      <button type=\"button\" title=\"열기\" class=\"btn_view\" onclick=\\\\\\'viewClick(\"\\' + items.COT_ID + \\'\")\\\\\\'>더보기</button>\\';\\n                     strHtml += \\'      <div class=\"pop_subMenu\">\\';\\n                     strHtml += \\'         <ul>\\'\\n                     strHtml += \\'            <li class=\"btn_far\"><a href=\"javascript:\" onclick=\\\\\\'setFavoContent(\"\\' + items.DOCID + \\'\")\\\\\\'>즐겨찾기</a></li>\\';\\n                     strHtml += \\'            <li class=\"btn_share\" id=\"\\' + items.DOCID + \\'\"><a href=\"javascript:\" onclick=\\\\\\'getShareInfo(\"\\' + encodeURIComponent(quotReplace(items.TITLE)) + \\'\",\"\\' + items.IMAGE_URL + \\'\",\"\\' + items.DOCID + \\'\",\"\\' + contenttype + \\'\");\\\\\\'>공유하기</a></li>\\';\\n                     if (contenttype != \\'304\\' && contenttype != \\'00\\') {\\n                         if ((contenttype == \\'25\\' && items.SUB_NAME == \\'\\') || contenttype == \\'30000\\') {\\n                         } else {\\n                             strHtml += \\'      <li class=\"btn_cart\" id=\"\\' + items.DOCID + \\'\"><a href=\"javascript:\" onclick=\\\\\\'myCourseList(\"C\",\"\\' + contenttype + \\'\",\"\\' + items.DOCID + \\'\",\"\")\\\\\\'>코스에 담기</a></li>\\';\\n                         }\\n                     }\\n                     strHtml += \\'         </ul>\\';\\n                     strHtml += \\'      </div>\\';\\n                     strHtml += \\'   </div>\\';\\n                     strHtml += \\'</li>\\';\\n\\n                 });\\n             }\\n            $(\\'#albumBody ul\\').html(strHtml);\\n            setMetaTag(\\'1\\',contentnames);\\n            setMetaTag(\\'2\\',hkeyword +\" \"+ $(\\'#searchAdd\\').val());\\n            setBrandingIcon();\\n\\n            $(\\'#albumBody\\').show();\\n         }\\n\\n         window.scrollTo(0,0);\\n      }\\n\\n      // body에 style이 있으면 간략내용 제목항목으로 보이게\\n      function checkBody(body, title) {\\n         if(body.indexOf(\\'margin\\') !=-1 || body.indexOf(\\'text-align:\\') !=-1) {\\n            return title;\\n         } else {\\n            return body;\\n         }\\n      }\\n\\n      // 추천 검색어 ajax 요청\\n      function ajaxLoadRecommandPop() {\\n         // 검색창에 입력한 keyword를 입력 받아 결과가 있으면 추천검색어 목록이 나옴\\n\\n         // 검색어 가 있는 경우\\n         if(hkeyword == \\'\\'){\\n            $(\\'#sWord1\\').remove();\\n         }else{\\n            $.ajax({\\n               url : domainIfno + \\'/trans_json.jsp\\',\\n               dataType : \\'json\\',\\n               type : \"POST\",\\n               data : {\\n                  type : \\'recommend\\',\\n                  query : hkeyword,\\n                  datatype : \\'json\\'\\n               },\\n               success : function(data) {\\n                     getRecommandPOP(data);\\n               },\\n               error : function(xhr, textStatus, errorThrown) {\\n               }\\n            });\\n         }\\n      }\\n\\n      // 추천 검색어 리스트\\n      function getRecommandPOP(data) {\\n\\n         var strHtml =\\'\\';\\n         var recomHtml =\\'\\';\\n         $(\\'#sWord1\\').remove();\\n\\n         // 검색 결과 있음 = data.Data.Return = 1, 없음: data.Data.Return = 0\\n         if(data.Data.Return != 0){\\n\\n            strHtml+=\\'<div class=\"area_sWordList\" id=\"sWord1\">\\';\\n            strHtml+=\\'<h3>추천 검색어</h3>\\';\\n            strHtml+=\\'<ul id=\"tab1\">\\';\\n            strHtml+=\\'</ul>\\';\\n            strHtml+=\\'</div>\\';\\n            $(\\'.box_rightType3\\').append(strHtml);         // 추천검색어 있을 경우만\\n            $(\\'#sWord1\\').insertBefore($(\\'#sWord2\\'));      // 어제의 인기검색어 id=\"sWord2\" 보다 앞으로 배치\\n            $.each(data.Data.Word, function(index, items) {\\n               var indexNum = ++index;\\n               var contTypeNm = items;\\n\\n               // 추천 검색어 상위 3개\\n               if (indexNum < 4) {\\n                  recomHtml+=\\'<li><a href=\"javascript:\"><span class=\"num_best\">\\'+indexNum+\\'</span><em>\\'+contTypeNm+\\'</em></a></li>\\';\\n               }else{\\n                  recomHtml+=\\'<li><a href=\"javascript:\"><span>\\'+indexNum+\\'</span><em>\\'+contTypeNm+\\'</em></a></li>\\'\\n               }\\n            });\\n            $(\\'#tab1\\').html(recomHtml);\\n         }else{\\n            $(\\'#sWord1\\').remove();\\n         }\\n      }\\n\\n      // 어제의 인기 검색어 ajax 요청\\n      function ajaxLoadKeywordPop() {\\n\\n         $.ajax({\\n            url : domainIfno + \\'/trans_json.jsp\\',\\n            dataType : \\'json\\',\\n            type : \"POST\",\\n            data : {\\n               collection : \\'total\\',    //Collection 구분값\\n               type : \\'popword\\',\\n               range : \\'D\\',         // 일간 D, 주간 W, 월간 M\\n               listCount : 10\\n            },\\n            success : function(data) {\\n               getKeywordPOP(data);            // 인기검색어\\n            },\\n            error : function(xhr, textStatus, errorThrown) {\\n            }\\n         });\\n      }\\n\\n      // 어제의 인기 검색어\\n      function getKeywordPOP(data) {\\n         var strHtml = \"\";\\n\\n         if (data.Data.Query.querycount == 0) {\\n            console.log(\\'Result is Empty: getKeywordPOP\\');\\n\\n         } else {\\n            console.log(\\'data load success getKeywordPOP\\');\\n            $.each(data.Data.Query,function(index, items) {\\n               var indexNum = ++index;\\n               var contTypeNm =items.content;\\n               // 인기 검색어 상위3개\\n               if (indexNum < 4) {\\n                  strHtml+=\\'<li><a href=\"javascript:\"><span class=\"num_best\">\\'+indexNum+\\'</span><em>\\'+contTypeNm+\\'</em></a></li>\\';\\n               }else{\\n                  strHtml+=\\'<li><a href=\"javascript:\"><span>\\'+indexNum+\\'</span><em>\\'+contTypeNm+\\'</em></a></li>\\';\\n               }\\n            });\\n            $(\\'#p_search\\').html(strHtml);\\n         }\\n      }\\n\\n      // 추천/인기 검색어 클릭 이벤트\\n      $(document).on(\"click\",\".area_sWordList ul li a\", function(){\\n\\n         collection = \"content\"; // 전체\\n         contentType = \"recommend|course|attraction|festival|event\"\\n         keyword = $(this).children(\\'em\\').text();\\n\\n         // 검색어 입력\\n         $(\\'#inp_search\\').val(keyword);\\n         hkeyword = keyword;\\n         contentSearchField = \\'TITLE/100,DISPLAY_TITLE/50,AREA_NAME/100,SIGUGUN_NAME/100,TAG_NAME/50,BODY/50,SUB_NAME/50\\';\\n         $(\\'.search_menu li\\').removeClass(\\'on\\');\\n         $(\\'#tabView0\\').attr(\\'class\\', \\'on\\');\\n\\n         saveUserSearchKeyword()\\n         // 리스트 로드\\n         if (this.parentElement.parentElement.parentElement.id == \\'sWord1\\') {\\n        \\t getContentList(\\'recommKeyword\\');\\n         } else if (this.parentElement.parentElement.parentElement.id == \\'sWord2\\') {\\n        \\t getContentList(\\'popKeyword\\');\\n         } else {\\n        \\t getContentList();\\n         }\\n\\n      });\\n\\n      function goJikimiNew() {\\n         if( loginYn == \\'N\\') {\\n            showLogin(2);\\n         } else {\\n            if( sloginType == \\'10\\' ) {\\n               location.href = \"/partners/partners_channel_ask.do?selType=3\";\\n            } else {\\n               location.href = \"/mypage/tourist_info_new.do\";\\n            }\\n         }\\n      }\\n\\n      function showMediaResultDataView(data) {\\n\\n         var mediaHtml = \"\";\\n         var strHtml = \"\";\\n\\n         totcnt = data.Data[1].TotalCount;\\n         var mediaTotalCount = data.Data[1].TotalCount;\\n         $(\\'#searchCnt\\').html(numberWithCommas(mediaTotalCount));\\n\\n         if (data.Data[1].TotalCount == 0) {\\n         } else {\\n\\n            $.each(data.Data[1].Result, function(index, items) {\\n\\n               var contTypeNum = \\'\\';\\n               var contentTypeName = \\'\\';\\n\\n               contTypeNum = items.CONTENT_TYPE_ID;\\n               var contenttype;\\n\\n               if(contTypeNum == \\'0\\'|| contTypeNum == \\'304\\' || contTypeNum.length == 5 || contTypeNum == \\'\\'){\\n                  contentTypeName = \\'추천\\';   // recommend, 0\\n                  contenttype = \\'304\\';\\n               }else if(contTypeNum == \\'1\\' || contTypeNum == \\'25\\'){\\n                  contentTypeName = \\'코스\\';   // course, 1\\n                  contenttype = \\'25\\';\\n               }else if(contTypeNum == \\'2\\' || contTypeNum == \\'4\\' || contTypeNum == \\'6\\' || contTypeNum == \\'12\\' || contTypeNum == \\'14\\' || contTypeNum == \\'28\\' || contTypeNum == \\'38\\' || contTypeNum == \\'32\\' || contTypeNum == \\'39\\' || contTypeNum == \\'2000\\'){\\n                  contentTypeName = \\'여행지\\';   // attraction, 2\\n                  contenttype = \\'12\\';   // attraction, 2\\n               }else if(contTypeNum == \\'3\\' || contTypeNum == \\'15\\'){\\n                  contentTypeName = \\'축제\\';   // festival, 3\\n                  contenttype = \\'15\\';   // festival, 3\\n               }else{\\n                  contentTypeName = \\'기타\\';\\n                  contenttype = \\'00\\';\\n               }\\n\\n               // TO-DO : 미디어 리스트 html 작성\\n               dummyImg = cdnurl +  \"/resources/images/common/img_dummy3.png\";\\n               strHtml+=\\'<li>\\';\\n               strHtml+=\\'   <div>\\';\\n               strHtml+=\\'      <a href=\"javascript:GetImgContent(\\\\\\'\\'+contenttype+\\'\\\\\\',\\\\\\'\\'+contentTypeName+\\'\\\\\\',\\\\\\'\\'+items.COT_ID+\\'\\\\\\',\\\\\\'\\'+items.IMG_ID+\\'\\\\\\');\">\\';\\n               strHtml+=\\'         <img src=\"\\'+dummyImg+\\'\" alt=\"\">\\';\\n               strHtml+=\\'         <span class=\"img\" style=\"background-image:url(\\\\\\'\\'+mainimgurl+items.IMG_ID+\\'\\\\\\');\" alt=\"\\'+items.ALT+\\'\"></span>\\';\\n               strHtml+=\\'         <span class=\"ico_photo\">이미지</span>\\';\\n               strHtml+=\\'      </a>\\';\\n               strHtml+=\\'   </div>\\';\\n               strHtml+=\\'</li>\\';\\n            });\\n\\n            $(\\'#imgBody .box_imgMv ul\\').html(strHtml);\\n            $(\\'#imgBody\\').show();\\n         }\\n         window.scrollTo(0,0);\\n      }\\n\\n      function GetImgContent(contenttype,contentTypeName,cotId,imgId){\\n\\n         $.ajax({\\n            url: mainurl+\\'/call\\',\\n            dataType: \\'json\\',\\n            type: \"POST\",\\n            data: {\\n               cmd : \\'FESTIVAL_CONTENT_BODY_VIEW\\',\\n               cotid : cotId,\\n               locationx : locationx+\\'\\',\\n               locationy : locationy+\\'\\'\\n            },\\n            success: function(data) {\\n               SetImgContent(data,contentTypeName,contenttype,imgId)\\n            },\\n            complete: function() {\\n            },\\n            error: function(xhr, textStatus, errorThrown) {\\n            }\\n         });\\n      }\\n\\n      function SetImgContent(data,contentTypeName,contenttype,imgId){\\n         var sContentId = data.body.article[0].cotId;\\n         var galleryTopHtml = \\'\\';\\n         var galleryThumbsHtml = \\'\\';\\n         var imgIndex = 0;\\n         var imgTitle = contentTypeName + \\' | \\' + data.body.article[0].title\\n\\n         //이미지 탭\\n         $.each(data.body.image, function (index, items) {\\n            galleryTopHtml += \\'<div class=\"swiper-slide\" tabindex=\"0\">\\';\\n            galleryTopHtml += \\'   <div class=\"wrap\">\\';\\n            galleryTopHtml += \\'      <a href=\"javascript:goSearchDetail(\\\\\\'\\'+sContentId+\\'\\\\\\');\">\\';\\n            galleryTopHtml += \\'         <img src=\"\\'+mainimgurl+items.imgPath+\\'\" alt=\"\\'+items.imgAlt+\\'\">\\';\\n            galleryTopHtml += \\'      </a>\\';\\n            galleryTopHtml += \\'   </div>\\';\\n            galleryTopHtml += \\'   <div class=\"tit_wrap\">\\';\\n            galleryTopHtml += \\'      <a href=\"javascript:goSearchDetail(\\\\\\'\\'+sContentId+\\'\\\\\\');\"><em>\\'+imgTitle+\\'</em></a>\\';\\n            galleryTopHtml += \\'   </div>\\';\\n            galleryTopHtml += \\'</div>\\';\\n\\n            galleryThumbsHtml += \\'<div class=\"swiper-slide\"><a href=\"javascript:;\" style=\"background-image:url(\\'+mainimgurl+items.imgPath+\\'&mode=custom&height=100);\">\\'+items.imgAlt+\\'</a></div>\\';\\n\\n            if(items.imgPath == imgId){\\n               imgIndex = index;\\n            }\\n         });\\n\\n         //여행기사 탭\\n         $.each(data.body.userimage, function (index, items) {\\n            galleryTopHtml += \\'<div class=\"swiper-slide\" tabindex=\"0\">\\';\\n            galleryTopHtml += \\'   <div class=\"wrap\">\\';\\n            galleryTopHtml += \\'      <a href=\"javascript:goSearchDetail(\\\\\\'\\'+sContentId+\\'\\\\\\');\">\\';\\n            galleryTopHtml += \\'         <img src=\"\\'+mainimgurl+items.imgPath+\\'\" alt=\"\\'+items.imgAlt+\\'\">\\';\\n            galleryTopHtml += \\'      </a>\\';\\n            galleryTopHtml += \\'   </div>\\';\\n            galleryTopHtml += \\'   <div class=\"tit_wrap\">\\';\\n            galleryTopHtml += \\'      <a href=\"javascript:goSearchDetail(\\\\\\'\\'+sContentId+\\'\\\\\\');\"><em>\\'+imgTitle+\\'</em></a>\\';\\n            galleryTopHtml += \\'   </div>\\';\\n            galleryTopHtml += \\'</div>\\';\\n\\n            galleryThumbsHtml += \\'<div class=\"swiper-slide\"><a href=\"javascript:;\" style=\"background-image:url(\\'+mainimgurl+items.imgPath+\\'&mode=custom&height=100);\">\\'+items.imgAlt+\\'</a></div>\\';\\n\\n            if(items.imgPath == imgId){\\n               imgIndex = index;\\n            }\\n         });\\n\\n         $(\\'#galleryTop\\').html(galleryTopHtml);\\n         $(\\'#galleryThumbs\\').html(galleryThumbsHtml);\\n\\n         layerPopup.layerShow(\\'detailPop\\');\\n         $(\\'body\\').css(\\'overflow\\',\\'hidden\\');\\n         $(\\'#detailPop\\').removeClass(\\'view\\');\\n         $(\\'#detailPop\\').addClass(\\'active\\');\\n\\n         var galleryThumbs = new Swiper(\\'.gallery-thumbs\\', {\\n            centeredSlides: true,\\n            slideToClickedSlide: true,\\n            spaceBetween: 0,\\n            slidesPerView: \\'auto\\',\\n            freeMode: true,\\n            watchSlidesProgress: true,\\n            watchSlidesVisibility: true,\\n            on:{\\n               click:function(){\\n                  galleryThumbs.slideTo(this.clickedIndex);\\n               }\\n            }\\n         });\\n\\n         var galleryTop = new Swiper(\\'.gallery-top\\', {\\n            spaceBetween: 0,\\n            slidesPerView: \\'auto\\',\\n            navigation: {\\n               nextEl: \\'.swiper-button-next\\',\\n               prevEl: \\'.swiper-button-prev\\',\\n            },\\n            pagination: {\\n               el: \\'.swiper-pagination\\',\\n               type: \\'fraction\\',\\n            },\\n            thumbs: {\\n               swiper: galleryThumbs\\n            },\\n            on:{\\n               slideChange:function(){\\n                  galleryThumbs.slideTo(this.realIndex);\\n               }\\n            }\\n         });\\n\\n         // 특정 위치로 이동\\n         galleryTop.slideTo(imgIndex, 0);\\n         galleryThumbs.slideTo(imgIndex, 0);\\n      }\\n\\n      function goSearchDetail(cotId) {\\n\\n         window.location.hash = \"#\" +$(document).scrollTop() +\\'^\\'+spage+\\'^\\'+encodeURI(hkeyword)+\\'^\\'+tab+\\'^\\'+sortIdx+\\'^\\'+evtFilter+\\'^\\'+encodeURI($(\\'#searchAdd\\').val())+\\'^\\'+sareaCode+\\'^\\'+ssigunguCode+\\'^\\'+stagId+\\'^\\'+$(\\'.option_form\\').css(\\'display\\');\\n\\n         location.href = \\'/detail/detail_view.do?cotid=\\'+cotId;\\n\\n      }\\n\\n       function goProperDetail(cotId,cat1,cat2,areacode) {\\n\\n    \\twindow.location.hash = \"#\" +$(document).scrollTop() +\\'^\\'+spage+\\'^\\'+encodeURI(hkeyword)+\\'^\\'+tab+\\'^\\'+sortIdx+\\'^\\'+evtFilter+\\'^\\'+encodeURI($(\\'#searchAdd\\').val())+\\'^\\'+sareaCode+\\'^\\'+ssigunguCode+\\'^\\'+stagId+\\'^\\'+$(\\'.option_form\\').css(\\'display\\');\\n\\n       \\tlocation.href = \\'/detail/ms_detail.do?cotid=\\'+cotId+\\'&big_category=\\'+cat1+\\'&mid_category=\\'+cat2+\\'&big_area=\\'+areacode+\\'#detailGo\\';\\n       }\\n\\n      function setBrandingIcon() {\\n\\n         var bodyId = \\'\\';\\n\\n         switch (listType) {\\n         case \\'list\\': bodyId = \\'listBody\\'; break;\\n         case \\'img\\': bodyId = \\'albumBody\\'; break;\\n         }\\n\\n         $(\\'#\\'+bodyId+\\' .brandingIcon ul\\').each(function(index, items){\\n\\n            var thisUl = $(this);\\n            var cotId = thisUl.attr(\\'id\\').replace(\\'branding_\\',\\'\\');\\n\\n            $.ajax({\\n               url: mainurl+\\'/call\\',\\n               dataType: \\'json\\',\\n               type: \"POST\",\\n               data: {\\n                  cmd : \\'GET_BRANDING_INFO\\',\\n                  cotId : cotId\\n               },\\n               success: function(data) {\\n                  if(data.header.process == \\'success\\') {\\n\\n                     var branding = data.body.branding;\\n                     var brandingHtml = \\'\\';\\n\\n                     switch (branding.type) {\\n                     case \\'tour\\':      // 관광지/문화시설/레포츠\\n                        if((branding.korHManualYn == null && branding.korHAutoYn == 1) || branding.korHManualYn == 1)\\n                           brandingHtml += \\'<li class=\"icon6\"><a href=\"javascript:;\"><span>한국관광 100선</span></a></li>\\';\\n                        if((branding.korOpenManualYn == null && branding.korOpenAutoYn == 1) || branding.korOpenManualYn == 1)\\n                           brandingHtml += \\'<li class=\"icon5\"><a href=\"javascript:;\"><span>열린관광지</span></a></li>\\';\\n                        if((branding.korStarManualYn == null && branding.korStarAutoYn == 1) || branding.korStarManualYn == 1)\\n                           brandingHtml += \\'<li class=\"icon4\"><a href=\"javascript:;\"><span>한국관광의 별</span></a></li>\\';\\n                        break;\\n                     case \\'food\\':      // 음식점\\n                        if(branding.goodManualYn == 1)\\n                           brandingHtml += \\'<li class=\"icon3\"><a href=\"javascript:;\"><span>착한가격업소</span></a></li>\\';\\n                        if(branding.hundredManualYn == 1)\\n                           brandingHtml += \\'<li class=\"icon2\"><a href=\"javascript:;\"><span>백년가게</span></a></li>\\';\\n                        break;\\n                     case \\'lodging\\':      // 숙박\\n                        if((branding.korStarManualYn == null && branding.korStarAutoYn == 1) || branding.korStarManualYn == 1)\\n                           brandingHtml += \\'<li class=\"icon4\"><a href=\"javascript:;\"><span>한국관광의 별</span></a></li>\\';\\n                        if((branding.kqManualYn == null && branding.kqAutoYn == 1) || branding.kqManualYn == 1){\\n                           brandingHtml += \\'<li class=\"icon1\"><a href=\"javascript:;\"><span>한국관광품질인증(KQ)</span></a></li>\\';\\n                        }\\n                        break;\\n                     case \\'shopping\\':   // 쇼핑\\n                        if((branding.korStarManualYn == null && branding.korStarAutoYn == 1) || branding.korStarManualYn == 1)\\n                           brandingHtml += \\'<li class=\"icon4\"><a href=\"javascript:;\"><span>한국관광의 별</span></a></li>\\';\\n                        if((branding.kqManualYn == null && branding.kqAutoYn == 1) || branding.kqManualYn == 1)\\n                           brandingHtml += \\'<li class=\"icon1\"><a href=\"javascript:;\"><span>한국관광품질인증(KQ)</span></a></li>\\';\\n                        if(branding.hundredManualYn == 1)\\n                           brandingHtml += \\'<li class=\"icon2\"><a href=\"javascript:;\"><span>백년가게</span></a></li>\\';\\n                        break;\\n                     case \\'festival\\':   // 축제\\n                        if((branding.korStarManualYn == null && branding.korStarAutoYn == 1) || branding.korStarManualYn == 1)\\n                           brandingHtml += \\'<li class=\"icon4\"><a href=\"javascript:;\"><span>한국관광의 별</span></a></li>\\';\\n                        if((branding.cultureTourManualYn == null && branding.cultureTourAutoYn == 1) || branding.cultureTourManualYn == 1)\\n                           brandingHtml += \\'<li class=\"icon2\"><a href=\"javascript:;\"><span>문화관광축제</span></a></li>\\';\\n                        break;\\n                     }\\n\\n                     thisUl.html(brandingHtml);\\n                  }\\n               },\\n               complete: function() {\\n               },\\n               error: function(xhr, textStatus, errorThrown) {\\n               }\\n            });\\n         });\\n\\n         setBanner();\\n      }\\n\\n      function setBanner(){\\n         $.ajax({\\n            url: mainurl+\\'/call\\',\\n            dataType: \\'json\\',\\n            type: \"POST\",\\n            data: {\\n               cmd : \\'GET_SEARCH_BANNER\\'\\n            },\\n            success: function(data) {\\n\\n               $.each(data.body.result, function(index, items){\\n\\n                  var banner = $(\\'.banner\\'+index)\\n                  var linkUrl = items.linkUrl;\\n\\n                  if(items.cotId != null) linkUrl = \\'/detail/detail_view.do?cotid=\\'+items.cotId;\\n\\n                  banner.attr(\\'href\\', linkUrl);\\n                  banner.html(\\'<span><img src=\"\\'+mainimgurl+items.imgId+\\'\" alt=\"\\'+items.title+\\'\"></span>\\');\\n               });\\n            },\\n            complete: function() {\\n            },\\n            error: function(xhr, textStatus, errorThrown) {\\n            }\\n         });\\n      }\\n\\n      /* function mbticheck(){\\n\\n         var today = new Date();\\n         var end_date = new Date(2020, 11, 11);\\n         if (today < end_date) {\\n            if(getCookie(\"forecast_1\") != \"Y\"){\\n               var gaCookie2 = getCookie(\\'_ga\\');\\n               $.ajax({\\n                  url: mainurl+\\'/call\\',\\n                  dataType: \\'json\\',\\n                  type: \"POST\",\\n                  data: {\\n                     cmd : \\'GA_INFO_CHK\\',\\n                     ga : gaCookie2\\n                  },\\n                  success: function(data) {\\n                     if(data.header.process == \\'success\\') {\\n                        if(data.body.GaInfo == \\'N\\'){\\n                           var mbtihtml = \\'\\';\\n                           mbtihtml += \\'<div class=\"event_quick \">\\';\\n                           mbtihtml += \\'<div class=\"inner\">\\';\\n                           mbtihtml += \\'<a href=\"https://korean.visitkorea.or.kr/detail/event_detail.do?cotid=e605937d-c663-445a-b12c-da6805741efd\" class=\"btn_go\">국내여행 MBTI 이벤트로 이동</a>\\';\\n                           mbtihtml += \\'<button type=\"button\" onclick=\"closebutton(1);\" class=\"close\">닫기</button>\\';\\n                           mbtihtml += \\'</div>\\';\\n                           mbtihtml += \\'</div>\\';\\n                           $(\\'#contents\\').before(mbtihtml);\\n                           mbtiBtnScroll();\\n                        } else{\\n                           var today = new Date();\\n                           var end_date = new Date(2020, 10, 27);\\n                           if (today < end_date) {\\n                              var mbtihtml = \\'\\';\\n                              mbtihtml += \\'<div class=\"event_quick type1\">\\';\\n                              mbtihtml += \\'<div class=\"inner\">\\';\\n                                mbtihtml += \\'<a href=\"https://korean.visitkorea.or.kr/detail/event_detail.do?cotid=5b2a451a-a8f0-4551-a0fb-b117380fa133\" class=\"btn_go\">흥확행 이벤트로 이동</a>\\';\\n                              mbtihtml += \\'<button type=\"button\" onclick=\"closebutton();\" class=\"close\">닫기</button>\\';\\n                              mbtihtml += \\'</div>\\';\\n                              mbtihtml += \\'</div>\\';\\n                              $(\\'#contents\\').before(mbtihtml);\\n                              mbtiBtnScroll();\\n                           }\\n                        }\\n                     }\\n                  },\\n                  complete: function() {\\n                  },\\n                  error: function(xhr, textStatus, errorThrown) {\\n                  }\\n               });\\n            }\\n         }\\n      } */\\n\\n      function closebutton(){\\n         setCookie(\\'forecast_1\\', \\'Y\\' , 1);\\n         $(\\'.mbti_quick\\').remove();\\n      }\\n\\n      function mbtiBtnScroll(){\\n         $(\\'.event_quick a\\').click(function(){\\n            $(\\'html, body\\').animate({\\n            scrollTop: $( $.attr(this, \\'href\\') ).offset().top\\n            }, 500);\\n            return false;\\n         });\\n         var btnW = $(\\'.event_quick\\')\\n         ,btnTop = btnW.find(\\'.close\\');\\n\\n         var $w = $(window),\\n            footerHei = $(\\'#footer\\').outerHeight(),\\n            $banner = $(\\'.event_quick\\');\\n\\n         $w.on(\\'scroll\\', function() {\\n\\n            var sT = $w.scrollTop();\\n            var val = $(document).height() - $w.height() - footerHei;\\n\\n            if (sT >= val)\\n               $banner.addClass(\\'on\\')\\n            else\\n                  $banner.removeClass(\\'on\\')\\n\\n         });\\n\\n         btnTop.click(function(){\\n            btnW.addClass(\\'none\\');\\n         });\\n      }\\n\\n      // 우측 메뉴 고정\\n      var ScrollPst = 0\\n         ,sdelta = 15;\\n      $(window).scroll( function() {\\n         var jbOffset = $(\\'#common_header\\').height() - $(\\'#gnbMain\\').height();\\n         var fot = $(\\'#common_header\\').height() + $(\\'#contents\\').height() - $(\\'.right_wrap02\\').height();\\n         var st = $(this).scrollTop();\\n\\n         if ( jbOffset < st ) {\\n\\n            $(\\'.right_menu\\').addClass(\\'fixed\\');\\n\\n            if( st > fot ) {\\n               $(\\'.right_menu\\').addClass(\\'fot\\');\\n            } else {\\n               $(\\'.right_menu\\').removeClass(\\'fot\\');\\n            }\\n           } else {\\n            $(\\'.right_menu\\').removeClass(\\'fixed\\');\\n         }\\n\\n         var footerHei = $(\\'#footer\\').outerHeight(),\\n         $w = $(window),\\n         $banner = $(\\'.right_menu\\');\\n         var sT = $w.scrollTop();\\n         var val = $(document).height() - $w.height() - footerHei;\\n\\n         if (sT >= val) {\\n            $banner.addClass(\\'on\\');\\n           } else {\\n            $banner.removeClass(\\'on\\');\\n         }\\n      });\\n\\n\\n\\n // 지도\\n  \\tvar selectedMarker = null;\\n  \\tvar map;\\n  \\tvar mapMo;\\n  \\tvar moMapDetail;\\n  \\tvar sourroundingsMarkerArray = [];\\t//전체\\n  \\tvar tourMarkers = []; // 관광지\\n  \\tvar munMarkers = []; // 문화시설\\n  \\tvar lepokMarkers = []; // 레포츠\\n  \\tvar shopMarkers = []; // 쇼핑\\n  \\tvar hotelMarkers = []; // 숙박\\n  \\tvar foodMarkers = []; // 음식\\n  \\tvar cosMarkers = []; // 코스\\n\\n  \\tfunction setLocationMap(data) {\\n\\n  \\t\\tif (mapStat == \\'N\\' || mapCenterlocationy == null || mapCenterlocationx == null) {\\n  \\t\\t\\t$(\\'.surroundingsMap\\').remove();\\n  \\t\\t\\treturn;\\n  \\t\\t}\\n  \\t\\tvar container = document.getElementById(\\'map\\');\\n\\n  \\t\\tvar options = {\\n  \\t\\t\\tcenter: new kakao.maps.LatLng(mapCenterlocationy, mapCenterlocationx),\\t\\t//지도 센터 좌표.\\n  \\t\\t\\tlevel: 5\\n  \\t\\t};\\n  \\t\\tmap = new kakao.maps.Map(container,options);\\n  \\t\\tmap.setDraggable(false);\\n  \\t\\tmap.setZoomable(false);\\n  \\t\\timageSize = new kakao.maps.Size(30, 30), // 마커이미지의 크기입니다\\n\\t\\timageOption = {offset: new kakao.maps.Point(30, 30)}; // 마커이미지의 옵션입니다. 마커의 좌표와 일치시킬 이미지 안에서의 좌표를 설정합니다.\\n  \\t\\t// 마커의 이미지정보를 가지고 있는 마커이미지를 생성합니다\\n  \\t\\tvar\\tmarkerImage = new kakao.maps.MarkerImage(imageSrc, imageSize, imageOption);\\n  \\t\\tvar markerPosition = new kakao.maps.LatLng(mapCenterlocationy, mapCenterlocationx); // 마커가 표시될 위치입니다\\n  \\t\\t// 마커를 생성합니다\\n  \\t\\tvar mymarker = new kakao.maps.Marker({\\n//  \\t\\t\\t\\timage: markerImage, // 마커이미지 설정\\n  \\t\\t\\tposition: markerPosition\\n  \\t\\t});\\n  \\t\\tmymarker.setMap(map);\\n  \\t\\tif(mobileYn == \\'Y\\') moMapDetail = data\\n  \\t\\telse {\\n  \\t\\t\\tvar detail = data.body.result[0];\\n  \\t\\t\\t//setMapLayer(detail);\\n\\n  \\t\\t\\t// 마커에 click 이벤트를 등록합니다\\n  \\t\\t\\tkakao.maps.event.addListener(mymarker, \\'click\\', function() {\\n\\n  \\t\\t\\t\\t// 클릭된 마커가 없고, click 마커가 클릭된 마커가 아니면\\n  \\t\\t\\t\\t// 마커의 이미지를 클릭 이미지로 변경합니다\\n  \\t\\t\\t\\tif (!selectedMarker || selectedMarker !== mymarker) {\\n\\n  \\t\\t\\t\\t\\t// 클릭된 마커 객체가 null이 아니면\\n  \\t\\t\\t\\t\\t// 클릭된 마커의 이미지를 기본 이미지로 변경하고\\n  \\t\\t\\t\\t\\t!!selectedMarker && selectedMarker.setImage(selectedMarker.normalImage);\\n  \\t\\t\\t\\t}\\n  \\t\\t\\t\\t//setMapLayer(detail);\\n  \\t\\t\\t\\t// 클릭된 마커를 현재 클릭된 마커 객체로 설정합니다\\n  \\t\\t\\t\\tselectedMarker = mymarker;\\n  \\t\\t\\t});\\n  \\t\\t}\\n\\n  \\t\\tgetLocationList();\\n  \\t}\\n\\n\\n  \\t//지도 select\\n  \\tfunction getLocationList() {\\n\\n  \\t\\t$.ajax({\\n  \\t\\t\\turl: mainurl+\\'/call\\',\\n  \\t\\t\\tdataType: \\'json\\',\\n  \\t\\t\\ttype: \"POST\",\\n  \\t\\t\\tdata: {\\n  \\t\\t\\t\\tcmd : \\'MY_LOCATION_LIST_VIEW\\',\\n  \\t\\t\\t\\tlocationx : mapCenterlocationy+\\'\\',\\n  \\t\\t\\t\\tlocationy : mapCenterlocationx+\\'\\',\\n  \\t\\t\\t\\tradius : 3+\\'\\'\\n  \\t\\t\\t},\\n  \\t\\t\\tsuccess: function(data) {\\n  \\t\\t\\t\\tif(data.header.process == \"success\"){\\n  \\t\\t\\t\\t\\tif(mobileYn == \\'Y\\') goLocationListViewMo(data);\\n  \\t\\t\\t\\t\\telse goLocationListView(data);\\n  \\t\\t\\t\\t}\\n  \\t\\t\\t},\\n  \\t\\t\\tcomplete: function() {\\n  \\t\\t\\t\\tif(mobileYn == \\'N\\') $(\\'.loading svg\\').css(\\'position\\',\\'static\\');\\n  \\t\\t\\t\\thideLoding();\\n  \\t\\t\\t},\\n  \\t\\t\\terror: function(xhr, textStatus, errorThrown) {\\n  \\t\\t\\t}\\n  \\t\\t});\\n  \\t}\\n\\n\\n  \\tfunction goLocationListView(data) {\\n\\n  \\t\\tCreateaccessibility();\\n  \\t\\tremoveMarkers(tourMarkers);\\n  \\t\\tremoveMarkers(munMarkers);\\n  \\t\\tremoveMarkers(lepokMarkers);\\n  \\t\\tremoveMarkers(shopMarkers);\\n  \\t\\tremoveMarkers(hotelMarkers);\\n  \\t\\tremoveMarkers(foodMarkers);\\n  \\t\\tremoveMarkers(cosMarkers);\\n  \\t\\tremoveMarkers(sourroundingsMarkerArray);\\n\\n  \\t\\tvar markerSize = new kakao.maps.Size(26, 36); // 마커이미지의 크기입니다\\n  \\t\\tvar markerOffset = {offset: new kakao.maps.Point(26, 36)}; // 마커이미지의 옵션입니다. 마커의 좌표와 일치시킬 이미지 안에서의 좌표를 설정합니다.\\n  \\t\\tvar overMarkerSize = new kakao.maps.Size(28, 40); // 마커이미지의 크기입니다\\n  \\t\\tvar overMarkerOffset = {offset: new kakao.maps.Point(26, 36)}; // 마커이미지의 옵션입니다. 마커의 좌표와 일치시킬 이미지 안에서의 좌표를 설정합니다.\\n  \\t\\tvar normalOrigin_t \\t= cdnurl +  \\'/resources/images/sub/ico_marker1_def.png\\';\\n  \\t\\tvar overOrigin_t \\t= cdnurl +  \\'/resources/images/sub/ico_marker1_hover.png\\';\\n  \\t\\tvar clickOrigin_t \\t= cdnurl +  \\'/resources/images/sub/ico_marker1_on.png\\';\\n  \\t\\tvar normalOrigin_m \\t= cdnurl +  \\'/resources/images/sub/ico_marker2_def.png\\';\\n  \\t\\tvar overOrigin_m \\t= cdnurl +  \\'/resources/images/sub/ico_marker2_hover.png\\';\\n  \\t\\tvar clickOrigin_m \\t= cdnurl +  \\'/resources/images/sub/ico_marker2_on.png\\';\\n  \\t\\tvar normalOrigin_l \\t= cdnurl +  \\'/resources/images/sub/ico_marker8_def.png\\';\\n  \\t\\tvar overOrigin_l \\t= cdnurl +  \\'/resources/images/sub/ico_marker8_hover.png\\';\\n  \\t\\tvar clickOrigin_l \\t= cdnurl +  \\'/resources/images/sub/ico_marker8_on.png\\';\\n  \\t\\tvar normalOrigin_s \\t= cdnurl +  \\'/resources/images/sub/ico_marker4_def.png\\';\\n  \\t\\tvar overOrigin_s \\t= cdnurl +  \\'/resources/images/sub/ico_marker4_hover.png\\';\\n  \\t\\tvar clickOrigin_s \\t= cdnurl +  \\'/resources/images/sub/ico_marker4_on.png\\';\\n  \\t\\tvar normalOrigin_h \\t= cdnurl +  \\'/resources/images/sub/ico_marker5_def.png\\';\\n  \\t\\tvar overOrigin_h \\t= cdnurl +  \\'/resources/images/sub/ico_marker5_hover.png\\';\\n  \\t\\tvar clickOrigin_h \\t= cdnurl +  \\'/resources/images/sub/ico_marker5_on.png\\';\\n  \\t\\tvar normalOrigin_f \\t= cdnurl +  \\'/resources/images/sub/ico_marker6_def.png\\';\\n  \\t\\tvar overOrigin_f \\t= cdnurl +  \\'/resources/images/sub/ico_marker6_hover.png\\';\\n  \\t\\tvar clickOrigin_f \\t= cdnurl +  \\'/resources/images/sub/ico_marker6_on.png\\';\\n  \\t\\tvar normalOrigin_c \\t= cdnurl +  \\'/resources/images/sub/ico_marker7_def.png\\';\\n  \\t\\tvar overOrigin_c \\t= cdnurl +  \\'/resources/images/sub/ico_marker7_hover.png\\';\\n  \\t\\tvar clickOrigin_c \\t= cdnurl +  \\'/resources/images/sub/ico_marker7_on.png\\';\\n\\n  \\t\\tvar normalOrigin = \\'\\';\\n  \\t\\tvar overOrigin = \\'\\';\\n  \\t\\tvar clickOrigin = \\'\\';\\n\\n  \\t\\t$.each(data.body.result, function (index, items) {\\n  \\t\\t\\tvar telno = items.telNo;\\n  \\t\\t\\tSetaccessibilitydata(\\'all\\',items);\\n  \\t\\t\\tif( items.cosCotId != undefined &&  items.cosCotId != \\'\\' ) {\\n  \\t\\t\\t\\tnormalOrigin = normalOrigin_c;\\n  \\t\\t\\t\\toverOrigin = overOrigin_c;\\n  \\t\\t\\t\\tclickOrigin = clickOrigin_c;\\n  \\t\\t\\t\\tSetaccessibilitydata(\\'cos\\',items);\\n  \\t\\t\\t} else if( items.contentType == \\'12\\') {\\n  \\t\\t\\t\\tnormalOrigin = normalOrigin_t;\\n  \\t\\t\\t\\toverOrigin = overOrigin_t;\\n  \\t\\t\\t\\tclickOrigin = clickOrigin_t;\\n  \\t\\t\\t\\tSetaccessibilitydata(\\'tour\\',items);\\n  \\t\\t\\t\\tif(items.touristNo != \\'\\' && items.touristNo != null)\\n  \\t\\t\\t\\t\\ttelno = items.touristNo;\\n  \\t\\t\\t} else if( items.contentType == \\'14\\') {\\n  \\t\\t\\t\\tnormalOrigin = normalOrigin_m;\\n  \\t\\t\\t\\toverOrigin = overOrigin_m;\\n  \\t\\t\\t\\tclickOrigin = clickOrigin_m;\\n  \\t\\t\\t\\tSetaccessibilitydata(\\'mun\\',items);\\n  \\t\\t\\t\\tif(items.culturalNo != \\'\\' && items.culturalNo != null)\\n  \\t\\t\\t\\t\\ttelno = items.culturalNo;\\n  \\t\\t\\t} else if( items.contentType == \\'28\\') {\\n  \\t\\t\\t\\tnormalOrigin = normalOrigin_l;\\n  \\t\\t\\t\\toverOrigin = overOrigin_l;\\n  \\t\\t\\t\\tclickOrigin = clickOrigin_l;\\n  \\t\\t\\t\\tSetaccessibilitydata(\\'lepok\\',items);\\n  \\t\\t\\t\\tif(items.leportsNo != \\'\\' && items.leportsNo != null)\\n  \\t\\t\\t\\t\\ttelno = items.leportsNo;\\n  \\t\\t\\t} else if( items.contentType == \\'38\\') {\\n  \\t\\t\\t\\tnormalOrigin = normalOrigin_s;\\n  \\t\\t\\t\\toverOrigin = overOrigin_s;\\n  \\t\\t\\t\\tclickOrigin = clickOrigin_s;\\n  \\t\\t\\t\\tSetaccessibilitydata(\\'shop\\',items);\\n  \\t\\t\\t\\tif(items.shoppingNo != \\'\\' && items.shoppingNo != null)\\n  \\t\\t\\t\\t\\ttelno = items.shoppingNo;\\n  \\t\\t\\t} else if( items.contentType == \\'32\\') {\\n  \\t\\t\\t\\tnormalOrigin = normalOrigin_h;\\n  \\t\\t\\t\\toverOrigin = overOrigin_h;\\n  \\t\\t\\t\\tclickOrigin = clickOrigin_h;\\n  \\t\\t\\t\\tSetaccessibilitydata(\\'hotel\\',items);\\n  \\t\\t\\t\\tif(items.accommodationNo != \\'\\' && items.accommodationNo != null)\\n  \\t\\t\\t\\t\\ttelno = items.accommodationNo;\\n  \\t\\t\\t} else if( items.contentType == \\'39\\') {\\n  \\t\\t\\t\\tnormalOrigin = normalOrigin_f;\\n  \\t\\t\\t\\toverOrigin = overOrigin_f;\\n  \\t\\t\\t\\tclickOrigin = clickOrigin_f;\\n  \\t\\t\\t\\tSetaccessibilitydata(\\'food\\',items);\\n  \\t\\t\\t\\tif(items.eateryNo != \\'\\' && items.eateryNo != null)\\n  \\t\\t\\t\\t\\ttelno = items.eateryNo;\\n  \\t\\t\\t}\\n  \\t\\t\\t// 기본 마커이미지, 오버 마커이미지, 클릭 마커이미지를 생성합니다\\n  \\t\\t\\tvar normalImage = createMarkerImage(markerSize, markerOffset, normalOrigin),\\n  \\t\\t\\t\\toverImage = createMarkerImage(overMarkerSize, overMarkerOffset, overOrigin),\\n  \\t\\t\\t\\tclickImage = createMarkerImage(markerSize, markerOffset, clickOrigin);\\n\\n  \\t\\t\\t// 마커를 생성하고 이미지는 기본 마커 이미지를 사용합니다\\n  \\t\\t\\tvar marker = new kakao.maps.Marker({\\n  \\t\\t\\t\\tmap : map,\\n  \\t\\t\\t\\tposition: new kakao.maps.LatLng(items.mapY, items.mapX),\\n  \\t\\t\\t\\timage: normalImage\\n  \\t\\t\\t});\\n  \\t\\t\\t// 마커 객체에 마커아이디와 마커의 기본 이미지를 추가합니다\\n  \\t\\t\\tmarker.normalImage = normalImage;\\n  \\t\\t\\tmarker.clickImage = clickImage;\\n  \\t\\t\\tsourroundingsMarkerArray.push(marker);\\n\\n  \\t\\t\\tif( items.cosCotId != undefined &&  items.cosCotId != \\'\\' ) {\\n  \\t\\t\\t\\tcosMarkers.push(marker);\\n  \\t\\t\\t} else if( items.contentType == \\'12\\' ) {\\n  \\t\\t\\t\\ttourMarkers.push(marker);\\n  \\t\\t\\t} else if( items.contentType == \\'14\\') {\\n  \\t\\t\\t\\tmunMarkers.push(marker);\\n  \\t\\t\\t} else if( items.contentType == \\'28\\') {\\n  \\t\\t\\t\\tlepokMarkers.push(marker);\\n  \\t\\t\\t} else if( items.contentType == \\'32\\') {\\n  \\t\\t\\t\\thotelMarkers.push(marker);\\n  \\t\\t\\t} else if( items.contentType == \\'39\\') {\\n  \\t\\t\\t\\tfoodMarkers.push(marker);\\n  \\t\\t\\t} else if( items.contentType == \\'38\\') {\\n  \\t\\t\\t\\tshopMarkers.push(marker);\\n  \\t\\t\\t}\\n\\n  \\t\\t\\tmarker.setMap(null);\\n  \\t\\t\\t// 마커에 mouseover 이벤트를 등록합니다\\n  \\t\\t\\tkakao.maps.event.addListener(marker, \\'mouseover\\', function() {\\n  \\t\\t\\t\\t// 클릭된 마커가 없고, mouseover된 마커가 클릭된 마커가 아니면\\n  \\t\\t\\t\\t// 마커의 이미지를 오버 이미지로 변경합니다\\n  \\t\\t\\t\\tif (!selectedMarker || selectedMarker !== marker) {\\n  \\t\\t\\t\\t\\tmarker.setImage(overImage);\\n  \\t\\t\\t\\t}\\n  \\t\\t\\t});\\n  \\t\\t\\t// 마커에 mouseout 이벤트를 등록합니다\\n  \\t\\t\\tkakao.maps.event.addListener(marker, \\'mouseout\\', function() {\\n  \\t\\t\\t\\t// 클릭된 마커가 없고, mouseout된 마커가 클릭된 마커가 아니면\\n  \\t\\t\\t\\t// 마커의 이미지를 기본 이미지로 변경합니다\\n  \\t\\t\\t\\tif (!selectedMarker || selectedMarker !== marker) {\\n  \\t\\t\\t\\t\\tmarker.setImage(normalImage);\\n  \\t\\t\\t\\t}\\n  \\t\\t\\t});\\n  \\t\\t\\t// 마커에 click 이벤트를 등록합니다\\n  \\t\\t\\tkakao.maps.event.addListener(marker, \\'click\\', function() {\\n\\n  \\t\\t\\t\\t// 클릭된 마커가 없고, click 마커가 클릭된 마커가 아니면\\n  \\t\\t\\t\\t// 마커의 이미지를 클릭 이미지로 변경합니다\\n  \\t\\t\\t\\tif (!selectedMarker || selectedMarker !== marker) {\\n\\n  \\t\\t\\t\\t\\t// 클릭된 마커 객체가 null이 아니면\\n  \\t\\t\\t\\t\\t// 클릭된 마커의 이미지를 기본 이미지로 변경하고\\n  \\t\\t\\t\\t\\t!!selectedMarker && selectedMarker.setImage(selectedMarker.normalImage);\\n\\n  \\t\\t\\t\\t\\t// 현재 클릭된 마커의 이미지는 클릭 이미지로 변경합니다\\n  \\t\\t\\t\\t\\tmarker.setImage(clickImage);\\n  \\t\\t\\t\\t}\\n\\n  \\t\\t\\t\\tsetMapLayer(items);\\n  \\t\\t\\t\\t// 클릭된 마커를 현재 클릭된 마커 객체로 설정합니다\\n  \\t\\t\\t\\tselectedMarker = marker;\\n  \\t\\t\\t});\\n\\n  \\t\\t\\t// 지도가 이동, 확대, 축소로 인해 중심좌표가 변경되면 마지막 파라미터로 넘어온 함수를 호출하도록 이벤트를 등록합니다\\n  \\t\\t\\tkakao.maps.event.addListener(map, \\'center_changed\\', function() {\\n\\n  \\t\\t\\t\\t// 지도의  레벨을 얻어옵니다\\n  \\t\\t\\t\\tvar level = map.getLevel();\\n\\n  \\t\\t\\t\\t// 지도의 중심좌표를 얻어옵니다\\n  \\t\\t\\t\\tvar latlng = map.getCenter();\\n\\n  \\t\\t\\t\\tmapCenterlocationx = latlng.getLat();\\n  \\t\\t\\t\\tmapCenterlocationy = latlng.getLng();\\n  \\t\\t\\t});\\n  \\t\\t});\\n\\n  \\t\\t// 지도 중심을 이동 시킵니다\\n  \\t\\tmap.relayout();\\n  \\t\\tvar moveLatLon = new kakao.maps.LatLng(conLocationy, conLocationx);\\n  \\t\\tmap.panTo(moveLatLon);\\n\\n  \\t\\tif(mapRefreshYn) {\\n  \\t\\t\\t$(\\'.type_choice .all\\').click();\\n  \\t\\t\\tmapRefreshYn = false;\\n  \\t\\t}\\n  \\t}\\n\\n  \\tfunction listMap(x, y) {\\n  \\t\\tvar markerPosition  = new kakao.maps.LatLng(x, y);\\n\\n\\t  \\t// 이미지 지도에 표시할 마커입니다\\n\\t  \\t// 이미지 지도에 표시할 마커는 Object 형태입니다\\n\\t  \\tvar marker = {\\n\\t  \\t    position: markerPosition\\n\\t  \\t};\\n\\n\\t  \\tvar staticMapContainer  = document.getElementById(\\'map\\'), // 이미지 지도를 표시할 div\\n\\t  \\t    staticMapOption = {\\n\\t  \\t        center: new kakao.maps.LatLng(x, y), // 이미지 지도의 중심좌표\\n\\t  \\t        level: 3, // 이미지 지도의 확대 레벨\\n\\t  \\t        marker: marker // 이미지 지도에 표시할 마커\\n\\t  \\t    };\\n\\n\\t  \\t// 이미지 지도를 생성합니다\\n\\t  \\tvar staticMap = new kakao.maps.StaticMap(staticMapContainer, staticMapOption);\\n\\n  \\t}\\n\\n    function getSnsFavorites(cotId) {\\n        //고유명사 즐겨찾기 검색\\n           $.ajax({\\n              url: mainurl+\\'/call\\',\\n              dataType: \\'json\\',\\n              type: \"POST\",\\n              data: {\\n                 cmd : \\'GET_SNS_FAVORITES\\',\\n                 cotId : cotId\\n              },\\n              success: function(data) {\\n            \\t  snsId = data.header.sessionId;\\n                 if(data.body.result.length != 0){\\n \\t\\t\\t\\t\\t $(\\'#favoIcon\\').attr(\\'class\\',\\'icon2 on\\');\\n               \\t }\\n\\n              },\\n              complete: function() {\\n              },\\n              error: function(xhr, textStatus, errorThrown) {\\n              }\\n           });\\n\\n        }\\n\\n    //리스트 즐겨찾기 검색\\n  \\tfunction viewClick(cotId){\\n\\t\\t $.ajax({\\n            url: mainurl+\\'/call\\',\\n            dataType: \\'json\\',\\n            type: \"POST\",\\n            data: {\\n               cmd : \\'GET_SNS_FAVORITES\\',\\n               cotId : cotId,\\n            },\\n            success: function(data) {\\n          \\t  snsId = data.header.sessionId;\\n               if(data.body.result.length != 0){\\n              \\t\\t contentId = data.body.result[0].cotId;\\n              \\t\\t $(\\'.btn_far\\').attr(\\'class\\',\\'btn_far on\\');\\n                  $(\\'.btn_far a\\').attr(\\'title\\',\\'선택됨\\');\\n              \\t\\t$(\"#this\").attr(\\'class\\',\\'btn_far on\\');\\n             \\t }else{\\n             \\t\\t$(\\'.btn_far\\').attr(\\'class\\',\\'btn_far\\');\\n                  $(\\'.btn_far a\\').removeAttr(\\'title\\');\\n             \\t }\\n\\n            },\\n            complete: function() {\\n            },\\n            error: function(xhr, textStatus, errorThrown) {\\n            }\\n         });\\n\\n \\t}\\n\\n    //리스트 즐겨찾기 추가\\n    function setFavoContent(contentid) {\\n    \\tif( loginYn == \\'N\\') {\\n    \\t\\tshowLogin(2);\\n    \\t} else {\\n\\n    \\t\\t$.ajax({\\n    \\t\\t\\turl: mainurl+\\'/call\\',\\n    \\t\\t\\tdataType: \\'json\\',\\n    \\t\\t\\ttype: \"POST\",\\n    \\t\\t\\tdata: {\\n    \\t\\t\\t\\tcmd : \\'FAVO_CONTENTINFO_SAVE\\',\\n    \\t\\t\\t\\tcotid : contentid\\n    \\t\\t\\t},\\n    \\t\\t\\tsuccess: function(data) {\\n    \\t\\t\\t\\tif( data.header.process == \\'success\\' ) {\\n    \\t\\t\\t\\t\\talert(\\'즐겨찾기에 추가 되었습니다.\\');\\n    \\t\\t\\t\\t\\t$(\\'.btn_far\\').attr(\\'class\\',\\'btn_far on\\');\\n                       $(\\'.btn_far a\\').attr(\\'title\\',\\'선택됨\\');\\n    \\t\\t\\t\\t} else if( data.header.rsFlag == 0 ) {\\n    \\t\\t\\t\\t\\talert(\\'이미 즐겨찾기에 저장된 컨텐츠입니다.\\');\\n    \\t\\t\\t\\t}\\n\\n    \\t\\t\\t\\t$(\\'.btn_titview\\').removeClass(\\'on\\');\\n    \\t\\t\\t\\t$(\\'.dimmed2\\').remove();\\n    \\t\\t\\t},\\n    \\t\\t\\tcomplete: function() {\\n    \\t\\t\\t},\\n    \\t\\t\\terror: function(xhr, textStatus, errorThrown) {\\n    \\t\\t\\t}\\n    \\t\\t});\\n    \\t}\\n    }\\n\\n  //고유명사 즐겨찾기 추가\\n    function setFavoProper(contentid) {\\n    \\tif( loginYn == \\'N\\') {\\n    \\t\\tshowLogin(2);\\n    \\t} else {\\n\\n    \\t\\t$.ajax({\\n    \\t\\t\\turl: mainurl+\\'/call\\',\\n    \\t\\t\\tdataType: \\'json\\',\\n    \\t\\t\\ttype: \"POST\",\\n    \\t\\t\\tdata: {\\n    \\t\\t\\t\\tcmd : \\'FAVO_CONTENTINFO_SAVE\\',\\n    \\t\\t\\t\\tcotid : contentid\\n    \\t\\t\\t},\\n    \\t\\t\\tsuccess: function(data) {\\n    \\t\\t\\t\\tif( data.header.process == \\'success\\' ) {\\n    \\t\\t\\t\\t\\talert(\\'즐겨찾기에 추가 되었습니다.\\');\\n    \\t\\t\\t\\t\\t$(\\'#favoIcon\\').attr(\\'class\\',\\'icon2 on\\');\\n    \\t\\t\\t\\t} else if( data.header.rsFlag == 0 ) {\\n    \\t\\t\\t\\t\\talert(\\'이미 즐겨찾기에 저장된 컨텐츠입니다.\\');\\n    \\t\\t\\t\\t}\\n\\n    \\t\\t\\t\\t$(\\'.btn_titview\\').removeClass(\\'on\\');\\n    \\t\\t\\t\\t$(\\'.dimmed2\\').remove();\\n    \\t\\t\\t},\\n    \\t\\t\\tcomplete: function() {\\n    \\t\\t\\t},\\n    \\t\\t\\terror: function(xhr, textStatus, errorThrown) {\\n    \\t\\t\\t}\\n    \\t\\t});\\n    \\t}\\n    }\\n\\n\\n    function nevi(kind) {\\n    \\tif( kind == \"kakaomap\" ) {\\n    \\t\\texecuteAppKim(neviX ,neviY);\\n    \\t} else \\tif( kind == \\'tmap\\') {\\n    \\t\\texecuteAppTmap(neviX, neviY);\\n    \\t}\\n    }\\n\\n    function executeAppKim(x, y) {\\n\\n    \\tKakao.Navi.start({\\n    \\t\\tname : neviTitle,\\n    \\t\\tx : Number(x),\\n    \\t\\ty : Number(y),\\n    \\t\\tcoordType : \\'wgs84\\'\\n    \\t});\\n    }\\n\\n    function executeAppTmap(x, y) {\\n    \\tif(getDevice() == \\'iOS\\' && getBrowser() == \\'CriOS\\'){\\n    \\t\\twindow.open(mainurl+\\'/detail/tmap_route.do?x=\\'+x+\\'&y=\\'+y+\\'&contitle=\\'+neviTitle,\\'_blank\\').focus();\\n    \\t} else if(getDevice() == \\'Android\\' && getBrowser() == \\'Firefox\\'){\\n    \\t\\talert(\"T map을 사용하시려면 다른 브라우저를 사용해주세요\");\\n    \\t} else if(getDevice() == \\'iOS\\' && getBrowser().indexOf(\\'Opera\\') != -1){\\n    \\t\\talert(\"T map을 사용하시려면 다른 브라우저를 사용해주세요\");\\n    \\t} else{\\n    \\t\\tvar url = \\'https://apis.openapi.sk.com/tmap/app/routes?appKey=l7xxec4be930266b4d9d820b75642edec2fc&name=\\'+encodeURIComponent(neviTitle)+\\'&lon=\\'+x+\\'&lat=\\'+y;\\n    \\t\\tvar openNewWindow = window.open(url);\\n    \\t}\\n    }\\n\\n    function setMetaTag(type,content){\\n       switch (type) {\\n          case \\'1\\':\\n             $(\"meta[name=keywords]\").attr(\"content\", content.replace(\\'<br>\\',\\'\\').replace(/<!HE>/gi,\\'\\').replace(/<!HS>/gi,\\'\\'));\\n             break;\\n          case \\'2\\':\\n             document.title = content + \" 추천 여행정보 :대한민국 구석구석\";\\n             $(\"meta[property=og\\\\\\\\title]\").attr(\"content\", content + \" 추천 여행정보 :대한민국 구석구석\");\\n             $(\"meta[property=og\\\\\\\\:description]\").attr(\"content\", content + \" 추천 여행정보 :대한민국 구석구석\");\\n             $(\"meta[property=og\\\\\\\\:url]\").attr(\"content\", mainurl+\"/search/search_list.do?keyword=\"+content);\\n             break;\\n       }\\n\\n    }\\n\\n    function getContentListByIgnoreSuggestion(wrongKeyword) {\\n    \\tignoreSuggestionKeyword = wrongKeyword;\\n    \\t$(\"#inp_search\").val(wrongKeyword);\\n    \\thkeyword = wrongKeyword;\\n    \\tgetContentList();\\n    }\\n\\n    function togleBrandOptionOverflow(stitTag) {\\n    \\tif ($(stitTag).hasClass(\"on\")) {\\n    \\t\\t$(stitTag).removeClass(\"on\");\\n    \\t} else {\\n    \\t\\t$(stitTag).addClass(\"on\");\\n    \\t}\\n    }\\n\\n    function resetSearchDetailOptions() {\\n    \\t$(\\'#searchAdd\\').val(\\'\\');\\n    \\tsearchAdd = \\'\\';\\n\\n\\t\\tselectAreaRemove();\\n\\t\\t$(\\'#arealist #All button\\').addClass(\\'btn_all_active\\');\\n\\t\\tsareaCode = \\'All\\';\\n\\t\\t$(\\'#arealist #All button\\').attr(\\'title\\',\\'선택됨\\');\\n\\n\\t\\t$(\"#sigungulist li\").remove();\\n\\n\\t\\tssigunguCode = \\'All\\';\\n\\t\\t$(\\'#sigungulist\\').slideUp(500);\\n\\n\\t\\tselectTagRemove();\\n\\t\\t$(\\'#taglist #All button\\').addClass(\\'btn_all_active\\');\\n\\t\\tstagId = \\'All\\';\\n\\t\\tstagName = \\'All\\';\\n\\t\\t$(\\'#taglist #All button\\').attr(\\'title\\', \\'선택됨\\');\\n\\n\\t\\tgetContentList();\\n    }\\n\\n   </script>\\n\\n\\n\\n\\n<script type=\"text/javascript\" id=\"\">!function(b,e,f,g,a,c,d){b.fbq||(a=b.fbq=function(){a.callMethod?a.callMethod.apply(a,arguments):a.queue.push(arguments)},b._fbq||(b._fbq=a),a.push=a,a.loaded=!0,a.version=\"2.0\",a.queue=[],c=e.createElement(f),c.async=!0,c.src=g,d=e.getElementsByTagName(f)[0],d.parentNode.insertBefore(c,d))}(window,document,\"script\",\"https://connect.facebook.net/en_US/fbevents.js\");fbq(\"init\",\"2686987211544937\");fbq(\"set\",\"agent\",\"tmgoogletagmanager\",\"2686987211544937\");fbq(\"track\",\"PageView\");</script>\\n<noscript>&lt;img height=\"1\" width=\"1\" style=\"display:none\" src=\"https://www.facebook.com/tr?id=2686987211544937&amp;amp;ev=PageView&amp;amp;noscript=1\"&gt;</noscript>\\n<script type=\"text/javascript\" id=\"\">function getIP(a){dataLayer.push({event:\"ipEvent\",ipAddress:a.ip})};</script>\\n<script type=\"text/javascript\" id=\"\" src=\"https://api.ipify.org?format=jsonp&amp;callback=getIP\"></script><div id=\"ttalk-frame\"></div>\\n</body></html>'"
      ]
     },
     "execution_count": 29,
     "metadata": {},
     "output_type": "execute_result"
    }
   ],
   "source": []
  },
  {
   "cell_type": "code",
   "execution_count": 30,
   "id": "db79cccb",
   "metadata": {},
   "outputs": [],
   "source": [
    "soup = BeautifulSoup(full_html, 'html.parser')"
   ]
  },
  {
   "cell_type": "code",
   "execution_count": 39,
   "id": "7c2b0032",
   "metadata": {},
   "outputs": [
    {
     "data": {
      "text/plain": [
       "<ul class=\"list_thumType type1\"><li><div class=\"photo\"><a href=\"javascript:goSearchDetail('e708bca1-a047-4b1f-9b35-0884ca9a446e');\"> <img alt=\"[충주 여행 코스] 봄에 꼭 충주를 가야 하는 이유, 충주 가볼 만한 곳\" src=\"https://cdn.visitkorea.or.kr/img/call?cmd=VIEW&amp;id=cef59e5b-c4b0-482a-a97b-c64cd94d32c8\"/> </a></div> <div class=\"area_txt\"> <div class=\"tit\"> <a href=\"javascript:goSearchDetail('e708bca1-a047-4b1f-9b35-0884ca9a446e');\"><em></em>[충주 <!--HS--><em>여행</em><!--HE--> 코스] <!--HS--><em>봄</em><!--HE-->에 꼭 충주를 가야 하는 이유, 충주 가볼 만한 곳</a> </div> <div class=\"service\"> <p>충청북도 충주시</p> <ul class=\"brandingIcon\" id=\"branding_e708bca1-a047-4b1f-9b35-0884ca9a446e\"> </ul> </div> <p class=\"tag_type\"><span>#<em></em>충주<em>여행</em></span><span>#<em></em>충주가볼만한곳</span><span>#<em></em><em>봄</em><em>여행</em></span><span>#<em></em><em>봄</em><em>여행</em>지</span><span>#<em></em>충주댐</span><span>#<em></em>활옥동굴</span><span>#<em></em>중앙탑사적공원</span><span>#<em></em>게으른악어</span> </p></div><button class=\"btn_view\" onclick='viewClick(\"e708bca1-a047-4b1f-9b35-0884ca9a446e\")' title=\"열기\" type=\"button\">더보기</button><div class=\"pop_subMenu\"> <ul> <li class=\"btn_far\"><a href=\"javascript:\" onclick='setFavoContent(\"e708bca1-a047-4b1f-9b35-0884ca9a446e\")'>즐겨찾기</a></li> <li class=\"btn_share\" id=\"e708bca1-a047-4b1f-9b35-0884ca9a446e\"><a href=\"javascript:\" onclick='getShareInfo(\"%5B%EC%B6%A9%EC%A3%BC%20%3C!HS%3E%EC%97%AC%ED%96%89%3C!HE%3E%20%EC%BD%94%EC%8A%A4%5D%20%3C!HS%3E%EB%B4%84%3C!HE%3E%EC%97%90%20%EA%BC%AD%20%EC%B6%A9%EC%A3%BC%EB%A5%BC%20%EA%B0%80%EC%95%BC%20%ED%95%98%EB%8A%94%20%EC%9D%B4%EC%9C%A0%2C%20%EC%B6%A9%EC%A3%BC%20%EA%B0%80%EB%B3%BC%20%EB%A7%8C%ED%95%9C%20%EA%B3%B3\",\"cef59e5b-c4b0-482a-a97b-c64cd94d32c8\",\"e708bca1-a047-4b1f-9b35-0884ca9a446e\",\"304\");'>공유하기</a></li> </ul></div></li><li><div class=\"photo\"><a href=\"javascript:goSearchDetail('3bb47ec6-39bc-4bb1-91ff-6b4446589fdd');\"> <img alt=\"[충남 봄 여행] 낭만 찾아 떠나는 여행, &lt;br&gt;천안·아산 봄나들이\" src=\"https://cdn.visitkorea.or.kr/img/call?cmd=VIEW&amp;id=6591221e-8799-4691-bf85-dd41d0e6cb91\"/> </a></div> <div class=\"area_txt\"> <div class=\"tit\"> <a href=\"javascript:goSearchDetail('3bb47ec6-39bc-4bb1-91ff-6b4446589fdd');\"><em></em>[충남 <!--HS--><em>봄</em><!--HE--> <!--HS--><em>여행</em><!--HE-->] 낭만 찾아 떠나는 <!--HS-->여행<!--HE-->, <br/>천안·아산 <!--HS-->봄<!--HE-->나들이</a> </div> <div class=\"service\"> <p>충청남도 </p> <ul class=\"brandingIcon\" id=\"branding_3bb47ec6-39bc-4bb1-91ff-6b4446589fdd\"> </ul> </div> <p class=\"tag_type\"><span>#<em></em>충남<em>여행</em></span><span>#<em></em>충남가볼만한곳</span><span>#<em></em>천안<em>여행</em></span><span>#<em></em>천안가볼만한곳</span><span>#<em></em>아산<em>여행</em></span><span>#<em></em>아산가볼만한곳</span><span>#<em></em><em>봄</em>나들이</span><span>#<em></em><em>봄</em>나들이<em>여행</em></span><span>#<em></em><em>봄</em><em>여행</em></span><span>#<em></em><em>봄</em><em>여행</em>지</span><span>#<em></em>국내<em>봄</em><em>여행</em>지추천</span><span>#<em></em>벚꽃명소</span><span>#<em></em>천호지</span><span>#<em></em>단대호수</span><span>#<em></em>각원사</span><span>#<em></em>현충사</span><span>#<em></em>아산현충사</span><span>#<em></em>당림미술관</span><span>#<em></em>세계꽃식물원</span> </p></div><button class=\"btn_view\" onclick='viewClick(\"3bb47ec6-39bc-4bb1-91ff-6b4446589fdd\")' title=\"열기\" type=\"button\">더보기</button><div class=\"pop_subMenu\"> <ul> <li class=\"btn_far\"><a href=\"javascript:\" onclick='setFavoContent(\"3bb47ec6-39bc-4bb1-91ff-6b4446589fdd\")'>즐겨찾기</a></li> <li class=\"btn_share\" id=\"3bb47ec6-39bc-4bb1-91ff-6b4446589fdd\"><a href=\"javascript:\" onclick='getShareInfo(\"%5B%EC%B6%A9%EB%82%A8%20%3C!HS%3E%EB%B4%84%3C!HE%3E%20%3C!HS%3E%EC%97%AC%ED%96%89%3C!HE%3E%5D%20%EB%82%AD%EB%A7%8C%20%EC%B0%BE%EC%95%84%20%EB%96%A0%EB%82%98%EB%8A%94%20%3C!HS%3E%EC%97%AC%ED%96%89%3C!HE%3E%2C%20%3Cbr%3E%EC%B2%9C%EC%95%88%C2%B7%EC%95%84%EC%82%B0%20%3C!HS%3E%EB%B4%84%3C!HE%3E%EB%82%98%EB%93%A4%EC%9D%B4\",\"6591221e-8799-4691-bf85-dd41d0e6cb91\",\"3bb47ec6-39bc-4bb1-91ff-6b4446589fdd\",\"304\");'>공유하기</a></li> </ul></div></li><li><div class=\"photo\"><a href=\"javascript:goSearchDetail('ea3355b6-2c81-4cca-ae83-dd069820d368');\"> <img alt=\"[구례 봄 여행] 달달하게 봄을 즐길 수 있는 구례 봄꽃 명소 4\" src=\"https://cdn.visitkorea.or.kr/img/call?cmd=VIEW&amp;id=4f058fab-3a26-433e-87b1-63c9148fe47f\"/> </a></div> <div class=\"area_txt\"> <div class=\"tit\"> <a href=\"javascript:goSearchDetail('ea3355b6-2c81-4cca-ae83-dd069820d368');\"><em></em>[구례 <!--HS--><em>봄</em><!--HE--> <!--HS--><em>여행</em><!--HE-->] 달달하게 <!--HS-->봄<!--HE-->을 즐길 수 있는 구례 <!--HS-->봄<!--HE-->꽃 명소 4</a> </div> <div class=\"service\"> <p>전라남도 구례군</p> <ul class=\"brandingIcon\" id=\"branding_ea3355b6-2c81-4cca-ae83-dd069820d368\"> </ul> </div> <p class=\"tag_type\"><span>#<em></em>구례<em>여행</em></span><span>#<em></em>구례가볼만한곳</span><span>#<em></em><em>봄</em>꽃명소</span><span>#<em></em><em>봄</em>꽃</span><span>#<em></em><em>봄</em>꽃<em>여행</em></span><span>#<em></em><em>봄</em><em>여행</em></span><span>#<em></em>산수유마을</span><span>#<em></em>구례산수유마을</span><span>#<em></em>화엄사</span><span>#<em></em>섬진강</span><span>#<em></em>섬진강벚꽃길</span><span>#<em></em>쌍산재</span> </p></div><button class=\"btn_view\" onclick='viewClick(\"ea3355b6-2c81-4cca-ae83-dd069820d368\")' title=\"열기\" type=\"button\">더보기</button><div class=\"pop_subMenu\"> <ul> <li class=\"btn_far\"><a href=\"javascript:\" onclick='setFavoContent(\"ea3355b6-2c81-4cca-ae83-dd069820d368\")'>즐겨찾기</a></li> <li class=\"btn_share\" id=\"ea3355b6-2c81-4cca-ae83-dd069820d368\"><a href=\"javascript:\" onclick='getShareInfo(\"%5B%EA%B5%AC%EB%A1%80%20%3C!HS%3E%EB%B4%84%3C!HE%3E%20%3C!HS%3E%EC%97%AC%ED%96%89%3C!HE%3E%5D%20%EB%8B%AC%EB%8B%AC%ED%95%98%EA%B2%8C%20%3C!HS%3E%EB%B4%84%3C!HE%3E%EC%9D%84%20%EC%A6%90%EA%B8%B8%20%EC%88%98%20%EC%9E%88%EB%8A%94%20%EA%B5%AC%EB%A1%80%20%3C!HS%3E%EB%B4%84%3C!HE%3E%EA%BD%83%20%EB%AA%85%EC%86%8C%204\",\"4f058fab-3a26-433e-87b1-63c9148fe47f\",\"ea3355b6-2c81-4cca-ae83-dd069820d368\",\"304\");'>공유하기</a></li> </ul></div></li><li><div class=\"photo\"><a href=\"javascript:goSearchDetail('18174205-81ee-4309-ae25-2fc166d90e20');\"> <img alt=\"[거제] 봄을 따라 걷는 여행, 거제도\" src=\"https://cdn.visitkorea.or.kr/img/call?cmd=VIEW&amp;id=45924426-8448-4210-a5c5-ee203cc0aea6\"/> </a></div> <div class=\"area_txt\"> <div class=\"tit\"> <a href=\"javascript:goSearchDetail('18174205-81ee-4309-ae25-2fc166d90e20');\"><em></em>[거제] <!--HS--><em>봄</em><!--HE-->을 따라 걷는 <!--HS--><em>여행</em><!--HE-->, 거제도</a> </div> <div class=\"service\"> <p>경상남도 거제시</p> <ul class=\"brandingIcon\" id=\"branding_18174205-81ee-4309-ae25-2fc166d90e20\"> </ul> </div> <p class=\"tag_type\"><span>#<em></em>거제</span><span>#<em></em>경남거제</span><span>#<em></em>거제도관광지</span><span>#<em></em>거제도<em>여행</em></span><span>#<em></em>거제섬<em>여행</em></span><span>#<em></em>거제도</span><span>#<em></em>거제도전망좋은곳</span><span>#<em></em>거제도<em>여행</em>코스</span><span>#<em></em>소낭구펜션</span><span>#<em></em><em>봄</em><em>여행</em></span><span>#<em></em>한국관광품질인증</span><span>#<em></em><em>봄</em><em>여행</em>지</span><span>#<em></em>남해<em>여행</em></span><span>#<em></em>거제도펜션</span><span>#<em></em>거제도숙소</span><span>#<em></em>한옥</span><span>#<em></em>한옥펜션</span><span>#<em></em>바비큐</span><span>#<em></em>야외바비큐</span><span>#<em></em>해금강</span><span>#<em></em>외도보타니아</span><span>#<em></em>거제가볼만한곳</span><span>#<em></em>맹종죽순체험길</span><span>#<em></em>바람의언덕</span><span>#<em></em>산책로</span><span>#<em></em>바람의언덕길</span><span>#<em></em>오션뷰</span><span>#<em></em>취사</span><span>#<em></em>거제투어</span> </p></div><button class=\"btn_view\" onclick='viewClick(\"18174205-81ee-4309-ae25-2fc166d90e20\")' title=\"열기\" type=\"button\">더보기</button><div class=\"pop_subMenu\"> <ul> <li class=\"btn_far\"><a href=\"javascript:\" onclick='setFavoContent(\"18174205-81ee-4309-ae25-2fc166d90e20\")'>즐겨찾기</a></li> <li class=\"btn_share\" id=\"18174205-81ee-4309-ae25-2fc166d90e20\"><a href=\"javascript:\" onclick='getShareInfo(\"%5B%EA%B1%B0%EC%A0%9C%5D%20%3C!HS%3E%EB%B4%84%3C!HE%3E%EC%9D%84%20%EB%94%B0%EB%9D%BC%20%EA%B1%B7%EB%8A%94%20%3C!HS%3E%EC%97%AC%ED%96%89%3C!HE%3E%2C%20%EA%B1%B0%EC%A0%9C%EB%8F%84\",\"45924426-8448-4210-a5c5-ee203cc0aea6\",\"18174205-81ee-4309-ae25-2fc166d90e20\",\"304\");'>공유하기</a></li> </ul></div></li><li class=\"banner_area\"> <div class=\"pc\"> <a class=\"banner0\" href=\"https://korean.visitkorea.or.kr/detail/event_detail.do?cotid=d80c2c04-6e0c-4b9f-be9c-f08be21a120a\"><span><img alt=\"'당신의 최애 맛집은?' 최애 맛집 제보 이벤트\" src=\"https://cdn.visitkorea.or.kr/img/call?cmd=VIEW&amp;id=92425982-5493-4c9c-bb21-4d572ccf64a9\"/></span></a> <a class=\"banner1\" href=\"https://korean.visitkorea.or.kr/trss/applyintro.do?utm_source=main_showcase\"><span><img alt=\"핫플 정기 배송! 가볼래-터 구독하고 여행 선물 받자!\" src=\"https://cdn.visitkorea.or.kr/img/call?cmd=VIEW&amp;id=959affcc-254d-4161-accb-559b39336b26\"/></span></a> </div></li><li><div class=\"photo\"><a href=\"javascript:goSearchDetail('da03d388-37b6-47c6-b6a7-a41d35e7d905');\"> <img alt=\"국내 당일치기 여행, 진천 봄나들이 추천 명소\" src=\"https://cdn.visitkorea.or.kr/img/call?cmd=VIEW&amp;id=266a02c2-477a-4ecc-92a7-6d18b589996f\"/> </a></div> <div class=\"area_txt\"> <div class=\"tit\"> <a href=\"javascript:goSearchDetail('da03d388-37b6-47c6-b6a7-a41d35e7d905');\"><em></em>국내 당일치기 <!--HS--><em>여행</em><!--HE-->, 진천 <!--HS--><em>봄</em><!--HE-->나들이 추천 명소</a> </div> <div class=\"service\"> <p>충청북도 진천군</p> <ul class=\"brandingIcon\" id=\"branding_da03d388-37b6-47c6-b6a7-a41d35e7d905\"> </ul> </div> <p class=\"tag_type\"><span>#<em></em>진천<em>여행</em></span><span>#<em></em>진천가볼만한곳</span><span>#<em></em>한반도지형전망공원</span><span>#<em></em>한반도지형</span><span>#<em></em>농다리</span><span>#<em></em>진천농다리</span><span>#<em></em>미르숲</span><span>#<em></em>농암정</span><span>#<em></em>길상사</span><span>#<em></em><em>봄</em><em>여행</em>지</span><span>#<em></em><em>봄</em><em>여행</em>지추천</span> </p></div><button class=\"btn_view\" onclick='viewClick(\"da03d388-37b6-47c6-b6a7-a41d35e7d905\")' title=\"열기\" type=\"button\">더보기</button><div class=\"pop_subMenu\"> <ul> <li class=\"btn_far\"><a href=\"javascript:\" onclick='setFavoContent(\"da03d388-37b6-47c6-b6a7-a41d35e7d905\")'>즐겨찾기</a></li> <li class=\"btn_share\" id=\"da03d388-37b6-47c6-b6a7-a41d35e7d905\"><a href=\"javascript:\" onclick='getShareInfo(\"%EA%B5%AD%EB%82%B4%20%EB%8B%B9%EC%9D%BC%EC%B9%98%EA%B8%B0%20%3C!HS%3E%EC%97%AC%ED%96%89%3C!HE%3E%2C%20%EC%A7%84%EC%B2%9C%20%3C!HS%3E%EB%B4%84%3C!HE%3E%EB%82%98%EB%93%A4%EC%9D%B4%20%EC%B6%94%EC%B2%9C%20%EB%AA%85%EC%86%8C\",\"266a02c2-477a-4ecc-92a7-6d18b589996f\",\"da03d388-37b6-47c6-b6a7-a41d35e7d905\",\"304\");'>공유하기</a></li> </ul></div></li><li><div class=\"photo\"><a href=\"javascript:goSearchDetail('98dddf4d-2fd7-4db8-adc2-3a45fcfd88b7');\"> <img alt=\"봄바람 따라 살랑살랑 통영 1박2일 여행코스\" src=\"https://cdn.visitkorea.or.kr/img/call?cmd=VIEW&amp;id=877a53fb-c4f5-47ec-9715-4cd628751d6d\"/> </a></div> <div class=\"area_txt\"> <div class=\"tit\"> <a href=\"javascript:goSearchDetail('98dddf4d-2fd7-4db8-adc2-3a45fcfd88b7');\"><em></em><!--HS--><em>봄</em><!--HE-->바람 따라 살랑살랑 통영 1박2일 <!--HS--><em>여행</em><!--HE-->코스</a> </div> <div class=\"service\"> <p>경상남도 통영시</p> <ul class=\"brandingIcon\" id=\"branding_98dddf4d-2fd7-4db8-adc2-3a45fcfd88b7\"> </ul> </div> <p class=\"tag_type\"><span>#<em></em>통영</span><span>#<em></em>통영1박2일코스</span><span>#<em></em>통영가볼만한곳</span><span>#<em></em>장사도해상공원</span><span>#<em></em>박경리기념관</span><span>#<em></em>미래사</span><span>#<em></em>서피랑</span><span>#<em></em><em>봄</em><em>여행</em></span><span>#<em></em><em>봄</em><em>여행</em>지</span><span>#<em></em><em>봄</em><em>여행</em>지추천</span><span>#<em></em>취향따라_떠나는_특별한_보통날</span><span>#<em></em><em>봄</em><em>여행</em>주간</span><span>#<em></em>미리<em>봄</em>_<em>여행</em>지</span> </p></div><button class=\"btn_view\" onclick='viewClick(\"98dddf4d-2fd7-4db8-adc2-3a45fcfd88b7\")' title=\"열기\" type=\"button\">더보기</button><div class=\"pop_subMenu\"> <ul> <li class=\"btn_far\"><a href=\"javascript:\" onclick='setFavoContent(\"98dddf4d-2fd7-4db8-adc2-3a45fcfd88b7\")'>즐겨찾기</a></li> <li class=\"btn_share\" id=\"98dddf4d-2fd7-4db8-adc2-3a45fcfd88b7\"><a href=\"javascript:\" onclick='getShareInfo(\"%3C!HS%3E%EB%B4%84%3C!HE%3E%EB%B0%94%EB%9E%8C%20%EB%94%B0%EB%9D%BC%20%EC%82%B4%EB%9E%91%EC%82%B4%EB%9E%91%20%ED%86%B5%EC%98%81%201%EB%B0%952%EC%9D%BC%20%3C!HS%3E%EC%97%AC%ED%96%89%3C!HE%3E%EC%BD%94%EC%8A%A4\",\"877a53fb-c4f5-47ec-9715-4cd628751d6d\",\"98dddf4d-2fd7-4db8-adc2-3a45fcfd88b7\",\"304\");'>공유하기</a></li> </ul></div></li><li><div class=\"photo\"><a href=\"javascript:goSearchDetail('526908dc-0a8f-4682-9192-9a0380f24391');\"> <img alt=\"우리 아이와 봄나들이 갈 시간⏰ &lt;br&gt;서울 근교 여행지 4\" src=\"https://cdn.visitkorea.or.kr/img/call?cmd=VIEW&amp;id=e2e5ee20-2f4a-4f5b-ba8f-3ad8e9980a5d\"/> </a></div> <div class=\"area_txt\"> <div class=\"tit\"> <a href=\"javascript:goSearchDetail('526908dc-0a8f-4682-9192-9a0380f24391');\"><em></em>우리 아이와 <!--HS--><em>봄</em><!--HE-->나들이 갈 시간⏰ <br/>서울 근교 <!--HS--><em>여행</em><!--HE-->지 4</a> </div> <div class=\"service\"> <p>전국 </p> <ul class=\"brandingIcon\" id=\"branding_526908dc-0a8f-4682-9192-9a0380f24391\"> </ul> </div> <p class=\"tag_type\"><span>#<em></em>화성<em>여행</em></span><span>#<em></em>화성가볼만한곳</span><span>#<em></em>트로피컬베이</span><span>#<em></em>파주<em>여행</em></span><span>#<em></em>파주가볼만한곳</span><span>#<em></em>애플샤인농원</span><span>#<em></em>인천<em>여행</em></span><span>#<em></em>인천가볼만한곳</span><span>#<em></em>송도해돋이공원</span><span>#<em></em>해돋이공원</span><span>#<em></em>서울<em>여행</em></span><span>#<em></em>서울가볼만한곳</span><span>#<em></em>선유도공원</span><span>#<em></em><em>봄</em>나들이</span><span>#<em></em><em>봄</em>나들이<em>여행</em></span><span>#<em></em>아이와함께</span><span>#<em></em>세시간전</span><span>#<em></em><em>봄</em><em>여행</em></span><span>#<em></em>당일치기<em>여행</em></span> </p></div><button class=\"btn_view\" onclick='viewClick(\"526908dc-0a8f-4682-9192-9a0380f24391\")' title=\"열기\" type=\"button\">더보기</button><div class=\"pop_subMenu\"> <ul> <li class=\"btn_far\"><a href=\"javascript:\" onclick='setFavoContent(\"526908dc-0a8f-4682-9192-9a0380f24391\")'>즐겨찾기</a></li> <li class=\"btn_share\" id=\"526908dc-0a8f-4682-9192-9a0380f24391\"><a href=\"javascript:\" onclick='getShareInfo(\"%EC%9A%B0%EB%A6%AC%20%EC%95%84%EC%9D%B4%EC%99%80%20%3C!HS%3E%EB%B4%84%3C!HE%3E%EB%82%98%EB%93%A4%EC%9D%B4%20%EA%B0%88%20%EC%8B%9C%EA%B0%84%E2%8F%B0%20%3Cbr%3E%EC%84%9C%EC%9A%B8%20%EA%B7%BC%EA%B5%90%20%3C!HS%3E%EC%97%AC%ED%96%89%3C!HE%3E%EC%A7%80%204\",\"e2e5ee20-2f4a-4f5b-ba8f-3ad8e9980a5d\",\"526908dc-0a8f-4682-9192-9a0380f24391\",\"304\");'>공유하기</a></li> </ul></div></li><li><div class=\"photo\"><a href=\"javascript:goSearchDetail('24a61392-c659-4230-b96f-1121fc3a25ad');\"> <img alt=\"아이와 봄 드라이브 떠나자! 안성 여행지 4\" src=\"https://cdn.visitkorea.or.kr/img/call?cmd=VIEW&amp;id=3c005958-332e-4af7-91ac-f9a63fae88cb\"/> </a></div> <div class=\"area_txt\"> <div class=\"tit\"> <a href=\"javascript:goSearchDetail('24a61392-c659-4230-b96f-1121fc3a25ad');\"><em></em>아이와 <!--HS--><em>봄</em><!--HE--> 드라이브 떠나자! 안성 <!--HS--><em>여행</em><!--HE-->지 4</a> </div> <div class=\"service\"> <p>경기도 안성시</p> <ul class=\"brandingIcon\" id=\"branding_24a61392-c659-4230-b96f-1121fc3a25ad\"> </ul> </div> <p class=\"tag_type\"><span>#<em></em>안성<em>여행</em></span><span>#<em></em>안성가볼만한곳</span><span>#<em></em>드라이브<em>여행</em></span><span>#<em></em><em>봄</em><em>여행</em></span><span>#<em></em><em>봄</em><em>여행</em>지</span><span>#<em></em>안성팜랜드</span><span>#<em></em>소나무카페</span><span>#<em></em>풍사니랑</span><span>#<em></em>아메리카나</span><span>#<em></em>아이와함께</span><span>#<em></em>세시간전</span> </p></div><button class=\"btn_view\" onclick='viewClick(\"24a61392-c659-4230-b96f-1121fc3a25ad\")' title=\"열기\" type=\"button\">더보기</button><div class=\"pop_subMenu\"> <ul> <li class=\"btn_far\"><a href=\"javascript:\" onclick='setFavoContent(\"24a61392-c659-4230-b96f-1121fc3a25ad\")'>즐겨찾기</a></li> <li class=\"btn_share\" id=\"24a61392-c659-4230-b96f-1121fc3a25ad\"><a href=\"javascript:\" onclick='getShareInfo(\"%EC%95%84%EC%9D%B4%EC%99%80%20%3C!HS%3E%EB%B4%84%3C!HE%3E%20%EB%93%9C%EB%9D%BC%EC%9D%B4%EB%B8%8C%20%EB%96%A0%EB%82%98%EC%9E%90!%20%EC%95%88%EC%84%B1%20%3C!HS%3E%EC%97%AC%ED%96%89%3C!HE%3E%EC%A7%80%204\",\"3c005958-332e-4af7-91ac-f9a63fae88cb\",\"24a61392-c659-4230-b96f-1121fc3a25ad\",\"304\");'>공유하기</a></li> </ul></div></li><li><div class=\"photo\"><a href=\"javascript:goSearchDetail('d7008509-e8e9-48b7-9510-596c3c24cfea');\"> <img alt=\"국내 봄 여행지, &lt;br&gt;군위 비대면 봄나들이 코스\" src=\"https://cdn.visitkorea.or.kr/img/call?cmd=VIEW&amp;id=df95cb6c-c1be-45b9-a643-9b01a49dacb2\"/> </a></div> <div class=\"area_txt\"> <div class=\"tit\"> <a href=\"javascript:goSearchDetail('d7008509-e8e9-48b7-9510-596c3c24cfea');\"><em></em>국내 <!--HS--><em>봄</em><!--HE--> <!--HS--><em>여행</em><!--HE-->지, <br/>군위 비대면 <!--HS-->봄<!--HE-->나들이 코스</a> </div> <div class=\"service\"> <p>경상북도 군위군</p> <ul class=\"brandingIcon\" id=\"branding_d7008509-e8e9-48b7-9510-596c3c24cfea\"> </ul> </div> <p class=\"tag_type\"><span>#<em></em>군위<em>여행</em></span><span>#<em></em>군위가볼만한곳</span><span>#<em></em>삼존석굴</span><span>#<em></em>군위삼존석굴</span><span>#<em></em>한밤마을</span><span>#<em></em>화본역</span><span>#<em></em>혜원의집</span><span>#<em></em>영화촬영지</span><span>#<em></em>화산산성</span><span>#<em></em>​화산산성전망대</span><span>#<em></em>리틀포레스트</span> </p></div><button class=\"btn_view\" onclick='viewClick(\"d7008509-e8e9-48b7-9510-596c3c24cfea\")' title=\"열기\" type=\"button\">더보기</button><div class=\"pop_subMenu\"> <ul> <li class=\"btn_far\"><a href=\"javascript:\" onclick='setFavoContent(\"d7008509-e8e9-48b7-9510-596c3c24cfea\")'>즐겨찾기</a></li> <li class=\"btn_share\" id=\"d7008509-e8e9-48b7-9510-596c3c24cfea\"><a href=\"javascript:\" onclick='getShareInfo(\"%EA%B5%AD%EB%82%B4%20%3C!HS%3E%EB%B4%84%3C!HE%3E%20%3C!HS%3E%EC%97%AC%ED%96%89%3C!HE%3E%EC%A7%80%2C%20%3Cbr%3E%EA%B5%B0%EC%9C%84%20%EB%B9%84%EB%8C%80%EB%A9%B4%20%3C!HS%3E%EB%B4%84%3C!HE%3E%EB%82%98%EB%93%A4%EC%9D%B4%20%EC%BD%94%EC%8A%A4\",\"df95cb6c-c1be-45b9-a643-9b01a49dacb2\",\"d7008509-e8e9-48b7-9510-596c3c24cfea\",\"304\");'>공유하기</a></li> </ul></div></li><li><div class=\"photo\"><a href=\"javascript:goSearchDetail('1211a414-7157-485f-b92f-72d902227263');\"> <img alt=\"아침부터 밤까지, 봄 냄새 가득한 '사천' 여행\" src=\"https://cdn.visitkorea.or.kr/img/call?cmd=VIEW&amp;id=e69ed84c-1294-433e-abcd-33e384b15e6e\"/> </a></div> <div class=\"area_txt\"> <div class=\"tit\"> <a href=\"javascript:goSearchDetail('1211a414-7157-485f-b92f-72d902227263');\"><em></em>아침부터 밤까지, <!--HS--><em>봄</em><!--HE--> 냄새 가득한 '사천' <!--HS--><em>여행</em><!--HE--></a> </div> <div class=\"service\"> <p>경상남도 사천시</p> <ul class=\"brandingIcon\" id=\"branding_1211a414-7157-485f-b92f-72d902227263\"> </ul> </div> <p class=\"tag_type\"><span>#<em></em>사천<em>여행</em></span><span>#<em></em>사천<em>여행</em>코스</span><span>#<em></em>사천가볼만한곳</span><span>#<em></em><em>봄</em><em>여행</em></span><span>#<em></em>수양공원</span><span>#<em></em>사천읍성</span><span>#<em></em>포담</span><span>#<em></em>실안해안도로</span><span>#<em></em>삼천포대교</span> </p></div><button class=\"btn_view\" onclick='viewClick(\"1211a414-7157-485f-b92f-72d902227263\")' title=\"열기\" type=\"button\">더보기</button><div class=\"pop_subMenu\"> <ul> <li class=\"btn_far\"><a href=\"javascript:\" onclick='setFavoContent(\"1211a414-7157-485f-b92f-72d902227263\")'>즐겨찾기</a></li> <li class=\"btn_share\" id=\"1211a414-7157-485f-b92f-72d902227263\"><a href=\"javascript:\" onclick='getShareInfo(\"%EC%95%84%EC%B9%A8%EB%B6%80%ED%84%B0%20%EB%B0%A4%EA%B9%8C%EC%A7%80%2C%20%3C!HS%3E%EB%B4%84%3C!HE%3E%20%EB%83%84%EC%83%88%20%EA%B0%80%EB%93%9D%ED%95%9C%20%26%2339%3B%EC%82%AC%EC%B2%9C%26%2339%3B%20%3C!HS%3E%EC%97%AC%ED%96%89%3C!HE%3E\",\"e69ed84c-1294-433e-abcd-33e384b15e6e\",\"1211a414-7157-485f-b92f-72d902227263\",\"304\");'>공유하기</a></li> </ul></div></li></ul>"
      ]
     },
     "execution_count": 39,
     "metadata": {},
     "output_type": "execute_result"
    }
   ],
   "source": [
    "soup.find('ul', class_ = \"list_thumType type1\")"
   ]
  },
  {
   "cell_type": "code",
   "execution_count": 33,
   "id": "442f3fea",
   "metadata": {},
   "outputs": [
    {
     "data": {
      "text/plain": [
       "[<ul class=\"list_thumType type1\"><li><div class=\"photo\"><a href=\"javascript:goSearchDetail('e708bca1-a047-4b1f-9b35-0884ca9a446e');\"> <img alt=\"[충주 여행 코스] 봄에 꼭 충주를 가야 하는 이유, 충주 가볼 만한 곳\" src=\"https://cdn.visitkorea.or.kr/img/call?cmd=VIEW&amp;id=cef59e5b-c4b0-482a-a97b-c64cd94d32c8\"/> </a></div> <div class=\"area_txt\"> <div class=\"tit\"> <a href=\"javascript:goSearchDetail('e708bca1-a047-4b1f-9b35-0884ca9a446e');\"><em></em>[충주 <!--HS--><em>여행</em><!--HE--> 코스] <!--HS--><em>봄</em><!--HE-->에 꼭 충주를 가야 하는 이유, 충주 가볼 만한 곳</a> </div> <div class=\"service\"> <p>충청북도 충주시</p> <ul class=\"brandingIcon\" id=\"branding_e708bca1-a047-4b1f-9b35-0884ca9a446e\"> </ul> </div> <p class=\"tag_type\"><span>#<em></em>충주<em>여행</em></span><span>#<em></em>충주가볼만한곳</span><span>#<em></em><em>봄</em><em>여행</em></span><span>#<em></em><em>봄</em><em>여행</em>지</span><span>#<em></em>충주댐</span><span>#<em></em>활옥동굴</span><span>#<em></em>중앙탑사적공원</span><span>#<em></em>게으른악어</span> </p></div><button class=\"btn_view\" onclick='viewClick(\"e708bca1-a047-4b1f-9b35-0884ca9a446e\")' title=\"열기\" type=\"button\">더보기</button><div class=\"pop_subMenu\"> <ul> <li class=\"btn_far\"><a href=\"javascript:\" onclick='setFavoContent(\"e708bca1-a047-4b1f-9b35-0884ca9a446e\")'>즐겨찾기</a></li> <li class=\"btn_share\" id=\"e708bca1-a047-4b1f-9b35-0884ca9a446e\"><a href=\"javascript:\" onclick='getShareInfo(\"%5B%EC%B6%A9%EC%A3%BC%20%3C!HS%3E%EC%97%AC%ED%96%89%3C!HE%3E%20%EC%BD%94%EC%8A%A4%5D%20%3C!HS%3E%EB%B4%84%3C!HE%3E%EC%97%90%20%EA%BC%AD%20%EC%B6%A9%EC%A3%BC%EB%A5%BC%20%EA%B0%80%EC%95%BC%20%ED%95%98%EB%8A%94%20%EC%9D%B4%EC%9C%A0%2C%20%EC%B6%A9%EC%A3%BC%20%EA%B0%80%EB%B3%BC%20%EB%A7%8C%ED%95%9C%20%EA%B3%B3\",\"cef59e5b-c4b0-482a-a97b-c64cd94d32c8\",\"e708bca1-a047-4b1f-9b35-0884ca9a446e\",\"304\");'>공유하기</a></li> </ul></div></li><li><div class=\"photo\"><a href=\"javascript:goSearchDetail('3bb47ec6-39bc-4bb1-91ff-6b4446589fdd');\"> <img alt=\"[충남 봄 여행] 낭만 찾아 떠나는 여행, &lt;br&gt;천안·아산 봄나들이\" src=\"https://cdn.visitkorea.or.kr/img/call?cmd=VIEW&amp;id=6591221e-8799-4691-bf85-dd41d0e6cb91\"/> </a></div> <div class=\"area_txt\"> <div class=\"tit\"> <a href=\"javascript:goSearchDetail('3bb47ec6-39bc-4bb1-91ff-6b4446589fdd');\"><em></em>[충남 <!--HS--><em>봄</em><!--HE--> <!--HS--><em>여행</em><!--HE-->] 낭만 찾아 떠나는 <!--HS-->여행<!--HE-->, <br/>천안·아산 <!--HS-->봄<!--HE-->나들이</a> </div> <div class=\"service\"> <p>충청남도 </p> <ul class=\"brandingIcon\" id=\"branding_3bb47ec6-39bc-4bb1-91ff-6b4446589fdd\"> </ul> </div> <p class=\"tag_type\"><span>#<em></em>충남<em>여행</em></span><span>#<em></em>충남가볼만한곳</span><span>#<em></em>천안<em>여행</em></span><span>#<em></em>천안가볼만한곳</span><span>#<em></em>아산<em>여행</em></span><span>#<em></em>아산가볼만한곳</span><span>#<em></em><em>봄</em>나들이</span><span>#<em></em><em>봄</em>나들이<em>여행</em></span><span>#<em></em><em>봄</em><em>여행</em></span><span>#<em></em><em>봄</em><em>여행</em>지</span><span>#<em></em>국내<em>봄</em><em>여행</em>지추천</span><span>#<em></em>벚꽃명소</span><span>#<em></em>천호지</span><span>#<em></em>단대호수</span><span>#<em></em>각원사</span><span>#<em></em>현충사</span><span>#<em></em>아산현충사</span><span>#<em></em>당림미술관</span><span>#<em></em>세계꽃식물원</span> </p></div><button class=\"btn_view\" onclick='viewClick(\"3bb47ec6-39bc-4bb1-91ff-6b4446589fdd\")' title=\"열기\" type=\"button\">더보기</button><div class=\"pop_subMenu\"> <ul> <li class=\"btn_far\"><a href=\"javascript:\" onclick='setFavoContent(\"3bb47ec6-39bc-4bb1-91ff-6b4446589fdd\")'>즐겨찾기</a></li> <li class=\"btn_share\" id=\"3bb47ec6-39bc-4bb1-91ff-6b4446589fdd\"><a href=\"javascript:\" onclick='getShareInfo(\"%5B%EC%B6%A9%EB%82%A8%20%3C!HS%3E%EB%B4%84%3C!HE%3E%20%3C!HS%3E%EC%97%AC%ED%96%89%3C!HE%3E%5D%20%EB%82%AD%EB%A7%8C%20%EC%B0%BE%EC%95%84%20%EB%96%A0%EB%82%98%EB%8A%94%20%3C!HS%3E%EC%97%AC%ED%96%89%3C!HE%3E%2C%20%3Cbr%3E%EC%B2%9C%EC%95%88%C2%B7%EC%95%84%EC%82%B0%20%3C!HS%3E%EB%B4%84%3C!HE%3E%EB%82%98%EB%93%A4%EC%9D%B4\",\"6591221e-8799-4691-bf85-dd41d0e6cb91\",\"3bb47ec6-39bc-4bb1-91ff-6b4446589fdd\",\"304\");'>공유하기</a></li> </ul></div></li><li><div class=\"photo\"><a href=\"javascript:goSearchDetail('ea3355b6-2c81-4cca-ae83-dd069820d368');\"> <img alt=\"[구례 봄 여행] 달달하게 봄을 즐길 수 있는 구례 봄꽃 명소 4\" src=\"https://cdn.visitkorea.or.kr/img/call?cmd=VIEW&amp;id=4f058fab-3a26-433e-87b1-63c9148fe47f\"/> </a></div> <div class=\"area_txt\"> <div class=\"tit\"> <a href=\"javascript:goSearchDetail('ea3355b6-2c81-4cca-ae83-dd069820d368');\"><em></em>[구례 <!--HS--><em>봄</em><!--HE--> <!--HS--><em>여행</em><!--HE-->] 달달하게 <!--HS-->봄<!--HE-->을 즐길 수 있는 구례 <!--HS-->봄<!--HE-->꽃 명소 4</a> </div> <div class=\"service\"> <p>전라남도 구례군</p> <ul class=\"brandingIcon\" id=\"branding_ea3355b6-2c81-4cca-ae83-dd069820d368\"> </ul> </div> <p class=\"tag_type\"><span>#<em></em>구례<em>여행</em></span><span>#<em></em>구례가볼만한곳</span><span>#<em></em><em>봄</em>꽃명소</span><span>#<em></em><em>봄</em>꽃</span><span>#<em></em><em>봄</em>꽃<em>여행</em></span><span>#<em></em><em>봄</em><em>여행</em></span><span>#<em></em>산수유마을</span><span>#<em></em>구례산수유마을</span><span>#<em></em>화엄사</span><span>#<em></em>섬진강</span><span>#<em></em>섬진강벚꽃길</span><span>#<em></em>쌍산재</span> </p></div><button class=\"btn_view\" onclick='viewClick(\"ea3355b6-2c81-4cca-ae83-dd069820d368\")' title=\"열기\" type=\"button\">더보기</button><div class=\"pop_subMenu\"> <ul> <li class=\"btn_far\"><a href=\"javascript:\" onclick='setFavoContent(\"ea3355b6-2c81-4cca-ae83-dd069820d368\")'>즐겨찾기</a></li> <li class=\"btn_share\" id=\"ea3355b6-2c81-4cca-ae83-dd069820d368\"><a href=\"javascript:\" onclick='getShareInfo(\"%5B%EA%B5%AC%EB%A1%80%20%3C!HS%3E%EB%B4%84%3C!HE%3E%20%3C!HS%3E%EC%97%AC%ED%96%89%3C!HE%3E%5D%20%EB%8B%AC%EB%8B%AC%ED%95%98%EA%B2%8C%20%3C!HS%3E%EB%B4%84%3C!HE%3E%EC%9D%84%20%EC%A6%90%EA%B8%B8%20%EC%88%98%20%EC%9E%88%EB%8A%94%20%EA%B5%AC%EB%A1%80%20%3C!HS%3E%EB%B4%84%3C!HE%3E%EA%BD%83%20%EB%AA%85%EC%86%8C%204\",\"4f058fab-3a26-433e-87b1-63c9148fe47f\",\"ea3355b6-2c81-4cca-ae83-dd069820d368\",\"304\");'>공유하기</a></li> </ul></div></li><li><div class=\"photo\"><a href=\"javascript:goSearchDetail('18174205-81ee-4309-ae25-2fc166d90e20');\"> <img alt=\"[거제] 봄을 따라 걷는 여행, 거제도\" src=\"https://cdn.visitkorea.or.kr/img/call?cmd=VIEW&amp;id=45924426-8448-4210-a5c5-ee203cc0aea6\"/> </a></div> <div class=\"area_txt\"> <div class=\"tit\"> <a href=\"javascript:goSearchDetail('18174205-81ee-4309-ae25-2fc166d90e20');\"><em></em>[거제] <!--HS--><em>봄</em><!--HE-->을 따라 걷는 <!--HS--><em>여행</em><!--HE-->, 거제도</a> </div> <div class=\"service\"> <p>경상남도 거제시</p> <ul class=\"brandingIcon\" id=\"branding_18174205-81ee-4309-ae25-2fc166d90e20\"> </ul> </div> <p class=\"tag_type\"><span>#<em></em>거제</span><span>#<em></em>경남거제</span><span>#<em></em>거제도관광지</span><span>#<em></em>거제도<em>여행</em></span><span>#<em></em>거제섬<em>여행</em></span><span>#<em></em>거제도</span><span>#<em></em>거제도전망좋은곳</span><span>#<em></em>거제도<em>여행</em>코스</span><span>#<em></em>소낭구펜션</span><span>#<em></em><em>봄</em><em>여행</em></span><span>#<em></em>한국관광품질인증</span><span>#<em></em><em>봄</em><em>여행</em>지</span><span>#<em></em>남해<em>여행</em></span><span>#<em></em>거제도펜션</span><span>#<em></em>거제도숙소</span><span>#<em></em>한옥</span><span>#<em></em>한옥펜션</span><span>#<em></em>바비큐</span><span>#<em></em>야외바비큐</span><span>#<em></em>해금강</span><span>#<em></em>외도보타니아</span><span>#<em></em>거제가볼만한곳</span><span>#<em></em>맹종죽순체험길</span><span>#<em></em>바람의언덕</span><span>#<em></em>산책로</span><span>#<em></em>바람의언덕길</span><span>#<em></em>오션뷰</span><span>#<em></em>취사</span><span>#<em></em>거제투어</span> </p></div><button class=\"btn_view\" onclick='viewClick(\"18174205-81ee-4309-ae25-2fc166d90e20\")' title=\"열기\" type=\"button\">더보기</button><div class=\"pop_subMenu\"> <ul> <li class=\"btn_far\"><a href=\"javascript:\" onclick='setFavoContent(\"18174205-81ee-4309-ae25-2fc166d90e20\")'>즐겨찾기</a></li> <li class=\"btn_share\" id=\"18174205-81ee-4309-ae25-2fc166d90e20\"><a href=\"javascript:\" onclick='getShareInfo(\"%5B%EA%B1%B0%EC%A0%9C%5D%20%3C!HS%3E%EB%B4%84%3C!HE%3E%EC%9D%84%20%EB%94%B0%EB%9D%BC%20%EA%B1%B7%EB%8A%94%20%3C!HS%3E%EC%97%AC%ED%96%89%3C!HE%3E%2C%20%EA%B1%B0%EC%A0%9C%EB%8F%84\",\"45924426-8448-4210-a5c5-ee203cc0aea6\",\"18174205-81ee-4309-ae25-2fc166d90e20\",\"304\");'>공유하기</a></li> </ul></div></li><li class=\"banner_area\"> <div class=\"pc\"> <a class=\"banner0\" href=\"https://korean.visitkorea.or.kr/detail/event_detail.do?cotid=d80c2c04-6e0c-4b9f-be9c-f08be21a120a\"><span><img alt=\"'당신의 최애 맛집은?' 최애 맛집 제보 이벤트\" src=\"https://cdn.visitkorea.or.kr/img/call?cmd=VIEW&amp;id=92425982-5493-4c9c-bb21-4d572ccf64a9\"/></span></a> <a class=\"banner1\" href=\"https://korean.visitkorea.or.kr/trss/applyintro.do?utm_source=main_showcase\"><span><img alt=\"핫플 정기 배송! 가볼래-터 구독하고 여행 선물 받자!\" src=\"https://cdn.visitkorea.or.kr/img/call?cmd=VIEW&amp;id=959affcc-254d-4161-accb-559b39336b26\"/></span></a> </div></li><li><div class=\"photo\"><a href=\"javascript:goSearchDetail('da03d388-37b6-47c6-b6a7-a41d35e7d905');\"> <img alt=\"국내 당일치기 여행, 진천 봄나들이 추천 명소\" src=\"https://cdn.visitkorea.or.kr/img/call?cmd=VIEW&amp;id=266a02c2-477a-4ecc-92a7-6d18b589996f\"/> </a></div> <div class=\"area_txt\"> <div class=\"tit\"> <a href=\"javascript:goSearchDetail('da03d388-37b6-47c6-b6a7-a41d35e7d905');\"><em></em>국내 당일치기 <!--HS--><em>여행</em><!--HE-->, 진천 <!--HS--><em>봄</em><!--HE-->나들이 추천 명소</a> </div> <div class=\"service\"> <p>충청북도 진천군</p> <ul class=\"brandingIcon\" id=\"branding_da03d388-37b6-47c6-b6a7-a41d35e7d905\"> </ul> </div> <p class=\"tag_type\"><span>#<em></em>진천<em>여행</em></span><span>#<em></em>진천가볼만한곳</span><span>#<em></em>한반도지형전망공원</span><span>#<em></em>한반도지형</span><span>#<em></em>농다리</span><span>#<em></em>진천농다리</span><span>#<em></em>미르숲</span><span>#<em></em>농암정</span><span>#<em></em>길상사</span><span>#<em></em><em>봄</em><em>여행</em>지</span><span>#<em></em><em>봄</em><em>여행</em>지추천</span> </p></div><button class=\"btn_view\" onclick='viewClick(\"da03d388-37b6-47c6-b6a7-a41d35e7d905\")' title=\"열기\" type=\"button\">더보기</button><div class=\"pop_subMenu\"> <ul> <li class=\"btn_far\"><a href=\"javascript:\" onclick='setFavoContent(\"da03d388-37b6-47c6-b6a7-a41d35e7d905\")'>즐겨찾기</a></li> <li class=\"btn_share\" id=\"da03d388-37b6-47c6-b6a7-a41d35e7d905\"><a href=\"javascript:\" onclick='getShareInfo(\"%EA%B5%AD%EB%82%B4%20%EB%8B%B9%EC%9D%BC%EC%B9%98%EA%B8%B0%20%3C!HS%3E%EC%97%AC%ED%96%89%3C!HE%3E%2C%20%EC%A7%84%EC%B2%9C%20%3C!HS%3E%EB%B4%84%3C!HE%3E%EB%82%98%EB%93%A4%EC%9D%B4%20%EC%B6%94%EC%B2%9C%20%EB%AA%85%EC%86%8C\",\"266a02c2-477a-4ecc-92a7-6d18b589996f\",\"da03d388-37b6-47c6-b6a7-a41d35e7d905\",\"304\");'>공유하기</a></li> </ul></div></li><li><div class=\"photo\"><a href=\"javascript:goSearchDetail('98dddf4d-2fd7-4db8-adc2-3a45fcfd88b7');\"> <img alt=\"봄바람 따라 살랑살랑 통영 1박2일 여행코스\" src=\"https://cdn.visitkorea.or.kr/img/call?cmd=VIEW&amp;id=877a53fb-c4f5-47ec-9715-4cd628751d6d\"/> </a></div> <div class=\"area_txt\"> <div class=\"tit\"> <a href=\"javascript:goSearchDetail('98dddf4d-2fd7-4db8-adc2-3a45fcfd88b7');\"><em></em><!--HS--><em>봄</em><!--HE-->바람 따라 살랑살랑 통영 1박2일 <!--HS--><em>여행</em><!--HE-->코스</a> </div> <div class=\"service\"> <p>경상남도 통영시</p> <ul class=\"brandingIcon\" id=\"branding_98dddf4d-2fd7-4db8-adc2-3a45fcfd88b7\"> </ul> </div> <p class=\"tag_type\"><span>#<em></em>통영</span><span>#<em></em>통영1박2일코스</span><span>#<em></em>통영가볼만한곳</span><span>#<em></em>장사도해상공원</span><span>#<em></em>박경리기념관</span><span>#<em></em>미래사</span><span>#<em></em>서피랑</span><span>#<em></em><em>봄</em><em>여행</em></span><span>#<em></em><em>봄</em><em>여행</em>지</span><span>#<em></em><em>봄</em><em>여행</em>지추천</span><span>#<em></em>취향따라_떠나는_특별한_보통날</span><span>#<em></em><em>봄</em><em>여행</em>주간</span><span>#<em></em>미리<em>봄</em>_<em>여행</em>지</span> </p></div><button class=\"btn_view\" onclick='viewClick(\"98dddf4d-2fd7-4db8-adc2-3a45fcfd88b7\")' title=\"열기\" type=\"button\">더보기</button><div class=\"pop_subMenu\"> <ul> <li class=\"btn_far\"><a href=\"javascript:\" onclick='setFavoContent(\"98dddf4d-2fd7-4db8-adc2-3a45fcfd88b7\")'>즐겨찾기</a></li> <li class=\"btn_share\" id=\"98dddf4d-2fd7-4db8-adc2-3a45fcfd88b7\"><a href=\"javascript:\" onclick='getShareInfo(\"%3C!HS%3E%EB%B4%84%3C!HE%3E%EB%B0%94%EB%9E%8C%20%EB%94%B0%EB%9D%BC%20%EC%82%B4%EB%9E%91%EC%82%B4%EB%9E%91%20%ED%86%B5%EC%98%81%201%EB%B0%952%EC%9D%BC%20%3C!HS%3E%EC%97%AC%ED%96%89%3C!HE%3E%EC%BD%94%EC%8A%A4\",\"877a53fb-c4f5-47ec-9715-4cd628751d6d\",\"98dddf4d-2fd7-4db8-adc2-3a45fcfd88b7\",\"304\");'>공유하기</a></li> </ul></div></li><li><div class=\"photo\"><a href=\"javascript:goSearchDetail('526908dc-0a8f-4682-9192-9a0380f24391');\"> <img alt=\"우리 아이와 봄나들이 갈 시간⏰ &lt;br&gt;서울 근교 여행지 4\" src=\"https://cdn.visitkorea.or.kr/img/call?cmd=VIEW&amp;id=e2e5ee20-2f4a-4f5b-ba8f-3ad8e9980a5d\"/> </a></div> <div class=\"area_txt\"> <div class=\"tit\"> <a href=\"javascript:goSearchDetail('526908dc-0a8f-4682-9192-9a0380f24391');\"><em></em>우리 아이와 <!--HS--><em>봄</em><!--HE-->나들이 갈 시간⏰ <br/>서울 근교 <!--HS--><em>여행</em><!--HE-->지 4</a> </div> <div class=\"service\"> <p>전국 </p> <ul class=\"brandingIcon\" id=\"branding_526908dc-0a8f-4682-9192-9a0380f24391\"> </ul> </div> <p class=\"tag_type\"><span>#<em></em>화성<em>여행</em></span><span>#<em></em>화성가볼만한곳</span><span>#<em></em>트로피컬베이</span><span>#<em></em>파주<em>여행</em></span><span>#<em></em>파주가볼만한곳</span><span>#<em></em>애플샤인농원</span><span>#<em></em>인천<em>여행</em></span><span>#<em></em>인천가볼만한곳</span><span>#<em></em>송도해돋이공원</span><span>#<em></em>해돋이공원</span><span>#<em></em>서울<em>여행</em></span><span>#<em></em>서울가볼만한곳</span><span>#<em></em>선유도공원</span><span>#<em></em><em>봄</em>나들이</span><span>#<em></em><em>봄</em>나들이<em>여행</em></span><span>#<em></em>아이와함께</span><span>#<em></em>세시간전</span><span>#<em></em><em>봄</em><em>여행</em></span><span>#<em></em>당일치기<em>여행</em></span> </p></div><button class=\"btn_view\" onclick='viewClick(\"526908dc-0a8f-4682-9192-9a0380f24391\")' title=\"열기\" type=\"button\">더보기</button><div class=\"pop_subMenu\"> <ul> <li class=\"btn_far\"><a href=\"javascript:\" onclick='setFavoContent(\"526908dc-0a8f-4682-9192-9a0380f24391\")'>즐겨찾기</a></li> <li class=\"btn_share\" id=\"526908dc-0a8f-4682-9192-9a0380f24391\"><a href=\"javascript:\" onclick='getShareInfo(\"%EC%9A%B0%EB%A6%AC%20%EC%95%84%EC%9D%B4%EC%99%80%20%3C!HS%3E%EB%B4%84%3C!HE%3E%EB%82%98%EB%93%A4%EC%9D%B4%20%EA%B0%88%20%EC%8B%9C%EA%B0%84%E2%8F%B0%20%3Cbr%3E%EC%84%9C%EC%9A%B8%20%EA%B7%BC%EA%B5%90%20%3C!HS%3E%EC%97%AC%ED%96%89%3C!HE%3E%EC%A7%80%204\",\"e2e5ee20-2f4a-4f5b-ba8f-3ad8e9980a5d\",\"526908dc-0a8f-4682-9192-9a0380f24391\",\"304\");'>공유하기</a></li> </ul></div></li><li><div class=\"photo\"><a href=\"javascript:goSearchDetail('24a61392-c659-4230-b96f-1121fc3a25ad');\"> <img alt=\"아이와 봄 드라이브 떠나자! 안성 여행지 4\" src=\"https://cdn.visitkorea.or.kr/img/call?cmd=VIEW&amp;id=3c005958-332e-4af7-91ac-f9a63fae88cb\"/> </a></div> <div class=\"area_txt\"> <div class=\"tit\"> <a href=\"javascript:goSearchDetail('24a61392-c659-4230-b96f-1121fc3a25ad');\"><em></em>아이와 <!--HS--><em>봄</em><!--HE--> 드라이브 떠나자! 안성 <!--HS--><em>여행</em><!--HE-->지 4</a> </div> <div class=\"service\"> <p>경기도 안성시</p> <ul class=\"brandingIcon\" id=\"branding_24a61392-c659-4230-b96f-1121fc3a25ad\"> </ul> </div> <p class=\"tag_type\"><span>#<em></em>안성<em>여행</em></span><span>#<em></em>안성가볼만한곳</span><span>#<em></em>드라이브<em>여행</em></span><span>#<em></em><em>봄</em><em>여행</em></span><span>#<em></em><em>봄</em><em>여행</em>지</span><span>#<em></em>안성팜랜드</span><span>#<em></em>소나무카페</span><span>#<em></em>풍사니랑</span><span>#<em></em>아메리카나</span><span>#<em></em>아이와함께</span><span>#<em></em>세시간전</span> </p></div><button class=\"btn_view\" onclick='viewClick(\"24a61392-c659-4230-b96f-1121fc3a25ad\")' title=\"열기\" type=\"button\">더보기</button><div class=\"pop_subMenu\"> <ul> <li class=\"btn_far\"><a href=\"javascript:\" onclick='setFavoContent(\"24a61392-c659-4230-b96f-1121fc3a25ad\")'>즐겨찾기</a></li> <li class=\"btn_share\" id=\"24a61392-c659-4230-b96f-1121fc3a25ad\"><a href=\"javascript:\" onclick='getShareInfo(\"%EC%95%84%EC%9D%B4%EC%99%80%20%3C!HS%3E%EB%B4%84%3C!HE%3E%20%EB%93%9C%EB%9D%BC%EC%9D%B4%EB%B8%8C%20%EB%96%A0%EB%82%98%EC%9E%90!%20%EC%95%88%EC%84%B1%20%3C!HS%3E%EC%97%AC%ED%96%89%3C!HE%3E%EC%A7%80%204\",\"3c005958-332e-4af7-91ac-f9a63fae88cb\",\"24a61392-c659-4230-b96f-1121fc3a25ad\",\"304\");'>공유하기</a></li> </ul></div></li><li><div class=\"photo\"><a href=\"javascript:goSearchDetail('d7008509-e8e9-48b7-9510-596c3c24cfea');\"> <img alt=\"국내 봄 여행지, &lt;br&gt;군위 비대면 봄나들이 코스\" src=\"https://cdn.visitkorea.or.kr/img/call?cmd=VIEW&amp;id=df95cb6c-c1be-45b9-a643-9b01a49dacb2\"/> </a></div> <div class=\"area_txt\"> <div class=\"tit\"> <a href=\"javascript:goSearchDetail('d7008509-e8e9-48b7-9510-596c3c24cfea');\"><em></em>국내 <!--HS--><em>봄</em><!--HE--> <!--HS--><em>여행</em><!--HE-->지, <br/>군위 비대면 <!--HS-->봄<!--HE-->나들이 코스</a> </div> <div class=\"service\"> <p>경상북도 군위군</p> <ul class=\"brandingIcon\" id=\"branding_d7008509-e8e9-48b7-9510-596c3c24cfea\"> </ul> </div> <p class=\"tag_type\"><span>#<em></em>군위<em>여행</em></span><span>#<em></em>군위가볼만한곳</span><span>#<em></em>삼존석굴</span><span>#<em></em>군위삼존석굴</span><span>#<em></em>한밤마을</span><span>#<em></em>화본역</span><span>#<em></em>혜원의집</span><span>#<em></em>영화촬영지</span><span>#<em></em>화산산성</span><span>#<em></em>​화산산성전망대</span><span>#<em></em>리틀포레스트</span> </p></div><button class=\"btn_view\" onclick='viewClick(\"d7008509-e8e9-48b7-9510-596c3c24cfea\")' title=\"열기\" type=\"button\">더보기</button><div class=\"pop_subMenu\"> <ul> <li class=\"btn_far\"><a href=\"javascript:\" onclick='setFavoContent(\"d7008509-e8e9-48b7-9510-596c3c24cfea\")'>즐겨찾기</a></li> <li class=\"btn_share\" id=\"d7008509-e8e9-48b7-9510-596c3c24cfea\"><a href=\"javascript:\" onclick='getShareInfo(\"%EA%B5%AD%EB%82%B4%20%3C!HS%3E%EB%B4%84%3C!HE%3E%20%3C!HS%3E%EC%97%AC%ED%96%89%3C!HE%3E%EC%A7%80%2C%20%3Cbr%3E%EA%B5%B0%EC%9C%84%20%EB%B9%84%EB%8C%80%EB%A9%B4%20%3C!HS%3E%EB%B4%84%3C!HE%3E%EB%82%98%EB%93%A4%EC%9D%B4%20%EC%BD%94%EC%8A%A4\",\"df95cb6c-c1be-45b9-a643-9b01a49dacb2\",\"d7008509-e8e9-48b7-9510-596c3c24cfea\",\"304\");'>공유하기</a></li> </ul></div></li><li><div class=\"photo\"><a href=\"javascript:goSearchDetail('1211a414-7157-485f-b92f-72d902227263');\"> <img alt=\"아침부터 밤까지, 봄 냄새 가득한 '사천' 여행\" src=\"https://cdn.visitkorea.or.kr/img/call?cmd=VIEW&amp;id=e69ed84c-1294-433e-abcd-33e384b15e6e\"/> </a></div> <div class=\"area_txt\"> <div class=\"tit\"> <a href=\"javascript:goSearchDetail('1211a414-7157-485f-b92f-72d902227263');\"><em></em>아침부터 밤까지, <!--HS--><em>봄</em><!--HE--> 냄새 가득한 '사천' <!--HS--><em>여행</em><!--HE--></a> </div> <div class=\"service\"> <p>경상남도 사천시</p> <ul class=\"brandingIcon\" id=\"branding_1211a414-7157-485f-b92f-72d902227263\"> </ul> </div> <p class=\"tag_type\"><span>#<em></em>사천<em>여행</em></span><span>#<em></em>사천<em>여행</em>코스</span><span>#<em></em>사천가볼만한곳</span><span>#<em></em><em>봄</em><em>여행</em></span><span>#<em></em>수양공원</span><span>#<em></em>사천읍성</span><span>#<em></em>포담</span><span>#<em></em>실안해안도로</span><span>#<em></em>삼천포대교</span> </p></div><button class=\"btn_view\" onclick='viewClick(\"1211a414-7157-485f-b92f-72d902227263\")' title=\"열기\" type=\"button\">더보기</button><div class=\"pop_subMenu\"> <ul> <li class=\"btn_far\"><a href=\"javascript:\" onclick='setFavoContent(\"1211a414-7157-485f-b92f-72d902227263\")'>즐겨찾기</a></li> <li class=\"btn_share\" id=\"1211a414-7157-485f-b92f-72d902227263\"><a href=\"javascript:\" onclick='getShareInfo(\"%EC%95%84%EC%B9%A8%EB%B6%80%ED%84%B0%20%EB%B0%A4%EA%B9%8C%EC%A7%80%2C%20%3C!HS%3E%EB%B4%84%3C!HE%3E%20%EB%83%84%EC%83%88%20%EA%B0%80%EB%93%9D%ED%95%9C%20%26%2339%3B%EC%82%AC%EC%B2%9C%26%2339%3B%20%3C!HS%3E%EC%97%AC%ED%96%89%3C!HE%3E\",\"e69ed84c-1294-433e-abcd-33e384b15e6e\",\"1211a414-7157-485f-b92f-72d902227263\",\"304\");'>공유하기</a></li> </ul></div></li></ul>]"
      ]
     },
     "execution_count": 33,
     "metadata": {},
     "output_type": "execute_result"
    }
   ],
   "source": [
    "soup.find_all('ul', class_ = 'list_thumType type1')"
   ]
  },
  {
   "cell_type": "code",
   "execution_count": 35,
   "id": "4fd5cf27",
   "metadata": {},
   "outputs": [
    {
     "data": {
      "text/plain": [
       "[<ul>\n",
       " <li class=\"icon1\"><a href=\"/main/main.do#other\">특집관</a></li>\n",
       " <li class=\"icon2 on\">\n",
       " <!-- \t\t\t\t\t\t\t<a href=\"/main/main.do\">홈</a> -->\n",
       " <a href=\"javascript:;\">홈</a>\n",
       " <ul class=\"smenu active\">\n",
       " <li><a href=\"/main/ms_main.do\">인기</a></li>\n",
       " <li><a href=\"/main/cs_main.do\">코스</a></li>\n",
       " <li><a href=\"/other/otherService.do?otdid=4e706603-293b-11eb-b8bd-020027310001\">축제</a></li>\n",
       " <li><a href=\"/main/event_main.do\">이벤트</a></li>\n",
       " <li><a href=\"/main/main.do#area\">지역</a></li>\n",
       " </ul>\n",
       " </li>\n",
       " <li class=\"icon6\"><a href=\"/tgpr/tgpr_main.do\">여행상품 홍보관</a></li>\n",
       " <li class=\"icon4\"><a href=\"/mylocation/mylocation.do\">여행지도</a></li>\n",
       " </ul>,\n",
       " <ul class=\"smenu active\">\n",
       " <li><a href=\"/main/ms_main.do\">인기</a></li>\n",
       " <li><a href=\"/main/cs_main.do\">코스</a></li>\n",
       " <li><a href=\"/other/otherService.do?otdid=4e706603-293b-11eb-b8bd-020027310001\">축제</a></li>\n",
       " <li><a href=\"/main/event_main.do\">이벤트</a></li>\n",
       " <li><a href=\"/main/main.do#area\">지역</a></li>\n",
       " </ul>,\n",
       " <ul id=\"p_search_hd1\">\n",
       " </ul>,\n",
       " <ul id=\"p_search_hd2\">\n",
       " </ul>,\n",
       " <ul>\n",
       " </ul>,\n",
       " <ul class=\"search_menu\">\n",
       " <li class=\"on\" id=\"tabView0\"><a href=\"javascript:tab_view('0');\" title=\"선택됨\">전체</a></li>\n",
       " <li id=\"tabView1\"><a href=\"javascript:tab_view('1');\">여행정보</a></li>\n",
       " <li id=\"tabView2\"><a href=\"javascript:tab_view('2');\">여행기사</a></li>\n",
       " <li id=\"tabView3\"><a href=\"javascript:tab_view('3');\">축제</a></li>\n",
       " <li id=\"tabView5\"><a href=\"javascript:tab_view('5');\">이벤트</a></li>\n",
       " </ul>,\n",
       " <ul class=\"tag_list area_list js_one\" id=\"arealist\"><!-- [D] 클래스 js_one 추가시 버튼 한 개 선택 Script 적용 -->\n",
       " <li id=\"All\"><button class=\"btn_all_active\" type=\"button\"><span>#전체</span></button></li>\n",
       " <li id=\"1\"><button class=\"btn\" type=\"button\"><span>#서울</span></button></li>\n",
       " <li id=\"6\"><button class=\"btn\" type=\"button\"><span>#부산</span></button></li>\n",
       " <li id=\"4\"><button class=\"btn\" type=\"button\"><span>#대구</span></button></li>\n",
       " <li id=\"2\"><button class=\"btn\" type=\"button\"><span>#인천</span></button></li>\n",
       " <li id=\"5\"><button class=\"btn\" type=\"button\"><span>#광주</span></button></li>\n",
       " <li id=\"3\"><button class=\"btn\" type=\"button\"><span>#대전</span></button></li>\n",
       " <li id=\"7\"><button class=\"btn\" type=\"button\"><span>#울산</span></button></li>\n",
       " <li id=\"8\"><button class=\"btn\" type=\"button\"><span>#세종</span></button></li>\n",
       " <li id=\"31\"><button class=\"btn\" type=\"button\"><span>#경기</span></button></li>\n",
       " <li id=\"32\"><button class=\"btn\" type=\"button\"><span>#강원</span></button></li>\n",
       " <li id=\"33\"><button class=\"btn\" type=\"button\"><span>#충북</span></button></li>\n",
       " <li id=\"34\"><button class=\"btn\" type=\"button\"><span>#충남</span></button></li>\n",
       " <li id=\"35\"><button class=\"btn\" type=\"button\"><span>#경북</span></button></li>\n",
       " <li id=\"36\"><button class=\"btn\" type=\"button\"><span>#경남</span></button></li>\n",
       " <li id=\"37\"><button class=\"btn\" type=\"button\"><span>#전북</span></button></li>\n",
       " <li id=\"38\"><button class=\"btn\" type=\"button\"><span>#전남</span></button></li>\n",
       " <li id=\"39\"><button class=\"btn\" type=\"button\"><span>#제주</span></button></li>\n",
       " </ul>,\n",
       " <ul class=\"tag_list area_view_list js_multi\" id=\"sigungulist\">\n",
       " </ul>,\n",
       " <ul class=\"tag_list brand_list js_multi brand\" id=\"taglist\"><!-- [D] 클래스 js_multi 추가시 버튼 다중 선택 Script 적용 -->\n",
       " <li id=\"All\"><button class=\"btn_all_active active\" title=\"선택됨\" type=\"button\"><span>#전체</span></button></li>\n",
       " <li id=\"*64e29192-8939-11e8-8165-020027310001\" maintype=\"4\" otdid=\"64e29192-8939-11e8-8165-020027310001\" tagtype=\"brand\"><button class=\"btn\" type=\"button\"><span>#한국관광의별</span></button></li><li id=\"*ac9026ca-3ff6-49c9-81cf-10f027b044e9\" maintype=\"4\" otdid=\"ac9026ca-3ff6-49c9-81cf-10f027b044e9\" tagtype=\"brand\"><button class=\"btn\" type=\"button\"><span>#생생 VR 영상</span></button></li><li id=\"*27a4afa8-57a6-11ea-b70a-020027310001\" maintype=\"4\" otdid=\"27a4afa8-57a6-11ea-b70a-020027310001\" tagtype=\"brand\"><button class=\"btn\" type=\"button\"><span>#휴가문화개선</span></button></li><li id=\"*114b23a6-84c4-11e8-8165-020027310001\" maintype=\"4\" otdid=\"114b23a6-84c4-11e8-8165-020027310001\" tagtype=\"brand\"><button class=\"btn\" type=\"button\"><span>#산업관광</span></button></li><li id=\"*daf2add9-b198-49cf-adbb-a14957da3a3c\" maintype=\"4\" otdid=\"daf2add9-b198-49cf-adbb-a14957da3a3c\" tagtype=\"brand\"><button class=\"btn\" type=\"button\"><span>#지역명사문화여행</span></button></li><li id=\"*81f62fd1-8939-11e8-8165-020027310001\" maintype=\"4\" otdid=\"81f62fd1-8939-11e8-8165-020027310001\" tagtype=\"brand\"><button class=\"btn\" type=\"button\"><span>#시티투어</span></button></li><li id=\"*54ddd9f5-fbf0-4b1c-b90b-27f5ec2168a3\" maintype=\"4\" otdid=\"54ddd9f5-fbf0-4b1c-b90b-27f5ec2168a3\" tagtype=\"brand\"><button class=\"btn\" type=\"button\"><span>#관광두레</span></button></li><li id=\"*4e706603-293b-11eb-b8bd-020027310001\" maintype=\"4\" otdid=\"4e706603-293b-11eb-b8bd-020027310001\" tagtype=\"brand\"><button class=\"btn\" type=\"button\"><span>#문화관광축제</span></button></li><li id=\"*b55ffe10-84c3-11e8-8165-020027310001\" maintype=\"4\" otdid=\"b55ffe10-84c3-11e8-8165-020027310001\" tagtype=\"brand\"><button class=\"btn\" type=\"button\"><span>#'열린 관광' 모두의 여행</span></button></li><li id=\"*7c118d89-d51e-11ea-b8bd-020027310001\" maintype=\"4\" otdid=\"7c118d89-d51e-11ea-b8bd-020027310001\" tagtype=\"brand\"><button class=\"btn\" type=\"button\"><span>#전통한옥</span></button></li><li id=\"*27f7a2ca-84c4-11e8-8165-020027310001\" maintype=\"4\" otdid=\"27f7a2ca-84c4-11e8-8165-020027310001\" tagtype=\"brand\"><button class=\"btn\" type=\"button\"><span>#생태녹색관광</span></button></li><li id=\"*e6900ef3-cfaf-46df-beb4-5df186afb37d\" maintype=\"4\" otdid=\"e6900ef3-cfaf-46df-beb4-5df186afb37d\" tagtype=\"brand\"><button class=\"btn\" type=\"button\"><span>#생활관광</span></button></li><li id=\"*287776d6-8939-11e8-8165-020027310001\" maintype=\"4\" otdid=\"287776d6-8939-11e8-8165-020027310001\" tagtype=\"brand\"><button class=\"btn\" type=\"button\"><span>#추천! 웰니스 관광지</span></button></li><li id=\"*bb37b399-0c7b-4d5f-b0f8-adc47237c627\" maintype=\"4\" otdid=\"bb37b399-0c7b-4d5f-b0f8-adc47237c627\" tagtype=\"brand\"><button class=\"btn\" type=\"button\"><span>#안심여행 캠페인</span></button></li><li id=\"*7ff670df-84fa-11e8-8165-020027310001\" maintype=\"4\" otdid=\"7ff670df-84fa-11e8-8165-020027310001\" tagtype=\"brand\"><button class=\"btn\" type=\"button\"><span>#추천! 가볼만한곳</span></button></li><li id=\"*9e37bef2-f8e2-46c8-9b87-e060e2a4b2c8\" maintype=\"4\" otdid=\"9e37bef2-f8e2-46c8-9b87-e060e2a4b2c8\" tagtype=\"brand\"><button class=\"btn\" type=\"button\"><span>#DMZ 평화관광</span></button></li><li id=\"*456a84d1-84c4-11e8-8165-020027310001\" maintype=\"4\" otdid=\"456a84d1-84c4-11e8-8165-020027310001\" tagtype=\"brand\"><button class=\"btn\" type=\"button\"><span>#한국관광품질인증</span></button></li><li id=\"*622bcd99-84fa-11e8-8165-020027310001\" maintype=\"4\" otdid=\"622bcd99-84fa-11e8-8165-020027310001\" tagtype=\"brand\"><button class=\"btn\" type=\"button\"><span>#한국관광100선</span></button></li><li id=\"*638f5f2a-d1e2-4ade-a5d4-acd2b2d4b434\" maintype=\"4\" otdid=\"638f5f2a-d1e2-4ade-a5d4-acd2b2d4b434\" tagtype=\"brand\"><button class=\"btn\" type=\"button\"><span>#비대면 안심관광지</span></button></li></ul>,\n",
       " <ul>\n",
       " <li id=\"properThumb\">\n",
       " <a class=\"img\" href=\"javascript:;\">\n",
       " <em class=\"forecast_icon\">여행예보</em>\n",
       " <span><strong>내 위치에서</strong></span>\n",
       " </a>\n",
       " </li>\n",
       " <li>\n",
       " <a class=\"map\" href=\"javascript:;\" id=\"map\">\n",
       " <button id=\"mapOpen\" type=\"button\">지도 펼치기</button>\n",
       " </a>\n",
       " </li>\n",
       " </ul>,\n",
       " <ul class=\"btn\">\n",
       " </ul>,\n",
       " <ul>\n",
       " <li>* 안전여행지수는 참고용입니다. </li>\n",
       " <li>* 관광지 방문시에는 정부의 방역 준수사항을  따라 주세요.</li>\n",
       " </ul>,\n",
       " <ul class=\"list_thumType type1\"><li><div class=\"photo\"><a href=\"javascript:goSearchDetail('e708bca1-a047-4b1f-9b35-0884ca9a446e');\"> <img alt=\"[충주 여행 코스] 봄에 꼭 충주를 가야 하는 이유, 충주 가볼 만한 곳\" src=\"https://cdn.visitkorea.or.kr/img/call?cmd=VIEW&amp;id=cef59e5b-c4b0-482a-a97b-c64cd94d32c8\"/> </a></div> <div class=\"area_txt\"> <div class=\"tit\"> <a href=\"javascript:goSearchDetail('e708bca1-a047-4b1f-9b35-0884ca9a446e');\"><em></em>[충주 <!--HS--><em>여행</em><!--HE--> 코스] <!--HS--><em>봄</em><!--HE-->에 꼭 충주를 가야 하는 이유, 충주 가볼 만한 곳</a> </div> <div class=\"service\"> <p>충청북도 충주시</p> <ul class=\"brandingIcon\" id=\"branding_e708bca1-a047-4b1f-9b35-0884ca9a446e\"> </ul> </div> <p class=\"tag_type\"><span>#<em></em>충주<em>여행</em></span><span>#<em></em>충주가볼만한곳</span><span>#<em></em><em>봄</em><em>여행</em></span><span>#<em></em><em>봄</em><em>여행</em>지</span><span>#<em></em>충주댐</span><span>#<em></em>활옥동굴</span><span>#<em></em>중앙탑사적공원</span><span>#<em></em>게으른악어</span> </p></div><button class=\"btn_view\" onclick='viewClick(\"e708bca1-a047-4b1f-9b35-0884ca9a446e\")' title=\"열기\" type=\"button\">더보기</button><div class=\"pop_subMenu\"> <ul> <li class=\"btn_far\"><a href=\"javascript:\" onclick='setFavoContent(\"e708bca1-a047-4b1f-9b35-0884ca9a446e\")'>즐겨찾기</a></li> <li class=\"btn_share\" id=\"e708bca1-a047-4b1f-9b35-0884ca9a446e\"><a href=\"javascript:\" onclick='getShareInfo(\"%5B%EC%B6%A9%EC%A3%BC%20%3C!HS%3E%EC%97%AC%ED%96%89%3C!HE%3E%20%EC%BD%94%EC%8A%A4%5D%20%3C!HS%3E%EB%B4%84%3C!HE%3E%EC%97%90%20%EA%BC%AD%20%EC%B6%A9%EC%A3%BC%EB%A5%BC%20%EA%B0%80%EC%95%BC%20%ED%95%98%EB%8A%94%20%EC%9D%B4%EC%9C%A0%2C%20%EC%B6%A9%EC%A3%BC%20%EA%B0%80%EB%B3%BC%20%EB%A7%8C%ED%95%9C%20%EA%B3%B3\",\"cef59e5b-c4b0-482a-a97b-c64cd94d32c8\",\"e708bca1-a047-4b1f-9b35-0884ca9a446e\",\"304\");'>공유하기</a></li> </ul></div></li><li><div class=\"photo\"><a href=\"javascript:goSearchDetail('3bb47ec6-39bc-4bb1-91ff-6b4446589fdd');\"> <img alt=\"[충남 봄 여행] 낭만 찾아 떠나는 여행, &lt;br&gt;천안·아산 봄나들이\" src=\"https://cdn.visitkorea.or.kr/img/call?cmd=VIEW&amp;id=6591221e-8799-4691-bf85-dd41d0e6cb91\"/> </a></div> <div class=\"area_txt\"> <div class=\"tit\"> <a href=\"javascript:goSearchDetail('3bb47ec6-39bc-4bb1-91ff-6b4446589fdd');\"><em></em>[충남 <!--HS--><em>봄</em><!--HE--> <!--HS--><em>여행</em><!--HE-->] 낭만 찾아 떠나는 <!--HS-->여행<!--HE-->, <br/>천안·아산 <!--HS-->봄<!--HE-->나들이</a> </div> <div class=\"service\"> <p>충청남도 </p> <ul class=\"brandingIcon\" id=\"branding_3bb47ec6-39bc-4bb1-91ff-6b4446589fdd\"> </ul> </div> <p class=\"tag_type\"><span>#<em></em>충남<em>여행</em></span><span>#<em></em>충남가볼만한곳</span><span>#<em></em>천안<em>여행</em></span><span>#<em></em>천안가볼만한곳</span><span>#<em></em>아산<em>여행</em></span><span>#<em></em>아산가볼만한곳</span><span>#<em></em><em>봄</em>나들이</span><span>#<em></em><em>봄</em>나들이<em>여행</em></span><span>#<em></em><em>봄</em><em>여행</em></span><span>#<em></em><em>봄</em><em>여행</em>지</span><span>#<em></em>국내<em>봄</em><em>여행</em>지추천</span><span>#<em></em>벚꽃명소</span><span>#<em></em>천호지</span><span>#<em></em>단대호수</span><span>#<em></em>각원사</span><span>#<em></em>현충사</span><span>#<em></em>아산현충사</span><span>#<em></em>당림미술관</span><span>#<em></em>세계꽃식물원</span> </p></div><button class=\"btn_view\" onclick='viewClick(\"3bb47ec6-39bc-4bb1-91ff-6b4446589fdd\")' title=\"열기\" type=\"button\">더보기</button><div class=\"pop_subMenu\"> <ul> <li class=\"btn_far\"><a href=\"javascript:\" onclick='setFavoContent(\"3bb47ec6-39bc-4bb1-91ff-6b4446589fdd\")'>즐겨찾기</a></li> <li class=\"btn_share\" id=\"3bb47ec6-39bc-4bb1-91ff-6b4446589fdd\"><a href=\"javascript:\" onclick='getShareInfo(\"%5B%EC%B6%A9%EB%82%A8%20%3C!HS%3E%EB%B4%84%3C!HE%3E%20%3C!HS%3E%EC%97%AC%ED%96%89%3C!HE%3E%5D%20%EB%82%AD%EB%A7%8C%20%EC%B0%BE%EC%95%84%20%EB%96%A0%EB%82%98%EB%8A%94%20%3C!HS%3E%EC%97%AC%ED%96%89%3C!HE%3E%2C%20%3Cbr%3E%EC%B2%9C%EC%95%88%C2%B7%EC%95%84%EC%82%B0%20%3C!HS%3E%EB%B4%84%3C!HE%3E%EB%82%98%EB%93%A4%EC%9D%B4\",\"6591221e-8799-4691-bf85-dd41d0e6cb91\",\"3bb47ec6-39bc-4bb1-91ff-6b4446589fdd\",\"304\");'>공유하기</a></li> </ul></div></li><li><div class=\"photo\"><a href=\"javascript:goSearchDetail('ea3355b6-2c81-4cca-ae83-dd069820d368');\"> <img alt=\"[구례 봄 여행] 달달하게 봄을 즐길 수 있는 구례 봄꽃 명소 4\" src=\"https://cdn.visitkorea.or.kr/img/call?cmd=VIEW&amp;id=4f058fab-3a26-433e-87b1-63c9148fe47f\"/> </a></div> <div class=\"area_txt\"> <div class=\"tit\"> <a href=\"javascript:goSearchDetail('ea3355b6-2c81-4cca-ae83-dd069820d368');\"><em></em>[구례 <!--HS--><em>봄</em><!--HE--> <!--HS--><em>여행</em><!--HE-->] 달달하게 <!--HS-->봄<!--HE-->을 즐길 수 있는 구례 <!--HS-->봄<!--HE-->꽃 명소 4</a> </div> <div class=\"service\"> <p>전라남도 구례군</p> <ul class=\"brandingIcon\" id=\"branding_ea3355b6-2c81-4cca-ae83-dd069820d368\"> </ul> </div> <p class=\"tag_type\"><span>#<em></em>구례<em>여행</em></span><span>#<em></em>구례가볼만한곳</span><span>#<em></em><em>봄</em>꽃명소</span><span>#<em></em><em>봄</em>꽃</span><span>#<em></em><em>봄</em>꽃<em>여행</em></span><span>#<em></em><em>봄</em><em>여행</em></span><span>#<em></em>산수유마을</span><span>#<em></em>구례산수유마을</span><span>#<em></em>화엄사</span><span>#<em></em>섬진강</span><span>#<em></em>섬진강벚꽃길</span><span>#<em></em>쌍산재</span> </p></div><button class=\"btn_view\" onclick='viewClick(\"ea3355b6-2c81-4cca-ae83-dd069820d368\")' title=\"열기\" type=\"button\">더보기</button><div class=\"pop_subMenu\"> <ul> <li class=\"btn_far\"><a href=\"javascript:\" onclick='setFavoContent(\"ea3355b6-2c81-4cca-ae83-dd069820d368\")'>즐겨찾기</a></li> <li class=\"btn_share\" id=\"ea3355b6-2c81-4cca-ae83-dd069820d368\"><a href=\"javascript:\" onclick='getShareInfo(\"%5B%EA%B5%AC%EB%A1%80%20%3C!HS%3E%EB%B4%84%3C!HE%3E%20%3C!HS%3E%EC%97%AC%ED%96%89%3C!HE%3E%5D%20%EB%8B%AC%EB%8B%AC%ED%95%98%EA%B2%8C%20%3C!HS%3E%EB%B4%84%3C!HE%3E%EC%9D%84%20%EC%A6%90%EA%B8%B8%20%EC%88%98%20%EC%9E%88%EB%8A%94%20%EA%B5%AC%EB%A1%80%20%3C!HS%3E%EB%B4%84%3C!HE%3E%EA%BD%83%20%EB%AA%85%EC%86%8C%204\",\"4f058fab-3a26-433e-87b1-63c9148fe47f\",\"ea3355b6-2c81-4cca-ae83-dd069820d368\",\"304\");'>공유하기</a></li> </ul></div></li><li><div class=\"photo\"><a href=\"javascript:goSearchDetail('18174205-81ee-4309-ae25-2fc166d90e20');\"> <img alt=\"[거제] 봄을 따라 걷는 여행, 거제도\" src=\"https://cdn.visitkorea.or.kr/img/call?cmd=VIEW&amp;id=45924426-8448-4210-a5c5-ee203cc0aea6\"/> </a></div> <div class=\"area_txt\"> <div class=\"tit\"> <a href=\"javascript:goSearchDetail('18174205-81ee-4309-ae25-2fc166d90e20');\"><em></em>[거제] <!--HS--><em>봄</em><!--HE-->을 따라 걷는 <!--HS--><em>여행</em><!--HE-->, 거제도</a> </div> <div class=\"service\"> <p>경상남도 거제시</p> <ul class=\"brandingIcon\" id=\"branding_18174205-81ee-4309-ae25-2fc166d90e20\"> </ul> </div> <p class=\"tag_type\"><span>#<em></em>거제</span><span>#<em></em>경남거제</span><span>#<em></em>거제도관광지</span><span>#<em></em>거제도<em>여행</em></span><span>#<em></em>거제섬<em>여행</em></span><span>#<em></em>거제도</span><span>#<em></em>거제도전망좋은곳</span><span>#<em></em>거제도<em>여행</em>코스</span><span>#<em></em>소낭구펜션</span><span>#<em></em><em>봄</em><em>여행</em></span><span>#<em></em>한국관광품질인증</span><span>#<em></em><em>봄</em><em>여행</em>지</span><span>#<em></em>남해<em>여행</em></span><span>#<em></em>거제도펜션</span><span>#<em></em>거제도숙소</span><span>#<em></em>한옥</span><span>#<em></em>한옥펜션</span><span>#<em></em>바비큐</span><span>#<em></em>야외바비큐</span><span>#<em></em>해금강</span><span>#<em></em>외도보타니아</span><span>#<em></em>거제가볼만한곳</span><span>#<em></em>맹종죽순체험길</span><span>#<em></em>바람의언덕</span><span>#<em></em>산책로</span><span>#<em></em>바람의언덕길</span><span>#<em></em>오션뷰</span><span>#<em></em>취사</span><span>#<em></em>거제투어</span> </p></div><button class=\"btn_view\" onclick='viewClick(\"18174205-81ee-4309-ae25-2fc166d90e20\")' title=\"열기\" type=\"button\">더보기</button><div class=\"pop_subMenu\"> <ul> <li class=\"btn_far\"><a href=\"javascript:\" onclick='setFavoContent(\"18174205-81ee-4309-ae25-2fc166d90e20\")'>즐겨찾기</a></li> <li class=\"btn_share\" id=\"18174205-81ee-4309-ae25-2fc166d90e20\"><a href=\"javascript:\" onclick='getShareInfo(\"%5B%EA%B1%B0%EC%A0%9C%5D%20%3C!HS%3E%EB%B4%84%3C!HE%3E%EC%9D%84%20%EB%94%B0%EB%9D%BC%20%EA%B1%B7%EB%8A%94%20%3C!HS%3E%EC%97%AC%ED%96%89%3C!HE%3E%2C%20%EA%B1%B0%EC%A0%9C%EB%8F%84\",\"45924426-8448-4210-a5c5-ee203cc0aea6\",\"18174205-81ee-4309-ae25-2fc166d90e20\",\"304\");'>공유하기</a></li> </ul></div></li><li class=\"banner_area\"> <div class=\"pc\"> <a class=\"banner0\" href=\"https://korean.visitkorea.or.kr/detail/event_detail.do?cotid=d80c2c04-6e0c-4b9f-be9c-f08be21a120a\"><span><img alt=\"'당신의 최애 맛집은?' 최애 맛집 제보 이벤트\" src=\"https://cdn.visitkorea.or.kr/img/call?cmd=VIEW&amp;id=92425982-5493-4c9c-bb21-4d572ccf64a9\"/></span></a> <a class=\"banner1\" href=\"https://korean.visitkorea.or.kr/trss/applyintro.do?utm_source=main_showcase\"><span><img alt=\"핫플 정기 배송! 가볼래-터 구독하고 여행 선물 받자!\" src=\"https://cdn.visitkorea.or.kr/img/call?cmd=VIEW&amp;id=959affcc-254d-4161-accb-559b39336b26\"/></span></a> </div></li><li><div class=\"photo\"><a href=\"javascript:goSearchDetail('da03d388-37b6-47c6-b6a7-a41d35e7d905');\"> <img alt=\"국내 당일치기 여행, 진천 봄나들이 추천 명소\" src=\"https://cdn.visitkorea.or.kr/img/call?cmd=VIEW&amp;id=266a02c2-477a-4ecc-92a7-6d18b589996f\"/> </a></div> <div class=\"area_txt\"> <div class=\"tit\"> <a href=\"javascript:goSearchDetail('da03d388-37b6-47c6-b6a7-a41d35e7d905');\"><em></em>국내 당일치기 <!--HS--><em>여행</em><!--HE-->, 진천 <!--HS--><em>봄</em><!--HE-->나들이 추천 명소</a> </div> <div class=\"service\"> <p>충청북도 진천군</p> <ul class=\"brandingIcon\" id=\"branding_da03d388-37b6-47c6-b6a7-a41d35e7d905\"> </ul> </div> <p class=\"tag_type\"><span>#<em></em>진천<em>여행</em></span><span>#<em></em>진천가볼만한곳</span><span>#<em></em>한반도지형전망공원</span><span>#<em></em>한반도지형</span><span>#<em></em>농다리</span><span>#<em></em>진천농다리</span><span>#<em></em>미르숲</span><span>#<em></em>농암정</span><span>#<em></em>길상사</span><span>#<em></em><em>봄</em><em>여행</em>지</span><span>#<em></em><em>봄</em><em>여행</em>지추천</span> </p></div><button class=\"btn_view\" onclick='viewClick(\"da03d388-37b6-47c6-b6a7-a41d35e7d905\")' title=\"열기\" type=\"button\">더보기</button><div class=\"pop_subMenu\"> <ul> <li class=\"btn_far\"><a href=\"javascript:\" onclick='setFavoContent(\"da03d388-37b6-47c6-b6a7-a41d35e7d905\")'>즐겨찾기</a></li> <li class=\"btn_share\" id=\"da03d388-37b6-47c6-b6a7-a41d35e7d905\"><a href=\"javascript:\" onclick='getShareInfo(\"%EA%B5%AD%EB%82%B4%20%EB%8B%B9%EC%9D%BC%EC%B9%98%EA%B8%B0%20%3C!HS%3E%EC%97%AC%ED%96%89%3C!HE%3E%2C%20%EC%A7%84%EC%B2%9C%20%3C!HS%3E%EB%B4%84%3C!HE%3E%EB%82%98%EB%93%A4%EC%9D%B4%20%EC%B6%94%EC%B2%9C%20%EB%AA%85%EC%86%8C\",\"266a02c2-477a-4ecc-92a7-6d18b589996f\",\"da03d388-37b6-47c6-b6a7-a41d35e7d905\",\"304\");'>공유하기</a></li> </ul></div></li><li><div class=\"photo\"><a href=\"javascript:goSearchDetail('98dddf4d-2fd7-4db8-adc2-3a45fcfd88b7');\"> <img alt=\"봄바람 따라 살랑살랑 통영 1박2일 여행코스\" src=\"https://cdn.visitkorea.or.kr/img/call?cmd=VIEW&amp;id=877a53fb-c4f5-47ec-9715-4cd628751d6d\"/> </a></div> <div class=\"area_txt\"> <div class=\"tit\"> <a href=\"javascript:goSearchDetail('98dddf4d-2fd7-4db8-adc2-3a45fcfd88b7');\"><em></em><!--HS--><em>봄</em><!--HE-->바람 따라 살랑살랑 통영 1박2일 <!--HS--><em>여행</em><!--HE-->코스</a> </div> <div class=\"service\"> <p>경상남도 통영시</p> <ul class=\"brandingIcon\" id=\"branding_98dddf4d-2fd7-4db8-adc2-3a45fcfd88b7\"> </ul> </div> <p class=\"tag_type\"><span>#<em></em>통영</span><span>#<em></em>통영1박2일코스</span><span>#<em></em>통영가볼만한곳</span><span>#<em></em>장사도해상공원</span><span>#<em></em>박경리기념관</span><span>#<em></em>미래사</span><span>#<em></em>서피랑</span><span>#<em></em><em>봄</em><em>여행</em></span><span>#<em></em><em>봄</em><em>여행</em>지</span><span>#<em></em><em>봄</em><em>여행</em>지추천</span><span>#<em></em>취향따라_떠나는_특별한_보통날</span><span>#<em></em><em>봄</em><em>여행</em>주간</span><span>#<em></em>미리<em>봄</em>_<em>여행</em>지</span> </p></div><button class=\"btn_view\" onclick='viewClick(\"98dddf4d-2fd7-4db8-adc2-3a45fcfd88b7\")' title=\"열기\" type=\"button\">더보기</button><div class=\"pop_subMenu\"> <ul> <li class=\"btn_far\"><a href=\"javascript:\" onclick='setFavoContent(\"98dddf4d-2fd7-4db8-adc2-3a45fcfd88b7\")'>즐겨찾기</a></li> <li class=\"btn_share\" id=\"98dddf4d-2fd7-4db8-adc2-3a45fcfd88b7\"><a href=\"javascript:\" onclick='getShareInfo(\"%3C!HS%3E%EB%B4%84%3C!HE%3E%EB%B0%94%EB%9E%8C%20%EB%94%B0%EB%9D%BC%20%EC%82%B4%EB%9E%91%EC%82%B4%EB%9E%91%20%ED%86%B5%EC%98%81%201%EB%B0%952%EC%9D%BC%20%3C!HS%3E%EC%97%AC%ED%96%89%3C!HE%3E%EC%BD%94%EC%8A%A4\",\"877a53fb-c4f5-47ec-9715-4cd628751d6d\",\"98dddf4d-2fd7-4db8-adc2-3a45fcfd88b7\",\"304\");'>공유하기</a></li> </ul></div></li><li><div class=\"photo\"><a href=\"javascript:goSearchDetail('526908dc-0a8f-4682-9192-9a0380f24391');\"> <img alt=\"우리 아이와 봄나들이 갈 시간⏰ &lt;br&gt;서울 근교 여행지 4\" src=\"https://cdn.visitkorea.or.kr/img/call?cmd=VIEW&amp;id=e2e5ee20-2f4a-4f5b-ba8f-3ad8e9980a5d\"/> </a></div> <div class=\"area_txt\"> <div class=\"tit\"> <a href=\"javascript:goSearchDetail('526908dc-0a8f-4682-9192-9a0380f24391');\"><em></em>우리 아이와 <!--HS--><em>봄</em><!--HE-->나들이 갈 시간⏰ <br/>서울 근교 <!--HS--><em>여행</em><!--HE-->지 4</a> </div> <div class=\"service\"> <p>전국 </p> <ul class=\"brandingIcon\" id=\"branding_526908dc-0a8f-4682-9192-9a0380f24391\"> </ul> </div> <p class=\"tag_type\"><span>#<em></em>화성<em>여행</em></span><span>#<em></em>화성가볼만한곳</span><span>#<em></em>트로피컬베이</span><span>#<em></em>파주<em>여행</em></span><span>#<em></em>파주가볼만한곳</span><span>#<em></em>애플샤인농원</span><span>#<em></em>인천<em>여행</em></span><span>#<em></em>인천가볼만한곳</span><span>#<em></em>송도해돋이공원</span><span>#<em></em>해돋이공원</span><span>#<em></em>서울<em>여행</em></span><span>#<em></em>서울가볼만한곳</span><span>#<em></em>선유도공원</span><span>#<em></em><em>봄</em>나들이</span><span>#<em></em><em>봄</em>나들이<em>여행</em></span><span>#<em></em>아이와함께</span><span>#<em></em>세시간전</span><span>#<em></em><em>봄</em><em>여행</em></span><span>#<em></em>당일치기<em>여행</em></span> </p></div><button class=\"btn_view\" onclick='viewClick(\"526908dc-0a8f-4682-9192-9a0380f24391\")' title=\"열기\" type=\"button\">더보기</button><div class=\"pop_subMenu\"> <ul> <li class=\"btn_far\"><a href=\"javascript:\" onclick='setFavoContent(\"526908dc-0a8f-4682-9192-9a0380f24391\")'>즐겨찾기</a></li> <li class=\"btn_share\" id=\"526908dc-0a8f-4682-9192-9a0380f24391\"><a href=\"javascript:\" onclick='getShareInfo(\"%EC%9A%B0%EB%A6%AC%20%EC%95%84%EC%9D%B4%EC%99%80%20%3C!HS%3E%EB%B4%84%3C!HE%3E%EB%82%98%EB%93%A4%EC%9D%B4%20%EA%B0%88%20%EC%8B%9C%EA%B0%84%E2%8F%B0%20%3Cbr%3E%EC%84%9C%EC%9A%B8%20%EA%B7%BC%EA%B5%90%20%3C!HS%3E%EC%97%AC%ED%96%89%3C!HE%3E%EC%A7%80%204\",\"e2e5ee20-2f4a-4f5b-ba8f-3ad8e9980a5d\",\"526908dc-0a8f-4682-9192-9a0380f24391\",\"304\");'>공유하기</a></li> </ul></div></li><li><div class=\"photo\"><a href=\"javascript:goSearchDetail('24a61392-c659-4230-b96f-1121fc3a25ad');\"> <img alt=\"아이와 봄 드라이브 떠나자! 안성 여행지 4\" src=\"https://cdn.visitkorea.or.kr/img/call?cmd=VIEW&amp;id=3c005958-332e-4af7-91ac-f9a63fae88cb\"/> </a></div> <div class=\"area_txt\"> <div class=\"tit\"> <a href=\"javascript:goSearchDetail('24a61392-c659-4230-b96f-1121fc3a25ad');\"><em></em>아이와 <!--HS--><em>봄</em><!--HE--> 드라이브 떠나자! 안성 <!--HS--><em>여행</em><!--HE-->지 4</a> </div> <div class=\"service\"> <p>경기도 안성시</p> <ul class=\"brandingIcon\" id=\"branding_24a61392-c659-4230-b96f-1121fc3a25ad\"> </ul> </div> <p class=\"tag_type\"><span>#<em></em>안성<em>여행</em></span><span>#<em></em>안성가볼만한곳</span><span>#<em></em>드라이브<em>여행</em></span><span>#<em></em><em>봄</em><em>여행</em></span><span>#<em></em><em>봄</em><em>여행</em>지</span><span>#<em></em>안성팜랜드</span><span>#<em></em>소나무카페</span><span>#<em></em>풍사니랑</span><span>#<em></em>아메리카나</span><span>#<em></em>아이와함께</span><span>#<em></em>세시간전</span> </p></div><button class=\"btn_view\" onclick='viewClick(\"24a61392-c659-4230-b96f-1121fc3a25ad\")' title=\"열기\" type=\"button\">더보기</button><div class=\"pop_subMenu\"> <ul> <li class=\"btn_far\"><a href=\"javascript:\" onclick='setFavoContent(\"24a61392-c659-4230-b96f-1121fc3a25ad\")'>즐겨찾기</a></li> <li class=\"btn_share\" id=\"24a61392-c659-4230-b96f-1121fc3a25ad\"><a href=\"javascript:\" onclick='getShareInfo(\"%EC%95%84%EC%9D%B4%EC%99%80%20%3C!HS%3E%EB%B4%84%3C!HE%3E%20%EB%93%9C%EB%9D%BC%EC%9D%B4%EB%B8%8C%20%EB%96%A0%EB%82%98%EC%9E%90!%20%EC%95%88%EC%84%B1%20%3C!HS%3E%EC%97%AC%ED%96%89%3C!HE%3E%EC%A7%80%204\",\"3c005958-332e-4af7-91ac-f9a63fae88cb\",\"24a61392-c659-4230-b96f-1121fc3a25ad\",\"304\");'>공유하기</a></li> </ul></div></li><li><div class=\"photo\"><a href=\"javascript:goSearchDetail('d7008509-e8e9-48b7-9510-596c3c24cfea');\"> <img alt=\"국내 봄 여행지, &lt;br&gt;군위 비대면 봄나들이 코스\" src=\"https://cdn.visitkorea.or.kr/img/call?cmd=VIEW&amp;id=df95cb6c-c1be-45b9-a643-9b01a49dacb2\"/> </a></div> <div class=\"area_txt\"> <div class=\"tit\"> <a href=\"javascript:goSearchDetail('d7008509-e8e9-48b7-9510-596c3c24cfea');\"><em></em>국내 <!--HS--><em>봄</em><!--HE--> <!--HS--><em>여행</em><!--HE-->지, <br/>군위 비대면 <!--HS-->봄<!--HE-->나들이 코스</a> </div> <div class=\"service\"> <p>경상북도 군위군</p> <ul class=\"brandingIcon\" id=\"branding_d7008509-e8e9-48b7-9510-596c3c24cfea\"> </ul> </div> <p class=\"tag_type\"><span>#<em></em>군위<em>여행</em></span><span>#<em></em>군위가볼만한곳</span><span>#<em></em>삼존석굴</span><span>#<em></em>군위삼존석굴</span><span>#<em></em>한밤마을</span><span>#<em></em>화본역</span><span>#<em></em>혜원의집</span><span>#<em></em>영화촬영지</span><span>#<em></em>화산산성</span><span>#<em></em>​화산산성전망대</span><span>#<em></em>리틀포레스트</span> </p></div><button class=\"btn_view\" onclick='viewClick(\"d7008509-e8e9-48b7-9510-596c3c24cfea\")' title=\"열기\" type=\"button\">더보기</button><div class=\"pop_subMenu\"> <ul> <li class=\"btn_far\"><a href=\"javascript:\" onclick='setFavoContent(\"d7008509-e8e9-48b7-9510-596c3c24cfea\")'>즐겨찾기</a></li> <li class=\"btn_share\" id=\"d7008509-e8e9-48b7-9510-596c3c24cfea\"><a href=\"javascript:\" onclick='getShareInfo(\"%EA%B5%AD%EB%82%B4%20%3C!HS%3E%EB%B4%84%3C!HE%3E%20%3C!HS%3E%EC%97%AC%ED%96%89%3C!HE%3E%EC%A7%80%2C%20%3Cbr%3E%EA%B5%B0%EC%9C%84%20%EB%B9%84%EB%8C%80%EB%A9%B4%20%3C!HS%3E%EB%B4%84%3C!HE%3E%EB%82%98%EB%93%A4%EC%9D%B4%20%EC%BD%94%EC%8A%A4\",\"df95cb6c-c1be-45b9-a643-9b01a49dacb2\",\"d7008509-e8e9-48b7-9510-596c3c24cfea\",\"304\");'>공유하기</a></li> </ul></div></li><li><div class=\"photo\"><a href=\"javascript:goSearchDetail('1211a414-7157-485f-b92f-72d902227263');\"> <img alt=\"아침부터 밤까지, 봄 냄새 가득한 '사천' 여행\" src=\"https://cdn.visitkorea.or.kr/img/call?cmd=VIEW&amp;id=e69ed84c-1294-433e-abcd-33e384b15e6e\"/> </a></div> <div class=\"area_txt\"> <div class=\"tit\"> <a href=\"javascript:goSearchDetail('1211a414-7157-485f-b92f-72d902227263');\"><em></em>아침부터 밤까지, <!--HS--><em>봄</em><!--HE--> 냄새 가득한 '사천' <!--HS--><em>여행</em><!--HE--></a> </div> <div class=\"service\"> <p>경상남도 사천시</p> <ul class=\"brandingIcon\" id=\"branding_1211a414-7157-485f-b92f-72d902227263\"> </ul> </div> <p class=\"tag_type\"><span>#<em></em>사천<em>여행</em></span><span>#<em></em>사천<em>여행</em>코스</span><span>#<em></em>사천가볼만한곳</span><span>#<em></em><em>봄</em><em>여행</em></span><span>#<em></em>수양공원</span><span>#<em></em>사천읍성</span><span>#<em></em>포담</span><span>#<em></em>실안해안도로</span><span>#<em></em>삼천포대교</span> </p></div><button class=\"btn_view\" onclick='viewClick(\"1211a414-7157-485f-b92f-72d902227263\")' title=\"열기\" type=\"button\">더보기</button><div class=\"pop_subMenu\"> <ul> <li class=\"btn_far\"><a href=\"javascript:\" onclick='setFavoContent(\"1211a414-7157-485f-b92f-72d902227263\")'>즐겨찾기</a></li> <li class=\"btn_share\" id=\"1211a414-7157-485f-b92f-72d902227263\"><a href=\"javascript:\" onclick='getShareInfo(\"%EC%95%84%EC%B9%A8%EB%B6%80%ED%84%B0%20%EB%B0%A4%EA%B9%8C%EC%A7%80%2C%20%3C!HS%3E%EB%B4%84%3C!HE%3E%20%EB%83%84%EC%83%88%20%EA%B0%80%EB%93%9D%ED%95%9C%20%26%2339%3B%EC%82%AC%EC%B2%9C%26%2339%3B%20%3C!HS%3E%EC%97%AC%ED%96%89%3C!HE%3E\",\"e69ed84c-1294-433e-abcd-33e384b15e6e\",\"1211a414-7157-485f-b92f-72d902227263\",\"304\");'>공유하기</a></li> </ul></div></li></ul>,\n",
       " <ul class=\"brandingIcon\" id=\"branding_e708bca1-a047-4b1f-9b35-0884ca9a446e\"> </ul>,\n",
       " <ul> <li class=\"btn_far\"><a href=\"javascript:\" onclick='setFavoContent(\"e708bca1-a047-4b1f-9b35-0884ca9a446e\")'>즐겨찾기</a></li> <li class=\"btn_share\" id=\"e708bca1-a047-4b1f-9b35-0884ca9a446e\"><a href=\"javascript:\" onclick='getShareInfo(\"%5B%EC%B6%A9%EC%A3%BC%20%3C!HS%3E%EC%97%AC%ED%96%89%3C!HE%3E%20%EC%BD%94%EC%8A%A4%5D%20%3C!HS%3E%EB%B4%84%3C!HE%3E%EC%97%90%20%EA%BC%AD%20%EC%B6%A9%EC%A3%BC%EB%A5%BC%20%EA%B0%80%EC%95%BC%20%ED%95%98%EB%8A%94%20%EC%9D%B4%EC%9C%A0%2C%20%EC%B6%A9%EC%A3%BC%20%EA%B0%80%EB%B3%BC%20%EB%A7%8C%ED%95%9C%20%EA%B3%B3\",\"cef59e5b-c4b0-482a-a97b-c64cd94d32c8\",\"e708bca1-a047-4b1f-9b35-0884ca9a446e\",\"304\");'>공유하기</a></li> </ul>,\n",
       " <ul class=\"brandingIcon\" id=\"branding_3bb47ec6-39bc-4bb1-91ff-6b4446589fdd\"> </ul>,\n",
       " <ul> <li class=\"btn_far\"><a href=\"javascript:\" onclick='setFavoContent(\"3bb47ec6-39bc-4bb1-91ff-6b4446589fdd\")'>즐겨찾기</a></li> <li class=\"btn_share\" id=\"3bb47ec6-39bc-4bb1-91ff-6b4446589fdd\"><a href=\"javascript:\" onclick='getShareInfo(\"%5B%EC%B6%A9%EB%82%A8%20%3C!HS%3E%EB%B4%84%3C!HE%3E%20%3C!HS%3E%EC%97%AC%ED%96%89%3C!HE%3E%5D%20%EB%82%AD%EB%A7%8C%20%EC%B0%BE%EC%95%84%20%EB%96%A0%EB%82%98%EB%8A%94%20%3C!HS%3E%EC%97%AC%ED%96%89%3C!HE%3E%2C%20%3Cbr%3E%EC%B2%9C%EC%95%88%C2%B7%EC%95%84%EC%82%B0%20%3C!HS%3E%EB%B4%84%3C!HE%3E%EB%82%98%EB%93%A4%EC%9D%B4\",\"6591221e-8799-4691-bf85-dd41d0e6cb91\",\"3bb47ec6-39bc-4bb1-91ff-6b4446589fdd\",\"304\");'>공유하기</a></li> </ul>,\n",
       " <ul class=\"brandingIcon\" id=\"branding_ea3355b6-2c81-4cca-ae83-dd069820d368\"> </ul>,\n",
       " <ul> <li class=\"btn_far\"><a href=\"javascript:\" onclick='setFavoContent(\"ea3355b6-2c81-4cca-ae83-dd069820d368\")'>즐겨찾기</a></li> <li class=\"btn_share\" id=\"ea3355b6-2c81-4cca-ae83-dd069820d368\"><a href=\"javascript:\" onclick='getShareInfo(\"%5B%EA%B5%AC%EB%A1%80%20%3C!HS%3E%EB%B4%84%3C!HE%3E%20%3C!HS%3E%EC%97%AC%ED%96%89%3C!HE%3E%5D%20%EB%8B%AC%EB%8B%AC%ED%95%98%EA%B2%8C%20%3C!HS%3E%EB%B4%84%3C!HE%3E%EC%9D%84%20%EC%A6%90%EA%B8%B8%20%EC%88%98%20%EC%9E%88%EB%8A%94%20%EA%B5%AC%EB%A1%80%20%3C!HS%3E%EB%B4%84%3C!HE%3E%EA%BD%83%20%EB%AA%85%EC%86%8C%204\",\"4f058fab-3a26-433e-87b1-63c9148fe47f\",\"ea3355b6-2c81-4cca-ae83-dd069820d368\",\"304\");'>공유하기</a></li> </ul>,\n",
       " <ul class=\"brandingIcon\" id=\"branding_18174205-81ee-4309-ae25-2fc166d90e20\"> </ul>,\n",
       " <ul> <li class=\"btn_far\"><a href=\"javascript:\" onclick='setFavoContent(\"18174205-81ee-4309-ae25-2fc166d90e20\")'>즐겨찾기</a></li> <li class=\"btn_share\" id=\"18174205-81ee-4309-ae25-2fc166d90e20\"><a href=\"javascript:\" onclick='getShareInfo(\"%5B%EA%B1%B0%EC%A0%9C%5D%20%3C!HS%3E%EB%B4%84%3C!HE%3E%EC%9D%84%20%EB%94%B0%EB%9D%BC%20%EA%B1%B7%EB%8A%94%20%3C!HS%3E%EC%97%AC%ED%96%89%3C!HE%3E%2C%20%EA%B1%B0%EC%A0%9C%EB%8F%84\",\"45924426-8448-4210-a5c5-ee203cc0aea6\",\"18174205-81ee-4309-ae25-2fc166d90e20\",\"304\");'>공유하기</a></li> </ul>,\n",
       " <ul class=\"brandingIcon\" id=\"branding_da03d388-37b6-47c6-b6a7-a41d35e7d905\"> </ul>,\n",
       " <ul> <li class=\"btn_far\"><a href=\"javascript:\" onclick='setFavoContent(\"da03d388-37b6-47c6-b6a7-a41d35e7d905\")'>즐겨찾기</a></li> <li class=\"btn_share\" id=\"da03d388-37b6-47c6-b6a7-a41d35e7d905\"><a href=\"javascript:\" onclick='getShareInfo(\"%EA%B5%AD%EB%82%B4%20%EB%8B%B9%EC%9D%BC%EC%B9%98%EA%B8%B0%20%3C!HS%3E%EC%97%AC%ED%96%89%3C!HE%3E%2C%20%EC%A7%84%EC%B2%9C%20%3C!HS%3E%EB%B4%84%3C!HE%3E%EB%82%98%EB%93%A4%EC%9D%B4%20%EC%B6%94%EC%B2%9C%20%EB%AA%85%EC%86%8C\",\"266a02c2-477a-4ecc-92a7-6d18b589996f\",\"da03d388-37b6-47c6-b6a7-a41d35e7d905\",\"304\");'>공유하기</a></li> </ul>,\n",
       " <ul class=\"brandingIcon\" id=\"branding_98dddf4d-2fd7-4db8-adc2-3a45fcfd88b7\"> </ul>,\n",
       " <ul> <li class=\"btn_far\"><a href=\"javascript:\" onclick='setFavoContent(\"98dddf4d-2fd7-4db8-adc2-3a45fcfd88b7\")'>즐겨찾기</a></li> <li class=\"btn_share\" id=\"98dddf4d-2fd7-4db8-adc2-3a45fcfd88b7\"><a href=\"javascript:\" onclick='getShareInfo(\"%3C!HS%3E%EB%B4%84%3C!HE%3E%EB%B0%94%EB%9E%8C%20%EB%94%B0%EB%9D%BC%20%EC%82%B4%EB%9E%91%EC%82%B4%EB%9E%91%20%ED%86%B5%EC%98%81%201%EB%B0%952%EC%9D%BC%20%3C!HS%3E%EC%97%AC%ED%96%89%3C!HE%3E%EC%BD%94%EC%8A%A4\",\"877a53fb-c4f5-47ec-9715-4cd628751d6d\",\"98dddf4d-2fd7-4db8-adc2-3a45fcfd88b7\",\"304\");'>공유하기</a></li> </ul>,\n",
       " <ul class=\"brandingIcon\" id=\"branding_526908dc-0a8f-4682-9192-9a0380f24391\"> </ul>,\n",
       " <ul> <li class=\"btn_far\"><a href=\"javascript:\" onclick='setFavoContent(\"526908dc-0a8f-4682-9192-9a0380f24391\")'>즐겨찾기</a></li> <li class=\"btn_share\" id=\"526908dc-0a8f-4682-9192-9a0380f24391\"><a href=\"javascript:\" onclick='getShareInfo(\"%EC%9A%B0%EB%A6%AC%20%EC%95%84%EC%9D%B4%EC%99%80%20%3C!HS%3E%EB%B4%84%3C!HE%3E%EB%82%98%EB%93%A4%EC%9D%B4%20%EA%B0%88%20%EC%8B%9C%EA%B0%84%E2%8F%B0%20%3Cbr%3E%EC%84%9C%EC%9A%B8%20%EA%B7%BC%EA%B5%90%20%3C!HS%3E%EC%97%AC%ED%96%89%3C!HE%3E%EC%A7%80%204\",\"e2e5ee20-2f4a-4f5b-ba8f-3ad8e9980a5d\",\"526908dc-0a8f-4682-9192-9a0380f24391\",\"304\");'>공유하기</a></li> </ul>,\n",
       " <ul class=\"brandingIcon\" id=\"branding_24a61392-c659-4230-b96f-1121fc3a25ad\"> </ul>,\n",
       " <ul> <li class=\"btn_far\"><a href=\"javascript:\" onclick='setFavoContent(\"24a61392-c659-4230-b96f-1121fc3a25ad\")'>즐겨찾기</a></li> <li class=\"btn_share\" id=\"24a61392-c659-4230-b96f-1121fc3a25ad\"><a href=\"javascript:\" onclick='getShareInfo(\"%EC%95%84%EC%9D%B4%EC%99%80%20%3C!HS%3E%EB%B4%84%3C!HE%3E%20%EB%93%9C%EB%9D%BC%EC%9D%B4%EB%B8%8C%20%EB%96%A0%EB%82%98%EC%9E%90!%20%EC%95%88%EC%84%B1%20%3C!HS%3E%EC%97%AC%ED%96%89%3C!HE%3E%EC%A7%80%204\",\"3c005958-332e-4af7-91ac-f9a63fae88cb\",\"24a61392-c659-4230-b96f-1121fc3a25ad\",\"304\");'>공유하기</a></li> </ul>,\n",
       " <ul class=\"brandingIcon\" id=\"branding_d7008509-e8e9-48b7-9510-596c3c24cfea\"> </ul>,\n",
       " <ul> <li class=\"btn_far\"><a href=\"javascript:\" onclick='setFavoContent(\"d7008509-e8e9-48b7-9510-596c3c24cfea\")'>즐겨찾기</a></li> <li class=\"btn_share\" id=\"d7008509-e8e9-48b7-9510-596c3c24cfea\"><a href=\"javascript:\" onclick='getShareInfo(\"%EA%B5%AD%EB%82%B4%20%3C!HS%3E%EB%B4%84%3C!HE%3E%20%3C!HS%3E%EC%97%AC%ED%96%89%3C!HE%3E%EC%A7%80%2C%20%3Cbr%3E%EA%B5%B0%EC%9C%84%20%EB%B9%84%EB%8C%80%EB%A9%B4%20%3C!HS%3E%EB%B4%84%3C!HE%3E%EB%82%98%EB%93%A4%EC%9D%B4%20%EC%BD%94%EC%8A%A4\",\"df95cb6c-c1be-45b9-a643-9b01a49dacb2\",\"d7008509-e8e9-48b7-9510-596c3c24cfea\",\"304\");'>공유하기</a></li> </ul>,\n",
       " <ul class=\"brandingIcon\" id=\"branding_1211a414-7157-485f-b92f-72d902227263\"> </ul>,\n",
       " <ul> <li class=\"btn_far\"><a href=\"javascript:\" onclick='setFavoContent(\"1211a414-7157-485f-b92f-72d902227263\")'>즐겨찾기</a></li> <li class=\"btn_share\" id=\"1211a414-7157-485f-b92f-72d902227263\"><a href=\"javascript:\" onclick='getShareInfo(\"%EC%95%84%EC%B9%A8%EB%B6%80%ED%84%B0%20%EB%B0%A4%EA%B9%8C%EC%A7%80%2C%20%3C!HS%3E%EB%B4%84%3C!HE%3E%20%EB%83%84%EC%83%88%20%EA%B0%80%EB%93%9D%ED%95%9C%20%26%2339%3B%EC%82%AC%EC%B2%9C%26%2339%3B%20%3C!HS%3E%EC%97%AC%ED%96%89%3C!HE%3E\",\"e69ed84c-1294-433e-abcd-33e384b15e6e\",\"1211a414-7157-485f-b92f-72d902227263\",\"304\");'>공유하기</a></li> </ul>,\n",
       " <ul class=\"list_thumType\">\n",
       " </ul>,\n",
       " <ul class=\"list_thumType3 clfix\">\n",
       " </ul>,\n",
       " <ul id=\"p_search\"><li><a href=\"javascript:\"><span class=\"num_best\">1</span><em>가을 여행</em></a></li><li><a href=\"javascript:\"><span class=\"num_best\">2</span><em>서울</em></a></li><li><a href=\"javascript:\"><span class=\"num_best\">3</span><em>부산</em></a></li><li><a href=\"javascript:\"><span>4</span><em>경기도</em></a></li><li><a href=\"javascript:\"><span>5</span><em>강원도</em></a></li><li><a href=\"javascript:\"><span>6</span><em>제주</em></a></li><li><a href=\"javascript:\"><span>7</span><em>속초</em></a></li><li><a href=\"javascript:\"><span>8</span><em>전주</em></a></li><li><a href=\"javascript:\"><span>9</span><em>제주도</em></a></li><li><a href=\"javascript:\"><span>10</span><em>경주</em></a></li></ul>,\n",
       " <ul class=\"swiper-wrapper\" id=\"mainnewslist\" style=\"transition-duration: 300ms; transform: translate3d(0px, -325px, 0px);\"><li class=\"swiper-slide swiper-slide-duplicate\" data-swiper-slide-index=\"9\" style=\"height: 65px;\"> <a href=\"javascript:\" onclick='goNews(\"257ae81c-71c7-4740-a6e2-3bcdf8a18dcd\");' tabindex=\"-1\">[소식][한국관광공사] 반려동물 동반 캠핑, 해남 오시아노에서 제대로 해보자</a></li><li class=\"swiper-slide\" data-swiper-slide-index=\"0\" style=\"height: 65px;\"> <a href=\"javascript:\" onclick='goNews(\"ea4cedc3-8d23-489e-96ba-66b5fbc929c1\");' tabindex=\"-1\">[소식][한국관광공사] 올 추석엔 ‘대한민국 구석구석’과 함께 국내여행 즐겨봐요!</a></li><li class=\"swiper-slide\" data-swiper-slide-index=\"1\" style=\"height: 65px;\"> <a href=\"javascript:\" onclick='goNews(\"a9dc1a49-d3e6-4fc7-8d6f-dc1782f485be\");' tabindex=\"-1\">[소식][한국관광공사] 서비스 중단된 유튜브 채널 복구 및 재발 방지 긴급 대책 수립</a></li><li class=\"swiper-slide\" data-swiper-slide-index=\"2\" style=\"height: 65px;\"> <a href=\"javascript:\" onclick='goNews(\"0de0df83-ad8a-44ac-91eb-6f9ef705ebba\");' tabindex=\"-1\">[소식][강원] 신중년 로컬여행 호스트 양성과정</a></li><li class=\"swiper-slide swiper-slide-prev\" data-swiper-slide-index=\"3\" style=\"height: 65px;\"> <a href=\"javascript:\" onclick='goNews(\"3111eaba-81a1-4626-bec1-c7085783c447\");' tabindex=\"0\">[소식][한국관광공사 X 리얼월드] 디지털 관광 콘텐츠 챌린지 개최!</a></li><li class=\"swiper-slide swiper-slide-active\" data-swiper-slide-index=\"4\" style=\"height: 65px;\"> <a href=\"javascript:\" onclick='goNews(\"5898d1ec-9244-46a8-857d-ab708ab2eccd\");' tabindex=\"-1\">[소식][한국관광공사] 코로나로 끊겼던 한국-대만 관광교류 ‘재가동’</a></li><li class=\"swiper-slide swiper-slide-next\" data-swiper-slide-index=\"5\" style=\"height: 65px;\"> <a href=\"javascript:\" onclick='goNews(\"b9338913-f3d0-4d6e-b4ce-40131946db33\");' tabindex=\"-1\">[소식][한국관광공사] “지역관광 활성화 우리가 이끕니다”</a></li><li class=\"swiper-slide\" data-swiper-slide-index=\"6\" style=\"height: 65px;\"> <a href=\"javascript:\" onclick='goNews(\"d7be8f6b-9907-4597-8517-d7ae393fea8a\");' tabindex=\"-1\">[소식][한국관광공사] 국내 관광벤처기업의 해외시장 진출 본격 탄력</a></li><li class=\"swiper-slide\" data-swiper-slide-index=\"7\" style=\"height: 65px;\"> <a href=\"javascript:\" onclick='goNews(\"f1f6642e-f9ed-4fe2-b275-028aa07053ea\");' tabindex=\"-1\">[소식][한국관광공사] 댕댕아, 올가을에는 크루즈 타자</a></li><li class=\"swiper-slide\" data-swiper-slide-index=\"8\" style=\"height: 65px;\"> <a href=\"javascript:\" onclick='goNews(\"a742cb48-dcb0-4240-8cd4-472c775a45d1\");' tabindex=\"-1\">[소식][한국관광공사] 주한 유학생, 부여에서 인문학으로 놀다</a></li><li class=\"swiper-slide\" data-swiper-slide-index=\"9\" style=\"height: 65px;\"> <a href=\"javascript:\" onclick='goNews(\"257ae81c-71c7-4740-a6e2-3bcdf8a18dcd\");' tabindex=\"-1\">[소식][한국관광공사] 반려동물 동반 캠핑, 해남 오시아노에서 제대로 해보자</a></li><li class=\"swiper-slide swiper-slide-duplicate\" data-swiper-slide-index=\"0\" style=\"height: 65px;\"> <a href=\"javascript:\" onclick='goNews(\"ea4cedc3-8d23-489e-96ba-66b5fbc929c1\");' tabindex=\"-1\">[소식][한국관광공사] 올 추석엔 ‘대한민국 구석구석’과 함께 국내여행 즐겨봐요!</a></li></ul>,\n",
       " <ul>\n",
       " <li>\n",
       " <a href=\"http://blog.naver.com/korea_diary/\" target=\"_blank\" title=\"새창\">\n",
       " <span class=\"ico ico_blog\"></span>\n",
       " <em class=\"sns_name\">블로그</em>\n",
       " </a>\n",
       " </li>\n",
       " <li>\n",
       " <a href=\"http://post.naver.com/korea_diary\" target=\"_blank\" title=\"새창\">\n",
       " <span class=\"ico ico_post\"></span>\n",
       " <em class=\"sns_name\">포스트</em>\n",
       " </a>\n",
       " </li>\n",
       " <li>\n",
       " <a href=\"https://www.facebook.com/9suk9suklive\" target=\"_blank\" title=\"새창\">\n",
       " <span class=\"ico ico_facebook\"></span>\n",
       " <em class=\"sns_name\">페이스북</em>\n",
       " </a>\n",
       " </li>\n",
       " <li>\n",
       " <a href=\"https://twitter.com/kor_visitkorea\" target=\"_blank\" title=\"새창\">\n",
       " <span class=\"ico ico_twitter\"></span>\n",
       " <em class=\"sns_name\">트위터</em>\n",
       " </a>\n",
       " </li>\n",
       " <li>\n",
       " <a href=\"https://story.kakao.com/#ch/visitkorea/\" target=\"_blank\" title=\"새창\">\n",
       " <span class=\"ico ico_kakaostory\"></span>\n",
       " <em class=\"sns_name\">카카오<br/>스토리</em>\n",
       " </a>\n",
       " </li>\n",
       " <li>\n",
       " <a href=\"https://www.instagram.com/kto9suk9suk/\" target=\"_blank\" title=\"새창\">\n",
       " <span class=\"ico ico_instagram\"></span>\n",
       " <em class=\"sns_name\">인스타<br/>그램</em>\n",
       " </a>\n",
       " </li>\n",
       " <li>\n",
       " <a href=\"http://www.odii.kr/renewal3/common/webguide/ko/index_ko.html\" target=\"_blank\" title=\"새창\">\n",
       " <span class=\"ico ico_odii\"></span>\n",
       " <em class=\"sns_name\">오디</em>\n",
       " </a>\n",
       " </li>\n",
       " </ul>,\n",
       " <ul class=\"btm_menu\">\n",
       " <li><a class=\"personal_info\" href=\"javascript:\" onclick=\"goTerm(1);\">개인정보처리방침</a></li>\n",
       " <li><a href=\"javascript:\" onclick=\"goTerm(2);\">이용약관</a></li><!-- 0703 추가 -->\n",
       " <li><a href=\"javascript:\" onclick=\"goTerm(3);\">위치기반서비스 이용약관</a></li><!-- 0717 추가 -->\n",
       " <li><a href=\"http://kto.visitkorea.or.kr/kor/helpDesk/copyrightGuide.kto\" target=\"_blank\" title=\"새창\">저작권정책</a></li>\n",
       " <li><a href=\"http://kto.visitkorea.or.kr/kor/customer/charter/charter.kto\" target=\"_blank\" title=\"새창\">고객서비스헌장</a></li>\n",
       " <li><a href=\"http://kto.visitkorea.or.kr/kor/helpDesk/policy/emailRejection.kto\" target=\"_blank\" title=\"새창\">전자우편무단수집거부</a></li>\n",
       " <li><a href=\"javascript:\" onclick=\"goQA();\" title=\"페이지이동\">Q&amp;A</a></li>\n",
       " <li><a href=\"http://kto.visitkorea.or.kr/kor/kto/map/head.kto\" target=\"_blank\" title=\"새창\">찾아오시는 길</a></li>\n",
       " </ul>,\n",
       " <ul class=\"ft_address\">\n",
       " <li><span>우)26464</span><span>강원도 원주시 세계로 10</span>TEL : 033-738-3000</li>\n",
       " <li>사업자등록번호 : 202-81-50707</li>\n",
       " <li>통신판매업신고 : 제2009-서울중구-1234호</li>\n",
       " </ul>,\n",
       " <ul class=\"logo_list\">\n",
       " <li><a href=\"http://api.visitkorea.or.kr/\" target=\"_blank\" title=\"새창\"><img alt=\"TourAPI 3.0\" src=\"https://cdn.visitkorea.or.kr/resources/images/common/logo_foot_api.png\"/></a></li>\n",
       " <li><a href=\"http://www.wa.or.kr/board/list.asp?BoardID=0006\" target=\"_blank\" title=\"새창\"><img alt=\"과학기술정보통신부 웹 접근성 품질인증 마크\" src=\"https://cdn.visitkorea.or.kr/resources/images/common/logo_foot_wa.png\"/></a></li>\n",
       " <li><a href=\"http://kto.visitkorea.or.kr/kor.kto\" target=\"_blank\" title=\"새창\"><img alt=\"한국관광공사\" src=\"https://cdn.visitkorea.or.kr/resources/images/common/logo_foot_gg.png\"/></a></li>\n",
       " <li><a href=\"http://www.mcst.go.kr/\" target=\"_blank\" title=\"새창\"><img alt=\"문화체육관광부\" src=\"https://cdn.visitkorea.or.kr/resources/images/common/logo_foot_mg.png\"/></a></li>\n",
       " </ul>,\n",
       " <ul class=\"logo_list\">\n",
       " <li><a href=\"http://api.visitkorea.or.kr/\" target=\"_blank\" title=\"새창\"><img alt=\"TourAPI 3.0\" src=\"https://cdn.visitkorea.or.kr/resources/images/common/logo_mfoot_api.png\"/></a></li>\n",
       " <li><a href=\"http://www.wa.or.kr/board/list.asp?BoardID=0006\" target=\"_blank\" title=\"새창\"><img alt=\"과학기술정보통신부 웹 접근성 품질인증 마크\" src=\"https://cdn.visitkorea.or.kr/resources/images/common/logo_mfoot_wa.png\"/></a></li>\n",
       " </ul>,\n",
       " <ul class=\"logo_list2\">\n",
       " <li><a href=\"http://kto.visitkorea.or.kr/kor.kto\" target=\"_blank\" title=\"새창\"><img alt=\"한국관광공사\" src=\"https://cdn.visitkorea.or.kr/resources/images/common/logo_mfoot_gg.png\"/></a></li>\n",
       " <li><a href=\"http://www.mcst.go.kr/\" target=\"_blank\" title=\"새창\"><img alt=\"문화체육관광부\" src=\"https://cdn.visitkorea.or.kr/resources/images/common/logo_mfoot_mg.png\"/></a></li>\n",
       " </ul>,\n",
       " <ul>\n",
       " </ul>,\n",
       " <ul class=\"list_sns clfix\">\n",
       " <li class=\"facebook\"><a href=\"javascript:goShare('facebook');\" title=\"새창 열림\">페이스북</a></li>\n",
       " <li class=\"twitter\"><a href=\"javascript:goShare('twitter');\" title=\"새창 열림\">트위터</a></li>\n",
       " <li class=\"kakaostory\"><a href=\"javascript:goShare('kakaostory');\" title=\"새창 열림\">카카오스토리</a></li>\n",
       " <li class=\"kakao\" id=\"kakao-link-btn\"><a href=\"javascript:goShare('kakaotalk');\" title=\"새창 열림\">카카오톡</a></li>\n",
       " <li class=\"band\"><a href=\"javascript:goShare('band');\" title=\"새창 열림\">밴드</a></li>\n",
       " </ul>,\n",
       " <ul class=\"list_sns type4\">\n",
       " <li class=\"facebook\"><a href=\"javascript:goShare('facebook');\" title=\"새창 열림\">페이스북</a></li>\n",
       " <li class=\"twitter\"><a href=\"javascript:goShare('twitter');\" title=\"새창 열림\">트위터</a></li>\n",
       " <li class=\"kakaostory\"><a href=\"javascript:goShare('kakaostory');\" title=\"새창 열림\">카카오스토리</a></li>\n",
       " <li class=\"band\"><a href=\"javascript:goShare('band');\" title=\"새창 열림\">밴드</a></li>\n",
       " </ul>,\n",
       " <ul class=\"list_navi clfix\">\n",
       " <li class=\"navi_kakao\"><a href=\"javascript:nevi('kakaomap');\">카카오내비</a></li>\n",
       " <li class=\"navi_tmap\"><a href=\"javascript:nevi('tmap');\">T map</a></li>\n",
       " </ul>,\n",
       " <ul>\n",
       " <li>인증번호:2018-11-0034</li>\n",
       " <li>홈페이지:korean.visitkorea.or.kr</li>\n",
       " <li>서비스명:대한민국구석구석</li>\n",
       " <li>기업/기관명:한국관광공사</li>\n",
       " <li>대표자:안영배</li>\n",
       " <li>유효기간:2018년11월16일 ~ 2020년11년15일</li>\n",
       " </ul>,\n",
       " <ul>\n",
       " <li>\n",
       " <a class=\"mem\" href=\"javascript:goJikimiCheck(1);\">\n",
       " <img alt=\"일반회원 - 일반 SNS 사용자입니다.\" class=\"pc\" src=\"https://cdn.visitkorea.or.kr/resources/images/common/img_poplogin01.gif\"/>\n",
       " <img alt=\"일반회원 - 일반 SNS 사용자입니다.\" class=\"mo\" src=\"https://cdn.visitkorea.or.kr/resources/images/common/img_mpoplogin01.gif\"/>\n",
       " </a>\n",
       " </li>\n",
       " <li>\n",
       " <a class=\"pmem\" href=\"javascript:goJikimiCheck(2);\">\n",
       " <img alt=\"파트너스 회원 - 관광지/숙박/음식점 관계자 또는 지자체 담당자입니다.\" class=\"pc\" src=\"https://cdn.visitkorea.or.kr/resources/images/common/img_poplogin02.gif\"/>\n",
       " <img alt=\"파트너스 회원 - 관광지/숙박/음식점 관계자 또는 지자체 담당자입니다.\" class=\"mo\" src=\"https://cdn.visitkorea.or.kr/resources/images/common/img_mpoplogin02.gif\"/>\n",
       " </a>\n",
       " </li>\n",
       " </ul>,\n",
       " <ul class=\"swiper-wrapper\">\n",
       " <li class=\"swiper-slide\">\n",
       " <img alt=\"1. 수정하고자 하는 관광정보를 검색해주세요!\" class=\"pcView\" src=\"https://cdn.visitkorea.or.kr/resources/images/sub/img_new_guide01.gif\"/>\n",
       " <img alt=\"1. 수정하고자 하는 관광정보를 검색해주세요!\" class=\"moView\" src=\"https://cdn.visitkorea.or.kr/resources/images/sub/img_new_mguide01.gif\"/>\n",
       " <p>1. 수정하고자 하는 관광정보를 검색해주세요!</p>\n",
       " </li>\n",
       " <li class=\"swiper-slide\">\n",
       " <img alt=\"2. 검색결과를 확인하고 수정할 정보가 있다면 '정보수정' 버튼을 눌러 수정 요청을 진행해주세요!\" class=\"pcView\" src=\"https://cdn.visitkorea.or.kr/resources/images/sub/img_new_guide02.gif\"/>\n",
       " <img alt=\"2. 검색결과를 확인하고 수정할 정보가 있다면 '정보수정' 버튼을 눌러 수정 요청을 진행해주세요!\" class=\"moView\" src=\"https://cdn.visitkorea.or.kr/resources/images/sub/img_new_mguide02.gif\"/>\n",
       " <p>2. 검색결과를 확인하고 수정할 정보가 있다면<br/>\n",
       " \t\t\t\t\t\t\t\t[정보 수정] 버튼을 눌러 수정 요청을 진행해주세요!</p>\n",
       " </li>\n",
       " <li class=\"swiper-slide\">\n",
       " <img alt=\"3. 수정할 정보가 있다면 각 항목에 맞춰 입력해주세요!\" class=\"pcView\" src=\"https://cdn.visitkorea.or.kr/resources/images/sub/img_new_guide03.gif\"/>\n",
       " <img alt=\"3. 수정할 정보가 있다면 각 항목에 맞춰 입력해주세요!\" class=\"moView\" src=\"https://cdn.visitkorea.or.kr/resources/images/sub/img_new_mguide03.gif\"/>\n",
       " <p>3. 수정할 정보가 있다면 각 항목에 맞춰 입력해주세요!\n",
       " \t\t\t\t\t\t\t\t<span class=\"tip\">Tip. [노출중인 정보보기]를 누르면 현재 서비스 되고 있는 정보를 확인할 수 있어요!</span>\n",
       " </p>\n",
       " </li>\n",
       " <li class=\"swiper-slide\">\n",
       " <img alt=\"4. 수정요청이 완료되면 리스트에서 확인 가능합니다.\" class=\"pcView\" src=\"https://cdn.visitkorea.or.kr/resources/images/sub/img_new_guide04.gif\"/>\n",
       " <img alt=\"4. 수정요청이 완료되면 리스트에서 확인 가능합니다.\" class=\"moView\" src=\"https://cdn.visitkorea.or.kr/resources/images/sub/img_new_mguide04.gif\"/>\n",
       " <p>4. 수정요청이 완료되면 리스트에서 확인 가능합니다.\n",
       " \t\t\t\t\t\t\t\t<span class=\"tip\">※ 수정요청 건에 대해서는 진행단계를 확인해주세요!</span>\n",
       " </p>\n",
       " </li>\n",
       " </ul>,\n",
       " <ul class=\"info\">\n",
       " <li>※ 비밀번호는 영문, 숫자, 특수문자(!,@,#,$,%,^,&amp;,+,=) 3종류를 조합하여 최소 8자리 이상으로 구성</li>\n",
       " <li>※ 비밀번호는 180일이 지난 이후 다시 변경 하여야 합니다.</li>\n",
       " </ul>,\n",
       " <ul class=\"list_sns clfix\">\n",
       " <li class=\"naver\"><a href=\"javascript:;\" onclick=\"goLogin('naver');\" title=\"새창 열림\">네이버</a></li>\n",
       " <li class=\"kakao\"><a href=\"javascript:;\" onclick=\"goLogin('kakao');\" title=\"새창 열림\">카카오톡</a></li>\n",
       " <li class=\"facebook\"><a href=\"javascript:;\" onclick=\"goLogin('facebook');\" title=\"새창 열림\">페이스북</a></li>\n",
       " <li class=\"twitter\"><a href=\"javascript:;\" onclick=\"goLogin('twitter');\" title=\"새창 열림\">트위터</a></li>\n",
       " <li class=\"google\"><a href=\"javascript:;\" onclick=\"goLogin('google');\" title=\"새창 열림\">구글</a></li>\n",
       " <li class=\"apple\"><a href=\"javascript:;\" onclick=\"goLogin('apple');\" title=\"새창 열림\">애플</a></li>\n",
       " </ul>,\n",
       " <ul class=\"top\">\n",
       " </ul>,\n",
       " <ul class=\"btm\">\n",
       " </ul>,\n",
       " <ul>\n",
       " <li>① 본 약관은 공사가 서비스 화면을 통해 게시하고 이용자가 이에 동의함으로써 효력을 발생합니다.</li>\n",
       " <li>② 공사는 \"약관의 규제 등에 관한 법률\", \"전기통신사업법령\", \"정보통신망 이용촉진 및 정보보호 등에 관한 법률\", \"개인정보보호법\" 등 관련 법령을 위반하지 않는 범위에서 이 약관의 내용을 수정하거나 변경할 수 있습니다.</li>\n",
       " <li>③ 공사가 약관을 개정할 경우에는 기존약관과 개정약관 및 개정약관의 적용일자와 개정사유를 명시하여 현행약관과 함께 그 적용일자 7일 전부터 적용일 이후 상당한 기간 동안, 개정 내용이 회원에게 불리한 경우에는 그 적용일자 30일 전부터 적용일 이후 상당한 기간 동안 각각 이를 서비스 홈페이지에 고지합니다.</li>\n",
       " <li>④ 공사가 전항에 따라 회원에게 고지하면서 고지일로부터 개정약관 시행일 7일 후까지 거부의사를 표시하지 아니하면 승인한 것으로 본다는 뜻을 명확하게 고지하였음에도 의사표시가 없는 경우에는 변경된 약관을 승인한 것으로 봅니다. 회원이 개정약관에 동의하지 않을 경우 회원은 제6조 제1항의 규정에 따라 이용계약을 해지할 수 있습니다.</li>\n",
       " </ul>,\n",
       " <ul>\n",
       " <li>① 이용자: 공사가 제공하는 서비스를 받는 소셜로그인 회원 및 비회원</li>\n",
       " <li>② 회원: 다른 서비스에서 가입한 정보를 바탕으로 대한민국구석구석 서비스 內 소셜로그인 인증을 받은 개인이나 법인 또는 법인에 준하는 단체</li>\n",
       " <li>③ 비회원: 소셜로그인 인증을 통하여 회원인증하지 않고, 공사가 제공하는 서비스를 이용하는 자</li>\n",
       " <li>④ 해지: 공사 또는 회원이 서비스 개통 후 이용계약을 해약하는 것</li>\n",
       " <li>⑤ 소셜로그인 인증 : 포털‧사회관계망서비스(SNS) 가입자가 해당 ID로 다른 웹사이트나 애플리케이션에 접속하는 기능</li>\n",
       " <li>⑥ 통합 소셜로그인(투어원패스) :  소셜로그인 인증을 통해 로그인 실행 및 연계된 공사 서비스를 추가 로그인 없이 이용할 수 있는 기능</li>\n",
       " </ul>,\n",
       " <ul>\n",
       " <li>\n",
       " \t\t\t\t\t\t\t① 회원은 탈퇴를 희망할 경우 탈퇴를 요청할 수 있으며, 탈퇴 방법은 대한민국 구석구석 사이트에서 요청하거나, 통합 소셜로그인 서비스 사이트(투어원패스 사이트)에서 요청하는 방법이 있습니다. 탈퇴 요청을 받으면 공사는 관련법 등이 정하는 바에 따라 이를 처리합니다. 회원이 자발적으로 계약을 해지할 경우, 공사는 관련법 및 개인정보취급방침에 따라 인증정보를 삭제합니다. 회원이 다음 각 호의 사유에 해당하는 경우, 공사는 회원자격을 제한 및 정지시킬 수 있습니다.\n",
       " \t\t\t\t\t\t\t<ul>\n",
       " <li>가. 가입 신청 시에 허위 내용을 등록한 경우</li>\n",
       " <li>나. 다른 사람의 서비스 이용을 방해하거나 타인의 명예를 훼손하거나 그 정보를 도용하는 등 전자 거래 및 정보통신서비스 이용질서를 위협하는 경우</li>\n",
       " <li>다. 제공되는 정보를 변경하는 등 공사의 운영을 방해한 경우</li>\n",
       " <li>라. 법령과 본 약관이 금지하거나 미풍양속에 저해하는 행위를 하는 경우</li>\n",
       " </ul>\n",
       " </li>\n",
       " <li>② 공사는 회원자격 및 서비스 이용을 제한, 정지 시킨 후, 그 사유가 시정되지 아니하는 경우 회원자격을 상실시킬 수 있습니다.</li>\n",
       " </ul>,\n",
       " <ul>\n",
       " <li>가. 가입 신청 시에 허위 내용을 등록한 경우</li>\n",
       " <li>나. 다른 사람의 서비스 이용을 방해하거나 타인의 명예를 훼손하거나 그 정보를 도용하는 등 전자 거래 및 정보통신서비스 이용질서를 위협하는 경우</li>\n",
       " <li>다. 제공되는 정보를 변경하는 등 공사의 운영을 방해한 경우</li>\n",
       " <li>라. 법령과 본 약관이 금지하거나 미풍양속에 저해하는 행위를 하는 경우</li>\n",
       " </ul>,\n",
       " <ul>\n",
       " <li>① 서비스는 연중무휴 1일 24시간 제공함을 원칙으로 하며, 공사가 업무상, 운영상, 기술상의 이유로 서비스의 전부 또는 일부가 일시 중지될 수 있으며, 이 경우 내용을 사전에 공지합니다.</li>\n",
       " <li>② 공사는 서비스 별로 이용 가능한 시간을 별도로 정할 수 있으며 이 경우 그 내용을 사전에 공지합니다.</li>\n",
       " </ul>,\n",
       " <ul>\n",
       " <li>① 공사는 관련법과 이 약관에서 금지하거나 미풍양속에 반하는 행위를 하지 않으며, 계속적이고 안정적으로 서비스를 제공하기 위하여 최선을 다하여 노력합니다.</li>\n",
       " <li>② 공사는 서비스와 관련한 회원의 불만사항이 접수되는 경우 이를 즉시 처리하여야 하며, 즉시 처리가 곤란한 경우 그 사유와 처리 일정을 해당 회원에게 통지하여야 합니다.</li>\n",
       " <li>③ 공사는 서비스의 제공과 관련하여 알게 된 회원의 개인정보를 본인의 승낙 없이 제3자에게 누설, 배포하지 않고, 이를 보호하기 위하여 노력합니다. 회원의 개인정보보호 및 사용에 대해서는 관련법 및 개인정보취급방침에 따릅니다.</li>\n",
       " </ul>,\n",
       " <ul>\n",
       " <li>① 신청 또는 변경 시 허위내용의 등록</li>\n",
       " <li>② 타인의 정보도용</li>\n",
       " <li>③ 공사가 게시한 정보의 변경</li>\n",
       " <li>④ 공사가 정한 정보 이외의 정보(컴퓨터 프로그램 등) 등의 송신 또는 게시</li>\n",
       " <li>⑤ 공사와 기타 제3자의 저작권 등 지적재산권에 대한 침해</li>\n",
       " <li>⑥ 공사 및 기타 제3자의 명예를 손상시키거나 업무를 방해하는 행위</li>\n",
       " <li>⑦ 외설 또는 폭력적인 메시지, 화상, 음성, 기타 미풍양속에 반하는 정보를 서비스에 공개 또는 게시하는 행위</li>\n",
       " <li>⑧ 공사의 동의 없이 영리를 목적으로 서비스를 사용하는 행위</li>\n",
       " <li>⑨ 기타 불법적이거나 부당한 행위</li>\n",
       " </ul>,\n",
       " <ul>\n",
       " <li>① 게시물에 대한 저작권을 포함한 모든 권리 및 책임은 이를 게시한 회원에게 있으며, 공사는 서비스 내에 게재할 권리를 갖습니다.</li>\n",
       " <li>\n",
       " \t\t\t\t\t\t\t② 공사는 회원이 서비스에 게시, 게재하거나 서비스를 통해 전송, 수신한 내용물 및 그 결과에 대하여 책임지지 않으며, 아래사항에 해당하는 경우 게시물을 임의로 삭제할 수 있습니다.\n",
       " \t\t\t\t\t\t\t<ul>\n",
       " <li>가. 타인을 비방하거나, 프라이버시를 침해하거나, 명예를 손상시키는 내용인 경우</li>\n",
       " <li>나. 공공질서 및 미풍양속에 위반되는 내용인 경우</li>\n",
       " <li>다. 서비스의 안정적인 운영에 지장을 주거나 줄 우려가 있는 경우</li>\n",
       " <li>라. 범죄행위에 관련된다고 판단되는 내용인 경우</li>\n",
       " <li>마. 공사의 지적재산권, 타인의 지적재산권 등 기타 권리를 침해하는 내용인 경우</li>\n",
       " <li>바. 특정제품의 선전 등 기타 상용목적으로 게시되는 내용인 경우</li>\n",
       " <li>사. 입력된 정보를 무단 개조하는 경우</li>\n",
       " <li>아. 타 회원의 회원 ID, 비밀번호를 도용하는 경우</li>\n",
       " <li>자. 게시판의 목적에 맞지 않는 사이버 시위 및 도배 목적의 내용인 경우</li>\n",
       " <li>차. 기타 관계법령에 위반된다고 판단되는 경우</li>\n",
       " </ul>\n",
       " </li>\n",
       " </ul>,\n",
       " <ul>\n",
       " <li>가. 타인을 비방하거나, 프라이버시를 침해하거나, 명예를 손상시키는 내용인 경우</li>\n",
       " <li>나. 공공질서 및 미풍양속에 위반되는 내용인 경우</li>\n",
       " <li>다. 서비스의 안정적인 운영에 지장을 주거나 줄 우려가 있는 경우</li>\n",
       " <li>라. 범죄행위에 관련된다고 판단되는 내용인 경우</li>\n",
       " <li>마. 공사의 지적재산권, 타인의 지적재산권 등 기타 권리를 침해하는 내용인 경우</li>\n",
       " <li>바. 특정제품의 선전 등 기타 상용목적으로 게시되는 내용인 경우</li>\n",
       " <li>사. 입력된 정보를 무단 개조하는 경우</li>\n",
       " <li>아. 타 회원의 회원 ID, 비밀번호를 도용하는 경우</li>\n",
       " <li>자. 게시판의 목적에 맞지 않는 사이버 시위 및 도배 목적의 내용인 경우</li>\n",
       " <li>차. 기타 관계법령에 위반된다고 판단되는 경우</li>\n",
       " </ul>,\n",
       " <ul>\n",
       " <li>① 공사는 천재지변 또는 이에 준하는 불가항력으로 인하여 서비스를 제공할 수 없는 경우에는 서비스 제공에 관한 책임을 지지 않습니다.</li>\n",
       " <li>② 공사는 회원의 귀책사유로 인한 서비스 이용의 장애에 대하여는 책임을 지지 않습니다.</li>\n",
       " <li>③ 공사는 회원이 서비스와 관련하여 게재한 정보, 자료, 사실의 신뢰도, 정확성 등의 내용에 관하여는 책임을 지지 않습니다.</li>\n",
       " <li>④ 공사는 회원 간 또는 회원과 제3자 상호간에 서비스를 매개로 하여 거래 등을 한 경우에는 책임을 지지 않습니다.</li>\n",
       " </ul>,\n",
       " <ul class=\"type1\">\n",
       " <li>\n",
       " \t\t\t\t\t\t\t가. 회원가입 및 관리<br/>\n",
       " \t\t\t\t\t\t\t회원 가입의사 확인, 회원제 서비스 제공에 따른 본인 식별 인증, 회원자격 유지 관리, 서비스 부정이용 방지, 각종 고지 통지 등을 목적으로 개인정보를 처리합니다.\n",
       " \t\t\t\t\t\t</li>\n",
       " <li>\n",
       " \t\t\t\t\t\t\t나. 민원사무 처리<br/>\n",
       " \t\t\t\t\t\t\t민원인의 신원 확인, 민원사항 확인, 사실조사를 위한 연락 통지, 처리결과 통보 등을 목적으로 개인정보를 처리합니다.\n",
       " \t\t\t\t\t\t</li>\n",
       " <li>\n",
       " \t\t\t\t\t\t\t다. 재화 또는 서비스 제공<br/>\n",
       " \t\t\t\t\t\t\t서비스 제공, 콘텐츠 제공, 맞춤 서비스 제공, 요금결제 정산 등을 목적으로 개인정보를 처리합니다.\n",
       " \t\t\t\t\t\t</li>\n",
       " <li>\n",
       " \t\t\t\t\t\t\t라. 마케팅 및 광고에의 활용<br/>\n",
       " \t\t\t\t\t\t\t신규 서비스 개발 및 맞춤 서비스 제공, 이벤트 및 광고성 정보 제공 및 참여기회 제공, 인구통계학적 특성에 따른 서비스 제공 및 광고 게재, 학술연구 또는 시장조사, 서비스의 유효성 확인, 접속빈도 파악 또는 회원의 서비스 이용에 대한 통계 등을 목적으로 개인정보를 처리합니다.\n",
       " \t\t\t\t\t\t</li>\n",
       " </ul>,\n",
       " <ul class=\"type1\">\n",
       " <li>가. 회원 서비스 이용을 위한 소설로그인 인증 절차가 있으며, 이에 따른 이용자의 아이디와 비밀번호 등 민감한 개인정보는 보유하지 않으며 한국관광공사에서 제공하는 통합 소셜 로그인 서비스 사이트(투어원패스)에서 제공하는 개인정보취급방침을 따르고 있습니다. </li>\n",
       " <li>나. 한국관광공사에서 제공하는 통합 소셜 로그인 서비스(투어원패스)를 이용하더라도 기존 대한민국구석구석의 활동정보는 변동사항 없이 유지 됩니다.<br/>\n",
       " \t\t\t\t\t\t\t(로그인 정보, 관광정보지킴이, 댓글, 공유하기, 코스 생성등)</li>\n",
       " <li>다. 서비스 개선목적을 위한 이용자의 \"브라우저 종류\", \"OS\", \"방문일시\", \"IP\"항목을 자동 수집합니다.</li>\n",
       " <li>라. 개인정보 자동수집 장치(cookie)의 설치, 운영 및 그 거부에 관한 사항</li>\n",
       " </ul>,\n",
       " <ul class=\"type1\">\n",
       " <li>1. 공사는 고객님의 정보를 저장하고 수시로 찾아내는 '쿠키(cookie)'를 운용합니다. 쿠키는 웹사이트가 고객님의 컴퓨터 브라우저 및 휴대폰(인터넷익스플로러 등)으로 전송하는 소량의 정보로서 고객님이 웹사이트에 본인 인증을 통해 접속하면 고객님의 브라우저에 있는 쿠키의 내용을 읽고,고객님의 추가정보를 고객님의 컴퓨터에서 찾아 서비스를 제공하게 됩니다.\n",
       " \t\t\t\t\t\t\t이러한 쿠키 정보는 고객님께 유용하고 보다 편리한 맞춤 서비스를 제공하는데 사용되게 됩니다.</li>\n",
       " <li>2. 그러나 쿠키 정보는 고객님의 컴퓨터를 식별할 수는 있지만 고객 개개인을 식별하지는 않습니다. 고객님은 쿠키에 대한 사용여부를 선택할 수 있습니다. 웹 브라우저의 옵션 설정을 통해 모든 쿠키를 허용할 수도 있고,  쿠키가 저장될 때마다 확인을 거치거나 모든 쿠키의 저장을 거부할 수도 있습니다.<br/>\n",
       " \t\t\t\t\t\t\t단, 쿠키의 저장을 거부할 경우에는 서비스 제공에 필요한 일부 서비스는 이용할 수 없습니다.</li>\n",
       " </ul>,\n",
       " <ul class=\"type1\">\n",
       " <li>\n",
       " \t\t\t\t\t\t\t가. 단말기에 대한 정의<br/>\n",
       " \t\t\t\t\t\t\t대한민국구석구석 어플리케이션 서비스를 설치 및 사용할 수 있는 스마트폰 및 태블릿PC 등을 말합니다.\n",
       " \t\t\t\t\t\t</li>\n",
       " <li>\n",
       " \t\t\t\t\t\t\t나. 단말기 접근 권한 안내를\n",
       " \t\t\t\t\t\t\t<p>단말기 접근 권한 안내에 대한 권한명, 사용이유로 구분되는 정보 테이블</p>\n",
       " <div class=\"board\">\n",
       " <table>\n",
       " <caption>단말기 접근 권한 안내에 대한 권한명, 사용이유로 구분되는 정보 테이블</caption>\n",
       " <colgroup>\n",
       " <col style=\"width:50%;\"/>\n",
       " <col/>\n",
       " </colgroup>\n",
       " <thead>\n",
       " <tr>\n",
       " <th scope=\"col\">권한명</th>\n",
       " <th scope=\"col\">사용이유</th>\n",
       " </tr>\n",
       " </thead>\n",
       " <tbody>\n",
       " <tr>\n",
       " <td>Internet</td>\n",
       " <td>인터넷 연결</td>\n",
       " </tr>\n",
       " <tr>\n",
       " <td>Access_Fine_Location</td>\n",
       " <td>사용자의 위치확인</td>\n",
       " </tr>\n",
       " <tr>\n",
       " <td>Access_Coarse_Location</td>\n",
       " <td>사용자의 위치확인</td>\n",
       " </tr>\n",
       " <tr>\n",
       " <td>WRITE_EXTERNAL_STORAGE</td>\n",
       " <td>사진업로드 및 임시파일 저장</td>\n",
       " </tr>\n",
       " <tr>\n",
       " <td>READ_EXTERNAL_STORAGE</td>\n",
       " <td>사진업로드 및 임시파일 저장</td>\n",
       " </tr>\n",
       " <tr>\n",
       " <td>ACCESS_NETWORK_STATE</td>\n",
       " <td>와이파이를 통한 네트워크 연결</td>\n",
       " </tr>\n",
       " <tr>\n",
       " <td>CD2_MESSAGE</td>\n",
       " <td>푸시메시지</td>\n",
       " </tr>\n",
       " <tr>\n",
       " <td>RECEIVE</td>\n",
       " <td>푸시메시지</td>\n",
       " </tr>\n",
       " <tr>\n",
       " <td>WAKE_LOCK</td>\n",
       " <td>푸시메시지</td>\n",
       " </tr>\n",
       " </tbody>\n",
       " </table>\n",
       " </div>\n",
       " </li>\n",
       " </ul>,\n",
       " <ul>\n",
       " <li>\n",
       " \t\t\t\t\t\t\t① 대한민국구석구석 서비스는 원활한 개인정보 업무처리를 위하여 다음과 같이 개인정보 처리업무를 위탁하고 있습니다.\n",
       " \t\t\t\t\t\t\t<p>개인정보 처리업무 위탁 정보 테이블</p>\n",
       " <div class=\"board type1\">\n",
       " <table>\n",
       " <caption>개인정보 처리업무 위탁 정보 테이블</caption>\n",
       " <colgroup>\n",
       " <col style=\"width:40%;\"/>\n",
       " <col/>\n",
       " </colgroup>\n",
       " <tbody>\n",
       " <tr>\n",
       " <th scope=\"row\">위탁받는 자(수탁자)</th>\n",
       " <td>(주)유니에스아이엔씨</td>\n",
       " </tr>\n",
       " <tr>\n",
       " <th scope=\"row\">위탁부서 / 담당자</th>\n",
       " <td>내디지털마케팅팀 / 정상현</td>\n",
       " </tr>\n",
       " <tr>\n",
       " <th scope=\"row\">위탁하는 업무의 내용</th>\n",
       " <td>\n",
       " <ul>\n",
       " <li>대한민국구석구석 서비스 운영관리 및 회원정보 관리 보호를 위한 기술적 처리</li>\n",
       " <li>온라인 민원사무 처리의 기술적 처리 지원</li>\n",
       " <li>디지털 재화 및 정보 서비스 제공에 따른 기술적 처리</li>\n",
       " <li>정보서비스 이용 촉진을 위한 온라인 이벤트 구현, 통계분석 등 기술적 처리 지원</li>\n",
       " <li>이벤트 진행 및 경품 배송을 위해 개인 정보 위탁 또는 이벤트 경품배송 등의 서비스 제공</li>\n",
       " <li>기타 개인정보 보호를 위한 기술적 조치 및 관리 지원</li>\n",
       " </ul>\n",
       " </td>\n",
       " </tr>\n",
       " <tr>\n",
       " <th scope=\"row\">위탁 기간</th>\n",
       " <td>2020.1.1~2020.12.31</td>\n",
       " </tr>\n",
       " </tbody>\n",
       " </table>\n",
       " </div>\n",
       " </li>\n",
       " <li>② 대한민국구석구석 서비스는 위탁계약 체결시 개인정보 보호법 제26조에 따라 위탁업무 수행목적 외 개인정보 처리금지, 기술적·관리적 보호조치, 재위탁 제한, 수탁자에 대한 관리·감독, 손해배상 등 책임에 관한 사항을 계약서 등 문서에 명시하고, 수탁자가 개인정보를 안전하게 처리하는지를 감독하고 있습니다.</li>\n",
       " <li>③ 위탁업무의 내용이나 수탁자가 변경될 경우에는 지체 없이 본 개인정보처리방침을 통하여 공개하고 필요한 경우 사전 동의를 구하도록 하겠습니다.</li>\n",
       " </ul>,\n",
       " <ul>\n",
       " <li>대한민국구석구석 서비스 운영관리 및 회원정보 관리 보호를 위한 기술적 처리</li>\n",
       " <li>온라인 민원사무 처리의 기술적 처리 지원</li>\n",
       " <li>디지털 재화 및 정보 서비스 제공에 따른 기술적 처리</li>\n",
       " <li>정보서비스 이용 촉진을 위한 온라인 이벤트 구현, 통계분석 등 기술적 처리 지원</li>\n",
       " <li>이벤트 진행 및 경품 배송을 위해 개인 정보 위탁 또는 이벤트 경품배송 등의 서비스 제공</li>\n",
       " <li>기타 개인정보 보호를 위한 기술적 조치 및 관리 지원</li>\n",
       " </ul>,\n",
       " <ul>\n",
       " <li>\n",
       " \t\t\t\t\t\t\t① 정보주체(만 14세 미만인 경우에는 법정대리인을 말함)는 언제든지 다음 각 호의 개인정보 보호 관련 권리를 행사할 수 있습니다.\n",
       " \t\t\t\t\t\t\t<ul>\n",
       " <li>1. 개인정보 열람요구</li>\n",
       " <li>2. 오류 등이 있을 경우 정정 요구</li>\n",
       " <li>3. 삭제요구</li>\n",
       " <li>4. 처리정지 요구</li>\n",
       " </ul>\n",
       " </li>\n",
       " <li>② 제1항에 따른 권리 행사는 개인정보보호법 시행규칙 별지 제8호 서식에 따라 작성 후 서면, 전자우편, 모사전송(FAX) 등을 통하여 하실 수 있으며, 이에 대해 지체 없이 조치하겠습니다.</li>\n",
       " <li>③ 정보주체가 개인정보의 오류 등에 대한 정정 또는 삭제를 요구한 경우에는 정정 또는 삭제를 완료할 때까지 당해 개인정보를 이용하거나 제공하지 않습니다.</li>\n",
       " <li>④ 제1항에 따른 권리 행사는 정보주체의 법정대리인이나 위임을 받은 자 등 대리인을 통하여 하실 수 있습니다. 이 경우 개인정보보호법 시행규칙 별지 제11호 서식에 따른 위임장을 제출하셔야 합니다.</li>\n",
       " <li>⑤ 개인정보 열람 및 처리정지 요구는 개인정보보호법 제35조 제4항, 제37조 제2항에 의하여 정보주체의 권리가 제한 될 수 있습니다.</li>\n",
       " <li>⑥ 개인정보의 정정 및 삭제 요구는 다른 법령에서 그 개인정보가 수집 대상으로 명시되어 있는 경우에는 그 삭제를 요구할 수 없습니다.</li>\n",
       " <li>⑦ 정보주체 권리에 따른 열람의 요구, 정정·삭제의 요구, 처리정지의 요구 시 열람 등 요구를 한 자가 본인이거나 정당한 대리인인지를 확인합니다.</li>\n",
       " </ul>,\n",
       " <ul>\n",
       " <li>1. 개인정보 열람요구</li>\n",
       " <li>2. 오류 등이 있을 경우 정정 요구</li>\n",
       " <li>3. 삭제요구</li>\n",
       " <li>4. 처리정지 요구</li>\n",
       " </ul>,\n",
       " <ul>\n",
       " <li>\n",
       " \t\t\t\t\t\t\t① 정보주체는 개인정보 보호법 제35조에 따른 개인정보의 열람 청구를 아래의 부서에 할 수 있습니다.<br/>\n",
       " \t\t\t\t\t\t\t국내디지털마케팅팀은 정보주체의 개인정보 열람청구가 신속하게 처리되도록 노력하겠습니다.<br/>\n",
       " \t\t\t\t\t\t\t개인정보 열람청구 접수∙처리 부서 부서명 : 국내디지털마케팅팀<br/>\n",
       " \t\t\t\t\t\t\t담당자 : 이국희<br/>\n",
       " \t\t\t\t\t\t\t연락처 : &lt;전화 : 033-738-3856&gt;, &lt;이메일: kenwoood@knto.or.kr&gt;\n",
       " \t\t\t\t\t\t</li>\n",
       " <li>② 정보주체께서는 제1항의 열람청구 접수․처리부서 이외에, 행정안전부의 ‘개인정보보호 종합지원 포털’ 웹사이트(www.privacy.go.kr)를 통하여서도 개인정보 열람청구를 하실 수 있습니다.<br/>\n",
       " \t\t\t\t\t\t\t행정안전부 개인정보보호 종합지원 포털 → 개인정보 민원 → 개인정보 열람등 요구 (본인확인을 위하여 아이핀(I-PIN)이 있어야 함)</li>\n",
       " </ul>,\n",
       " <ul>\n",
       " <li><input id=\"reportForm1\" name=\"reportForm\" type=\"radio\" value=\"욕설 또는 타인 비방\"/><label for=\"reportForm1\">욕설 또는 타인 비방</label></li>\n",
       " <li><input id=\"reportForm2\" name=\"reportForm\" type=\"radio\" value=\"도용 또는 저작권 위배\"/><label for=\"reportForm2\">스팸, 도용 또는 저작권 위배</label></li>\n",
       " <li><input id=\"reportForm3\" name=\"reportForm\" type=\"radio\" value=\"포르노 또는 음란물\"/><label for=\"reportForm3\">포르노 또는 음란물</label></li>\n",
       " <li><input id=\"reportForm4\" name=\"reportForm\" type=\"radio\" value=\"아동 학대\"/><label for=\"reportForm4\">아동 학대</label></li>\n",
       " <li><input id=\"reportForm5\" name=\"reportForm\" type=\"radio\" value=\"희롱, 괴롭힘 또는 노골적인 폭력\"/><label for=\"reportForm5\">희롱, 괴롭힘 또는 노골적인 폭력</label></li>\n",
       " <li>\n",
       " <input id=\"reportForm6\" name=\"reportForm\" type=\"radio\" value=\"기타\"/><label for=\"reportForm6\">기타</label>\n",
       " <span><input disabled=\"true\" id=\"commentreportetc\" name=\"\" title=\"기타 입력\" type=\"text\"/></span>\n",
       " </li>\n",
       " </ul>,\n",
       " <ul>\n",
       " <li>\n",
       " <input id=\"estimateForm1\" name=\"estimateForm\" type=\"radio\"/>\n",
       " <label class=\"icon1\" for=\"estimateForm1\">좋아요!</label>\n",
       " </li>\n",
       " <li>\n",
       " <input id=\"estimateForm2\" name=\"estimateForm\" type=\"radio\"/>\n",
       " <label class=\"icon2\" for=\"estimateForm2\">그저 그래요</label>\n",
       " </li>\n",
       " </ul>]"
      ]
     },
     "execution_count": 35,
     "metadata": {},
     "output_type": "execute_result"
    }
   ],
   "source": [
    "soup.select('ul', class_ = 'list_thumType type1')"
   ]
  },
  {
   "cell_type": "code",
   "execution_count": 40,
   "id": "f018d781",
   "metadata": {},
   "outputs": [
    {
     "name": "stdout",
     "output_type": "stream",
     "text": [
      "[충주 여행 코스] 봄에 꼭 충주를 가야 하는 이유, 충주 가볼 만한 곳   충청북도 충주시    #충주여행#충주가볼만한곳#봄여행#봄여행지#충주댐#활옥동굴#중앙탑사적공원#게으른악어 더보기  즐겨찾기 공유하기\n",
      "[충남 봄 여행] 낭만 찾아 떠나는 여행, 천안·아산 봄나들이   충청남도     #충남여행#충남가볼만한곳#천안여행#천안가볼만한곳#아산여행#아산가볼만한곳#봄나들이#봄나들이여행#봄여행#봄여행지#국내봄여행지추천#벚꽃명소#천호지#단대호수#각원사#현충사#아산현충사#당림미술관#세계꽃식물원 더보기  즐겨찾기 공유하기\n",
      "[구례 봄 여행] 달달하게 봄을 즐길 수 있는 구례 봄꽃 명소 4   전라남도 구례군    #구례여행#구례가볼만한곳#봄꽃명소#봄꽃#봄꽃여행#봄여행#산수유마을#구례산수유마을#화엄사#섬진강#섬진강벚꽃길#쌍산재 더보기  즐겨찾기 공유하기\n",
      "[거제] 봄을 따라 걷는 여행, 거제도   경상남도 거제시    #거제#경남거제#거제도관광지#거제도여행#거제섬여행#거제도#거제도전망좋은곳#거제도여행코스#소낭구펜션#봄여행#한국관광품질인증#봄여행지#남해여행#거제도펜션#거제도숙소#한옥#한옥펜션#바비큐#야외바비큐#해금강#외도보타니아#거제가볼만한곳#맹종죽순체험길#바람의언덕#산책로#바람의언덕길#오션뷰#취사#거제투어 더보기  즐겨찾기 공유하기\n",
      "\n",
      "국내 당일치기 여행, 진천 봄나들이 추천 명소   충청북도 진천군    #진천여행#진천가볼만한곳#한반도지형전망공원#한반도지형#농다리#진천농다리#미르숲#농암정#길상사#봄여행지#봄여행지추천 더보기  즐겨찾기 공유하기\n",
      "봄바람 따라 살랑살랑 통영 1박2일 여행코스   경상남도 통영시    #통영#통영1박2일코스#통영가볼만한곳#장사도해상공원#박경리기념관#미래사#서피랑#봄여행#봄여행지#봄여행지추천#취향따라_떠나는_특별한_보통날#봄여행주간#미리봄_여행지 더보기  즐겨찾기 공유하기\n",
      "우리 아이와 봄나들이 갈 시간⏰ 서울 근교 여행지 4   전국     #화성여행#화성가볼만한곳#트로피컬베이#파주여행#파주가볼만한곳#애플샤인농원#인천여행#인천가볼만한곳#송도해돋이공원#해돋이공원#서울여행#서울가볼만한곳#선유도공원#봄나들이#봄나들이여행#아이와함께#세시간전#봄여행#당일치기여행 더보기  즐겨찾기 공유하기\n",
      "아이와 봄 드라이브 떠나자! 안성 여행지 4   경기도 안성시    #안성여행#안성가볼만한곳#드라이브여행#봄여행#봄여행지#안성팜랜드#소나무카페#풍사니랑#아메리카나#아이와함께#세시간전 더보기  즐겨찾기 공유하기\n",
      "국내 봄 여행지, 군위 비대면 봄나들이 코스   경상북도 군위군    #군위여행#군위가볼만한곳#삼존석굴#군위삼존석굴#한밤마을#화본역#혜원의집#영화촬영지#화산산성#​화산산성전망대#리틀포레스트 더보기  즐겨찾기 공유하기\n",
      "아침부터 밤까지, 봄 냄새 가득한 '사천' 여행   경상남도 사천시    #사천여행#사천여행코스#사천가볼만한곳#봄여행#수양공원#사천읍성#포담#실안해안도로#삼천포대교 더보기  즐겨찾기 공유하기\n"
     ]
    }
   ],
   "source": [
    "contents = soup.find('ul', class_='list_thumType type1')\n",
    "for i in contents:\n",
    "    print(i.text.strip())"
   ]
  },
  {
   "cell_type": "code",
   "execution_count": 43,
   "id": "0d224f74",
   "metadata": {},
   "outputs": [
    {
     "name": "stdout",
     "output_type": "stream",
     "text": [
      "크롤링 할 키워드는?봄여행\n",
      "텍스트 파일 경로 및 이름(\"./sample.txt\")spring.txt\n"
     ]
    },
    {
     "name": "stderr",
     "output_type": "stream",
     "text": [
      "/var/folders/fl/lytw3yqx5913yh2tcxgw3d740000gn/T/ipykernel_2505/483864370.py:12: DeprecationWarning: find_element_by_xpath is deprecated. Please use find_element(by=By.XPATH, value=xpath) instead\n",
      "  ele = driver.find_element_by_xpath('//div/span/input[@id=\"inp_search\"]')\n"
     ]
    },
    {
     "name": "stdout",
     "output_type": "stream",
     "text": [
      "완료\n"
     ]
    }
   ],
   "source": [
    "\n",
    "from bs4 import BeautifulSoup\n",
    "from selenium import webdriver\n",
    "import time, sys\n",
    "query_txt1 = input('크롤링 할 키워드는?')\n",
    "f_name = input('텍스트 파일 경로 및 이름(\"./sample.txt\")')\n",
    "driver = webdriver.Safari()\n",
    "\n",
    "driver.get(\"https://korean.visitkorea.or.kr/main/main.do#home\")\n",
    "time.sleep(3)\n",
    "\n",
    "\n",
    "ele = driver.find_element_by_xpath('//div/span/input[@id=\"inp_search\"]')\n",
    "ele.send_keys(query_txt1)\n",
    "print('완료')\n",
    "time.sleep(2)\n",
    "enter = webdriver.Keys.ENTER\n",
    "ele.send_keys(enter)\n",
    "\n",
    "time.sleep(3)\n",
    "full_html = driver.page_source\n",
    "\n",
    "soup = BeautifulSoup(full_html, 'html.parser')\n",
    "contents = soup.find('ul', class_='list_thumType type1')\n",
    "\n",
    "with open(f_name, 'a') as f:\n",
    "    for i in contents:\n",
    "        print(i.text.strip(), file=f)"
   ]
  },
  {
   "cell_type": "code",
   "execution_count": null,
   "id": "adb1c714",
   "metadata": {},
   "outputs": [],
   "source": [
    "from bs4 import BeautifulSoup\n",
    "from selenium import webdriver\n",
    "import time, sys\n",
    "query_txt1 = input('크롤링 할 키워드는?')\n",
    "f_name = input('텍스트 파일 경로 및 이름(\"./sample.txt\")')\n",
    "driver = webdriver.Safari()\n",
    "\n",
    "driver.get(\"https://www.naver.com\")\n",
    "time.sleep(3)\n",
    "\n",
    "\n",
    "ele = driver.find_element_by_xpath('//fieldset/div/input[@id=\"query\"]')\n",
    "ele.send_keys(query_txt1)\n",
    "\n",
    "time.sleep(2)\n",
    "enter = webdriver.Keys.ENTER\n",
    "ele.send_keys(enter)\n",
    "\n",
    "time.sleep(2)\n",
    "\n",
    "full_html = driver.page_source\n",
    "soup = BeautifulSoup(full_html, 'html.parser')\n",
    "contents = soup.find('div', class_='l_svp_list')\n",
    "\n",
    "time.sleep(2)\n",
    "with open(f_name, 'a') as f:\n",
    "    for i in contents:\n",
    "        print(i.text.strip(), file=f)"
   ]
  },
  {
   "cell_type": "code",
   "execution_count": null,
   "id": "136262d5",
   "metadata": {},
   "outputs": [],
   "source": [
    "type(contents)"
   ]
  },
  {
   "cell_type": "code",
   "execution_count": 11,
   "id": "8120b0e2",
   "metadata": {},
   "outputs": [
    {
     "name": "stdout",
     "output_type": "stream",
     "text": [
      "크롤링 할 키워드는?가을여행\n",
      "텍스트 파일 경로 및 이름(\"./sample.txt\")naverfall\n"
     ]
    },
    {
     "name": "stderr",
     "output_type": "stream",
     "text": [
      "/var/folders/fl/lytw3yqx5913yh2tcxgw3d740000gn/T/ipykernel_2997/1315154024.py:12: DeprecationWarning: find_element_by_xpath is deprecated. Please use find_element(by=By.XPATH, value=xpath) instead\n",
      "  ele = driver.find_element_by_xpath('//fieldset/div/input[@id=\"query\"]')\n",
      "/var/folders/fl/lytw3yqx5913yh2tcxgw3d740000gn/T/ipykernel_2997/1315154024.py:20: DeprecationWarning: find_element_by_xpath is deprecated. Please use find_element(by=By.XPATH, value=xpath) instead\n",
      "  driver.find_element_by_xpath('//div/a[@class=\"api_sub_option\"]').click()\n"
     ]
    }
   ],
   "source": [
    "from bs4 import BeautifulSoup\n",
    "from selenium import webdriver\n",
    "import time, sys\n",
    "query_txt1 = input('크롤링 할 키워드는?')\n",
    "f_name = input('텍스트 파일 경로 및 이름(\"./sample.txt\")')\n",
    "driver = webdriver.Safari()\n",
    "\n",
    "driver.get(\"https://www.naver.com\")\n",
    "time.sleep(3)\n",
    "\n",
    "\n",
    "ele = driver.find_element_by_xpath('//fieldset/div/input[@id=\"query\"]')\n",
    "ele.send_keys(query_txt1)\n",
    "\n",
    "time.sleep(2)\n",
    "enter = webdriver.Keys.ENTER\n",
    "ele.send_keys(enter)\n",
    "\n",
    "time.sleep(2)\n",
    "driver.find_element_by_xpath('//div/a[@class=\"api_sub_option\"]').click()\n",
    "\n",
    "time.sleep(2)\n",
    "full_html = driver.page_source\n",
    "soup = BeautifulSoup(full_html, 'html.parser')\n",
    "contents = soup.find('ul', class_='lst_total')\n",
    "\n",
    "time.sleep(2)\n",
    "with open(f_name, 'a') as f:\n",
    "    for i in contents:\n",
    "        print(i.text.strip(), file=f)"
   ]
  },
  {
   "cell_type": "code",
   "execution_count": 8,
   "id": "56ba674f",
   "metadata": {},
   "outputs": [
    {
     "name": "stdout",
     "output_type": "stream",
     "text": [
      "크롤링 할 키워드는?가을여행\n",
      "텍스트 파일 경로 및 이름(\"./sample.txt\")daumfall\n"
     ]
    },
    {
     "name": "stderr",
     "output_type": "stream",
     "text": [
      "/var/folders/fl/lytw3yqx5913yh2tcxgw3d740000gn/T/ipykernel_2997/3209446338.py:12: DeprecationWarning: find_element_by_xpath is deprecated. Please use find_element(by=By.XPATH, value=xpath) instead\n",
      "  ele = driver.find_element_by_xpath('//div/input[@id=\"q\"]')\n",
      "/var/folders/fl/lytw3yqx5913yh2tcxgw3d740000gn/T/ipykernel_2997/3209446338.py:20: DeprecationWarning: find_element_by_xpath is deprecated. Please use find_element(by=By.XPATH, value=xpath) instead\n",
      "  driver.find_element_by_xpath('//div/ul/li/a[@class=\"tab_tit\"]').click()\n"
     ]
    }
   ],
   "source": [
    "from bs4 import BeautifulSoup\n",
    "from selenium import webdriver\n",
    "import time, sys\n",
    "query_txt1 = input('크롤링 할 키워드는?')\n",
    "f_name = input('텍스트 파일 경로 및 이름(\"./sample.txt\")')\n",
    "driver = webdriver.Safari()\n",
    "\n",
    "driver.get(\"https://www.daum.net/?nil_profile=daum&nil_src=search\")\n",
    "time.sleep(3)\n",
    "\n",
    "\n",
    "ele = driver.find_element_by_xpath('//div/input[@id=\"q\"]')\n",
    "ele.send_keys(query_txt1)\n",
    "\n",
    "time.sleep(2)\n",
    "enter = webdriver.Keys.ENTER\n",
    "ele.send_keys(enter)\n",
    "\n",
    "time.sleep(2)\n",
    "driver.find_element_by_xpath('//div/ul/li/a[@class=\"tab_tit\"]').click()\n",
    "\n",
    "time.sleep(2)\n",
    "full_html = driver.page_source\n",
    "soup = BeautifulSoup(full_html, 'html.parser')\n",
    "contents = soup.find('div', class_='inner_article')\n",
    "\n",
    "time.sleep(2)\n",
    "with open(f_name, 'a') as f:\n",
    "    for i in contents:\n",
    "        print(i.text.strip(), file=f)"
   ]
  },
  {
   "cell_type": "code",
   "execution_count": 14,
   "id": "167ed001",
   "metadata": {},
   "outputs": [
    {
     "name": "stdout",
     "output_type": "stream",
     "text": [
      "크롤링 할 키워드는?봄 여행\n",
      "텍스트 파일 경로 및 이름(\"./sample.txt\")SpringTitleSubtitleP1\n"
     ]
    },
    {
     "name": "stderr",
     "output_type": "stream",
     "text": [
      "/var/folders/fl/lytw3yqx5913yh2tcxgw3d740000gn/T/ipykernel_2997/3537870233.py:12: DeprecationWarning: find_element_by_xpath is deprecated. Please use find_element(by=By.XPATH, value=xpath) instead\n",
      "  ele = driver.find_element_by_xpath('//div/span/input[@id=\"inp_search\"]')\n"
     ]
    },
    {
     "name": "stdout",
     "output_type": "stream",
     "text": [
      "완료\n"
     ]
    }
   ],
   "source": [
    "from bs4 import BeautifulSoup\n",
    "from selenium import webdriver\n",
    "import time, sys\n",
    "query_txt1 = input('크롤링 할 키워드는?')\n",
    "f_name = input('텍스트 파일 경로 및 이름(\"./sample.txt\")')\n",
    "driver = webdriver.Safari()\n",
    "\n",
    "driver.get(\"https://korean.visitkorea.or.kr/main/main.do#home\")\n",
    "time.sleep(3)\n",
    "\n",
    "\n",
    "ele = driver.find_element_by_xpath('//div/span/input[@id=\"inp_search\"]')\n",
    "ele.send_keys(query_txt1)\n",
    "\n",
    "time.sleep(2)\n",
    "enter = webdriver.Keys.ENTER\n",
    "ele.send_keys(enter)\n",
    "\n",
    "time.sleep(3)\n",
    "full_html = driver.page_source\n",
    "\n",
    "soup = BeautifulSoup(full_html, 'html.parser')\n",
    "contents = soup.find_all('div', class_='tit')\n",
    "contents1 = soup.find_all('div', class_='service')\n",
    "contents2 = soup.find_all('p', class_='tag_type')\n",
    "\n",
    "with open(f_name, 'a') as f:\n",
    "    for i in contents:\n",
    "        print(i.text.strip(), file=f)\n",
    "    for j in contents1:\n",
    "        print(j.text.strip(), file=f)\n",
    "    for k in contents2:\n",
    "        print(k.text.strip(), file=f)\n",
    "\n",
    "print('완료')"
   ]
  },
  {
   "cell_type": "code",
   "execution_count": 16,
   "id": "81c75c75",
   "metadata": {},
   "outputs": [
    {
     "name": "stdout",
     "output_type": "stream",
     "text": [
      "크롤링 할 키워드는?봄 여행\n",
      "텍스트 파일 경로 및 이름(\"./sample.txt\")봄묶어서\n"
     ]
    },
    {
     "name": "stderr",
     "output_type": "stream",
     "text": [
      "/var/folders/fl/lytw3yqx5913yh2tcxgw3d740000gn/T/ipykernel_2997/665315070.py:12: DeprecationWarning: find_element_by_xpath is deprecated. Please use find_element(by=By.XPATH, value=xpath) instead\n",
      "  ele = driver.find_element_by_xpath('//div/span/input[@id=\"inp_search\"]')\n"
     ]
    },
    {
     "name": "stdout",
     "output_type": "stream",
     "text": [
      "완료\n"
     ]
    }
   ],
   "source": [
    "from bs4 import BeautifulSoup\n",
    "from selenium import webdriver\n",
    "import time, sys\n",
    "query_txt1 = input('크롤링 할 키워드는?')\n",
    "f_name = input('텍스트 파일 경로 및 이름(\"./sample.txt\")')\n",
    "driver = webdriver.Safari()\n",
    "\n",
    "driver.get(\"https://korean.visitkorea.or.kr/main/main.do#home\")\n",
    "time.sleep(3)\n",
    "\n",
    "\n",
    "ele = driver.find_element_by_xpath('//div/span/input[@id=\"inp_search\"]')\n",
    "ele.send_keys(query_txt1)\n",
    "\n",
    "time.sleep(2)\n",
    "enter = webdriver.Keys.ENTER\n",
    "ele.send_keys(enter)\n",
    "\n",
    "time.sleep(3)\n",
    "full_html = driver.page_source\n",
    "\n",
    "soup = BeautifulSoup(full_html, 'html.parser')\n",
    "contents = soup.find_all('li')\n",
    "\n",
    "\n",
    "with open(f_name, 'a') as f:\n",
    "    for i in contents:\n",
    "        print(i.text.strip(), file=f)\n",
    "\n",
    "\n",
    "print('완료')"
   ]
  },
  {
   "cell_type": "code",
   "execution_count": 20,
   "id": "460f1e0a",
   "metadata": {},
   "outputs": [
    {
     "name": "stdout",
     "output_type": "stream",
     "text": [
      "크롤링 할 키워드는?봄 여행\n",
      "텍스트 파일 경로 및 이름(\"./sample.txt\")봄여행묶어서1\n"
     ]
    },
    {
     "name": "stderr",
     "output_type": "stream",
     "text": [
      "/var/folders/fl/lytw3yqx5913yh2tcxgw3d740000gn/T/ipykernel_2997/4099900523.py:12: DeprecationWarning: find_element_by_xpath is deprecated. Please use find_element(by=By.XPATH, value=xpath) instead\n",
      "  ele = driver.find_element_by_xpath('//div/span/input[@id=\"inp_search\"]')\n"
     ]
    },
    {
     "ename": "TypeError",
     "evalue": "'NoneType' object is not iterable",
     "output_type": "error",
     "traceback": [
      "\u001b[0;31m---------------------------------------------------------------------------\u001b[0m",
      "\u001b[0;31mTypeError\u001b[0m                                 Traceback (most recent call last)",
      "Input \u001b[0;32mIn [20]\u001b[0m, in \u001b[0;36m<cell line: 27>\u001b[0;34m()\u001b[0m\n\u001b[1;32m     27\u001b[0m \u001b[38;5;28;01mwith\u001b[39;00m \u001b[38;5;28mopen\u001b[39m(f_name, \u001b[38;5;124m'\u001b[39m\u001b[38;5;124ma\u001b[39m\u001b[38;5;124m'\u001b[39m) \u001b[38;5;28;01mas\u001b[39;00m f:\n\u001b[1;32m     28\u001b[0m     count \u001b[38;5;241m=\u001b[39m \u001b[38;5;241m0\u001b[39m\n\u001b[0;32m---> 29\u001b[0m     \u001b[38;5;28;01mfor\u001b[39;00m t,l, h \u001b[38;5;129;01min\u001b[39;00m \u001b[38;5;28;43mzip\u001b[39;49m\u001b[43m(\u001b[49m\u001b[43mtitles\u001b[49m\u001b[43m,\u001b[49m\u001b[43m \u001b[49m\u001b[43mlocations\u001b[49m\u001b[43m,\u001b[49m\u001b[43m \u001b[49m\u001b[43mhashtags\u001b[49m\u001b[43m)\u001b[49m:\n\u001b[1;32m     30\u001b[0m         count \u001b[38;5;241m+\u001b[39m\u001b[38;5;241m=\u001b[39m\u001b[38;5;241m1\u001b[39m\n\u001b[1;32m     31\u001b[0m         \u001b[38;5;28mprint\u001b[39m(\u001b[38;5;124m'\u001b[39m\u001b[38;5;124m번호\u001b[39m\u001b[38;5;124m'\u001b[39m, count)\n",
      "\u001b[0;31mTypeError\u001b[0m: 'NoneType' object is not iterable"
     ]
    }
   ],
   "source": [
    "from bs4 import BeautifulSoup\n",
    "from selenium import webdriver\n",
    "import time, sys\n",
    "query_txt1 = input('크롤링 할 키워드는?')\n",
    "f_name = input('텍스트 파일 경로 및 이름(\"./sample.txt\")')\n",
    "driver = webdriver.Safari()\n",
    "\n",
    "driver.get(\"https://korean.visitkorea.or.kr/main/main.do#home\")\n",
    "time.sleep(3)\n",
    "\n",
    "\n",
    "ele = driver.find_element_by_xpath('//div/span/input[@id=\"inp_search\"]')\n",
    "ele.send_keys(query_txt1)\n",
    "\n",
    "time.sleep(2)\n",
    "enter = webdriver.Keys.ENTER\n",
    "ele.send_keys(enter)\n",
    "\n",
    "time.sleep(3)\n",
    "full_html = driver.page_source\n",
    "\n",
    "soup = BeautifulSoup(full_html, 'html.parser')\n",
    "titles = soup.find('div[class=\"tit\"]>a')\n",
    "locations = soup.select('div[class=\"service\"]>p')\n",
    "hashtags = soup.select('p[class=\"tag_type\"]')\n",
    "\n",
    "with open(f_name, 'a') as f:\n",
    "    count = 0\n",
    "    for t,l, h in zip(titles, locations, hashtags):\n",
    "        count +=1\n",
    "        print('번호', count)\n",
    "        print('제목', t.get_txt)\n",
    "        print('지역', l.get_txt)\n",
    "        print('헤쉬테그',h.get_txt())\n",
    "    \n",
    "print('완료')"
   ]
  },
  {
   "cell_type": "code",
   "execution_count": 33,
   "id": "85961344",
   "metadata": {},
   "outputs": [
    {
     "name": "stdout",
     "output_type": "stream",
     "text": [
      "크롤링 할 키워드는?봄 여행\n",
      "텍스트 파일 경로 및 이름(\"./sample.txt\")바ㅓ오랴ㅕ봉랴ㅐㅂ\n"
     ]
    },
    {
     "name": "stderr",
     "output_type": "stream",
     "text": [
      "/var/folders/fl/lytw3yqx5913yh2tcxgw3d740000gn/T/ipykernel_2997/1599437521.py:11: DeprecationWarning: find_element_by_xpath is deprecated. Please use find_element(by=By.XPATH, value=xpath) instead\n",
      "  ele = driver.find_element_by_xpath('//div/span/input[@id=\"inp_search\"]')\n"
     ]
    }
   ],
   "source": [
    "from bs4 import BeautifulSoup\n",
    "from selenium import webdriver\n",
    "import time, sys\n",
    "query_txt1 = input('크롤링 할 키워드는?')\n",
    "f_name = input('텍스트 파일 경로 및 이름(\"./sample.txt\")')\n",
    "driver = webdriver.Safari()\n",
    "\n",
    "driver.get(\"https://korean.visitkorea.or.kr/main/main.do#home\")\n",
    "time.sleep(2)\n",
    "\n",
    "ele = driver.find_element_by_xpath('//div/span/input[@id=\"inp_search\"]')\n",
    "ele.send_keys(query_txt1)\n",
    "\n",
    "time.sleep(2)\n",
    "enter = webdriver.Keys.ENTER\n",
    "ele.send_keys(enter)\n",
    "\n",
    "time.sleep(2)\n",
    "\n",
    "full_html = driver.page_source\n",
    "time.sleep(3)\n",
    "soup=BeautifulSoup(full_html,'html.parser')\n",
    "\n",
    "\n",
    "titles = soup.select('div[class=\"tit\"]>a')\n",
    "locations = soup.select('div[class=\"service\"]>p')\n",
    "tag = soup.select('p[class=\"tag_type\"]>span') \n",
    "\n",
    "time.sleep(3)\n",
    "with open(f_name,'a',encoding='utf8') as f:\n",
    "    for i in titles:\n",
    "        print(i.text.strip(),file=f)\n",
    "        print(file=f)"
   ]
  },
  {
   "cell_type": "code",
   "execution_count": 34,
   "id": "e5b1e7d3",
   "metadata": {},
   "outputs": [
    {
     "name": "stdout",
     "output_type": "stream",
     "text": [
      "번호:  0\n",
      "제목 :  [충주 여행 코스] 봄에 꼭 충주를 가야 하는 이유, 충주 가볼 만한 곳\n",
      "지역 :  충청북도 충주시\n",
      "해쉬태그 : [충주 여행 코스] 봄에 꼭 충주를 가야 하는 이유, 충주 가볼 만한 곳\n",
      "\n",
      "번호:  1\n",
      "제목 :  [충남 봄 여행] 낭만 찾아 떠나는 여행, 천안·아산 봄나들이\n",
      "지역 :  충청남도 \n",
      "해쉬태그 : [충남 봄 여행] 낭만 찾아 떠나는 여행, 천안·아산 봄나들이\n",
      "\n",
      "번호:  2\n",
      "제목 :  [구례 봄 여행] 달달하게 봄을 즐길 수 있는 구례 봄꽃 명소 4\n",
      "지역 :  전라남도 구례군\n",
      "해쉬태그 : [구례 봄 여행] 달달하게 봄을 즐길 수 있는 구례 봄꽃 명소 4\n",
      "\n",
      "번호:  3\n",
      "제목 :  [거제] 봄을 따라 걷는 여행, 거제도\n",
      "지역 :  경상남도 거제시\n",
      "해쉬태그 : [거제] 봄을 따라 걷는 여행, 거제도\n",
      "\n",
      "번호:  4\n",
      "제목 :  국내 당일치기 여행, 진천 봄나들이 추천 명소\n",
      "지역 :  충청북도 진천군\n",
      "해쉬태그 : 국내 당일치기 여행, 진천 봄나들이 추천 명소\n",
      "\n",
      "번호:  5\n",
      "제목 :  봄바람 따라 살랑살랑 통영 1박2일 여행코스\n",
      "지역 :  경상남도 통영시\n",
      "해쉬태그 : 봄바람 따라 살랑살랑 통영 1박2일 여행코스\n",
      "\n",
      "번호:  6\n",
      "제목 :  우리 아이와 봄나들이 갈 시간⏰ 서울 근교 여행지 4\n",
      "지역 :  전국 \n",
      "해쉬태그 : 우리 아이와 봄나들이 갈 시간⏰ 서울 근교 여행지 4\n",
      "\n",
      "번호:  7\n",
      "제목 :  아이와 봄 드라이브 떠나자! 안성 여행지 4\n",
      "지역 :  경기도 안성시\n",
      "해쉬태그 : 아이와 봄 드라이브 떠나자! 안성 여행지 4\n",
      "\n",
      "번호:  8\n",
      "제목 :  국내 봄 여행지, 군위 비대면 봄나들이 코스\n",
      "지역 :  경상북도 군위군\n",
      "해쉬태그 : 국내 봄 여행지, 군위 비대면 봄나들이 코스\n",
      "\n",
      "번호:  9\n",
      "제목 :  아침부터 밤까지, 봄 냄새 가득한 '사천' 여행\n",
      "지역 :  경상남도 사천시\n",
      "해쉬태그 : 아침부터 밤까지, 봄 냄새 가득한 '사천' 여행\n",
      "\n"
     ]
    }
   ],
   "source": [
    "cnt=0\n",
    "for t, l , h in zip(titles,locations,tag):\n",
    "    cnt+=1\n",
    "    print('번호: ',cnt-1)\n",
    "    print('제목 : ', t.get_text())\n",
    "    print('지역 : ', l.get_text())\n",
    "    print('해쉬태그 :', t.get_text())\n",
    "    print()"
   ]
  },
  {
   "cell_type": "code",
   "execution_count": 43,
   "id": "44c70129",
   "metadata": {},
   "outputs": [
    {
     "name": "stdout",
     "output_type": "stream",
     "text": [
      "크롤링 할 키워드는?봄 여행\n",
      "텍스트 파일 경로 및 이름(\"./sample.txt\")봄여행101\n"
     ]
    },
    {
     "name": "stderr",
     "output_type": "stream",
     "text": [
      "/var/folders/fl/lytw3yqx5913yh2tcxgw3d740000gn/T/ipykernel_2997/359425680.py:11: DeprecationWarning: find_element_by_xpath is deprecated. Please use find_element(by=By.XPATH, value=xpath) instead\n",
      "  ele = driver.find_element_by_xpath('//div/span/input[@id=\"inp_search\"]')\n",
      "/var/folders/fl/lytw3yqx5913yh2tcxgw3d740000gn/T/ipykernel_2997/359425680.py:31: DeprecationWarning: find_element_by_xpath is deprecated. Please use find_element(by=By.XPATH, value=xpath) instead\n",
      "  driver.find_element_by_xpath('//div/a[@id=\"%d\"]'%i).click()\n"
     ]
    },
    {
     "ename": "NoSuchElementException",
     "evalue": "Message: \n",
     "output_type": "error",
     "traceback": [
      "\u001b[0;31m---------------------------------------------------------------------------\u001b[0m",
      "\u001b[0;31mNoSuchElementException\u001b[0m                    Traceback (most recent call last)",
      "Input \u001b[0;32mIn [43]\u001b[0m, in \u001b[0;36m<cell line: 30>\u001b[0;34m()\u001b[0m\n\u001b[1;32m     29\u001b[0m time\u001b[38;5;241m.\u001b[39msleep(\u001b[38;5;241m2\u001b[39m)\n\u001b[1;32m     30\u001b[0m \u001b[38;5;28;01mfor\u001b[39;00m i \u001b[38;5;129;01min\u001b[39;00m \u001b[38;5;28mrange\u001b[39m(\u001b[38;5;241m2\u001b[39m,\u001b[38;5;241m100\u001b[39m):\n\u001b[0;32m---> 31\u001b[0m     \u001b[43mdriver\u001b[49m\u001b[38;5;241;43m.\u001b[39;49m\u001b[43mfind_element_by_xpath\u001b[49m\u001b[43m(\u001b[49m\u001b[38;5;124;43m'\u001b[39;49m\u001b[38;5;124;43m//div/a[@id=\u001b[39;49m\u001b[38;5;124;43m\"\u001b[39;49m\u001b[38;5;132;43;01m%d\u001b[39;49;00m\u001b[38;5;124;43m\"\u001b[39;49m\u001b[38;5;124;43m]\u001b[39;49m\u001b[38;5;124;43m'\u001b[39;49m\u001b[38;5;241;43m%\u001b[39;49m\u001b[43mi\u001b[49m\u001b[43m)\u001b[49m\u001b[38;5;241m.\u001b[39mclick()\n\u001b[1;32m     32\u001b[0m     time\u001b[38;5;241m.\u001b[39msleep(\u001b[38;5;241m2\u001b[39m)\n\u001b[1;32m     33\u001b[0m     full_html \u001b[38;5;241m=\u001b[39m driver\u001b[38;5;241m.\u001b[39mpage_source\n",
      "File \u001b[0;32m/opt/anaconda3/lib/python3.9/site-packages/selenium/webdriver/remote/webdriver.py:526\u001b[0m, in \u001b[0;36mWebDriver.find_element_by_xpath\u001b[0;34m(self, xpath)\u001b[0m\n\u001b[1;32m    504\u001b[0m \u001b[38;5;124;03m\"\"\"\u001b[39;00m\n\u001b[1;32m    505\u001b[0m \u001b[38;5;124;03mFinds an element by xpath.\u001b[39;00m\n\u001b[1;32m    506\u001b[0m \n\u001b[0;32m   (...)\u001b[0m\n\u001b[1;32m    519\u001b[0m \u001b[38;5;124;03m        element = driver.find_element_by_xpath('//div/td[1]')\u001b[39;00m\n\u001b[1;32m    520\u001b[0m \u001b[38;5;124;03m\"\"\"\u001b[39;00m\n\u001b[1;32m    521\u001b[0m warnings\u001b[38;5;241m.\u001b[39mwarn(\n\u001b[1;32m    522\u001b[0m     \u001b[38;5;124m\"\u001b[39m\u001b[38;5;124mfind_element_by_xpath is deprecated. Please use find_element(by=By.XPATH, value=xpath) instead\u001b[39m\u001b[38;5;124m\"\u001b[39m,\n\u001b[1;32m    523\u001b[0m     \u001b[38;5;167;01mDeprecationWarning\u001b[39;00m,\n\u001b[1;32m    524\u001b[0m     stacklevel\u001b[38;5;241m=\u001b[39m\u001b[38;5;241m2\u001b[39m,\n\u001b[1;32m    525\u001b[0m )\n\u001b[0;32m--> 526\u001b[0m \u001b[38;5;28;01mreturn\u001b[39;00m \u001b[38;5;28;43mself\u001b[39;49m\u001b[38;5;241;43m.\u001b[39;49m\u001b[43mfind_element\u001b[49m\u001b[43m(\u001b[49m\u001b[43mby\u001b[49m\u001b[38;5;241;43m=\u001b[39;49m\u001b[43mBy\u001b[49m\u001b[38;5;241;43m.\u001b[39;49m\u001b[43mXPATH\u001b[49m\u001b[43m,\u001b[49m\u001b[43m \u001b[49m\u001b[43mvalue\u001b[49m\u001b[38;5;241;43m=\u001b[39;49m\u001b[43mxpath\u001b[49m\u001b[43m)\u001b[49m\n",
      "File \u001b[0;32m/opt/anaconda3/lib/python3.9/site-packages/selenium/webdriver/remote/webdriver.py:1251\u001b[0m, in \u001b[0;36mWebDriver.find_element\u001b[0;34m(self, by, value)\u001b[0m\n\u001b[1;32m   1248\u001b[0m     by \u001b[38;5;241m=\u001b[39m By\u001b[38;5;241m.\u001b[39mCSS_SELECTOR\n\u001b[1;32m   1249\u001b[0m     value \u001b[38;5;241m=\u001b[39m \u001b[38;5;124m'\u001b[39m\u001b[38;5;124m[name=\u001b[39m\u001b[38;5;124m\"\u001b[39m\u001b[38;5;132;01m%s\u001b[39;00m\u001b[38;5;124m\"\u001b[39m\u001b[38;5;124m]\u001b[39m\u001b[38;5;124m'\u001b[39m \u001b[38;5;241m%\u001b[39m value\n\u001b[0;32m-> 1251\u001b[0m \u001b[38;5;28;01mreturn\u001b[39;00m \u001b[38;5;28;43mself\u001b[39;49m\u001b[38;5;241;43m.\u001b[39;49m\u001b[43mexecute\u001b[49m\u001b[43m(\u001b[49m\u001b[43mCommand\u001b[49m\u001b[38;5;241;43m.\u001b[39;49m\u001b[43mFIND_ELEMENT\u001b[49m\u001b[43m,\u001b[49m\u001b[43m \u001b[49m\u001b[43m{\u001b[49m\n\u001b[1;32m   1252\u001b[0m \u001b[43m    \u001b[49m\u001b[38;5;124;43m'\u001b[39;49m\u001b[38;5;124;43musing\u001b[39;49m\u001b[38;5;124;43m'\u001b[39;49m\u001b[43m:\u001b[49m\u001b[43m \u001b[49m\u001b[43mby\u001b[49m\u001b[43m,\u001b[49m\n\u001b[1;32m   1253\u001b[0m \u001b[43m    \u001b[49m\u001b[38;5;124;43m'\u001b[39;49m\u001b[38;5;124;43mvalue\u001b[39;49m\u001b[38;5;124;43m'\u001b[39;49m\u001b[43m:\u001b[49m\u001b[43m \u001b[49m\u001b[43mvalue\u001b[49m\u001b[43m}\u001b[49m\u001b[43m)\u001b[49m[\u001b[38;5;124m'\u001b[39m\u001b[38;5;124mvalue\u001b[39m\u001b[38;5;124m'\u001b[39m]\n",
      "File \u001b[0;32m/opt/anaconda3/lib/python3.9/site-packages/selenium/webdriver/remote/webdriver.py:430\u001b[0m, in \u001b[0;36mWebDriver.execute\u001b[0;34m(self, driver_command, params)\u001b[0m\n\u001b[1;32m    428\u001b[0m response \u001b[38;5;241m=\u001b[39m \u001b[38;5;28mself\u001b[39m\u001b[38;5;241m.\u001b[39mcommand_executor\u001b[38;5;241m.\u001b[39mexecute(driver_command, params)\n\u001b[1;32m    429\u001b[0m \u001b[38;5;28;01mif\u001b[39;00m response:\n\u001b[0;32m--> 430\u001b[0m     \u001b[38;5;28;43mself\u001b[39;49m\u001b[38;5;241;43m.\u001b[39;49m\u001b[43merror_handler\u001b[49m\u001b[38;5;241;43m.\u001b[39;49m\u001b[43mcheck_response\u001b[49m\u001b[43m(\u001b[49m\u001b[43mresponse\u001b[49m\u001b[43m)\u001b[49m\n\u001b[1;32m    431\u001b[0m     response[\u001b[38;5;124m'\u001b[39m\u001b[38;5;124mvalue\u001b[39m\u001b[38;5;124m'\u001b[39m] \u001b[38;5;241m=\u001b[39m \u001b[38;5;28mself\u001b[39m\u001b[38;5;241m.\u001b[39m_unwrap_value(\n\u001b[1;32m    432\u001b[0m         response\u001b[38;5;241m.\u001b[39mget(\u001b[38;5;124m'\u001b[39m\u001b[38;5;124mvalue\u001b[39m\u001b[38;5;124m'\u001b[39m, \u001b[38;5;28;01mNone\u001b[39;00m))\n\u001b[1;32m    433\u001b[0m     \u001b[38;5;28;01mreturn\u001b[39;00m response\n",
      "File \u001b[0;32m/opt/anaconda3/lib/python3.9/site-packages/selenium/webdriver/remote/errorhandler.py:247\u001b[0m, in \u001b[0;36mErrorHandler.check_response\u001b[0;34m(self, response)\u001b[0m\n\u001b[1;32m    245\u001b[0m         alert_text \u001b[38;5;241m=\u001b[39m value[\u001b[38;5;124m'\u001b[39m\u001b[38;5;124malert\u001b[39m\u001b[38;5;124m'\u001b[39m]\u001b[38;5;241m.\u001b[39mget(\u001b[38;5;124m'\u001b[39m\u001b[38;5;124mtext\u001b[39m\u001b[38;5;124m'\u001b[39m)\n\u001b[1;32m    246\u001b[0m     \u001b[38;5;28;01mraise\u001b[39;00m exception_class(message, screen, stacktrace, alert_text)  \u001b[38;5;66;03m# type: ignore[call-arg]  # mypy is not smart enough here\u001b[39;00m\n\u001b[0;32m--> 247\u001b[0m \u001b[38;5;28;01mraise\u001b[39;00m exception_class(message, screen, stacktrace)\n",
      "\u001b[0;31mNoSuchElementException\u001b[0m: Message: \n"
     ]
    }
   ],
   "source": [
    "from bs4 import BeautifulSoup\n",
    "from selenium import webdriver\n",
    "import time, sys\n",
    "query_txt1 = input('크롤링 할 키워드는?')\n",
    "f_name = input('텍스트 파일 경로 및 이름(\"./sample.txt\")')\n",
    "driver = webdriver.Safari()\n",
    "\n",
    "driver.get(\"https://korean.visitkorea.or.kr/main/main.do#home\")\n",
    "time.sleep(2)\n",
    "\n",
    "ele = driver.find_element_by_xpath('//div/span/input[@id=\"inp_search\"]')\n",
    "ele.send_keys(query_txt1)\n",
    "\n",
    "time.sleep(2)\n",
    "enter = webdriver.Keys.ENTER\n",
    "ele.send_keys(enter)\n",
    "\n",
    "time.sleep(2)\n",
    "\n",
    "full_html = driver.page_source\n",
    "time.sleep(3)\n",
    "soup=BeautifulSoup(full_html,'html.parser')\n",
    "\n",
    "\n",
    "titles = soup.select('div[class=\"tit\"]>a')\n",
    "locations = soup.select('div[class=\"service\"]>p')\n",
    "tag = soup.select('p[class=\"tag_type\"]>span') \n",
    "\n",
    "time.sleep(2)\n",
    "for i in range(3,101):\n",
    "    driver.find_element_by_xpath('//div/a[@id=\"%d\"]'%i).click()\n",
    "    time.sleep(2)\n",
    "    full_html = driver.page_source\n",
    "    time.sleep(2)\n",
    "    soup=BeautifulSoup(full_html,'html.parser')\n",
    "    time.sleep(2)\n",
    "    titles += soup.select('div[class=\"tit\"]>a')\n",
    "    locations += soup.select('div[class=\"service\"]>p')\n",
    "    tag += soup.select('p[class=\"tag_type\"]>span') "
   ]
  },
  {
   "cell_type": "code",
   "execution_count": 49,
   "id": "b3a6f6c1",
   "metadata": {},
   "outputs": [
    {
     "name": "stdout",
     "output_type": "stream",
     "text": [
      "크롤링 할 키워드는?봄여행\n",
      "텍스트 파일 경로 및 이름(\"./sample.txt\")봄혀앵3페\n"
     ]
    },
    {
     "name": "stderr",
     "output_type": "stream",
     "text": [
      "/var/folders/fl/lytw3yqx5913yh2tcxgw3d740000gn/T/ipykernel_2997/278767945.py:11: DeprecationWarning: find_element_by_xpath is deprecated. Please use find_element(by=By.XPATH, value=xpath) instead\n",
      "  ele = driver.find_element_by_xpath('//div/span/input[@id=\"inp_search\"]')\n",
      "/var/folders/fl/lytw3yqx5913yh2tcxgw3d740000gn/T/ipykernel_2997/278767945.py:30: DeprecationWarning: find_element_by_xpath is deprecated. Please use find_element(by=By.XPATH, value=xpath) instead\n",
      "  driver.find_element_by_xpath('//div/a[@href=\"javascript:\"][@id=\"3\"]').click()\n"
     ]
    }
   ],
   "source": [
    "from bs4 import BeautifulSoup\n",
    "from selenium import webdriver\n",
    "import time, sys\n",
    "query_txt1 = input('크롤링 할 키워드는?')\n",
    "f_name = input('텍스트 파일 경로 및 이름(\"./sample.txt\")')\n",
    "driver = webdriver.Safari()\n",
    "\n",
    "driver.get(\"https://korean.visitkorea.or.kr/main/main.do#home\")\n",
    "time.sleep(2)\n",
    "\n",
    "ele = driver.find_element_by_xpath('//div/span/input[@id=\"inp_search\"]')\n",
    "ele.send_keys(query_txt1)\n",
    "\n",
    "time.sleep(2)\n",
    "enter = webdriver.Keys.ENTER\n",
    "ele.send_keys(enter)\n",
    "\n",
    "time.sleep(2)\n",
    "\n",
    "full_html = driver.page_source\n",
    "time.sleep(3)\n",
    "soup=BeautifulSoup(full_html,'html.parser')\n",
    "\n",
    "\n",
    "titles = soup.select('div[class=\"tit\"]>a')\n",
    "locations = soup.select('div[class=\"service\"]>p')\n",
    "tag = soup.select('p[class=\"tag_type\"]>span') \n",
    "\n",
    "time.sleep(2)\n",
    "driver.find_element_by_xpath('//div/a[@href=\"javascript:\"][@id=\"3\"]').click()\n",
    "\n",
    "time.sleep(2)\n",
    "full_html = driver.page_source\n",
    "\n",
    "time.sleep(2)    \n",
    "titles = soup.select('div[class=\"tit\"]>a')\n",
    "locations = soup.select('div[class=\"service\"]>p')\n",
    "tag = soup.select('p[class=\"tag_type\"]>span') \n",
    "\n",
    "with open(f_name, 'a') as f:\n",
    "    for i in titles:\n",
    "        print(i.text.strip(), file=f)"
   ]
  },
  {
   "cell_type": "code",
   "execution_count": null,
   "id": "3a6c0a1b",
   "metadata": {},
   "outputs": [],
   "source": [
    "time.sleep(3)\n",
    "with open(f_name,'a',encoding='utf8') as f:\n",
    "    for i in titles:\n",
    "        print(i.text.strip(),file=f)\n",
    "        print(file=f)"
   ]
  },
  {
   "cell_type": "code",
   "execution_count": null,
   "id": "321a4b8d",
   "metadata": {},
   "outputs": [],
   "source": [
    "from bs4 import BeautifulSoup\n",
    "from selenium import webdriver\n",
    "import time, sys\n",
    "query_txt1 = input('크롤링 할 키워드는?')\n",
    "f_name = input('텍스트 파일 경로 및 이름(\"./sample.txt\")')\n",
    "driver = webdriver.Safari()\n",
    "\n",
    "driver.get(\"https://korean.visitkorea.or.kr/main/main.do#home\")\n",
    "time.sleep(3)\n",
    "\n",
    "\n",
    "ele = driver.find_element_by_xpath('//div/span/input[@id=\"inp_search\"]')\n",
    "ele.send_keys(query_txt1)\n",
    "\n",
    "time.sleep(2)\n",
    "enter = webdriver.Keys.ENTER\n",
    "ele.send_keys(enter)\n",
    "\n",
    "time.sleep(3)\n",
    "full_html = driver.page_source\n",
    "\n",
    "soup = BeautifulSoup(full_html, 'html.parser')\n",
    "contents = soup.find_all('li')\n",
    "\n",
    "\n",
    "with open(f_name, 'a') as f:\n",
    "    for i in contents:\n",
    "        print(i.text.strip(), file=f)\n",
    "\n",
    "\n",
    "print('완료')"
   ]
  },
  {
   "cell_type": "code",
   "execution_count": 55,
   "id": "68585a36",
   "metadata": {},
   "outputs": [
    {
     "name": "stdout",
     "output_type": "stream",
     "text": [
      "크롤링 할 키워드는?봄 여행\n",
      "텍스트 파일 경로 및 이름(\"./sample.txt\")배야ㅗㅓ래ㅏㄴ몽ㄹ\n"
     ]
    },
    {
     "name": "stderr",
     "output_type": "stream",
     "text": [
      "/var/folders/fl/lytw3yqx5913yh2tcxgw3d740000gn/T/ipykernel_2997/807213869.py:11: DeprecationWarning: find_element_by_xpath is deprecated. Please use find_element(by=By.XPATH, value=xpath) instead\n",
      "  ele = driver.find_element_by_xpath('//div/span/input[@id=\"inp_search\"]')\n",
      "/var/folders/fl/lytw3yqx5913yh2tcxgw3d740000gn/T/ipykernel_2997/807213869.py:32: DeprecationWarning: find_element_by_xpath is deprecated. Please use find_element(by=By.XPATH, value=xpath) instead\n",
      "  driver.find_element_by_xpath('//div/a[@id=\"%d\"]'%i).click()\n"
     ]
    },
    {
     "ename": "KeyboardInterrupt",
     "evalue": "",
     "output_type": "error",
     "traceback": [
      "\u001b[0;31m---------------------------------------------------------------------------\u001b[0m",
      "\u001b[0;31mKeyboardInterrupt\u001b[0m                         Traceback (most recent call last)",
      "Input \u001b[0;32mIn [55]\u001b[0m, in \u001b[0;36m<cell line: 30>\u001b[0;34m()\u001b[0m\n\u001b[1;32m     30\u001b[0m \u001b[38;5;28;01mfor\u001b[39;00m i \u001b[38;5;129;01min\u001b[39;00m \u001b[38;5;28mrange\u001b[39m(\u001b[38;5;241m2\u001b[39m,\u001b[38;5;241m101\u001b[39m):\n\u001b[1;32m     31\u001b[0m     \u001b[38;5;28;01mfor\u001b[39;00m j \u001b[38;5;129;01min\u001b[39;00m \u001b[38;5;28mrange\u001b[39m(\u001b[38;5;241m1\u001b[39m,\u001b[38;5;241m3\u001b[39m):\n\u001b[0;32m---> 32\u001b[0m         \u001b[43mdriver\u001b[49m\u001b[38;5;241;43m.\u001b[39;49m\u001b[43mfind_element_by_xpath\u001b[49m\u001b[43m(\u001b[49m\u001b[38;5;124;43m'\u001b[39;49m\u001b[38;5;124;43m//div/a[@id=\u001b[39;49m\u001b[38;5;124;43m\"\u001b[39;49m\u001b[38;5;132;43;01m%d\u001b[39;49;00m\u001b[38;5;124;43m\"\u001b[39;49m\u001b[38;5;124;43m]\u001b[39;49m\u001b[38;5;124;43m'\u001b[39;49m\u001b[38;5;241;43m%\u001b[39;49m\u001b[43mi\u001b[49m\u001b[43m)\u001b[49m\u001b[38;5;241m.\u001b[39mclick()\n\u001b[1;32m     33\u001b[0m         time\u001b[38;5;241m.\u001b[39msleep(\u001b[38;5;241m1\u001b[39m)\n",
      "File \u001b[0;32m/opt/anaconda3/lib/python3.9/site-packages/selenium/webdriver/remote/webdriver.py:526\u001b[0m, in \u001b[0;36mWebDriver.find_element_by_xpath\u001b[0;34m(self, xpath)\u001b[0m\n\u001b[1;32m    504\u001b[0m \u001b[38;5;124;03m\"\"\"\u001b[39;00m\n\u001b[1;32m    505\u001b[0m \u001b[38;5;124;03mFinds an element by xpath.\u001b[39;00m\n\u001b[1;32m    506\u001b[0m \n\u001b[0;32m   (...)\u001b[0m\n\u001b[1;32m    519\u001b[0m \u001b[38;5;124;03m        element = driver.find_element_by_xpath('//div/td[1]')\u001b[39;00m\n\u001b[1;32m    520\u001b[0m \u001b[38;5;124;03m\"\"\"\u001b[39;00m\n\u001b[1;32m    521\u001b[0m warnings\u001b[38;5;241m.\u001b[39mwarn(\n\u001b[1;32m    522\u001b[0m     \u001b[38;5;124m\"\u001b[39m\u001b[38;5;124mfind_element_by_xpath is deprecated. Please use find_element(by=By.XPATH, value=xpath) instead\u001b[39m\u001b[38;5;124m\"\u001b[39m,\n\u001b[1;32m    523\u001b[0m     \u001b[38;5;167;01mDeprecationWarning\u001b[39;00m,\n\u001b[1;32m    524\u001b[0m     stacklevel\u001b[38;5;241m=\u001b[39m\u001b[38;5;241m2\u001b[39m,\n\u001b[1;32m    525\u001b[0m )\n\u001b[0;32m--> 526\u001b[0m \u001b[38;5;28;01mreturn\u001b[39;00m \u001b[38;5;28;43mself\u001b[39;49m\u001b[38;5;241;43m.\u001b[39;49m\u001b[43mfind_element\u001b[49m\u001b[43m(\u001b[49m\u001b[43mby\u001b[49m\u001b[38;5;241;43m=\u001b[39;49m\u001b[43mBy\u001b[49m\u001b[38;5;241;43m.\u001b[39;49m\u001b[43mXPATH\u001b[49m\u001b[43m,\u001b[49m\u001b[43m \u001b[49m\u001b[43mvalue\u001b[49m\u001b[38;5;241;43m=\u001b[39;49m\u001b[43mxpath\u001b[49m\u001b[43m)\u001b[49m\n",
      "File \u001b[0;32m/opt/anaconda3/lib/python3.9/site-packages/selenium/webdriver/remote/webdriver.py:1251\u001b[0m, in \u001b[0;36mWebDriver.find_element\u001b[0;34m(self, by, value)\u001b[0m\n\u001b[1;32m   1248\u001b[0m     by \u001b[38;5;241m=\u001b[39m By\u001b[38;5;241m.\u001b[39mCSS_SELECTOR\n\u001b[1;32m   1249\u001b[0m     value \u001b[38;5;241m=\u001b[39m \u001b[38;5;124m'\u001b[39m\u001b[38;5;124m[name=\u001b[39m\u001b[38;5;124m\"\u001b[39m\u001b[38;5;132;01m%s\u001b[39;00m\u001b[38;5;124m\"\u001b[39m\u001b[38;5;124m]\u001b[39m\u001b[38;5;124m'\u001b[39m \u001b[38;5;241m%\u001b[39m value\n\u001b[0;32m-> 1251\u001b[0m \u001b[38;5;28;01mreturn\u001b[39;00m \u001b[38;5;28;43mself\u001b[39;49m\u001b[38;5;241;43m.\u001b[39;49m\u001b[43mexecute\u001b[49m\u001b[43m(\u001b[49m\u001b[43mCommand\u001b[49m\u001b[38;5;241;43m.\u001b[39;49m\u001b[43mFIND_ELEMENT\u001b[49m\u001b[43m,\u001b[49m\u001b[43m \u001b[49m\u001b[43m{\u001b[49m\n\u001b[1;32m   1252\u001b[0m \u001b[43m    \u001b[49m\u001b[38;5;124;43m'\u001b[39;49m\u001b[38;5;124;43musing\u001b[39;49m\u001b[38;5;124;43m'\u001b[39;49m\u001b[43m:\u001b[49m\u001b[43m \u001b[49m\u001b[43mby\u001b[49m\u001b[43m,\u001b[49m\n\u001b[1;32m   1253\u001b[0m \u001b[43m    \u001b[49m\u001b[38;5;124;43m'\u001b[39;49m\u001b[38;5;124;43mvalue\u001b[39;49m\u001b[38;5;124;43m'\u001b[39;49m\u001b[43m:\u001b[49m\u001b[43m \u001b[49m\u001b[43mvalue\u001b[49m\u001b[43m}\u001b[49m\u001b[43m)\u001b[49m[\u001b[38;5;124m'\u001b[39m\u001b[38;5;124mvalue\u001b[39m\u001b[38;5;124m'\u001b[39m]\n",
      "File \u001b[0;32m/opt/anaconda3/lib/python3.9/site-packages/selenium/webdriver/remote/webdriver.py:428\u001b[0m, in \u001b[0;36mWebDriver.execute\u001b[0;34m(self, driver_command, params)\u001b[0m\n\u001b[1;32m    425\u001b[0m         params[\u001b[38;5;124m'\u001b[39m\u001b[38;5;124msessionId\u001b[39m\u001b[38;5;124m'\u001b[39m] \u001b[38;5;241m=\u001b[39m \u001b[38;5;28mself\u001b[39m\u001b[38;5;241m.\u001b[39msession_id\n\u001b[1;32m    427\u001b[0m params \u001b[38;5;241m=\u001b[39m \u001b[38;5;28mself\u001b[39m\u001b[38;5;241m.\u001b[39m_wrap_value(params)\n\u001b[0;32m--> 428\u001b[0m response \u001b[38;5;241m=\u001b[39m \u001b[38;5;28;43mself\u001b[39;49m\u001b[38;5;241;43m.\u001b[39;49m\u001b[43mcommand_executor\u001b[49m\u001b[38;5;241;43m.\u001b[39;49m\u001b[43mexecute\u001b[49m\u001b[43m(\u001b[49m\u001b[43mdriver_command\u001b[49m\u001b[43m,\u001b[49m\u001b[43m \u001b[49m\u001b[43mparams\u001b[49m\u001b[43m)\u001b[49m\n\u001b[1;32m    429\u001b[0m \u001b[38;5;28;01mif\u001b[39;00m response:\n\u001b[1;32m    430\u001b[0m     \u001b[38;5;28mself\u001b[39m\u001b[38;5;241m.\u001b[39merror_handler\u001b[38;5;241m.\u001b[39mcheck_response(response)\n",
      "File \u001b[0;32m/opt/anaconda3/lib/python3.9/site-packages/selenium/webdriver/remote/remote_connection.py:347\u001b[0m, in \u001b[0;36mRemoteConnection.execute\u001b[0;34m(self, command, params)\u001b[0m\n\u001b[1;32m    345\u001b[0m data \u001b[38;5;241m=\u001b[39m utils\u001b[38;5;241m.\u001b[39mdump_json(params)\n\u001b[1;32m    346\u001b[0m url \u001b[38;5;241m=\u001b[39m \u001b[38;5;124mf\u001b[39m\u001b[38;5;124m\"\u001b[39m\u001b[38;5;132;01m{\u001b[39;00m\u001b[38;5;28mself\u001b[39m\u001b[38;5;241m.\u001b[39m_url\u001b[38;5;132;01m}\u001b[39;00m\u001b[38;5;132;01m{\u001b[39;00mpath\u001b[38;5;132;01m}\u001b[39;00m\u001b[38;5;124m\"\u001b[39m\n\u001b[0;32m--> 347\u001b[0m \u001b[38;5;28;01mreturn\u001b[39;00m \u001b[38;5;28;43mself\u001b[39;49m\u001b[38;5;241;43m.\u001b[39;49m\u001b[43m_request\u001b[49m\u001b[43m(\u001b[49m\u001b[43mcommand_info\u001b[49m\u001b[43m[\u001b[49m\u001b[38;5;241;43m0\u001b[39;49m\u001b[43m]\u001b[49m\u001b[43m,\u001b[49m\u001b[43m \u001b[49m\u001b[43murl\u001b[49m\u001b[43m,\u001b[49m\u001b[43m \u001b[49m\u001b[43mbody\u001b[49m\u001b[38;5;241;43m=\u001b[39;49m\u001b[43mdata\u001b[49m\u001b[43m)\u001b[49m\n",
      "File \u001b[0;32m/opt/anaconda3/lib/python3.9/site-packages/selenium/webdriver/remote/remote_connection.py:369\u001b[0m, in \u001b[0;36mRemoteConnection._request\u001b[0;34m(self, method, url, body)\u001b[0m\n\u001b[1;32m    366\u001b[0m     body \u001b[38;5;241m=\u001b[39m \u001b[38;5;28;01mNone\u001b[39;00m\n\u001b[1;32m    368\u001b[0m \u001b[38;5;28;01mif\u001b[39;00m \u001b[38;5;28mself\u001b[39m\u001b[38;5;241m.\u001b[39mkeep_alive:\n\u001b[0;32m--> 369\u001b[0m     response \u001b[38;5;241m=\u001b[39m \u001b[38;5;28;43mself\u001b[39;49m\u001b[38;5;241;43m.\u001b[39;49m\u001b[43m_conn\u001b[49m\u001b[38;5;241;43m.\u001b[39;49m\u001b[43mrequest\u001b[49m\u001b[43m(\u001b[49m\u001b[43mmethod\u001b[49m\u001b[43m,\u001b[49m\u001b[43m \u001b[49m\u001b[43murl\u001b[49m\u001b[43m,\u001b[49m\u001b[43m \u001b[49m\u001b[43mbody\u001b[49m\u001b[38;5;241;43m=\u001b[39;49m\u001b[43mbody\u001b[49m\u001b[43m,\u001b[49m\u001b[43m \u001b[49m\u001b[43mheaders\u001b[49m\u001b[38;5;241;43m=\u001b[39;49m\u001b[43mheaders\u001b[49m\u001b[43m)\u001b[49m\n\u001b[1;32m    370\u001b[0m     statuscode \u001b[38;5;241m=\u001b[39m response\u001b[38;5;241m.\u001b[39mstatus\n\u001b[1;32m    371\u001b[0m \u001b[38;5;28;01melse\u001b[39;00m:\n",
      "File \u001b[0;32m/opt/anaconda3/lib/python3.9/site-packages/urllib3/request.py:78\u001b[0m, in \u001b[0;36mRequestMethods.request\u001b[0;34m(self, method, url, fields, headers, **urlopen_kw)\u001b[0m\n\u001b[1;32m     74\u001b[0m     \u001b[38;5;28;01mreturn\u001b[39;00m \u001b[38;5;28mself\u001b[39m\u001b[38;5;241m.\u001b[39mrequest_encode_url(\n\u001b[1;32m     75\u001b[0m         method, url, fields\u001b[38;5;241m=\u001b[39mfields, headers\u001b[38;5;241m=\u001b[39mheaders, \u001b[38;5;241m*\u001b[39m\u001b[38;5;241m*\u001b[39murlopen_kw\n\u001b[1;32m     76\u001b[0m     )\n\u001b[1;32m     77\u001b[0m \u001b[38;5;28;01melse\u001b[39;00m:\n\u001b[0;32m---> 78\u001b[0m     \u001b[38;5;28;01mreturn\u001b[39;00m \u001b[38;5;28;43mself\u001b[39;49m\u001b[38;5;241;43m.\u001b[39;49m\u001b[43mrequest_encode_body\u001b[49m\u001b[43m(\u001b[49m\n\u001b[1;32m     79\u001b[0m \u001b[43m        \u001b[49m\u001b[43mmethod\u001b[49m\u001b[43m,\u001b[49m\u001b[43m \u001b[49m\u001b[43murl\u001b[49m\u001b[43m,\u001b[49m\u001b[43m \u001b[49m\u001b[43mfields\u001b[49m\u001b[38;5;241;43m=\u001b[39;49m\u001b[43mfields\u001b[49m\u001b[43m,\u001b[49m\u001b[43m \u001b[49m\u001b[43mheaders\u001b[49m\u001b[38;5;241;43m=\u001b[39;49m\u001b[43mheaders\u001b[49m\u001b[43m,\u001b[49m\u001b[43m \u001b[49m\u001b[38;5;241;43m*\u001b[39;49m\u001b[38;5;241;43m*\u001b[39;49m\u001b[43murlopen_kw\u001b[49m\n\u001b[1;32m     80\u001b[0m \u001b[43m    \u001b[49m\u001b[43m)\u001b[49m\n",
      "File \u001b[0;32m/opt/anaconda3/lib/python3.9/site-packages/urllib3/request.py:170\u001b[0m, in \u001b[0;36mRequestMethods.request_encode_body\u001b[0;34m(self, method, url, fields, headers, encode_multipart, multipart_boundary, **urlopen_kw)\u001b[0m\n\u001b[1;32m    167\u001b[0m extra_kw[\u001b[38;5;124m\"\u001b[39m\u001b[38;5;124mheaders\u001b[39m\u001b[38;5;124m\"\u001b[39m]\u001b[38;5;241m.\u001b[39mupdate(headers)\n\u001b[1;32m    168\u001b[0m extra_kw\u001b[38;5;241m.\u001b[39mupdate(urlopen_kw)\n\u001b[0;32m--> 170\u001b[0m \u001b[38;5;28;01mreturn\u001b[39;00m \u001b[38;5;28;43mself\u001b[39;49m\u001b[38;5;241;43m.\u001b[39;49m\u001b[43murlopen\u001b[49m\u001b[43m(\u001b[49m\u001b[43mmethod\u001b[49m\u001b[43m,\u001b[49m\u001b[43m \u001b[49m\u001b[43murl\u001b[49m\u001b[43m,\u001b[49m\u001b[43m \u001b[49m\u001b[38;5;241;43m*\u001b[39;49m\u001b[38;5;241;43m*\u001b[39;49m\u001b[43mextra_kw\u001b[49m\u001b[43m)\u001b[49m\n",
      "File \u001b[0;32m/opt/anaconda3/lib/python3.9/site-packages/urllib3/poolmanager.py:376\u001b[0m, in \u001b[0;36mPoolManager.urlopen\u001b[0;34m(self, method, url, redirect, **kw)\u001b[0m\n\u001b[1;32m    374\u001b[0m     response \u001b[38;5;241m=\u001b[39m conn\u001b[38;5;241m.\u001b[39murlopen(method, url, \u001b[38;5;241m*\u001b[39m\u001b[38;5;241m*\u001b[39mkw)\n\u001b[1;32m    375\u001b[0m \u001b[38;5;28;01melse\u001b[39;00m:\n\u001b[0;32m--> 376\u001b[0m     response \u001b[38;5;241m=\u001b[39m \u001b[43mconn\u001b[49m\u001b[38;5;241;43m.\u001b[39;49m\u001b[43murlopen\u001b[49m\u001b[43m(\u001b[49m\u001b[43mmethod\u001b[49m\u001b[43m,\u001b[49m\u001b[43m \u001b[49m\u001b[43mu\u001b[49m\u001b[38;5;241;43m.\u001b[39;49m\u001b[43mrequest_uri\u001b[49m\u001b[43m,\u001b[49m\u001b[43m \u001b[49m\u001b[38;5;241;43m*\u001b[39;49m\u001b[38;5;241;43m*\u001b[39;49m\u001b[43mkw\u001b[49m\u001b[43m)\u001b[49m\n\u001b[1;32m    378\u001b[0m redirect_location \u001b[38;5;241m=\u001b[39m redirect \u001b[38;5;129;01mand\u001b[39;00m response\u001b[38;5;241m.\u001b[39mget_redirect_location()\n\u001b[1;32m    379\u001b[0m \u001b[38;5;28;01mif\u001b[39;00m \u001b[38;5;129;01mnot\u001b[39;00m redirect_location:\n",
      "File \u001b[0;32m/opt/anaconda3/lib/python3.9/site-packages/urllib3/connectionpool.py:703\u001b[0m, in \u001b[0;36mHTTPConnectionPool.urlopen\u001b[0;34m(self, method, url, body, headers, retries, redirect, assert_same_host, timeout, pool_timeout, release_conn, chunked, body_pos, **response_kw)\u001b[0m\n\u001b[1;32m    700\u001b[0m     \u001b[38;5;28mself\u001b[39m\u001b[38;5;241m.\u001b[39m_prepare_proxy(conn)\n\u001b[1;32m    702\u001b[0m \u001b[38;5;66;03m# Make the request on the httplib connection object.\u001b[39;00m\n\u001b[0;32m--> 703\u001b[0m httplib_response \u001b[38;5;241m=\u001b[39m \u001b[38;5;28;43mself\u001b[39;49m\u001b[38;5;241;43m.\u001b[39;49m\u001b[43m_make_request\u001b[49m\u001b[43m(\u001b[49m\n\u001b[1;32m    704\u001b[0m \u001b[43m    \u001b[49m\u001b[43mconn\u001b[49m\u001b[43m,\u001b[49m\n\u001b[1;32m    705\u001b[0m \u001b[43m    \u001b[49m\u001b[43mmethod\u001b[49m\u001b[43m,\u001b[49m\n\u001b[1;32m    706\u001b[0m \u001b[43m    \u001b[49m\u001b[43murl\u001b[49m\u001b[43m,\u001b[49m\n\u001b[1;32m    707\u001b[0m \u001b[43m    \u001b[49m\u001b[43mtimeout\u001b[49m\u001b[38;5;241;43m=\u001b[39;49m\u001b[43mtimeout_obj\u001b[49m\u001b[43m,\u001b[49m\n\u001b[1;32m    708\u001b[0m \u001b[43m    \u001b[49m\u001b[43mbody\u001b[49m\u001b[38;5;241;43m=\u001b[39;49m\u001b[43mbody\u001b[49m\u001b[43m,\u001b[49m\n\u001b[1;32m    709\u001b[0m \u001b[43m    \u001b[49m\u001b[43mheaders\u001b[49m\u001b[38;5;241;43m=\u001b[39;49m\u001b[43mheaders\u001b[49m\u001b[43m,\u001b[49m\n\u001b[1;32m    710\u001b[0m \u001b[43m    \u001b[49m\u001b[43mchunked\u001b[49m\u001b[38;5;241;43m=\u001b[39;49m\u001b[43mchunked\u001b[49m\u001b[43m,\u001b[49m\n\u001b[1;32m    711\u001b[0m \u001b[43m\u001b[49m\u001b[43m)\u001b[49m\n\u001b[1;32m    713\u001b[0m \u001b[38;5;66;03m# If we're going to release the connection in ``finally:``, then\u001b[39;00m\n\u001b[1;32m    714\u001b[0m \u001b[38;5;66;03m# the response doesn't need to know about the connection. Otherwise\u001b[39;00m\n\u001b[1;32m    715\u001b[0m \u001b[38;5;66;03m# it will also try to release it and we'll have a double-release\u001b[39;00m\n\u001b[1;32m    716\u001b[0m \u001b[38;5;66;03m# mess.\u001b[39;00m\n\u001b[1;32m    717\u001b[0m response_conn \u001b[38;5;241m=\u001b[39m conn \u001b[38;5;28;01mif\u001b[39;00m \u001b[38;5;129;01mnot\u001b[39;00m release_conn \u001b[38;5;28;01melse\u001b[39;00m \u001b[38;5;28;01mNone\u001b[39;00m\n",
      "File \u001b[0;32m/opt/anaconda3/lib/python3.9/site-packages/urllib3/connectionpool.py:449\u001b[0m, in \u001b[0;36mHTTPConnectionPool._make_request\u001b[0;34m(self, conn, method, url, timeout, chunked, **httplib_request_kw)\u001b[0m\n\u001b[1;32m    444\u001b[0m             httplib_response \u001b[38;5;241m=\u001b[39m conn\u001b[38;5;241m.\u001b[39mgetresponse()\n\u001b[1;32m    445\u001b[0m         \u001b[38;5;28;01mexcept\u001b[39;00m \u001b[38;5;167;01mBaseException\u001b[39;00m \u001b[38;5;28;01mas\u001b[39;00m e:\n\u001b[1;32m    446\u001b[0m             \u001b[38;5;66;03m# Remove the TypeError from the exception chain in\u001b[39;00m\n\u001b[1;32m    447\u001b[0m             \u001b[38;5;66;03m# Python 3 (including for exceptions like SystemExit).\u001b[39;00m\n\u001b[1;32m    448\u001b[0m             \u001b[38;5;66;03m# Otherwise it looks like a bug in the code.\u001b[39;00m\n\u001b[0;32m--> 449\u001b[0m             \u001b[43msix\u001b[49m\u001b[38;5;241;43m.\u001b[39;49m\u001b[43mraise_from\u001b[49m\u001b[43m(\u001b[49m\u001b[43me\u001b[49m\u001b[43m,\u001b[49m\u001b[43m \u001b[49m\u001b[38;5;28;43;01mNone\u001b[39;49;00m\u001b[43m)\u001b[49m\n\u001b[1;32m    450\u001b[0m \u001b[38;5;28;01mexcept\u001b[39;00m (SocketTimeout, BaseSSLError, SocketError) \u001b[38;5;28;01mas\u001b[39;00m e:\n\u001b[1;32m    451\u001b[0m     \u001b[38;5;28mself\u001b[39m\u001b[38;5;241m.\u001b[39m_raise_timeout(err\u001b[38;5;241m=\u001b[39me, url\u001b[38;5;241m=\u001b[39murl, timeout_value\u001b[38;5;241m=\u001b[39mread_timeout)\n",
      "File \u001b[0;32m<string>:3\u001b[0m, in \u001b[0;36mraise_from\u001b[0;34m(value, from_value)\u001b[0m\n",
      "File \u001b[0;32m/opt/anaconda3/lib/python3.9/site-packages/urllib3/connectionpool.py:444\u001b[0m, in \u001b[0;36mHTTPConnectionPool._make_request\u001b[0;34m(self, conn, method, url, timeout, chunked, **httplib_request_kw)\u001b[0m\n\u001b[1;32m    441\u001b[0m \u001b[38;5;28;01mexcept\u001b[39;00m \u001b[38;5;167;01mTypeError\u001b[39;00m:\n\u001b[1;32m    442\u001b[0m     \u001b[38;5;66;03m# Python 3\u001b[39;00m\n\u001b[1;32m    443\u001b[0m     \u001b[38;5;28;01mtry\u001b[39;00m:\n\u001b[0;32m--> 444\u001b[0m         httplib_response \u001b[38;5;241m=\u001b[39m \u001b[43mconn\u001b[49m\u001b[38;5;241;43m.\u001b[39;49m\u001b[43mgetresponse\u001b[49m\u001b[43m(\u001b[49m\u001b[43m)\u001b[49m\n\u001b[1;32m    445\u001b[0m     \u001b[38;5;28;01mexcept\u001b[39;00m \u001b[38;5;167;01mBaseException\u001b[39;00m \u001b[38;5;28;01mas\u001b[39;00m e:\n\u001b[1;32m    446\u001b[0m         \u001b[38;5;66;03m# Remove the TypeError from the exception chain in\u001b[39;00m\n\u001b[1;32m    447\u001b[0m         \u001b[38;5;66;03m# Python 3 (including for exceptions like SystemExit).\u001b[39;00m\n\u001b[1;32m    448\u001b[0m         \u001b[38;5;66;03m# Otherwise it looks like a bug in the code.\u001b[39;00m\n\u001b[1;32m    449\u001b[0m         six\u001b[38;5;241m.\u001b[39mraise_from(e, \u001b[38;5;28;01mNone\u001b[39;00m)\n",
      "File \u001b[0;32m/opt/anaconda3/lib/python3.9/http/client.py:1377\u001b[0m, in \u001b[0;36mHTTPConnection.getresponse\u001b[0;34m(self)\u001b[0m\n\u001b[1;32m   1375\u001b[0m \u001b[38;5;28;01mtry\u001b[39;00m:\n\u001b[1;32m   1376\u001b[0m     \u001b[38;5;28;01mtry\u001b[39;00m:\n\u001b[0;32m-> 1377\u001b[0m         \u001b[43mresponse\u001b[49m\u001b[38;5;241;43m.\u001b[39;49m\u001b[43mbegin\u001b[49m\u001b[43m(\u001b[49m\u001b[43m)\u001b[49m\n\u001b[1;32m   1378\u001b[0m     \u001b[38;5;28;01mexcept\u001b[39;00m \u001b[38;5;167;01mConnectionError\u001b[39;00m:\n\u001b[1;32m   1379\u001b[0m         \u001b[38;5;28mself\u001b[39m\u001b[38;5;241m.\u001b[39mclose()\n",
      "File \u001b[0;32m/opt/anaconda3/lib/python3.9/http/client.py:320\u001b[0m, in \u001b[0;36mHTTPResponse.begin\u001b[0;34m(self)\u001b[0m\n\u001b[1;32m    318\u001b[0m \u001b[38;5;66;03m# read until we get a non-100 response\u001b[39;00m\n\u001b[1;32m    319\u001b[0m \u001b[38;5;28;01mwhile\u001b[39;00m \u001b[38;5;28;01mTrue\u001b[39;00m:\n\u001b[0;32m--> 320\u001b[0m     version, status, reason \u001b[38;5;241m=\u001b[39m \u001b[38;5;28;43mself\u001b[39;49m\u001b[38;5;241;43m.\u001b[39;49m\u001b[43m_read_status\u001b[49m\u001b[43m(\u001b[49m\u001b[43m)\u001b[49m\n\u001b[1;32m    321\u001b[0m     \u001b[38;5;28;01mif\u001b[39;00m status \u001b[38;5;241m!=\u001b[39m CONTINUE:\n\u001b[1;32m    322\u001b[0m         \u001b[38;5;28;01mbreak\u001b[39;00m\n",
      "File \u001b[0;32m/opt/anaconda3/lib/python3.9/http/client.py:281\u001b[0m, in \u001b[0;36mHTTPResponse._read_status\u001b[0;34m(self)\u001b[0m\n\u001b[1;32m    280\u001b[0m \u001b[38;5;28;01mdef\u001b[39;00m \u001b[38;5;21m_read_status\u001b[39m(\u001b[38;5;28mself\u001b[39m):\n\u001b[0;32m--> 281\u001b[0m     line \u001b[38;5;241m=\u001b[39m \u001b[38;5;28mstr\u001b[39m(\u001b[38;5;28;43mself\u001b[39;49m\u001b[38;5;241;43m.\u001b[39;49m\u001b[43mfp\u001b[49m\u001b[38;5;241;43m.\u001b[39;49m\u001b[43mreadline\u001b[49m\u001b[43m(\u001b[49m\u001b[43m_MAXLINE\u001b[49m\u001b[43m \u001b[49m\u001b[38;5;241;43m+\u001b[39;49m\u001b[43m \u001b[49m\u001b[38;5;241;43m1\u001b[39;49m\u001b[43m)\u001b[49m, \u001b[38;5;124m\"\u001b[39m\u001b[38;5;124miso-8859-1\u001b[39m\u001b[38;5;124m\"\u001b[39m)\n\u001b[1;32m    282\u001b[0m     \u001b[38;5;28;01mif\u001b[39;00m \u001b[38;5;28mlen\u001b[39m(line) \u001b[38;5;241m>\u001b[39m _MAXLINE:\n\u001b[1;32m    283\u001b[0m         \u001b[38;5;28;01mraise\u001b[39;00m LineTooLong(\u001b[38;5;124m\"\u001b[39m\u001b[38;5;124mstatus line\u001b[39m\u001b[38;5;124m\"\u001b[39m)\n",
      "File \u001b[0;32m/opt/anaconda3/lib/python3.9/socket.py:704\u001b[0m, in \u001b[0;36mSocketIO.readinto\u001b[0;34m(self, b)\u001b[0m\n\u001b[1;32m    702\u001b[0m \u001b[38;5;28;01mwhile\u001b[39;00m \u001b[38;5;28;01mTrue\u001b[39;00m:\n\u001b[1;32m    703\u001b[0m     \u001b[38;5;28;01mtry\u001b[39;00m:\n\u001b[0;32m--> 704\u001b[0m         \u001b[38;5;28;01mreturn\u001b[39;00m \u001b[38;5;28;43mself\u001b[39;49m\u001b[38;5;241;43m.\u001b[39;49m\u001b[43m_sock\u001b[49m\u001b[38;5;241;43m.\u001b[39;49m\u001b[43mrecv_into\u001b[49m\u001b[43m(\u001b[49m\u001b[43mb\u001b[49m\u001b[43m)\u001b[49m\n\u001b[1;32m    705\u001b[0m     \u001b[38;5;28;01mexcept\u001b[39;00m timeout:\n\u001b[1;32m    706\u001b[0m         \u001b[38;5;28mself\u001b[39m\u001b[38;5;241m.\u001b[39m_timeout_occurred \u001b[38;5;241m=\u001b[39m \u001b[38;5;28;01mTrue\u001b[39;00m\n",
      "\u001b[0;31mKeyboardInterrupt\u001b[0m: "
     ]
    }
   ],
   "source": [
    "from bs4 import BeautifulSoup\n",
    "from selenium import webdriver\n",
    "import time, sys\n",
    "query_txt1 = input('크롤링 할 키워드는?')\n",
    "f_name = input('텍스트 파일 경로 및 이름(\"./sample.txt\")')\n",
    "driver = webdriver.Safari()\n",
    "\n",
    "driver.get(\"https://korean.visitkorea.or.kr/main/main.do#home\")\n",
    "time.sleep(2)\n",
    "\n",
    "ele = driver.find_element_by_xpath('//div/span/input[@id=\"inp_search\"]')\n",
    "ele.send_keys(query_txt1)\n",
    "\n",
    "time.sleep(2)\n",
    "enter = webdriver.Keys.ENTER\n",
    "ele.send_keys(enter)\n",
    "\n",
    "time.sleep(2)\n",
    "\n",
    "full_html = driver.page_source\n",
    "time.sleep(3)\n",
    "soup=BeautifulSoup(full_html,'html.parser')\n",
    "\n",
    "\n",
    "titles = soup.select('div[class=\"tit\"]>a')\n",
    "locations = soup.select('div[class=\"service\"]>p')\n",
    "tag = soup.select('p[class=\"tag_type\"]>span') \n",
    "\n",
    "time.sleep(1)\n",
    "for i in range(2,101):\n",
    "    for j in range(1,3):\n",
    "        driver.find_element_by_xpath('//div/a[@id=\"%d\"]'%i).click()\n",
    "        time.sleep(1)"
   ]
  },
  {
   "cell_type": "code",
   "execution_count": 59,
   "id": "5d2fb308",
   "metadata": {},
   "outputs": [
    {
     "name": "stdout",
     "output_type": "stream",
     "text": [
      "크롤링 할 키워드는?봄 여행\n",
      "텍스트 파일 경로 및 이름(\"./sample.txt\")ㅁ녀ㅗ햐ㅕㅐㅗㅂ조ㅑㅕㅐㅇㄹ핌넢\n"
     ]
    },
    {
     "name": "stderr",
     "output_type": "stream",
     "text": [
      "/var/folders/fl/lytw3yqx5913yh2tcxgw3d740000gn/T/ipykernel_2997/1553141438.py:11: DeprecationWarning: find_element_by_xpath is deprecated. Please use find_element(by=By.XPATH, value=xpath) instead\n",
      "  ele = driver.find_element_by_xpath('//div/span/input[@id=\"inp_search\"]')\n",
      "/var/folders/fl/lytw3yqx5913yh2tcxgw3d740000gn/T/ipykernel_2997/1553141438.py:32: DeprecationWarning: find_element_by_xpath is deprecated. Please use find_element(by=By.XPATH, value=xpath) instead\n",
      "  driver.find_element_by_xpath('//div/a[@id=\"%d\"]'%i).click()\n"
     ]
    }
   ],
   "source": [
    "from bs4 import BeautifulSoup\n",
    "from selenium import webdriver\n",
    "import time, sys\n",
    "query_txt1 = input('크롤링 할 키워드는?')\n",
    "f_name = input('텍스트 파일 경로 및 이름(\"./sample.txt\")')\n",
    "driver = webdriver.Safari()\n",
    "\n",
    "driver.get(\"https://korean.visitkorea.or.kr/main/main.do#home\")\n",
    "time.sleep(2)\n",
    "\n",
    "ele = driver.find_element_by_xpath('//div/span/input[@id=\"inp_search\"]')\n",
    "ele.send_keys(query_txt1)\n",
    "\n",
    "time.sleep(2)\n",
    "enter = webdriver.Keys.ENTER\n",
    "ele.send_keys(enter)\n",
    "\n",
    "time.sleep(2)\n",
    "\n",
    "full_html = driver.page_source\n",
    "time.sleep(3)\n",
    "soup=BeautifulSoup(full_html,'html.parser')\n",
    "\n",
    "\n",
    "titles = soup.select('div[class=\"tit\"]>a')\n",
    "locations = soup.select('div[class=\"service\"]>p')\n",
    "tag = soup.select('p[class=\"tag_type\"]>span') \n",
    "\n",
    "time.sleep(4)\n",
    "for i in range(2,11):\n",
    "    for j in range(1,3):\n",
    "        driver.find_element_by_xpath('//div/a[@id=\"%d\"]'%i).click()\n",
    "        time.sleep(4)"
   ]
  },
  {
   "cell_type": "code",
   "execution_count": null,
   "id": "da8393c9",
   "metadata": {},
   "outputs": [],
   "source": []
  }
 ],
 "metadata": {
  "kernelspec": {
   "display_name": "Python 3 (ipykernel)",
   "language": "python",
   "name": "python3"
  },
  "language_info": {
   "codemirror_mode": {
    "name": "ipython",
    "version": 3
   },
   "file_extension": ".py",
   "mimetype": "text/x-python",
   "name": "python",
   "nbconvert_exporter": "python",
   "pygments_lexer": "ipython3",
   "version": "3.9.12"
  }
 },
 "nbformat": 4,
 "nbformat_minor": 5
}
