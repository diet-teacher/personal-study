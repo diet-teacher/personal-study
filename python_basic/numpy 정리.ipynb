{
 "cells": [
  {
   "cell_type": "code",
   "execution_count": 1,
   "id": "91172da3",
   "metadata": {},
   "outputs": [
    {
     "name": "stdout",
     "output_type": "stream",
     "text": [
      "a : [1 2 4 6 8] int64\n",
      "b : [1.  2.  4.  6.  8.1] float64\n",
      "c : ['1' '2' '4.1' 'abc' 'b'] <U32\n"
     ]
    }
   ],
   "source": [
    "import numpy as np # numpy를 불러와 np로 사용\n",
    "\n",
    "# 배열에 들어가는 요소들의 타입은 모두 같아야 한다.\n",
    "\n",
    "a = np.array([1,2,4,6,8]) # a 배열을 생성\n",
    "print('a :', a, a.dtype) # a와 a의 데이터 타입을 출력\n",
    "b = np.array([1,2,4,6,8.1]) # b 배열을 생성\n",
    "print('b :', b, b.dtype) #b와 b의 데이터 타입을 출력\n",
    "c = np.array([1,2,4.1,'abc','b']) # c 배열을 생성\n",
    "print('c :', c, c.dtype) #c와 c의 데이터 타입을 출력"
   ]
  },
  {
   "cell_type": "code",
   "execution_count": null,
   "id": "a1de834c",
   "metadata": {},
   "outputs": [],
   "source": [
    "# a는 데이터가 모두 integer 타입으로 들어갔기 때문에 데이터 타입이 int로 나오는 것을 볼 수 있다.\n",
    "# b는 마지막 8.1이 float타입이기 떄문에 모든 숫자 뒤에 '.'이 붙어 float타입으로 변한 것을 확인 할 수 있다.\n",
    "# c의 경우 문자열이 포함 되기 때문에 1,2,4.1은 ''가 붙은 문자열이 된 것을 확인 할 수 있다.\n",
    "# c의 데이터 타입 U32는 Unicode타입이며 Unicode타입이 정수나 실수형 데이터 타입보다 우선되기 때문에 U32가 출력된다."
   ]
  },
  {
   "cell_type": "code",
   "execution_count": 17,
   "id": "6f05bac0",
   "metadata": {},
   "outputs": [
    {
     "name": "stdout",
     "output_type": "stream",
     "text": [
      "[[0. 0.]\n",
      " [0. 0.]]\n",
      "[[1. 1. 1. 1. 1.]\n",
      " [1. 1. 1. 1. 1.]\n",
      " [1. 1. 1. 1. 1.]]\n",
      "[[5 5 5]\n",
      " [5 5 5]]\n",
      "[[1. 0. 0. 0.]\n",
      " [0. 1. 0. 0.]\n",
      " [0. 0. 1. 0.]\n",
      " [0. 0. 0. 1.]]\n",
      "[[0. 0. 1. 0.]\n",
      " [0. 0. 0. 1.]\n",
      " [0. 0. 0. 0.]\n",
      " [0. 0. 0. 0.]]\n",
      "[[0. 0. 0. 0.]\n",
      " [1. 0. 0. 0.]\n",
      " [0. 1. 0. 0.]\n",
      " [0. 0. 1. 0.]]\n",
      "[[1. 0. 0.]\n",
      " [0. 1. 0.]\n",
      " [0. 0. 1.]]\n"
     ]
    }
   ],
   "source": [
    "# np.zeros는 행열의 쉐입을 입력해 주면 모든 값이 0인 행과 열을 만들어 줌\n",
    "arr = np.zeros([2,2])\n",
    "print(arr)\n",
    "\n",
    "# np.ones는 행열의 쉐입을 입력해 주면 모든 값이 1인 행과 열을 만들어 줌\n",
    "arr = np.ones([3,5])\n",
    "print(arr)\n",
    "\n",
    "# np.full은 행열의 쉐입과 입력하고 싶은 값을 입력해 주면 모든 값이 입력 값으로 된 행과 열을 만들어 줌\n",
    "arr = np.full([2,3],5)\n",
    "print(arr)\n",
    "\n",
    "# np.eye는 대각선으로 값이 1이고 나머지는 값이 0인 행열을 만들어 줌. k의 default 값은 0임\n",
    "arr = np.eye(4,4)\n",
    "print(arr)\n",
    "\n",
    "# np.eye에서 k값을 설정시 어디서부터 대각선으로 1의 값을 줄지를 선택 할 수 있음. 예를 들어 k=2이면 0번 행의 2번 인덱스 열부터 1이 시작 됨\n",
    "arr = np.eye(4,4, k=2)\n",
    "print(arr)\n",
    "\n",
    "# np.eye에서 k=-1이면 대각선은 좌측으로 1칸 옮겨져서 1번 행의 0번 열부터 1 대각선이 시작 됨.\n",
    "arr = np.eye(4,4, k=-1)\n",
    "print(arr)\n",
    "\n",
    "# np.eye에서 n과 m(행열 쉐잎)을 n값 하나만 주게 되면 행과 열은 n개가 됨.\n",
    "arr = np.eye(3, k=0)\n",
    "print(arr)"
   ]
  },
  {
   "cell_type": "code",
   "execution_count": 21,
   "id": "f408d147",
   "metadata": {},
   "outputs": [
    {
     "name": "stdout",
     "output_type": "stream",
     "text": [
      "[[0 0 0]\n",
      " [0 0 0]]\n",
      "[[1 1 1]\n",
      " [1 1 1]]\n",
      "[[7 7 7]\n",
      " [7 7 7]]\n"
     ]
    }
   ],
   "source": [
    "arr = np.array([[1,2,3],\n",
    "                [4,5,6]])\n",
    "\n",
    "# np.zeros_like에 행열을 넣어주면 그 행열과 동일한 쉐잎의 값이 모두 0인 행열을 만들어 줌.\n",
    "arr_z = np.zeros_like(arr)\n",
    "print(arr_z)\n",
    "\n",
    "# np.ones_like에 행열을 넣어주면 그 행열과 동일한 쉐잎의 값이 모두 1인 행열을 만들어 줌.\n",
    "arr_o = np.ones_like(arr)\n",
    "print(arr_o)\n",
    "\n",
    "# np.full_like에 행열과 넣고 싶은 값을 넣어주면 그 행열과 동일한 쉐잎의 입력한 값을 가지는 행열을 만들어 줌.\n",
    "arr_f = np.full_like(arr, 7)\n",
    "print(arr_f)"
   ]
  },
  {
   "cell_type": "markdown",
   "id": "e43086e3",
   "metadata": {},
   "source": [
    "# 특정 범위의 값을 가지는 N차원 배열 생성하기"
   ]
  },
  {
   "cell_type": "code",
   "execution_count": 22,
   "id": "4222e293",
   "metadata": {},
   "outputs": [
    {
     "name": "stdout",
     "output_type": "stream",
     "text": [
      "[0, 2, 4, 6, 8]\n"
     ]
    }
   ],
   "source": [
    "lst = list(range(0,9,2))\n",
    "print(lst)"
   ]
  },
  {
   "cell_type": "code",
   "execution_count": 26,
   "id": "92e67da3",
   "metadata": {},
   "outputs": [
    {
     "name": "stdout",
     "output_type": "stream",
     "text": [
      "[0 1 2 3 4 5 6 7 8]\n",
      "[ 3  4  5  6  7  8  9 10 11]\n",
      "[ 3  6  9 12]\n"
     ]
    }
   ],
   "source": [
    "# np.arange를 이용면 range함수를 이용한 것과 같이 순차적으로 값을 넣어주는 배열을 생성할 수 있음.\n",
    "arr = np.arange(9)\n",
    "print(arr)\n",
    "\n",
    "# np.arange에 스타트 값과 스탑 값을 입력하면 스타트 이상 스탑 미만의 값을 가지는 배열이 생성됨.\n",
    "arr = np.arange(3,12)\n",
    "print(arr)\n",
    "\n",
    "\n",
    "# np.arange에 스텝 값을 넣어 주면 스텝 값만큼 건너 뛰어서 값이 들어가는 배열을 생성 가능\n",
    "arr = np.arange(3,14,3)\n",
    "print(arr)"
   ]
  },
  {
   "cell_type": "code",
   "execution_count": 3,
   "id": "cfd4720a",
   "metadata": {},
   "outputs": [
    {
     "name": "stdout",
     "output_type": "stream",
     "text": [
      "[  0.  10.  20.  30.  40.  50.  60.  70.  80.  90. 100.]\n"
     ]
    }
   ],
   "source": [
    "# np.linspace는 스타트 값부터 스탑 값 이하의 수를 균등한 간격으로 num개 많큼 가지는 배열을 생성 \n",
    "# np.linspace와 np.arange의 차이는 linspace는 스탑 값 이하, arange는 스탑값 미만의 수가 마지막 값임\n",
    "\n",
    "arr = np.linspace(0, 100, num=11)\n",
    "print(arr)"
   ]
  },
  {
   "cell_type": "code",
   "execution_count": 10,
   "id": "d69601c2",
   "metadata": {},
   "outputs": [
    {
     "name": "stdout",
     "output_type": "stream",
     "text": [
      "[ 1.  2.  3.  4.  5.  6.  7.  8.  9. 10.]\n",
      "\n",
      "[   2.    4.    8.   16.   32.   64.  128.  256.  512. 1024.]\n",
      "[1.e+01 1.e+02 1.e+03 1.e+04 1.e+05 1.e+06 1.e+07 1.e+08 1.e+09 1.e+10]\n"
     ]
    }
   ],
   "source": [
    "arr = np.linspace(1,10,10)\n",
    "print(arr, end=\"\\n\\n\")\n",
    "\n",
    "#logspace의 경우 스타트 값부터 스탑 값까지 num개의 값을 가지는 밑이 base인 로그 값을 배열로 만들어 줌\n",
    "arr = np.logspace(1,10,10, base=2)\n",
    "print(arr)\n",
    "\n",
    "#logspace의 로그의 밑수인 base값을 설정하지 않는 경우 자동으로 상용로그(밑을 10으로 하는) 스케일로 된 배열을 생성 \n",
    "arr = np.logspace(1,10,10)\n",
    "print(arr)"
   ]
  },
  {
   "cell_type": "markdown",
   "id": "cbf7a5ce",
   "metadata": {},
   "source": [
    "# 난수로 N차원 배열 생성하기"
   ]
  },
  {
   "cell_type": "code",
   "execution_count": 2,
   "id": "8ea24bb9",
   "metadata": {},
   "outputs": [],
   "source": [
    "import matplotlib.pyplot as plt"
   ]
  },
  {
   "cell_type": "code",
   "execution_count": 3,
   "id": "f1e17659",
   "metadata": {},
   "outputs": [
    {
     "name": "stdout",
     "output_type": "stream",
     "text": [
      "[-0.078704    0.39152841 -0.15832039  1.0963209  -1.4157344   1.83133079\n",
      " -1.59332909 -0.39736465 -0.27431451 -1.06193162]\n"
     ]
    }
   ],
   "source": [
    "# np.random.normal은 정규분포의 평균(loc), 표준 편차(scale), 갯수(size)를 입력값으로 줘야 하는데\n",
    "# 입력시 입력된 값만큼 정규분포의 평균을 갖는, 입력한 값 만큼의 표준 편차를 가지는, 입력한 갯수 만큼의 값을 가지는 배열을 생성하게 됨.\n",
    "arr = np.random.normal(0,1,10) # 평균값이 0이고 표준 편차가 1인 10개의 난수가 생성 됨.\n",
    "print(arr)"
   ]
  },
  {
   "cell_type": "code",
   "execution_count": 10,
   "id": "7dea136f",
   "metadata": {},
   "outputs": [
    {
     "data": {
      "image/png": "[encoded data removed]",
      "text/plain": [
       "<Figure size 640x480 with 1 Axes>"
      ]
     },
     "metadata": {},
     "output_type": "display_data"
    }
   ],
   "source": [
    "arr = np.random.normal(10,3,20000)\n",
    "plt.hist(arr, bins=100)\n",
    "plt.show()"
   ]
  },
  {
   "cell_type": "code",
   "execution_count": 11,
   "id": "b23d5b36",
   "metadata": {},
   "outputs": [
    {
     "data": {
      "text/plain": [
       "array([ 7.22464461, 10.04419502,  7.02458896, ...,  9.72144661,\n",
       "       10.15248062, 13.25267384])"
      ]
     },
     "execution_count": 11,
     "metadata": {},
     "output_type": "execute_result"
    }
   ],
   "source": [
    "arr"
   ]
  },
  {
   "cell_type": "code",
   "execution_count": null,
   "id": "180fb460",
   "metadata": {},
   "outputs": [],
   "source": []
  }
 ],
 "metadata": {
  "kernelspec": {
   "display_name": "Python 3 (ipykernel)",
   "language": "python",
   "name": "python3"
  },
  "language_info": {
   "codemirror_mode": {
    "name": "ipython",
    "version": 3
   },
   "file_extension": ".py",
   "mimetype": "text/x-python",
   "name": "python",
   "nbconvert_exporter": "python",
   "pygments_lexer": "ipython3",
   "version": "3.9.13"
  }
 },
 "nbformat": 4,
 "nbformat_minor": 5
}
