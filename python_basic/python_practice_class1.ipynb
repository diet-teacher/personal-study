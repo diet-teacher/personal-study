{
 "cells": [
  {
   "cell_type": "code",
   "execution_count": 1,
   "id": "0e2a0756",
   "metadata": {},
   "outputs": [],
   "source": [
    "class Bicycle():\n",
    "    pass"
   ]
  },
  {
   "cell_type": "code",
   "execution_count": 2,
   "id": "29d8b4c5",
   "metadata": {},
   "outputs": [
    {
     "data": {
      "text/plain": [
       "<__main__.Bicycle at 0x7ff271c3c310>"
      ]
     },
     "execution_count": 2,
     "metadata": {},
     "output_type": "execute_result"
    }
   ],
   "source": [
    "my_bicycle = Bicycle()\n",
    "my_bicycle"
   ]
  },
  {
   "cell_type": "code",
   "execution_count": 3,
   "id": "cdc83a9e",
   "metadata": {},
   "outputs": [
    {
     "name": "stdout",
     "output_type": "stream",
     "text": [
      "바퀴 크기 : 32\n",
      "색 : red\n"
     ]
    }
   ],
   "source": [
    "my_bicycle.wheel_size = 32\n",
    "my_bicycle.color = 'red'\n",
    "print('바퀴 크기 :', my_bicycle.wheel_size)\n",
    "print('색 :', my_bicycle.color)"
   ]
  },
  {
   "cell_type": "code",
   "execution_count": 4,
   "id": "59a42738",
   "metadata": {},
   "outputs": [],
   "source": [
    "class Bicycle():\n",
    "    \n",
    "    def move(self, speed):\n",
    "        print('자전거 : 시속 {0}킬로미터로 전진'.format(speed))\n",
    "        \n",
    "    def turn(self, direction):\n",
    "        print('자전거 : turn {0}'.format(direction))\n",
    "    \n",
    "    def stop(self):\n",
    "        print('자전거({0},{1}): 정지'.format(self.wheel_size, self.color))"
   ]
  },
  {
   "cell_type": "code",
   "execution_count": 5,
   "id": "bebe988f",
   "metadata": {},
   "outputs": [
    {
     "name": "stdout",
     "output_type": "stream",
     "text": [
      "자전거 : 시속 30킬로미터로 전진\n",
      "자전거 : turn right\n",
      "자전거(32,red): 정지\n"
     ]
    },
    {
     "data": {
      "text/plain": [
       "<bound method Bicycle.stop of <__main__.Bicycle object at 0x7ff271c34dc0>>"
      ]
     },
     "execution_count": 5,
     "metadata": {},
     "output_type": "execute_result"
    }
   ],
   "source": [
    "my_bicycle = Bicycle() #Bicycle 클래스의 인스턴트인 my_bicycle 객체 생성\n",
    "\n",
    "my_bicycle.wheel_size = 32 #객체의 속성 설정\n",
    "my_bicycle.color = 'red'\n",
    "my_bicycle.type = 'MTB'\n",
    "\n",
    "my_bicycle.move(30) #객체의 메서드 호출\n",
    "my_bicycle.turn('right')\n",
    "my_bicycle.stop()\n",
    "my_bicycle.stop"
   ]
  },
  {
   "cell_type": "code",
   "execution_count": 7,
   "id": "362909ec",
   "metadata": {},
   "outputs": [
    {
     "name": "stdout",
     "output_type": "stream",
     "text": [
      "자전거 : 시속 30킬로미터로 전진\n",
      "자전거 : turn right\n"
     ]
    },
    {
     "ename": "AttributeError",
     "evalue": "'Bicycle' object has no attribute 'wheel_size'",
     "output_type": "error",
     "traceback": [
      "\u001b[0;31m---------------------------------------------------------------------------\u001b[0m",
      "\u001b[0;31mAttributeError\u001b[0m                            Traceback (most recent call last)",
      "\u001b[0;32m/var/folders/fl/lytw3yqx5913yh2tcxgw3d740000gn/T/ipykernel_5501/1720546754.py\u001b[0m in \u001b[0;36m<module>\u001b[0;34m\u001b[0m\n\u001b[1;32m      2\u001b[0m \u001b[0mbicycle1\u001b[0m\u001b[0;34m.\u001b[0m\u001b[0mmove\u001b[0m\u001b[0;34m(\u001b[0m\u001b[0;36m30\u001b[0m\u001b[0;34m)\u001b[0m \u001b[0;31m#객체의 메서드 호출\u001b[0m\u001b[0;34m\u001b[0m\u001b[0;34m\u001b[0m\u001b[0m\n\u001b[1;32m      3\u001b[0m \u001b[0mbicycle1\u001b[0m\u001b[0;34m.\u001b[0m\u001b[0mturn\u001b[0m\u001b[0;34m(\u001b[0m\u001b[0;34m'right'\u001b[0m\u001b[0;34m)\u001b[0m\u001b[0;34m\u001b[0m\u001b[0;34m\u001b[0m\u001b[0m\n\u001b[0;32m----> 4\u001b[0;31m \u001b[0mbicycle1\u001b[0m\u001b[0;34m.\u001b[0m\u001b[0mstop\u001b[0m\u001b[0;34m(\u001b[0m\u001b[0;34m)\u001b[0m\u001b[0;34m\u001b[0m\u001b[0;34m\u001b[0m\u001b[0m\n\u001b[0m",
      "\u001b[0;32m/var/folders/fl/lytw3yqx5913yh2tcxgw3d740000gn/T/ipykernel_5501/2932896227.py\u001b[0m in \u001b[0;36mstop\u001b[0;34m(self)\u001b[0m\n\u001b[1;32m      8\u001b[0m \u001b[0;34m\u001b[0m\u001b[0m\n\u001b[1;32m      9\u001b[0m     \u001b[0;32mdef\u001b[0m \u001b[0mstop\u001b[0m\u001b[0;34m(\u001b[0m\u001b[0mself\u001b[0m\u001b[0;34m)\u001b[0m\u001b[0;34m:\u001b[0m\u001b[0;34m\u001b[0m\u001b[0;34m\u001b[0m\u001b[0m\n\u001b[0;32m---> 10\u001b[0;31m         \u001b[0mprint\u001b[0m\u001b[0;34m(\u001b[0m\u001b[0;34m'자전거({0},{1}): 정지'\u001b[0m\u001b[0;34m.\u001b[0m\u001b[0mformat\u001b[0m\u001b[0;34m(\u001b[0m\u001b[0mself\u001b[0m\u001b[0;34m.\u001b[0m\u001b[0mwheel_size\u001b[0m\u001b[0;34m,\u001b[0m \u001b[0mself\u001b[0m\u001b[0;34m.\u001b[0m\u001b[0mcolor\u001b[0m\u001b[0;34m)\u001b[0m\u001b[0;34m)\u001b[0m\u001b[0;34m\u001b[0m\u001b[0;34m\u001b[0m\u001b[0m\n\u001b[0m",
      "\u001b[0;31mAttributeError\u001b[0m: 'Bicycle' object has no attribute 'wheel_size'"
     ]
    }
   ],
   "source": [
    "bicycle1 = Bicycle()\n",
    "bicycle1.move(30) #객체의 메서드 호출\n",
    "bicycle1.turn('right')\n",
    "bicycle1.stop()"
   ]
  },
  {
   "cell_type": "code",
   "execution_count": 8,
   "id": "4ffcb3f2",
   "metadata": {},
   "outputs": [],
   "source": [
    "# __init__()을 구현하면 객체를 생성함과 동시에 속성값을 설정 가능\n",
    "# 객체의 속성 예시 : my_bicycle.wheel_size = 32 ,my_bicycle.color = 'red'\n",
    "\n",
    "\n",
    "class Bicycle_with_init():\n",
    "    \n",
    "    def __init__(self, wheel_size, color):\n",
    "        self.wheel_size = wheel_size\n",
    "        self.color = color\n",
    "    \n",
    "    def move(self, speed):\n",
    "        print('자전거 : 시속 {0}킬로미터로 전진'.format(speed))\n",
    "        \n",
    "    def turn(self, direction):\n",
    "        print('자전거 : turn {0}'.format(direction))\n",
    "    \n",
    "    def stop(self):\n",
    "        print('자전거({0},{1}): 정지'.format(self.wheel_size, self.color))"
   ]
  },
  {
   "cell_type": "code",
   "execution_count": 9,
   "id": "4bdc3a08",
   "metadata": {},
   "outputs": [
    {
     "name": "stdout",
     "output_type": "stream",
     "text": [
      "자전거 : 시속 30킬로미터로 전진\n",
      "자전거 : turn right\n",
      "자전거(32,red): 정지\n"
     ]
    }
   ],
   "source": [
    "bicycle1 = Bicycle_with_init(32, 'red')\n",
    "my_bicycle.move(30)\n",
    "my_bicycle.turn('right')\n",
    "my_bicycle.stop()"
   ]
  },
  {
   "cell_type": "code",
   "execution_count": 10,
   "id": "5b592d65",
   "metadata": {},
   "outputs": [],
   "source": [
    "class Car():\n",
    "    \n",
    "    instance_count = 0 # 클래스 변수 생성 및 초기화\n",
    "    \n",
    "    def __init__(self, size, color):\n",
    "        self.size = size #인스턴스 변수 생성 및 초기화\n",
    "        self.color = color #인스턴스 변수 생성 및 초기화\n",
    "        Car.instance_count = Car.instance_count + 1 # 클래스 변수 이용\n",
    "        print('자동차 객체의 수 : {0}'.format(Car.instance_count))\n",
    "        \n",
    "    def move(self):\n",
    "        print('자동차({0} & {1})가 움직입니다.'.format(self.size, self.color))"
   ]
  },
  {
   "cell_type": "code",
   "execution_count": 11,
   "id": "968ec006",
   "metadata": {},
   "outputs": [
    {
     "name": "stdout",
     "output_type": "stream",
     "text": [
      "자동차 객체의 수 : 1\n",
      "자동차 객체의 수 : 2\n"
     ]
    }
   ],
   "source": [
    "car1 = Car('small', 'blue')\n",
    "car2 = Car('big', 'red')"
   ]
  },
  {
   "cell_type": "code",
   "execution_count": 12,
   "id": "cca35222",
   "metadata": {},
   "outputs": [
    {
     "name": "stdout",
     "output_type": "stream",
     "text": [
      "Car 클래스의 총 인스턴스 개수 : 2\n"
     ]
    }
   ],
   "source": [
    "print('Car 클래스의 총 인스턴스 개수 : {}'.format(Car.instance_count))"
   ]
  },
  {
   "cell_type": "code",
   "execution_count": 14,
   "id": "abc96a22",
   "metadata": {},
   "outputs": [
    {
     "name": "stdout",
     "output_type": "stream",
     "text": [
      "Car 클래스의 총 인스턴스 개수 : 2\n",
      "Car 클래스의 총 인스턴스 개수 : 2\n"
     ]
    }
   ],
   "source": [
    "print('Car 클래스의 총 인스턴스 개수 : {}'.format(car1.instance_count))\n",
    "print('Car 클래스의 총 인스턴스 개수 : {}'.format(car2.instance_count))"
   ]
  },
  {
   "cell_type": "code",
   "execution_count": 15,
   "id": "5432effb",
   "metadata": {},
   "outputs": [
    {
     "name": "stdout",
     "output_type": "stream",
     "text": [
      "자동차(small & blue)가 움직입니다.\n",
      "자동차(big & red)가 움직입니다.\n"
     ]
    }
   ],
   "source": [
    "car1.move()\n",
    "car2.move()"
   ]
  },
  {
   "cell_type": "code",
   "execution_count": null,
   "id": "026c3bae",
   "metadata": {},
   "outputs": [],
   "source": []
  }
 ],
 "metadata": {
  "kernelspec": {
   "display_name": "Python 3 (ipykernel)",
   "language": "python",
   "name": "python3"
  },
  "language_info": {
   "codemirror_mode": {
    "name": "ipython",
    "version": 3
   },
   "file_extension": ".py",
   "mimetype": "text/x-python",
   "name": "python",
   "nbconvert_exporter": "python",
   "pygments_lexer": "ipython3",
   "version": "3.9.13"
  }
 },
 "nbformat": 4,
 "nbformat_minor": 5
}
