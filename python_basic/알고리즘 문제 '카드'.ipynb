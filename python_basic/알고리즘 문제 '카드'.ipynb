{
 "cells": [
  {
   "cell_type": "markdown",
   "id": "b5fe66db",
   "metadata": {},
   "source": [
    "N장의 카드가 있다. 각각의 카드는 차례로 1부터 N까지의 번호가 붙어 있으며, 1번 카드가 제일 위에, N번 카드가 제일 아래인 상태로 순서대로 카드가 놓여 있다.\n",
    "\n",
    "이제 다음과 같은 동작을 카드가 한 장 남을 때까지 반복하게 된다. 우선, 제일 위에 있는 카드를 바닥에 버린다. 그 다음, 제일 위에 있는 카드를 제일 아래에 있는 카드 밑으로 옮긴다.\n",
    "\n",
    "예를 들어 N=4인 경우를 생각해 보자. 카드는 제일 위에서부터 1234 의 순서로 놓여있다. 1을 버리면 234가 남는다. 여기서 2를 제일 아래로 옮기면 342가 된다. 3을 버리면 42가 되고, 4를 밑으로 옮기면 24가 된다. 마지막으로 2를 버리고 나면, 남는 카드는 4가 된다.\n",
    "\n",
    "N이 주어졌을 때, 제일 마지막에 남게 되는 카드를 구하는 프로그램을 작성하시오."
   ]
  },
  {
   "cell_type": "code",
   "execution_count": null,
   "id": "8be3228b",
   "metadata": {},
   "outputs": [],
   "source": [
    "# 인풋으로 1~500000사이 숫자를 받는다.\n",
    "# 레인지만큼의 숫자를 리스트로 만든다.\n",
    "# pop(0)함수로 제일 앞에 있는 숫자를 꺼낸다.\n",
    "# pop(0)함수로 제일 앞에 있는 숫자를 꺼내고 그 수를 변수로 define해서 리스트에 append한다.\n",
    "# "
   ]
  },
  {
   "cell_type": "code",
   "execution_count": 23,
   "id": "0333c007",
   "metadata": {},
   "outputs": [],
   "source": [
    "#일단 함수로 출력시 오답이 된다. 후\n",
    "def solution(N):\n",
    "    if 1 <= N <= 500000:\n",
    "        cards = list(range(1, N+1))\n",
    "        while len(cards) != 1:\n",
    "            cards.pop(0)\n",
    "            bottom = cards.pop(0)\n",
    "            cards.append(bottom)\n",
    "    return cards\n",
    "    print(cards[0])"
   ]
  },
  {
   "cell_type": "code",
   "execution_count": 30,
   "id": "beb28856",
   "metadata": {},
   "outputs": [
    {
     "name": "stdout",
     "output_type": "stream",
     "text": [
      "1~500,000 사이 숫자 입력 :8\n",
      "8\n"
     ]
    }
   ],
   "source": [
    "# input 입력 후 pop(0)시 시간초과가 나온다. 후\n",
    "N = int(input('1~500,000 사이 숫자 입력 :'))\n",
    "if 1 <= N <= 500000:\n",
    "        cards = list(range(1, N+1))\n",
    "        while len(cards) != 1:\n",
    "            cards.pop(0)\n",
    "            bottom = cards.pop(0)\n",
    "            cards.append(bottom)\n",
    "print(cards[0])"
   ]
  },
  {
   "cell_type": "code",
   "execution_count": 44,
   "id": "7aa06ea0",
   "metadata": {},
   "outputs": [
    {
     "name": "stdout",
     "output_type": "stream",
     "text": [
      "6\n",
      "4\n"
     ]
    }
   ],
   "source": [
    "# deque로 작성시 정답이 나온다.\n",
    "from collections import deque\n",
    "N = int(input())\n",
    "cards = deque(range(1, N+1))\n",
    "while len(cards) != 1:\n",
    "    cards.popleft()\n",
    "    bottom = cards.popleft()\n",
    "    cards.append(bottom)\n",
    "print(cards[0])"
   ]
  },
  {
   "cell_type": "code",
   "execution_count": null,
   "id": "10bbc68b",
   "metadata": {},
   "outputs": [],
   "source": [
    "from collections import deque\n",
    "N = int(input())\n",
    "if 1 <= N <= 500000:\n",
    "        cards = list(range(1, N+1))\n",
    "        while len(cards) != 1:\n",
    "            cards.deque\n",
    "            bottom = cards.pop(0)\n",
    "            cards.append(bottom)\n",
    "print(cards[0])"
   ]
  },
  {
   "cell_type": "code",
   "execution_count": 37,
   "id": "a1df90a2",
   "metadata": {},
   "outputs": [
    {
     "name": "stdout",
     "output_type": "stream",
     "text": [
      "10\n",
      "4\n"
     ]
    }
   ],
   "source": [
    "from collections import deque\n",
    "\n",
    "N = int(input())\n",
    "\n",
    "cards = list(range(1, N+1))\n",
    "while len(cards) != 1:\n",
    "    cards.\n",
    "    bottom = cards.pop(0)\n",
    "    cards.append(bottom)\n",
    "print(cards[0])"
   ]
  },
  {
   "cell_type": "code",
   "execution_count": 31,
   "id": "ca6b9ce1",
   "metadata": {},
   "outputs": [
    {
     "name": "stdout",
     "output_type": "stream",
     "text": [
      "[3, 4, 5, 6, 7, 8, 2]\n",
      "[5, 6, 7, 8, 2, 4]\n",
      "[7, 8, 2, 4, 6]\n",
      "[2, 4, 6, 8]\n",
      "[6, 8, 4]\n",
      "[4, 8]\n",
      "[8]\n"
     ]
    }
   ],
   "source": [
    "l = list(range(1,9))\n",
    "while len(l) != 1:\n",
    "    l.pop(0)\n",
    "    b = l.pop(0)\n",
    "    l.append(b)\n",
    "    print(l)"
   ]
  },
  {
   "cell_type": "code",
   "execution_count": 5,
   "id": "c71616c5",
   "metadata": {},
   "outputs": [
    {
     "name": "stdout",
     "output_type": "stream",
     "text": [
      "[3, 4, 5, 6, 7, 8, 9, 2]\n"
     ]
    }
   ],
   "source": [
    "l = list(range(1,10))\n",
    "l.pop(0)\n",
    "b = l.pop(0)\n",
    "l.append(b)\n",
    "print(l)"
   ]
  },
  {
   "cell_type": "code",
   "execution_count": null,
   "id": "404c20d2",
   "metadata": {},
   "outputs": [],
   "source": [
    "from collections import deque\n",
    "N = int(input())\n",
    "cards = deque(range(1, N+1))\n",
    "while len(cards) != 1:\n",
    "    cards.popleft()\n",
    "    bottom = cards.popleft()\n",
    "    cards.append(bottom)\n",
    "print(cards[0])"
   ]
  }
 ],
 "metadata": {
  "kernelspec": {
   "display_name": "Python 3 (ipykernel)",
   "language": "python",
   "name": "python3"
  },
  "language_info": {
   "codemirror_mode": {
    "name": "ipython",
    "version": 3
   },
   "file_extension": ".py",
   "mimetype": "text/x-python",
   "name": "python",
   "nbconvert_exporter": "python",
   "pygments_lexer": "ipython3",
   "version": "3.9.12"
  }
 },
 "nbformat": 4,
 "nbformat_minor": 5
}
