{
 "cells": [
  {
   "cell_type": "markdown",
   "id": "8cd7c72a",
   "metadata": {},
   "source": [
    "# 문제\n",
    "\n",
    "괄호 문자열(Parenthesis String, PS)은 두 개의 괄호 기호인 ‘(’ 와 ‘)’ 만으로 \n",
    "구성되어 있는 문자열이다. 그 중에서 괄호의 모양이 바르게 구성된 문자열을 올바른 괄호 \n",
    "문자열(Valid PS, VPS)이라고 부른다. 한 쌍의 괄호 기호로 된 “( )” 문자열은 기본 \n",
    "VPS 이라고 부른다. 만일 x 가 VPS 라면 이것을 하나의 괄호에 넣은 새로운 문자열 \n",
    "“(x)”도 VPS 가 된다. 그리고 두 VPS x 와 y를 접합(concatenation)시킨 새로운 \n",
    "문자열 xy도 VPS 가 된다. 예를 들어 “(())()”와 “((()))” 는 VPS 이지만 \n",
    "“(()(”, “(())()))” , 그리고 “(()” 는 모두 VPS 가 아닌 문자열이다.\n",
    "여러분은 입력으로 주어진 괄호 문자열이 VPS 인지 아닌지를 판단해서 그 결과를 YES와 \n",
    "NO 로 나타내어야 한다.\n",
    "\n",
    "\n",
    "입력\n",
    "\n",
    "\n",
    "입력 데이터는 표준 입력을 사용한다. 입력은 T개의 테스트 데이터로 주어진다. 입력의 첫 번째 줄에는 입력 데이터의 수를 나타내는 정수 T가 주어진다. 각 테스트 데이터의 첫째 줄에는 괄호 문자열이 한 줄에 주어진다. 하나의 괄호 문자열의 길이는 2 이상 50 이하이다.\n",
    "\n",
    "\n",
    "출력\n",
    "\n",
    "\n",
    "출력은 표준 출력을 사용한다. 만일 입력 괄호 문자열이 올바른 괄호 문자열(VPS)이면 “YES”, 아니면 “NO”를 한 줄에 하나씩 차례대로 출력해야 한다.\n",
    "\n",
    "\n",
    "예제 입력 1\n",
    "\n",
    "\n",
    "(())()) \n",
    "(((()())() \n",
    "(()())((())) \n",
    "((()()(()))(((())))() \n",
    "()()()()(()()())() \n",
    "(()((())()(\n",
    "\n",
    "\n",
    "예제 출력 1\n",
    "\n",
    "\n",
    "NO NO YES NO YES NO\n",
    "\n",
    "\n",
    "예제 입력 2\n",
    "\n",
    "\n",
    "(( \n",
    ")) \n",
    "())(()\n",
    "\n",
    "\n",
    "예제 출력 2\n",
    "\n",
    "\n",
    "NO \n",
    "NO \n",
    "NO"
   ]
  },
  {
   "cell_type": "markdown",
   "id": "8db4d7bd",
   "metadata": {},
   "source": [
    "# 해야 할 일\n",
    "\n",
    " - 괄호문자열 c에서 가장 앞에 있는 괄호부터 차례로 하나씩 뽑는다.\n",
    " - 뽑은 괄호들 중 '(' 괄호를 리스트 ans에 차례대로 저장한다.\n",
    " - 뽑은 괄호가 ')'이면 그 전에 뽑은 괄호를 확인한다.\n",
    " - 전에 뽑은 괄호가 '('이면 전에 뽑은 그 '(' 괄호를 삭제한다.\n",
    " - 과정은 완료했을 때 남은 괄호가 없다면 yes출력\n",
    " - 괄호가 남았다면 no 출력"
   ]
  },
  {
   "cell_type": "code",
   "execution_count": 2,
   "id": "3a372610",
   "metadata": {},
   "outputs": [
    {
     "name": "stdout",
     "output_type": "stream",
     "text": [
      "(())())\n",
      "no\n",
      "(((()())()\n",
      "no\n",
      "(()())((()))\n",
      "yes\n"
     ]
    },
    {
     "ename": "KeyboardInterrupt",
     "evalue": "Interrupted by user",
     "output_type": "error",
     "traceback": [
      "\u001b[0;31m---------------------------------------------------------------------------\u001b[0m",
      "\u001b[0;31mKeyboardInterrupt\u001b[0m                         Traceback (most recent call last)",
      "Input \u001b[0;32mIn [2]\u001b[0m, in \u001b[0;36m<cell line: 4>\u001b[0;34m()\u001b[0m\n\u001b[1;32m      3\u001b[0m \u001b[38;5;28;01mwhile\u001b[39;00m \u001b[38;5;28;01mTrue\u001b[39;00m:                            \u001b[38;5;66;03m# 괄호 문자열을 반복해서 입력받기 위해 while True로 계속해서 반복한다.\u001b[39;00m\n\u001b[1;32m      4\u001b[0m     ans \u001b[38;5;241m=\u001b[39m []                           \u001b[38;5;66;03m# 입력받은 문자열의 앞에서부터 괄호를 하나씩 받을 리스트 ans를 생성한다.\u001b[39;00m\n\u001b[0;32m----> 5\u001b[0m     c \u001b[38;5;241m=\u001b[39m \u001b[38;5;28;43minput\u001b[39;49m\u001b[43m(\u001b[49m\u001b[43m)\u001b[49m                        \u001b[38;5;66;03m# 괄호문자열이 VPS인지 판단하기 위해 문자열을 입력받을 c를 생성한다.\u001b[39;00m\n\u001b[1;32m      6\u001b[0m     \u001b[38;5;28;01mtry\u001b[39;00m:                               \u001b[38;5;66;03m# try를 한 이유는 잠시 뒤 설명하겠다.\u001b[39;00m\n\u001b[1;32m      7\u001b[0m         \u001b[38;5;28;01mfor\u001b[39;00m i \u001b[38;5;129;01min\u001b[39;00m c:                    \u001b[38;5;66;03m# 입력받은 문자열 c의 괄호의 갯수 만큼 순차적으로 괄호를 비교하기 위한 for를 사용한다.\u001b[39;00m\n",
      "File \u001b[0;32m/opt/anaconda3/lib/python3.9/site-packages/ipykernel/kernelbase.py:1075\u001b[0m, in \u001b[0;36mKernel.raw_input\u001b[0;34m(self, prompt)\u001b[0m\n\u001b[1;32m   1071\u001b[0m \u001b[38;5;28;01mif\u001b[39;00m \u001b[38;5;129;01mnot\u001b[39;00m \u001b[38;5;28mself\u001b[39m\u001b[38;5;241m.\u001b[39m_allow_stdin:\n\u001b[1;32m   1072\u001b[0m     \u001b[38;5;28;01mraise\u001b[39;00m StdinNotImplementedError(\n\u001b[1;32m   1073\u001b[0m         \u001b[38;5;124m\"\u001b[39m\u001b[38;5;124mraw_input was called, but this frontend does not support input requests.\u001b[39m\u001b[38;5;124m\"\u001b[39m\n\u001b[1;32m   1074\u001b[0m     )\n\u001b[0;32m-> 1075\u001b[0m \u001b[38;5;28;01mreturn\u001b[39;00m \u001b[38;5;28;43mself\u001b[39;49m\u001b[38;5;241;43m.\u001b[39;49m\u001b[43m_input_request\u001b[49m\u001b[43m(\u001b[49m\n\u001b[1;32m   1076\u001b[0m \u001b[43m    \u001b[49m\u001b[38;5;28;43mstr\u001b[39;49m\u001b[43m(\u001b[49m\u001b[43mprompt\u001b[49m\u001b[43m)\u001b[49m\u001b[43m,\u001b[49m\n\u001b[1;32m   1077\u001b[0m \u001b[43m    \u001b[49m\u001b[38;5;28;43mself\u001b[39;49m\u001b[38;5;241;43m.\u001b[39;49m\u001b[43m_parent_ident\u001b[49m\u001b[43m[\u001b[49m\u001b[38;5;124;43m\"\u001b[39;49m\u001b[38;5;124;43mshell\u001b[39;49m\u001b[38;5;124;43m\"\u001b[39;49m\u001b[43m]\u001b[49m\u001b[43m,\u001b[49m\n\u001b[1;32m   1078\u001b[0m \u001b[43m    \u001b[49m\u001b[38;5;28;43mself\u001b[39;49m\u001b[38;5;241;43m.\u001b[39;49m\u001b[43mget_parent\u001b[49m\u001b[43m(\u001b[49m\u001b[38;5;124;43m\"\u001b[39;49m\u001b[38;5;124;43mshell\u001b[39;49m\u001b[38;5;124;43m\"\u001b[39;49m\u001b[43m)\u001b[49m\u001b[43m,\u001b[49m\n\u001b[1;32m   1079\u001b[0m \u001b[43m    \u001b[49m\u001b[43mpassword\u001b[49m\u001b[38;5;241;43m=\u001b[39;49m\u001b[38;5;28;43;01mFalse\u001b[39;49;00m\u001b[43m,\u001b[49m\n\u001b[1;32m   1080\u001b[0m \u001b[43m\u001b[49m\u001b[43m)\u001b[49m\n",
      "File \u001b[0;32m/opt/anaconda3/lib/python3.9/site-packages/ipykernel/kernelbase.py:1120\u001b[0m, in \u001b[0;36mKernel._input_request\u001b[0;34m(self, prompt, ident, parent, password)\u001b[0m\n\u001b[1;32m   1117\u001b[0m             \u001b[38;5;28;01mbreak\u001b[39;00m\n\u001b[1;32m   1118\u001b[0m \u001b[38;5;28;01mexcept\u001b[39;00m \u001b[38;5;167;01mKeyboardInterrupt\u001b[39;00m:\n\u001b[1;32m   1119\u001b[0m     \u001b[38;5;66;03m# re-raise KeyboardInterrupt, to truncate traceback\u001b[39;00m\n\u001b[0;32m-> 1120\u001b[0m     \u001b[38;5;28;01mraise\u001b[39;00m \u001b[38;5;167;01mKeyboardInterrupt\u001b[39;00m(\u001b[38;5;124m\"\u001b[39m\u001b[38;5;124mInterrupted by user\u001b[39m\u001b[38;5;124m\"\u001b[39m) \u001b[38;5;28;01mfrom\u001b[39;00m \u001b[38;5;28mNone\u001b[39m\n\u001b[1;32m   1121\u001b[0m \u001b[38;5;28;01mexcept\u001b[39;00m \u001b[38;5;167;01mException\u001b[39;00m:\n\u001b[1;32m   1122\u001b[0m     \u001b[38;5;28mself\u001b[39m\u001b[38;5;241m.\u001b[39mlog\u001b[38;5;241m.\u001b[39mwarning(\u001b[38;5;124m\"\u001b[39m\u001b[38;5;124mInvalid Message:\u001b[39m\u001b[38;5;124m\"\u001b[39m, exc_info\u001b[38;5;241m=\u001b[39m\u001b[38;5;28;01mTrue\u001b[39;00m)\n",
      "\u001b[0;31mKeyboardInterrupt\u001b[0m: Interrupted by user"
     ]
    }
   ],
   "source": [
    "# 내 풀이\n",
    "\n",
    "while True:                            # 괄호 문자열을 반복해서 입력받기 위해 while True로 계속해서 반복한다.\n",
    "    ans = []                           # 입력받은 문자열의 앞에서부터 괄호를 하나씩 받을 리스트 ans를 생성한다.\n",
    "    c = input()                        # 괄호문자열이 VPS인지 판단하기 위해 문자열을 입력받을 c를 생성한다.\n",
    "    try:                               # try를 한 이유는 잠시 뒤 설명하겠다.\n",
    "        for i in c:                    # 입력받은 문자열 c의 괄호의 갯수 만큼 순차적으로 괄호를 비교하기 위한 for를 사용한다.\n",
    "            if i == '(':               # 만약 입력 받은 괄호가 '('라면 진행 할 일\n",
    "                ans.append(i)          # 리스트 ans에 입력받은 '('괄호를 집어 넣는다.\n",
    "            else:                      # 입력 받을 괄호가 ')'이면 진행 할 일\n",
    "                if ans[-1] == '(':     # 만약 입력받은 괄호')' 이전에 입력 받은 괄호가 '(' 라면 \n",
    "                    ans.pop()          # 전에 입력받은 괄호 '('를 삭제한다.\n",
    "        if ans == []:                  # 만약 ans에 남아 있는 괄호가 없다면 입력받은 괄호문자열 c는 VPS라고 판단할 수 있다.\n",
    "            print('yes')               # c는 VPS이므로 'yes'를 출력한다.\n",
    "        else:                          # 만약 ans에 괄호가 하나라도 남아있다면 괄호문자열 c는 VPS가 아니라고 판단 할 수 있다.\n",
    "            print('no')                # c는 VPS가 아니므로 'no'를 출력한다.\n",
    "    except:                            # 리스트 ans에 삭제할 괄호가 존재하지 않는데 ')'가 나왔다면 pop시 에러가 발생하게 된다.\n",
    "        print('no')                    # VPS는 절대로 ')'괄호로 시작 할 수 없는데 ')'이 나왔다면 이 경우는 항상 VPS가 아니므로 'no'를 출력한다."
   ]
  },
  {
   "cell_type": "code",
   "execution_count": 4,
   "id": "5e365603",
   "metadata": {},
   "outputs": [
    {
     "name": "stdout",
     "output_type": "stream",
     "text": [
      "(())())\n",
      "no\n",
      "(((()())()\n",
      "no\n",
      "(()())((()))\n",
      "yes\n"
     ]
    },
    {
     "ename": "KeyboardInterrupt",
     "evalue": "Interrupted by user",
     "output_type": "error",
     "traceback": [
      "\u001b[0;31m---------------------------------------------------------------------------\u001b[0m",
      "\u001b[0;31mKeyboardInterrupt\u001b[0m                         Traceback (most recent call last)",
      "Input \u001b[0;32mIn [4]\u001b[0m, in \u001b[0;36m<cell line: 2>\u001b[0;34m()\u001b[0m\n\u001b[1;32m      1\u001b[0m \u001b[38;5;28;01mwhile\u001b[39;00m \u001b[38;5;28;01mTrue\u001b[39;00m:\n\u001b[1;32m      2\u001b[0m     ans \u001b[38;5;241m=\u001b[39m []\n\u001b[0;32m----> 3\u001b[0m     c \u001b[38;5;241m=\u001b[39m \u001b[38;5;28;43minput\u001b[39;49m\u001b[43m(\u001b[49m\u001b[43m)\u001b[49m\n\u001b[1;32m      4\u001b[0m     \u001b[38;5;28;01mtry\u001b[39;00m:\n\u001b[1;32m      5\u001b[0m         \u001b[38;5;28;01mfor\u001b[39;00m i \u001b[38;5;129;01min\u001b[39;00m c:\n",
      "File \u001b[0;32m/opt/anaconda3/lib/python3.9/site-packages/ipykernel/kernelbase.py:1075\u001b[0m, in \u001b[0;36mKernel.raw_input\u001b[0;34m(self, prompt)\u001b[0m\n\u001b[1;32m   1071\u001b[0m \u001b[38;5;28;01mif\u001b[39;00m \u001b[38;5;129;01mnot\u001b[39;00m \u001b[38;5;28mself\u001b[39m\u001b[38;5;241m.\u001b[39m_allow_stdin:\n\u001b[1;32m   1072\u001b[0m     \u001b[38;5;28;01mraise\u001b[39;00m StdinNotImplementedError(\n\u001b[1;32m   1073\u001b[0m         \u001b[38;5;124m\"\u001b[39m\u001b[38;5;124mraw_input was called, but this frontend does not support input requests.\u001b[39m\u001b[38;5;124m\"\u001b[39m\n\u001b[1;32m   1074\u001b[0m     )\n\u001b[0;32m-> 1075\u001b[0m \u001b[38;5;28;01mreturn\u001b[39;00m \u001b[38;5;28;43mself\u001b[39;49m\u001b[38;5;241;43m.\u001b[39;49m\u001b[43m_input_request\u001b[49m\u001b[43m(\u001b[49m\n\u001b[1;32m   1076\u001b[0m \u001b[43m    \u001b[49m\u001b[38;5;28;43mstr\u001b[39;49m\u001b[43m(\u001b[49m\u001b[43mprompt\u001b[49m\u001b[43m)\u001b[49m\u001b[43m,\u001b[49m\n\u001b[1;32m   1077\u001b[0m \u001b[43m    \u001b[49m\u001b[38;5;28;43mself\u001b[39;49m\u001b[38;5;241;43m.\u001b[39;49m\u001b[43m_parent_ident\u001b[49m\u001b[43m[\u001b[49m\u001b[38;5;124;43m\"\u001b[39;49m\u001b[38;5;124;43mshell\u001b[39;49m\u001b[38;5;124;43m\"\u001b[39;49m\u001b[43m]\u001b[49m\u001b[43m,\u001b[49m\n\u001b[1;32m   1078\u001b[0m \u001b[43m    \u001b[49m\u001b[38;5;28;43mself\u001b[39;49m\u001b[38;5;241;43m.\u001b[39;49m\u001b[43mget_parent\u001b[49m\u001b[43m(\u001b[49m\u001b[38;5;124;43m\"\u001b[39;49m\u001b[38;5;124;43mshell\u001b[39;49m\u001b[38;5;124;43m\"\u001b[39;49m\u001b[43m)\u001b[49m\u001b[43m,\u001b[49m\n\u001b[1;32m   1079\u001b[0m \u001b[43m    \u001b[49m\u001b[43mpassword\u001b[49m\u001b[38;5;241;43m=\u001b[39;49m\u001b[38;5;28;43;01mFalse\u001b[39;49;00m\u001b[43m,\u001b[49m\n\u001b[1;32m   1080\u001b[0m \u001b[43m\u001b[49m\u001b[43m)\u001b[49m\n",
      "File \u001b[0;32m/opt/anaconda3/lib/python3.9/site-packages/ipykernel/kernelbase.py:1120\u001b[0m, in \u001b[0;36mKernel._input_request\u001b[0;34m(self, prompt, ident, parent, password)\u001b[0m\n\u001b[1;32m   1117\u001b[0m             \u001b[38;5;28;01mbreak\u001b[39;00m\n\u001b[1;32m   1118\u001b[0m \u001b[38;5;28;01mexcept\u001b[39;00m \u001b[38;5;167;01mKeyboardInterrupt\u001b[39;00m:\n\u001b[1;32m   1119\u001b[0m     \u001b[38;5;66;03m# re-raise KeyboardInterrupt, to truncate traceback\u001b[39;00m\n\u001b[0;32m-> 1120\u001b[0m     \u001b[38;5;28;01mraise\u001b[39;00m \u001b[38;5;167;01mKeyboardInterrupt\u001b[39;00m(\u001b[38;5;124m\"\u001b[39m\u001b[38;5;124mInterrupted by user\u001b[39m\u001b[38;5;124m\"\u001b[39m) \u001b[38;5;28;01mfrom\u001b[39;00m \u001b[38;5;28mNone\u001b[39m\n\u001b[1;32m   1121\u001b[0m \u001b[38;5;28;01mexcept\u001b[39;00m \u001b[38;5;167;01mException\u001b[39;00m:\n\u001b[1;32m   1122\u001b[0m     \u001b[38;5;28mself\u001b[39m\u001b[38;5;241m.\u001b[39mlog\u001b[38;5;241m.\u001b[39mwarning(\u001b[38;5;124m\"\u001b[39m\u001b[38;5;124mInvalid Message:\u001b[39m\u001b[38;5;124m\"\u001b[39m, exc_info\u001b[38;5;241m=\u001b[39m\u001b[38;5;28;01mTrue\u001b[39;00m)\n",
      "\u001b[0;31mKeyboardInterrupt\u001b[0m: Interrupted by user"
     ]
    }
   ],
   "source": [
    "while True:\n",
    "    ans = []\n",
    "    c = input()\n",
    "    try:\n",
    "        for i in c:\n",
    "            if i == '(':\n",
    "                ans.append(i)\n",
    "            else:\n",
    "                if ans[-1] == '(':\n",
    "                    ans.pop()\n",
    "        if ans == []:\n",
    "            print('yes')\n",
    "        else:\n",
    "            print('no')\n",
    "    except:\n",
    "        print('no')"
   ]
  },
  {
   "cell_type": "code",
   "execution_count": 14,
   "id": "57994c74",
   "metadata": {},
   "outputs": [],
   "source": [
    "def solution(c):\n",
    "    ls = []\n",
    "    answer = ''\n",
    "    try:\n",
    "        for i in c:\n",
    "            if i == '(':\n",
    "                ls.append(i)\n",
    "            else:\n",
    "                if ls[-1] == '(':\n",
    "                    ls.pop()\n",
    "        if ls == []:\n",
    "            answer = 'yes'\n",
    "        else:\n",
    "            answer = 'no'\n",
    "    except:\n",
    "        answer = 'no'\n",
    "    return answer"
   ]
  },
  {
   "cell_type": "code",
   "execution_count": 15,
   "id": "c7b0a1b0",
   "metadata": {},
   "outputs": [
    {
     "name": "stdout",
     "output_type": "stream",
     "text": [
      "6\n",
      "(()())((()))\n",
      "yes\n",
      "(())())\n",
      "no\n",
      "(()())((()))\n",
      "yes\n",
      "((()()(()))(((())))()\n",
      "no\n",
      "()()()()(()()())()\n",
      "yes\n",
      "(()((())()(\n",
      "no\n"
     ]
    }
   ],
   "source": [
    "for i in range(int(input())):\n",
    "    print(solution(input()))"
   ]
  },
  {
   "cell_type": "code",
   "execution_count": 26,
   "id": "70db8916",
   "metadata": {},
   "outputs": [
    {
     "name": "stdout",
     "output_type": "stream",
     "text": [
      "1\n",
      ")))))))))))))))))))))))))))))))))))))))))))))))))))))))))))))))))))))))))))))\n",
      "None\n"
     ]
    }
   ],
   "source": [
    "def solution(c):\n",
    "    ls = []\n",
    "    answer = ''\n",
    "    if 2 <= len(c) <= 50:\n",
    "        try:\n",
    "            for i in c:\n",
    "                if i == '(':\n",
    "                    ls.append(i)\n",
    "                elif i == ')':\n",
    "                    if ls[-1] == '(':\n",
    "                        ls.pop()\n",
    "            if ls == []:\n",
    "                answer = 'yes'\n",
    "            else:\n",
    "                answer = 'no'\n",
    "        except:\n",
    "            answer = 'no'\n",
    "        return answer\n",
    "\n",
    "for i in range(int(input())):\n",
    "    print(solution(input()))"
   ]
  },
  {
   "cell_type": "code",
   "execution_count": null,
   "id": "5e9d9028",
   "metadata": {},
   "outputs": [],
   "source": [
    "def solution(c):\n",
    "    ls = []\n",
    "    answer = ''\n",
    "    if 2 <= len(c) <= 50:\n",
    "        try:\n",
    "            for i in c:\n",
    "                if i == '(':\n",
    "                    ls.append(i)\n",
    "                elif i == ')':\n",
    "                    if ls[-1] == '(':\n",
    "                        ls.pop()\n",
    "            if ls == []:\n",
    "                answer = 'yes'\n",
    "            else:\n",
    "                answer = 'no'\n",
    "        except:\n",
    "            answer = 'no'\n",
    "        return answer\n",
    "\n",
    "for i in range(int(input())):\n",
    "    print(solution(input()))"
   ]
  },
  {
   "cell_type": "code",
   "execution_count": null,
   "id": "df3abcb0",
   "metadata": {},
   "outputs": [],
   "source": [
    "ls = []\n",
    "answer = ''\n",
    "if 2 <= len(c) <= 50:\n",
    "    try:\n",
    "        for i in c:\n",
    "            if i == '(':\n",
    "                ls.append(i)\n",
    "            elif i == ')':\n",
    "                if ls[-1] == '(':\n",
    "                    ls.pop()\n",
    "        if ls == []:\n",
    "            answer = 'yes'\n",
    "        else:\n",
    "            answer = 'no'\n",
    "    except:\n",
    "        answer = 'no'\n",
    "    return answer"
   ]
  },
  {
   "cell_type": "code",
   "execution_count": 2,
   "id": "818abf28",
   "metadata": {},
   "outputs": [
    {
     "name": "stdout",
     "output_type": "stream",
     "text": [
      "6\n",
      "(())())\n",
      "no\n",
      "(((()())()\n",
      "no\n",
      "(()())((()))\n",
      "yes\n",
      "((()()(()))(((())))()\n",
      "no\n",
      "()()()()(()()())()\n",
      "yes\n",
      "(()((())()(\n",
      "no\n"
     ]
    }
   ],
   "source": [
    "t = int(input())\n",
    "for k in range(t):\n",
    "    ans = []\n",
    "    c = input()\n",
    "    try:\n",
    "        for i in c:\n",
    "            if i == '(':\n",
    "                ans.append(i)\n",
    "            else:\n",
    "                if ans[-1] == '(':\n",
    "                    ans.pop()\n",
    "        if ans == []:\n",
    "            print('yes')\n",
    "        else:\n",
    "            print('no')\n",
    "    except:\n",
    "        print('no')"
   ]
  },
  {
   "cell_type": "code",
   "execution_count": null,
   "id": "5786588e",
   "metadata": {},
   "outputs": [],
   "source": []
  }
 ],
 "metadata": {
  "kernelspec": {
   "display_name": "Python 3 (ipykernel)",
   "language": "python",
   "name": "python3"
  },
  "language_info": {
   "codemirror_mode": {
    "name": "ipython",
    "version": 3
   },
   "file_extension": ".py",
   "mimetype": "text/x-python",
   "name": "python",
   "nbconvert_exporter": "python",
   "pygments_lexer": "ipython3",
   "version": "3.9.12"
  }
 },
 "nbformat": 4,
 "nbformat_minor": 5
}
