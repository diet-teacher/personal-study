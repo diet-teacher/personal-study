{
 "cells": [
  {
   "cell_type": "code",
   "execution_count": 8,
   "id": "8ae894b4",
   "metadata": {},
   "outputs": [
    {
     "data": {
      "text/plain": [
       "str"
      ]
     },
     "execution_count": 8,
     "metadata": {},
     "output_type": "execute_result"
    }
   ],
   "source": [
    "li = ('sdfshdf,sduhsdihf,sdlifjsiof,sdflihsh,sdlfish')\n",
    "type(li)"
   ]
  },
  {
   "cell_type": "code",
   "execution_count": 12,
   "id": "bd14961f",
   "metadata": {},
   "outputs": [
    {
     "name": "stdout",
     "output_type": "stream",
     "text": [
      "['sdfshdf', 'sduhsdihf', 'sdlifjsiof', 'sdflihsh', 'sdlfish']\n"
     ]
    }
   ],
   "source": [
    "sp = li.split(',')\n",
    "print(sp)"
   ]
  },
  {
   "cell_type": "code",
   "execution_count": 13,
   "id": "d7b28d78",
   "metadata": {},
   "outputs": [
    {
     "data": {
      "text/plain": [
       "list"
      ]
     },
     "execution_count": 13,
     "metadata": {},
     "output_type": "execute_result"
    }
   ],
   "source": [
    "type(sp)"
   ]
  },
  {
   "cell_type": "code",
   "execution_count": 39,
   "id": "bb88c4c1",
   "metadata": {},
   "outputs": [
    {
     "name": "stdout",
     "output_type": "stream",
     "text": [
      "['sd', 'shd', '']\n",
      "['sduhsdih', '']\n",
      "['sdli', 'jsio', '']\n",
      "['sd', 'lihsh']\n",
      "['sdl', 'ish']\n",
      "['s']\n"
     ]
    },
    {
     "ename": "IndexError",
     "evalue": "list index out of range",
     "output_type": "error",
     "traceback": [
      "\u001b[0;31m---------------------------------------------------------------------------\u001b[0m",
      "\u001b[0;31mIndexError\u001b[0m                                Traceback (most recent call last)",
      "Input \u001b[0;32mIn [39]\u001b[0m, in \u001b[0;36m<cell line: 10>\u001b[0;34m()\u001b[0m\n\u001b[1;32m      8\u001b[0m \u001b[38;5;66;03m#nl.append(new[2])\u001b[39;00m\n\u001b[1;32m      9\u001b[0m \u001b[38;5;28mprint\u001b[39m(nl)\n\u001b[0;32m---> 10\u001b[0m \u001b[38;5;28mprint\u001b[39m(\u001b[43mnew\u001b[49m\u001b[43m[\u001b[49m\u001b[38;5;241;43m2\u001b[39;49m\u001b[43m]\u001b[49m)\n",
      "\u001b[0;31mIndexError\u001b[0m: list index out of range"
     ]
    }
   ],
   "source": [
    "nl=[]\n",
    "count = 0\n",
    "for i in sp:\n",
    "    new = i.split('f')\n",
    "    print(new)\n",
    "nl.append(new[0][0])\n",
    "\n",
    "#nl.append(new[2])\n",
    "print(nl)\n",
    "print(new[2])"
   ]
  },
  {
   "cell_type": "code",
   "execution_count": null,
   "id": "b055a3b9",
   "metadata": {},
   "outputs": [],
   "source": [
    "\n"
   ]
  },
  {
   "cell_type": "code",
   "execution_count": null,
   "id": "8f363727",
   "metadata": {},
   "outputs": [],
   "source": []
  }
 ],
 "metadata": {
  "kernelspec": {
   "display_name": "Python 3 (ipykernel)",
   "language": "python",
   "name": "python3"
  },
  "language_info": {
   "codemirror_mode": {
    "name": "ipython",
    "version": 3
   },
   "file_extension": ".py",
   "mimetype": "text/x-python",
   "name": "python",
   "nbconvert_exporter": "python",
   "pygments_lexer": "ipython3",
   "version": "3.9.12"
  }
 },
 "nbformat": 4,
 "nbformat_minor": 5
}
