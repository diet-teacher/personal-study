{
 "cells": [
  {
   "cell_type": "code",
   "execution_count": 51,
   "id": "ca04864d",
   "metadata": {},
   "outputs": [],
   "source": [
    "import numpy as np"
   ]
  },
  {
   "cell_type": "code",
   "execution_count": 7,
   "id": "25a4e551",
   "metadata": {},
   "outputs": [],
   "source": [
    "seat = np.zeros(9,int).reshape(3,3)"
   ]
  },
  {
   "cell_type": "code",
   "execution_count": null,
   "id": "40e32c1c",
   "metadata": {},
   "outputs": [],
   "source": []
  },
  {
   "cell_type": "code",
   "execution_count": 17,
   "id": "ee52a347",
   "metadata": {},
   "outputs": [
    {
     "name": "stdout",
     "output_type": "stream",
     "text": [
      "행 입력1\n",
      "열 입력1\n",
      "좌석이 예약 되었습니다.\n",
      "\n",
      "◼︎◻︎◻︎\n",
      "◻︎◻︎◻︎\n",
      "◻︎◻︎◻︎행 입력1\n",
      "열 입력3\n",
      "좌석이 예약 되었습니다.\n",
      "\n",
      "◼︎◻︎◼︎\n",
      "◻︎◻︎◻︎\n",
      "◻︎◻︎◻︎행 입력1\n",
      "열 입력2\n",
      "좌석이 예약 되었습니다.\n",
      "\n",
      "◼︎◼︎◼︎\n",
      "◻︎◻︎◻︎\n",
      "◻︎◻︎◻︎행 입력2\n",
      "열 입력3\n",
      "좌석이 예약 되었습니다.\n",
      "\n",
      "◼︎◼︎◼︎\n",
      "◻︎◻︎◼︎\n",
      "◻︎◻︎◻︎행 입력2\n",
      "열 입력1\n",
      "좌석이 예약 되었습니다.\n",
      "\n",
      "◼︎◼︎◼︎\n",
      "◼︎◻︎◼︎\n",
      "◻︎◻︎◻︎행 입력3\n",
      "열 입력2\n",
      "좌석이 예약 되었습니다.\n",
      "\n",
      "◼︎◼︎◼︎\n",
      "◼︎◻︎◼︎\n",
      "◻︎◼︎◻︎행 입력3\n",
      "열 입력3\n",
      "좌석이 예약 되었습니다.\n",
      "\n",
      "◼︎◼︎◼︎\n",
      "◼︎◻︎◼︎\n",
      "◻︎◼︎◼︎행 입력3\n",
      "열 입력3\n",
      "이미 예약 되어 있는 좌석입니다.\n",
      "\n",
      "◼︎◼︎◼︎\n",
      "◼︎◻︎◼︎\n",
      "◻︎◼︎◼︎행 입력3\n",
      "열 입력1\n",
      "좌석이 예약 되었습니다.\n",
      "\n",
      "◼︎◼︎◼︎\n",
      "◼︎◻︎◼︎\n",
      "◼︎◼︎◼︎행 입력2\n",
      "열 입력2\n",
      "좌석이 예약 되었습니다.\n",
      "\n",
      "◼︎◼︎◼︎\n",
      "◼︎◼︎◼︎\n",
      "◼︎◼︎◼︎"
     ]
    },
    {
     "ename": "KeyboardInterrupt",
     "evalue": "Interrupted by user",
     "output_type": "error",
     "traceback": [
      "\u001b[0;31m---------------------------------------------------------------------------\u001b[0m",
      "\u001b[0;31mKeyboardInterrupt\u001b[0m                         Traceback (most recent call last)",
      "Input \u001b[0;32mIn [17]\u001b[0m, in \u001b[0;36m<cell line: 4>\u001b[0;34m()\u001b[0m\n\u001b[1;32m      1\u001b[0m seat \u001b[38;5;241m=\u001b[39m np\u001b[38;5;241m.\u001b[39mzeros(\u001b[38;5;241m9\u001b[39m,\u001b[38;5;28mint\u001b[39m)\u001b[38;5;241m.\u001b[39mreshape(\u001b[38;5;241m3\u001b[39m,\u001b[38;5;241m3\u001b[39m)\n\u001b[1;32m      3\u001b[0m \u001b[38;5;28;01mwhile\u001b[39;00m \u001b[38;5;28;01mTrue\u001b[39;00m:\n\u001b[0;32m----> 4\u001b[0m         h \u001b[38;5;241m=\u001b[39m \u001b[38;5;28mint\u001b[39m(\u001b[38;5;28;43minput\u001b[39;49m\u001b[43m(\u001b[49m\u001b[38;5;124;43m'\u001b[39;49m\u001b[38;5;124;43m행 입력\u001b[39;49m\u001b[38;5;124;43m'\u001b[39;49m\u001b[43m)\u001b[49m)\n\u001b[1;32m      6\u001b[0m         v \u001b[38;5;241m=\u001b[39m \u001b[38;5;28mint\u001b[39m(\u001b[38;5;28minput\u001b[39m(\u001b[38;5;124m'\u001b[39m\u001b[38;5;124m열 입력\u001b[39m\u001b[38;5;124m'\u001b[39m))\n\u001b[1;32m      8\u001b[0m         \u001b[38;5;28;01mif\u001b[39;00m h \u001b[38;5;241m>\u001b[39m \u001b[38;5;241m3\u001b[39m \u001b[38;5;129;01mor\u001b[39;00m h \u001b[38;5;241m<\u001b[39m\u001b[38;5;241m=\u001b[39m \u001b[38;5;241m0\u001b[39m \u001b[38;5;129;01mor\u001b[39;00m v \u001b[38;5;241m>\u001b[39m \u001b[38;5;241m3\u001b[39m \u001b[38;5;129;01mor\u001b[39;00m v \u001b[38;5;241m<\u001b[39m\u001b[38;5;241m=\u001b[39m\u001b[38;5;241m0\u001b[39m:\n",
      "File \u001b[0;32m/opt/anaconda3/lib/python3.9/site-packages/ipykernel/kernelbase.py:1075\u001b[0m, in \u001b[0;36mKernel.raw_input\u001b[0;34m(self, prompt)\u001b[0m\n\u001b[1;32m   1071\u001b[0m \u001b[38;5;28;01mif\u001b[39;00m \u001b[38;5;129;01mnot\u001b[39;00m \u001b[38;5;28mself\u001b[39m\u001b[38;5;241m.\u001b[39m_allow_stdin:\n\u001b[1;32m   1072\u001b[0m     \u001b[38;5;28;01mraise\u001b[39;00m StdinNotImplementedError(\n\u001b[1;32m   1073\u001b[0m         \u001b[38;5;124m\"\u001b[39m\u001b[38;5;124mraw_input was called, but this frontend does not support input requests.\u001b[39m\u001b[38;5;124m\"\u001b[39m\n\u001b[1;32m   1074\u001b[0m     )\n\u001b[0;32m-> 1075\u001b[0m \u001b[38;5;28;01mreturn\u001b[39;00m \u001b[38;5;28;43mself\u001b[39;49m\u001b[38;5;241;43m.\u001b[39;49m\u001b[43m_input_request\u001b[49m\u001b[43m(\u001b[49m\n\u001b[1;32m   1076\u001b[0m \u001b[43m    \u001b[49m\u001b[38;5;28;43mstr\u001b[39;49m\u001b[43m(\u001b[49m\u001b[43mprompt\u001b[49m\u001b[43m)\u001b[49m\u001b[43m,\u001b[49m\n\u001b[1;32m   1077\u001b[0m \u001b[43m    \u001b[49m\u001b[38;5;28;43mself\u001b[39;49m\u001b[38;5;241;43m.\u001b[39;49m\u001b[43m_parent_ident\u001b[49m\u001b[43m[\u001b[49m\u001b[38;5;124;43m\"\u001b[39;49m\u001b[38;5;124;43mshell\u001b[39;49m\u001b[38;5;124;43m\"\u001b[39;49m\u001b[43m]\u001b[49m\u001b[43m,\u001b[49m\n\u001b[1;32m   1078\u001b[0m \u001b[43m    \u001b[49m\u001b[38;5;28;43mself\u001b[39;49m\u001b[38;5;241;43m.\u001b[39;49m\u001b[43mget_parent\u001b[49m\u001b[43m(\u001b[49m\u001b[38;5;124;43m\"\u001b[39;49m\u001b[38;5;124;43mshell\u001b[39;49m\u001b[38;5;124;43m\"\u001b[39;49m\u001b[43m)\u001b[49m\u001b[43m,\u001b[49m\n\u001b[1;32m   1079\u001b[0m \u001b[43m    \u001b[49m\u001b[43mpassword\u001b[49m\u001b[38;5;241;43m=\u001b[39;49m\u001b[38;5;28;43;01mFalse\u001b[39;49;00m\u001b[43m,\u001b[49m\n\u001b[1;32m   1080\u001b[0m \u001b[43m\u001b[49m\u001b[43m)\u001b[49m\n",
      "File \u001b[0;32m/opt/anaconda3/lib/python3.9/site-packages/ipykernel/kernelbase.py:1120\u001b[0m, in \u001b[0;36mKernel._input_request\u001b[0;34m(self, prompt, ident, parent, password)\u001b[0m\n\u001b[1;32m   1117\u001b[0m             \u001b[38;5;28;01mbreak\u001b[39;00m\n\u001b[1;32m   1118\u001b[0m \u001b[38;5;28;01mexcept\u001b[39;00m \u001b[38;5;167;01mKeyboardInterrupt\u001b[39;00m:\n\u001b[1;32m   1119\u001b[0m     \u001b[38;5;66;03m# re-raise KeyboardInterrupt, to truncate traceback\u001b[39;00m\n\u001b[0;32m-> 1120\u001b[0m     \u001b[38;5;28;01mraise\u001b[39;00m \u001b[38;5;167;01mKeyboardInterrupt\u001b[39;00m(\u001b[38;5;124m\"\u001b[39m\u001b[38;5;124mInterrupted by user\u001b[39m\u001b[38;5;124m\"\u001b[39m) \u001b[38;5;28;01mfrom\u001b[39;00m \u001b[38;5;28mNone\u001b[39m\n\u001b[1;32m   1121\u001b[0m \u001b[38;5;28;01mexcept\u001b[39;00m \u001b[38;5;167;01mException\u001b[39;00m:\n\u001b[1;32m   1122\u001b[0m     \u001b[38;5;28mself\u001b[39m\u001b[38;5;241m.\u001b[39mlog\u001b[38;5;241m.\u001b[39mwarning(\u001b[38;5;124m\"\u001b[39m\u001b[38;5;124mInvalid Message:\u001b[39m\u001b[38;5;124m\"\u001b[39m, exc_info\u001b[38;5;241m=\u001b[39m\u001b[38;5;28;01mTrue\u001b[39;00m)\n",
      "\u001b[0;31mKeyboardInterrupt\u001b[0m: Interrupted by user"
     ]
    }
   ],
   "source": [
    "seat = np.zeros(9,int).reshape(3,3)\n",
    "\n",
    "while True:\n",
    "        h = int(input('행 입력'))\n",
    "            \n",
    "        v = int(input('열 입력'))\n",
    "\n",
    "        if h > 3 or h <= 0 or v > 3 or v <=0:\n",
    "            print('없는 좌석입니다.')\n",
    "        elif seat[h-1][v-1] == 1:\n",
    "            print('이미 예약 되어 있는 좌석입니다.')\n",
    "        elif h <= 3 or h > 0 or v <= 3 or v > 0:\n",
    "            seat[h-1][v-1] = 1\n",
    "            print('좌석이 예약 되었습니다.')\n",
    "        \n",
    "        for i in seat:\n",
    "            print()\n",
    "            for j in i:\n",
    "                if j == 0:\n",
    "                    print('◻︎', end='')\n",
    "                else:\n",
    "                    print('◼︎', end='')"
   ]
  },
  {
   "cell_type": "code",
   "execution_count": 26,
   "id": "1f0d3784",
   "metadata": {},
   "outputs": [
    {
     "name": "stdout",
     "output_type": "stream",
     "text": [
      "행 입력1\n",
      "열 입력1\n",
      "좌석이 예약 되었습니다.\n",
      "\n",
      "◼︎"
     ]
    },
    {
     "ename": "TypeError",
     "evalue": "'numpy.int64' object is not iterable",
     "output_type": "error",
     "traceback": [
      "\u001b[0;31m---------------------------------------------------------------------------\u001b[0m",
      "\u001b[0;31mTypeError\u001b[0m                                 Traceback (most recent call last)",
      "Input \u001b[0;32mIn [26]\u001b[0m, in \u001b[0;36m<cell line: 4>\u001b[0;34m()\u001b[0m\n\u001b[1;32m     21\u001b[0m \u001b[38;5;28;01melif\u001b[39;00m j \u001b[38;5;241m==\u001b[39m\u001b[38;5;241m1\u001b[39m:\n\u001b[1;32m     22\u001b[0m     \u001b[38;5;28mprint\u001b[39m(\u001b[38;5;124m'\u001b[39m\u001b[38;5;124m◼︎\u001b[39m\u001b[38;5;124m'\u001b[39m, end\u001b[38;5;241m=\u001b[39m\u001b[38;5;124m'\u001b[39m\u001b[38;5;124m'\u001b[39m)\n\u001b[0;32m---> 23\u001b[0m \u001b[38;5;28;01mif\u001b[39;00m \u001b[38;5;28;43msum\u001b[39;49m\u001b[43m(\u001b[49m\u001b[43mj\u001b[49m\u001b[43m)\u001b[49m \u001b[38;5;241m==\u001b[39m \u001b[38;5;241m9\u001b[39m:\n\u001b[1;32m     24\u001b[0m     \u001b[38;5;28;01mbreak\u001b[39;00m\n",
      "\u001b[0;31mTypeError\u001b[0m: 'numpy.int64' object is not iterable"
     ]
    }
   ],
   "source": [
    "seat = np.zeros(9,int).reshape(3,3)\n",
    "\n",
    "while True:\n",
    "        h = int(input('행 입력'))\n",
    "            \n",
    "        v = int(input('열 입력'))\n",
    "\n",
    "        if h > 3 or h <= 0 or v > 3 or v <=0:\n",
    "            print('없는 좌석입니다.')\n",
    "        elif seat[h-1][v-1] == 1:\n",
    "            print('이미 예약 되어 있는 좌석입니다.')\n",
    "        elif h <= 3 or h > 0 or v <= 3 or v > 0:\n",
    "            seat[h-1][v-1] = 1\n",
    "            print('좌석이 예약 되었습니다.')\n",
    "        \n",
    "        for i in seat:\n",
    "            print()\n",
    "            for j in i:\n",
    "                if j == 0:\n",
    "                    print('◻︎', end='')\n",
    "                elif j ==1:\n",
    "                    print('◼︎', end='')\n",
    "                "
   ]
  },
  {
   "cell_type": "code",
   "execution_count": null,
   "id": "fdfed2f5",
   "metadata": {},
   "outputs": [],
   "source": [
    "seat = np.zeros(9,int).reshape(3,3)\n",
    "for i in seat:\n",
    "    for j in i:\n",
    "        print(i[j])"
   ]
  },
  {
   "cell_type": "code",
   "execution_count": 29,
   "id": "0a063c59",
   "metadata": {},
   "outputs": [
    {
     "name": "stdout",
     "output_type": "stream",
     "text": [
      "[0 0 0]\n",
      "[0 0 0]\n",
      "[0 0 0]\n"
     ]
    }
   ],
   "source": [
    "seat = np.zeros(9,int).reshape(3,3)\n",
    "for i in seat:\n",
    "    print(i)"
   ]
  },
  {
   "cell_type": "code",
   "execution_count": 1,
   "id": "c6b31dd5",
   "metadata": {},
   "outputs": [],
   "source": [
    "#  숫자형 배열을 선언한후\n",
    "\n",
    "# for문과 if,else문만 사용해서 제일 큰값,제일 작은값, 중간값을 추출하기\n",
    "\n",
    "# 예시) int [] array= {1,2,3,4,5}\n",
    "\n",
    "# ■출력예시:\n",
    "\n",
    "# 제일 큰 값은 5 입니다.\n",
    "\n",
    "# 제일 작은 값은 1입니다.\n",
    "\n",
    "# 중간값은 3입니다."
   ]
  },
  {
   "cell_type": "code",
   "execution_count": 36,
   "id": "1d9fbda5",
   "metadata": {},
   "outputs": [
    {
     "ename": "TypeError",
     "evalue": "can only concatenate list (not \"int\") to list",
     "output_type": "error",
     "traceback": [
      "\u001b[0;31m---------------------------------------------------------------------------\u001b[0m",
      "\u001b[0;31mTypeError\u001b[0m                                 Traceback (most recent call last)",
      "Input \u001b[0;32mIn [36]\u001b[0m, in \u001b[0;36m<cell line: 9>\u001b[0;34m()\u001b[0m\n\u001b[1;32m      6\u001b[0m a \u001b[38;5;241m=\u001b[39m [\u001b[38;5;241m13\u001b[39m,\u001b[38;5;241m8\u001b[39m,\u001b[38;5;241m31\u001b[39m,\u001b[38;5;241m7\u001b[39m,\u001b[38;5;241m52\u001b[39m,\u001b[38;5;241m73\u001b[39m,\u001b[38;5;241m9\u001b[39m,\u001b[38;5;241m15\u001b[39m,\u001b[38;5;241m92\u001b[39m,\u001b[38;5;241m12\u001b[39m,\u001b[38;5;241m134\u001b[39m,\u001b[38;5;241m343\u001b[39m,\u001b[38;5;241m124\u001b[39m]\n\u001b[1;32m      8\u001b[0m \u001b[38;5;66;03m# if len(a)%2 == 1:\u001b[39;00m\n\u001b[0;32m----> 9\u001b[0m \u001b[38;5;28;01mfor\u001b[39;00m i \u001b[38;5;129;01min\u001b[39;00m \u001b[38;5;28mrange\u001b[39m(\u001b[38;5;28mlen\u001b[39m(\u001b[43ma\u001b[49m\u001b[38;5;241;43m+\u001b[39;49m\u001b[38;5;241;43m1\u001b[39;49m)):\n\u001b[1;32m     10\u001b[0m     \u001b[38;5;28;01mif\u001b[39;00m a[count] \u001b[38;5;241m>\u001b[39m\u001b[38;5;241m=\u001b[39m a[count\u001b[38;5;241m+\u001b[39m\u001b[38;5;241m1\u001b[39m]:\n\u001b[1;32m     11\u001b[0m         a_max \u001b[38;5;241m=\u001b[39m a[count]\n",
      "\u001b[0;31mTypeError\u001b[0m: can only concatenate list (not \"int\") to list"
     ]
    }
   ],
   "source": [
    "a_max = 0\n",
    "a_min = 0 \n",
    "a_mid = 0\n",
    "count = 0\n",
    "\n",
    "a = [13,8,31,7,52,73,9,15,92,12,134,343,124]\n",
    "\n",
    "# if len(a)%2 == 1:\n",
    "for i in :\n",
    "    if a[count] >= a[count+1]:\n",
    "        a_max = a[count]\n",
    "            \n",
    "#         if a[count] < i:\n",
    "#             a_min = a[count]\n",
    "    count += 1\n",
    "    print('최대값 = ', a_max)\n",
    "#     print('최소값 = ', a_min)"
   ]
  },
  {
   "cell_type": "code",
   "execution_count": 10,
   "id": "281b101d",
   "metadata": {},
   "outputs": [
    {
     "ename": "IndentationError",
     "evalue": "unexpected indent (2215244055.py, line 15)",
     "output_type": "error",
     "traceback": [
      "\u001b[0;36m  Input \u001b[0;32mIn [10]\u001b[0;36m\u001b[0m\n\u001b[0;31m    elif a[count1] > i:\u001b[0m\n\u001b[0m    ^\u001b[0m\n\u001b[0;31mIndentationError\u001b[0m\u001b[0;31m:\u001b[0m unexpected indent\n"
     ]
    }
   ],
   "source": [
    "a_max = 0\n",
    "a_min = 0 \n",
    "a_mid = 0\n",
    "count = 0\n",
    "count1 = 0\n",
    "\n",
    "a = [12,11,10,9,8,7,6,5,4,3,2,1,0,23]\n",
    "# if len(a)%2 == 1:\n",
    "for i in a:\n",
    "    for j in range(len(a)):    \n",
    "        if a[count] < i:\n",
    "            count += 1\n",
    "    print('최대값', a[count])\n",
    "        \n",
    "        elif a[count1] > i:\n",
    "            count += 1\n",
    "    print('최소값', a[count1])\n"
   ]
  },
  {
   "cell_type": "code",
   "execution_count": 61,
   "id": "f10fa031",
   "metadata": {},
   "outputs": [
    {
     "name": "stdout",
     "output_type": "stream",
     "text": [
      "최대값 86\n",
      "최소값 5\n",
      "중간값 [[56, 23]]\n"
     ]
    }
   ],
   "source": [
    "count = 0\n",
    "count1 = 0\n",
    "midArray = []\n",
    "\n",
    "a = [56,21,86,72,23,5]\n",
    "\n",
    "for i in a:\n",
    "    for j in range(len(a)):    \n",
    "        if a[count] < i:\n",
    "            count += 1\n",
    "print('최대값', a[count])\n",
    "for k in a:\n",
    "    for l in range(len(a)):\n",
    "        if a[count1] > k:\n",
    "            count1 += 1\n",
    "print('최소값', a[count1])\n",
    "\n",
    "if len(a) % 2 == 1:\n",
    "    a.sort()\n",
    "    mid = a[int((len(a)/2)-0.5)]\n",
    "    print('중간값', mid)\n",
    "else:\n",
    "    a.sort()\n",
    "    midArray.append([a[int(len(a)/2)], a[int(len(a)/2-1)]])\n",
    "    print('중간값', midArray)"
   ]
  },
  {
   "cell_type": "code",
   "execution_count": 16,
   "id": "01237d9d",
   "metadata": {},
   "outputs": [
    {
     "name": "stdout",
     "output_type": "stream",
     "text": [
      "최소값 3\n"
     ]
    }
   ],
   "source": [
    "count = 0\n",
    "count1 = 0\n",
    "\n",
    "\n",
    "a = [21,11,3,10,34,23]\n",
    "# if len(a)%2 == 1:\n",
    "for i in a:\n",
    "    for j in range(len(a)):    \n",
    "        if a[count] > i:\n",
    "            count += 1\n",
    "print('최소값', a[count])"
   ]
  },
  {
   "cell_type": "code",
   "execution_count": 43,
   "id": "774377ac",
   "metadata": {},
   "outputs": [
    {
     "name": "stdout",
     "output_type": "stream",
     "text": [
      "21\n"
     ]
    }
   ],
   "source": [
    "a = [21,11,3,10,34,23,33]\n",
    "x = a.sort()\n",
    "\n",
    "if len(a) % 2 == 1:\n",
    "    mid = a[int((len(a)/2)-0.5)]\n",
    "print(mid)"
   ]
  },
  {
   "cell_type": "code",
   "execution_count": 17,
   "id": "6d77ec38",
   "metadata": {},
   "outputs": [],
   "source": [
    "q = []\n",
    "q.append(1)\n",
    "q.append(3)\n",
    "q.append(5)\n",
    "q.append(1)"
   ]
  },
  {
   "cell_type": "code",
   "execution_count": 19,
   "id": "d7d1c318",
   "metadata": {},
   "outputs": [
    {
     "data": {
      "text/plain": [
       "1"
      ]
     },
     "execution_count": 19,
     "metadata": {},
     "output_type": "execute_result"
    }
   ],
   "source": [
    "q[0]"
   ]
  },
  {
   "cell_type": "code",
   "execution_count": 22,
   "id": "b457cdf9",
   "metadata": {},
   "outputs": [
    {
     "data": {
      "text/plain": [
       "3"
      ]
     },
     "execution_count": 22,
     "metadata": {},
     "output_type": "execute_result"
    }
   ],
   "source": [
    "q.pop(0)"
   ]
  },
  {
   "cell_type": "code",
   "execution_count": 23,
   "id": "fe139716",
   "metadata": {},
   "outputs": [
    {
     "data": {
      "text/plain": [
       "[5, 1]"
      ]
     },
     "execution_count": 23,
     "metadata": {},
     "output_type": "execute_result"
    }
   ],
   "source": [
    "q"
   ]
  },
  {
   "cell_type": "code",
   "execution_count": 1,
   "id": "40fbf4ea",
   "metadata": {},
   "outputs": [],
   "source": [
    "c = ['(())())',\n",
    "    '(((()())()',\n",
    "    '(()())((()))',\n",
    "    '((()()(()))(((())))()',\n",
    "    '()()()()(()()())()',\n",
    "   ' (()((())()(',\n",
    "    '((',\n",
    "    '))',\n",
    "    '())(()',]"
   ]
  },
  {
   "cell_type": "code",
   "execution_count": 2,
   "id": "2326d84e",
   "metadata": {},
   "outputs": [
    {
     "data": {
      "text/plain": [
       "['(())())',\n",
       " '(((()())()',\n",
       " '(()())((()))',\n",
       " '((()()(()))(((())))()',\n",
       " '()()()()(()()())()',\n",
       " ' (()((())()(',\n",
       " '((',\n",
       " '))',\n",
       " '())(()']"
      ]
     },
     "execution_count": 2,
     "metadata": {},
     "output_type": "execute_result"
    }
   ],
   "source": [
    "c"
   ]
  },
  {
   "cell_type": "code",
   "execution_count": 4,
   "id": "79d7f4e7",
   "metadata": {},
   "outputs": [
    {
     "data": {
      "text/plain": [
       "'())(()'"
      ]
     },
     "execution_count": 4,
     "metadata": {},
     "output_type": "execute_result"
    }
   ],
   "source": [
    "c.pop()"
   ]
  },
  {
   "cell_type": "code",
   "execution_count": 5,
   "id": "0693ae66",
   "metadata": {},
   "outputs": [
    {
     "data": {
      "text/plain": [
       "['(())())',\n",
       " '(((()())()',\n",
       " '(()())((()))',\n",
       " '((()()(()))(((())))()',\n",
       " '()()()()(()()())()',\n",
       " ' (()((())()(',\n",
       " '((',\n",
       " '))']"
      ]
     },
     "execution_count": 5,
     "metadata": {},
     "output_type": "execute_result"
    }
   ],
   "source": [
    "c"
   ]
  },
  {
   "cell_type": "code",
   "execution_count": 6,
   "id": "3cc6ad3d",
   "metadata": {},
   "outputs": [
    {
     "data": {
      "text/plain": [
       "'(())())'"
      ]
     },
     "execution_count": 6,
     "metadata": {},
     "output_type": "execute_result"
    }
   ],
   "source": [
    "c.pop(0)"
   ]
  },
  {
   "cell_type": "code",
   "execution_count": 17,
   "id": "3564fb37",
   "metadata": {},
   "outputs": [],
   "source": [
    "c = [1,2,3,5,6,7]\n",
    "em =[1]"
   ]
  },
  {
   "cell_type": "code",
   "execution_count": 24,
   "id": "abf9ab38",
   "metadata": {},
   "outputs": [
    {
     "data": {
      "text/plain": [
       "1"
      ]
     },
     "execution_count": 24,
     "metadata": {},
     "output_type": "execute_result"
    }
   ],
   "source": [
    "em and em[-1]"
   ]
  },
  {
   "cell_type": "code",
   "execution_count": 29,
   "id": "11d0db57",
   "metadata": {},
   "outputs": [],
   "source": [
    "ans = []\n",
    "c = ['(())())']\n",
    "for i in range(len(c)):\n",
    "    poped = c.pop(i)\n",
    "    ans.append(poped)\n",
    "    if poped == '(':\n",
    "        continue\n",
    "    elif poped == ')':\n",
    "        if ans[-1] == '(':\n",
    "            ans.pop\n",
    "            ans.pop\n",
    "            print(ans)"
   ]
  },
  {
   "cell_type": "code",
   "execution_count": null,
   "id": "a0d691cc",
   "metadata": {},
   "outputs": [],
   "source": [
    "if ans == []:\n",
    "    print('Yes')\n",
    "elif ans ==')' or ans == '(':\n",
    "    print('no')"
   ]
  },
  {
   "cell_type": "code",
   "execution_count": 126,
   "id": "dc7a5d00",
   "metadata": {},
   "outputs": [
    {
     "ename": "SyntaxError",
     "evalue": "unexpected EOF while parsing (1378917183.py, line 24)",
     "output_type": "error",
     "traceback": [
      "\u001b[0;36m  Input \u001b[0;32mIn [126]\u001b[0;36m\u001b[0m\n\u001b[0;31m    \u001b[0m\n\u001b[0m    ^\u001b[0m\n\u001b[0;31mSyntaxError\u001b[0m\u001b[0;31m:\u001b[0m unexpected EOF while parsing\n"
     ]
    }
   ],
   "source": [
    "# 리스트 c에서 가장 앞에 있는 괄호부터 차례로 하나씩 뽑음\n",
    "# 뽑은 괄호들을 리스트 ans에 차례대로 저장\n",
    "# 이때 가장 최신으로 뽑은 괄호가 ')'이면 그 전에 뽑은 괄호를 확인\n",
    "# 전에 뽑은 괄호가 '('이면 두 괄호를 둘 다 삭제\n",
    "# 과정은 완료했을 때 남은 괄호가 없다면 yes출력\n",
    "# 괄호가 남았다면 no 출력\n",
    "\n",
    "\n",
    "\n",
    "ans = []\n",
    "c = ['()()()']\n",
    "for i in c:\n",
    "    for j in i:\n",
    "        poped = j\n",
    "        if poped == '(':\n",
    "            ans.append(poped)\n",
    "        elif poped == ')':\n",
    "            try:\n",
    "                if ans[-1] == '(':\n",
    "                    ans.pop()\n",
    "                    \n",
    "#             except:\n",
    "#                 print('no')\n",
    "                "
   ]
  },
  {
   "cell_type": "code",
   "execution_count": 156,
   "id": "63757e51",
   "metadata": {},
   "outputs": [
    {
     "name": "stdout",
     "output_type": "stream",
     "text": [
      "no\n",
      "no\n",
      "no\n",
      "no\n"
     ]
    }
   ],
   "source": [
    "# 리스트 c에서 가장 앞에 있는 괄호부터 차례로 하나씩 뽑음\n",
    "# 뽑은 괄호들을 리스트 ans에 차례대로 저장\n",
    "# 이때 가장 최신으로 뽑은 괄호가 ')'이면 그 전에 뽑은 괄호를 확인\n",
    "# 전에 뽑은 괄호가 '('이면 두 괄호를 둘 다 삭제\n",
    "# 과정은 완료했을 때 남은 괄호가 없다면 yes출력\n",
    "# 괄호가 남았다면 no 출력\n",
    "\n",
    "ans = []\n",
    "c = ['(())(())']\n",
    "for i in c:\n",
    "    for j in i:\n",
    "        poped = j\n",
    "        if poped == '(':\n",
    "            ans.append(poped)\n",
    "        elif poped == ')':\n",
    "            if ans == '(':\n",
    "                ans.pop()\n",
    "            else:\n",
    "                print('no')\n",
    "                \n",
    "if ans == []:\n",
    "    print('yes')\n",
    "\n",
    "# try:\n",
    "#     if ans == []:\n",
    "#         print('yes')\n",
    "#     else:\n",
    "#         print('no')\n",
    "# except:\n",
    "#     print('no')"
   ]
  },
  {
   "cell_type": "code",
   "execution_count": 178,
   "id": "e428860c",
   "metadata": {},
   "outputs": [
    {
     "name": "stdout",
     "output_type": "stream",
     "text": [
      "yes\n"
     ]
    }
   ],
   "source": [
    "ans = []\n",
    "c = ['()()()()(()()())()']\n",
    "try:\n",
    "    for i in c:\n",
    "        for j in i:\n",
    "            if j == '(':\n",
    "                ans.append(j)\n",
    "            elif j == ')':\n",
    "                if ans[-1] == '(':\n",
    "                    ans.pop()\n",
    "\n",
    "    if ans == []:\n",
    "        print('yes')\n",
    "    else:\n",
    "        print('no')\n",
    "except:\n",
    "    print('no')"
   ]
  },
  {
   "cell_type": "code",
   "execution_count": 183,
   "id": "c62957e8",
   "metadata": {},
   "outputs": [
    {
     "name": "stdout",
     "output_type": "stream",
     "text": [
      "yes\n"
     ]
    }
   ],
   "source": [
    "ans = []\n",
    "c = ['()()()()(()()())(())()']\n",
    "try:\n",
    "    for i in c:\n",
    "        for j in i:\n",
    "            if j == '(':\n",
    "                ans.append(j)\n",
    "            elif j == ')':\n",
    "                if ans[-1] == '(':\n",
    "                    ans.pop()\n",
    "\n",
    "    if ans == []:\n",
    "        print('yes')\n",
    "    else:\n",
    "        print('no')\n",
    "except:\n",
    "    print('no')\n",
    "                \n"
   ]
  },
  {
   "cell_type": "code",
   "execution_count": 150,
   "id": "0dc25cee",
   "metadata": {},
   "outputs": [
    {
     "data": {
      "text/plain": [
       "7"
      ]
     },
     "execution_count": 150,
     "metadata": {},
     "output_type": "execute_result"
    }
   ],
   "source": [
    "c = ['0','2','3','5',7]\n",
    "c[-1]"
   ]
  },
  {
   "cell_type": "code",
   "execution_count": 88,
   "id": "22743f1b",
   "metadata": {},
   "outputs": [
    {
     "name": "stdout",
     "output_type": "stream",
     "text": [
      "dfe\n"
     ]
    }
   ],
   "source": [
    "s = 'dfgde'\n",
    "ns = s[:2] + s[4:]\n",
    "print(ns)"
   ]
  },
  {
   "cell_type": "code",
   "execution_count": 25,
   "id": "5e3301d4",
   "metadata": {},
   "outputs": [],
   "source": [
    "board = [[1,2,0,0,0],[3,4,4,0,0],[5,2,3,5,0],[1,2,0,0,0],[5,4,5,1,0]]\n",
    "moves = [1,5,3,5]\n",
    "bucket = []\n",
    "cnt = 0"
   ]
  },
  {
   "cell_type": "code",
   "execution_count": 15,
   "id": "4a9cf574",
   "metadata": {},
   "outputs": [
    {
     "name": "stdout",
     "output_type": "stream",
     "text": [
      "1\n",
      "5\n",
      "3\n",
      "5\n"
     ]
    }
   ],
   "source": [
    "for i in moves:\n",
    "    print(i)"
   ]
  },
  {
   "cell_type": "code",
   "execution_count": 12,
   "id": "87b3ecf2",
   "metadata": {},
   "outputs": [
    {
     "ename": "IndentationError",
     "evalue": "expected an indented block (3323562653.py, line 5)",
     "output_type": "error",
     "traceback": [
      "\u001b[0;36m  Input \u001b[0;32mIn [12]\u001b[0;36m\u001b[0m\n\u001b[0;31m    if board[-(j+1)] != 0:\u001b[0m\n\u001b[0m    ^\u001b[0m\n\u001b[0;31mIndentationError\u001b[0m\u001b[0;31m:\u001b[0m expected an indented block\n"
     ]
    }
   ],
   "source": [
    "def solution(board, moves):\n",
    "    for i in moves:\n",
    "        if i < len(board):\n",
    "            for j in range(len(board)): #board는 정사각형이기 때문에 보드의 length만큼 반복을 돌려도 좊이만큼 반복 됨. \n",
    "                \n",
    "                if board[i-1][-(j+1)] == 0:\n",
    "                    continue\n",
    "                    \n",
    "                elif board[i-1][-(j+1)] != 0:\n",
    "                    board[i-1].pop()\n",
    "                    board[i-1].append(0)\n",
    "                    break\n",
    "                \n",
    "                    \n",
    "        else:\n",
    "            continue\n",
    "                \n",
    "#     answer = 0\n",
    "#     return answer"
   ]
  },
  {
   "cell_type": "code",
   "execution_count": 55,
   "id": "4d55123c",
   "metadata": {},
   "outputs": [],
   "source": [
    "board = [[1,2,0,0,0],[3,4,4,0,0],[5,2,3,5,0],[1,2,0,0,0],[5,4,5,1,0]]\n",
    "moves = [1,5,3,5]\n",
    "bucket = []\n",
    "cnt = 0"
   ]
  },
  {
   "cell_type": "code",
   "execution_count": 54,
   "id": "14f77b81",
   "metadata": {},
   "outputs": [],
   "source": [
    "def solution(board, moves):\n",
    "    for i in moves:\n",
    "        if i < len(board):\n",
    "            for j in range(len(board)): #board는 정사각형이기 때문에 보드의 length만큼 반복을 돌려도 좊이만큼 반복 됨. \n",
    "                \n",
    "                if board[i-1][-(j+1)] == 0:\n",
    "                    continue\n",
    "                    \n",
    "                elif board[i-1][-(j+1)] != 0:\n",
    "                    picked = board[i-1].pop()\n",
    "#                     board[i-1].append(0)\n",
    "                    bucket.append(picked)\n",
    "                    break\n",
    "        else:\n",
    "            continue\n",
    "    return bucket"
   ]
  },
  {
   "cell_type": "code",
   "execution_count": 76,
   "id": "c0e7c406",
   "metadata": {},
   "outputs": [],
   "source": [
    "board = [[1,2,0,0,0],[3,4,4,0,0],[5,2,3,5,0],[1,2,0,0,0],[5,4,5,1,0]]\n",
    "moves = [1,5,3,5]\n",
    "bucket = []\n",
    "cnt = 0\n",
    "\n",
    "def solution(board, moves):\n",
    "    for i in moves:\n",
    "        if i < len(board):\n",
    "            for j in range(len(board)): #board는 정사각형이기 때문에 보드의 length만큼 반복을 돌려도 좊이만큼 반복 됨. \n",
    "                \n",
    "                if board[i-1][-(j+1)] == 0:\n",
    "                    pass\n",
    "                    \n",
    "                elif board[i-1][-(j+1)] != 0:\n",
    "                    bucket.append(board[i-1].pop())\n",
    "                    break\n",
    "    return bucket"
   ]
  },
  {
   "cell_type": "code",
   "execution_count": 77,
   "id": "19b3e8d3",
   "metadata": {},
   "outputs": [
    {
     "data": {
      "text/plain": [
       "[0, 0]"
      ]
     },
     "execution_count": 77,
     "metadata": {},
     "output_type": "execute_result"
    }
   ],
   "source": [
    "solution(board, moves)"
   ]
  },
  {
   "cell_type": "code",
   "execution_count": 121,
   "id": "22935ab4",
   "metadata": {},
   "outputs": [],
   "source": [
    "board = [[1,2,0,0,0],[3,4,4,0,0],[5,2,3,5,0],[1,2,0,0,0],[5,4,5,1,0]]\n",
    "moves = [1,5,3,5,2,3]\n",
    "bucket = []\n",
    "cnt = 0"
   ]
  },
  {
   "cell_type": "code",
   "execution_count": 119,
   "id": "7852d5ef",
   "metadata": {},
   "outputs": [
    {
     "data": {
      "text/plain": [
       "[0, 0, 0, 1, 0, 5]"
      ]
     },
     "execution_count": 119,
     "metadata": {},
     "output_type": "execute_result"
    }
   ],
   "source": [
    "for i in moves:\n",
    "    for j in range(len(board)): #board는 정사각형이기 때문에 보드의 length만큼 반복을 돌려도 좊이만큼 반복 됨.         \n",
    "        if board[i-1][-(j+1)] != 0:\n",
    "            bucket.append(board[i-1].pop())\n",
    "            break\n",
    "        elif board[i-1][-(j+1)] == 0:\n",
    "            continue\n",
    "bucket"
   ]
  },
  {
   "cell_type": "code",
   "execution_count": 128,
   "id": "97492090",
   "metadata": {},
   "outputs": [
    {
     "name": "stdout",
     "output_type": "stream",
     "text": [
      "2\n",
      "1\n",
      "1\n",
      "5\n",
      "4\n",
      "5\n",
      "5\n",
      "3\n",
      "2\n",
      "5\n",
      "1\n",
      "5\n",
      "4\n",
      "5\n",
      "4\n",
      "4\n",
      "3\n",
      "5\n",
      "3\n",
      "2\n",
      "5\n"
     ]
    }
   ],
   "source": [
    "board = [[1,2,0,0,0],[3,4,4,0,0],[5,2,3,5,0],[1,2,0,0,0],[5,4,5,1,0]]\n",
    "moves = [1,5,3,5,2,3]\n",
    "bucket = []\n",
    "cnt = 0\n",
    "for i in moves:\n",
    "    for j in range(len(board)): #board는 정사각형이기 때문에 보드의 length만큼 반복을 돌려도 좊이만큼 반복 됨.         \n",
    "        if board[i-1][-(j+1)] != 0:\n",
    "            print(board[i-1][-(j+1)])            \n",
    "        elif board[i-1][-(j+1)] == 0:\n",
    "            pass\n",
    "            "
   ]
  },
  {
   "cell_type": "code",
   "execution_count": 129,
   "id": "a5c0c39f",
   "metadata": {},
   "outputs": [
    {
     "name": "stdout",
     "output_type": "stream",
     "text": [
      "2\n",
      "1\n",
      "5\n",
      "1\n",
      "4\n",
      "5\n"
     ]
    }
   ],
   "source": [
    "board = [[1,2,0,0,0],[3,4,4,0,0],[5,2,3,5,0],[1,2,0,0,0],[5,4,5,1,0]]\n",
    "moves = [1,5,3,5,2,3]\n",
    "bucket = []\n",
    "cnt = 0\n",
    "for i in moves:\n",
    "    for j in range(len(board)): #board는 정사각형이기 때문에 보드의 length만큼 반복을 돌려도 좊이만큼 반복 됨.         \n",
    "        if board[i-1][-(j+1)] != 0:\n",
    "            print(board[i-1][-(j+1)])\n",
    "            break\n",
    "        elif board[i-1][-(j+1)] == 0:\n",
    "            pass"
   ]
  },
  {
   "cell_type": "code",
   "execution_count": 133,
   "id": "4b63b36b",
   "metadata": {},
   "outputs": [
    {
     "name": "stdout",
     "output_type": "stream",
     "text": [
      "2\n",
      "1\n",
      "5\n",
      "5\n",
      "4\n",
      "3\n",
      "4\n",
      "5\n"
     ]
    }
   ],
   "source": [
    "board = [[1,2,0,0,0],[3,4,4,0,0],[5,2,3,5,0],[1,2,0,0,0],[5,4,5,1,0]]\n",
    "moves = [1,5,3,5,2,3,5,5]\n",
    "bucket = []\n",
    "cnt = 0\n",
    "for i in moves:\n",
    "    for j in range(len(board)): #board는 정사각형이기 때문에 보드의 length만큼 반복을 돌려도 좊이만큼 반복 됨.         \n",
    "        if board[i-1][-(j+1)] != 0:\n",
    "            print(board[i-1][-(j+1)])\n",
    "            board[i-1].pop(-(j+1))\n",
    "            break\n",
    "        elif board[i-1][-(j+1)] == 0:\n",
    "            pass"
   ]
  },
  {
   "cell_type": "code",
   "execution_count": 132,
   "id": "90404754",
   "metadata": {},
   "outputs": [
    {
     "data": {
      "text/plain": [
       "1"
      ]
     },
     "execution_count": 132,
     "metadata": {},
     "output_type": "execute_result"
    }
   ],
   "source": [
    "t=[1,2,3,4,5]\n",
    "t.pop(0)"
   ]
  },
  {
   "cell_type": "code",
   "execution_count": 147,
   "id": "a258ebd9",
   "metadata": {},
   "outputs": [
    {
     "name": "stdout",
     "output_type": "stream",
     "text": [
      "[2, 1, 5, 5, 4, 3, 4, 5]\n",
      "[[1, 0, 0, 0, 0], [3, 4, 0, 0, 0], [5, 2, 0, 0, 0], [1, 2, 0, 0, 0], [0, 0, 0, 0, 0]]\n"
     ]
    }
   ],
   "source": [
    "board = [[1,2,0,0,0],[3,4,4,0,0],[5,2,3,5,0],[1,2,0,0,0],[5,4,5,1,0]]\n",
    "moves = [1,5,3,5,2,3,5,5]\n",
    "bucket = []\n",
    "cnt = 0\n",
    "for i in moves:\n",
    "    for j in range(len(board)): #board는 정사각형이기 때문에 보드의 length만큼 반복을 돌려도 좊이만큼 반복 됨.         \n",
    "        if board[i-1][-(j+1)] != 0:\n",
    "            poped = board[i-1].pop(-(j+1))\n",
    "            board[i-1].append(0)\n",
    "            bucket.append(poped)\n",
    "            break\n",
    "        elif board[i-1][-(j+1)] == 0:\n",
    "            pass\n",
    "print(bucket)\n",
    "print(board)"
   ]
  },
  {
   "cell_type": "code",
   "execution_count": 2,
   "id": "6867485f",
   "metadata": {},
   "outputs": [
    {
     "name": "stdout",
     "output_type": "stream",
     "text": [
      "[2, 1, 5, 5, 4, 3, 4, 5]\n",
      "[[1, 0, 0, 0, 0], [3, 4, 0, 0, 0], [5, 2, 0, 0, 0], [1, 2, 0, 0, 0], [0, 0, 0, 0, 0]]\n"
     ]
    }
   ],
   "source": [
    "board = [[1,2,0,0,0],[3,4,4,0,0],[5,2,3,5,0],[1,2,0,0,0],[5,4,5,1,0]]\n",
    "moves = [1,5,3,5,2,3,5,5]\n",
    "bucket = []\n",
    "cnt = 0\n",
    "for i in moves:\n",
    "    for j in range(len(board)): #board는 정사각형이기 때문에 보드의 length만큼 반복을 돌려도 좊이만큼 반복 됨.         \n",
    "        if board[i-1][-(j+1)] != 0:\n",
    "            poped = board[i-1].pop(-(j+1))\n",
    "            board[i-1].append(0)\n",
    "            bucket.append(poped)\n",
    "            break\n",
    "        elif board[i-1][-(j+1)] == 0:\n",
    "            continue\n",
    "print(bucket)\n",
    "print(board)"
   ]
  },
  {
   "cell_type": "code",
   "execution_count": 149,
   "id": "4e92d508",
   "metadata": {},
   "outputs": [
    {
     "name": "stdout",
     "output_type": "stream",
     "text": [
      "8\n"
     ]
    }
   ],
   "source": [
    "board = [[1,2,0,0,0],[3,4,4,0,0],[5,2,3,5,0],[1,2,0,0,0],[5,4,5,1,0]]\n",
    "moves = [1,5,3,5,2,3,5,5]\n",
    "bucket = []\n",
    "cnt = 0\n",
    "for i in moves:\n",
    "    for j in range(len(board)): #board는 정사각형이기 때문에 보드의 length만큼 반복을 돌려도 좊이만큼 반복 됨.         \n",
    "        if board[i-1][-(j+1)] != 0:\n",
    "            poped = board[i-1].pop(-(j+1))\n",
    "            board[i-1].append(0)\n",
    "            bucket.append(poped)\n",
    "            try:\n",
    "                if bucket[-2] == poped:\n",
    "                    bucket.pop(-1)\n",
    "                    cnt += 2\n",
    "                else:\n",
    "                    continue\n",
    "            except:\n",
    "                continue\n",
    "                \n",
    "            break\n",
    "        elif board[i-1][-(j+1)] == 0:\n",
    "            pass\n",
    "        \n",
    "print(cnt)"
   ]
  },
  {
   "cell_type": "code",
   "execution_count": 15,
   "id": "3744cc86",
   "metadata": {},
   "outputs": [
    {
     "name": "stdout",
     "output_type": "stream",
     "text": [
      "[2, 1, 5, 4, 3, 4, 5, 2, 2]\n",
      "[[1, 0, 0, 0, 0], [3, 4, 0, 0, 0], [5, 0, 0, 0, 0], [1, 0, 0, 0, 0], [0, 0, 0, 0, 0]]\n",
      "2\n"
     ]
    }
   ],
   "source": [
    "board = [[1,2,0,0,0],[3,4,4,0,0],[5,2,3,5,0],[1,2,0,0,0],[5,4,5,1,0]]\n",
    "moves = [1,5,3,5,2,3,5,5,3,4]\n",
    "bucket = []\n",
    "cnt = 0\n",
    "for i in moves:\n",
    "    for j in range(len(board)): #board는 정사각형이기 때문에 보드의 length만큼 반복을 돌려도 좊이만큼 반복 됨.         \n",
    "        if board[i-1][-(j+1)] != 0:\n",
    "            poped = board[i-1].pop(-(j+1))\n",
    "            board[i-1].append(0)\n",
    "            bucket.append(poped)\n",
    "            break\n",
    "        elif board[i-1][-(j+1)] == 0:\n",
    "            pass\n",
    "        \n",
    "        try:\n",
    "            if bucket[-2] == poped:\n",
    "                bucket.pop()\n",
    "                cnt += 2\n",
    "        except:\n",
    "            continue\n",
    "print(bucket)\n",
    "print(board)\n",
    "print(cnt)"
   ]
  },
  {
   "cell_type": "code",
   "execution_count": 21,
   "id": "e3d4031c",
   "metadata": {},
   "outputs": [
    {
     "name": "stdout",
     "output_type": "stream",
     "text": [
      "[2, 1, 4, 3, 4, 5]\n",
      "[[1, 0, 0, 0, 0], [3, 4, 0, 0, 0], [5, 0, 0, 0, 0], [1, 0, 0, 0, 0], [0, 0, 0, 0, 0]]\n",
      "4\n"
     ]
    }
   ],
   "source": [
    "board = [[1,2,0,0,0],[3,4,4,0,0],[5,2,3,5,0],[1,2,0,0,0],[5,4,5,1,0]]\n",
    "moves = [1,5,3,5,2,3,5,5,3,4]\n",
    "bucket = []\n",
    "cnt = 0\n",
    "for i in moves:\n",
    "    for j in range(len(board)): #board는 정사각형이기 때문에 보드의 length만큼 반복을 돌려도 좊이만큼 반복 됨.         \n",
    "        if board[i-1][-(j+1)] != 0:\n",
    "            poped = board[i-1].pop(-(j+1))\n",
    "            board[i-1].append(0)\n",
    "            bucket.append(poped)\n",
    "            break\n",
    "        elif board[i-1][-(j+1)] == 0:\n",
    "            pass\n",
    "        \n",
    "for k in range(len(bucket)):\n",
    "    try:\n",
    "        if bucket[k-1] == bucket[k]:\n",
    "            del bucket[k-1]\n",
    "            del bucket[k-1]\n",
    "            cnt += 2\n",
    "    except:\n",
    "        continue\n",
    "print(bucket)\n",
    "print(board)\n",
    "print(cnt)"
   ]
  },
  {
   "cell_type": "code",
   "execution_count": 22,
   "id": "b49596ab",
   "metadata": {},
   "outputs": [
    {
     "name": "stdout",
     "output_type": "stream",
     "text": [
      "[2, 1, 5, 5, 4, 3, 4, 5, 2, 2]\n",
      "[[1, 0, 0, 0, 0], [3, 4, 0, 0, 0], [5, 0, 0, 0, 0], [1, 0, 0, 0, 0], [0, 0, 0, 0, 0]]\n"
     ]
    }
   ],
   "source": [
    "board = [[1,2,0,0,0],[3,4,4,0,0],[5,2,3,5,0],[1,2,0,0,0],[5,4,5,1,0]]\n",
    "moves = [1,5,3,5,2,3,5,5,3,4]\n",
    "bucket = []\n",
    "cnt = 0\n",
    "for i in moves:\n",
    "    for j in range(len(board)):         \n",
    "        if board[i-1][-(j+1)] != 0:\n",
    "            poped = board[i-1].pop(-(j+1))\n",
    "            board[i-1].append(0)\n",
    "            bucket.append(poped)\n",
    "            break\n",
    "        elif board[i-1][-(j+1)] == 0:\n",
    "            continue\n",
    "print(bucket)\n",
    "print(board)"
   ]
  },
  {
   "cell_type": "code",
   "execution_count": 20,
   "id": "5609dfc2",
   "metadata": {},
   "outputs": [
    {
     "data": {
      "text/plain": [
       "[3, 4, 6]"
      ]
     },
     "execution_count": 20,
     "metadata": {},
     "output_type": "execute_result"
    }
   ],
   "source": [
    "test"
   ]
  },
  {
   "cell_type": "code",
   "execution_count": 38,
   "id": "dae35fed",
   "metadata": {},
   "outputs": [],
   "source": [
    "def solution(board, moves):\n",
    "    bucket = []\n",
    "    answer = 0\n",
    "    for i in moves:\n",
    "        for j in range(len(board)): #board는 정사각형이기 때문에 보드의 length만큼 반복을 돌려도 좊이만큼 반복 됨.         \n",
    "            if board[i-1][-(j+1)] != 0:\n",
    "                poped = board[i-1].pop(-(j+1))\n",
    "                board[i-1].append(0)\n",
    "                bucket.append(poped)\n",
    "                break\n",
    "            elif board[i-1][-(j+1)] == 0:\n",
    "                continue\n",
    "\n",
    "    for k in range(len(bucket)):\n",
    "        try:\n",
    "            if bucket[k-1] == bucket[k]:\n",
    "                del bucket[k-1]\n",
    "                del bucket[k-1]\n",
    "                answer += 2\n",
    "        except:\n",
    "            continue\n",
    "\n",
    "    return answer, bucket, board"
   ]
  },
  {
   "cell_type": "code",
   "execution_count": 39,
   "id": "acfafde9",
   "metadata": {},
   "outputs": [
    {
     "data": {
      "text/plain": [
       "(4,\n",
       " [2, 1, 4, 3, 4, 5],\n",
       " [[1, 0, 0, 0, 0],\n",
       "  [3, 4, 0, 0, 0],\n",
       "  [5, 0, 0, 0, 0],\n",
       "  [1, 0, 0, 0, 0],\n",
       "  [0, 0, 0, 0, 0]])"
      ]
     },
     "execution_count": 39,
     "metadata": {},
     "output_type": "execute_result"
    }
   ],
   "source": [
    "board = [[1,2,0,0,0],[3,4,4,0,0],[5,2,3,5,0],[1,2,0,0,0],[5,4,5,1,0]]\n",
    "moves = [1,5,3,5,2,3,5,5,3,4]\n",
    "s = solution(board, moves)\n",
    "s"
   ]
  },
  {
   "cell_type": "code",
   "execution_count": 42,
   "id": "75b954fb",
   "metadata": {},
   "outputs": [
    {
     "data": {
      "text/plain": [
       "(2,\n",
       " [3, 3, 2],\n",
       " [[0, 0, 0, 0, 0],\n",
       "  [0, 0, 1, 0, 0],\n",
       "  [0, 2, 5, 0, 0],\n",
       "  [4, 2, 4, 4, 0],\n",
       "  [3, 5, 1, 0, 0]])"
      ]
     },
     "execution_count": 42,
     "metadata": {},
     "output_type": "execute_result"
    }
   ],
   "source": [
    "board1 = [[0,0,0,0,0],[0,0,1,0,3],[0,2,5,0,1],[4,2,4,4,2],[3,5,1,3,1]]\n",
    "moves1 = [1,5,3,5,1,2,1,4]\n",
    "s = solution(board1, moves1)\n",
    "s"
   ]
  },
  {
   "cell_type": "code",
   "execution_count": 47,
   "id": "bef0acc8",
   "metadata": {},
   "outputs": [],
   "source": [
    "def solution(board, moves):\n",
    "    bucket = []\n",
    "    answer = 0\n",
    "    for i in moves:\n",
    "        for j in range(len(board)): #board는 정사각형이기 때문에 보드의 length만큼 반복을 돌려도 좊이만큼 반복 됨.         \n",
    "            \n",
    "            if board[i-1][-(j+1)] == 0:\n",
    "                continue\n",
    "            elif board[i-1][-(j+1)] != 0:\n",
    "                poped = board[i-1].pop(-(j+1))\n",
    "                board[i-1].append(0)\n",
    "                bucket.append(poped)\n",
    "                break\n",
    "            \n",
    "    for k in range(len(bucket)):\n",
    "        try:\n",
    "            if bucket[k-1] == bucket[k]:\n",
    "                del bucket[k-1]\n",
    "                del bucket[k-1]\n",
    "                answer += 2\n",
    "        except:\n",
    "            continue\n",
    "\n",
    "    return answer, bucket, board"
   ]
  },
  {
   "cell_type": "code",
   "execution_count": 51,
   "id": "aeb9d440",
   "metadata": {},
   "outputs": [
    {
     "data": {
      "text/plain": [
       "(2,\n",
       " [3, 3],\n",
       " [[0, 0, 0, 0, 0],\n",
       "  [0, 0, 1, 0, 0],\n",
       "  [0, 2, 5, 0, 0],\n",
       "  [4, 2, 4, 4, 2],\n",
       "  [3, 5, 1, 0, 0]])"
      ]
     },
     "execution_count": 51,
     "metadata": {},
     "output_type": "execute_result"
    }
   ],
   "source": [
    "board1 = [[0,0,0,0,0],[0,0,1,0,3],[0,2,5,0,1],[4,2,4,4,2],[3,5,1,3,1]]\n",
    "moves1 = [1,5,3,5,1,2,1]\n",
    "s = solution(board1, moves1)\n",
    "s"
   ]
  },
  {
   "cell_type": "code",
   "execution_count": 66,
   "id": "d1d94f19",
   "metadata": {},
   "outputs": [],
   "source": [
    "def solution(board, moves):\n",
    "    bucket = []\n",
    "    answer = 0\n",
    "    for i in moves:\n",
    "        for j in range(len(board)): #board는 정사각형이기 때문에 보드의 length만큼 반복을 돌려도 좊이만큼 반복 됨.         \n",
    "            \n",
    "            if board[i-1][-(j+1)] == 0:\n",
    "                continue\n",
    "            elif board[i-1][-(j+1)] != 0:\n",
    "                poped = board[i-1].pop(-(j+1))\n",
    "                board[i-1].append(0)\n",
    "                try:\n",
    "                    if bucket[-1] != poped:\n",
    "                        bucket.append(poped)\n",
    "                    elif bucket[-1] == poped:\n",
    "                        bucket.pop()\n",
    "                        answer += 2\n",
    "                    break        \n",
    "                except:\n",
    "                    continue\n",
    "    return answer, board, bucket"
   ]
  },
  {
   "cell_type": "code",
   "execution_count": 67,
   "id": "99f4add2",
   "metadata": {},
   "outputs": [
    {
     "data": {
      "text/plain": [
       "(0,\n",
       " [[0, 0, 0, 0, 0],\n",
       "  [0, 0, 0, 0, 0],\n",
       "  [0, 0, 0, 0, 0],\n",
       "  [0, 0, 0, 0, 0],\n",
       "  [0, 0, 0, 0, 0]],\n",
       " [])"
      ]
     },
     "execution_count": 67,
     "metadata": {},
     "output_type": "execute_result"
    }
   ],
   "source": [
    "board1 = [[0,0,0,0,0],[0,0,1,0,3],[0,2,5,0,1],[4,2,4,4,2],[3,5,1,3,1]]\n",
    "moves1 = [1,5,3,5,1,2,1,4]\n",
    "s = solution(board1, moves1)\n",
    "s"
   ]
  },
  {
   "cell_type": "code",
   "execution_count": 109,
   "id": "5ff0ad35",
   "metadata": {},
   "outputs": [],
   "source": [
    "def solution(board, moves):\n",
    "    bucket = []\n",
    "    answer = 0\n",
    "    for i in moves:\n",
    "        for j in range(len(board)): #board는 정사각형이기 때문에 보드의 length만큼 반복을 돌려도 좊이만큼 반복 됨.         \n",
    "            \n",
    "            if board[i-1][-(j+1)] == 0:\n",
    "                continue\n",
    "            elif board[i-1][-(j+1)] != 0:\n",
    "                poped = board[i-1].pop(-(j+1))\n",
    "                board[i-1].append(0)\n",
    "                try:\n",
    "                    \n",
    "                    if bucket[-1] != poped:\n",
    "                        bucket.append(poped)\n",
    "                        break\n",
    "                    elif bucket[-1] == poped:\n",
    "                        bucket.pop()\n",
    "                        answer += 2\n",
    "                        break\n",
    "                except:\n",
    "                    continue\n",
    "    return answer, board, bucket"
   ]
  },
  {
   "cell_type": "code",
   "execution_count": 110,
   "id": "20b2bec0",
   "metadata": {},
   "outputs": [
    {
     "data": {
      "text/plain": [
       "(0,\n",
       " [[0, 0, 0, 0, 0],\n",
       "  [0, 0, 0, 0, 0],\n",
       "  [0, 0, 0, 0, 0],\n",
       "  [0, 0, 0, 0, 0],\n",
       "  [0, 0, 0, 0, 0]],\n",
       " [])"
      ]
     },
     "execution_count": 110,
     "metadata": {},
     "output_type": "execute_result"
    }
   ],
   "source": [
    "board1 = [[0,0,0,0,0],[0,0,1,0,3],[0,2,5,0,1],[4,2,4,4,2],[3,5,1,3,1]]\n",
    "moves1 = [1,5,3,5,1,2,1,4]\n",
    "s = solution(board1, moves1)\n",
    "s"
   ]
  },
  {
   "cell_type": "code",
   "execution_count": 1,
   "id": "79962bba",
   "metadata": {},
   "outputs": [],
   "source": [
    "def solution(board, moves):\n",
    "    bucket = []\n",
    "    answer = 0\n",
    "    for i in moves:\n",
    "        for j in range(len(board)): #board는 정사각형이기 때문에 보드의 length만큼 반복을 돌려도 좊이만큼 반복 됨.         \n",
    "            if board[i-1][-(j+1)] != 0:\n",
    "                poped = board[i-1].pop(-(j+1))\n",
    "                board[i-1].append(0)\n",
    "                bucket.append(poped)\n",
    "                break\n",
    "            elif board[i-1][-(j+1)] == 0:\n",
    "                continue\n",
    "\n",
    "    for k in range(len(bucket)):\n",
    "        try:\n",
    "            if bucket[k] == bucket[k+1]:\n",
    "                for l in range(2):\n",
    "                    bucket.pop(0)\n",
    "                answer += 2\n",
    "        except:\n",
    "            continue\n",
    "\n",
    "    return answer, bucket, board"
   ]
  },
  {
   "cell_type": "code",
   "execution_count": 2,
   "id": "d06777b6",
   "metadata": {},
   "outputs": [
    {
     "data": {
      "text/plain": [
       "(2,\n",
       " [3, 3, 2],\n",
       " [[0, 0, 0, 0, 0],\n",
       "  [0, 0, 1, 0, 0],\n",
       "  [0, 2, 5, 0, 0],\n",
       "  [4, 2, 4, 4, 0],\n",
       "  [3, 5, 1, 0, 0]])"
      ]
     },
     "execution_count": 2,
     "metadata": {},
     "output_type": "execute_result"
    }
   ],
   "source": [
    "board1 = [[0,0,0,0,0],[0,0,1,0,3],[0,2,5,0,1],[4,2,4,4,2],[3,5,1,3,1]]\n",
    "moves1 = [1,5,3,5,1,2,1,4]\n",
    "s = solution(board1, moves1)\n",
    "s"
   ]
  },
  {
   "cell_type": "code",
   "execution_count": 7,
   "id": "602cdef3",
   "metadata": {},
   "outputs": [],
   "source": [
    "def solution(board, moves):\n",
    "    bucket = []\n",
    "    answer = 0\n",
    "    number = 0\n",
    "    for i in moves:\n",
    "        for j in range(len(board)):         \n",
    "            if board[i-1][-(j+1)] != 0:\n",
    "                poped = board[i-1].pop(-(j+1))\n",
    "                board[i-1].append(0)\n",
    "                bucket.append(poped)\n",
    "                break\n",
    "            elif board[i-1][-(j+1)] == 0:\n",
    "                continue\n",
    "    for k in bucket:\n",
    "        if number - k != 0:\n",
    "            number = k\n",
    "        elif number - k == 0:\n",
    "            answer +=2\n",
    "            number = 0\n",
    "    return answer, bucket, board\n",
    "\n",
    "# number = 0에 bucket 안에 있는 수를 순서대로 뺴본다.\n",
    "# 뺀수가 만약 0이 아니라면 k를 넘버에 입력해준다.\n",
    "# nomber에 새로 들어온 수에 다음 수 k를 뺐을 때 0이 아니라면 같은 수가 아니므로 다음수를 넣어준다.\n",
    "# 만약 다음 수 k가 같은 수라면 뺴서 0이 나오므로 answer에 2를 더해주고 number를 0으로 바꿔주면 \n",
    "# 같은 두 수가 사라지고 2개가 더해진 것과 같은 효과가 나온다 "
   ]
  },
  {
   "cell_type": "code",
   "execution_count": 8,
   "id": "ce9c4d7c",
   "metadata": {},
   "outputs": [
    {
     "data": {
      "text/plain": [
       "(4,\n",
       " [1, 1, 3, 3, 2],\n",
       " [[0, 0, 0, 0, 0],\n",
       "  [0, 0, 1, 0, 0],\n",
       "  [0, 2, 5, 0, 0],\n",
       "  [4, 2, 4, 4, 0],\n",
       "  [3, 5, 1, 0, 0]])"
      ]
     },
     "execution_count": 8,
     "metadata": {},
     "output_type": "execute_result"
    }
   ],
   "source": [
    "board1 = [[0,0,0,0,0],[0,0,1,0,3],[0,2,5,0,1],[4,2,4,4,2],[3,5,1,3,1]]\n",
    "moves1 = [1,5,3,5,1,2,1,4]\n",
    "s = solution(board1, moves1)\n",
    "s"
   ]
  },
  {
   "cell_type": "code",
   "execution_count": 11,
   "id": "76b63bf1",
   "metadata": {},
   "outputs": [],
   "source": [
    "def solution(board, moves):\n",
    "    bucket = []\n",
    "    answer = 0\n",
    "    number = 0\n",
    "    for i in moves:\n",
    "        for j in range(len(board)):         \n",
    "            if board[i-1][-(j+1)] != 0:\n",
    "                poped = board[i-1].pop(-(j+1))\n",
    "                bucket.append(poped)\n",
    "                break\n",
    "            elif board[i-1][-(j+1)] == 0:\n",
    "                continue\n",
    "    for k in bucket:\n",
    "        if number - k != 0:\n",
    "            number = k\n",
    "        elif number - k == 0:\n",
    "            answer +=2\n",
    "            number = 0\n",
    "    return answer"
   ]
  },
  {
   "cell_type": "code",
   "execution_count": 19,
   "id": "5d54e6d2",
   "metadata": {},
   "outputs": [
    {
     "data": {
      "text/plain": [
       "(8,\n",
       " [1, 1, 3, 3, 2, 1, 1, 1, 1],\n",
       " [[0, 0, 0, 0, 0], [0, 0], [0, 2, 5, 0], [4, 2, 4, 4], [3, 5]])"
      ]
     },
     "execution_count": 19,
     "metadata": {},
     "output_type": "execute_result"
    }
   ],
   "source": [
    "board1 = [[0,0,0,0,0],[0,1,1,0,3],[0,2,5,0,1],[4,2,4,4,1,2],[3,5,1,3,1]]\n",
    "moves1 = [1,5,3,5,1,2,1,4,2,5,2,4]\n",
    "s = solution(board1, moves1)\n",
    "s"
   ]
  },
  {
   "cell_type": "code",
   "execution_count": null,
   "id": "9b835b99",
   "metadata": {},
   "outputs": [],
   "source": [
    "5 <= len(board) < 30"
   ]
  },
  {
   "cell_type": "code",
   "execution_count": 4,
   "id": "3187bdda",
   "metadata": {},
   "outputs": [],
   "source": [
    "def solution(board, moves):\n",
    "    bucket = []\n",
    "    answer = 0\n",
    "    number = 0\n",
    "    for i in moves:\n",
    "        for j in range(len(board)):         \n",
    "            if board[i-1][-(j+1)] != 0:\n",
    "                poped = board[i-1].pop(-(j+1))\n",
    "                bucket.append(poped)\n",
    "                break\n",
    "            elif board[i-1][-(j+1)] == 0:\n",
    "                continue\n",
    "    for k in bucket:\n",
    "        if number - k != 0:\n",
    "            number = k\n",
    "        elif number - k == 0:\n",
    "            answer +=2\n",
    "            number = 0\n",
    "    return answer, board, bucket"
   ]
  },
  {
   "cell_type": "code",
   "execution_count": 7,
   "id": "7bafa874",
   "metadata": {},
   "outputs": [
    {
     "data": {
      "text/plain": [
       "(4,\n",
       " [[0, 0, 0, 0, 0], [0, 1, 0], [0, 2, 5, 0], [4, 2, 4, 4, 1], [3, 5, 1]],\n",
       " [1, 1, 3, 3, 2, 1])"
      ]
     },
     "execution_count": 7,
     "metadata": {},
     "output_type": "execute_result"
    }
   ],
   "source": [
    "board1 = [[0,0,0,0,0],\n",
    "          [0,1,1,0,3],\n",
    "          [0,2,5,0,1],\n",
    "          [4,2,4,4,1],\n",
    "          [3,5,1,3,1]]\n",
    "moves1 = [1,5,3,5,1,2,1,4,2]\n",
    "s = solution(board1, moves1)\n",
    "s"
   ]
  },
  {
   "cell_type": "code",
   "execution_count": 5,
   "id": "108df528",
   "metadata": {},
   "outputs": [],
   "source": [
    "board1 = [[0,0,0,0,0],\n",
    "          [0,0,1,0,3],\n",
    "          [0,2,5,0,1],\n",
    "          [4,2,4,4,2],\n",
    "          [3,5,1,3,1]]"
   ]
  },
  {
   "cell_type": "code",
   "execution_count": 6,
   "id": "f3d7f971",
   "metadata": {},
   "outputs": [
    {
     "data": {
      "text/plain": [
       "[[0, 0, 0, 0, 0],\n",
       " [0, 0, 1, 0, 3],\n",
       " [0, 2, 5, 0, 1],\n",
       " [4, 2, 4, 4, 2],\n",
       " [3, 5, 1, 3, 1]]"
      ]
     },
     "execution_count": 6,
     "metadata": {},
     "output_type": "execute_result"
    }
   ],
   "source": [
    "board1"
   ]
  },
  {
   "cell_type": "code",
   "execution_count": null,
   "id": "45e0b67a",
   "metadata": {},
   "outputs": [],
   "source": [
    "def solution(board, moves):\n",
    "    bucket = []\n",
    "    answer = 0\n",
    "    number = 0\n",
    "    for i in moves:\n",
    "        for j in range(len(board)):         \n",
    "            if board[i-1][-(j+1)] != 0:\n",
    "                poped = board[i-1].pop(-(j+1))\n",
    "                bucket.append(poped)\n",
    "                break\n",
    "            elif board[i-1][-(j+1)] == 0:\n",
    "                continue\n",
    "    for k in bucket:\n",
    "        if number - k != 0:\n",
    "            number = k\n",
    "        elif number - k == 0:\n",
    "            answer +=2\n",
    "            number = 0\n",
    "    return answer, board, bucket"
   ]
  },
  {
   "cell_type": "code",
   "execution_count": 13,
   "id": "d49c1c9f",
   "metadata": {},
   "outputs": [
    {
     "data": {
      "text/plain": [
       "4"
      ]
     },
     "execution_count": 13,
     "metadata": {},
     "output_type": "execute_result"
    }
   ],
   "source": [
    "board1[3][3]"
   ]
  },
  {
   "cell_type": "code",
   "execution_count": 50,
   "id": "ffa60d63",
   "metadata": {
    "scrolled": true
   },
   "outputs": [
    {
     "name": "stdout",
     "output_type": "stream",
     "text": [
      "[]\n",
      "8\n"
     ]
    }
   ],
   "source": [
    "board1 = [[0,0,0,0,0],\n",
    "          [0,0,1,0,3],\n",
    "          [0,2,5,0,1],\n",
    "          [4,2,4,4,2],\n",
    "          [3,5,1,3,1]]\n",
    "moves1 = [1,5,3,5,1,2,1,4,2]\n",
    "bucket = []\n",
    "answer = 0\n",
    "while moves1:\n",
    "    move = moves1.pop(0)\n",
    "    for i in board1:\n",
    "        if i[move-1] != 0:\n",
    "            i[move-1] = 0\n",
    "            if bucket and bucket[-1] == i[move-1]:\n",
    "                bucket.pop()\n",
    "                answer += 2\n",
    "            else:\n",
    "                bucket.append(i[move-1])\n",
    "            break\n",
    "print(bucket)\n",
    "print(answer)"
   ]
  },
  {
   "cell_type": "code",
   "execution_count": null,
   "id": "89aa3387",
   "metadata": {},
   "outputs": [],
   "source": [
    "4,3,1,1,3,2,4,2"
   ]
  },
  {
   "cell_type": "code",
   "execution_count": 49,
   "id": "32fb6bc3",
   "metadata": {},
   "outputs": [
    {
     "name": "stdout",
     "output_type": "stream",
     "text": [
      "[4, 2, 4, 2]\n",
      "4\n"
     ]
    }
   ],
   "source": [
    "board1 = [[0,0,0,0,0],\n",
    "          [0,0,1,0,3],\n",
    "          [0,2,5,0,1],\n",
    "          [4,2,4,4,2],\n",
    "          [3,5,1,3,1]]\n",
    "moves1 = [1,5,3,5,1,2,1,4,2]\n",
    "bucket = []\n",
    "answer = 0\n",
    "from collections import deque\n",
    "\n",
    "moves = deque(moves1)\n",
    "\n",
    "\n",
    "while moves:\n",
    "    move = moves.popleft()\n",
    "    for i in range(len(board1)):\n",
    "        doll = board1[i][move-1]\n",
    "        if doll != 0:\n",
    "            board1[i][move-1] = 0\n",
    "            if bucket and bucket[-1] == doll:\n",
    "                bucket.pop()\n",
    "                answer += 2\n",
    "            else:\n",
    "                bucket.append(doll)\n",
    "            break\n",
    "print(bucket)\n",
    "print(answer)"
   ]
  },
  {
   "cell_type": "code",
   "execution_count": 58,
   "id": "8585f0b7",
   "metadata": {},
   "outputs": [],
   "source": [
    "def solution(board, moves):\n",
    "    \n",
    "    bucket = []\n",
    "    answer = 0\n",
    "    while moves:\n",
    "        move = moves.pop(0)\n",
    "        for i in board:\n",
    "            doll = i[move-1]\n",
    "            if doll != 0:\n",
    "                i[move-1] = 0\n",
    "                if bucket and bucket[-1] == doll:\n",
    "                    bucket.pop()\n",
    "                    answer += 2\n",
    "                else:\n",
    "                    bucket.append(doll)\n",
    "                break\n",
    "    return answer"
   ]
  },
  {
   "cell_type": "code",
   "execution_count": null,
   "id": "2e0337d3",
   "metadata": {},
   "outputs": [],
   "source": [
    "board1 = [[0,0,0,0,0],\n",
    "        [0,0,1,0,3],\n",
    "              [0,2,5,0,1],\n",
    "              [4,2,4,4,2],\n",
    "              [3,5,1,3,1]]\n",
    "    moves1 = [1,5,3,5,1,2,1,4,2]"
   ]
  },
  {
   "cell_type": "code",
   "execution_count": 59,
   "id": "0b56dc26",
   "metadata": {},
   "outputs": [
    {
     "name": "stdout",
     "output_type": "stream",
     "text": [
      "[4, 2, 4, 2]\n",
      "4\n"
     ]
    }
   ],
   "source": [
    "board1 = [[0,0,0,0,0],\n",
    "          [0,0,1,0,3],\n",
    "          [0,2,5,0,1],\n",
    "          [4,2,4,4,2],\n",
    "          [3,5,1,3,1]]\n",
    "moves1 = [1,5,3,5,1,2,1,4,2]\n",
    "    \n",
    "bucket = []\n",
    "answer = 0\n",
    "for i in range(len(moves1)):\n",
    "    move = moves1.pop(0)\n",
    "    for j in board1:\n",
    "        doll = j[move-1]\n",
    "        if doll != 0:\n",
    "            j[move-1] = 0\n",
    "            if bucket and bucket[-1] == doll:\n",
    "                bucket.pop()\n",
    "                answer += 2\n",
    "            else:\n",
    "                bucket.append(doll)\n",
    "            break\n",
    "print(bucket)\n",
    "print(answer)"
   ]
  },
  {
   "cell_type": "code",
   "execution_count": 60,
   "id": "4813da2e",
   "metadata": {},
   "outputs": [],
   "source": [
    "def solution(board1, moves1):\n",
    "    bucket = []\n",
    "    answer = 0\n",
    "    for i in range(len(moves1)):\n",
    "        move = moves1.pop(0)\n",
    "        for j in board1:\n",
    "            doll = j[move-1]\n",
    "            if doll != 0:\n",
    "                j[move-1] = 0\n",
    "                if bucket and bucket[-1] == doll:\n",
    "                    bucket.pop()\n",
    "                    answer += 2\n",
    "                else:\n",
    "                    bucket.append(doll)\n",
    "                break\n",
    "    return answer"
   ]
  },
  {
   "cell_type": "code",
   "execution_count": null,
   "id": "c93efc9e",
   "metadata": {},
   "outputs": [],
   "source": []
  }
 ],
 "metadata": {
  "kernelspec": {
   "display_name": "Python 3 (ipykernel)",
   "language": "python",
   "name": "python3"
  },
  "language_info": {
   "codemirror_mode": {
    "name": "ipython",
    "version": 3
   },
   "file_extension": ".py",
   "mimetype": "text/x-python",
   "name": "python",
   "nbconvert_exporter": "python",
   "pygments_lexer": "ipython3",
   "version": "3.9.12"
  }
 },
 "nbformat": 4,
 "nbformat_minor": 5
}
